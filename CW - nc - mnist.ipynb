{
 "cells": [
  {
   "cell_type": "markdown",
   "metadata": {
    "colab_type": "text",
    "id": "LNkOjKvuN6Ud"
   },
   "source": [
    "# CW + Diversity Regularization on CIFAR10"
   ]
  },
  {
   "cell_type": "code",
   "execution_count": 15,
   "metadata": {
    "colab": {},
    "colab_type": "code",
    "id": "yeR2kRlPR7v0"
   },
   "outputs": [
    {
     "name": "stdout",
     "output_type": "stream",
     "text": [
      "The autoreload extension is already loaded. To reload it, use:\n",
      "  %reload_ext autoreload\n",
      "CUDA is available!\n"
     ]
    }
   ],
   "source": [
    "import torch\n",
    "import torch.nn as nn\n",
    "from torch.utils.data.sampler import SubsetRandomSampler\n",
    "\n",
    "import torchvision\n",
    "import torchvision.transforms as transforms\n",
    "import torch.optim as optim\n",
    "\n",
    "import pickle\n",
    "import datetime\n",
    "import glob\n",
    "import os\n",
    "import warnings\n",
    "warnings.filterwarnings('ignore')\n",
    "\n",
    "import pandas as pd\n",
    "pd.set_option('display.max_rows', None)\n",
    "pd.set_option('precision', 10)\n",
    "\n",
    "# custom code imports\n",
    "from models import *\n",
    "from neuron_coverage import *\n",
    "\n",
    "import matplotlib.pyplot as plt\n",
    "%matplotlib inline\n",
    "\n",
    "%load_ext autoreload\n",
    "%autoreload 2\n",
    "\n",
    "device = torch.device(\"cpu\")\n",
    "if torch.cuda.is_available():\n",
    "    print('CUDA is available!')\n",
    "    device = torch.device(\"cuda\")\n",
    "else:\n",
    "    print('CUDA is not available...')"
   ]
  },
  {
   "cell_type": "markdown",
   "metadata": {},
   "source": [
    "# Load Data"
   ]
  },
  {
   "cell_type": "code",
   "execution_count": 16,
   "metadata": {
    "colab": {
     "base_uri": "https://localhost:8080/",
     "height": 255
    },
    "colab_type": "code",
    "id": "7l36L4F5VifU",
    "outputId": "71d1656c-b92d-4db1-993f-60ee9238a13b"
   },
   "outputs": [],
   "source": [
    "data_dir = 'C:\\data\\MNIST'\n",
    "\n",
    "classes = ['0', '1', '2', '3', '4', '5', '6', '7', '8', '9']\n",
    "\n",
    "if not os.path.exists(data_dir):\n",
    "    os.makedirs(data_dir)\n",
    "\n",
    "batch_size = 100 # determines how many of each class we want\n",
    "\n",
    "def get_same_index(targets, label):\n",
    "    '''\n",
    "    Returns indices corresponding to the target label\n",
    "    which the dataloader uses to serve downstream.\n",
    "    '''\n",
    "    label_indices = []\n",
    "    for i in range(len(targets)):\n",
    "        if targets[i] == label:\n",
    "            label_indices.append(i)\n",
    "    return label_indices\n",
    "\n",
    "\n",
    "dataset = torchvision.datasets.MNIST(root=data_dir, \n",
    "                                     train=False, \n",
    "                                     download=True,\n",
    "                                     transform=transforms.Compose([\n",
    "                                         transforms.ToTensor()\n",
    "                                     ]))\n",
    "\n",
    "test_loader = torch.utils.data.DataLoader(dataset,\n",
    "                                          batch_size=batch_size, \n",
    "                                          shuffle=False,\n",
    "                                          pin_memory=True)"
   ]
  },
  {
   "cell_type": "markdown",
   "metadata": {},
   "source": [
    "## Generate per class batches for NC evaluation"
   ]
  },
  {
   "cell_type": "code",
   "execution_count": 17,
   "metadata": {},
   "outputs": [],
   "source": [
    "# data = []\n",
    "# labels = []\n",
    "\n",
    "# for i in range(len(classes)):\n",
    "    \n",
    "#     target_indices = get_same_index(dataset.targets, i)\n",
    "    \n",
    "#     test_loader = torch.utils.data.DataLoader(dataset,\n",
    "#         batch_size=batch_size, \n",
    "#         sampler=torch.utils.data.sampler.SubsetRandomSampler(target_indices),\n",
    "#         shuffle=False,\n",
    "#         num_workers=2, \n",
    "#         pin_memory=True)\n",
    "    \n",
    "#     inputs, targets = next(iter(test_loader))\n",
    "    \n",
    "#     data.append(inputs)\n",
    "#     labels.append(targets)\n",
    "    \n",
    "# # torch.Size([10, batch_size, 1, 28, 28])\n",
    "# inputs = torch.stack(data).to(device)\n",
    "\n",
    "# # torch.Size([new_batch_size, 1, 28, 28])\n",
    "# new_batch_size = len(classes) * batch_size\n",
    "# all_inputs = inputs.view(new_batch_size,1,28,28)\n",
    "\n",
    "# # torch.Size([10, batch_size])\n",
    "# targets = torch.stack(labels).to(device)\n",
    "\n",
    "# # torch.Size([new_batch_size])\n",
    "# all_targets = targets.view(-1)"
   ]
  },
  {
   "cell_type": "code",
   "execution_count": 18,
   "metadata": {},
   "outputs": [],
   "source": [
    "# # confirm that all the images are still intact after reshaping the tensor view\n",
    "# orig_inputs = all_inputs.clone().cpu().detach().numpy()\n",
    "# for img in orig_inputs:\n",
    "#     plt.imshow(np.transpose(np.squeeze(img), (1, 2, 0))) \n",
    "#     plt.show()"
   ]
  },
  {
   "cell_type": "markdown",
   "metadata": {},
   "source": [
    "# Train or Load Pretrained Model if available"
   ]
  },
  {
   "cell_type": "code",
   "execution_count": 19,
   "metadata": {},
   "outputs": [
    {
     "data": {
      "text/plain": [
       "<torch._C.Generator at 0x1678624c070>"
      ]
     },
     "execution_count": 19,
     "metadata": {},
     "output_type": "execute_result"
    }
   ],
   "source": [
    "n_epochs = 10\n",
    "batch_size_train = 64\n",
    "batch_size_test = 100\n",
    "learning_rate = 0.01\n",
    "momentum = 0.5\n",
    "\n",
    "random_seed = 1\n",
    "torch.manual_seed(random_seed)"
   ]
  },
  {
   "cell_type": "code",
   "execution_count": 20,
   "metadata": {
    "scrolled": true
   },
   "outputs": [
    {
     "name": "stdout",
     "output_type": "stream",
     "text": [
      "loading model pretrained_models/mnist\\model_ConvNet_2019-07-25 16.16.26.580052_98.82.pth\n"
     ]
    }
   ],
   "source": [
    "retrain = False\n",
    "track_low_high = False\n",
    "\n",
    "model = ConvNet().to(device)\n",
    "optimizer = optim.SGD(model.parameters(), lr=learning_rate, momentum=momentum)\n",
    "\n",
    "# check to see if we can just load a previous model\n",
    "# %mkdir models\n",
    "latest_model = None\n",
    "m_type = model.__class__.__name__\n",
    "prev_models = glob.glob('pretrained_models/mnist/*'+ m_type +'*.pth')\n",
    "if prev_models:\n",
    "    latest_model = max(prev_models, key=os.path.getctime)\n",
    "\n",
    "if (retrain is False \n",
    "    and latest_model is not None \n",
    "    and m_type in latest_model):  \n",
    "    print('loading model', latest_model)\n",
    "    model.load_state_dict(torch.load(latest_model))  \n",
    "else:\n",
    "    if track_low_high:\n",
    "        model.init_dict(model.lowhigh_dict, inputs, 'relu', {'low': 0, 'high': 0})\n",
    "        try:\n",
    "            for epoch in range(1, n_epochs + 1):\n",
    "                model.hook_lowhigh_dict('relu')\n",
    "                train(model, device, train_loader, optimizer, epoch)\n",
    "                model.remove_hooks()\n",
    "                test(model, device, test_loader)    \n",
    "        finally:\n",
    "            model.remove_hooks()   \n",
    "    else:\n",
    "        for epoch in range(1, n_epochs + 1):\n",
    "            train(model, device, train_loader, optimizer, epoch)\n",
    "            acc = test(model, device, test_loader)  \n",
    "    torch.save(model.state_dict(), 'pretrained_models/mnist/model_' + m_type + '_' + str(datetime.datetime.now()).replace(':','.') + '_' + str(acc) + '.pth')"
   ]
  },
  {
   "cell_type": "markdown",
   "metadata": {},
   "source": [
    "## Evaluate per class and overall accuracy"
   ]
  },
  {
   "cell_type": "code",
   "execution_count": 78,
   "metadata": {},
   "outputs": [],
   "source": [
    "def get_acc(model, device, test_loader, sampler=False, class_idx=None, classes=None):\n",
    "    # model.eval()\n",
    "    correct = 0\n",
    "    with torch.no_grad():\n",
    "        for data, target in test_loader:\n",
    "            data, target = data.to(device), target.to(device)\n",
    "            output = model(data)\n",
    "            pred = output.argmax(dim=1, keepdim=True)\n",
    "            correct += pred.eq(target.view_as(pred)).sum().item()\n",
    "            \n",
    "    if sampler:\n",
    "        if class_idx is None:\n",
    "            raise Exception('you must provide an integer class index if sampler=True')\n",
    "        if classes is None:\n",
    "            raise Exception('you must provide an iterable of class indices if sampler=True')\n",
    "        values, counts = np.unique(test_loader.dataset.targets, return_counts=True) \n",
    "        divisor = counts[class_idx]\n",
    "        acc = 100. * correct / divisor\n",
    "        print(classes[class_idx] + '\\t accuracy: {}/{} ({:.2f}%)'.format(correct, divisor, acc))\n",
    "    else:\n",
    "        divisor = len(test_loader.dataset)\n",
    "        acc = 100. * correct / divisor\n",
    "        print('accuracy: {}/{} ({:.2f}%)'.format(correct, divisor, acc))"
   ]
  },
  {
   "cell_type": "code",
   "execution_count": 81,
   "metadata": {},
   "outputs": [
    {
     "name": "stdout",
     "output_type": "stream",
     "text": [
      "accuracy: 9882/10000 (98.82%)\n"
     ]
    }
   ],
   "source": [
    "# evaluate on total test set\n",
    "get_acc(model, device, test_loader)"
   ]
  },
  {
   "cell_type": "code",
   "execution_count": 60,
   "metadata": {},
   "outputs": [
    {
     "name": "stdout",
     "output_type": "stream",
     "text": [
      "0\t accuracy: 976/980 (99.59%)\n",
      "1\t accuracy: 1131/1135 (99.65%)\n",
      "2\t accuracy: 1021/1032 (98.93%)\n",
      "3\t accuracy: 994/1010 (98.42%)\n",
      "4\t accuracy: 980/982 (99.80%)\n",
      "5\t accuracy: 882/892 (98.88%)\n",
      "6\t accuracy: 950/958 (99.16%)\n",
      "7\t accuracy: 1004/1028 (97.67%)\n",
      "8\t accuracy: 961/974 (98.67%)\n",
      "9\t accuracy: 983/1009 (97.42%)\n"
     ]
    }
   ],
   "source": [
    "# evaluate on each class separately534+\n",
    "for i in range(len(classes)):\n",
    "    \n",
    "    target_indices = get_same_index(dataset.targets, i)\n",
    "    \n",
    "    test_loader = torch.utils.data.DataLoader(dataset,\n",
    "        batch_size=batch_size, \n",
    "        sampler=SubsetRandomSampler(target_indices),\n",
    "        shuffle=False,\n",
    "        pin_memory=True)\n",
    "    \n",
    "    get_acc(model, device, test_loader, sampler=True, class_idx=i, classes=classes)"
   ]
  },
  {
   "cell_type": "markdown",
   "metadata": {},
   "source": [
    "# Evaluating Neuron Coverage Per Class"
   ]
  },
  {
   "cell_type": "code",
   "execution_count": 24,
   "metadata": {
    "collapsed": true
   },
   "outputs": [
    {
     "data": {
      "application/vnd.jupyter.widget-view+json": {
       "model_id": "6e6e2e6da246405690278b3f880cf3be",
       "version_major": 2,
       "version_minor": 0
      },
      "text/plain": [
       "HBox(children=(IntProgress(value=0, max=7), HTML(value='')))"
      ]
     },
     "metadata": {},
     "output_type": "display_data"
    },
    {
     "name": "stdout",
     "output_type": "stream",
     "text": [
      "\n",
      "0 neuron_coverage_0.0 0.8260755336617406\n"
     ]
    },
    {
     "data": {
      "application/vnd.jupyter.widget-view+json": {
       "model_id": "96c8dd80fc084222bd0e4d315d056274",
       "version_major": 2,
       "version_minor": 0
      },
      "text/plain": [
       "HBox(children=(IntProgress(value=0, max=7), HTML(value='')))"
      ]
     },
     "metadata": {},
     "output_type": "display_data"
    },
    {
     "name": "stdout",
     "output_type": "stream",
     "text": [
      "\n",
      "0 neuron_coverage_0.1 0.26157635467980295\n"
     ]
    },
    {
     "data": {
      "application/vnd.jupyter.widget-view+json": {
       "model_id": "c614421cef74420a90be08d811c44525",
       "version_major": 2,
       "version_minor": 0
      },
      "text/plain": [
       "HBox(children=(IntProgress(value=0, max=7), HTML(value='')))"
      ]
     },
     "metadata": {},
     "output_type": "display_data"
    },
    {
     "name": "stdout",
     "output_type": "stream",
     "text": [
      "\n",
      "0 neuron_coverage_0.2 0.14870279146141216\n"
     ]
    },
    {
     "data": {
      "application/vnd.jupyter.widget-view+json": {
       "model_id": "2aba0fc1fe594ef7a8e6ce752e27a3fc",
       "version_major": 2,
       "version_minor": 0
      },
      "text/plain": [
       "HBox(children=(IntProgress(value=0, max=7), HTML(value='')))"
      ]
     },
     "metadata": {},
     "output_type": "display_data"
    },
    {
     "name": "stdout",
     "output_type": "stream",
     "text": [
      "\n",
      "0 neuron_coverage_0.3 0.09507389162561576\n"
     ]
    },
    {
     "data": {
      "application/vnd.jupyter.widget-view+json": {
       "model_id": "1bdc0f5b9a5f4247a031de80679026c7",
       "version_major": 2,
       "version_minor": 0
      },
      "text/plain": [
       "HBox(children=(IntProgress(value=0, max=7), HTML(value='')))"
      ]
     },
     "metadata": {},
     "output_type": "display_data"
    },
    {
     "name": "stdout",
     "output_type": "stream",
     "text": [
      "\n",
      "0 neuron_coverage_0.4 0.06505747126436781\n"
     ]
    },
    {
     "data": {
      "application/vnd.jupyter.widget-view+json": {
       "model_id": "6228eecc224948719a44479ea4a054a2",
       "version_major": 2,
       "version_minor": 0
      },
      "text/plain": [
       "HBox(children=(IntProgress(value=0, max=7), HTML(value='')))"
      ]
     },
     "metadata": {},
     "output_type": "display_data"
    },
    {
     "name": "stdout",
     "output_type": "stream",
     "text": [
      "\n",
      "0 neuron_coverage_0.5 0.043645320197044334\n"
     ]
    },
    {
     "data": {
      "application/vnd.jupyter.widget-view+json": {
       "model_id": "55e30b5389f44390ab6c411ca8f7a02a",
       "version_major": 2,
       "version_minor": 0
      },
      "text/plain": [
       "HBox(children=(IntProgress(value=0, max=7), HTML(value='')))"
      ]
     },
     "metadata": {},
     "output_type": "display_data"
    },
    {
     "name": "stdout",
     "output_type": "stream",
     "text": [
      "\n",
      "0 neuron_coverage_0.6 0.026502463054187193\n"
     ]
    },
    {
     "data": {
      "application/vnd.jupyter.widget-view+json": {
       "model_id": "63b603bc6ec648ffbf85f214fbd8a31c",
       "version_major": 2,
       "version_minor": 0
      },
      "text/plain": [
       "HBox(children=(IntProgress(value=0, max=7), HTML(value='')))"
      ]
     },
     "metadata": {},
     "output_type": "display_data"
    },
    {
     "name": "stdout",
     "output_type": "stream",
     "text": [
      "\n",
      "0 neuron_coverage_0.7 0.011264367816091954\n"
     ]
    },
    {
     "data": {
      "application/vnd.jupyter.widget-view+json": {
       "model_id": "7828e2cc7bb741799522ee735d6051ed",
       "version_major": 2,
       "version_minor": 0
      },
      "text/plain": [
       "HBox(children=(IntProgress(value=0, max=7), HTML(value='')))"
      ]
     },
     "metadata": {},
     "output_type": "display_data"
    },
    {
     "name": "stdout",
     "output_type": "stream",
     "text": [
      "\n",
      "0 neuron_coverage_0.8 0.002988505747126437\n"
     ]
    },
    {
     "data": {
      "application/vnd.jupyter.widget-view+json": {
       "model_id": "1654459db31e48bb8a23c99d26637c28",
       "version_major": 2,
       "version_minor": 0
      },
      "text/plain": [
       "HBox(children=(IntProgress(value=0, max=7), HTML(value='')))"
      ]
     },
     "metadata": {},
     "output_type": "display_data"
    },
    {
     "name": "stdout",
     "output_type": "stream",
     "text": [
      "\n",
      "0 neuron_coverage_0.9 0.0012151067323481117\n"
     ]
    },
    {
     "data": {
      "application/vnd.jupyter.widget-view+json": {
       "model_id": "cc77211250fb46439d52ec5a33b68f07",
       "version_major": 2,
       "version_minor": 0
      },
      "text/plain": [
       "HBox(children=(IntProgress(value=0, max=7), HTML(value='')))"
      ]
     },
     "metadata": {},
     "output_type": "display_data"
    },
    {
     "name": "stdout",
     "output_type": "stream",
     "text": [
      "\n",
      "1 neuron_coverage_0.0 0.7785878489326765\n"
     ]
    },
    {
     "data": {
      "application/vnd.jupyter.widget-view+json": {
       "model_id": "e228340197eb4f4eb9ad188adf6f8a84",
       "version_major": 2,
       "version_minor": 0
      },
      "text/plain": [
       "HBox(children=(IntProgress(value=0, max=7), HTML(value='')))"
      ]
     },
     "metadata": {},
     "output_type": "display_data"
    },
    {
     "name": "stdout",
     "output_type": "stream",
     "text": [
      "\n",
      "1 neuron_coverage_0.1 0.15261083743842366\n"
     ]
    },
    {
     "data": {
      "application/vnd.jupyter.widget-view+json": {
       "model_id": "c78844da5edf47f2b854458c95e69b34",
       "version_major": 2,
       "version_minor": 0
      },
      "text/plain": [
       "HBox(children=(IntProgress(value=0, max=7), HTML(value='')))"
      ]
     },
     "metadata": {},
     "output_type": "display_data"
    },
    {
     "name": "stdout",
     "output_type": "stream",
     "text": [
      "\n",
      "1 neuron_coverage_0.2 0.07678160919540229\n"
     ]
    },
    {
     "data": {
      "application/vnd.jupyter.widget-view+json": {
       "model_id": "50a64f741a4a4c8490f9e21858d61cea",
       "version_major": 2,
       "version_minor": 0
      },
      "text/plain": [
       "HBox(children=(IntProgress(value=0, max=7), HTML(value='')))"
      ]
     },
     "metadata": {},
     "output_type": "display_data"
    },
    {
     "name": "stdout",
     "output_type": "stream",
     "text": [
      "\n",
      "1 neuron_coverage_0.3 0.044696223316912975\n"
     ]
    },
    {
     "data": {
      "application/vnd.jupyter.widget-view+json": {
       "model_id": "b7f45ca536024fa685437be4730670ed",
       "version_major": 2,
       "version_minor": 0
      },
      "text/plain": [
       "HBox(children=(IntProgress(value=0, max=7), HTML(value='')))"
      ]
     },
     "metadata": {},
     "output_type": "display_data"
    },
    {
     "name": "stdout",
     "output_type": "stream",
     "text": [
      "\n",
      "1 neuron_coverage_0.4 0.03070607553366174\n"
     ]
    },
    {
     "data": {
      "application/vnd.jupyter.widget-view+json": {
       "model_id": "ac93e169e65f4a3d870b07c1cc1cad27",
       "version_major": 2,
       "version_minor": 0
      },
      "text/plain": [
       "HBox(children=(IntProgress(value=0, max=7), HTML(value='')))"
      ]
     },
     "metadata": {},
     "output_type": "display_data"
    },
    {
     "name": "stdout",
     "output_type": "stream",
     "text": [
      "\n",
      "1 neuron_coverage_0.5 0.021510673234811165\n"
     ]
    },
    {
     "data": {
      "application/vnd.jupyter.widget-view+json": {
       "model_id": "ac42fa2fee4a4a0bab8e06d25683c0a4",
       "version_major": 2,
       "version_minor": 0
      },
      "text/plain": [
       "HBox(children=(IntProgress(value=0, max=7), HTML(value='')))"
      ]
     },
     "metadata": {},
     "output_type": "display_data"
    },
    {
     "name": "stdout",
     "output_type": "stream",
     "text": [
      "\n",
      "1 neuron_coverage_0.6 0.015008210180623973\n"
     ]
    },
    {
     "data": {
      "application/vnd.jupyter.widget-view+json": {
       "model_id": "3d9f4b4e77d84f2ea2ae7ae9abe2d2d6",
       "version_major": 2,
       "version_minor": 0
      },
      "text/plain": [
       "HBox(children=(IntProgress(value=0, max=7), HTML(value='')))"
      ]
     },
     "metadata": {},
     "output_type": "display_data"
    },
    {
     "name": "stdout",
     "output_type": "stream",
     "text": [
      "\n",
      "1 neuron_coverage_0.7 0.00916256157635468\n"
     ]
    },
    {
     "data": {
      "application/vnd.jupyter.widget-view+json": {
       "model_id": "aec07b1f8b63478483d5f00ecde7eedb",
       "version_major": 2,
       "version_minor": 0
      },
      "text/plain": [
       "HBox(children=(IntProgress(value=0, max=7), HTML(value='')))"
      ]
     },
     "metadata": {},
     "output_type": "display_data"
    },
    {
     "name": "stdout",
     "output_type": "stream",
     "text": [
      "\n",
      "1 neuron_coverage_0.8 0.004499178981937603\n"
     ]
    },
    {
     "data": {
      "application/vnd.jupyter.widget-view+json": {
       "model_id": "62a0b75701b042a5bc2aae137331343a",
       "version_major": 2,
       "version_minor": 0
      },
      "text/plain": [
       "HBox(children=(IntProgress(value=0, max=7), HTML(value='')))"
      ]
     },
     "metadata": {},
     "output_type": "display_data"
    },
    {
     "name": "stdout",
     "output_type": "stream",
     "text": [
      "\n",
      "1 neuron_coverage_0.9 0.001477832512315271\n"
     ]
    },
    {
     "data": {
      "application/vnd.jupyter.widget-view+json": {
       "model_id": "3f026050cf5c4d6d9b6aa6d723735847",
       "version_major": 2,
       "version_minor": 0
      },
      "text/plain": [
       "HBox(children=(IntProgress(value=0, max=7), HTML(value='')))"
      ]
     },
     "metadata": {},
     "output_type": "display_data"
    },
    {
     "name": "stdout",
     "output_type": "stream",
     "text": [
      "\n",
      "2 neuron_coverage_0.0 0.8783251231527094\n"
     ]
    },
    {
     "data": {
      "application/vnd.jupyter.widget-view+json": {
       "model_id": "0949baa9931847b8ab5f973b51eb2394",
       "version_major": 2,
       "version_minor": 0
      },
      "text/plain": [
       "HBox(children=(IntProgress(value=0, max=7), HTML(value='')))"
      ]
     },
     "metadata": {},
     "output_type": "display_data"
    },
    {
     "name": "stdout",
     "output_type": "stream",
     "text": [
      "\n",
      "2 neuron_coverage_0.1 0.29628899835796385\n"
     ]
    },
    {
     "data": {
      "application/vnd.jupyter.widget-view+json": {
       "model_id": "273a5e73f67140dabadb28c5c41a7138",
       "version_major": 2,
       "version_minor": 0
      },
      "text/plain": [
       "HBox(children=(IntProgress(value=0, max=7), HTML(value='')))"
      ]
     },
     "metadata": {},
     "output_type": "display_data"
    },
    {
     "name": "stdout",
     "output_type": "stream",
     "text": [
      "\n",
      "2 neuron_coverage_0.2 0.1631527093596059\n"
     ]
    },
    {
     "data": {
      "application/vnd.jupyter.widget-view+json": {
       "model_id": "d8ff8210171f4943be6b6d63ede0bc06",
       "version_major": 2,
       "version_minor": 0
      },
      "text/plain": [
       "HBox(children=(IntProgress(value=0, max=7), HTML(value='')))"
      ]
     },
     "metadata": {},
     "output_type": "display_data"
    },
    {
     "name": "stdout",
     "output_type": "stream",
     "text": [
      "\n",
      "2 neuron_coverage_0.3 0.09536945812807882\n"
     ]
    },
    {
     "data": {
      "application/vnd.jupyter.widget-view+json": {
       "model_id": "0de5d1122eea4407b8b910b1dfebc0b8",
       "version_major": 2,
       "version_minor": 0
      },
      "text/plain": [
       "HBox(children=(IntProgress(value=0, max=7), HTML(value='')))"
      ]
     },
     "metadata": {},
     "output_type": "display_data"
    },
    {
     "name": "stdout",
     "output_type": "stream",
     "text": [
      "\n",
      "2 neuron_coverage_0.4 0.05921182266009852\n"
     ]
    },
    {
     "data": {
      "application/vnd.jupyter.widget-view+json": {
       "model_id": "13db61a98b464acab03637ed4589b2ec",
       "version_major": 2,
       "version_minor": 0
      },
      "text/plain": [
       "HBox(children=(IntProgress(value=0, max=7), HTML(value='')))"
      ]
     },
     "metadata": {},
     "output_type": "display_data"
    },
    {
     "name": "stdout",
     "output_type": "stream",
     "text": [
      "\n",
      "2 neuron_coverage_0.5 0.03760262725779967\n"
     ]
    },
    {
     "data": {
      "application/vnd.jupyter.widget-view+json": {
       "model_id": "944a6143fd20442991753da81c116645",
       "version_major": 2,
       "version_minor": 0
      },
      "text/plain": [
       "HBox(children=(IntProgress(value=0, max=7), HTML(value='')))"
      ]
     },
     "metadata": {},
     "output_type": "display_data"
    },
    {
     "name": "stdout",
     "output_type": "stream",
     "text": [
      "\n",
      "2 neuron_coverage_0.6 0.020853858784893268\n"
     ]
    },
    {
     "data": {
      "application/vnd.jupyter.widget-view+json": {
       "model_id": "4e6ff34e922e4291a7f12062c62b21d2",
       "version_major": 2,
       "version_minor": 0
      },
      "text/plain": [
       "HBox(children=(IntProgress(value=0, max=7), HTML(value='')))"
      ]
     },
     "metadata": {},
     "output_type": "display_data"
    },
    {
     "name": "stdout",
     "output_type": "stream",
     "text": [
      "\n",
      "2 neuron_coverage_0.7 0.009753694581280788\n"
     ]
    },
    {
     "data": {
      "application/vnd.jupyter.widget-view+json": {
       "model_id": "1e1bc5d163844f5186efacba178fb335",
       "version_major": 2,
       "version_minor": 0
      },
      "text/plain": [
       "HBox(children=(IntProgress(value=0, max=7), HTML(value='')))"
      ]
     },
     "metadata": {},
     "output_type": "display_data"
    },
    {
     "name": "stdout",
     "output_type": "stream",
     "text": [
      "\n",
      "2 neuron_coverage_0.8 0.003645320197044335\n"
     ]
    },
    {
     "data": {
      "application/vnd.jupyter.widget-view+json": {
       "model_id": "64d30fd33c1441d58a505a489aad89d6",
       "version_major": 2,
       "version_minor": 0
      },
      "text/plain": [
       "HBox(children=(IntProgress(value=0, max=7), HTML(value='')))"
      ]
     },
     "metadata": {},
     "output_type": "display_data"
    },
    {
     "name": "stdout",
     "output_type": "stream",
     "text": [
      "\n",
      "2 neuron_coverage_0.9 0.001477832512315271\n"
     ]
    },
    {
     "data": {
      "application/vnd.jupyter.widget-view+json": {
       "model_id": "6e92d6b984d349ea94e88c0056546d22",
       "version_major": 2,
       "version_minor": 0
      },
      "text/plain": [
       "HBox(children=(IntProgress(value=0, max=7), HTML(value='')))"
      ]
     },
     "metadata": {},
     "output_type": "display_data"
    },
    {
     "name": "stdout",
     "output_type": "stream",
     "text": [
      "\n",
      "3 neuron_coverage_0.0 0.8488669950738916\n"
     ]
    },
    {
     "data": {
      "application/vnd.jupyter.widget-view+json": {
       "model_id": "296e45b2346c4824aedddfb23e8d684c",
       "version_major": 2,
       "version_minor": 0
      },
      "text/plain": [
       "HBox(children=(IntProgress(value=0, max=7), HTML(value='')))"
      ]
     },
     "metadata": {},
     "output_type": "display_data"
    },
    {
     "name": "stdout",
     "output_type": "stream",
     "text": [
      "\n",
      "3 neuron_coverage_0.1 0.2514614121510673\n"
     ]
    },
    {
     "data": {
      "application/vnd.jupyter.widget-view+json": {
       "model_id": "60f33a0adabc4662b5214448e249f532",
       "version_major": 2,
       "version_minor": 0
      },
      "text/plain": [
       "HBox(children=(IntProgress(value=0, max=7), HTML(value='')))"
      ]
     },
     "metadata": {},
     "output_type": "display_data"
    },
    {
     "name": "stdout",
     "output_type": "stream",
     "text": [
      "\n",
      "3 neuron_coverage_0.2 0.1335960591133005\n"
     ]
    },
    {
     "data": {
      "application/vnd.jupyter.widget-view+json": {
       "model_id": "56056e1250954304bf04ac5314a43b71",
       "version_major": 2,
       "version_minor": 0
      },
      "text/plain": [
       "HBox(children=(IntProgress(value=0, max=7), HTML(value='')))"
      ]
     },
     "metadata": {},
     "output_type": "display_data"
    },
    {
     "name": "stdout",
     "output_type": "stream",
     "text": [
      "\n",
      "3 neuron_coverage_0.3 0.07885057471264367\n"
     ]
    },
    {
     "data": {
      "application/vnd.jupyter.widget-view+json": {
       "model_id": "e022ade3bbe84cad9237ae19dd72707b",
       "version_major": 2,
       "version_minor": 0
      },
      "text/plain": [
       "HBox(children=(IntProgress(value=0, max=7), HTML(value='')))"
      ]
     },
     "metadata": {},
     "output_type": "display_data"
    },
    {
     "name": "stdout",
     "output_type": "stream",
     "text": [
      "\n",
      "3 neuron_coverage_0.4 0.051527093596059115\n"
     ]
    },
    {
     "data": {
      "application/vnd.jupyter.widget-view+json": {
       "model_id": "822f4f86b59b45f0989733be3d95d475",
       "version_major": 2,
       "version_minor": 0
      },
      "text/plain": [
       "HBox(children=(IntProgress(value=0, max=7), HTML(value='')))"
      ]
     },
     "metadata": {},
     "output_type": "display_data"
    },
    {
     "name": "stdout",
     "output_type": "stream",
     "text": [
      "\n",
      "3 neuron_coverage_0.5 0.032742200328407224\n"
     ]
    },
    {
     "data": {
      "application/vnd.jupyter.widget-view+json": {
       "model_id": "5c3b9cc6a8474c4abd71336735b447a6",
       "version_major": 2,
       "version_minor": 0
      },
      "text/plain": [
       "HBox(children=(IntProgress(value=0, max=7), HTML(value='')))"
      ]
     },
     "metadata": {},
     "output_type": "display_data"
    },
    {
     "name": "stdout",
     "output_type": "stream",
     "text": [
      "\n",
      "3 neuron_coverage_0.6 0.02006568144499179\n"
     ]
    },
    {
     "data": {
      "application/vnd.jupyter.widget-view+json": {
       "model_id": "6749d6f0873e4c26a78d3ebc2ac829be",
       "version_major": 2,
       "version_minor": 0
      },
      "text/plain": [
       "HBox(children=(IntProgress(value=0, max=7), HTML(value='')))"
      ]
     },
     "metadata": {},
     "output_type": "display_data"
    },
    {
     "name": "stdout",
     "output_type": "stream",
     "text": [
      "\n",
      "3 neuron_coverage_0.7 0.00889983579638752\n"
     ]
    },
    {
     "data": {
      "application/vnd.jupyter.widget-view+json": {
       "model_id": "272d7a453bbf4c999353ab39839752db",
       "version_major": 2,
       "version_minor": 0
      },
      "text/plain": [
       "HBox(children=(IntProgress(value=0, max=7), HTML(value='')))"
      ]
     },
     "metadata": {},
     "output_type": "display_data"
    },
    {
     "name": "stdout",
     "output_type": "stream",
     "text": [
      "\n",
      "3 neuron_coverage_0.8 0.003513957307060755\n"
     ]
    },
    {
     "data": {
      "application/vnd.jupyter.widget-view+json": {
       "model_id": "4db27426ad4a42f2b85b0c970b36f4fb",
       "version_major": 2,
       "version_minor": 0
      },
      "text/plain": [
       "HBox(children=(IntProgress(value=0, max=7), HTML(value='')))"
      ]
     },
     "metadata": {},
     "output_type": "display_data"
    },
    {
     "name": "stdout",
     "output_type": "stream",
     "text": [
      "\n",
      "3 neuron_coverage_0.9 0.0012151067323481117\n"
     ]
    },
    {
     "data": {
      "application/vnd.jupyter.widget-view+json": {
       "model_id": "4a06e6eb2a58480d9f22853efc164a82",
       "version_major": 2,
       "version_minor": 0
      },
      "text/plain": [
       "HBox(children=(IntProgress(value=0, max=7), HTML(value='')))"
      ]
     },
     "metadata": {},
     "output_type": "display_data"
    },
    {
     "name": "stdout",
     "output_type": "stream",
     "text": [
      "\n",
      "4 neuron_coverage_0.0 0.8455500821018063\n"
     ]
    },
    {
     "data": {
      "application/vnd.jupyter.widget-view+json": {
       "model_id": "6087dff023964152a825f6eafc3591d0",
       "version_major": 2,
       "version_minor": 0
      },
      "text/plain": [
       "HBox(children=(IntProgress(value=0, max=7), HTML(value='')))"
      ]
     },
     "metadata": {},
     "output_type": "display_data"
    },
    {
     "name": "stdout",
     "output_type": "stream",
     "text": [
      "\n",
      "4 neuron_coverage_0.1 0.24292282430213466\n"
     ]
    },
    {
     "data": {
      "application/vnd.jupyter.widget-view+json": {
       "model_id": "f0fb7a9696334cbf8190d56d95adbcc1",
       "version_major": 2,
       "version_minor": 0
      },
      "text/plain": [
       "HBox(children=(IntProgress(value=0, max=7), HTML(value='')))"
      ]
     },
     "metadata": {},
     "output_type": "display_data"
    },
    {
     "name": "stdout",
     "output_type": "stream",
     "text": [
      "\n",
      "4 neuron_coverage_0.2 0.13885057471264367\n"
     ]
    },
    {
     "data": {
      "application/vnd.jupyter.widget-view+json": {
       "model_id": "8bdce28e27734b0d8cca7cc9b5945ef1",
       "version_major": 2,
       "version_minor": 0
      },
      "text/plain": [
       "HBox(children=(IntProgress(value=0, max=7), HTML(value='')))"
      ]
     },
     "metadata": {},
     "output_type": "display_data"
    },
    {
     "name": "stdout",
     "output_type": "stream",
     "text": [
      "\n",
      "4 neuron_coverage_0.3 0.08660098522167488\n"
     ]
    },
    {
     "data": {
      "application/vnd.jupyter.widget-view+json": {
       "model_id": "df990e1db8b04b9589a9e3849f4cb62a",
       "version_major": 2,
       "version_minor": 0
      },
      "text/plain": [
       "HBox(children=(IntProgress(value=0, max=7), HTML(value='')))"
      ]
     },
     "metadata": {},
     "output_type": "display_data"
    },
    {
     "name": "stdout",
     "output_type": "stream",
     "text": [
      "\n",
      "4 neuron_coverage_0.4 0.05376026272577997\n"
     ]
    },
    {
     "data": {
      "application/vnd.jupyter.widget-view+json": {
       "model_id": "b403e9d568b04a88bb92f6b15f6d4881",
       "version_major": 2,
       "version_minor": 0
      },
      "text/plain": [
       "HBox(children=(IntProgress(value=0, max=7), HTML(value='')))"
      ]
     },
     "metadata": {},
     "output_type": "display_data"
    },
    {
     "name": "stdout",
     "output_type": "stream",
     "text": [
      "\n",
      "4 neuron_coverage_0.5 0.03201970443349754\n"
     ]
    },
    {
     "data": {
      "application/vnd.jupyter.widget-view+json": {
       "model_id": "30374d468d874e2694302c44455e1651",
       "version_major": 2,
       "version_minor": 0
      },
      "text/plain": [
       "HBox(children=(IntProgress(value=0, max=7), HTML(value='')))"
      ]
     },
     "metadata": {},
     "output_type": "display_data"
    },
    {
     "name": "stdout",
     "output_type": "stream",
     "text": [
      "\n",
      "4 neuron_coverage_0.6 0.01658456486042693\n"
     ]
    },
    {
     "data": {
      "application/vnd.jupyter.widget-view+json": {
       "model_id": "c79cff077b574a72b20ee6963e0cdb85",
       "version_major": 2,
       "version_minor": 0
      },
      "text/plain": [
       "HBox(children=(IntProgress(value=0, max=7), HTML(value='')))"
      ]
     },
     "metadata": {},
     "output_type": "display_data"
    },
    {
     "name": "stdout",
     "output_type": "stream",
     "text": [
      "\n",
      "4 neuron_coverage_0.7 0.007783251231527093\n"
     ]
    },
    {
     "data": {
      "application/vnd.jupyter.widget-view+json": {
       "model_id": "eca5fbca7f5540f7a3d1115cb009e807",
       "version_major": 2,
       "version_minor": 0
      },
      "text/plain": [
       "HBox(children=(IntProgress(value=0, max=7), HTML(value='')))"
      ]
     },
     "metadata": {},
     "output_type": "display_data"
    },
    {
     "name": "stdout",
     "output_type": "stream",
     "text": [
      "\n",
      "4 neuron_coverage_0.8 0.0027914614121510675\n"
     ]
    },
    {
     "data": {
      "application/vnd.jupyter.widget-view+json": {
       "model_id": "d7ce2634a5a54416b94cb83bd67fafb1",
       "version_major": 2,
       "version_minor": 0
      },
      "text/plain": [
       "HBox(children=(IntProgress(value=0, max=7), HTML(value='')))"
      ]
     },
     "metadata": {},
     "output_type": "display_data"
    },
    {
     "name": "stdout",
     "output_type": "stream",
     "text": [
      "\n",
      "4 neuron_coverage_0.9 0.001083743842364532\n"
     ]
    },
    {
     "data": {
      "application/vnd.jupyter.widget-view+json": {
       "model_id": "6beb733e63044ae189268d0b2d2213c4",
       "version_major": 2,
       "version_minor": 0
      },
      "text/plain": [
       "HBox(children=(IntProgress(value=0, max=7), HTML(value='')))"
      ]
     },
     "metadata": {},
     "output_type": "display_data"
    },
    {
     "name": "stdout",
     "output_type": "stream",
     "text": [
      "\n",
      "5 neuron_coverage_0.0 0.8804269293924466\n"
     ]
    },
    {
     "data": {
      "application/vnd.jupyter.widget-view+json": {
       "model_id": "789b5e3faf644cc08bea72806d5dd60e",
       "version_major": 2,
       "version_minor": 0
      },
      "text/plain": [
       "HBox(children=(IntProgress(value=0, max=7), HTML(value='')))"
      ]
     },
     "metadata": {},
     "output_type": "display_data"
    },
    {
     "name": "stdout",
     "output_type": "stream",
     "text": [
      "\n",
      "5 neuron_coverage_0.1 0.3189819376026273\n"
     ]
    },
    {
     "data": {
      "application/vnd.jupyter.widget-view+json": {
       "model_id": "7635aded78634f5098a3dacf755cff0e",
       "version_major": 2,
       "version_minor": 0
      },
      "text/plain": [
       "HBox(children=(IntProgress(value=0, max=7), HTML(value='')))"
      ]
     },
     "metadata": {},
     "output_type": "display_data"
    },
    {
     "name": "stdout",
     "output_type": "stream",
     "text": [
      "\n",
      "5 neuron_coverage_0.2 0.16788177339901478\n"
     ]
    },
    {
     "data": {
      "application/vnd.jupyter.widget-view+json": {
       "model_id": "c63bbbef60e24bc7a4375a31f2fca26f",
       "version_major": 2,
       "version_minor": 0
      },
      "text/plain": [
       "HBox(children=(IntProgress(value=0, max=7), HTML(value='')))"
      ]
     },
     "metadata": {},
     "output_type": "display_data"
    },
    {
     "name": "stdout",
     "output_type": "stream",
     "text": [
      "\n",
      "5 neuron_coverage_0.3 0.09694581280788177\n"
     ]
    },
    {
     "data": {
      "application/vnd.jupyter.widget-view+json": {
       "model_id": "9c2b28bffe2b4dd2a16d408408e13ce2",
       "version_major": 2,
       "version_minor": 0
      },
      "text/plain": [
       "HBox(children=(IntProgress(value=0, max=7), HTML(value='')))"
      ]
     },
     "metadata": {},
     "output_type": "display_data"
    },
    {
     "name": "stdout",
     "output_type": "stream",
     "text": [
      "\n",
      "5 neuron_coverage_0.4 0.05750410509031199\n"
     ]
    },
    {
     "data": {
      "application/vnd.jupyter.widget-view+json": {
       "model_id": "26593d439afe42a6b94c50e82fe26be9",
       "version_major": 2,
       "version_minor": 0
      },
      "text/plain": [
       "HBox(children=(IntProgress(value=0, max=7), HTML(value='')))"
      ]
     },
     "metadata": {},
     "output_type": "display_data"
    },
    {
     "name": "stdout",
     "output_type": "stream",
     "text": [
      "\n",
      "5 neuron_coverage_0.5 0.03536945812807882\n"
     ]
    },
    {
     "data": {
      "application/vnd.jupyter.widget-view+json": {
       "model_id": "c97513896494497fa965b86880069d3d",
       "version_major": 2,
       "version_minor": 0
      },
      "text/plain": [
       "HBox(children=(IntProgress(value=0, max=7), HTML(value='')))"
      ]
     },
     "metadata": {},
     "output_type": "display_data"
    },
    {
     "name": "stdout",
     "output_type": "stream",
     "text": [
      "\n",
      "5 neuron_coverage_0.6 0.019737274220032842\n"
     ]
    },
    {
     "data": {
      "application/vnd.jupyter.widget-view+json": {
       "model_id": "3e0caa41d6cc4a308b2ed01fc6ef2ead",
       "version_major": 2,
       "version_minor": 0
      },
      "text/plain": [
       "HBox(children=(IntProgress(value=0, max=7), HTML(value='')))"
      ]
     },
     "metadata": {},
     "output_type": "display_data"
    },
    {
     "name": "stdout",
     "output_type": "stream",
     "text": [
      "\n",
      "5 neuron_coverage_0.7 0.009688013136288998\n"
     ]
    },
    {
     "data": {
      "application/vnd.jupyter.widget-view+json": {
       "model_id": "028297a78aac45aea077001187053c17",
       "version_major": 2,
       "version_minor": 0
      },
      "text/plain": [
       "HBox(children=(IntProgress(value=0, max=7), HTML(value='')))"
      ]
     },
     "metadata": {},
     "output_type": "display_data"
    },
    {
     "name": "stdout",
     "output_type": "stream",
     "text": [
      "\n",
      "5 neuron_coverage_0.8 0.004170771756978654\n"
     ]
    },
    {
     "data": {
      "application/vnd.jupyter.widget-view+json": {
       "model_id": "64f5f84704e04beb96400534b86e1802",
       "version_major": 2,
       "version_minor": 0
      },
      "text/plain": [
       "HBox(children=(IntProgress(value=0, max=7), HTML(value='')))"
      ]
     },
     "metadata": {},
     "output_type": "display_data"
    },
    {
     "name": "stdout",
     "output_type": "stream",
     "text": [
      "\n",
      "5 neuron_coverage_0.9 0.0017405582922824302\n"
     ]
    },
    {
     "data": {
      "application/vnd.jupyter.widget-view+json": {
       "model_id": "9b5c2a5d2d40491a9805ba20fb2dcb9c",
       "version_major": 2,
       "version_minor": 0
      },
      "text/plain": [
       "HBox(children=(IntProgress(value=0, max=7), HTML(value='')))"
      ]
     },
     "metadata": {},
     "output_type": "display_data"
    },
    {
     "name": "stdout",
     "output_type": "stream",
     "text": [
      "\n",
      "6 neuron_coverage_0.0 0.8383251231527094\n"
     ]
    },
    {
     "data": {
      "application/vnd.jupyter.widget-view+json": {
       "model_id": "932b14b7d50f417db415ff1f6559e67e",
       "version_major": 2,
       "version_minor": 0
      },
      "text/plain": [
       "HBox(children=(IntProgress(value=0, max=7), HTML(value='')))"
      ]
     },
     "metadata": {},
     "output_type": "display_data"
    },
    {
     "name": "stdout",
     "output_type": "stream",
     "text": [
      "\n",
      "6 neuron_coverage_0.1 0.2277504105090312\n"
     ]
    },
    {
     "data": {
      "application/vnd.jupyter.widget-view+json": {
       "model_id": "294c3671ee5045488d4d330ed8682a1c",
       "version_major": 2,
       "version_minor": 0
      },
      "text/plain": [
       "HBox(children=(IntProgress(value=0, max=7), HTML(value='')))"
      ]
     },
     "metadata": {},
     "output_type": "display_data"
    },
    {
     "name": "stdout",
     "output_type": "stream",
     "text": [
      "\n",
      "6 neuron_coverage_0.2 0.11950738916256158\n"
     ]
    },
    {
     "data": {
      "application/vnd.jupyter.widget-view+json": {
       "model_id": "1999a34d7f2b4de08f4f8a99496fe076",
       "version_major": 2,
       "version_minor": 0
      },
      "text/plain": [
       "HBox(children=(IntProgress(value=0, max=7), HTML(value='')))"
      ]
     },
     "metadata": {},
     "output_type": "display_data"
    },
    {
     "name": "stdout",
     "output_type": "stream",
     "text": [
      "\n",
      "6 neuron_coverage_0.3 0.07155993431855501\n"
     ]
    },
    {
     "data": {
      "application/vnd.jupyter.widget-view+json": {
       "model_id": "f3859c35ced84654a40c853aacf10676",
       "version_major": 2,
       "version_minor": 0
      },
      "text/plain": [
       "HBox(children=(IntProgress(value=0, max=7), HTML(value='')))"
      ]
     },
     "metadata": {},
     "output_type": "display_data"
    },
    {
     "name": "stdout",
     "output_type": "stream",
     "text": [
      "\n",
      "6 neuron_coverage_0.4 0.04883415435139573\n"
     ]
    },
    {
     "data": {
      "application/vnd.jupyter.widget-view+json": {
       "model_id": "6e0848f52fb24cc9b7c7ae385818c210",
       "version_major": 2,
       "version_minor": 0
      },
      "text/plain": [
       "HBox(children=(IntProgress(value=0, max=7), HTML(value='')))"
      ]
     },
     "metadata": {},
     "output_type": "display_data"
    },
    {
     "name": "stdout",
     "output_type": "stream",
     "text": [
      "\n",
      "6 neuron_coverage_0.5 0.030377668308702793\n"
     ]
    },
    {
     "data": {
      "application/vnd.jupyter.widget-view+json": {
       "model_id": "0b12bd5afe934886922b4c17fe2f06c6",
       "version_major": 2,
       "version_minor": 0
      },
      "text/plain": [
       "HBox(children=(IntProgress(value=0, max=7), HTML(value='')))"
      ]
     },
     "metadata": {},
     "output_type": "display_data"
    },
    {
     "name": "stdout",
     "output_type": "stream",
     "text": [
      "\n",
      "6 neuron_coverage_0.6 0.015665024630541872\n"
     ]
    },
    {
     "data": {
      "application/vnd.jupyter.widget-view+json": {
       "model_id": "84e63b2240084baeada622bea647bcf0",
       "version_major": 2,
       "version_minor": 0
      },
      "text/plain": [
       "HBox(children=(IntProgress(value=0, max=7), HTML(value='')))"
      ]
     },
     "metadata": {},
     "output_type": "display_data"
    },
    {
     "name": "stdout",
     "output_type": "stream",
     "text": [
      "\n",
      "6 neuron_coverage_0.7 0.007257799671592775\n"
     ]
    },
    {
     "data": {
      "application/vnd.jupyter.widget-view+json": {
       "model_id": "e54b73c5eb4f4934926e99a145269a9f",
       "version_major": 2,
       "version_minor": 0
      },
      "text/plain": [
       "HBox(children=(IntProgress(value=0, max=7), HTML(value='')))"
      ]
     },
     "metadata": {},
     "output_type": "display_data"
    },
    {
     "name": "stdout",
     "output_type": "stream",
     "text": [
      "\n",
      "6 neuron_coverage_0.8 0.0031198686371100163\n"
     ]
    },
    {
     "data": {
      "application/vnd.jupyter.widget-view+json": {
       "model_id": "b59c092f433147c4b102989755f6783a",
       "version_major": 2,
       "version_minor": 0
      },
      "text/plain": [
       "HBox(children=(IntProgress(value=0, max=7), HTML(value='')))"
      ]
     },
     "metadata": {},
     "output_type": "display_data"
    },
    {
     "name": "stdout",
     "output_type": "stream",
     "text": [
      "\n",
      "6 neuron_coverage_0.9 0.0009523809523809524\n"
     ]
    },
    {
     "data": {
      "application/vnd.jupyter.widget-view+json": {
       "model_id": "ddae6f58a7304f83849a3b60ee77c01e",
       "version_major": 2,
       "version_minor": 0
      },
      "text/plain": [
       "HBox(children=(IntProgress(value=0, max=7), HTML(value='')))"
      ]
     },
     "metadata": {},
     "output_type": "display_data"
    },
    {
     "name": "stdout",
     "output_type": "stream",
     "text": [
      "\n",
      "7 neuron_coverage_0.0 0.8157635467980295\n"
     ]
    },
    {
     "data": {
      "application/vnd.jupyter.widget-view+json": {
       "model_id": "392275b145234d56b642412ad270f4ae",
       "version_major": 2,
       "version_minor": 0
      },
      "text/plain": [
       "HBox(children=(IntProgress(value=0, max=7), HTML(value='')))"
      ]
     },
     "metadata": {},
     "output_type": "display_data"
    },
    {
     "name": "stdout",
     "output_type": "stream",
     "text": [
      "\n",
      "7 neuron_coverage_0.1 0.23921182266009852\n"
     ]
    },
    {
     "data": {
      "application/vnd.jupyter.widget-view+json": {
       "model_id": "453cee7eb0c74fc98dab1054908a9625",
       "version_major": 2,
       "version_minor": 0
      },
      "text/plain": [
       "HBox(children=(IntProgress(value=0, max=7), HTML(value='')))"
      ]
     },
     "metadata": {},
     "output_type": "display_data"
    },
    {
     "name": "stdout",
     "output_type": "stream",
     "text": [
      "\n",
      "7 neuron_coverage_0.2 0.13142857142857142\n"
     ]
    },
    {
     "data": {
      "application/vnd.jupyter.widget-view+json": {
       "model_id": "2ba3a83d296b4afbba6b1986232a6bc6",
       "version_major": 2,
       "version_minor": 0
      },
      "text/plain": [
       "HBox(children=(IntProgress(value=0, max=7), HTML(value='')))"
      ]
     },
     "metadata": {},
     "output_type": "display_data"
    },
    {
     "name": "stdout",
     "output_type": "stream",
     "text": [
      "\n",
      "7 neuron_coverage_0.3 0.08154351395730706\n"
     ]
    },
    {
     "data": {
      "application/vnd.jupyter.widget-view+json": {
       "model_id": "553277225358451f8c2637f50c3d2e4f",
       "version_major": 2,
       "version_minor": 0
      },
      "text/plain": [
       "HBox(children=(IntProgress(value=0, max=7), HTML(value='')))"
      ]
     },
     "metadata": {},
     "output_type": "display_data"
    },
    {
     "name": "stdout",
     "output_type": "stream",
     "text": [
      "\n",
      "7 neuron_coverage_0.4 0.0535632183908046\n"
     ]
    },
    {
     "data": {
      "application/vnd.jupyter.widget-view+json": {
       "model_id": "e8207385941d462884852d1a0f3f9665",
       "version_major": 2,
       "version_minor": 0
      },
      "text/plain": [
       "HBox(children=(IntProgress(value=0, max=7), HTML(value='')))"
      ]
     },
     "metadata": {},
     "output_type": "display_data"
    },
    {
     "name": "stdout",
     "output_type": "stream",
     "text": [
      "\n",
      "7 neuron_coverage_0.5 0.03431855500821018\n"
     ]
    },
    {
     "data": {
      "application/vnd.jupyter.widget-view+json": {
       "model_id": "fdbe5a2aca4a4e80b9db92434aae4a87",
       "version_major": 2,
       "version_minor": 0
      },
      "text/plain": [
       "HBox(children=(IntProgress(value=0, max=7), HTML(value='')))"
      ]
     },
     "metadata": {},
     "output_type": "display_data"
    },
    {
     "name": "stdout",
     "output_type": "stream",
     "text": [
      "\n",
      "7 neuron_coverage_0.6 0.02059113300492611\n"
     ]
    },
    {
     "data": {
      "application/vnd.jupyter.widget-view+json": {
       "model_id": "4db28a80d4bc4441892b0cb6709b72d0",
       "version_major": 2,
       "version_minor": 0
      },
      "text/plain": [
       "HBox(children=(IntProgress(value=0, max=7), HTML(value='')))"
      ]
     },
     "metadata": {},
     "output_type": "display_data"
    },
    {
     "name": "stdout",
     "output_type": "stream",
     "text": [
      "\n",
      "7 neuron_coverage_0.7 0.010410509031198686\n"
     ]
    },
    {
     "data": {
      "application/vnd.jupyter.widget-view+json": {
       "model_id": "74ac1a7117bf434d8d5b0e3cede3eddb",
       "version_major": 2,
       "version_minor": 0
      },
      "text/plain": [
       "HBox(children=(IntProgress(value=0, max=7), HTML(value='')))"
      ]
     },
     "metadata": {},
     "output_type": "display_data"
    },
    {
     "name": "stdout",
     "output_type": "stream",
     "text": [
      "\n",
      "7 neuron_coverage_0.8 0.004958949096880131\n"
     ]
    },
    {
     "data": {
      "application/vnd.jupyter.widget-view+json": {
       "model_id": "2c5b0d4d0ef74976b9592c41c259b872",
       "version_major": 2,
       "version_minor": 0
      },
      "text/plain": [
       "HBox(children=(IntProgress(value=0, max=7), HTML(value='')))"
      ]
     },
     "metadata": {},
     "output_type": "display_data"
    },
    {
     "name": "stdout",
     "output_type": "stream",
     "text": [
      "\n",
      "7 neuron_coverage_0.9 0.0019376026272577996\n"
     ]
    },
    {
     "data": {
      "application/vnd.jupyter.widget-view+json": {
       "model_id": "de8fd02b82cf4a3d9427f13ce0784702",
       "version_major": 2,
       "version_minor": 0
      },
      "text/plain": [
       "HBox(children=(IntProgress(value=0, max=7), HTML(value='')))"
      ]
     },
     "metadata": {},
     "output_type": "display_data"
    },
    {
     "name": "stdout",
     "output_type": "stream",
     "text": [
      "\n",
      "8 neuron_coverage_0.0 0.8508045977011495\n"
     ]
    },
    {
     "data": {
      "application/vnd.jupyter.widget-view+json": {
       "model_id": "780137edcb824b4eb74ce57d06e38913",
       "version_major": 2,
       "version_minor": 0
      },
      "text/plain": [
       "HBox(children=(IntProgress(value=0, max=7), HTML(value='')))"
      ]
     },
     "metadata": {},
     "output_type": "display_data"
    },
    {
     "name": "stdout",
     "output_type": "stream",
     "text": [
      "\n",
      "8 neuron_coverage_0.1 0.2880131362889984\n"
     ]
    },
    {
     "data": {
      "application/vnd.jupyter.widget-view+json": {
       "model_id": "42ebf1da0dd947a2b7cad7d9af08b1b9",
       "version_major": 2,
       "version_minor": 0
      },
      "text/plain": [
       "HBox(children=(IntProgress(value=0, max=7), HTML(value='')))"
      ]
     },
     "metadata": {},
     "output_type": "display_data"
    },
    {
     "name": "stdout",
     "output_type": "stream",
     "text": [
      "\n",
      "8 neuron_coverage_0.2 0.16417077175697867\n"
     ]
    },
    {
     "data": {
      "application/vnd.jupyter.widget-view+json": {
       "model_id": "3de5d0697868492d927de1ebfb2b66db",
       "version_major": 2,
       "version_minor": 0
      },
      "text/plain": [
       "HBox(children=(IntProgress(value=0, max=7), HTML(value='')))"
      ]
     },
     "metadata": {},
     "output_type": "display_data"
    },
    {
     "name": "stdout",
     "output_type": "stream",
     "text": [
      "\n",
      "8 neuron_coverage_0.3 0.10617405582922824\n"
     ]
    },
    {
     "data": {
      "application/vnd.jupyter.widget-view+json": {
       "model_id": "1d98d5f38e784bc0af64c90ff6b5d647",
       "version_major": 2,
       "version_minor": 0
      },
      "text/plain": [
       "HBox(children=(IntProgress(value=0, max=7), HTML(value='')))"
      ]
     },
     "metadata": {},
     "output_type": "display_data"
    },
    {
     "name": "stdout",
     "output_type": "stream",
     "text": [
      "\n",
      "8 neuron_coverage_0.4 0.07123152709359606\n"
     ]
    },
    {
     "data": {
      "application/vnd.jupyter.widget-view+json": {
       "model_id": "519afb1c75fa48298fe34bb50bcee604",
       "version_major": 2,
       "version_minor": 0
      },
      "text/plain": [
       "HBox(children=(IntProgress(value=0, max=7), HTML(value='')))"
      ]
     },
     "metadata": {},
     "output_type": "display_data"
    },
    {
     "name": "stdout",
     "output_type": "stream",
     "text": [
      "\n",
      "8 neuron_coverage_0.5 0.04417077175697865\n"
     ]
    },
    {
     "data": {
      "application/vnd.jupyter.widget-view+json": {
       "model_id": "c2c4270a17244df787d4fcc6576ee2ed",
       "version_major": 2,
       "version_minor": 0
      },
      "text/plain": [
       "HBox(children=(IntProgress(value=0, max=7), HTML(value='')))"
      ]
     },
     "metadata": {},
     "output_type": "display_data"
    },
    {
     "name": "stdout",
     "output_type": "stream",
     "text": [
      "\n",
      "8 neuron_coverage_0.6 0.024926108374384238\n"
     ]
    },
    {
     "data": {
      "application/vnd.jupyter.widget-view+json": {
       "model_id": "f2d0b12650684573a6bf02cf186f3686",
       "version_major": 2,
       "version_minor": 0
      },
      "text/plain": [
       "HBox(children=(IntProgress(value=0, max=7), HTML(value='')))"
      ]
     },
     "metadata": {},
     "output_type": "display_data"
    },
    {
     "name": "stdout",
     "output_type": "stream",
     "text": [
      "\n",
      "8 neuron_coverage_0.7 0.009885057471264367\n"
     ]
    },
    {
     "data": {
      "application/vnd.jupyter.widget-view+json": {
       "model_id": "d3b443e1c854431e8388c364a7829316",
       "version_major": 2,
       "version_minor": 0
      },
      "text/plain": [
       "HBox(children=(IntProgress(value=0, max=7), HTML(value='')))"
      ]
     },
     "metadata": {},
     "output_type": "display_data"
    },
    {
     "name": "stdout",
     "output_type": "stream",
     "text": [
      "\n",
      "8 neuron_coverage_0.8 0.0037766830870279147\n"
     ]
    },
    {
     "data": {
      "application/vnd.jupyter.widget-view+json": {
       "model_id": "213d24a7eb2547ea8bdb9eac0582194f",
       "version_major": 2,
       "version_minor": 0
      },
      "text/plain": [
       "HBox(children=(IntProgress(value=0, max=7), HTML(value='')))"
      ]
     },
     "metadata": {},
     "output_type": "display_data"
    },
    {
     "name": "stdout",
     "output_type": "stream",
     "text": [
      "\n",
      "8 neuron_coverage_0.9 0.0012151067323481117\n"
     ]
    },
    {
     "data": {
      "application/vnd.jupyter.widget-view+json": {
       "model_id": "9e1f3bd86f89459cb26195185fffd346",
       "version_major": 2,
       "version_minor": 0
      },
      "text/plain": [
       "HBox(children=(IntProgress(value=0, max=7), HTML(value='')))"
      ]
     },
     "metadata": {},
     "output_type": "display_data"
    },
    {
     "name": "stdout",
     "output_type": "stream",
     "text": [
      "\n",
      "9 neuron_coverage_0.0 0.8094581280788178\n"
     ]
    },
    {
     "data": {
      "application/vnd.jupyter.widget-view+json": {
       "model_id": "66cf7098cd554c699269969ab73fb1c6",
       "version_major": 2,
       "version_minor": 0
      },
      "text/plain": [
       "HBox(children=(IntProgress(value=0, max=7), HTML(value='')))"
      ]
     },
     "metadata": {},
     "output_type": "display_data"
    },
    {
     "name": "stdout",
     "output_type": "stream",
     "text": [
      "\n",
      "9 neuron_coverage_0.1 0.22768472906403942\n"
     ]
    },
    {
     "data": {
      "application/vnd.jupyter.widget-view+json": {
       "model_id": "422356583fbf4f46bd0419c9f1e80c83",
       "version_major": 2,
       "version_minor": 0
      },
      "text/plain": [
       "HBox(children=(IntProgress(value=0, max=7), HTML(value='')))"
      ]
     },
     "metadata": {},
     "output_type": "display_data"
    },
    {
     "name": "stdout",
     "output_type": "stream",
     "text": [
      "\n",
      "9 neuron_coverage_0.2 0.1316912972085386\n"
     ]
    },
    {
     "data": {
      "application/vnd.jupyter.widget-view+json": {
       "model_id": "928a3f8f9e56485893f01c85f39128ca",
       "version_major": 2,
       "version_minor": 0
      },
      "text/plain": [
       "HBox(children=(IntProgress(value=0, max=7), HTML(value='')))"
      ]
     },
     "metadata": {},
     "output_type": "display_data"
    },
    {
     "name": "stdout",
     "output_type": "stream",
     "text": [
      "\n",
      "9 neuron_coverage_0.3 0.08407224958949097\n"
     ]
    },
    {
     "data": {
      "application/vnd.jupyter.widget-view+json": {
       "model_id": "1f350f97944a4f189f6451c3e51571b0",
       "version_major": 2,
       "version_minor": 0
      },
      "text/plain": [
       "HBox(children=(IntProgress(value=0, max=7), HTML(value='')))"
      ]
     },
     "metadata": {},
     "output_type": "display_data"
    },
    {
     "name": "stdout",
     "output_type": "stream",
     "text": [
      "\n",
      "9 neuron_coverage_0.4 0.05422003284072249\n"
     ]
    },
    {
     "data": {
      "application/vnd.jupyter.widget-view+json": {
       "model_id": "be59888f76f2457c8260d71684b66b15",
       "version_major": 2,
       "version_minor": 0
      },
      "text/plain": [
       "HBox(children=(IntProgress(value=0, max=7), HTML(value='')))"
      ]
     },
     "metadata": {},
     "output_type": "display_data"
    },
    {
     "name": "stdout",
     "output_type": "stream",
     "text": [
      "\n",
      "9 neuron_coverage_0.5 0.03300492610837438\n"
     ]
    },
    {
     "data": {
      "application/vnd.jupyter.widget-view+json": {
       "model_id": "706d58bd99044c678f4e8a6acc9d543e",
       "version_major": 2,
       "version_minor": 0
      },
      "text/plain": [
       "HBox(children=(IntProgress(value=0, max=7), HTML(value='')))"
      ]
     },
     "metadata": {},
     "output_type": "display_data"
    },
    {
     "name": "stdout",
     "output_type": "stream",
     "text": [
      "\n",
      "9 neuron_coverage_0.6 0.018555008210180624\n"
     ]
    },
    {
     "data": {
      "application/vnd.jupyter.widget-view+json": {
       "model_id": "07a4e3471e9a484ba94e52e075d13dbe",
       "version_major": 2,
       "version_minor": 0
      },
      "text/plain": [
       "HBox(children=(IntProgress(value=0, max=7), HTML(value='')))"
      ]
     },
     "metadata": {},
     "output_type": "display_data"
    },
    {
     "name": "stdout",
     "output_type": "stream",
     "text": [
      "\n",
      "9 neuron_coverage_0.7 0.008177339901477832\n"
     ]
    },
    {
     "data": {
      "application/vnd.jupyter.widget-view+json": {
       "model_id": "bb14ce0ddbf34ccfbc8f4f616a9c894b",
       "version_major": 2,
       "version_minor": 0
      },
      "text/plain": [
       "HBox(children=(IntProgress(value=0, max=7), HTML(value='')))"
      ]
     },
     "metadata": {},
     "output_type": "display_data"
    },
    {
     "name": "stdout",
     "output_type": "stream",
     "text": [
      "\n",
      "9 neuron_coverage_0.8 0.0031855500821018064\n"
     ]
    },
    {
     "data": {
      "application/vnd.jupyter.widget-view+json": {
       "model_id": "3aa2d5cdba6b4315a4d8387646c9a234",
       "version_major": 2,
       "version_minor": 0
      },
      "text/plain": [
       "HBox(children=(IntProgress(value=0, max=7), HTML(value='')))"
      ]
     },
     "metadata": {},
     "output_type": "display_data"
    },
    {
     "name": "stdout",
     "output_type": "stream",
     "text": [
      "\n",
      "9 neuron_coverage_0.9 0.000689655172413793\n"
     ]
    }
   ],
   "source": [
    "nc_thresholds = np.arange(0,1,0.1)\n",
    "\n",
    "neuron_coverages_by_class = {}\n",
    "\n",
    "for i in range(len(classes)):\n",
    "    \n",
    "    threshold_results = {}\n",
    "    \n",
    "    for t in nc_thresholds:\n",
    "        \n",
    "        t = round(t,2)\n",
    "\n",
    "        covered_neurons, total_neurons, neuron_coverage = eval_nc(model, inputs[i], t)\n",
    "        print(classes[i] + ' neuron_coverage_' + str(t), neuron_coverage)\n",
    "\n",
    "        threshold_results[str(t)] = neuron_coverage\n",
    "    \n",
    "    neuron_coverages_by_class[classes[i]] = threshold_results"
   ]
  },
  {
   "cell_type": "code",
   "execution_count": 25,
   "metadata": {},
   "outputs": [],
   "source": [
    "save_file_path = \"assets/neuron_coverages_mnist_10.pkl\"\n",
    "pickle.dump(neuron_coverages_by_class, open(save_file_path, \"wb\")) "
   ]
  },
  {
   "cell_type": "code",
   "execution_count": 27,
   "metadata": {},
   "outputs": [],
   "source": [
    "df = pd.DataFrame.from_dict(neuron_coverages_by_class)\n",
    "df.to_clipboard(excel=True)"
   ]
  },
  {
   "cell_type": "markdown",
   "metadata": {},
   "source": [
    "## Create Extreme Case Inputs"
   ]
  },
  {
   "cell_type": "code",
   "execution_count": 46,
   "metadata": {},
   "outputs": [],
   "source": [
    "input_shape = (batch_size, 1, 28, 28)\n",
    "all_blacks = torch.zeros(input_shape).to(device)\n",
    "all_whites = torch.ones(input_shape).to(device)"
   ]
  },
  {
   "cell_type": "code",
   "execution_count": 47,
   "metadata": {
    "scrolled": true
   },
   "outputs": [
    {
     "data": {
      "application/vnd.jupyter.widget-view+json": {
       "model_id": "70f185ee4dc9404c949fc1082ff8c2f5",
       "version_major": 2,
       "version_minor": 0
      },
      "text/plain": [
       "HBox(children=(IntProgress(value=0, max=7), HTML(value='')))"
      ]
     },
     "metadata": {},
     "output_type": "display_data"
    },
    {
     "name": "stdout",
     "output_type": "stream",
     "text": [
      "\n",
      "all_blacks neuron_coverage 0.6136945812807881\n"
     ]
    },
    {
     "data": {
      "application/vnd.jupyter.widget-view+json": {
       "model_id": "1afa98c2d0ce469d8dae210826552125",
       "version_major": 2,
       "version_minor": 0
      },
      "text/plain": [
       "HBox(children=(IntProgress(value=0, max=7), HTML(value='')))"
      ]
     },
     "metadata": {},
     "output_type": "display_data"
    },
    {
     "name": "stdout",
     "output_type": "stream",
     "text": [
      "\n",
      "all_whites neuron_coverage 0.6794417077175697\n"
     ]
    }
   ],
   "source": [
    "covered_neurons, total_neurons, neuron_coverage = eval_nc(model, all_blacks, 0.0)\n",
    "print('all_blacks neuron_coverage', neuron_coverage)\n",
    "\n",
    "covered_neurons, total_neurons, neuron_coverage = eval_nc(model, all_whites, 0.0)\n",
    "print('all_whites neuron_coverage', neuron_coverage)"
   ]
  },
  {
   "cell_type": "markdown",
   "metadata": {},
   "source": [
    "# Evaluating Effect of Increasing Neuron Coverage"
   ]
  },
  {
   "cell_type": "code",
   "execution_count": 61,
   "metadata": {},
   "outputs": [],
   "source": [
    "# load the results from file\n",
    "with open('assets/results.pickle', 'rb') as handle:\n",
    "    results = pickle.load(handle)"
   ]
  },
  {
   "cell_type": "code",
   "execution_count": 12,
   "metadata": {},
   "outputs": [],
   "source": [
    "inputs, targets = next(iter(test_loader))\n",
    "\n",
    "inputs = inputs.to(device)\n",
    "targets = targets.to(device)"
   ]
  },
  {
   "cell_type": "code",
   "execution_count": 13,
   "metadata": {},
   "outputs": [
    {
     "data": {
      "image/png": "[encoded data removed]",
      "text/plain": [
       "<Figure size 432x288 with 1 Axes>"
      ]
     },
     "metadata": {
      "needs_background": "light"
     },
     "output_type": "display_data"
    },
    {
     "data": {
      "image/png": "[encoded data removed]",
      "text/plain": [
       "<Figure size 432x288 with 1 Axes>"
      ]
     },
     "metadata": {
      "needs_background": "light"
     },
     "output_type": "display_data"
    }
   ],
   "source": [
    "np_inputs = inputs.clone().cpu().detach().numpy()\n",
    "np_advers = results[0]['adversaries'].clone().cpu().detach().numpy()\n",
    "\n",
    "i = 0\n",
    "\n",
    "plt.imshow(np.squeeze(np_inputs[i]))\n",
    "plt.show()   \n",
    "\n",
    "plt.imshow(np.squeeze(np_advers[i]))\n",
    "plt.show()   "
   ]
  },
  {
   "cell_type": "markdown",
   "metadata": {},
   "source": [
    "# Seeing if increasing neuron coverage effects the adversarial class"
   ]
  },
  {
   "cell_type": "code",
   "execution_count": 2,
   "metadata": {},
   "outputs": [],
   "source": [
    "# load the results from file\n",
    "with open('assets/results_mnist2019.08.17.pickle', 'rb') as handle:\n",
    "    results = pickle.load(handle)"
   ]
  },
  {
   "cell_type": "code",
   "execution_count": 8,
   "metadata": {},
   "outputs": [
    {
     "data": {
      "text/html": [
       "<div>\n",
       "<style scoped>\n",
       "    .dataframe tbody tr th:only-of-type {\n",
       "        vertical-align: middle;\n",
       "    }\n",
       "\n",
       "    .dataframe tbody tr th {\n",
       "        vertical-align: top;\n",
       "    }\n",
       "\n",
       "    .dataframe thead th {\n",
       "        text-align: right;\n",
       "    }\n",
       "</style>\n",
       "<table border=\"1\" class=\"dataframe\">\n",
       "  <thead>\n",
       "    <tr style=\"text-align: right;\">\n",
       "      <th></th>\n",
       "      <th>attack</th>\n",
       "      <th>layer</th>\n",
       "      <th>regularization_weight</th>\n",
       "      <th>orig_acc</th>\n",
       "      <th>pert_acc</th>\n",
       "      <th>neuron_coverage_000</th>\n",
       "      <th>neuron_coverage_020</th>\n",
       "      <th>neuron_coverage_050</th>\n",
       "      <th>neuron_coverage_075</th>\n",
       "    </tr>\n",
       "  </thead>\n",
       "  <tbody>\n",
       "    <tr>\n",
       "      <th>0</th>\n",
       "      <td>cw_div4_attack</td>\n",
       "      <td>relu1-1</td>\n",
       "      <td>0</td>\n",
       "      <td>1.0</td>\n",
       "      <td>0.0</td>\n",
       "      <td>0.9482758621</td>\n",
       "      <td>0.2372742200</td>\n",
       "      <td>0.0660098522</td>\n",
       "      <td>0.0109688013</td>\n",
       "    </tr>\n",
       "    <tr>\n",
       "      <th>1</th>\n",
       "      <td>cw_div4_attack</td>\n",
       "      <td>relu1-1</td>\n",
       "      <td>1</td>\n",
       "      <td>1.0</td>\n",
       "      <td>0.0</td>\n",
       "      <td>0.9482101806</td>\n",
       "      <td>0.2371428571</td>\n",
       "      <td>0.0661412151</td>\n",
       "      <td>0.0110344828</td>\n",
       "    </tr>\n",
       "    <tr>\n",
       "      <th>2</th>\n",
       "      <td>cw_div4_attack</td>\n",
       "      <td>relu1-1</td>\n",
       "      <td>10</td>\n",
       "      <td>1.0</td>\n",
       "      <td>0.0</td>\n",
       "      <td>0.9483415435</td>\n",
       "      <td>0.2372742200</td>\n",
       "      <td>0.0665353038</td>\n",
       "      <td>0.0113628900</td>\n",
       "    </tr>\n",
       "    <tr>\n",
       "      <th>3</th>\n",
       "      <td>cw_div4_attack</td>\n",
       "      <td>relu1-1</td>\n",
       "      <td>100</td>\n",
       "      <td>1.0</td>\n",
       "      <td>0.0</td>\n",
       "      <td>0.9484072250</td>\n",
       "      <td>0.2376683087</td>\n",
       "      <td>0.0665353038</td>\n",
       "      <td>0.0113628900</td>\n",
       "    </tr>\n",
       "    <tr>\n",
       "      <th>4</th>\n",
       "      <td>cw_div4_attack</td>\n",
       "      <td>relu1-1</td>\n",
       "      <td>1000</td>\n",
       "      <td>1.0</td>\n",
       "      <td>0.0</td>\n",
       "      <td>0.9476190476</td>\n",
       "      <td>0.2418719212</td>\n",
       "      <td>0.0683087028</td>\n",
       "      <td>0.0120525452</td>\n",
       "    </tr>\n",
       "    <tr>\n",
       "      <th>5</th>\n",
       "      <td>cw_div4_attack</td>\n",
       "      <td>relu1-1</td>\n",
       "      <td>10000</td>\n",
       "      <td>1.0</td>\n",
       "      <td>0.0</td>\n",
       "      <td>0.9391461412</td>\n",
       "      <td>0.3030541872</td>\n",
       "      <td>0.0781609195</td>\n",
       "      <td>0.0137602627</td>\n",
       "    </tr>\n",
       "    <tr>\n",
       "      <th>6</th>\n",
       "      <td>cw_div4_attack</td>\n",
       "      <td>relu2-3</td>\n",
       "      <td>0</td>\n",
       "      <td>1.0</td>\n",
       "      <td>0.0</td>\n",
       "      <td>0.9483415435</td>\n",
       "      <td>0.2371428571</td>\n",
       "      <td>0.0664039409</td>\n",
       "      <td>0.0111658456</td>\n",
       "    </tr>\n",
       "    <tr>\n",
       "      <th>7</th>\n",
       "      <td>cw_div4_attack</td>\n",
       "      <td>relu2-3</td>\n",
       "      <td>1</td>\n",
       "      <td>1.0</td>\n",
       "      <td>0.0</td>\n",
       "      <td>0.9483415435</td>\n",
       "      <td>0.2369458128</td>\n",
       "      <td>0.0659441708</td>\n",
       "      <td>0.0109031199</td>\n",
       "    </tr>\n",
       "    <tr>\n",
       "      <th>8</th>\n",
       "      <td>cw_div4_attack</td>\n",
       "      <td>relu2-3</td>\n",
       "      <td>10</td>\n",
       "      <td>1.0</td>\n",
       "      <td>0.0</td>\n",
       "      <td>0.9480131363</td>\n",
       "      <td>0.2369458128</td>\n",
       "      <td>0.0661412151</td>\n",
       "      <td>0.0111001642</td>\n",
       "    </tr>\n",
       "    <tr>\n",
       "      <th>9</th>\n",
       "      <td>cw_div4_attack</td>\n",
       "      <td>relu2-3</td>\n",
       "      <td>100</td>\n",
       "      <td>1.0</td>\n",
       "      <td>0.0</td>\n",
       "      <td>0.9483415435</td>\n",
       "      <td>0.2368801314</td>\n",
       "      <td>0.0662725780</td>\n",
       "      <td>0.0111658456</td>\n",
       "    </tr>\n",
       "    <tr>\n",
       "      <th>10</th>\n",
       "      <td>cw_div4_attack</td>\n",
       "      <td>relu2-3</td>\n",
       "      <td>1000</td>\n",
       "      <td>1.0</td>\n",
       "      <td>0.0</td>\n",
       "      <td>0.9467651888</td>\n",
       "      <td>0.2367487685</td>\n",
       "      <td>0.0671264368</td>\n",
       "      <td>0.0117569787</td>\n",
       "    </tr>\n",
       "    <tr>\n",
       "      <th>11</th>\n",
       "      <td>cw_div4_attack</td>\n",
       "      <td>relu2-3</td>\n",
       "      <td>10000</td>\n",
       "      <td>1.0</td>\n",
       "      <td>0.0</td>\n",
       "      <td>0.9405911330</td>\n",
       "      <td>0.2313300493</td>\n",
       "      <td>0.0670607553</td>\n",
       "      <td>0.0153366174</td>\n",
       "    </tr>\n",
       "    <tr>\n",
       "      <th>12</th>\n",
       "      <td>cw_div4_attack</td>\n",
       "      <td>relu3-5</td>\n",
       "      <td>0</td>\n",
       "      <td>1.0</td>\n",
       "      <td>0.0</td>\n",
       "      <td>0.9484072250</td>\n",
       "      <td>0.2371428571</td>\n",
       "      <td>0.0659441708</td>\n",
       "      <td>0.0109031199</td>\n",
       "    </tr>\n",
       "    <tr>\n",
       "      <th>13</th>\n",
       "      <td>cw_div4_attack</td>\n",
       "      <td>relu3-5</td>\n",
       "      <td>1</td>\n",
       "      <td>1.0</td>\n",
       "      <td>0.0</td>\n",
       "      <td>0.9481444992</td>\n",
       "      <td>0.2370114943</td>\n",
       "      <td>0.0664039409</td>\n",
       "      <td>0.0111658456</td>\n",
       "    </tr>\n",
       "    <tr>\n",
       "      <th>14</th>\n",
       "      <td>cw_div4_attack</td>\n",
       "      <td>relu3-5</td>\n",
       "      <td>10</td>\n",
       "      <td>1.0</td>\n",
       "      <td>0.0</td>\n",
       "      <td>0.9484072250</td>\n",
       "      <td>0.2370114943</td>\n",
       "      <td>0.0660755337</td>\n",
       "      <td>0.0109031199</td>\n",
       "    </tr>\n",
       "    <tr>\n",
       "      <th>15</th>\n",
       "      <td>cw_div4_attack</td>\n",
       "      <td>relu3-5</td>\n",
       "      <td>100</td>\n",
       "      <td>1.0</td>\n",
       "      <td>0.0</td>\n",
       "      <td>0.9486042693</td>\n",
       "      <td>0.2369458128</td>\n",
       "      <td>0.0662725780</td>\n",
       "      <td>0.0110344828</td>\n",
       "    </tr>\n",
       "    <tr>\n",
       "      <th>16</th>\n",
       "      <td>cw_div4_attack</td>\n",
       "      <td>relu3-5</td>\n",
       "      <td>1000</td>\n",
       "      <td>1.0</td>\n",
       "      <td>0.0</td>\n",
       "      <td>0.9493924466</td>\n",
       "      <td>0.2381280788</td>\n",
       "      <td>0.0672577997</td>\n",
       "      <td>0.0112972085</td>\n",
       "    </tr>\n",
       "    <tr>\n",
       "      <th>17</th>\n",
       "      <td>cw_div4_attack</td>\n",
       "      <td>relu3-5</td>\n",
       "      <td>10000</td>\n",
       "      <td>1.0</td>\n",
       "      <td>0.0</td>\n",
       "      <td>0.9524137931</td>\n",
       "      <td>0.2564532020</td>\n",
       "      <td>0.0714285714</td>\n",
       "      <td>0.0118883415</td>\n",
       "    </tr>\n",
       "  </tbody>\n",
       "</table>\n",
       "</div>"
      ],
      "text/plain": [
       "            attack    layer  regularization_weight  orig_acc  pert_acc  \\\n",
       "0   cw_div4_attack  relu1-1                      0       1.0       0.0   \n",
       "1   cw_div4_attack  relu1-1                      1       1.0       0.0   \n",
       "2   cw_div4_attack  relu1-1                     10       1.0       0.0   \n",
       "3   cw_div4_attack  relu1-1                    100       1.0       0.0   \n",
       "4   cw_div4_attack  relu1-1                   1000       1.0       0.0   \n",
       "5   cw_div4_attack  relu1-1                  10000       1.0       0.0   \n",
       "6   cw_div4_attack  relu2-3                      0       1.0       0.0   \n",
       "7   cw_div4_attack  relu2-3                      1       1.0       0.0   \n",
       "8   cw_div4_attack  relu2-3                     10       1.0       0.0   \n",
       "9   cw_div4_attack  relu2-3                    100       1.0       0.0   \n",
       "10  cw_div4_attack  relu2-3                   1000       1.0       0.0   \n",
       "11  cw_div4_attack  relu2-3                  10000       1.0       0.0   \n",
       "12  cw_div4_attack  relu3-5                      0       1.0       0.0   \n",
       "13  cw_div4_attack  relu3-5                      1       1.0       0.0   \n",
       "14  cw_div4_attack  relu3-5                     10       1.0       0.0   \n",
       "15  cw_div4_attack  relu3-5                    100       1.0       0.0   \n",
       "16  cw_div4_attack  relu3-5                   1000       1.0       0.0   \n",
       "17  cw_div4_attack  relu3-5                  10000       1.0       0.0   \n",
       "\n",
       "    neuron_coverage_000  neuron_coverage_020  neuron_coverage_050  \\\n",
       "0          0.9482758621         0.2372742200         0.0660098522   \n",
       "1          0.9482101806         0.2371428571         0.0661412151   \n",
       "2          0.9483415435         0.2372742200         0.0665353038   \n",
       "3          0.9484072250         0.2376683087         0.0665353038   \n",
       "4          0.9476190476         0.2418719212         0.0683087028   \n",
       "5          0.9391461412         0.3030541872         0.0781609195   \n",
       "6          0.9483415435         0.2371428571         0.0664039409   \n",
       "7          0.9483415435         0.2369458128         0.0659441708   \n",
       "8          0.9480131363         0.2369458128         0.0661412151   \n",
       "9          0.9483415435         0.2368801314         0.0662725780   \n",
       "10         0.9467651888         0.2367487685         0.0671264368   \n",
       "11         0.9405911330         0.2313300493         0.0670607553   \n",
       "12         0.9484072250         0.2371428571         0.0659441708   \n",
       "13         0.9481444992         0.2370114943         0.0664039409   \n",
       "14         0.9484072250         0.2370114943         0.0660755337   \n",
       "15         0.9486042693         0.2369458128         0.0662725780   \n",
       "16         0.9493924466         0.2381280788         0.0672577997   \n",
       "17         0.9524137931         0.2564532020         0.0714285714   \n",
       "\n",
       "    neuron_coverage_075  \n",
       "0          0.0109688013  \n",
       "1          0.0110344828  \n",
       "2          0.0113628900  \n",
       "3          0.0113628900  \n",
       "4          0.0120525452  \n",
       "5          0.0137602627  \n",
       "6          0.0111658456  \n",
       "7          0.0109031199  \n",
       "8          0.0111001642  \n",
       "9          0.0111658456  \n",
       "10         0.0117569787  \n",
       "11         0.0153366174  \n",
       "12         0.0109031199  \n",
       "13         0.0111658456  \n",
       "14         0.0109031199  \n",
       "15         0.0110344828  \n",
       "16         0.0112972085  \n",
       "17         0.0118883415  "
      ]
     },
     "execution_count": 8,
     "metadata": {},
     "output_type": "execute_result"
    }
   ],
   "source": [
    "df = pd.DataFrame.from_dict(results)\n",
    "target_features = ['attack', \n",
    "                   'layer', \n",
    "                   'regularization_weight', \n",
    "                   'orig_acc', \n",
    "                   'pert_acc', \n",
    "                   'neuron_coverage_000',\n",
    "                   'neuron_coverage_020',\n",
    "                   'neuron_coverage_050',\n",
    "                   'neuron_coverage_075']\n",
    "df[target_features]"
   ]
  },
  {
   "cell_type": "markdown",
   "metadata": {},
   "source": [
    "## Logits Changes"
   ]
  },
  {
   "cell_type": "code",
   "execution_count": 132,
   "metadata": {},
   "outputs": [],
   "source": [
    "logits_changes = []\n",
    "# _, orig_counts = targets.unique(return_counts=True)\n",
    "for result in results:\n",
    "    pert_output = model(result['adversaries'])\n",
    "    orig_output = model(inputs)\n",
    "    # pert_pred = torch.argmax(pert_output, dim=1)\n",
    "    # _, advs_counts = pert_pred.unique(return_counts=True)\n",
    "    # class_changes.append(orig_counts)\n",
    "    # class_changes.append(advs_counts)\n",
    "    logits_changes.append((pert_output.sum(dim=0).int() - orig_output.sum(dim=0).int()).tolist())"
   ]
  },
  {
   "cell_type": "code",
   "execution_count": 133,
   "metadata": {},
   "outputs": [],
   "source": [
    "normalized_logits_changes = []\n",
    "for row in logits_changes:\n",
    "    row_sum = sum(row)\n",
    "    row = [round(x / row_sum, 3) for x in row]\n",
    "    normalized_logits_changes.append(row)"
   ]
  },
  {
   "cell_type": "code",
   "execution_count": 134,
   "metadata": {},
   "outputs": [
    {
     "data": {
      "text/plain": [
       "[[0.089, 0.083, 0.092, 0.113, 0.098, 0.109, 0.105, 0.082, 0.112, 0.117],\n",
       " [0.089, 0.083, 0.092, 0.113, 0.098, 0.109, 0.105, 0.082, 0.112, 0.117],\n",
       " [0.088, 0.083, 0.093, 0.114, 0.098, 0.109, 0.105, 0.082, 0.112, 0.116],\n",
       " [0.088, 0.084, 0.093, 0.113, 0.098, 0.109, 0.105, 0.082, 0.112, 0.116],\n",
       " [0.09, 0.086, 0.097, 0.112, 0.096, 0.105, 0.106, 0.083, 0.115, 0.11],\n",
       " [0.1, 0.097, 0.109, 0.104, 0.087, 0.099, 0.116, 0.089, 0.108, 0.091],\n",
       " [0.089, 0.083, 0.092, 0.113, 0.098, 0.109, 0.105, 0.082, 0.112, 0.117],\n",
       " [0.089, 0.083, 0.092, 0.113, 0.098, 0.109, 0.105, 0.082, 0.112, 0.117],\n",
       " [0.089, 0.083, 0.093, 0.113, 0.098, 0.109, 0.105, 0.082, 0.112, 0.116],\n",
       " [0.089, 0.083, 0.092, 0.113, 0.098, 0.109, 0.105, 0.082, 0.112, 0.116],\n",
       " [0.09, 0.083, 0.096, 0.11, 0.097, 0.108, 0.105, 0.084, 0.115, 0.112],\n",
       " [0.1, 0.083, 0.102, 0.103, 0.094, 0.103, 0.106, 0.096, 0.122, 0.09],\n",
       " [0.089, 0.083, 0.093, 0.113, 0.098, 0.109, 0.105, 0.082, 0.112, 0.117],\n",
       " [0.089, 0.083, 0.092, 0.113, 0.098, 0.109, 0.105, 0.082, 0.112, 0.117],\n",
       " [0.089, 0.083, 0.092, 0.113, 0.098, 0.109, 0.105, 0.082, 0.112, 0.117],\n",
       " [0.088, 0.084, 0.093, 0.113, 0.098, 0.109, 0.105, 0.082, 0.111, 0.116],\n",
       " [0.086, 0.089, 0.095, 0.111, 0.101, 0.109, 0.105, 0.084, 0.107, 0.113],\n",
       " [0.086, 0.112, 0.108, 0.101, 0.098, 0.113, 0.107, 0.101, 0.085, 0.09]]"
      ]
     },
     "execution_count": 134,
     "metadata": {},
     "output_type": "execute_result"
    }
   ],
   "source": [
    "normalized_logits_changes"
   ]
  },
  {
   "cell_type": "code",
   "execution_count": 115,
   "metadata": {
    "scrolled": true
   },
   "outputs": [
    {
     "data": {
      "text/plain": [
       "[[387, 363, 403, 495, 427, 476, 457, 357, 489, 511],\n",
       " [387, 364, 404, 495, 428, 476, 457, 357, 489, 511],\n",
       " [386, 364, 404, 496, 427, 476, 458, 358, 489, 508],\n",
       " [390, 369, 409, 499, 431, 481, 461, 361, 494, 512],\n",
       " [431, 412, 466, 538, 458, 502, 508, 397, 549, 525],\n",
       " [767, 742, 834, 799, 668, 758, 887, 679, 830, 693],\n",
       " [387, 364, 404, 495, 428, 475, 458, 358, 490, 509],\n",
       " [387, 364, 404, 495, 428, 476, 457, 358, 489, 510],\n",
       " [387, 364, 405, 495, 427, 475, 458, 358, 489, 508],\n",
       " [389, 366, 405, 496, 430, 478, 462, 360, 493, 510],\n",
       " [410, 377, 437, 502, 443, 492, 479, 385, 524, 510],\n",
       " [656, 546, 669, 672, 612, 675, 695, 631, 797, 592],\n",
       " [389, 365, 405, 496, 428, 477, 458, 359, 490, 511],\n",
       " [387, 364, 404, 495, 428, 476, 458, 357, 490, 509],\n",
       " [388, 365, 404, 495, 428, 476, 458, 358, 490, 511],\n",
       " [385, 366, 404, 493, 428, 474, 457, 357, 485, 506],\n",
       " [366, 381, 404, 472, 433, 463, 450, 360, 457, 481],\n",
       " [388, 504, 490, 457, 441, 511, 482, 454, 383, 407]]"
      ]
     },
     "execution_count": 115,
     "metadata": {},
     "output_type": "execute_result"
    }
   ],
   "source": [
    "logits_changes"
   ]
  },
  {
   "cell_type": "code",
   "execution_count": 131,
   "metadata": {},
   "outputs": [
    {
     "data": {
      "text/plain": [
       "tensor([11303.6230,  9638.0166, 13203.8291,  6760.9893,  4688.5737,  6178.8730,\n",
       "        12462.7998,  9218.8359, 12183.6240,  2986.5505], device='cuda:0',\n",
       "       grad_fn=<VarBackward1>)"
      ]
     },
     "execution_count": 131,
     "metadata": {},
     "output_type": "execute_result"
    }
   ],
   "source": [
    "torch.stack(logits_changes).var(dim=0)"
   ]
  },
  {
   "cell_type": "code",
   "execution_count": 106,
   "metadata": {},
   "outputs": [
    {
     "data": {
      "text/plain": [
       "tensor([426.0808, 407.4556, 452.6254, 521.4553, 455.6634, 506.4740, 500.0867,\n",
       "        400.1048, 523.6196, 518.2455], device='cuda:0',\n",
       "       grad_fn=<MeanBackward2>)"
      ]
     },
     "execution_count": 106,
     "metadata": {},
     "output_type": "execute_result"
    }
   ],
   "source": [
    "torch.stack(logits_changes).mean(dim=0)"
   ]
  },
  {
   "cell_type": "markdown",
   "metadata": {},
   "source": [
    "## Class Changes"
   ]
  },
  {
   "cell_type": "code",
   "execution_count": 140,
   "metadata": {},
   "outputs": [],
   "source": [
    "class_changes = []\n",
    "_, orig_counts = targets.unique(return_counts=True)\n",
    "for result in results:\n",
    "    pert_output = model(result['adversaries'])\n",
    "    pert_pred = torch.argmax(pert_output, dim=1)\n",
    "    _, advs_counts = pert_pred.unique(return_counts=True)\n",
    "    # class_changes.append(orig_counts)\n",
    "    # class_changes.append(advs_counts)\n",
    "    class_changes.append((advs_counts - orig_counts))"
   ]
  },
  {
   "cell_type": "code",
   "execution_count": 141,
   "metadata": {},
   "outputs": [
    {
     "data": {
      "text/plain": [
       "[tensor([ -4, -10,   1,  -3,   4,   3,   2, -10,  11,   6], device='cuda:0'),\n",
       " tensor([ -4, -10,   1,  -3,   4,   3,   2, -10,  11,   6], device='cuda:0'),\n",
       " tensor([ -4, -10,   1,  -3,   4,   3,   2, -10,  11,   6], device='cuda:0'),\n",
       " tensor([ -4, -10,   1,  -3,   4,   3,   2, -10,  11,   6], device='cuda:0'),\n",
       " tensor([ -4, -10,   1,  -2,   3,   1,   2, -10,  14,   5], device='cuda:0'),\n",
       " tensor([ -3, -11,   5,  -4,  -5,   2,   0, -11,  24,   3], device='cuda:0'),\n",
       " tensor([ -4, -10,   1,  -3,   4,   3,   2, -10,  11,   6], device='cuda:0'),\n",
       " tensor([ -4, -10,   1,  -3,   4,   3,   2, -10,  11,   6], device='cuda:0'),\n",
       " tensor([ -4, -10,   1,  -3,   4,   3,   2, -10,  11,   6], device='cuda:0'),\n",
       " tensor([ -4, -10,   1,  -3,   4,   3,   2, -10,  11,   6], device='cuda:0'),\n",
       " tensor([ -4, -10,   2,  -4,   3,   3,   2,  -9,  11,   6], device='cuda:0'),\n",
       " tensor([ -4, -13,   3,  -4,  -5,   3,   0,  -7,  25,   2], device='cuda:0'),\n",
       " tensor([ -4, -10,   1,  -3,   4,   3,   2, -10,  11,   6], device='cuda:0'),\n",
       " tensor([ -4, -10,   1,  -3,   4,   3,   2, -10,  11,   6], device='cuda:0'),\n",
       " tensor([ -4, -10,   1,  -3,   4,   3,   2, -10,  11,   6], device='cuda:0'),\n",
       " tensor([ -4, -10,   1,  -3,   4,   3,   2, -10,  11,   6], device='cuda:0'),\n",
       " tensor([ -5,  -9,   1,  -3,   6,   3,   2, -10,  10,   5], device='cuda:0'),\n",
       " tensor([-5, -9,  1, -4,  4,  6,  3, -5,  7,  2], device='cuda:0')]"
      ]
     },
     "execution_count": 141,
     "metadata": {},
     "output_type": "execute_result"
    }
   ],
   "source": [
    "class_changes"
   ]
  },
  {
   "cell_type": "code",
   "execution_count": 69,
   "metadata": {},
   "outputs": [
    {
     "data": {
      "text/plain": [
       "tensor([ 0.1732,  0.6928,  1.0752,  0.2647,  8.8235,  0.8235,  0.5000,  1.9085,\n",
       "        20.9575,  1.9771], device='cuda:0')"
      ]
     },
     "execution_count": 69,
     "metadata": {},
     "output_type": "execute_result"
    }
   ],
   "source": [
    "torch.stack(class_changes).float().var(dim=0)"
   ]
  },
  {
   "cell_type": "code",
   "execution_count": 70,
   "metadata": {},
   "outputs": [
    {
     "data": {
      "text/plain": [
       "tensor([ -4.0556, -10.1111,   1.3889,  -3.1667,   3.0000,   3.0000,   1.8333,\n",
       "         -9.5556,  12.3889,   5.2778], device='cuda:0')"
      ]
     },
     "execution_count": 70,
     "metadata": {},
     "output_type": "execute_result"
    }
   ],
   "source": [
    "torch.stack(class_changes).float().mean(dim=0)"
   ]
  },
  {
   "cell_type": "code",
   "execution_count": null,
   "metadata": {},
   "outputs": [],
   "source": []
  }
 ],
 "metadata": {
  "accelerator": "GPU",
  "colab": {
   "collapsed_sections": [],
   "name": "CW_div_pytorch.ipynb",
   "provenance": [],
   "toc_visible": true,
   "version": "0.3.2"
  },
  "kernelspec": {
   "display_name": "Python 3",
   "language": "python",
   "name": "python3"
  },
  "language_info": {
   "codemirror_mode": {
    "name": "ipython",
    "version": 3
   },
   "file_extension": ".py",
   "mimetype": "text/x-python",
   "name": "python",
   "nbconvert_exporter": "python",
   "pygments_lexer": "ipython3",
   "version": "3.6.9"
  }
 },
 "nbformat": 4,
 "nbformat_minor": 1
}
