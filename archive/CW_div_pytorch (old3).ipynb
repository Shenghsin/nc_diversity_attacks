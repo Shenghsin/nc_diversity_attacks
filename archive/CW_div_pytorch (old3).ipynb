{
  "nbformat": 4,
  "nbformat_minor": 0,
  "metadata": {
    "colab": {
      "name": "CW_div_pytorch.ipynb",
      "version": "0.3.2",
      "provenance": [],
      "collapsed_sections": [],
      "toc_visible": true
    },
    "language_info": {
      "codemirror_mode": {
        "name": "ipython",
        "version": 3
      },
      "file_extension": ".py",
      "mimetype": "text/x-python",
      "name": "python",
      "nbconvert_exporter": "python",
      "pygments_lexer": "ipython3",
      "version": "3.7.0"
    },
    "kernelspec": {
      "display_name": "Python 3",
      "language": "python",
      "name": "python3"
    },
    "accelerator": "GPU"
  },
  "cells": [
    {
      "cell_type": "code",
      "metadata": {
        "colab_type": "code",
        "id": "yeR2kRlPR7v0",
        "colab": {}
      },
      "source": [
        "import torch\n",
        "import torch.nn as nn\n",
        "import torch.nn.functional as F\n",
        "import torch.optim as optim\n",
        "from torch.autograd import Variable\n",
        "\n",
        "import torchvision\n",
        "import torchvision.transforms as transforms\n",
        "\n",
        "import numpy as np\n",
        "import matplotlib.pyplot as plt\n",
        "\n",
        "import warnings\n",
        "warnings.filterwarnings('ignore')\n",
        "\n",
        "import datetime\n",
        "import glob\n",
        "import os\n",
        "\n",
        "%matplotlib inline"
      ],
      "execution_count": 0,
      "outputs": []
    },
    {
      "cell_type": "code",
      "metadata": {
        "colab_type": "code",
        "id": "IByUFiD8VfFD",
        "outputId": "dbbb8d49-c9ae-4d28-a332-7965ec4963ea",
        "colab": {
          "base_uri": "https://localhost:8080/",
          "height": 34
        }
      },
      "source": [
        "n_epochs = 5\n",
        "batch_size_train = 64\n",
        "batch_size_test = 100\n",
        "learning_rate = 0.01\n",
        "momentum = 0.5\n",
        "log_interval = 100\n",
        "\n",
        "random_seed = 1\n",
        "torch.manual_seed(random_seed)\n",
        "\n",
        "# check if CUDA is available\n",
        "device = torch.device(\"cpu\")\n",
        "if torch.cuda.is_available():\n",
        "    print('CUDA is available!  Training on GPU ...')\n",
        "    device = torch.device(\"cuda\")\n",
        "else:\n",
        "    print('CUDA is not available.  Training on CPU ...')"
      ],
      "execution_count": 2,
      "outputs": [
        {
          "output_type": "stream",
          "text": [
            "CUDA is available!  Training on GPU ...\n"
          ],
          "name": "stdout"
        }
      ]
    },
    {
      "cell_type": "code",
      "metadata": {
        "colab_type": "code",
        "id": "7l36L4F5VifU",
        "colab": {
          "base_uri": "https://localhost:8080/",
          "height": 255
        },
        "outputId": "a08d2a90-0431-4e47-b7cc-678b03de4f32"
      },
      "source": [
        "#  torchvision.transforms.Normalize(\n",
        "#    (0.1307,), (0.3081,))\n",
        "\n",
        "train_loader = torch.utils.data.DataLoader(\n",
        "    torchvision.datasets.MNIST('/data/', train=True, download=True,\n",
        "                             transform=torchvision.transforms.Compose([\n",
        "                               torchvision.transforms.ToTensor()\n",
        "                             ])),\n",
        "    batch_size=batch_size_train, shuffle=True, pin_memory=True)\n",
        "\n",
        "test_loader = torch.utils.data.DataLoader(\n",
        "    torchvision.datasets.MNIST('/data/', train=False, download=True,\n",
        "                         transform=torchvision.transforms.Compose([\n",
        "                           torchvision.transforms.ToTensor()\n",
        "                         ])),\n",
        "    batch_size=batch_size_test, shuffle=True, pin_memory=True)"
      ],
      "execution_count": 3,
      "outputs": [
        {
          "output_type": "stream",
          "text": [
            "\r0it [00:00, ?it/s]"
          ],
          "name": "stderr"
        },
        {
          "output_type": "stream",
          "text": [
            "Downloading http://yann.lecun.com/exdb/mnist/train-images-idx3-ubyte.gz to /data/MNIST/raw/train-images-idx3-ubyte.gz\n"
          ],
          "name": "stdout"
        },
        {
          "output_type": "stream",
          "text": [
            "9920512it [00:01, 7973054.86it/s]                            \n"
          ],
          "name": "stderr"
        },
        {
          "output_type": "stream",
          "text": [
            "Extracting /data/MNIST/raw/train-images-idx3-ubyte.gz\n"
          ],
          "name": "stdout"
        },
        {
          "output_type": "stream",
          "text": [
            "  0%|          | 0/28881 [00:00<?, ?it/s]"
          ],
          "name": "stderr"
        },
        {
          "output_type": "stream",
          "text": [
            "Downloading http://yann.lecun.com/exdb/mnist/train-labels-idx1-ubyte.gz to /data/MNIST/raw/train-labels-idx1-ubyte.gz\n"
          ],
          "name": "stdout"
        },
        {
          "output_type": "stream",
          "text": [
            "32768it [00:00, 128852.60it/s]           \n",
            "  0%|          | 0/1648877 [00:00<?, ?it/s]"
          ],
          "name": "stderr"
        },
        {
          "output_type": "stream",
          "text": [
            "Extracting /data/MNIST/raw/train-labels-idx1-ubyte.gz\n",
            "Downloading http://yann.lecun.com/exdb/mnist/t10k-images-idx3-ubyte.gz to /data/MNIST/raw/t10k-images-idx3-ubyte.gz\n"
          ],
          "name": "stdout"
        },
        {
          "output_type": "stream",
          "text": [
            "1654784it [00:00, 2125393.89it/s]                            \n",
            "0it [00:00, ?it/s]"
          ],
          "name": "stderr"
        },
        {
          "output_type": "stream",
          "text": [
            "Extracting /data/MNIST/raw/t10k-images-idx3-ubyte.gz\n",
            "Downloading http://yann.lecun.com/exdb/mnist/t10k-labels-idx1-ubyte.gz to /data/MNIST/raw/t10k-labels-idx1-ubyte.gz\n"
          ],
          "name": "stdout"
        },
        {
          "output_type": "stream",
          "text": [
            "8192it [00:00, 49566.35it/s]            \n"
          ],
          "name": "stderr"
        },
        {
          "output_type": "stream",
          "text": [
            "Extracting /data/MNIST/raw/t10k-labels-idx1-ubyte.gz\n",
            "Processing...\n",
            "Done!\n"
          ],
          "name": "stdout"
        }
      ]
    },
    {
      "cell_type": "code",
      "metadata": {
        "colab_type": "code",
        "id": "yKEku0wcSCVQ",
        "colab": {}
      },
      "source": [
        "class DenseNet(nn.Module):\n",
        "    def __init__(self):\n",
        "        super(DenseNet, self).__init__()\n",
        "        self.dens1 = nn.Linear(784, 256)\n",
        "        self.relu1 = nn.ReLU()\n",
        "        self.drop1 = nn.Dropout(0.2)\n",
        "        self.dens2 = nn.Linear(256, 128)\n",
        "        self.relu2 = nn.ReLU()\n",
        "        self.drop2 = nn.Dropout(0.2)\n",
        "        self.dens3 = nn.Linear(128, 64)\n",
        "        self.relu3 = nn.ReLU()\n",
        "        self.drop3 = nn.Dropout(0.2)\n",
        "        self.dens4 = nn.Linear(64, 20)\n",
        "        self.relu4 = nn.ReLU()\n",
        "        self.drop4 = nn.Dropout(0.2)\n",
        "        self.dens5 = nn.Linear(20, 10)\n",
        "\n",
        "    def forward(self, x):\n",
        "        x = x.view(x.size(0), -1)\n",
        "        x = self.dens1(x)\n",
        "        x = self.relu1(x)\n",
        "        x = self.drop1(x)\n",
        "        x = self.dens2(x)\n",
        "        x = self.relu2(x)\n",
        "        x = self.drop2(x)\n",
        "        x = self.dens3(x)\n",
        "        x = self.relu3(x)\n",
        "        x = self.drop3(x)\n",
        "        x = self.dens4(x)\n",
        "        x = self.relu4(x)\n",
        "        x = self.drop4(x)\n",
        "        x = self.dens5(x)\n",
        "        return F.log_softmax(x, dim=1)\n",
        "    \n",
        "    def extract_outputs(self, data, layer, neuron=None):\n",
        "        outputs = []      \n",
        "        def hook(module, input, output):\n",
        "            outputs.append(output)    \n",
        "        for name, module in self.named_children():\n",
        "            if name == layer:\n",
        "                handle = module.register_forward_hook(hook)     \n",
        "        out = self(data)\n",
        "        if not neuron is None:\n",
        "            outputs[0] = outputs[0][0][neuron]\n",
        "        else:\n",
        "            outputs[0] = outputs[0][0]\n",
        "        handle.remove()\n",
        "        return torch.stack(outputs)\n",
        "\n",
        "class ConvNet(nn.Module):\n",
        "    def __init__(self):\n",
        "        super(ConvNet, self).__init__()\n",
        "        self.conv1 = nn.Conv2d(1, 20, 5, 1)\n",
        "        self.relu1 = nn.ReLU()\n",
        "        self.conv2 = nn.Conv2d(20, 50, 5, 1)\n",
        "        self.relu2 = nn.ReLU()\n",
        "        self.fc1 = nn.Linear(4 * 4 * 50, 500)\n",
        "        self.relu3 = nn.ReLU()\n",
        "        self.fc2 = nn.Linear(500, 10)\n",
        "\n",
        "    def forward(self, x):\n",
        "        x = self.conv1(x)\n",
        "        x = self.relu1(x)\n",
        "        x = F.max_pool2d(x, 2, 2)\n",
        "        x = self.conv2(x)\n",
        "        x = self.relu2(x)\n",
        "        x = F.max_pool2d(x, 2, 2)\n",
        "        x = x.view(-1, 4 * 4 * 50)\n",
        "        x = self.fc1(x)\n",
        "        x = self.relu3(x)\n",
        "        x = self.fc2(x)\n",
        "        return F.log_softmax(x, dim=1)\n",
        "    \n",
        "    def extract_outputs(self, data, layer, neuron=None):\n",
        "        outputs = []      \n",
        "        def hook(module, input, output):\n",
        "            outputs.append(output)    \n",
        "        for name, module in self.named_children():\n",
        "            if name == layer:\n",
        "                handle = module.register_forward_hook(hook)     \n",
        "        out = self(data)\n",
        "        if not neuron is None:\n",
        "            outputs[0] = outputs[0][0][neuron]\n",
        "        else:\n",
        "            outputs[0] = outputs[0][0]\n",
        "        handle.remove()\n",
        "        return torch.stack(outputs)\n",
        "  \n",
        "def train(model, device, train_loader, optimizer, epoch):\n",
        "    model.train()\n",
        "    for batch_idx, (data, target) in enumerate(train_loader):\n",
        "        data, target = data.to(device), target.to(device)\n",
        "        optimizer.zero_grad()\n",
        "        # calculate robust loss\n",
        "        loss = F.cross_entropy(model(data), target)\n",
        "        loss.backward()\n",
        "        optimizer.step()\n",
        "        if batch_idx % log_interval == 0:\n",
        "            print('Train Epoch: {} [{}/{} ({:.0f}%)]\\tLoss: {:.6f}'.format(\n",
        "                epoch, batch_idx * len(data), len(train_loader.dataset),\n",
        "                       100. * batch_idx / len(train_loader), loss.item()))\n",
        "            \n",
        "def test(model, device, test_loader):\n",
        "    model.eval()\n",
        "    test_loss = 0\n",
        "    correct = 0\n",
        "    with torch.no_grad():\n",
        "        for data, target in test_loader:\n",
        "            data, target = data.to(device), target.to(device)\n",
        "            output = model(data)\n",
        "            test_loss += F.nll_loss(output, target, reduction='sum').item()  # sum up batch loss\n",
        "            pred = output.argmax(dim=1, keepdim=True)  # get the index of the max log-probability\n",
        "            correct += pred.eq(target.view_as(pred)).sum().item()\n",
        "    test_loss /= len(test_loader.dataset)\n",
        "    print('\\nTest set: Average loss: {:.4f}, Accuracy: {}/{} ({:.0f}%)\\n'.format(\n",
        "        test_loss, correct, len(test_loader.dataset),\n",
        "        100. * correct / len(test_loader.dataset)))"
      ],
      "execution_count": 0,
      "outputs": []
    },
    {
      "cell_type": "code",
      "metadata": {
        "colab_type": "code",
        "id": "YCva0V7uVIZ_",
        "outputId": "ea5aac8d-f442-4e37-a6a3-25ae1e4b307f",
        "colab": {
          "base_uri": "https://localhost:8080/",
          "height": 1000
        }
      },
      "source": [
        "model = ConvNet().to(device)\n",
        "optimizer = optim.SGD(model.parameters(), lr=learning_rate, momentum=momentum)\n",
        "\n",
        "# check to see if we can just load a previous model\n",
        "%mkdir models\n",
        "latest_model = None\n",
        "m_type = model.__class__.__name__\n",
        "prev_models = glob.glob('/content/models/*'+ m_type +'*.pth')\n",
        "if prev_models:\n",
        "    latest_model = max(prev_models, key=os.path.getctime)\n",
        "\n",
        "if latest_model is not None and m_type in latest_model:\n",
        "    print('loading model', latest_model)\n",
        "    model.load_state_dict(torch.load(latest_model))  \n",
        "else:\n",
        "    for epoch in range(1, n_epochs + 1):\n",
        "        train(model, device, train_loader, optimizer, epoch)\n",
        "        test(model, device, test_loader)    \n",
        "    torch.save(model.state_dict(), '/content/models/model_' + m_type + '_' +str(datetime.datetime.now()).replace(':','.') + '.pth')"
      ],
      "execution_count": 5,
      "outputs": [
        {
          "output_type": "stream",
          "text": [
            "Train Epoch: 1 [0/60000 (0%)]\tLoss: 2.301512\n",
            "Train Epoch: 1 [6400/60000 (11%)]\tLoss: 2.191104\n",
            "Train Epoch: 1 [12800/60000 (21%)]\tLoss: 0.806484\n",
            "Train Epoch: 1 [19200/60000 (32%)]\tLoss: 0.701382\n",
            "Train Epoch: 1 [25600/60000 (43%)]\tLoss: 0.419531\n",
            "Train Epoch: 1 [32000/60000 (53%)]\tLoss: 0.603290\n",
            "Train Epoch: 1 [38400/60000 (64%)]\tLoss: 0.135957\n",
            "Train Epoch: 1 [44800/60000 (75%)]\tLoss: 0.227602\n",
            "Train Epoch: 1 [51200/60000 (85%)]\tLoss: 0.336506\n",
            "Train Epoch: 1 [57600/60000 (96%)]\tLoss: 0.158178\n",
            "\n",
            "Test set: Average loss: 0.1832, Accuracy: 9451/10000 (95%)\n",
            "\n",
            "Train Epoch: 2 [0/60000 (0%)]\tLoss: 0.309578\n",
            "Train Epoch: 2 [6400/60000 (11%)]\tLoss: 0.161466\n",
            "Train Epoch: 2 [12800/60000 (21%)]\tLoss: 0.109566\n",
            "Train Epoch: 2 [19200/60000 (32%)]\tLoss: 0.126329\n",
            "Train Epoch: 2 [25600/60000 (43%)]\tLoss: 0.202263\n",
            "Train Epoch: 2 [32000/60000 (53%)]\tLoss: 0.079417\n",
            "Train Epoch: 2 [38400/60000 (64%)]\tLoss: 0.103295\n",
            "Train Epoch: 2 [44800/60000 (75%)]\tLoss: 0.058044\n",
            "Train Epoch: 2 [51200/60000 (85%)]\tLoss: 0.056968\n",
            "Train Epoch: 2 [57600/60000 (96%)]\tLoss: 0.083011\n",
            "\n",
            "Test set: Average loss: 0.1069, Accuracy: 9672/10000 (97%)\n",
            "\n",
            "Train Epoch: 3 [0/60000 (0%)]\tLoss: 0.109435\n",
            "Train Epoch: 3 [6400/60000 (11%)]\tLoss: 0.098423\n",
            "Train Epoch: 3 [12800/60000 (21%)]\tLoss: 0.068376\n",
            "Train Epoch: 3 [19200/60000 (32%)]\tLoss: 0.117907\n",
            "Train Epoch: 3 [25600/60000 (43%)]\tLoss: 0.055617\n",
            "Train Epoch: 3 [32000/60000 (53%)]\tLoss: 0.051890\n",
            "Train Epoch: 3 [38400/60000 (64%)]\tLoss: 0.073384\n",
            "Train Epoch: 3 [44800/60000 (75%)]\tLoss: 0.110935\n",
            "Train Epoch: 3 [51200/60000 (85%)]\tLoss: 0.052715\n",
            "Train Epoch: 3 [57600/60000 (96%)]\tLoss: 0.038519\n",
            "\n",
            "Test set: Average loss: 0.0849, Accuracy: 9707/10000 (97%)\n",
            "\n",
            "Train Epoch: 4 [0/60000 (0%)]\tLoss: 0.058056\n",
            "Train Epoch: 4 [6400/60000 (11%)]\tLoss: 0.074083\n",
            "Train Epoch: 4 [12800/60000 (21%)]\tLoss: 0.097400\n",
            "Train Epoch: 4 [19200/60000 (32%)]\tLoss: 0.062371\n",
            "Train Epoch: 4 [25600/60000 (43%)]\tLoss: 0.017662\n",
            "Train Epoch: 4 [32000/60000 (53%)]\tLoss: 0.024745\n",
            "Train Epoch: 4 [38400/60000 (64%)]\tLoss: 0.016720\n",
            "Train Epoch: 4 [44800/60000 (75%)]\tLoss: 0.094370\n",
            "Train Epoch: 4 [51200/60000 (85%)]\tLoss: 0.043104\n",
            "Train Epoch: 4 [57600/60000 (96%)]\tLoss: 0.088015\n",
            "\n",
            "Test set: Average loss: 0.0622, Accuracy: 9800/10000 (98%)\n",
            "\n",
            "Train Epoch: 5 [0/60000 (0%)]\tLoss: 0.046443\n",
            "Train Epoch: 5 [6400/60000 (11%)]\tLoss: 0.064826\n",
            "Train Epoch: 5 [12800/60000 (21%)]\tLoss: 0.098531\n",
            "Train Epoch: 5 [19200/60000 (32%)]\tLoss: 0.060462\n",
            "Train Epoch: 5 [25600/60000 (43%)]\tLoss: 0.056099\n",
            "Train Epoch: 5 [32000/60000 (53%)]\tLoss: 0.087636\n",
            "Train Epoch: 5 [38400/60000 (64%)]\tLoss: 0.118126\n",
            "Train Epoch: 5 [44800/60000 (75%)]\tLoss: 0.230854\n",
            "Train Epoch: 5 [51200/60000 (85%)]\tLoss: 0.097971\n",
            "Train Epoch: 5 [57600/60000 (96%)]\tLoss: 0.041652\n",
            "\n",
            "Test set: Average loss: 0.0566, Accuracy: 9823/10000 (98%)\n",
            "\n"
          ],
          "name": "stdout"
        }
      ]
    },
    {
      "cell_type": "markdown",
      "metadata": {
        "colab_type": "text",
        "id": "_xXXilwbZq-v"
      },
      "source": [
        "# Attack Time"
      ]
    },
    {
      "cell_type": "code",
      "metadata": {
        "colab_type": "code",
        "id": "Im4wutR6ge14",
        "colab": {}
      },
      "source": [
        "def atanh(x, eps=1e-2):\n",
        "    \"\"\"\n",
        "    The inverse hyperbolic tangent function, missing in pytorch.\n",
        "\n",
        "    :param x: a tensor or a Variable\n",
        "    :param eps: used to enhance numeric stability\n",
        "    :return: :math:`\\\\tanh^{-1}{x}`, of the same type as ``x``\n",
        "    \"\"\"\n",
        "    x = x * (1 - eps)\n",
        "    return 0.5 * torch.log((1.0 + x) / (1.0 - x))\n",
        "\n",
        "def to_tanh_space(x, box=(-1., 1.)):\n",
        "    \"\"\"\n",
        "    Convert a batch of tensors to tanh-space. This method complements the\n",
        "    implementation of the change-of-variable trick in terms of tanh.\n",
        "\n",
        "    :param x: the batch of tensors, of dimension [B x C x H x W]\n",
        "    :param box: a tuple of lower bound and upper bound of the box constraint\n",
        "    :return: the batch of tensors in tanh-space, of the same dimension;\n",
        "             the returned tensor is on the same device as ``x``\n",
        "    \"\"\"\n",
        "    _box_mul = (box[1] - box[0]) * 0.5\n",
        "    _box_plus = (box[1] + box[0]) * 0.5\n",
        "    return atanh((x - _box_plus) / _box_mul)\n",
        "\n",
        "def from_tanh_space(x, box=(-1., 1.)):\n",
        "    \"\"\"\n",
        "    Convert a batch of tensors from tanh-space to oridinary image space.\n",
        "    This method complements the implementation of the change-of-variable trick\n",
        "    in terms of tanh.\n",
        "\n",
        "    :param x: the batch of tensors, of dimension [B x C x H x W]\n",
        "    :param box: a tuple of lower bound and upper bound of the box constraint\n",
        "    :return: the batch of tensors in ordinary image space, of the same\n",
        "             dimension; the returned tensor is on the same device as ``x``\n",
        "    \"\"\"\n",
        "    _box_mul = (box[1] - box[0]) * 0.5\n",
        "    _box_plus = (box[1] + box[0]) * 0.5\n",
        "    return torch.tanh(x) * _box_mul + _box_plus\n",
        "  \n",
        "def compensate_confidence(outputs, targets):\n",
        "    \"\"\"\n",
        "    Compensate for ``self.confidence`` and returns a new weighted sum\n",
        "    vector.\n",
        "\n",
        "    :param outputs: the weighted sum right before the last layer softmax\n",
        "           normalization, of dimension [B x M]\n",
        "    :type outputs: np.ndarray\n",
        "    :param targets: either the attack targets or the real image labels,\n",
        "           depending on whether or not ``self.targeted``, of dimension [B]\n",
        "    :type targets: np.ndarray\n",
        "    :return: the compensated weighted sum of dimension [B x M]\n",
        "    :rtype: np.ndarray\n",
        "    \"\"\"\n",
        "    outputs_comp = outputs.clone()\n",
        "    rng = torch.range(start=0, end=targets.shape[0]-1, dtype=torch.long, device=device)\n",
        "    # targets = targets.int()\n",
        "    if targeted:\n",
        "        # for each image $i$:\n",
        "        # if targeted, `outputs[i, target_onehot]` should be larger than\n",
        "        # `max(outputs[i, ~target_onehot])` by `self.confidence`\n",
        "        outputs_comp[rng, targets] -= confidence\n",
        "    else:\n",
        "        # for each image $i$:\n",
        "        # if not targeted, `max(outputs[i, ~target_onehot]` should be larger\n",
        "        # than `outputs[i, target_onehot]` (the ground truth image labels)\n",
        "        # by `self.confidence`\n",
        "        outputs_comp[rng, targets] += confidence\n",
        "    return outputs_comp\n",
        "  \n",
        "def attack_successful(prediction, target):\n",
        "    \"\"\"\n",
        "    See whether the underlying attack is successful.\n",
        "\n",
        "    :param prediction: the prediction of the model on an input\n",
        "    :type prediction: int\n",
        "    :param target: either the attack target or the ground-truth image label\n",
        "    :type target: int\n",
        "    :return: ``True`` if the attack is successful\n",
        "    :rtype: bool\n",
        "    \"\"\"\n",
        "    if targeted:\n",
        "        return prediction == target\n",
        "    else:\n",
        "        return prediction != target\n",
        "      \n",
        "def norm_divergence(data, model, layer, neuron=None, regularizer_weight=None):\n",
        "    \"\"\"\n",
        "    returns the kld between the activations of the specified layer and a uniform pdf\n",
        "    \"\"\"\n",
        "    # extract layer activations as numpy array\n",
        "    layer_activations = model.extract_outputs(data=data, layer=layer)\n",
        "    \n",
        "    # normalize with softmax (to get a probability density)\n",
        "    out_norm = torch.sum(layer_activations, 0)\n",
        "    out_norm = F.softmax(out_norm, 0)\n",
        "\n",
        "    # create uniform tensor\n",
        "    uniform_tensor = torch.FloatTensor(*out_norm.shape).uniform_(0., 1.).to(device)\n",
        "\n",
        "    # normalize over summation (to get a probability density)\n",
        "    uni_norm = uniform_tensor/torch.sum(uniform_tensor)\n",
        "    \n",
        "    # measure divergence between normalized layer activations and uniform distribution\n",
        "    divergence = F.kl_div(input=out_norm.log(), target=uni_norm, reduction='sum')\n",
        "    \n",
        "    # default regularizer if not provided\n",
        "    if regularizer_weight is None:\n",
        "        regularizer_weight = 0.005 \n",
        "    \n",
        "    return regularizer_weight * divergence\n",
        "\n",
        "def eval_performance(model, originals, adversaries):\n",
        "    pert_output = model(adversaries)\n",
        "    orig_output = model(originals)\n",
        "\n",
        "    pert_pred = torch.argmax(pert_output, dim=1)\n",
        "    orig_pred = torch.argmax(orig_output, dim=1)\n",
        "\n",
        "    pert_correct = pert_pred.eq(targets.data).sum()\n",
        "    orig_correct = orig_pred.eq(targets.data).sum()\n",
        "\n",
        "    pert_acc = 100. * pert_correct / len(targets)\n",
        "    orig_acc = 100. * orig_correct / len(targets)\n",
        "\n",
        "    print('Perturbed Accuracy: {}/{} ({:.0f}%)\\n'.format(pert_correct, len(targets), pert_acc))\n",
        "    print('Original Accuracy: {}/{} ({:.0f}%)\\n'.format(orig_correct, len(targets), orig_acc))\n",
        "    \n",
        "    return pert_acc, orig_acc\n",
        "\n",
        "def sample_images(originals, adversaries, num_samples = 5):\n",
        "    orig_inputs = originals.cpu().detach().numpy()\n",
        "    adv_examples = adversaries.cpu().detach().numpy()\n",
        "    pert_output = model(adversaries)\n",
        "    orig_output = model(originals)\n",
        "    pert_pred = torch.argmax(pert_output, dim=1)\n",
        "    orig_pred = torch.argmax(orig_output, dim=1)\n",
        "    plt.figure(figsize=(15,8))\n",
        "    for i in range(1, num_samples+1):\n",
        "        plt.subplot(2, num_samples, i)\n",
        "        plt.imshow(np.squeeze(orig_inputs[i]), cmap='gray')  \n",
        "        plt.title('true: {}'.format(targets[i].item()))\n",
        "        plt.xticks([])\n",
        "        plt.yticks([])\n",
        "\n",
        "        plt.subplot(2, num_samples, num_samples+i)\n",
        "        plt.imshow(np.squeeze(adv_examples[i]), cmap='gray')\n",
        "        plt.title('adv_pred: {} - orig_pred: {}'.format(pert_pred[i].item(), orig_pred[i].item()))\n",
        "        plt.xticks([])\n",
        "        plt.yticks([])\n",
        "\n",
        "    plt.tight_layout()\n",
        "    plt.show()"
      ],
      "execution_count": 0,
      "outputs": []
    },
    {
      "cell_type": "code",
      "metadata": {
        "colab_type": "code",
        "id": "X7o_T3B3dWzu",
        "colab": {}
      },
      "source": [
        "# targets = true labels only for when you're doing a targeted attack\n",
        "# otherwise, you're going to make the inputs easier to classify to \n",
        "# do a targeted attack, targets should be some class other than\n",
        "# the true label\n",
        "\n",
        "inputs, targets = next(iter(test_loader))\n",
        "\n",
        "inputs = inputs.to(device)\n",
        "targets = targets.to(device)"
      ],
      "execution_count": 0,
      "outputs": []
    },
    {
      "cell_type": "code",
      "metadata": {
        "colab_type": "code",
        "id": "KiGJy0r2h4aJ",
        "colab": {}
      },
      "source": [
        "def cw_l2_attack(model, inputs, targets, targeted=False, confidence=0.0,\n",
        "                 c_range=(1e-3, 1e10), search_steps=5, max_steps=1000, \n",
        "                 abort_early=True, box=(-1., 1.), optimizer_lr=1e-2, \n",
        "                 init_rand=False, log_frequency=10):\n",
        "\n",
        "    batch_size = inputs.size(0)\n",
        "    num_classes = model(torch.tensor(inputs[0][None,:], requires_grad=False)).size(1)\n",
        "\n",
        "    # `lower_bounds`, `upper_bounds` and `scale_consts` are used\n",
        "    # for binary search of each `scale_const` in the batch. The element-wise\n",
        "    # inquality holds: lower_bounds < scale_consts <= upper_bounds\n",
        "    lower_bounds = torch.tensor(np.zeros(batch_size), dtype=torch.float, device=device)\n",
        "    upper_bounds = torch.tensor(np.ones(batch_size) * c_range[1], dtype=torch.float, device=device)\n",
        "    scale_consts = torch.tensor(np.ones(batch_size) * c_range[0], dtype=torch.float, device=device)\n",
        "\n",
        "    # Optimal attack to be found.\n",
        "    # The three \"placeholders\" are defined as:\n",
        "    # - `o_best_l2`          : the least L2 norms\n",
        "    # - `o_best_l2_ppred`    : the perturbed predictions made by the adversarial perturbations with the least L2 norms\n",
        "    # - `o_best_adversaries` : the underlying adversarial example of `o_best_l2_ppred`\n",
        "    o_best_l2 = torch.tensor(np.ones(batch_size) * np.inf, dtype=torch.float, device=device)\n",
        "    o_best_l2_ppred = torch.tensor(-np.ones(batch_size), dtype=torch.float, device=device)\n",
        "    o_best_adversaries = inputs.clone()\n",
        "\n",
        "    # convert `inputs` to tanh-space\n",
        "    inputs_tanh = to_tanh_space(inputs)\n",
        "    targets_oh = F.one_hot(targets).float()\n",
        "\n",
        "    # the perturbation tensor (only one we need to track gradients on)\n",
        "    pert_tanh = torch.zeros(inputs.size(), device=device, requires_grad=True)\n",
        "\n",
        "    optimizer = optim.Adam([pert_tanh], lr=optimizer_lr)\n",
        "\n",
        "    for const_step in range(search_steps):\n",
        "\n",
        "        print('Step', const_step)\n",
        "\n",
        "        # the minimum L2 norms of perturbations found during optimization\n",
        "        best_l2 = torch.tensor(np.ones(batch_size) * np.inf, dtype=torch.float, device=device)\n",
        "\n",
        "        # the perturbed predictions made by the adversarial perturbations with the least L2 norms\n",
        "        best_l2_ppred = torch.tensor(-np.ones(batch_size), dtype=torch.float, device=device)\n",
        "\n",
        "        # previous (summed) batch loss, to be used in early stopping policy\n",
        "        prev_batch_loss = torch.tensor(np.inf, device=device)\n",
        "        ae_tol = torch.tensor(1e-4, device=device)\n",
        "\n",
        "        # optimization steps\n",
        "        for optim_step in range(max_steps):\n",
        "\n",
        "            adversaries = from_tanh_space(inputs_tanh + pert_tanh)\n",
        "            pert_outputs = model(adversaries)\n",
        "\n",
        "            # Calculate L2 norm between adversaries and original inputs\n",
        "            pert_norms = torch.pow(adversaries - inputs, exponent=2)\n",
        "            pert_norms = torch.sum(pert_norms.view(pert_norms.size(0), -1), 1)\n",
        "\n",
        "            target_activ = torch.sum(targets_oh * pert_outputs, 1)\n",
        "            maxother_activ = torch.max(((1 - targets_oh) * pert_outputs - targets_oh * 1e4), 1)[0]\n",
        "\n",
        "            if targeted:           \n",
        "                # if targeted, optimize to make `target_activ` larger than `maxother_activ` by `confidence`\n",
        "                f = torch.clamp(maxother_activ - target_activ + confidence, min=0.0)\n",
        "            else:\n",
        "                # if not targeted, optimize to make `maxother_activ` larger than `target_activ` (the ground truth image labels) by `confidence`\n",
        "                f = torch.clamp(target_activ - maxother_activ + confidence, min=0.0)\n",
        "\n",
        "            # the total loss of current batch, should be of dimension [1]\n",
        "            batch_loss = torch.sum(pert_norms + scale_consts * f)\n",
        "\n",
        "            # Do optimization for one step\n",
        "            optimizer.zero_grad()\n",
        "            batch_loss.backward()\n",
        "            optimizer.step()\n",
        "\n",
        "            # \"returns\" batch_loss, pert_norms, pert_outputs, adversaries\n",
        "\n",
        "            if optim_step % log_frequency == 0: \n",
        "                print('batch [{}] loss: {}'.format(optim_step, batch_loss))\n",
        "\n",
        "            if abort_early and not optim_step % (max_steps // 10):   \n",
        "                if batch_loss > prev_batch_loss * (1 - ae_tol):\n",
        "                    break\n",
        "                prev_batch_loss = batch_loss\n",
        "\n",
        "            # update best attack found during optimization\n",
        "            pert_predictions = torch.argmax(pert_outputs, dim=1)\n",
        "            comp_pert_predictions = torch.argmax(compensate_confidence(pert_outputs, targets), dim=1)\n",
        "            for i in range(batch_size):\n",
        "                l2 = pert_norms[i]\n",
        "                cppred = comp_pert_predictions[i]\n",
        "                ppred = pert_predictions[i]\n",
        "                tlabel = targets[i]\n",
        "                ax = adversaries[i]\n",
        "                if attack_successful(cppred, tlabel):\n",
        "                    assert cppred == ppred\n",
        "                    if l2 < best_l2[i]:\n",
        "                        best_l2[i] = l2\n",
        "                        best_l2_ppred[i] = ppred\n",
        "                    if l2 < o_best_l2[i]:\n",
        "                        o_best_l2[i] = l2\n",
        "                        o_best_l2_ppred[i] = ppred\n",
        "                        o_best_adversaries[i] = ax\n",
        "\n",
        "        # binary search of `scale_const`\n",
        "        for i in range(batch_size):\n",
        "            tlabel = targets[i]\n",
        "            if best_l2_ppred[i] != -1:\n",
        "                # successful: attempt to lower `scale_const` by halving it\n",
        "                if scale_consts[i] < upper_bounds[i]:\n",
        "                    upper_bounds[i] = scale_consts[i]\n",
        "                # `upper_bounds[i] == c_range[1]` implies no solution\n",
        "                # found, i.e. upper_bounds[i] has never been updated by\n",
        "                # scale_consts[i] until `scale_consts[i] > 0.1 * c_range[1]`\n",
        "                if upper_bounds[i] < c_range[1] * 0.1:\n",
        "                    scale_consts[i] = (lower_bounds[i] + upper_bounds[i]) / 2\n",
        "            else:\n",
        "                # failure: multiply `scale_const` by ten if no solution\n",
        "                # found; otherwise do binary search\n",
        "                if scale_consts[i] > lower_bounds[i]:\n",
        "                    lower_bounds[i] = scale_consts[i]\n",
        "                if upper_bounds[i] < c_range[1] * 0.1:\n",
        "                    scale_consts[i] = (lower_bounds[i] + upper_bounds[i]) / 2\n",
        "                else:\n",
        "                    scale_consts[i] *= 10\n",
        "                    \n",
        "    return o_best_adversaries"
      ],
      "execution_count": 0,
      "outputs": []
    },
    {
      "cell_type": "code",
      "metadata": {
        "colab_type": "code",
        "id": "VbAGYjiGODjF",
        "colab": {}
      },
      "source": [
        "targeted=False\n",
        "confidence=0.0\n",
        "c_range=(1e-3, 1e10)\n",
        "search_steps=10\n",
        "max_steps=1000\n",
        "abort_early=True\n",
        "optimizer_lr=5e-4\n",
        "\n",
        "mean = (0.1307,) # the mean used in inputs normalization\n",
        "std = (0.3081,) # the standard deviation used in inputs normalization\n",
        "box = (min((0 - m) / s for m, s in zip(mean, std)),\n",
        "       max((1 - m) / s for m, s in zip(mean, std)))\n",
        "\n",
        "log_frequency = 100"
      ],
      "execution_count": 0,
      "outputs": []
    },
    {
      "cell_type": "code",
      "metadata": {
        "colab_type": "code",
        "id": "kLueeAz4_-MO",
        "outputId": "8a3cedb3-4761-4850-d961-3a5a1010c652",
        "colab": {
          "base_uri": "https://localhost:8080/",
          "height": 433
        }
      },
      "source": [
        "cw_advs = cw_l2_attack(model, inputs, targets, targeted=False, confidence=0.0,\n",
        "                       c_range=(1e-3, 1e10), search_steps=5, max_steps=1000, \n",
        "                       abort_early=True, box=box, optimizer_lr=5e-4, \n",
        "                       init_rand=False, log_frequency=100)"
      ],
      "execution_count": 0,
      "outputs": [
        {
          "output_type": "stream",
          "text": [
            "Step 0\n",
            "batch [0] loss: 1.6486514806747437\n",
            "batch [100] loss: 1.1929818391799927\n",
            "batch [200] loss: 1.0596026182174683\n",
            "batch [300] loss: 0.9751903414726257\n",
            "batch [400] loss: 0.9173973202705383\n",
            "batch [500] loss: 0.8763886094093323\n",
            "batch [600] loss: 0.8465988636016846\n",
            "batch [700] loss: 0.8245663046836853\n",
            "batch [800] loss: 0.8080291748046875\n",
            "batch [900] loss: 0.7954586744308472\n",
            "Step 1\n",
            "batch [0] loss: 7.470940589904785\n",
            "batch [100] loss: 7.427858829498291\n",
            "batch [200] loss: 7.420724868774414\n",
            "batch [300] loss: 7.415339469909668\n",
            "batch [400] loss: 7.41116189956665\n",
            "batch [500] loss: 7.407866954803467\n",
            "batch [600] loss: 7.405221939086914\n",
            "batch [700] loss: 7.403077125549316\n",
            "batch [800] loss: 7.401312351226807\n",
            "batch [900] loss: 7.399847984313965\n",
            "Step 2\n",
            "batch [0] loss: 73.40937805175781\n",
            "batch [100] loss: 69.4816665649414\n",
            "batch [200] loss: 69.17349243164062\n",
            "batch [300] loss: 68.95938873291016\n",
            "batch [400] loss: 68.8092269897461\n",
            "batch [500] loss: 68.70639038085938\n",
            "batch [600] loss: 68.63870239257812\n",
            "batch [700] loss: 68.59515380859375\n",
            "batch [800] loss: 68.56848907470703\n",
            "batch [900] loss: 68.55079650878906\n",
            "Step 3\n",
            "batch [0] loss: 632.5966796875\n",
            "batch [100] loss: 343.6021728515625\n",
            "batch [200] loss: 313.21783447265625\n",
            "batch [300] loss: 298.9659118652344\n",
            "batch [400] loss: 289.5364990234375\n",
            "batch [500] loss: 282.9603576660156\n",
            "batch [600] loss: 277.88525390625\n",
            "batch [700] loss: 273.8846740722656\n",
            "batch [800] loss: 270.9686279296875\n",
            "batch [900] loss: 268.952392578125\n",
            "Step 4\n",
            "batch [0] loss: 576.1707153320312\n",
            "batch [100] loss: 277.81121826171875\n",
            "batch [200] loss: 271.5420837402344\n",
            "batch [300] loss: 269.0086975097656\n",
            "batch [400] loss: 267.44873046875\n",
            "batch [500] loss: 266.3844909667969\n",
            "batch [600] loss: 265.6120910644531\n",
            "batch [700] loss: 265.01214599609375\n",
            "batch [800] loss: 264.5208740234375\n",
            "batch [900] loss: 264.15557861328125\n"
          ],
          "name": "stdout"
        }
      ]
    },
    {
      "cell_type": "code",
      "metadata": {
        "colab_type": "code",
        "id": "CUsvsyleV1Is",
        "outputId": "8bdaf0ca-903b-4871-c249-456f949ae275",
        "colab": {
          "base_uri": "https://localhost:8080/",
          "height": 315
        }
      },
      "source": [
        "eval_performance(model, inputs, cw_advs)\n",
        "sample_images(inputs, cw_advs)"
      ],
      "execution_count": 0,
      "outputs": [
        {
          "output_type": "stream",
          "text": [
            "Perturbed Accuracy: 0/100 (0%)\n",
            "\n",
            "Original Accuracy: 99/100 (99%)\n",
            "\n"
          ],
          "name": "stdout"
        },
        {
          "output_type": "display_data",
          "data": {
            "image/png": "[encoded data removed]",
            "text/plain": [
              "<Figure size 1080x576 with 10 Axes>"
            ]
          },
          "metadata": {
            "tags": []
          }
        }
      ]
    },
    {
      "cell_type": "code",
      "metadata": {
        "colab_type": "code",
        "id": "TLhycjrBPl3j",
        "outputId": "080b9c4b-e448-4118-b69b-e7f3ab829ca9",
        "colab": {
          "base_uri": "https://localhost:8080/",
          "height": 281
        }
      },
      "source": [
        "plt.imshow((cw_advs[1] - inputs[1]).cpu().detach().numpy().reshape(28,28), cmap='gray') \n",
        "plt.title(targets[1].cpu().numpy())\n",
        "plt.show()"
      ],
      "execution_count": 0,
      "outputs": [
        {
          "output_type": "display_data",
          "data": {
            "image/png": "[encoded data removed]",
            "text/plain": [
              "<Figure size 432x288 with 1 Axes>"
            ]
          },
          "metadata": {
            "tags": [],
            "needs_background": "light"
          }
        }
      ]
    },
    {
      "cell_type": "markdown",
      "metadata": {
        "colab_type": "text",
        "id": "4PMv-KEuX9Q2"
      },
      "source": [
        "# Diversity Attack v1"
      ]
    },
    {
      "cell_type": "code",
      "metadata": {
        "colab_type": "code",
        "id": "MiwScd1eX1eJ",
        "colab": {}
      },
      "source": [
        "def cw_div_attack(model, inputs, targets, targeted=False, confidence=0.0,\n",
        "                  c_range=(1e-3, 1e10), search_steps=5, max_steps=1000, \n",
        "                  abort_early=True, box=(-1., 1.), optimizer_lr=1e-2, \n",
        "                  init_rand=False, log_frequency=10):\n",
        "\n",
        "    batch_size = inputs.size(0)\n",
        "    num_classes = model(torch.tensor(inputs[0][None,:], requires_grad=False)).size(1)\n",
        "\n",
        "    # `lower_bounds`, `upper_bounds` and `scale_consts` are used\n",
        "    # for binary search of each `scale_const` in the batch. The element-wise\n",
        "    # inquality holds: lower_bounds < scale_consts <= upper_bounds\n",
        "    lower_bounds = torch.tensor(np.zeros(batch_size), dtype=torch.float, device=device)\n",
        "    upper_bounds = torch.tensor(np.ones(batch_size) * c_range[1], dtype=torch.float, device=device)\n",
        "    scale_consts = torch.tensor(np.ones(batch_size) * c_range[0], dtype=torch.float, device=device)\n",
        "\n",
        "    # Optimal attack to be found.\n",
        "    # The three \"placeholders\" are defined as:\n",
        "    # - `o_best_div`         : the least divergences\n",
        "    # - `o_best_div_ppred`   : the perturbed predictions made by the adversarial perturbations with the least divergences\n",
        "    # - `o_best_adversaries` : the underlying adversarial example of `o_best_div_ppred`\n",
        "    o_best_div = torch.tensor(np.ones(batch_size) * np.inf, dtype=torch.float, device=device)\n",
        "    o_best_div_ppred = torch.tensor(-np.ones(batch_size), dtype=torch.float, device=device)\n",
        "    o_best_adversaries = inputs.clone()\n",
        "\n",
        "    # convert `inputs` to tanh-space\n",
        "    inputs_tanh = to_tanh_space(inputs)\n",
        "    targets_oh = F.one_hot(targets).float()\n",
        "\n",
        "    # the perturbation tensor (only one we need to track gradients on)\n",
        "    pert_tanh = torch.zeros(inputs.size(), device=device, requires_grad=True)\n",
        "\n",
        "    optimizer = optim.Adam([pert_tanh], lr=optimizer_lr)\n",
        "\n",
        "    for const_step in range(1):\n",
        "\n",
        "        print('Step', const_step)\n",
        "\n",
        "        # the minimum divergences of perturbations found during optimization\n",
        "        best_div = torch.tensor(np.ones(batch_size) * np.inf, dtype=torch.float, device=device)\n",
        "\n",
        "        # the perturbed predictions made by the adversarial perturbations with the least divergences\n",
        "        best_div_ppred = torch.tensor(-np.ones(batch_size), dtype=torch.float, device=device)\n",
        "\n",
        "        # previous (summed) batch loss, to be used in early stopping policy\n",
        "        prev_batch_loss = torch.tensor(np.inf, device=device)\n",
        "        ae_tol = torch.tensor(1e-4, device=device)\n",
        "\n",
        "        # optimization steps\n",
        "        for optim_step in range(max_steps):\n",
        "\n",
        "            adversaries = from_tanh_space(inputs_tanh + pert_tanh)\n",
        "            pert_outputs = model(adversaries)\n",
        "\n",
        "            # calculate kl divergence for each input\n",
        "            divs = []\n",
        "            for i in range(batch_size):\n",
        "                divs.append(norm_divergence(data=adversaries[i].unsqueeze(0), model=model, layer='relu3', regularizer_weight=1))\n",
        "\n",
        "            div_norms = torch.tensor(torch.stack(divs), device=device)\n",
        "\n",
        "            target_activ = torch.sum(targets_oh * pert_outputs, 1)\n",
        "            maxother_activ = torch.max(((1 - targets_oh) * pert_outputs - targets_oh * 1e4), 1)[0]\n",
        "\n",
        "            if targeted:           \n",
        "                # if targeted, optimize to make `target_activ` larger than `maxother_activ` by `confidence`\n",
        "                f = torch.clamp(maxother_activ - target_activ + confidence, min=0.0)\n",
        "            else:\n",
        "                # if not targeted, optimize to make `maxother_activ` larger than `target_activ` (the ground truth image labels) by `confidence`\n",
        "                f = torch.clamp(target_activ - maxother_activ + confidence, min=0.0)\n",
        "\n",
        "    #         # diversity regularizer\n",
        "    #         diversity_reg = norm_divergence(data=adversaries, model=model, layer='relu3', regularizer_weight=1)\n",
        "\n",
        "            # the total loss of current batch, should be of dimension [1]\n",
        "            batch_loss = torch.sum(scale_consts * f + div_norms) # + diversity_reg\n",
        "\n",
        "            # Do optimization for one step\n",
        "            optimizer.zero_grad()\n",
        "            batch_loss.backward()\n",
        "            optimizer.step()\n",
        "\n",
        "            # \"returns\" batch_loss, pert_norms, pert_outputs, adversaries\n",
        "\n",
        "            if optim_step % log_frequency == 0: \n",
        "                print('batch [{}] loss: {}'.format(optim_step, batch_loss))\n",
        "\n",
        "            if abort_early and not optim_step % (max_steps // 10):   \n",
        "                if batch_loss > prev_batch_loss * (1 - ae_tol):\n",
        "                    break\n",
        "                prev_batch_loss = batch_loss\n",
        "\n",
        "            # update best attack found during optimization\n",
        "            pert_predictions = torch.argmax(pert_outputs, dim=1)\n",
        "            comp_pert_predictions = torch.argmax(compensate_confidence(pert_outputs, targets), dim=1)\n",
        "            for i in range(batch_size):\n",
        "                div = div_norms[i]\n",
        "                cppred = comp_pert_predictions[i]\n",
        "                ppred = pert_predictions[i]\n",
        "                tlabel = targets[i]\n",
        "                ax = adversaries[i]\n",
        "                if attack_successful(cppred, tlabel):\n",
        "                    assert cppred == ppred\n",
        "                    if div < best_div[i]:\n",
        "                        best_div[i] = div\n",
        "                        best_div_ppred[i] = ppred\n",
        "                    if div < o_best_div[i]:\n",
        "                        o_best_div[i] = div\n",
        "                        o_best_div_ppred[i] = ppred\n",
        "                        o_best_adversaries[i] = ax\n",
        "\n",
        "        # binary search of `scale_const`\n",
        "        for i in range(batch_size):\n",
        "            tlabel = targets[i]\n",
        "            if best_div_ppred[i] != -1:\n",
        "                # successful: attempt to lower `scale_const` by halving it\n",
        "                if scale_consts[i] < upper_bounds[i]:\n",
        "                    upper_bounds[i] = scale_consts[i]\n",
        "                # `upper_bounds[i] == c_range[1]` implies no solution\n",
        "                # found, i.e. upper_bounds[i] has never been updated by\n",
        "                # scale_consts[i] until `scale_consts[i] > 0.1 * c_range[1]`\n",
        "                if upper_bounds[i] < c_range[1] * 0.1:\n",
        "                    scale_consts[i] = (lower_bounds[i] + upper_bounds[i]) / 2\n",
        "            else:\n",
        "                # failure: multiply `scale_const` by ten if no solution\n",
        "                # found; otherwise do binary search\n",
        "                if scale_consts[i] > lower_bounds[i]:\n",
        "                    lower_bounds[i] = scale_consts[i]\n",
        "                if upper_bounds[i] < c_range[1] * 0.1:\n",
        "                    scale_consts[i] = (lower_bounds[i] + upper_bounds[i]) / 2\n",
        "                else:\n",
        "                    scale_consts[i] *= 10\n",
        "                    \n",
        "    return o_best_adversaries"
      ],
      "execution_count": 0,
      "outputs": []
    },
    {
      "cell_type": "code",
      "metadata": {
        "colab_type": "code",
        "id": "BU2t6ERVB6C3",
        "outputId": "2f916a1f-7dcc-4b69-ec6e-7e700285f37a",
        "colab": {
          "base_uri": "https://localhost:8080/",
          "height": 153
        }
      },
      "source": [
        "cw_advs_div = cw_div_attack(model, inputs, targets, targeted=False, confidence=0.0,\n",
        "                            c_range=(1e-3, 1e10), search_steps=5, max_steps=1000, \n",
        "                            abort_early=True, box=box, optimizer_lr=5e-4, \n",
        "                            init_rand=False, log_frequency=100)"
      ],
      "execution_count": 12,
      "outputs": [
        {
          "output_type": "stream",
          "text": [
            "Step 0\n",
            "batch [0] loss: 125.08393096923828\n",
            "batch [100] loss: 118.01533508300781\n",
            "batch [200] loss: 113.60195922851562\n",
            "batch [300] loss: 110.04512023925781\n",
            "batch [400] loss: 107.70555114746094\n",
            "batch [500] loss: 106.78938293457031\n",
            "batch [600] loss: 107.2767333984375\n"
          ],
          "name": "stdout"
        }
      ]
    },
    {
      "cell_type": "code",
      "metadata": {
        "colab_type": "code",
        "id": "c651LtJEbi56",
        "outputId": "4584ef1f-9e2b-4be6-cec8-3b0a9655c1b1",
        "colab": {
          "base_uri": "https://localhost:8080/",
          "height": 576
        }
      },
      "source": [
        "eval_performance(model, inputs, cw_advs_div)\n",
        "sample_images(inputs, cw_advs_div)"
      ],
      "execution_count": 13,
      "outputs": [
        {
          "output_type": "stream",
          "text": [
            "Perturbed Accuracy: 2/100 (2%)\n",
            "\n",
            "Original Accuracy: 98/100 (98%)\n",
            "\n"
          ],
          "name": "stdout"
        },
        {
          "output_type": "display_data",
          "data": {
            "image/png": "[encoded data removed]",
            "text/plain": [
              "<Figure size 1080x576 with 10 Axes>"
            ]
          },
          "metadata": {
            "tags": []
          }
        }
      ]
    },
    {
      "cell_type": "markdown",
      "metadata": {
        "id": "WzVUYdHrRczQ",
        "colab_type": "text"
      },
      "source": [
        "# Diversity Attack v2"
      ]
    },
    {
      "cell_type": "code",
      "metadata": {
        "id": "KRG0FJayRLyi",
        "colab_type": "code",
        "colab": {}
      },
      "source": [
        "def cw_div2_attack(model, inputs, targets, targeted=False, confidence=0.0,\n",
        "                   c_range=(1e-3, 1e10), search_steps=5, max_steps=1000, \n",
        "                   abort_early=True, box=(-1., 1.), optimizer_lr=1e-2, \n",
        "                   init_rand=False, log_frequency=10):\n",
        "\n",
        "    batch_size = inputs.size(0)\n",
        "    num_classes = model(torch.tensor(inputs[0][None,:], requires_grad=False)).size(1)\n",
        "\n",
        "    # Optimal attack to be found.\n",
        "    # The three \"placeholders\" are defined as:\n",
        "    # - `o_best_div`         : the least divergences\n",
        "    # - `o_best_div_ppred`   : the perturbed predictions made by the adversarial perturbations with the least divergences\n",
        "    # - `o_best_adversaries` : the underlying adversarial example of `o_best_div_ppred`\n",
        "    o_best_div = torch.tensor(np.ones(batch_size) * np.inf, dtype=torch.float, device=device)\n",
        "    o_best_div_ppred = torch.tensor(-np.ones(batch_size), dtype=torch.float, device=device)\n",
        "    o_best_adversaries = inputs.clone()\n",
        "\n",
        "    # convert `inputs` to tanh-space\n",
        "    inputs_tanh = to_tanh_space(inputs)\n",
        "    targets_oh = F.one_hot(targets).float()\n",
        "\n",
        "    # the perturbation tensor (only one we need to track gradients on)\n",
        "    pert_tanh = torch.zeros(inputs.size(), device=device, requires_grad=True)\n",
        "\n",
        "    optimizer = optim.Adam([pert_tanh], lr=optimizer_lr)\n",
        "\n",
        "    # the minimum divergences of perturbations found during optimization\n",
        "    best_div = torch.tensor(np.ones(batch_size) * np.inf, dtype=torch.float, device=device)\n",
        "\n",
        "    # the perturbed predictions made by the adversarial perturbations with the least divergences\n",
        "    best_div_ppred = torch.tensor(-np.ones(batch_size), dtype=torch.float, device=device)\n",
        "\n",
        "    # previous (summed) batch loss, to be used in early stopping policy\n",
        "    prev_batch_loss = torch.tensor(np.inf, device=device)\n",
        "    ae_tol = torch.tensor(1e-4, device=device)\n",
        "\n",
        "    # optimization steps\n",
        "    for optim_step in range(max_steps):\n",
        "\n",
        "        adversaries = from_tanh_space(inputs_tanh + pert_tanh)\n",
        "        pert_outputs = model(adversaries)\n",
        "\n",
        "        # calculate kl divergence for each input\n",
        "        divs = []\n",
        "        for i in range(batch_size):\n",
        "            divs.append(norm_divergence(data=adversaries[i].unsqueeze(0), model=model, layer='relu3', regularizer_weight=1))\n",
        "\n",
        "        div_norms = torch.tensor(torch.stack(divs), device=device)\n",
        "\n",
        "        target_activ = torch.sum(targets_oh * pert_outputs, 1)\n",
        "        maxother_activ = torch.max(((1 - targets_oh) * pert_outputs - targets_oh * 1e4), 1)[0]\n",
        "\n",
        "        if targeted:           \n",
        "            # if targeted, optimize to make `target_activ` larger than `maxother_activ` by `confidence`\n",
        "            f = torch.clamp(maxother_activ - target_activ + confidence, min=0.0)\n",
        "        else:\n",
        "            # if not targeted, optimize to make `maxother_activ` larger than `target_activ` (the ground truth image labels) by `confidence`\n",
        "            f = torch.clamp(target_activ - maxother_activ + confidence, min=0.0)\n",
        "\n",
        "        # the total loss of current batch, should be of dimension [1]\n",
        "        batch_loss = torch.sum(f + div_norms) # + diversity_reg\n",
        "\n",
        "        # Do optimization for one step\n",
        "        optimizer.zero_grad()\n",
        "        batch_loss.backward()\n",
        "        optimizer.step()\n",
        "\n",
        "        # \"returns\" batch_loss, pert_norms, pert_outputs, adversaries\n",
        "\n",
        "        if optim_step % log_frequency == 0: \n",
        "            print('batch [{}] loss: {}'.format(optim_step, batch_loss))\n",
        "\n",
        "        if abort_early and not optim_step % (max_steps // 10):   \n",
        "            if batch_loss > prev_batch_loss * (1 - ae_tol):\n",
        "                break\n",
        "            prev_batch_loss = batch_loss\n",
        "\n",
        "        # update best attack found during optimization\n",
        "        pert_predictions = torch.argmax(pert_outputs, dim=1)\n",
        "        comp_pert_predictions = torch.argmax(compensate_confidence(pert_outputs, targets), dim=1)\n",
        "        for i in range(batch_size):\n",
        "            div = div_norms[i]\n",
        "            cppred = comp_pert_predictions[i]\n",
        "            ppred = pert_predictions[i]\n",
        "            tlabel = targets[i]\n",
        "            ax = adversaries[i]\n",
        "            if attack_successful(cppred, tlabel):\n",
        "                assert cppred == ppred\n",
        "                if div < best_div[i]:\n",
        "                    best_div[i] = div\n",
        "                    best_div_ppred[i] = ppred\n",
        "                if div < o_best_div[i]:\n",
        "                    o_best_div[i] = div\n",
        "                    o_best_div_ppred[i] = ppred\n",
        "                    o_best_adversaries[i] = ax\n",
        "                    \n",
        "    return o_best_adversaries"
      ],
      "execution_count": 0,
      "outputs": []
    },
    {
      "cell_type": "code",
      "metadata": {
        "id": "j6KVf6RRRLyn",
        "colab_type": "code",
        "outputId": "db262597-7260-4732-91e7-db898c4bb466",
        "colab": {
          "base_uri": "https://localhost:8080/",
          "height": 187
        }
      },
      "source": [
        "cw_advs_div2 = cw_div2_attack(model, inputs, targets, targeted=False, confidence=0.0,\n",
        "                              c_range=(1e-3, 1e10), search_steps=5, max_steps=1000, \n",
        "                              abort_early=True, box=box, optimizer_lr=5e-4, \n",
        "                              init_rand=False, log_frequency=100)"
      ],
      "execution_count": 16,
      "outputs": [
        {
          "output_type": "stream",
          "text": [
            "batch [0] loss: 876.9237060546875\n",
            "batch [100] loss: 614.6558837890625\n",
            "batch [200] loss: 386.7690124511719\n",
            "batch [300] loss: 234.40536499023438\n",
            "batch [400] loss: 153.71673583984375\n",
            "batch [500] loss: 119.77983093261719\n",
            "batch [600] loss: 110.68762969970703\n",
            "batch [700] loss: 107.66962432861328\n",
            "batch [800] loss: 106.90571594238281\n",
            "batch [900] loss: 107.4959716796875\n"
          ],
          "name": "stdout"
        }
      ]
    },
    {
      "cell_type": "code",
      "metadata": {
        "id": "3FjU2g0jRLy1",
        "colab_type": "code",
        "outputId": "4f394f31-7dd7-4d66-ab99-9bb97c4d892e",
        "colab": {
          "base_uri": "https://localhost:8080/",
          "height": 576
        }
      },
      "source": [
        "eval_performance(model, inputs, cw_advs_div2)\n",
        "sample_images(inputs, cw_advs_div2)"
      ],
      "execution_count": 17,
      "outputs": [
        {
          "output_type": "stream",
          "text": [
            "Perturbed Accuracy: 0/100 (0%)\n",
            "\n",
            "Original Accuracy: 98/100 (98%)\n",
            "\n"
          ],
          "name": "stdout"
        },
        {
          "output_type": "display_data",
          "data": {
            "image/png": "[encoded data removed]",
            "text/plain": [
              "<Figure size 1080x576 with 10 Axes>"
            ]
          },
          "metadata": {
            "tags": []
          }
        }
      ]
    },
    {
      "cell_type": "code",
      "metadata": {
        "id": "63AbLZogRLzE",
        "colab_type": "code",
        "outputId": "fd26755d-7682-4321-accd-171aed7a187e",
        "colab": {}
      },
      "source": [
        "cw_advs.equal(cw_advs_div)"
      ],
      "execution_count": 0,
      "outputs": [
        {
          "output_type": "execute_result",
          "data": {
            "text/plain": [
              "False"
            ]
          },
          "metadata": {
            "tags": []
          },
          "execution_count": 59
        }
      ]
    },
    {
      "cell_type": "code",
      "metadata": {
        "id": "cJRhdV5aRLzP",
        "colab_type": "code",
        "outputId": "9329d136-81a8-4119-e5b8-bfd0fc01c4c6",
        "colab": {}
      },
      "source": [
        "cw_advs_div.equal(cw_advs_div2)"
      ],
      "execution_count": 0,
      "outputs": [
        {
          "output_type": "execute_result",
          "data": {
            "text/plain": [
              "False"
            ]
          },
          "metadata": {
            "tags": []
          },
          "execution_count": 60
        }
      ]
    },
    {
      "cell_type": "code",
      "metadata": {
        "id": "c8SHpsaSRLzX",
        "colab_type": "code",
        "outputId": "eb3bdd88-5e1f-4640-b082-7a32525ced89",
        "colab": {}
      },
      "source": [
        "cw_advs.equal(cw_advs_div2)"
      ],
      "execution_count": 0,
      "outputs": [
        {
          "output_type": "execute_result",
          "data": {
            "text/plain": [
              "False"
            ]
          },
          "metadata": {
            "tags": []
          },
          "execution_count": 61
        }
      ]
    },
    {
      "cell_type": "code",
      "metadata": {
        "id": "ivE3YOQIRLzh",
        "colab_type": "code",
        "outputId": "b050b669-f87f-47c4-f1c4-86b963baf7cd",
        "colab": {}
      },
      "source": [
        "cw_advs.unique()"
      ],
      "execution_count": 0,
      "outputs": [
        {
          "output_type": "execute_result",
          "data": {
            "text/plain": [
              "tensor([-0.3130, -0.3130, -0.3087,  ...,  0.9999,  0.9999,  0.9999],\n",
              "       device='cuda:0', grad_fn=<NotImplemented>)"
            ]
          },
          "metadata": {
            "tags": []
          },
          "execution_count": 80
        }
      ]
    },
    {
      "cell_type": "code",
      "metadata": {
        "id": "ZzFWidecRLzo",
        "colab_type": "code",
        "outputId": "734dc209-457d-4b33-accf-922713592e21",
        "colab": {}
      },
      "source": [
        "cw_advs_div.unique()"
      ],
      "execution_count": 0,
      "outputs": [
        {
          "output_type": "execute_result",
          "data": {
            "text/plain": [
              "tensor([-0.4568, -0.4521, -0.4480,  ...,  0.9941,  0.9941,  0.9943],\n",
              "       device='cuda:0', grad_fn=<NotImplemented>)"
            ]
          },
          "metadata": {
            "tags": []
          },
          "execution_count": 79
        }
      ]
    },
    {
      "cell_type": "markdown",
      "metadata": {
        "id": "t97ieYCkRLzz",
        "colab_type": "text"
      },
      "source": [
        "# Diversity Attack v3"
      ]
    },
    {
      "cell_type": "code",
      "metadata": {
        "id": "fuEKLdemRLz1",
        "colab_type": "code",
        "colab": {}
      },
      "source": [
        "def cw_div3_attack(model, layer, regularizer_weight, inputs, targets, targeted=False, \n",
        "                   confidence=0.0, c_range=(1e-3, 1e10), search_steps=5, max_steps=1000, \n",
        "                   abort_early=True, box=(-1., 1.), optimizer_lr=1e-2, \n",
        "                   init_rand=False, log_frequency=10):\n",
        "\n",
        "    batch_size = inputs.size(0)\n",
        "    num_classes = model(torch.tensor(inputs[0][None,:], requires_grad=False)).size(1)\n",
        "\n",
        "    # Optimal attack to be found.\n",
        "    # The three \"placeholders\" are defined as:\n",
        "    # - `o_best_div`         : the least divergences\n",
        "    # - `o_best_div_ppred`   : the perturbed predictions made by the adversarial perturbations with the least divergences\n",
        "    # - `o_best_adversaries` : the underlying adversarial example of `o_best_div_ppred`\n",
        "    o_best_div = torch.tensor(np.ones(batch_size) * np.inf, dtype=torch.float, device=device)\n",
        "    o_best_div_ppred = torch.tensor(-np.ones(batch_size), dtype=torch.float, device=device)\n",
        "    o_best_adversaries = inputs.clone()\n",
        "\n",
        "    # convert `inputs` to tanh-space\n",
        "    inputs_tanh = to_tanh_space(inputs)\n",
        "    targets_oh = F.one_hot(targets).float()\n",
        "\n",
        "    # the perturbation tensor (only one we need to track gradients on)\n",
        "    pert_tanh = torch.zeros(inputs.size(), device=device, requires_grad=True)\n",
        "\n",
        "    optimizer = optim.Adam([pert_tanh], lr=optimizer_lr)\n",
        "\n",
        "    # the minimum divergences of perturbations found during optimization\n",
        "    best_div = torch.tensor(np.ones(batch_size) * np.inf, dtype=torch.float, device=device)\n",
        "\n",
        "    # the perturbed predictions made by the adversarial perturbations with the least divergences\n",
        "    best_div_ppred = torch.tensor(-np.ones(batch_size), dtype=torch.float, device=device)\n",
        "\n",
        "    # previous (summed) batch loss, to be used in early stopping policy\n",
        "    prev_batch_loss = torch.tensor(np.inf, device=device)\n",
        "    ae_tol = torch.tensor(1e-4, device=device)\n",
        "\n",
        "    # optimization steps\n",
        "    for optim_step in range(max_steps):\n",
        "\n",
        "        adversaries = from_tanh_space(inputs_tanh + pert_tanh)\n",
        "        pert_outputs = model(adversaries)\n",
        "\n",
        "        # calculate kl divergence for each input\n",
        "        divs = []\n",
        "        for i in range(batch_size):\n",
        "            divs.append(norm_divergence(data=adversaries[i].unsqueeze(0), model=model, layer=layer, regularizer_weight=regularizer_weight))\n",
        "\n",
        "        div_norms = torch.tensor(torch.stack(divs), device=device)\n",
        "\n",
        "        loss = -1. * nn.CrossEntropyLoss()(pert_outputs, targets)\n",
        "\n",
        "        # the total loss of current batch, should be of dimension [1]\n",
        "        batch_loss = torch.sum(loss + div_norms) \n",
        "\n",
        "        # Do optimization for one step\n",
        "        optimizer.zero_grad()\n",
        "        batch_loss.backward()\n",
        "        optimizer.step()\n",
        "\n",
        "        # \"returns\" batch_loss, pert_norms, pert_outputs, adversaries\n",
        "\n",
        "        if optim_step % log_frequency == 0: \n",
        "            print('batch [{}] loss: {}'.format(optim_step, batch_loss))\n",
        "\n",
        "        if abort_early and not optim_step % (max_steps // 10):   \n",
        "            if batch_loss > prev_batch_loss * (1 - ae_tol):\n",
        "                break\n",
        "            prev_batch_loss = batch_loss\n",
        "\n",
        "        # update best attack found during optimization\n",
        "        pert_predictions = torch.argmax(pert_outputs, dim=1)\n",
        "        comp_pert_predictions = torch.argmax(compensate_confidence(pert_outputs, targets), dim=1)\n",
        "        for i in range(batch_size):\n",
        "            div = div_norms[i]\n",
        "            cppred = comp_pert_predictions[i]\n",
        "            ppred = pert_predictions[i]\n",
        "            tlabel = targets[i]\n",
        "            ax = adversaries[i]\n",
        "            if attack_successful(cppred, tlabel):\n",
        "                assert cppred == ppred\n",
        "                if div < best_div[i]:\n",
        "                    best_div[i] = div\n",
        "                    best_div_ppred[i] = ppred\n",
        "                if div < o_best_div[i]:\n",
        "                    o_best_div[i] = div\n",
        "                    o_best_div_ppred[i] = ppred\n",
        "                    o_best_adversaries[i] = ax\n",
        "                    \n",
        "    return o_best_adversaries, div_norms"
      ],
      "execution_count": 0,
      "outputs": []
    },
    {
      "cell_type": "code",
      "metadata": {
        "id": "xqEO2jx8RLz8",
        "colab_type": "code",
        "outputId": "ed9e0661-d607-4a46-c95c-6c5e989b4f19",
        "colab": {
          "base_uri": "https://localhost:8080/",
          "height": 408
        }
      },
      "source": [
        "cw_advs_div3 = cw_div3_attack(model, 'relu3', 1, inputs, targets, targeted=False, confidence=0.0,\n",
        "                              c_range=(1e-3, 1e10), search_steps=5, max_steps=1000, \n",
        "                              abort_early=True, box=box, optimizer_lr=5e-4, \n",
        "                              init_rand=False, log_frequency=100)\n",
        "\n",
        "eval_performance(model, inputs, cw_advs_div3)\n",
        "sample_images(inputs, cw_advs_div3)"
      ],
      "execution_count": 24,
      "outputs": [
        {
          "output_type": "stream",
          "text": [
            "batch [0] loss: 126.80441284179688\n",
            "batch [100] loss: 98.60725402832031\n"
          ],
          "name": "stdout"
        },
        {
          "output_type": "error",
          "ename": "KeyboardInterrupt",
          "evalue": "ignored",
          "traceback": [
            "\u001b[0;31m---------------------------------------------------------------------------\u001b[0m",
            "\u001b[0;31mKeyboardInterrupt\u001b[0m                         Traceback (most recent call last)",
            "\u001b[0;32m<ipython-input-24-85a295993072>\u001b[0m in \u001b[0;36m<module>\u001b[0;34m()\u001b[0m\n\u001b[1;32m      2\u001b[0m                               \u001b[0mc_range\u001b[0m\u001b[0;34m=\u001b[0m\u001b[0;34m(\u001b[0m\u001b[0;36m1e-3\u001b[0m\u001b[0;34m,\u001b[0m \u001b[0;36m1e10\u001b[0m\u001b[0;34m)\u001b[0m\u001b[0;34m,\u001b[0m \u001b[0msearch_steps\u001b[0m\u001b[0;34m=\u001b[0m\u001b[0;36m5\u001b[0m\u001b[0;34m,\u001b[0m \u001b[0mmax_steps\u001b[0m\u001b[0;34m=\u001b[0m\u001b[0;36m1000\u001b[0m\u001b[0;34m,\u001b[0m\u001b[0;34m\u001b[0m\u001b[0;34m\u001b[0m\u001b[0m\n\u001b[1;32m      3\u001b[0m                               \u001b[0mabort_early\u001b[0m\u001b[0;34m=\u001b[0m\u001b[0;32mTrue\u001b[0m\u001b[0;34m,\u001b[0m \u001b[0mbox\u001b[0m\u001b[0;34m=\u001b[0m\u001b[0mbox\u001b[0m\u001b[0;34m,\u001b[0m \u001b[0moptimizer_lr\u001b[0m\u001b[0;34m=\u001b[0m\u001b[0;36m5e-4\u001b[0m\u001b[0;34m,\u001b[0m\u001b[0;34m\u001b[0m\u001b[0;34m\u001b[0m\u001b[0m\n\u001b[0;32m----> 4\u001b[0;31m                               init_rand=False, log_frequency=100)\n\u001b[0m\u001b[1;32m      5\u001b[0m \u001b[0;34m\u001b[0m\u001b[0m\n\u001b[1;32m      6\u001b[0m \u001b[0meval_performance\u001b[0m\u001b[0;34m(\u001b[0m\u001b[0mmodel\u001b[0m\u001b[0;34m,\u001b[0m \u001b[0minputs\u001b[0m\u001b[0;34m,\u001b[0m \u001b[0mcw_advs_div3\u001b[0m\u001b[0;34m)\u001b[0m\u001b[0;34m\u001b[0m\u001b[0;34m\u001b[0m\u001b[0m\n",
            "\u001b[0;32m<ipython-input-23-f7fe10909043>\u001b[0m in \u001b[0;36mcw_div3_attack\u001b[0;34m(model, layer, regularizer_weight, inputs, targets, targeted, confidence, c_range, search_steps, max_steps, abort_early, box, optimizer_lr, init_rand, log_frequency)\u001b[0m\n\u001b[1;32m     44\u001b[0m         \u001b[0mdivs\u001b[0m \u001b[0;34m=\u001b[0m \u001b[0;34m[\u001b[0m\u001b[0;34m]\u001b[0m\u001b[0;34m\u001b[0m\u001b[0;34m\u001b[0m\u001b[0m\n\u001b[1;32m     45\u001b[0m         \u001b[0;32mfor\u001b[0m \u001b[0mi\u001b[0m \u001b[0;32min\u001b[0m \u001b[0mrange\u001b[0m\u001b[0;34m(\u001b[0m\u001b[0mbatch_size\u001b[0m\u001b[0;34m)\u001b[0m\u001b[0;34m:\u001b[0m\u001b[0;34m\u001b[0m\u001b[0;34m\u001b[0m\u001b[0m\n\u001b[0;32m---> 46\u001b[0;31m             \u001b[0mdivs\u001b[0m\u001b[0;34m.\u001b[0m\u001b[0mappend\u001b[0m\u001b[0;34m(\u001b[0m\u001b[0mnorm_divergence\u001b[0m\u001b[0;34m(\u001b[0m\u001b[0mdata\u001b[0m\u001b[0;34m=\u001b[0m\u001b[0madversaries\u001b[0m\u001b[0;34m[\u001b[0m\u001b[0mi\u001b[0m\u001b[0;34m]\u001b[0m\u001b[0;34m.\u001b[0m\u001b[0munsqueeze\u001b[0m\u001b[0;34m(\u001b[0m\u001b[0;36m0\u001b[0m\u001b[0;34m)\u001b[0m\u001b[0;34m,\u001b[0m \u001b[0mmodel\u001b[0m\u001b[0;34m=\u001b[0m\u001b[0mmodel\u001b[0m\u001b[0;34m,\u001b[0m \u001b[0mlayer\u001b[0m\u001b[0;34m=\u001b[0m\u001b[0;34m'relu3'\u001b[0m\u001b[0;34m,\u001b[0m \u001b[0mregularizer_weight\u001b[0m\u001b[0;34m=\u001b[0m\u001b[0;36m1\u001b[0m\u001b[0;34m)\u001b[0m\u001b[0;34m)\u001b[0m\u001b[0;34m\u001b[0m\u001b[0;34m\u001b[0m\u001b[0m\n\u001b[0m\u001b[1;32m     47\u001b[0m \u001b[0;34m\u001b[0m\u001b[0m\n\u001b[1;32m     48\u001b[0m         \u001b[0mdiv_norms\u001b[0m \u001b[0;34m=\u001b[0m \u001b[0mtorch\u001b[0m\u001b[0;34m.\u001b[0m\u001b[0mtensor\u001b[0m\u001b[0;34m(\u001b[0m\u001b[0mtorch\u001b[0m\u001b[0;34m.\u001b[0m\u001b[0mstack\u001b[0m\u001b[0;34m(\u001b[0m\u001b[0mdivs\u001b[0m\u001b[0;34m)\u001b[0m\u001b[0;34m,\u001b[0m \u001b[0mdevice\u001b[0m\u001b[0;34m=\u001b[0m\u001b[0mdevice\u001b[0m\u001b[0;34m)\u001b[0m\u001b[0;34m\u001b[0m\u001b[0;34m\u001b[0m\u001b[0m\n",
            "\u001b[0;32m<ipython-input-15-e55e87ad1ced>\u001b[0m in \u001b[0;36mnorm_divergence\u001b[0;34m(data, model, layer, neuron, regularizer_weight)\u001b[0m\n\u001b[1;32m     90\u001b[0m     \"\"\"\n\u001b[1;32m     91\u001b[0m     \u001b[0;31m# extract layer activations as numpy array\u001b[0m\u001b[0;34m\u001b[0m\u001b[0;34m\u001b[0m\u001b[0;34m\u001b[0m\u001b[0m\n\u001b[0;32m---> 92\u001b[0;31m     \u001b[0mlayer_activations\u001b[0m \u001b[0;34m=\u001b[0m \u001b[0mmodel\u001b[0m\u001b[0;34m.\u001b[0m\u001b[0mextract_outputs\u001b[0m\u001b[0;34m(\u001b[0m\u001b[0mdata\u001b[0m\u001b[0;34m=\u001b[0m\u001b[0mdata\u001b[0m\u001b[0;34m,\u001b[0m \u001b[0mlayer\u001b[0m\u001b[0;34m=\u001b[0m\u001b[0mlayer\u001b[0m\u001b[0;34m)\u001b[0m\u001b[0;34m\u001b[0m\u001b[0;34m\u001b[0m\u001b[0m\n\u001b[0m\u001b[1;32m     93\u001b[0m \u001b[0;34m\u001b[0m\u001b[0m\n\u001b[1;32m     94\u001b[0m     \u001b[0;31m# normalize with softmax (to get a probability density)\u001b[0m\u001b[0;34m\u001b[0m\u001b[0;34m\u001b[0m\u001b[0;34m\u001b[0m\u001b[0m\n",
            "\u001b[0;32m<ipython-input-4-561528d6c307>\u001b[0m in \u001b[0;36mextract_outputs\u001b[0;34m(self, data, layer, neuron)\u001b[0m\n\u001b[1;32m     79\u001b[0m             \u001b[0;32mif\u001b[0m \u001b[0mname\u001b[0m \u001b[0;34m==\u001b[0m \u001b[0mlayer\u001b[0m\u001b[0;34m:\u001b[0m\u001b[0;34m\u001b[0m\u001b[0;34m\u001b[0m\u001b[0m\n\u001b[1;32m     80\u001b[0m                 \u001b[0mhandle\u001b[0m \u001b[0;34m=\u001b[0m \u001b[0mmodule\u001b[0m\u001b[0;34m.\u001b[0m\u001b[0mregister_forward_hook\u001b[0m\u001b[0;34m(\u001b[0m\u001b[0mhook\u001b[0m\u001b[0;34m)\u001b[0m\u001b[0;34m\u001b[0m\u001b[0;34m\u001b[0m\u001b[0m\n\u001b[0;32m---> 81\u001b[0;31m         \u001b[0mout\u001b[0m \u001b[0;34m=\u001b[0m \u001b[0mself\u001b[0m\u001b[0;34m(\u001b[0m\u001b[0mdata\u001b[0m\u001b[0;34m)\u001b[0m\u001b[0;34m\u001b[0m\u001b[0;34m\u001b[0m\u001b[0m\n\u001b[0m\u001b[1;32m     82\u001b[0m         \u001b[0;32mif\u001b[0m \u001b[0;32mnot\u001b[0m \u001b[0mneuron\u001b[0m \u001b[0;32mis\u001b[0m \u001b[0;32mNone\u001b[0m\u001b[0;34m:\u001b[0m\u001b[0;34m\u001b[0m\u001b[0;34m\u001b[0m\u001b[0m\n\u001b[1;32m     83\u001b[0m             \u001b[0moutputs\u001b[0m\u001b[0;34m[\u001b[0m\u001b[0;36m0\u001b[0m\u001b[0;34m]\u001b[0m \u001b[0;34m=\u001b[0m \u001b[0moutputs\u001b[0m\u001b[0;34m[\u001b[0m\u001b[0;36m0\u001b[0m\u001b[0;34m]\u001b[0m\u001b[0;34m[\u001b[0m\u001b[0;36m0\u001b[0m\u001b[0;34m]\u001b[0m\u001b[0;34m[\u001b[0m\u001b[0mneuron\u001b[0m\u001b[0;34m]\u001b[0m\u001b[0;34m\u001b[0m\u001b[0;34m\u001b[0m\u001b[0m\n",
            "\u001b[0;32m/usr/local/lib/python3.6/dist-packages/torch/nn/modules/module.py\u001b[0m in \u001b[0;36m__call__\u001b[0;34m(self, *input, **kwargs)\u001b[0m\n\u001b[1;32m    491\u001b[0m             \u001b[0mresult\u001b[0m \u001b[0;34m=\u001b[0m \u001b[0mself\u001b[0m\u001b[0;34m.\u001b[0m\u001b[0m_slow_forward\u001b[0m\u001b[0;34m(\u001b[0m\u001b[0;34m*\u001b[0m\u001b[0minput\u001b[0m\u001b[0;34m,\u001b[0m \u001b[0;34m**\u001b[0m\u001b[0mkwargs\u001b[0m\u001b[0;34m)\u001b[0m\u001b[0;34m\u001b[0m\u001b[0;34m\u001b[0m\u001b[0m\n\u001b[1;32m    492\u001b[0m         \u001b[0;32melse\u001b[0m\u001b[0;34m:\u001b[0m\u001b[0;34m\u001b[0m\u001b[0;34m\u001b[0m\u001b[0m\n\u001b[0;32m--> 493\u001b[0;31m             \u001b[0mresult\u001b[0m \u001b[0;34m=\u001b[0m \u001b[0mself\u001b[0m\u001b[0;34m.\u001b[0m\u001b[0mforward\u001b[0m\u001b[0;34m(\u001b[0m\u001b[0;34m*\u001b[0m\u001b[0minput\u001b[0m\u001b[0;34m,\u001b[0m \u001b[0;34m**\u001b[0m\u001b[0mkwargs\u001b[0m\u001b[0;34m)\u001b[0m\u001b[0;34m\u001b[0m\u001b[0;34m\u001b[0m\u001b[0m\n\u001b[0m\u001b[1;32m    494\u001b[0m         \u001b[0;32mfor\u001b[0m \u001b[0mhook\u001b[0m \u001b[0;32min\u001b[0m \u001b[0mself\u001b[0m\u001b[0;34m.\u001b[0m\u001b[0m_forward_hooks\u001b[0m\u001b[0;34m.\u001b[0m\u001b[0mvalues\u001b[0m\u001b[0;34m(\u001b[0m\u001b[0;34m)\u001b[0m\u001b[0;34m:\u001b[0m\u001b[0;34m\u001b[0m\u001b[0;34m\u001b[0m\u001b[0m\n\u001b[1;32m    495\u001b[0m             \u001b[0mhook_result\u001b[0m \u001b[0;34m=\u001b[0m \u001b[0mhook\u001b[0m\u001b[0;34m(\u001b[0m\u001b[0mself\u001b[0m\u001b[0;34m,\u001b[0m \u001b[0minput\u001b[0m\u001b[0;34m,\u001b[0m \u001b[0mresult\u001b[0m\u001b[0;34m)\u001b[0m\u001b[0;34m\u001b[0m\u001b[0;34m\u001b[0m\u001b[0m\n",
            "\u001b[0;32m<ipython-input-4-561528d6c307>\u001b[0m in \u001b[0;36mforward\u001b[0;34m(self, x)\u001b[0m\n\u001b[1;32m     60\u001b[0m \u001b[0;34m\u001b[0m\u001b[0m\n\u001b[1;32m     61\u001b[0m     \u001b[0;32mdef\u001b[0m \u001b[0mforward\u001b[0m\u001b[0;34m(\u001b[0m\u001b[0mself\u001b[0m\u001b[0;34m,\u001b[0m \u001b[0mx\u001b[0m\u001b[0;34m)\u001b[0m\u001b[0;34m:\u001b[0m\u001b[0;34m\u001b[0m\u001b[0;34m\u001b[0m\u001b[0m\n\u001b[0;32m---> 62\u001b[0;31m         \u001b[0mx\u001b[0m \u001b[0;34m=\u001b[0m \u001b[0mself\u001b[0m\u001b[0;34m.\u001b[0m\u001b[0mconv1\u001b[0m\u001b[0;34m(\u001b[0m\u001b[0mx\u001b[0m\u001b[0;34m)\u001b[0m\u001b[0;34m\u001b[0m\u001b[0;34m\u001b[0m\u001b[0m\n\u001b[0m\u001b[1;32m     63\u001b[0m         \u001b[0mx\u001b[0m \u001b[0;34m=\u001b[0m \u001b[0mself\u001b[0m\u001b[0;34m.\u001b[0m\u001b[0mrelu1\u001b[0m\u001b[0;34m(\u001b[0m\u001b[0mx\u001b[0m\u001b[0;34m)\u001b[0m\u001b[0;34m\u001b[0m\u001b[0;34m\u001b[0m\u001b[0m\n\u001b[1;32m     64\u001b[0m         \u001b[0mx\u001b[0m \u001b[0;34m=\u001b[0m \u001b[0mF\u001b[0m\u001b[0;34m.\u001b[0m\u001b[0mmax_pool2d\u001b[0m\u001b[0;34m(\u001b[0m\u001b[0mx\u001b[0m\u001b[0;34m,\u001b[0m \u001b[0;36m2\u001b[0m\u001b[0;34m,\u001b[0m \u001b[0;36m2\u001b[0m\u001b[0;34m)\u001b[0m\u001b[0;34m\u001b[0m\u001b[0;34m\u001b[0m\u001b[0m\n",
            "\u001b[0;32m/usr/local/lib/python3.6/dist-packages/torch/nn/modules/module.py\u001b[0m in \u001b[0;36m__call__\u001b[0;34m(self, *input, **kwargs)\u001b[0m\n\u001b[1;32m    491\u001b[0m             \u001b[0mresult\u001b[0m \u001b[0;34m=\u001b[0m \u001b[0mself\u001b[0m\u001b[0;34m.\u001b[0m\u001b[0m_slow_forward\u001b[0m\u001b[0;34m(\u001b[0m\u001b[0;34m*\u001b[0m\u001b[0minput\u001b[0m\u001b[0;34m,\u001b[0m \u001b[0;34m**\u001b[0m\u001b[0mkwargs\u001b[0m\u001b[0;34m)\u001b[0m\u001b[0;34m\u001b[0m\u001b[0;34m\u001b[0m\u001b[0m\n\u001b[1;32m    492\u001b[0m         \u001b[0;32melse\u001b[0m\u001b[0;34m:\u001b[0m\u001b[0;34m\u001b[0m\u001b[0;34m\u001b[0m\u001b[0m\n\u001b[0;32m--> 493\u001b[0;31m             \u001b[0mresult\u001b[0m \u001b[0;34m=\u001b[0m \u001b[0mself\u001b[0m\u001b[0;34m.\u001b[0m\u001b[0mforward\u001b[0m\u001b[0;34m(\u001b[0m\u001b[0;34m*\u001b[0m\u001b[0minput\u001b[0m\u001b[0;34m,\u001b[0m \u001b[0;34m**\u001b[0m\u001b[0mkwargs\u001b[0m\u001b[0;34m)\u001b[0m\u001b[0;34m\u001b[0m\u001b[0;34m\u001b[0m\u001b[0m\n\u001b[0m\u001b[1;32m    494\u001b[0m         \u001b[0;32mfor\u001b[0m \u001b[0mhook\u001b[0m \u001b[0;32min\u001b[0m \u001b[0mself\u001b[0m\u001b[0;34m.\u001b[0m\u001b[0m_forward_hooks\u001b[0m\u001b[0;34m.\u001b[0m\u001b[0mvalues\u001b[0m\u001b[0;34m(\u001b[0m\u001b[0;34m)\u001b[0m\u001b[0;34m:\u001b[0m\u001b[0;34m\u001b[0m\u001b[0;34m\u001b[0m\u001b[0m\n\u001b[1;32m    495\u001b[0m             \u001b[0mhook_result\u001b[0m \u001b[0;34m=\u001b[0m \u001b[0mhook\u001b[0m\u001b[0;34m(\u001b[0m\u001b[0mself\u001b[0m\u001b[0;34m,\u001b[0m \u001b[0minput\u001b[0m\u001b[0;34m,\u001b[0m \u001b[0mresult\u001b[0m\u001b[0;34m)\u001b[0m\u001b[0;34m\u001b[0m\u001b[0;34m\u001b[0m\u001b[0m\n",
            "\u001b[0;32m/usr/local/lib/python3.6/dist-packages/torch/nn/modules/conv.py\u001b[0m in \u001b[0;36mforward\u001b[0;34m(self, input)\u001b[0m\n\u001b[1;32m    336\u001b[0m                             _pair(0), self.dilation, self.groups)\n\u001b[1;32m    337\u001b[0m         return F.conv2d(input, self.weight, self.bias, self.stride,\n\u001b[0;32m--> 338\u001b[0;31m                         self.padding, self.dilation, self.groups)\n\u001b[0m\u001b[1;32m    339\u001b[0m \u001b[0;34m\u001b[0m\u001b[0m\n\u001b[1;32m    340\u001b[0m \u001b[0;34m\u001b[0m\u001b[0m\n",
            "\u001b[0;31mKeyboardInterrupt\u001b[0m: "
          ]
        }
      ]
    },
    {
      "cell_type": "code",
      "metadata": {
        "id": "IiTyG5O1RL0L",
        "colab_type": "code",
        "colab": {}
      },
      "source": [
        "plt.imshow((cw_advs_div3[1] - inputs[1]).cpu().detach().numpy().reshape(28,28), cmap='gray') \n",
        "plt.title(targets[1].cpu().numpy())\n",
        "plt.show()"
      ],
      "execution_count": 0,
      "outputs": []
    },
    {
      "cell_type": "code",
      "metadata": {
        "id": "yZhv8nkJRL0S",
        "colab_type": "code",
        "colab": {}
      },
      "source": [
        "(inputs[1] - cw_advs_div[1]).unique().sum()"
      ],
      "execution_count": 0,
      "outputs": []
    },
    {
      "cell_type": "markdown",
      "metadata": {
        "id": "Mo0_HOLTdnKe",
        "colab_type": "text"
      },
      "source": [
        "# Evaluation"
      ]
    },
    {
      "cell_type": "code",
      "metadata": {
        "id": "aKgn1boNRL0X",
        "colab_type": "code",
        "colab": {
          "base_uri": "https://localhost:8080/",
          "height": 544
        },
        "outputId": "5853faa9-076f-4eeb-a0cc-603c064b0493"
      },
      "source": [
        "results = []\n",
        "\n",
        "all_layers = list(dict(model.named_children()))\n",
        "target_layers = [layer for layer in all_layers if 'relu' in layer] # [layer for layer in all_layers if 'pool' not in layer and 'flatten' not in layer and 'input' not in layer]\n",
        "\n",
        "for l in target_layers:\n",
        "    for rw in [0.01, 0.1, 1, 5, 10]:\n",
        "        print('layer: ', l, 'regularization_weight: ', rw)\n",
        "        cw_advs_divs, divergences = cw_div3_attack(model, l, rw, inputs, targets, targeted=False, confidence=0.0,\n",
        "                                                   c_range=(1e-3, 1e10), search_steps=5, max_steps=1000, \n",
        "                                                   abort_early=True, box=box, optimizer_lr=5e-4, \n",
        "                                                   init_rand=False, log_frequency=100)\n",
        "\n",
        "        pert_acc, orig_acc = eval_performance(model, inputs, cw_advs_divs)\n",
        "        sample_images(inputs, cw_advs_divs)\n",
        "        \n",
        "        out = {'layer': l, 'regularization_weight': rw, 'adversaries': cw_advs_divs, 'divergences':divergences, 'pert_acc':pert_acc, 'orig_acc': orig_acc}\n",
        "        results.append(out)\n",
        "        \n",
        "results"
      ],
      "execution_count": 25,
      "outputs": [
        {
          "output_type": "stream",
          "text": [
            "layer relu1 regularization_weight 0.01\n",
            "batch [0] loss: 126.52732849121094\n",
            "batch [100] loss: 98.60231018066406\n",
            "batch [200] loss: -150.12452697753906\n",
            "batch [300] loss: -541.1753540039062\n",
            "batch [400] loss: -854.880126953125\n",
            "batch [500] loss: -1111.86962890625\n",
            "batch [600] loss: -1327.406005859375\n",
            "batch [700] loss: -1514.053466796875\n",
            "batch [800] loss: -1680.046142578125\n"
          ],
          "name": "stdout"
        },
        {
          "output_type": "error",
          "ename": "RuntimeError",
          "evalue": "ignored",
          "traceback": [
            "\u001b[0;31m---------------------------------------------------------------------------\u001b[0m",
            "\u001b[0;31mRuntimeError\u001b[0m                              Traceback (most recent call last)",
            "\u001b[0;32m<ipython-input-25-e43f1407b96a>\u001b[0m in \u001b[0;36m<module>\u001b[0;34m()\u001b[0m\n\u001b[1;32m     10\u001b[0m                                                    \u001b[0mc_range\u001b[0m\u001b[0;34m=\u001b[0m\u001b[0;34m(\u001b[0m\u001b[0;36m1e-3\u001b[0m\u001b[0;34m,\u001b[0m \u001b[0;36m1e10\u001b[0m\u001b[0;34m)\u001b[0m\u001b[0;34m,\u001b[0m \u001b[0msearch_steps\u001b[0m\u001b[0;34m=\u001b[0m\u001b[0;36m5\u001b[0m\u001b[0;34m,\u001b[0m \u001b[0mmax_steps\u001b[0m\u001b[0;34m=\u001b[0m\u001b[0;36m1000\u001b[0m\u001b[0;34m,\u001b[0m\u001b[0;34m\u001b[0m\u001b[0;34m\u001b[0m\u001b[0m\n\u001b[1;32m     11\u001b[0m                                                    \u001b[0mabort_early\u001b[0m\u001b[0;34m=\u001b[0m\u001b[0;32mTrue\u001b[0m\u001b[0;34m,\u001b[0m \u001b[0mbox\u001b[0m\u001b[0;34m=\u001b[0m\u001b[0mbox\u001b[0m\u001b[0;34m,\u001b[0m \u001b[0moptimizer_lr\u001b[0m\u001b[0;34m=\u001b[0m\u001b[0;36m5e-4\u001b[0m\u001b[0;34m,\u001b[0m\u001b[0;34m\u001b[0m\u001b[0;34m\u001b[0m\u001b[0m\n\u001b[0;32m---> 12\u001b[0;31m                                                    init_rand=False, log_frequency=100)\n\u001b[0m\u001b[1;32m     13\u001b[0m \u001b[0;34m\u001b[0m\u001b[0m\n\u001b[1;32m     14\u001b[0m         \u001b[0mpert_acc\u001b[0m\u001b[0;34m,\u001b[0m \u001b[0morig_acc\u001b[0m \u001b[0;34m=\u001b[0m \u001b[0meval_performance\u001b[0m\u001b[0;34m(\u001b[0m\u001b[0mmodel\u001b[0m\u001b[0;34m,\u001b[0m \u001b[0minputs\u001b[0m\u001b[0;34m,\u001b[0m \u001b[0mcw_advs_divs\u001b[0m\u001b[0;34m)\u001b[0m\u001b[0;34m\u001b[0m\u001b[0;34m\u001b[0m\u001b[0m\n",
            "\u001b[0;32m<ipython-input-23-f7fe10909043>\u001b[0m in \u001b[0;36mcw_div3_attack\u001b[0;34m(model, layer, regularizer_weight, inputs, targets, targeted, confidence, c_range, search_steps, max_steps, abort_early, box, optimizer_lr, init_rand, log_frequency)\u001b[0m\n\u001b[1;32m     44\u001b[0m         \u001b[0mdivs\u001b[0m \u001b[0;34m=\u001b[0m \u001b[0;34m[\u001b[0m\u001b[0;34m]\u001b[0m\u001b[0;34m\u001b[0m\u001b[0;34m\u001b[0m\u001b[0m\n\u001b[1;32m     45\u001b[0m         \u001b[0;32mfor\u001b[0m \u001b[0mi\u001b[0m \u001b[0;32min\u001b[0m \u001b[0mrange\u001b[0m\u001b[0;34m(\u001b[0m\u001b[0mbatch_size\u001b[0m\u001b[0;34m)\u001b[0m\u001b[0;34m:\u001b[0m\u001b[0;34m\u001b[0m\u001b[0;34m\u001b[0m\u001b[0m\n\u001b[0;32m---> 46\u001b[0;31m             \u001b[0mdivs\u001b[0m\u001b[0;34m.\u001b[0m\u001b[0mappend\u001b[0m\u001b[0;34m(\u001b[0m\u001b[0mnorm_divergence\u001b[0m\u001b[0;34m(\u001b[0m\u001b[0mdata\u001b[0m\u001b[0;34m=\u001b[0m\u001b[0madversaries\u001b[0m\u001b[0;34m[\u001b[0m\u001b[0mi\u001b[0m\u001b[0;34m]\u001b[0m\u001b[0;34m.\u001b[0m\u001b[0munsqueeze\u001b[0m\u001b[0;34m(\u001b[0m\u001b[0;36m0\u001b[0m\u001b[0;34m)\u001b[0m\u001b[0;34m,\u001b[0m \u001b[0mmodel\u001b[0m\u001b[0;34m=\u001b[0m\u001b[0mmodel\u001b[0m\u001b[0;34m,\u001b[0m \u001b[0mlayer\u001b[0m\u001b[0;34m=\u001b[0m\u001b[0;34m'relu3'\u001b[0m\u001b[0;34m,\u001b[0m \u001b[0mregularizer_weight\u001b[0m\u001b[0;34m=\u001b[0m\u001b[0;36m1\u001b[0m\u001b[0;34m)\u001b[0m\u001b[0;34m)\u001b[0m\u001b[0;34m\u001b[0m\u001b[0;34m\u001b[0m\u001b[0m\n\u001b[0m\u001b[1;32m     47\u001b[0m \u001b[0;34m\u001b[0m\u001b[0m\n\u001b[1;32m     48\u001b[0m         \u001b[0mdiv_norms\u001b[0m \u001b[0;34m=\u001b[0m \u001b[0mtorch\u001b[0m\u001b[0;34m.\u001b[0m\u001b[0mtensor\u001b[0m\u001b[0;34m(\u001b[0m\u001b[0mtorch\u001b[0m\u001b[0;34m.\u001b[0m\u001b[0mstack\u001b[0m\u001b[0;34m(\u001b[0m\u001b[0mdivs\u001b[0m\u001b[0;34m)\u001b[0m\u001b[0;34m,\u001b[0m \u001b[0mdevice\u001b[0m\u001b[0;34m=\u001b[0m\u001b[0mdevice\u001b[0m\u001b[0;34m)\u001b[0m\u001b[0;34m\u001b[0m\u001b[0;34m\u001b[0m\u001b[0m\n",
            "\u001b[0;32m<ipython-input-15-e55e87ad1ced>\u001b[0m in \u001b[0;36mnorm_divergence\u001b[0;34m(data, model, layer, neuron, regularizer_weight)\u001b[0m\n\u001b[1;32m     90\u001b[0m     \"\"\"\n\u001b[1;32m     91\u001b[0m     \u001b[0;31m# extract layer activations as numpy array\u001b[0m\u001b[0;34m\u001b[0m\u001b[0;34m\u001b[0m\u001b[0;34m\u001b[0m\u001b[0m\n\u001b[0;32m---> 92\u001b[0;31m     \u001b[0mlayer_activations\u001b[0m \u001b[0;34m=\u001b[0m \u001b[0mmodel\u001b[0m\u001b[0;34m.\u001b[0m\u001b[0mextract_outputs\u001b[0m\u001b[0;34m(\u001b[0m\u001b[0mdata\u001b[0m\u001b[0;34m=\u001b[0m\u001b[0mdata\u001b[0m\u001b[0;34m,\u001b[0m \u001b[0mlayer\u001b[0m\u001b[0;34m=\u001b[0m\u001b[0mlayer\u001b[0m\u001b[0;34m)\u001b[0m\u001b[0;34m\u001b[0m\u001b[0;34m\u001b[0m\u001b[0m\n\u001b[0m\u001b[1;32m     93\u001b[0m \u001b[0;34m\u001b[0m\u001b[0m\n\u001b[1;32m     94\u001b[0m     \u001b[0;31m# normalize with softmax (to get a probability density)\u001b[0m\u001b[0;34m\u001b[0m\u001b[0;34m\u001b[0m\u001b[0;34m\u001b[0m\u001b[0m\n",
            "\u001b[0;32m<ipython-input-4-561528d6c307>\u001b[0m in \u001b[0;36mextract_outputs\u001b[0;34m(self, data, layer, neuron)\u001b[0m\n\u001b[1;32m     79\u001b[0m             \u001b[0;32mif\u001b[0m \u001b[0mname\u001b[0m \u001b[0;34m==\u001b[0m \u001b[0mlayer\u001b[0m\u001b[0;34m:\u001b[0m\u001b[0;34m\u001b[0m\u001b[0;34m\u001b[0m\u001b[0m\n\u001b[1;32m     80\u001b[0m                 \u001b[0mhandle\u001b[0m \u001b[0;34m=\u001b[0m \u001b[0mmodule\u001b[0m\u001b[0;34m.\u001b[0m\u001b[0mregister_forward_hook\u001b[0m\u001b[0;34m(\u001b[0m\u001b[0mhook\u001b[0m\u001b[0;34m)\u001b[0m\u001b[0;34m\u001b[0m\u001b[0;34m\u001b[0m\u001b[0m\n\u001b[0;32m---> 81\u001b[0;31m         \u001b[0mout\u001b[0m \u001b[0;34m=\u001b[0m \u001b[0mself\u001b[0m\u001b[0;34m(\u001b[0m\u001b[0mdata\u001b[0m\u001b[0;34m)\u001b[0m\u001b[0;34m\u001b[0m\u001b[0;34m\u001b[0m\u001b[0m\n\u001b[0m\u001b[1;32m     82\u001b[0m         \u001b[0;32mif\u001b[0m \u001b[0;32mnot\u001b[0m \u001b[0mneuron\u001b[0m \u001b[0;32mis\u001b[0m \u001b[0;32mNone\u001b[0m\u001b[0;34m:\u001b[0m\u001b[0;34m\u001b[0m\u001b[0;34m\u001b[0m\u001b[0m\n\u001b[1;32m     83\u001b[0m             \u001b[0moutputs\u001b[0m\u001b[0;34m[\u001b[0m\u001b[0;36m0\u001b[0m\u001b[0;34m]\u001b[0m \u001b[0;34m=\u001b[0m \u001b[0moutputs\u001b[0m\u001b[0;34m[\u001b[0m\u001b[0;36m0\u001b[0m\u001b[0;34m]\u001b[0m\u001b[0;34m[\u001b[0m\u001b[0;36m0\u001b[0m\u001b[0;34m]\u001b[0m\u001b[0;34m[\u001b[0m\u001b[0mneuron\u001b[0m\u001b[0;34m]\u001b[0m\u001b[0;34m\u001b[0m\u001b[0;34m\u001b[0m\u001b[0m\n",
            "\u001b[0;32m/usr/local/lib/python3.6/dist-packages/torch/nn/modules/module.py\u001b[0m in \u001b[0;36m__call__\u001b[0;34m(self, *input, **kwargs)\u001b[0m\n\u001b[1;32m    491\u001b[0m             \u001b[0mresult\u001b[0m \u001b[0;34m=\u001b[0m \u001b[0mself\u001b[0m\u001b[0;34m.\u001b[0m\u001b[0m_slow_forward\u001b[0m\u001b[0;34m(\u001b[0m\u001b[0;34m*\u001b[0m\u001b[0minput\u001b[0m\u001b[0;34m,\u001b[0m \u001b[0;34m**\u001b[0m\u001b[0mkwargs\u001b[0m\u001b[0;34m)\u001b[0m\u001b[0;34m\u001b[0m\u001b[0;34m\u001b[0m\u001b[0m\n\u001b[1;32m    492\u001b[0m         \u001b[0;32melse\u001b[0m\u001b[0;34m:\u001b[0m\u001b[0;34m\u001b[0m\u001b[0;34m\u001b[0m\u001b[0m\n\u001b[0;32m--> 493\u001b[0;31m             \u001b[0mresult\u001b[0m \u001b[0;34m=\u001b[0m \u001b[0mself\u001b[0m\u001b[0;34m.\u001b[0m\u001b[0mforward\u001b[0m\u001b[0;34m(\u001b[0m\u001b[0;34m*\u001b[0m\u001b[0minput\u001b[0m\u001b[0;34m,\u001b[0m \u001b[0;34m**\u001b[0m\u001b[0mkwargs\u001b[0m\u001b[0;34m)\u001b[0m\u001b[0;34m\u001b[0m\u001b[0;34m\u001b[0m\u001b[0m\n\u001b[0m\u001b[1;32m    494\u001b[0m         \u001b[0;32mfor\u001b[0m \u001b[0mhook\u001b[0m \u001b[0;32min\u001b[0m \u001b[0mself\u001b[0m\u001b[0;34m.\u001b[0m\u001b[0m_forward_hooks\u001b[0m\u001b[0;34m.\u001b[0m\u001b[0mvalues\u001b[0m\u001b[0;34m(\u001b[0m\u001b[0;34m)\u001b[0m\u001b[0;34m:\u001b[0m\u001b[0;34m\u001b[0m\u001b[0;34m\u001b[0m\u001b[0m\n\u001b[1;32m    495\u001b[0m             \u001b[0mhook_result\u001b[0m \u001b[0;34m=\u001b[0m \u001b[0mhook\u001b[0m\u001b[0;34m(\u001b[0m\u001b[0mself\u001b[0m\u001b[0;34m,\u001b[0m \u001b[0minput\u001b[0m\u001b[0;34m,\u001b[0m \u001b[0mresult\u001b[0m\u001b[0;34m)\u001b[0m\u001b[0;34m\u001b[0m\u001b[0;34m\u001b[0m\u001b[0m\n",
            "\u001b[0;32m<ipython-input-4-561528d6c307>\u001b[0m in \u001b[0;36mforward\u001b[0;34m(self, x)\u001b[0m\n\u001b[1;32m     61\u001b[0m     \u001b[0;32mdef\u001b[0m \u001b[0mforward\u001b[0m\u001b[0;34m(\u001b[0m\u001b[0mself\u001b[0m\u001b[0;34m,\u001b[0m \u001b[0mx\u001b[0m\u001b[0;34m)\u001b[0m\u001b[0;34m:\u001b[0m\u001b[0;34m\u001b[0m\u001b[0;34m\u001b[0m\u001b[0m\n\u001b[1;32m     62\u001b[0m         \u001b[0mx\u001b[0m \u001b[0;34m=\u001b[0m \u001b[0mself\u001b[0m\u001b[0;34m.\u001b[0m\u001b[0mconv1\u001b[0m\u001b[0;34m(\u001b[0m\u001b[0mx\u001b[0m\u001b[0;34m)\u001b[0m\u001b[0;34m\u001b[0m\u001b[0;34m\u001b[0m\u001b[0m\n\u001b[0;32m---> 63\u001b[0;31m         \u001b[0mx\u001b[0m \u001b[0;34m=\u001b[0m \u001b[0mself\u001b[0m\u001b[0;34m.\u001b[0m\u001b[0mrelu1\u001b[0m\u001b[0;34m(\u001b[0m\u001b[0mx\u001b[0m\u001b[0;34m)\u001b[0m\u001b[0;34m\u001b[0m\u001b[0;34m\u001b[0m\u001b[0m\n\u001b[0m\u001b[1;32m     64\u001b[0m         \u001b[0mx\u001b[0m \u001b[0;34m=\u001b[0m \u001b[0mF\u001b[0m\u001b[0;34m.\u001b[0m\u001b[0mmax_pool2d\u001b[0m\u001b[0;34m(\u001b[0m\u001b[0mx\u001b[0m\u001b[0;34m,\u001b[0m \u001b[0;36m2\u001b[0m\u001b[0;34m,\u001b[0m \u001b[0;36m2\u001b[0m\u001b[0;34m)\u001b[0m\u001b[0;34m\u001b[0m\u001b[0;34m\u001b[0m\u001b[0m\n\u001b[1;32m     65\u001b[0m         \u001b[0mx\u001b[0m \u001b[0;34m=\u001b[0m \u001b[0mself\u001b[0m\u001b[0;34m.\u001b[0m\u001b[0mconv2\u001b[0m\u001b[0;34m(\u001b[0m\u001b[0mx\u001b[0m\u001b[0;34m)\u001b[0m\u001b[0;34m\u001b[0m\u001b[0;34m\u001b[0m\u001b[0m\n",
            "\u001b[0;32m/usr/local/lib/python3.6/dist-packages/torch/nn/modules/module.py\u001b[0m in \u001b[0;36m__call__\u001b[0;34m(self, *input, **kwargs)\u001b[0m\n\u001b[1;32m    491\u001b[0m             \u001b[0mresult\u001b[0m \u001b[0;34m=\u001b[0m \u001b[0mself\u001b[0m\u001b[0;34m.\u001b[0m\u001b[0m_slow_forward\u001b[0m\u001b[0;34m(\u001b[0m\u001b[0;34m*\u001b[0m\u001b[0minput\u001b[0m\u001b[0;34m,\u001b[0m \u001b[0;34m**\u001b[0m\u001b[0mkwargs\u001b[0m\u001b[0;34m)\u001b[0m\u001b[0;34m\u001b[0m\u001b[0;34m\u001b[0m\u001b[0m\n\u001b[1;32m    492\u001b[0m         \u001b[0;32melse\u001b[0m\u001b[0;34m:\u001b[0m\u001b[0;34m\u001b[0m\u001b[0;34m\u001b[0m\u001b[0m\n\u001b[0;32m--> 493\u001b[0;31m             \u001b[0mresult\u001b[0m \u001b[0;34m=\u001b[0m \u001b[0mself\u001b[0m\u001b[0;34m.\u001b[0m\u001b[0mforward\u001b[0m\u001b[0;34m(\u001b[0m\u001b[0;34m*\u001b[0m\u001b[0minput\u001b[0m\u001b[0;34m,\u001b[0m \u001b[0;34m**\u001b[0m\u001b[0mkwargs\u001b[0m\u001b[0;34m)\u001b[0m\u001b[0;34m\u001b[0m\u001b[0;34m\u001b[0m\u001b[0m\n\u001b[0m\u001b[1;32m    494\u001b[0m         \u001b[0;32mfor\u001b[0m \u001b[0mhook\u001b[0m \u001b[0;32min\u001b[0m \u001b[0mself\u001b[0m\u001b[0;34m.\u001b[0m\u001b[0m_forward_hooks\u001b[0m\u001b[0;34m.\u001b[0m\u001b[0mvalues\u001b[0m\u001b[0;34m(\u001b[0m\u001b[0;34m)\u001b[0m\u001b[0;34m:\u001b[0m\u001b[0;34m\u001b[0m\u001b[0;34m\u001b[0m\u001b[0m\n\u001b[1;32m    495\u001b[0m             \u001b[0mhook_result\u001b[0m \u001b[0;34m=\u001b[0m \u001b[0mhook\u001b[0m\u001b[0;34m(\u001b[0m\u001b[0mself\u001b[0m\u001b[0;34m,\u001b[0m \u001b[0minput\u001b[0m\u001b[0;34m,\u001b[0m \u001b[0mresult\u001b[0m\u001b[0;34m)\u001b[0m\u001b[0;34m\u001b[0m\u001b[0;34m\u001b[0m\u001b[0m\n",
            "\u001b[0;32m/usr/local/lib/python3.6/dist-packages/torch/nn/modules/activation.py\u001b[0m in \u001b[0;36mforward\u001b[0;34m(self, input)\u001b[0m\n\u001b[1;32m     97\u001b[0m     \u001b[0;34m@\u001b[0m\u001b[0mweak_script_method\u001b[0m\u001b[0;34m\u001b[0m\u001b[0;34m\u001b[0m\u001b[0m\n\u001b[1;32m     98\u001b[0m     \u001b[0;32mdef\u001b[0m \u001b[0mforward\u001b[0m\u001b[0;34m(\u001b[0m\u001b[0mself\u001b[0m\u001b[0;34m,\u001b[0m \u001b[0minput\u001b[0m\u001b[0;34m)\u001b[0m\u001b[0;34m:\u001b[0m\u001b[0;34m\u001b[0m\u001b[0;34m\u001b[0m\u001b[0m\n\u001b[0;32m---> 99\u001b[0;31m         \u001b[0;32mreturn\u001b[0m \u001b[0mF\u001b[0m\u001b[0;34m.\u001b[0m\u001b[0mrelu\u001b[0m\u001b[0;34m(\u001b[0m\u001b[0minput\u001b[0m\u001b[0;34m,\u001b[0m \u001b[0minplace\u001b[0m\u001b[0;34m=\u001b[0m\u001b[0mself\u001b[0m\u001b[0;34m.\u001b[0m\u001b[0minplace\u001b[0m\u001b[0;34m)\u001b[0m\u001b[0;34m\u001b[0m\u001b[0;34m\u001b[0m\u001b[0m\n\u001b[0m\u001b[1;32m    100\u001b[0m \u001b[0;34m\u001b[0m\u001b[0m\n\u001b[1;32m    101\u001b[0m     \u001b[0;32mdef\u001b[0m \u001b[0mextra_repr\u001b[0m\u001b[0;34m(\u001b[0m\u001b[0mself\u001b[0m\u001b[0;34m)\u001b[0m\u001b[0;34m:\u001b[0m\u001b[0;34m\u001b[0m\u001b[0;34m\u001b[0m\u001b[0m\n",
            "\u001b[0;32m/usr/local/lib/python3.6/dist-packages/torch/nn/functional.py\u001b[0m in \u001b[0;36mrelu\u001b[0;34m(input, inplace)\u001b[0m\n\u001b[1;32m    941\u001b[0m         \u001b[0mresult\u001b[0m \u001b[0;34m=\u001b[0m \u001b[0mtorch\u001b[0m\u001b[0;34m.\u001b[0m\u001b[0mrelu_\u001b[0m\u001b[0;34m(\u001b[0m\u001b[0minput\u001b[0m\u001b[0;34m)\u001b[0m\u001b[0;34m\u001b[0m\u001b[0;34m\u001b[0m\u001b[0m\n\u001b[1;32m    942\u001b[0m     \u001b[0;32melse\u001b[0m\u001b[0;34m:\u001b[0m\u001b[0;34m\u001b[0m\u001b[0;34m\u001b[0m\u001b[0m\n\u001b[0;32m--> 943\u001b[0;31m         \u001b[0mresult\u001b[0m \u001b[0;34m=\u001b[0m \u001b[0mtorch\u001b[0m\u001b[0;34m.\u001b[0m\u001b[0mrelu\u001b[0m\u001b[0;34m(\u001b[0m\u001b[0minput\u001b[0m\u001b[0;34m)\u001b[0m\u001b[0;34m\u001b[0m\u001b[0;34m\u001b[0m\u001b[0m\n\u001b[0m\u001b[1;32m    944\u001b[0m     \u001b[0;32mreturn\u001b[0m \u001b[0mresult\u001b[0m\u001b[0;34m\u001b[0m\u001b[0;34m\u001b[0m\u001b[0m\n\u001b[1;32m    945\u001b[0m \u001b[0;34m\u001b[0m\u001b[0m\n",
            "\u001b[0;31mRuntimeError\u001b[0m: CUDA out of memory. Tried to allocate 2.00 MiB (GPU 0; 14.73 GiB total capacity; 13.92 GiB already allocated; 3.94 MiB free; 46.38 MiB cached)"
          ]
        }
      ]
    },
    {
      "cell_type": "code",
      "metadata": {
        "id": "Vt1vvsHPe6Vj",
        "colab_type": "code",
        "colab": {}
      },
      "source": [
        ""
      ],
      "execution_count": 0,
      "outputs": []
    }
  ]
}