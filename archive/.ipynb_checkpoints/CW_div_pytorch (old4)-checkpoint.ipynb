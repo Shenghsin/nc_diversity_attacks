{
 "cells": [
  {
   "cell_type": "code",
   "execution_count": 1,
   "metadata": {
    "colab": {},
    "colab_type": "code",
    "id": "yeR2kRlPR7v0"
   },
   "outputs": [],
   "source": [
    "import torch\n",
    "import torch.nn as nn\n",
    "import torch.nn.functional as F\n",
    "import torch.optim as optim\n",
    "from torch.autograd import Variable\n",
    "\n",
    "import torchvision\n",
    "import torchvision.transforms as transforms\n",
    "\n",
    "import numpy as np\n",
    "import matplotlib.pyplot as plt\n",
    "\n",
    "import warnings\n",
    "warnings.filterwarnings('ignore')\n",
    "\n",
    "import datetime\n",
    "import glob\n",
    "import os\n",
    "\n",
    "%matplotlib inline"
   ]
  },
  {
   "cell_type": "code",
   "execution_count": 2,
   "metadata": {
    "colab": {
     "base_uri": "https://localhost:8080/",
     "height": 34
    },
    "colab_type": "code",
    "id": "IByUFiD8VfFD",
    "outputId": "a04c9ebe-a36a-4104-ef75-5810358b39bd"
   },
   "outputs": [
    {
     "name": "stdout",
     "output_type": "stream",
     "text": [
      "CUDA is not available.  Training on CPU ...\n"
     ]
    }
   ],
   "source": [
    "n_epochs = 5\n",
    "batch_size_train = 64\n",
    "batch_size_test = 100\n",
    "learning_rate = 0.01\n",
    "momentum = 0.5\n",
    "log_interval = 100\n",
    "\n",
    "random_seed = 1\n",
    "torch.manual_seed(random_seed)\n",
    "\n",
    "# check if CUDA is available\n",
    "device = torch.device(\"cpu\")\n",
    "if torch.cuda.is_available():\n",
    "    print('CUDA is available!  Training on GPU ...')\n",
    "    device = torch.device(\"cuda\")\n",
    "else:\n",
    "    print('CUDA is not available.  Training on CPU ...')"
   ]
  },
  {
   "cell_type": "code",
   "execution_count": 3,
   "metadata": {
    "colab": {
     "base_uri": "https://localhost:8080/",
     "height": 255
    },
    "colab_type": "code",
    "id": "7l36L4F5VifU",
    "outputId": "a8882ad0-9b9e-40bc-cb2f-9fa4c30c2795"
   },
   "outputs": [],
   "source": [
    "#  torchvision.transforms.Normalize(\n",
    "#    (0.1307,), (0.3081,))\n",
    "\n",
    "train_loader = torch.utils.data.DataLoader(\n",
    "    torchvision.datasets.MNIST('/data/', train=True, download=True,\n",
    "                             transform=torchvision.transforms.Compose([\n",
    "                               torchvision.transforms.ToTensor()\n",
    "                             ])),\n",
    "    batch_size=batch_size_train, shuffle=True, pin_memory=True)\n",
    "\n",
    "test_loader = torch.utils.data.DataLoader(\n",
    "    torchvision.datasets.MNIST('/data/', train=False, download=True,\n",
    "                         transform=torchvision.transforms.Compose([\n",
    "                           torchvision.transforms.ToTensor()\n",
    "                         ])),\n",
    "    batch_size=batch_size_test, shuffle=True, pin_memory=True)"
   ]
  },
  {
   "cell_type": "code",
   "execution_count": 4,
   "metadata": {
    "colab": {},
    "colab_type": "code",
    "id": "yKEku0wcSCVQ"
   },
   "outputs": [],
   "source": [
    "class DenseNet(nn.Module):\n",
    "    def __init__(self):\n",
    "        super(DenseNet, self).__init__()\n",
    "        self.dens1 = nn.Linear(784, 256)\n",
    "        self.relu1 = nn.ReLU()\n",
    "        self.drop1 = nn.Dropout(0.2)\n",
    "        self.dens2 = nn.Linear(256, 128)\n",
    "        self.relu2 = nn.ReLU()\n",
    "        self.drop2 = nn.Dropout(0.2)\n",
    "        self.dens3 = nn.Linear(128, 64)\n",
    "        self.relu3 = nn.ReLU()\n",
    "        self.drop3 = nn.Dropout(0.2)\n",
    "        self.dens4 = nn.Linear(64, 20)\n",
    "        self.relu4 = nn.ReLU()\n",
    "        self.drop4 = nn.Dropout(0.2)\n",
    "        self.dens5 = nn.Linear(20, 10)\n",
    "\n",
    "    def forward(self, x):\n",
    "        x = x.view(x.size(0), -1)\n",
    "        x = self.dens1(x)\n",
    "        x = self.relu1(x)\n",
    "        x = self.drop1(x)\n",
    "        x = self.dens2(x)\n",
    "        x = self.relu2(x)\n",
    "        x = self.drop2(x)\n",
    "        x = self.dens3(x)\n",
    "        x = self.relu3(x)\n",
    "        x = self.drop3(x)\n",
    "        x = self.dens4(x)\n",
    "        x = self.relu4(x)\n",
    "        x = self.drop4(x)\n",
    "        x = self.dens5(x)\n",
    "        return F.log_softmax(x, dim=1)\n",
    "    \n",
    "    def extract_outputs(self, data, layer, neuron=None):\n",
    "        outputs = []      \n",
    "        def hook(module, input, output):\n",
    "            outputs.append(output)    \n",
    "        for name, module in self.named_children():\n",
    "            if name == layer:\n",
    "                handle = module.register_forward_hook(hook)     \n",
    "        out = self(data)\n",
    "        if not neuron is None:\n",
    "            outputs[0] = outputs[0][0][neuron]\n",
    "        else:\n",
    "            outputs[0] = outputs[0][0]\n",
    "        handle.remove()\n",
    "        return torch.stack(outputs)\n",
    "\n",
    "class ConvNet(nn.Module):\n",
    "    def __init__(self):\n",
    "        super(ConvNet, self).__init__()\n",
    "        self.conv1 = nn.Conv2d(1, 20, 5, 1)\n",
    "        self.relu1 = nn.ReLU()\n",
    "        self.conv2 = nn.Conv2d(20, 50, 5, 1)\n",
    "        self.relu2 = nn.ReLU()\n",
    "        self.fc1 = nn.Linear(4 * 4 * 50, 500)\n",
    "        self.relu3 = nn.ReLU()\n",
    "        self.fc2 = nn.Linear(500, 10)\n",
    "\n",
    "    def forward(self, x):\n",
    "        x = self.conv1(x)\n",
    "        x = self.relu1(x)\n",
    "        x = F.max_pool2d(x, 2, 2)\n",
    "        x = self.conv2(x)\n",
    "        x = self.relu2(x)\n",
    "        x = F.max_pool2d(x, 2, 2)\n",
    "        x = x.view(-1, 4 * 4 * 50)\n",
    "        x = self.fc1(x)\n",
    "        x = self.relu3(x)\n",
    "        x = self.fc2(x)\n",
    "        return F.log_softmax(x, dim=1)\n",
    "    \n",
    "    def extract_outputs(self, data, layer, neuron=None):\n",
    "        outputs = []      \n",
    "        def hook(module, input, output):\n",
    "            outputs.append(output)    \n",
    "        for name, module in self.named_children():\n",
    "            if name == layer:\n",
    "                handle = module.register_forward_hook(hook)     \n",
    "        out = self(data)\n",
    "        if not neuron is None:\n",
    "            outputs[0] = outputs[0][0][neuron]\n",
    "        else:\n",
    "            outputs[0] = outputs[0][0]\n",
    "        handle.remove()\n",
    "        return torch.stack(outputs)\n",
    "  \n",
    "def train(model, device, train_loader, optimizer, epoch):\n",
    "    model.train()\n",
    "    for batch_idx, (data, target) in enumerate(train_loader):\n",
    "        data, target = data.to(device), target.to(device)\n",
    "        optimizer.zero_grad()\n",
    "        # calculate robust loss\n",
    "        loss = F.cross_entropy(model(data), target)\n",
    "        loss.backward()\n",
    "        optimizer.step()\n",
    "        if batch_idx % log_interval == 0:\n",
    "            print('Train Epoch: {} [{}/{} ({:.0f}%)]\\tLoss: {:.6f}'.format(\n",
    "                epoch, batch_idx * len(data), len(train_loader.dataset),\n",
    "                       100. * batch_idx / len(train_loader), loss.item()))\n",
    "            \n",
    "def test(model, device, test_loader):\n",
    "    model.eval()\n",
    "    test_loss = 0\n",
    "    correct = 0\n",
    "    with torch.no_grad():\n",
    "        for data, target in test_loader:\n",
    "            data, target = data.to(device), target.to(device)\n",
    "            output = model(data)\n",
    "            test_loss += F.nll_loss(output, target, reduction='sum').item()  # sum up batch loss\n",
    "            pred = output.argmax(dim=1, keepdim=True)  # get the index of the max log-probability\n",
    "            correct += pred.eq(target.view_as(pred)).sum().item()\n",
    "    test_loss /= len(test_loader.dataset)\n",
    "    print('\\nTest set: Average loss: {:.4f}, Accuracy: {}/{} ({:.0f}%)\\n'.format(\n",
    "        test_loss, correct, len(test_loader.dataset),\n",
    "        100. * correct / len(test_loader.dataset)))"
   ]
  },
  {
   "cell_type": "code",
   "execution_count": 13,
   "metadata": {
    "colab": {
     "base_uri": "https://localhost:8080/",
     "height": 1000
    },
    "colab_type": "code",
    "id": "YCva0V7uVIZ_",
    "outputId": "f84a9d4a-88b9-4f87-8f82-09ede53f6046"
   },
   "outputs": [
    {
     "name": "stderr",
     "output_type": "stream",
     "text": [
      "A subdirectory or file models already exists.\n"
     ]
    },
    {
     "name": "stdout",
     "output_type": "stream",
     "text": [
      "loading model models\\model_ConvNet_2019-07-09 15.50.26.212191.pth\n"
     ]
    }
   ],
   "source": [
    "model = ConvNet().to(device)\n",
    "optimizer = optim.SGD(model.parameters(), lr=learning_rate, momentum=momentum)\n",
    "\n",
    "# check to see if we can just load a previous model\n",
    "%mkdir models\n",
    "latest_model = None\n",
    "m_type = model.__class__.__name__\n",
    "prev_models = glob.glob('models/*'+ m_type +'*.pth')\n",
    "if prev_models:\n",
    "    latest_model = max(prev_models, key=os.path.getctime)\n",
    "\n",
    "if latest_model is not None and m_type in latest_model:\n",
    "    print('loading model', latest_model)\n",
    "    model.load_state_dict(torch.load(latest_model))  \n",
    "else:\n",
    "    for epoch in range(1, n_epochs + 1):\n",
    "        train(model, device, train_loader, optimizer, epoch)\n",
    "        test(model, device, test_loader)    \n",
    "    torch.save(model.state_dict(), 'models/model_' + m_type + '_' +str(datetime.datetime.now()).replace(':','.') + '.pth')"
   ]
  },
  {
   "cell_type": "markdown",
   "metadata": {
    "colab_type": "text",
    "id": "_xXXilwbZq-v"
   },
   "source": [
    "# Helper Methods"
   ]
  },
  {
   "cell_type": "code",
   "execution_count": 14,
   "metadata": {
    "colab": {},
    "colab_type": "code",
    "id": "Im4wutR6ge14"
   },
   "outputs": [],
   "source": [
    "def atanh(x, eps=1e-2):\n",
    "    \"\"\"\n",
    "    The inverse hyperbolic tangent function, missing in pytorch.\n",
    "\n",
    "    :param x: a tensor or a Variable\n",
    "    :param eps: used to enhance numeric stability\n",
    "    :return: :math:`\\\\tanh^{-1}{x}`, of the same type as ``x``\n",
    "    \"\"\"\n",
    "    x = x * (1 - eps)\n",
    "    return 0.5 * torch.log((1.0 + x) / (1.0 - x))\n",
    "\n",
    "def to_tanh_space(x, box=(-1., 1.)):\n",
    "    \"\"\"\n",
    "    Convert a batch of tensors to tanh-space. This method complements the\n",
    "    implementation of the change-of-variable trick in terms of tanh.\n",
    "\n",
    "    :param x: the batch of tensors, of dimension [B x C x H x W]\n",
    "    :param box: a tuple of lower bound and upper bound of the box constraint\n",
    "    :return: the batch of tensors in tanh-space, of the same dimension;\n",
    "             the returned tensor is on the same device as ``x``\n",
    "    \"\"\"\n",
    "    _box_mul = (box[1] - box[0]) * 0.5\n",
    "    _box_plus = (box[1] + box[0]) * 0.5\n",
    "    return atanh((x - _box_plus) / _box_mul)\n",
    "\n",
    "def from_tanh_space(x, box=(-1., 1.)):\n",
    "    \"\"\"\n",
    "    Convert a batch of tensors from tanh-space to oridinary image space.\n",
    "    This method complements the implementation of the change-of-variable trick\n",
    "    in terms of tanh.\n",
    "\n",
    "    :param x: the batch of tensors, of dimension [B x C x H x W]\n",
    "    :param box: a tuple of lower bound and upper bound of the box constraint\n",
    "    :return: the batch of tensors in ordinary image space, of the same\n",
    "             dimension; the returned tensor is on the same device as ``x``\n",
    "    \"\"\"\n",
    "    _box_mul = (box[1] - box[0]) * 0.5\n",
    "    _box_plus = (box[1] + box[0]) * 0.5\n",
    "    return torch.tanh(x) * _box_mul + _box_plus\n",
    "  \n",
    "def compensate_confidence(outputs, targets):\n",
    "    \"\"\"\n",
    "    Compensate for ``self.confidence`` and returns a new weighted sum\n",
    "    vector.\n",
    "\n",
    "    :param outputs: the weighted sum right before the last layer softmax\n",
    "           normalization, of dimension [B x M]\n",
    "    :type outputs: np.ndarray\n",
    "    :param targets: either the attack targets or the real image labels,\n",
    "           depending on whether or not ``self.targeted``, of dimension [B]\n",
    "    :type targets: np.ndarray\n",
    "    :return: the compensated weighted sum of dimension [B x M]\n",
    "    :rtype: np.ndarray\n",
    "    \"\"\"\n",
    "    outputs_comp = outputs.clone()\n",
    "    rng = torch.range(start=0, end=targets.shape[0]-1, dtype=torch.long, device=device)\n",
    "    # targets = targets.int()\n",
    "    if targeted:\n",
    "        # for each image $i$:\n",
    "        # if targeted, `outputs[i, target_onehot]` should be larger than\n",
    "        # `max(outputs[i, ~target_onehot])` by `self.confidence`\n",
    "        outputs_comp[rng, targets] -= confidence\n",
    "    else:\n",
    "        # for each image $i$:\n",
    "        # if not targeted, `max(outputs[i, ~target_onehot]` should be larger\n",
    "        # than `outputs[i, target_onehot]` (the ground truth image labels)\n",
    "        # by `self.confidence`\n",
    "        outputs_comp[rng, targets] += confidence\n",
    "    return outputs_comp\n",
    "  \n",
    "def attack_successful(prediction, target):\n",
    "    \"\"\"\n",
    "    See whether the underlying attack is successful.\n",
    "    \"\"\"\n",
    "    if targeted:\n",
    "        return prediction == target\n",
    "    else:\n",
    "        return prediction != target\n",
    "      \n",
    "def norm_divergence(data, model, layer, neuron=None, regularizer_weight=None):\n",
    "    \"\"\"\n",
    "    returns the kld between the activations of the specified layer and a uniform pdf\n",
    "    \"\"\"\n",
    "    # extract layer activations as numpy array\n",
    "    layer_activations = torch.squeeze(model.extract_outputs(data=data, layer=layer))\n",
    "    \n",
    "    # normalize over summation (to get a probability density)\n",
    "    out_norm = torch.sum(layer_activations, 0)\n",
    "    out_norm = out_norm / torch.sum(out_norm) + 1e-6 # F.softmax(out_norm, 1)\n",
    "\n",
    "    # create uniform tensor\n",
    "    uniform_tensor = torch.ones(out_norm.shape).to(device)\n",
    "\n",
    "    # normalize over summation (to get a probability density)\n",
    "    uni_norm = uniform_tensor / torch.sum(uniform_tensor)\n",
    "    \n",
    "    # measure divergence between normalized layer activations and uniform distribution\n",
    "    divergence = F.kl_div(input=out_norm.log(), target=uni_norm, reduction='sum')\n",
    "    \n",
    "    # default regularizer if not provided\n",
    "    if regularizer_weight is None:\n",
    "        regularizer_weight = 0.005 \n",
    "    \n",
    "    return regularizer_weight * divergence\n",
    "\n",
    "def eval_performance(model, originals, adversaries):\n",
    "    pert_output = model(adversaries)\n",
    "    orig_output = model(originals)\n",
    "\n",
    "    pert_pred = torch.argmax(pert_output, dim=1)\n",
    "    orig_pred = torch.argmax(orig_output, dim=1)\n",
    "\n",
    "    pert_correct = pert_pred.eq(targets.data).sum()\n",
    "    orig_correct = orig_pred.eq(targets.data).sum()\n",
    "\n",
    "    pert_acc = 100. * pert_correct / len(targets)\n",
    "    orig_acc = 100. * orig_correct / len(targets)\n",
    "\n",
    "    print('Perturbed Accuracy: {}/{} ({:.0f}%)\\n'.format(pert_correct, len(targets), pert_acc))\n",
    "    print('Original Accuracy: {}/{} ({:.0f}%)\\n'.format(orig_correct, len(targets), orig_acc))\n",
    "    \n",
    "    return pert_acc, orig_acc\n",
    "\n",
    "def sample_images(originals, adversaries, num_samples = 5):\n",
    "    orig_inputs = originals.cpu().detach().numpy()\n",
    "    adv_examples = adversaries.cpu().detach().numpy()\n",
    "    pert_output = model(adversaries)\n",
    "    orig_output = model(originals)\n",
    "    pert_pred = torch.argmax(pert_output, dim=1)\n",
    "    orig_pred = torch.argmax(orig_output, dim=1)\n",
    "    plt.figure(figsize=(15,8))\n",
    "    for i in range(1, num_samples+1):\n",
    "        plt.subplot(2, num_samples, i)\n",
    "        plt.imshow(np.squeeze(orig_inputs[i]), cmap='gray')  \n",
    "        plt.title('true: {}'.format(targets[i].item()))\n",
    "        plt.xticks([])\n",
    "        plt.yticks([])\n",
    "\n",
    "        plt.subplot(2, num_samples, num_samples+i)\n",
    "        plt.imshow(np.squeeze(adv_examples[i]), cmap='gray')\n",
    "        plt.title('adv_pred: {} - orig_pred: {}'.format(pert_pred[i].item(), orig_pred[i].item()))\n",
    "        plt.xticks([])\n",
    "        plt.yticks([])\n",
    "\n",
    "    plt.tight_layout()\n",
    "    plt.show()"
   ]
  },
  {
   "cell_type": "code",
   "execution_count": 15,
   "metadata": {
    "colab": {},
    "colab_type": "code",
    "id": "X7o_T3B3dWzu"
   },
   "outputs": [],
   "source": [
    "# targets = true labels only for when you're doing a targeted attack\n",
    "# otherwise, you're going to make the inputs easier to classify to \n",
    "# do a targeted attack, targets should be some class other than\n",
    "# the true label\n",
    "\n",
    "inputs, targets = next(iter(test_loader))\n",
    "\n",
    "inputs = inputs.to(device)\n",
    "targets = targets.to(device)"
   ]
  },
  {
   "cell_type": "markdown",
   "metadata": {
    "colab_type": "text",
    "id": "65vIqFkkCkYI"
   },
   "source": [
    "# Attack Time\n",
    "\n",
    "| Version | Loss Function | Scaling Constant | Regularizer | Adversary Selection |\n",
    "| - | - | - | - | - |\n",
    "|  Baseline CW | CW |  True | L2 |  L2 |\n",
    "|  Diversity v1 | CW |  True | Batch Divergence | Instance Divergence |\n",
    "|  Diversity v2 | CW |  False | Batch Divergence | Instance Divergence |\n",
    "|  Diversity v3 | Cross Entropy |  False | Batch Divergence | Instance Divergence |\n",
    "|  Diversity v4 | CW |  True | Batch Divergence | L2 |"
   ]
  },
  {
   "cell_type": "markdown",
   "metadata": {
    "colab_type": "text",
    "id": "LlxUuPx1zYE-"
   },
   "source": [
    "## Baseline CW\n",
    "\n",
    "| Loss Function | Scaling Constant | Regularizer | Adversary Selection |\n",
    "| - | - | - | - |\n",
    "|  CW |  True | L2 | L2 |"
   ]
  },
  {
   "cell_type": "code",
   "execution_count": 16,
   "metadata": {
    "colab": {},
    "colab_type": "code",
    "id": "KiGJy0r2h4aJ"
   },
   "outputs": [],
   "source": [
    "def cw_l2_attack(model, inputs, targets, targeted=False, confidence=0.0,\n",
    "                 c_range=(1e-3, 1e10), search_steps=5, max_steps=1000, \n",
    "                 abort_early=True, box=(-1., 1.), optimizer_lr=1e-2, \n",
    "                 init_rand=False, log_frequency=10):\n",
    "\n",
    "    batch_size = inputs.size(0)\n",
    "    num_classes = model(torch.tensor(inputs[0][None,:], requires_grad=False)).size(1)\n",
    "\n",
    "    # `lower_bounds`, `upper_bounds` and `scale_consts` are used\n",
    "    # for binary search of each `scale_const` in the batch. The element-wise\n",
    "    # inquality holds: lower_bounds < scale_consts <= upper_bounds\n",
    "    lower_bounds = torch.tensor(np.zeros(batch_size), dtype=torch.float, device=device)\n",
    "    upper_bounds = torch.tensor(np.ones(batch_size) * c_range[1], dtype=torch.float, device=device)\n",
    "    scale_consts = torch.tensor(np.ones(batch_size) * c_range[0], dtype=torch.float, device=device)\n",
    "\n",
    "    # Optimal attack to be found.\n",
    "    # The three \"placeholders\" are defined as:\n",
    "    # - `o_best_l2`          : the least L2 norms\n",
    "    # - `o_best_l2_ppred`    : the perturbed predictions made by the adversarial perturbations with the least L2 norms\n",
    "    # - `o_best_adversaries` : the underlying adversarial example of `o_best_l2_ppred`\n",
    "    o_best_l2 = torch.tensor(np.ones(batch_size) * np.inf, dtype=torch.float, device=device)\n",
    "    o_best_l2_ppred = torch.tensor(-np.ones(batch_size), dtype=torch.float, device=device)\n",
    "    o_best_adversaries = inputs.clone()\n",
    "\n",
    "    # convert `inputs` to tanh-space\n",
    "    inputs_tanh = to_tanh_space(inputs)\n",
    "    targets_oh = F.one_hot(targets).float()\n",
    "\n",
    "    # the perturbation tensor (only one we need to track gradients on)\n",
    "    pert_tanh = torch.zeros(inputs.size(), device=device, requires_grad=True)\n",
    "\n",
    "    optimizer = optim.Adam([pert_tanh], lr=optimizer_lr)\n",
    "\n",
    "    for const_step in range(search_steps):\n",
    "\n",
    "        print('Step', const_step)\n",
    "\n",
    "        # the minimum L2 norms of perturbations found during optimization\n",
    "        best_l2 = torch.tensor(np.ones(batch_size) * np.inf, dtype=torch.float, device=device)\n",
    "\n",
    "        # the perturbed predictions made by the adversarial perturbations with the least L2 norms\n",
    "        best_l2_ppred = torch.tensor(-np.ones(batch_size), dtype=torch.float, device=device)\n",
    "\n",
    "        # previous (summed) batch loss, to be used in early stopping policy\n",
    "        prev_batch_loss = torch.tensor(np.inf, device=device)\n",
    "        ae_tol = torch.tensor(1e-4, device=device)\n",
    "\n",
    "        # optimization steps\n",
    "        for optim_step in range(max_steps):\n",
    "\n",
    "            adversaries = from_tanh_space(inputs_tanh + pert_tanh)\n",
    "            pert_outputs = model(adversaries)\n",
    "\n",
    "            # Calculate L2 norm between adversaries and original inputs\n",
    "            pert_norms = torch.pow(adversaries - inputs, exponent=2)\n",
    "            pert_norms = torch.sum(pert_norms.view(pert_norms.size(0), -1), 1)\n",
    "\n",
    "            target_activ = torch.sum(targets_oh * pert_outputs, 1)\n",
    "            maxother_activ = torch.max(((1 - targets_oh) * pert_outputs - targets_oh * 1e4), 1)[0]\n",
    "\n",
    "            if targeted:           \n",
    "                # if targeted, optimize to make `target_activ` larger than `maxother_activ` by `confidence`\n",
    "                f = torch.clamp(maxother_activ - target_activ + confidence, min=0.0)\n",
    "            else:\n",
    "                # if not targeted, optimize to make `maxother_activ` larger than `target_activ` (the ground truth image labels) by `confidence`\n",
    "                f = torch.clamp(target_activ - maxother_activ + confidence, min=0.0)\n",
    "\n",
    "            # the total loss of current batch, should be of dimension [1]\n",
    "            batch_loss = torch.sum(pert_norms + scale_consts * f)\n",
    "\n",
    "            # Do optimization for one step\n",
    "            optimizer.zero_grad()\n",
    "            batch_loss.backward()\n",
    "            optimizer.step()\n",
    "\n",
    "            # \"returns\" batch_loss, pert_norms, pert_outputs, adversaries\n",
    "\n",
    "            if optim_step % log_frequency == 0: \n",
    "                print('batch [{}] loss: {}'.format(optim_step, batch_loss))\n",
    "\n",
    "            if abort_early and not optim_step % (max_steps // 10):   \n",
    "                if batch_loss > prev_batch_loss * (1 - ae_tol):\n",
    "                    break\n",
    "                prev_batch_loss = batch_loss\n",
    "\n",
    "            # update best attack found during optimization\n",
    "            pert_predictions = torch.argmax(pert_outputs, dim=1)\n",
    "            comp_pert_predictions = torch.argmax(compensate_confidence(pert_outputs, targets), dim=1)\n",
    "            for i in range(batch_size):\n",
    "                l2 = pert_norms[i]\n",
    "                cppred = comp_pert_predictions[i]\n",
    "                ppred = pert_predictions[i]\n",
    "                tlabel = targets[i]\n",
    "                ax = adversaries[i]\n",
    "                if attack_successful(cppred, tlabel):\n",
    "                    assert cppred == ppred\n",
    "                    if l2 < best_l2[i]:\n",
    "                        best_l2[i] = l2\n",
    "                        best_l2_ppred[i] = ppred\n",
    "                    if l2 < o_best_l2[i]:\n",
    "                        o_best_l2[i] = l2\n",
    "                        o_best_l2_ppred[i] = ppred\n",
    "                        o_best_adversaries[i] = ax\n",
    "\n",
    "        # binary search of `scale_const`\n",
    "        for i in range(batch_size):\n",
    "            tlabel = targets[i]\n",
    "            if best_l2_ppred[i] != -1:\n",
    "                # successful: attempt to lower `scale_const` by halving it\n",
    "                if scale_consts[i] < upper_bounds[i]:\n",
    "                    upper_bounds[i] = scale_consts[i]\n",
    "                # `upper_bounds[i] == c_range[1]` implies no solution\n",
    "                # found, i.e. upper_bounds[i] has never been updated by\n",
    "                # scale_consts[i] until `scale_consts[i] > 0.1 * c_range[1]`\n",
    "                if upper_bounds[i] < c_range[1] * 0.1:\n",
    "                    scale_consts[i] = (lower_bounds[i] + upper_bounds[i]) / 2\n",
    "            else:\n",
    "                # failure: multiply `scale_const` by ten if no solution\n",
    "                # found; otherwise do binary search\n",
    "                if scale_consts[i] > lower_bounds[i]:\n",
    "                    lower_bounds[i] = scale_consts[i]\n",
    "                if upper_bounds[i] < c_range[1] * 0.1:\n",
    "                    scale_consts[i] = (lower_bounds[i] + upper_bounds[i]) / 2\n",
    "                else:\n",
    "                    scale_consts[i] *= 10\n",
    "                    \n",
    "    return o_best_adversaries"
   ]
  },
  {
   "cell_type": "code",
   "execution_count": 17,
   "metadata": {
    "colab": {},
    "colab_type": "code",
    "id": "VbAGYjiGODjF"
   },
   "outputs": [],
   "source": [
    "targeted=False\n",
    "confidence=0.0\n",
    "c_range=(1e-3, 1e10)\n",
    "search_steps=10\n",
    "max_steps=1000\n",
    "abort_early=True\n",
    "optimizer_lr=5e-4\n",
    "\n",
    "mean = (0.1307,) # the mean used in inputs normalization\n",
    "std = (0.3081,) # the standard deviation used in inputs normalization\n",
    "box = (min((0 - m) / s for m, s in zip(mean, std)),\n",
    "       max((1 - m) / s for m, s in zip(mean, std)))\n",
    "\n",
    "log_frequency = 100"
   ]
  },
  {
   "cell_type": "code",
   "execution_count": 0,
   "metadata": {
    "colab": {},
    "colab_type": "code",
    "id": "kLueeAz4_-MO"
   },
   "outputs": [],
   "source": [
    "cw_advs = cw_l2_attack(model, inputs, targets, targeted=False, confidence=0.0,\n",
    "                       c_range=(1e-3, 1e10), search_steps=5, max_steps=1000, \n",
    "                       abort_early=True, box=box, optimizer_lr=5e-4, \n",
    "                       init_rand=False, log_frequency=100)"
   ]
  },
  {
   "cell_type": "code",
   "execution_count": 0,
   "metadata": {
    "colab": {
     "base_uri": "https://localhost:8080/",
     "height": 315
    },
    "colab_type": "code",
    "id": "CUsvsyleV1Is",
    "outputId": "8bdaf0ca-903b-4871-c249-456f949ae275"
   },
   "outputs": [
    {
     "name": "stdout",
     "output_type": "stream",
     "text": [
      "Perturbed Accuracy: 0/100 (0%)\n",
      "\n",
      "Original Accuracy: 99/100 (99%)\n",
      "\n"
     ]
    },
    {
     "data": {
      "image/png": "[encoded data removed]",
      "text/plain": [
       "<Figure size 1080x576 with 10 Axes>"
      ]
     },
     "metadata": {
      "tags": []
     },
     "output_type": "display_data"
    }
   ],
   "source": [
    "eval_performance(model, inputs, cw_advs)\n",
    "sample_images(inputs, cw_advs)"
   ]
  },
  {
   "cell_type": "code",
   "execution_count": 0,
   "metadata": {
    "colab": {
     "base_uri": "https://localhost:8080/",
     "height": 281
    },
    "colab_type": "code",
    "id": "TLhycjrBPl3j",
    "outputId": "080b9c4b-e448-4118-b69b-e7f3ab829ca9"
   },
   "outputs": [
    {
     "data": {
      "image/png": "[encoded data removed]",
      "text/plain": [
       "<Figure size 432x288 with 1 Axes>"
      ]
     },
     "metadata": {
      "needs_background": "light",
      "tags": []
     },
     "output_type": "display_data"
    }
   ],
   "source": [
    "plt.imshow((cw_advs[1] - inputs[1]).cpu().detach().numpy().reshape(28,28), cmap='gray') \n",
    "plt.title(targets[1].cpu().numpy())\n",
    "plt.show()"
   ]
  },
  {
   "cell_type": "markdown",
   "metadata": {
    "colab_type": "text",
    "id": "4PMv-KEuX9Q2"
   },
   "source": [
    "## Diversity Attack v1\n",
    "\n",
    "| Loss Function | Scaling Constant | Regularizer | Adversary Selection |\n",
    "| - | - | - | - |\n",
    "|  CW |  True | Batch Divergence | Instance Divergence |"
   ]
  },
  {
   "cell_type": "code",
   "execution_count": 18,
   "metadata": {
    "colab": {},
    "colab_type": "code",
    "id": "MiwScd1eX1eJ"
   },
   "outputs": [],
   "source": [
    "def cw_div1_attack(model, layer, regularizer_weight, inputs, targets, targeted=False, \n",
    "                   confidence=0.0, c_range=(1e-3, 1e10), search_steps=5, max_steps=1000, \n",
    "                   abort_early=True, box=(-1., 1.), optimizer_lr=1e-2, \n",
    "                   init_rand=False, log_frequency=10):\n",
    "\n",
    "    batch_size = inputs.size(0)\n",
    "    num_classes = model(torch.tensor(inputs[0][None,:], requires_grad=False)).size(1)\n",
    "\n",
    "    # `lower_bounds`, `upper_bounds` and `scale_consts` are used\n",
    "    # for binary search of each `scale_const` in the batch. The element-wise\n",
    "    # inquality holds: lower_bounds < scale_consts <= upper_bounds\n",
    "    lower_bounds = torch.tensor(np.zeros(batch_size), dtype=torch.float, device=device)\n",
    "    upper_bounds = torch.tensor(np.ones(batch_size) * c_range[1], dtype=torch.float, device=device)\n",
    "    scale_consts = torch.tensor(np.ones(batch_size) * c_range[0], dtype=torch.float, device=device)\n",
    "\n",
    "    # Optimal attack to be found.\n",
    "    # The three \"placeholders\" are defined as:\n",
    "    # - `o_best_div`         : the least divergences\n",
    "    # - `o_best_div_ppred`   : the perturbed predictions made by the adversarial perturbations with the least divergences\n",
    "    # - `o_best_adversaries` : the underlying adversarial example of `o_best_div_ppred`\n",
    "    o_best_div = torch.tensor(np.ones(batch_size) * np.inf, dtype=torch.float, device=device)\n",
    "    o_best_div_ppred = torch.tensor(-np.ones(batch_size), dtype=torch.float, device=device)\n",
    "    o_best_adversaries = inputs.clone()\n",
    "\n",
    "    # convert `inputs` to tanh-space\n",
    "    inputs_tanh = to_tanh_space(inputs)\n",
    "    targets_oh = F.one_hot(targets).float()\n",
    "\n",
    "    # the perturbation tensor (only one we need to track gradients on)\n",
    "    pert_tanh = torch.zeros(inputs.size(), device=device, requires_grad=True)\n",
    "\n",
    "    optimizer = optim.Adam([pert_tanh], lr=optimizer_lr)\n",
    "\n",
    "    for const_step in range(search_steps):\n",
    "\n",
    "        print('Step', const_step)\n",
    "\n",
    "        # the minimum divergences of perturbations found during optimization\n",
    "        best_div = torch.tensor(np.ones(batch_size) * np.inf, dtype=torch.float, device=device)\n",
    "\n",
    "        # the perturbed predictions made by the adversarial perturbations with the least divergences\n",
    "        best_div_ppred = torch.tensor(-np.ones(batch_size), dtype=torch.float, device=device)\n",
    "\n",
    "        # previous (summed) batch loss, to be used in early stopping policy\n",
    "        prev_batch_loss = torch.tensor(np.inf, device=device)\n",
    "        ae_tol = torch.tensor(1e-4, device=device)\n",
    "\n",
    "        # optimization steps\n",
    "        for optim_step in range(max_steps):\n",
    "\n",
    "            adversaries = from_tanh_space(inputs_tanh + pert_tanh)\n",
    "            pert_outputs = model(adversaries)\n",
    "\n",
    "            # calculate kl divergence for each input to use for adversary selection\n",
    "            divs = []\n",
    "            for i in range(batch_size):\n",
    "                divs.append(norm_divergence(data=adversaries[i].unsqueeze(0), model=model, layer=layer, regularizer_weight=regularizer_weight)) \n",
    "            div_norms = torch.tensor(torch.stack(divs), device=device)\n",
    "            \n",
    "            # calculate kl divergence for batch to use in loss function\n",
    "            div_reg = norm_divergence(data=adversaries, model=model, layer=layer, regularizer_weight=regularizer_weight)\n",
    "\n",
    "            target_activ = torch.sum(targets_oh * pert_outputs, 1)\n",
    "            maxother_activ = torch.max(((1 - targets_oh) * pert_outputs - targets_oh * 1e4), 1)[0]\n",
    "\n",
    "            if targeted:           \n",
    "                # if targeted, optimize to make `target_activ` larger than `maxother_activ` by `confidence`\n",
    "                f = torch.clamp(maxother_activ - target_activ + confidence, min=0.0)\n",
    "            else:\n",
    "                # if not targeted, optimize to make `maxother_activ` larger than `target_activ` (the ground truth image labels) by `confidence`\n",
    "                f = torch.clamp(target_activ - maxother_activ + confidence, min=0.0)\n",
    "\n",
    "            # the total loss of current batch, should be of dimension [1]\n",
    "            batch_loss = torch.sum(scale_consts * f) - div_reg\n",
    "\n",
    "            # Do optimization for one step\n",
    "            optimizer.zero_grad()\n",
    "            batch_loss.backward()\n",
    "            optimizer.step()\n",
    "\n",
    "            # \"returns\" batch_loss, pert_norms, pert_outputs, adversaries\n",
    "\n",
    "            if optim_step % log_frequency == 0: \n",
    "                print('batch [{}] loss: {}'.format(optim_step, batch_loss))\n",
    "\n",
    "            if abort_early and not optim_step % (max_steps // 10):   \n",
    "                if batch_loss > prev_batch_loss * (1 - ae_tol):\n",
    "                    break\n",
    "                prev_batch_loss = batch_loss\n",
    "\n",
    "            # update best attack found during optimization\n",
    "            pert_predictions = torch.argmax(pert_outputs, dim=1)\n",
    "            comp_pert_predictions = torch.argmax(compensate_confidence(pert_outputs, targets), dim=1)\n",
    "            for i in range(batch_size):\n",
    "                div = div_norms[i]\n",
    "                cppred = comp_pert_predictions[i]\n",
    "                ppred = pert_predictions[i]\n",
    "                tlabel = targets[i]\n",
    "                ax = adversaries[i]\n",
    "                if attack_successful(cppred, tlabel):\n",
    "                    assert cppred == ppred\n",
    "                    if div < best_div[i]:\n",
    "                        best_div[i] = div\n",
    "                        best_div_ppred[i] = ppred\n",
    "                    if div < o_best_div[i]:\n",
    "                        o_best_div[i] = div\n",
    "                        o_best_div_ppred[i] = ppred\n",
    "                        o_best_adversaries[i] = ax\n",
    "\n",
    "        # binary search of `scale_const`\n",
    "        for i in range(batch_size):\n",
    "            tlabel = targets[i]\n",
    "            if best_div_ppred[i] != -1:\n",
    "                # successful: attempt to lower `scale_const` by halving it\n",
    "                if scale_consts[i] < upper_bounds[i]:\n",
    "                    upper_bounds[i] = scale_consts[i]\n",
    "                # `upper_bounds[i] == c_range[1]` implies no solution\n",
    "                # found, i.e. upper_bounds[i] has never been updated by\n",
    "                # scale_consts[i] until `scale_consts[i] > 0.1 * c_range[1]`\n",
    "                if upper_bounds[i] < c_range[1] * 0.1:\n",
    "                    scale_consts[i] = (lower_bounds[i] + upper_bounds[i]) / 2\n",
    "            else:\n",
    "                # failure: multiply `scale_const` by ten if no solution\n",
    "                # found; otherwise do binary search\n",
    "                if scale_consts[i] > lower_bounds[i]:\n",
    "                    lower_bounds[i] = scale_consts[i]\n",
    "                if upper_bounds[i] < c_range[1] * 0.1:\n",
    "                    scale_consts[i] = (lower_bounds[i] + upper_bounds[i]) / 2\n",
    "                else:\n",
    "                    scale_consts[i] *= 10\n",
    "                    \n",
    "    return o_best_adversaries, div_norms"
   ]
  },
  {
   "cell_type": "code",
   "execution_count": 19,
   "metadata": {
    "colab": {
     "base_uri": "https://localhost:8080/",
     "height": 391
    },
    "colab_type": "code",
    "collapsed": true,
    "id": "BU2t6ERVB6C3",
    "outputId": "b39a6161-ad16-46c0-a816-72e857fac30b"
   },
   "outputs": [
    {
     "name": "stdout",
     "output_type": "stream",
     "text": [
      "Step 0\n",
      "batch [0] loss: 0.25219982862472534\n",
      "batch [100] loss: 0.1603238880634308\n"
     ]
    },
    {
     "ename": "KeyboardInterrupt",
     "evalue": "",
     "output_type": "error",
     "traceback": [
      "\u001b[1;31m---------------------------------------------------------------------------\u001b[0m",
      "\u001b[1;31mKeyboardInterrupt\u001b[0m                         Traceback (most recent call last)",
      "\u001b[1;32m<ipython-input-19-ed45f64a4ae5>\u001b[0m in \u001b[0;36m<module>\u001b[1;34m\u001b[0m\n\u001b[0;32m      2\u001b[0m                                           \u001b[0mc_range\u001b[0m\u001b[1;33m=\u001b[0m\u001b[1;33m(\u001b[0m\u001b[1;36m1e-3\u001b[0m\u001b[1;33m,\u001b[0m \u001b[1;36m1e10\u001b[0m\u001b[1;33m)\u001b[0m\u001b[1;33m,\u001b[0m \u001b[0msearch_steps\u001b[0m\u001b[1;33m=\u001b[0m\u001b[1;36m1\u001b[0m\u001b[1;33m,\u001b[0m \u001b[0mmax_steps\u001b[0m\u001b[1;33m=\u001b[0m\u001b[1;36m1000\u001b[0m\u001b[1;33m,\u001b[0m\u001b[1;33m\u001b[0m\u001b[1;33m\u001b[0m\u001b[0m\n\u001b[0;32m      3\u001b[0m                                           \u001b[0mabort_early\u001b[0m\u001b[1;33m=\u001b[0m\u001b[1;32mTrue\u001b[0m\u001b[1;33m,\u001b[0m \u001b[0mbox\u001b[0m\u001b[1;33m=\u001b[0m\u001b[0mbox\u001b[0m\u001b[1;33m,\u001b[0m \u001b[0moptimizer_lr\u001b[0m\u001b[1;33m=\u001b[0m\u001b[1;36m5e-4\u001b[0m\u001b[1;33m,\u001b[0m\u001b[1;33m\u001b[0m\u001b[1;33m\u001b[0m\u001b[0m\n\u001b[1;32m----> 4\u001b[1;33m                                           init_rand=False, log_frequency=100)\n\u001b[0m\u001b[0;32m      5\u001b[0m \u001b[1;33m\u001b[0m\u001b[0m\n\u001b[0;32m      6\u001b[0m \u001b[0meval_performance\u001b[0m\u001b[1;33m(\u001b[0m\u001b[0mmodel\u001b[0m\u001b[1;33m,\u001b[0m \u001b[0minputs\u001b[0m\u001b[1;33m,\u001b[0m \u001b[0mcw_advs_div1\u001b[0m\u001b[1;33m)\u001b[0m\u001b[1;33m\u001b[0m\u001b[1;33m\u001b[0m\u001b[0m\n",
      "\u001b[1;32m<ipython-input-18-b4f3afa62d5d>\u001b[0m in \u001b[0;36mcw_div1_attack\u001b[1;34m(model, layer, regularizer_weight, inputs, targets, targeted, confidence, c_range, search_steps, max_steps, abort_early, box, optimizer_lr, init_rand, log_frequency)\u001b[0m\n\u001b[0;32m     55\u001b[0m             \u001b[0mdivs\u001b[0m \u001b[1;33m=\u001b[0m \u001b[1;33m[\u001b[0m\u001b[1;33m]\u001b[0m\u001b[1;33m\u001b[0m\u001b[1;33m\u001b[0m\u001b[0m\n\u001b[0;32m     56\u001b[0m             \u001b[1;32mfor\u001b[0m \u001b[0mi\u001b[0m \u001b[1;32min\u001b[0m \u001b[0mrange\u001b[0m\u001b[1;33m(\u001b[0m\u001b[0mbatch_size\u001b[0m\u001b[1;33m)\u001b[0m\u001b[1;33m:\u001b[0m\u001b[1;33m\u001b[0m\u001b[1;33m\u001b[0m\u001b[0m\n\u001b[1;32m---> 57\u001b[1;33m                 \u001b[0mdivs\u001b[0m\u001b[1;33m.\u001b[0m\u001b[0mappend\u001b[0m\u001b[1;33m(\u001b[0m\u001b[0mnorm_divergence\u001b[0m\u001b[1;33m(\u001b[0m\u001b[0mdata\u001b[0m\u001b[1;33m=\u001b[0m\u001b[0madversaries\u001b[0m\u001b[1;33m[\u001b[0m\u001b[0mi\u001b[0m\u001b[1;33m]\u001b[0m\u001b[1;33m.\u001b[0m\u001b[0munsqueeze\u001b[0m\u001b[1;33m(\u001b[0m\u001b[1;36m0\u001b[0m\u001b[1;33m)\u001b[0m\u001b[1;33m,\u001b[0m \u001b[0mmodel\u001b[0m\u001b[1;33m=\u001b[0m\u001b[0mmodel\u001b[0m\u001b[1;33m,\u001b[0m \u001b[0mlayer\u001b[0m\u001b[1;33m=\u001b[0m\u001b[0mlayer\u001b[0m\u001b[1;33m,\u001b[0m \u001b[0mregularizer_weight\u001b[0m\u001b[1;33m=\u001b[0m\u001b[0mregularizer_weight\u001b[0m\u001b[1;33m)\u001b[0m\u001b[1;33m)\u001b[0m\u001b[1;33m\u001b[0m\u001b[1;33m\u001b[0m\u001b[0m\n\u001b[0m\u001b[0;32m     58\u001b[0m             \u001b[0mdiv_norms\u001b[0m \u001b[1;33m=\u001b[0m \u001b[0mtorch\u001b[0m\u001b[1;33m.\u001b[0m\u001b[0mtensor\u001b[0m\u001b[1;33m(\u001b[0m\u001b[0mtorch\u001b[0m\u001b[1;33m.\u001b[0m\u001b[0mstack\u001b[0m\u001b[1;33m(\u001b[0m\u001b[0mdivs\u001b[0m\u001b[1;33m)\u001b[0m\u001b[1;33m,\u001b[0m \u001b[0mdevice\u001b[0m\u001b[1;33m=\u001b[0m\u001b[0mdevice\u001b[0m\u001b[1;33m)\u001b[0m\u001b[1;33m\u001b[0m\u001b[1;33m\u001b[0m\u001b[0m\n\u001b[0;32m     59\u001b[0m \u001b[1;33m\u001b[0m\u001b[0m\n",
      "\u001b[1;32m<ipython-input-14-da2e96d881ab>\u001b[0m in \u001b[0;36mnorm_divergence\u001b[1;34m(data, model, layer, neuron, regularizer_weight)\u001b[0m\n\u001b[0;32m     83\u001b[0m     \"\"\"\n\u001b[0;32m     84\u001b[0m     \u001b[1;31m# extract layer activations as numpy array\u001b[0m\u001b[1;33m\u001b[0m\u001b[1;33m\u001b[0m\u001b[1;33m\u001b[0m\u001b[0m\n\u001b[1;32m---> 85\u001b[1;33m     \u001b[0mlayer_activations\u001b[0m \u001b[1;33m=\u001b[0m \u001b[0mtorch\u001b[0m\u001b[1;33m.\u001b[0m\u001b[0msqueeze\u001b[0m\u001b[1;33m(\u001b[0m\u001b[0mmodel\u001b[0m\u001b[1;33m.\u001b[0m\u001b[0mextract_outputs\u001b[0m\u001b[1;33m(\u001b[0m\u001b[0mdata\u001b[0m\u001b[1;33m=\u001b[0m\u001b[0mdata\u001b[0m\u001b[1;33m,\u001b[0m \u001b[0mlayer\u001b[0m\u001b[1;33m=\u001b[0m\u001b[0mlayer\u001b[0m\u001b[1;33m)\u001b[0m\u001b[1;33m)\u001b[0m\u001b[1;33m\u001b[0m\u001b[1;33m\u001b[0m\u001b[0m\n\u001b[0m\u001b[0;32m     86\u001b[0m \u001b[1;33m\u001b[0m\u001b[0m\n\u001b[0;32m     87\u001b[0m     \u001b[1;31m# normalize over summation (to get a probability density)\u001b[0m\u001b[1;33m\u001b[0m\u001b[1;33m\u001b[0m\u001b[1;33m\u001b[0m\u001b[0m\n",
      "\u001b[1;32m<ipython-input-4-561528d6c307>\u001b[0m in \u001b[0;36mextract_outputs\u001b[1;34m(self, data, layer, neuron)\u001b[0m\n\u001b[0;32m     79\u001b[0m             \u001b[1;32mif\u001b[0m \u001b[0mname\u001b[0m \u001b[1;33m==\u001b[0m \u001b[0mlayer\u001b[0m\u001b[1;33m:\u001b[0m\u001b[1;33m\u001b[0m\u001b[1;33m\u001b[0m\u001b[0m\n\u001b[0;32m     80\u001b[0m                 \u001b[0mhandle\u001b[0m \u001b[1;33m=\u001b[0m \u001b[0mmodule\u001b[0m\u001b[1;33m.\u001b[0m\u001b[0mregister_forward_hook\u001b[0m\u001b[1;33m(\u001b[0m\u001b[0mhook\u001b[0m\u001b[1;33m)\u001b[0m\u001b[1;33m\u001b[0m\u001b[1;33m\u001b[0m\u001b[0m\n\u001b[1;32m---> 81\u001b[1;33m         \u001b[0mout\u001b[0m \u001b[1;33m=\u001b[0m \u001b[0mself\u001b[0m\u001b[1;33m(\u001b[0m\u001b[0mdata\u001b[0m\u001b[1;33m)\u001b[0m\u001b[1;33m\u001b[0m\u001b[1;33m\u001b[0m\u001b[0m\n\u001b[0m\u001b[0;32m     82\u001b[0m         \u001b[1;32mif\u001b[0m \u001b[1;32mnot\u001b[0m \u001b[0mneuron\u001b[0m \u001b[1;32mis\u001b[0m \u001b[1;32mNone\u001b[0m\u001b[1;33m:\u001b[0m\u001b[1;33m\u001b[0m\u001b[1;33m\u001b[0m\u001b[0m\n\u001b[0;32m     83\u001b[0m             \u001b[0moutputs\u001b[0m\u001b[1;33m[\u001b[0m\u001b[1;36m0\u001b[0m\u001b[1;33m]\u001b[0m \u001b[1;33m=\u001b[0m \u001b[0moutputs\u001b[0m\u001b[1;33m[\u001b[0m\u001b[1;36m0\u001b[0m\u001b[1;33m]\u001b[0m\u001b[1;33m[\u001b[0m\u001b[1;36m0\u001b[0m\u001b[1;33m]\u001b[0m\u001b[1;33m[\u001b[0m\u001b[0mneuron\u001b[0m\u001b[1;33m]\u001b[0m\u001b[1;33m\u001b[0m\u001b[1;33m\u001b[0m\u001b[0m\n",
      "\u001b[1;32m~\\AppData\\Local\\Continuum\\anaconda3\\lib\\site-packages\\torch\\nn\\modules\\module.py\u001b[0m in \u001b[0;36m__call__\u001b[1;34m(self, *input, **kwargs)\u001b[0m\n\u001b[0;32m    491\u001b[0m             \u001b[0mresult\u001b[0m \u001b[1;33m=\u001b[0m \u001b[0mself\u001b[0m\u001b[1;33m.\u001b[0m\u001b[0m_slow_forward\u001b[0m\u001b[1;33m(\u001b[0m\u001b[1;33m*\u001b[0m\u001b[0minput\u001b[0m\u001b[1;33m,\u001b[0m \u001b[1;33m**\u001b[0m\u001b[0mkwargs\u001b[0m\u001b[1;33m)\u001b[0m\u001b[1;33m\u001b[0m\u001b[1;33m\u001b[0m\u001b[0m\n\u001b[0;32m    492\u001b[0m         \u001b[1;32melse\u001b[0m\u001b[1;33m:\u001b[0m\u001b[1;33m\u001b[0m\u001b[1;33m\u001b[0m\u001b[0m\n\u001b[1;32m--> 493\u001b[1;33m             \u001b[0mresult\u001b[0m \u001b[1;33m=\u001b[0m \u001b[0mself\u001b[0m\u001b[1;33m.\u001b[0m\u001b[0mforward\u001b[0m\u001b[1;33m(\u001b[0m\u001b[1;33m*\u001b[0m\u001b[0minput\u001b[0m\u001b[1;33m,\u001b[0m \u001b[1;33m**\u001b[0m\u001b[0mkwargs\u001b[0m\u001b[1;33m)\u001b[0m\u001b[1;33m\u001b[0m\u001b[1;33m\u001b[0m\u001b[0m\n\u001b[0m\u001b[0;32m    494\u001b[0m         \u001b[1;32mfor\u001b[0m \u001b[0mhook\u001b[0m \u001b[1;32min\u001b[0m \u001b[0mself\u001b[0m\u001b[1;33m.\u001b[0m\u001b[0m_forward_hooks\u001b[0m\u001b[1;33m.\u001b[0m\u001b[0mvalues\u001b[0m\u001b[1;33m(\u001b[0m\u001b[1;33m)\u001b[0m\u001b[1;33m:\u001b[0m\u001b[1;33m\u001b[0m\u001b[1;33m\u001b[0m\u001b[0m\n\u001b[0;32m    495\u001b[0m             \u001b[0mhook_result\u001b[0m \u001b[1;33m=\u001b[0m \u001b[0mhook\u001b[0m\u001b[1;33m(\u001b[0m\u001b[0mself\u001b[0m\u001b[1;33m,\u001b[0m \u001b[0minput\u001b[0m\u001b[1;33m,\u001b[0m \u001b[0mresult\u001b[0m\u001b[1;33m)\u001b[0m\u001b[1;33m\u001b[0m\u001b[1;33m\u001b[0m\u001b[0m\n",
      "\u001b[1;32m<ipython-input-4-561528d6c307>\u001b[0m in \u001b[0;36mforward\u001b[1;34m(self, x)\u001b[0m\n\u001b[0;32m     70\u001b[0m         \u001b[0mx\u001b[0m \u001b[1;33m=\u001b[0m \u001b[0mself\u001b[0m\u001b[1;33m.\u001b[0m\u001b[0mrelu3\u001b[0m\u001b[1;33m(\u001b[0m\u001b[0mx\u001b[0m\u001b[1;33m)\u001b[0m\u001b[1;33m\u001b[0m\u001b[1;33m\u001b[0m\u001b[0m\n\u001b[0;32m     71\u001b[0m         \u001b[0mx\u001b[0m \u001b[1;33m=\u001b[0m \u001b[0mself\u001b[0m\u001b[1;33m.\u001b[0m\u001b[0mfc2\u001b[0m\u001b[1;33m(\u001b[0m\u001b[0mx\u001b[0m\u001b[1;33m)\u001b[0m\u001b[1;33m\u001b[0m\u001b[1;33m\u001b[0m\u001b[0m\n\u001b[1;32m---> 72\u001b[1;33m         \u001b[1;32mreturn\u001b[0m \u001b[0mF\u001b[0m\u001b[1;33m.\u001b[0m\u001b[0mlog_softmax\u001b[0m\u001b[1;33m(\u001b[0m\u001b[0mx\u001b[0m\u001b[1;33m,\u001b[0m \u001b[0mdim\u001b[0m\u001b[1;33m=\u001b[0m\u001b[1;36m1\u001b[0m\u001b[1;33m)\u001b[0m\u001b[1;33m\u001b[0m\u001b[1;33m\u001b[0m\u001b[0m\n\u001b[0m\u001b[0;32m     73\u001b[0m \u001b[1;33m\u001b[0m\u001b[0m\n\u001b[0;32m     74\u001b[0m     \u001b[1;32mdef\u001b[0m \u001b[0mextract_outputs\u001b[0m\u001b[1;33m(\u001b[0m\u001b[0mself\u001b[0m\u001b[1;33m,\u001b[0m \u001b[0mdata\u001b[0m\u001b[1;33m,\u001b[0m \u001b[0mlayer\u001b[0m\u001b[1;33m,\u001b[0m \u001b[0mneuron\u001b[0m\u001b[1;33m=\u001b[0m\u001b[1;32mNone\u001b[0m\u001b[1;33m)\u001b[0m\u001b[1;33m:\u001b[0m\u001b[1;33m\u001b[0m\u001b[1;33m\u001b[0m\u001b[0m\n",
      "\u001b[1;32m~\\AppData\\Local\\Continuum\\anaconda3\\lib\\site-packages\\torch\\nn\\functional.py\u001b[0m in \u001b[0;36mlog_softmax\u001b[1;34m(input, dim, _stacklevel, dtype)\u001b[0m\n\u001b[0;32m   1348\u001b[0m         \u001b[0mdim\u001b[0m \u001b[1;33m=\u001b[0m \u001b[0m_get_softmax_dim\u001b[0m\u001b[1;33m(\u001b[0m\u001b[1;34m'log_softmax'\u001b[0m\u001b[1;33m,\u001b[0m \u001b[0minput\u001b[0m\u001b[1;33m.\u001b[0m\u001b[0mdim\u001b[0m\u001b[1;33m(\u001b[0m\u001b[1;33m)\u001b[0m\u001b[1;33m,\u001b[0m \u001b[0m_stacklevel\u001b[0m\u001b[1;33m)\u001b[0m\u001b[1;33m\u001b[0m\u001b[1;33m\u001b[0m\u001b[0m\n\u001b[0;32m   1349\u001b[0m     \u001b[1;32mif\u001b[0m \u001b[0mdtype\u001b[0m \u001b[1;32mis\u001b[0m \u001b[1;32mNone\u001b[0m\u001b[1;33m:\u001b[0m\u001b[1;33m\u001b[0m\u001b[1;33m\u001b[0m\u001b[0m\n\u001b[1;32m-> 1350\u001b[1;33m         \u001b[0mret\u001b[0m \u001b[1;33m=\u001b[0m \u001b[0minput\u001b[0m\u001b[1;33m.\u001b[0m\u001b[0mlog_softmax\u001b[0m\u001b[1;33m(\u001b[0m\u001b[0mdim\u001b[0m\u001b[1;33m)\u001b[0m\u001b[1;33m\u001b[0m\u001b[1;33m\u001b[0m\u001b[0m\n\u001b[0m\u001b[0;32m   1351\u001b[0m     \u001b[1;32melse\u001b[0m\u001b[1;33m:\u001b[0m\u001b[1;33m\u001b[0m\u001b[1;33m\u001b[0m\u001b[0m\n\u001b[0;32m   1352\u001b[0m         \u001b[0mret\u001b[0m \u001b[1;33m=\u001b[0m \u001b[0minput\u001b[0m\u001b[1;33m.\u001b[0m\u001b[0mlog_softmax\u001b[0m\u001b[1;33m(\u001b[0m\u001b[0mdim\u001b[0m\u001b[1;33m,\u001b[0m \u001b[0mdtype\u001b[0m\u001b[1;33m=\u001b[0m\u001b[0mdtype\u001b[0m\u001b[1;33m)\u001b[0m\u001b[1;33m\u001b[0m\u001b[1;33m\u001b[0m\u001b[0m\n",
      "\u001b[1;31mKeyboardInterrupt\u001b[0m: "
     ]
    }
   ],
   "source": [
    "cw_advs_div1, div_norms1 = cw_div1_attack(model, 'relu3', 1, inputs, targets, targeted=False, confidence=0.0,\n",
    "                                          c_range=(1e-3, 1e10), search_steps=1, max_steps=1000, \n",
    "                                          abort_early=True, box=box, optimizer_lr=5e-4, \n",
    "                                          init_rand=False, log_frequency=100)\n",
    "\n",
    "eval_performance(model, inputs, cw_advs_div1)\n",
    "sample_images(inputs, cw_advs_div1)"
   ]
  },
  {
   "cell_type": "markdown",
   "metadata": {
    "colab_type": "text",
    "id": "WzVUYdHrRczQ"
   },
   "source": [
    "## Diversity Attack v2\n",
    "\n",
    "| Loss Function | Scaling Constant | Regularizer | Adversary Selection |\n",
    "| - | - | - | - |\n",
    "|  CW |  False | Batch Divergence | Instance Divergence |"
   ]
  },
  {
   "cell_type": "code",
   "execution_count": 0,
   "metadata": {
    "colab": {},
    "colab_type": "code",
    "id": "KRG0FJayRLyi"
   },
   "outputs": [],
   "source": [
    "def cw_div2_attack(model, layer, regularizer_weight, inputs, targets, targeted=False, \n",
    "                   confidence=0.0, c_range=(1e-3, 1e10), search_steps=5, max_steps=1000, \n",
    "                   abort_early=True, box=(-1., 1.), optimizer_lr=1e-2, \n",
    "                   init_rand=False, log_frequency=10):\n",
    "\n",
    "    batch_size = inputs.size(0)\n",
    "    num_classes = model(torch.tensor(inputs[0][None,:], requires_grad=False)).size(1)\n",
    "\n",
    "    # Optimal attack to be found.\n",
    "    # The three \"placeholders\" are defined as:\n",
    "    # - `o_best_div`         : the least divergences\n",
    "    # - `o_best_div_ppred`   : the perturbed predictions made by the adversarial perturbations with the least divergences\n",
    "    # - `o_best_adversaries` : the underlying adversarial example of `o_best_div_ppred`\n",
    "    o_best_div = torch.tensor(np.ones(batch_size) * np.inf, dtype=torch.float, device=device)\n",
    "    o_best_div_ppred = torch.tensor(-np.ones(batch_size), dtype=torch.float, device=device)\n",
    "    o_best_adversaries = inputs.clone()\n",
    "\n",
    "    # convert `inputs` to tanh-space\n",
    "    inputs_tanh = to_tanh_space(inputs)\n",
    "    targets_oh = F.one_hot(targets).float()\n",
    "\n",
    "    # the perturbation tensor (only one we need to track gradients on)\n",
    "    pert_tanh = torch.zeros(inputs.size(), device=device, requires_grad=True)\n",
    "\n",
    "    optimizer = optim.Adam([pert_tanh], lr=optimizer_lr)\n",
    "\n",
    "    # the minimum divergences of perturbations found during optimization\n",
    "    best_div = torch.tensor(np.ones(batch_size) * np.inf, dtype=torch.float, device=device)\n",
    "\n",
    "    # the perturbed predictions made by the adversarial perturbations with the least divergences\n",
    "    best_div_ppred = torch.tensor(-np.ones(batch_size), dtype=torch.float, device=device)\n",
    "\n",
    "    # previous (summed) batch loss, to be used in early stopping policy\n",
    "    prev_batch_loss = torch.tensor(np.inf, device=device)\n",
    "    ae_tol = torch.tensor(1e-4, device=device)\n",
    "\n",
    "    # optimization steps\n",
    "    for optim_step in range(max_steps):\n",
    "\n",
    "        adversaries = from_tanh_space(inputs_tanh + pert_tanh)\n",
    "        pert_outputs = model(adversaries)\n",
    "\n",
    "        # calculate kl divergence for each input to use for adversary selection\n",
    "        divs = []\n",
    "        for i in range(batch_size):\n",
    "            divs.append(norm_divergence(data=adversaries[i].unsqueeze(0), model=model, layer=layer, regularizer_weight=regularizer_weight)) \n",
    "        div_norms = torch.tensor(torch.stack(divs), device=device)\n",
    "\n",
    "        # calculate kl divergence for batch to use in loss function\n",
    "        div_reg = norm_divergence(data=adversaries, model=model, layer=layer, regularizer_weight=regularizer_weight)\n",
    "\n",
    "        target_activ = torch.sum(targets_oh * pert_outputs, 1)\n",
    "        maxother_activ = torch.max(((1 - targets_oh) * pert_outputs - targets_oh * 1e4), 1)[0]\n",
    "\n",
    "        if targeted:           \n",
    "            # if targeted, optimize to make `target_activ` larger than `maxother_activ` by `confidence`\n",
    "            f = torch.clamp(maxother_activ - target_activ + confidence, min=0.0)\n",
    "        else:\n",
    "            # if not targeted, optimize to make `maxother_activ` larger than `target_activ` (the ground truth image labels) by `confidence`\n",
    "            f = torch.clamp(target_activ - maxother_activ + confidence, min=0.0)\n",
    "\n",
    "        # the total loss of current batch, should be of dimension [1]\n",
    "        batch_loss = torch.sum(f) + div_reg\n",
    "\n",
    "        # Do optimization for one step\n",
    "        optimizer.zero_grad()\n",
    "        batch_loss.backward()\n",
    "        optimizer.step()\n",
    "\n",
    "        # \"returns\" batch_loss, pert_norms, pert_outputs, adversaries\n",
    "\n",
    "        if optim_step % log_frequency == 0: \n",
    "            print('batch [{}] loss: {}'.format(optim_step, batch_loss))\n",
    "\n",
    "        if abort_early and not optim_step % (max_steps // 10):   \n",
    "            if batch_loss > prev_batch_loss * (1 - ae_tol):\n",
    "                break\n",
    "            prev_batch_loss = batch_loss\n",
    "\n",
    "        # update best attack found during optimization\n",
    "        pert_predictions = torch.argmax(pert_outputs, dim=1)\n",
    "        comp_pert_predictions = torch.argmax(compensate_confidence(pert_outputs, targets), dim=1)\n",
    "        for i in range(batch_size):\n",
    "            div = div_norms[i]\n",
    "            cppred = comp_pert_predictions[i]\n",
    "            ppred = pert_predictions[i]\n",
    "            tlabel = targets[i]\n",
    "            ax = adversaries[i]\n",
    "            if attack_successful(cppred, tlabel):\n",
    "                assert cppred == ppred\n",
    "                if div < best_div[i]:\n",
    "                    best_div[i] = div\n",
    "                    best_div_ppred[i] = ppred\n",
    "                if div < o_best_div[i]:\n",
    "                    o_best_div[i] = div\n",
    "                    o_best_div_ppred[i] = ppred\n",
    "                    o_best_adversaries[i] = ax\n",
    "                    \n",
    "    return o_best_adversaries, div_norms"
   ]
  },
  {
   "cell_type": "code",
   "execution_count": 0,
   "metadata": {
    "colab": {},
    "colab_type": "code",
    "id": "j6KVf6RRRLyn"
   },
   "outputs": [],
   "source": [
    "cw_advs_div2, div_norms2 = cw_div2_attack(model, 'relu3', 1, inputs, targets, targeted=False, confidence=0.0,\n",
    "                                          c_range=(1e-3, 1e10), search_steps=1, max_steps=1000, \n",
    "                                          abort_early=True, box=box, optimizer_lr=5e-4, \n",
    "                                          init_rand=False, log_frequency=100)\n",
    "\n",
    "eval_performance(model, inputs, cw_advs_div2)\n",
    "sample_images(inputs, cw_advs_div2)"
   ]
  },
  {
   "cell_type": "code",
   "execution_count": 0,
   "metadata": {
    "colab": {},
    "colab_type": "code",
    "id": "63AbLZogRLzE",
    "outputId": "fd26755d-7682-4321-accd-171aed7a187e"
   },
   "outputs": [
    {
     "data": {
      "text/plain": [
       "False"
      ]
     },
     "execution_count": 59,
     "metadata": {
      "tags": []
     },
     "output_type": "execute_result"
    }
   ],
   "source": [
    "cw_advs.equal(cw_advs_div)"
   ]
  },
  {
   "cell_type": "code",
   "execution_count": 0,
   "metadata": {
    "colab": {},
    "colab_type": "code",
    "id": "cJRhdV5aRLzP",
    "outputId": "9329d136-81a8-4119-e5b8-bfd0fc01c4c6"
   },
   "outputs": [
    {
     "data": {
      "text/plain": [
       "False"
      ]
     },
     "execution_count": 60,
     "metadata": {
      "tags": []
     },
     "output_type": "execute_result"
    }
   ],
   "source": [
    "cw_advs_div.equal(cw_advs_div2)"
   ]
  },
  {
   "cell_type": "code",
   "execution_count": 0,
   "metadata": {
    "colab": {},
    "colab_type": "code",
    "id": "c8SHpsaSRLzX",
    "outputId": "eb3bdd88-5e1f-4640-b082-7a32525ced89"
   },
   "outputs": [
    {
     "data": {
      "text/plain": [
       "False"
      ]
     },
     "execution_count": 61,
     "metadata": {
      "tags": []
     },
     "output_type": "execute_result"
    }
   ],
   "source": [
    "cw_advs.equal(cw_advs_div2)"
   ]
  },
  {
   "cell_type": "code",
   "execution_count": 0,
   "metadata": {
    "colab": {},
    "colab_type": "code",
    "id": "ivE3YOQIRLzh",
    "outputId": "b050b669-f87f-47c4-f1c4-86b963baf7cd"
   },
   "outputs": [
    {
     "data": {
      "text/plain": [
       "tensor([-0.3130, -0.3130, -0.3087,  ...,  0.9999,  0.9999,  0.9999],\n",
       "       device='cuda:0', grad_fn=<NotImplemented>)"
      ]
     },
     "execution_count": 80,
     "metadata": {
      "tags": []
     },
     "output_type": "execute_result"
    }
   ],
   "source": [
    "cw_advs.unique()"
   ]
  },
  {
   "cell_type": "code",
   "execution_count": 0,
   "metadata": {
    "colab": {},
    "colab_type": "code",
    "id": "ZzFWidecRLzo",
    "outputId": "734dc209-457d-4b33-accf-922713592e21"
   },
   "outputs": [
    {
     "data": {
      "text/plain": [
       "tensor([-0.4568, -0.4521, -0.4480,  ...,  0.9941,  0.9941,  0.9943],\n",
       "       device='cuda:0', grad_fn=<NotImplemented>)"
      ]
     },
     "execution_count": 79,
     "metadata": {
      "tags": []
     },
     "output_type": "execute_result"
    }
   ],
   "source": [
    "cw_advs_div.unique()"
   ]
  },
  {
   "cell_type": "markdown",
   "metadata": {
    "colab_type": "text",
    "id": "t97ieYCkRLzz"
   },
   "source": [
    "## Diversity Attack v3\n",
    "\n",
    "| Loss Function | Scaling Constant | Regularizer | Adversary Selection |\n",
    "| - | - | - | - |\n",
    "| Cross Entropy |  False | Batch Divergence | Instance Divergence |"
   ]
  },
  {
   "cell_type": "code",
   "execution_count": 0,
   "metadata": {
    "colab": {},
    "colab_type": "code",
    "id": "fuEKLdemRLz1"
   },
   "outputs": [],
   "source": [
    "def cw_div3_attack(model, layer, regularizer_weight, inputs, targets, targeted=False, \n",
    "                   confidence=0.0, c_range=(1e-3, 1e10), search_steps=5, max_steps=1000, \n",
    "                   abort_early=True, box=(-1., 1.), optimizer_lr=1e-2, \n",
    "                   init_rand=False, log_frequency=10):\n",
    "\n",
    "    batch_size = inputs.size(0)\n",
    "    num_classes = model(torch.tensor(inputs[0][None,:], requires_grad=False)).size(1)\n",
    "\n",
    "    # Optimal attack to be found.\n",
    "    # The three \"placeholders\" are defined as:\n",
    "    # - `o_best_div`         : the least divergences\n",
    "    # - `o_best_div_ppred`   : the perturbed predictions made by the adversarial perturbations with the least divergences\n",
    "    # - `o_best_adversaries` : the underlying adversarial example of `o_best_div_ppred`\n",
    "    o_best_div = torch.tensor(np.ones(batch_size) * np.inf, dtype=torch.float, device=device)\n",
    "    o_best_div_ppred = torch.tensor(-np.ones(batch_size), dtype=torch.float, device=device)\n",
    "    o_best_adversaries = inputs.clone()\n",
    "\n",
    "    # convert `inputs` to tanh-space\n",
    "    inputs_tanh = to_tanh_space(inputs)\n",
    "    targets_oh = F.one_hot(targets).float()\n",
    "\n",
    "    # the perturbation tensor (only one we need to track gradients on)\n",
    "    pert_tanh = torch.zeros(inputs.size(), device=device, requires_grad=True)\n",
    "\n",
    "    optimizer = optim.Adam([pert_tanh], lr=optimizer_lr)\n",
    "\n",
    "    # the minimum divergences of perturbations found during optimization\n",
    "    best_div = torch.tensor(np.ones(batch_size) * np.inf, dtype=torch.float, device=device)\n",
    "\n",
    "    # the perturbed predictions made by the adversarial perturbations with the least divergences\n",
    "    best_div_ppred = torch.tensor(-np.ones(batch_size), dtype=torch.float, device=device)\n",
    "\n",
    "    # previous (summed) batch loss, to be used in early stopping policy\n",
    "    prev_batch_loss = torch.tensor(np.inf, device=device)\n",
    "    ae_tol = torch.tensor(1e-4, device=device)\n",
    "\n",
    "    # optimization steps\n",
    "    for optim_step in range(max_steps):\n",
    "\n",
    "        adversaries = from_tanh_space(inputs_tanh + pert_tanh)\n",
    "        pert_outputs = model(adversaries)\n",
    "\n",
    "        # calculate kl divergence for each input to use for adversary selection\n",
    "        divs = []\n",
    "        for i in range(batch_size):\n",
    "            divs.append(norm_divergence(data=adversaries[i].unsqueeze(0), model=model, layer=layer, regularizer_weight=regularizer_weight)) \n",
    "        div_norms = torch.tensor(torch.stack(divs), device=device)\n",
    "\n",
    "        # calculate kl divergence for batch to use in loss function\n",
    "        div_reg = norm_divergence(data=adversaries, model=model, layer=layer, regularizer_weight=regularizer_weight)\n",
    "\n",
    "        loss = -1. * nn.CrossEntropyLoss()(pert_outputs, targets)\n",
    "\n",
    "        # the total loss of current batch, should be of dimension [1]\n",
    "        batch_loss = torch.sum(loss) + div_reg\n",
    "\n",
    "        # Do optimization for one step\n",
    "        optimizer.zero_grad()\n",
    "        batch_loss.backward()\n",
    "        optimizer.step()\n",
    "\n",
    "        # \"returns\" batch_loss, pert_norms, pert_outputs, adversaries\n",
    "\n",
    "        if optim_step % log_frequency == 0: \n",
    "            print('batch [{}] loss: {}'.format(optim_step, batch_loss))\n",
    "\n",
    "        if abort_early and not optim_step % (max_steps // 10):   \n",
    "            if batch_loss > prev_batch_loss * (1 - ae_tol):\n",
    "                break\n",
    "            prev_batch_loss = batch_loss\n",
    "\n",
    "        # update best attack found during optimization\n",
    "        pert_predictions = torch.argmax(pert_outputs, dim=1)\n",
    "        comp_pert_predictions = torch.argmax(compensate_confidence(pert_outputs, targets), dim=1)\n",
    "        for i in range(batch_size):\n",
    "            div = div_norms[i]\n",
    "            cppred = comp_pert_predictions[i]\n",
    "            ppred = pert_predictions[i]\n",
    "            tlabel = targets[i]\n",
    "            ax = adversaries[i]\n",
    "            if attack_successful(cppred, tlabel):    \n",
    "                assert cppred == ppred\n",
    "                if div < best_div[i]:\n",
    "                    best_div[i] = div\n",
    "                    best_div_ppred[i] = ppred\n",
    "                if div < o_best_div[i]:\n",
    "                    o_best_div[i] = div\n",
    "                    o_best_div_ppred[i] = ppred\n",
    "                    o_best_adversaries[i] = ax\n",
    "                    \n",
    "    return o_best_adversaries, div_norms"
   ]
  },
  {
   "cell_type": "code",
   "execution_count": 0,
   "metadata": {
    "colab": {},
    "colab_type": "code",
    "id": "xqEO2jx8RLz8"
   },
   "outputs": [],
   "source": [
    "cw_advs_div3, div_norms3 = cw_div3_attack(model, 'relu3', 1, inputs, targets, targeted=False, confidence=0.0,\n",
    "                                          c_range=(1e-3, 1e10), search_steps=1, max_steps=1000, \n",
    "                                          abort_early=True, box=box, optimizer_lr=5e-4, \n",
    "                                          init_rand=False, log_frequency=100)\n",
    "\n",
    "eval_performance(model, inputs, cw_advs_div3)\n",
    "sample_images(inputs, cw_advs_div3)"
   ]
  },
  {
   "cell_type": "markdown",
   "metadata": {
    "colab_type": "text",
    "id": "6PF994rizIz7"
   },
   "source": [
    "## Diversity Attack v4\n",
    "\n",
    "| Loss Function | Scaling Constant | Regularizer | Adversary Selection |\n",
    "| - | - | - | - |\n",
    "| CW |  True | Batch Divergence | L2 |"
   ]
  },
  {
   "cell_type": "code",
   "execution_count": 0,
   "metadata": {
    "colab": {},
    "colab_type": "code",
    "id": "ulKTYiPhzbjv"
   },
   "outputs": [],
   "source": [
    "def cw_div4_attack(model, layer, regularizer_weight, inputs, targets, targeted=False, \n",
    "                   confidence=0.0, c_range=(1e-3, 1e10), search_steps=5, max_steps=1000, \n",
    "                   abort_early=True, box=(-1., 1.), optimizer_lr=1e-2, \n",
    "                   init_rand=False, log_frequency=10):\n",
    "\n",
    "    batch_size = inputs.size(0)\n",
    "    num_classes = model(torch.tensor(inputs[0][None,:], requires_grad=False)).size(1)\n",
    "\n",
    "    # `lower_bounds`, `upper_bounds` and `scale_consts` are used\n",
    "    # for binary search of each `scale_const` in the batch. The element-wise\n",
    "    # inquality holds: lower_bounds < scale_consts <= upper_bounds\n",
    "    lower_bounds = torch.tensor(np.zeros(batch_size), dtype=torch.float, device=device)\n",
    "    upper_bounds = torch.tensor(np.ones(batch_size) * c_range[1], dtype=torch.float, device=device)\n",
    "    scale_consts = torch.tensor(np.ones(batch_size) * c_range[0], dtype=torch.float, device=device)\n",
    "\n",
    "    # Optimal attack to be found.\n",
    "    # The three \"placeholders\" are defined as:\n",
    "    # - `o_best_l2`          : the least L2 norms\n",
    "    # - `o_best_l2_ppred`    : the perturbed predictions made by the adversarial perturbations with the least L2 norms\n",
    "    # - `o_best_adversaries` : the underlying adversarial example of `o_best_l2_ppred`\n",
    "    o_best_l2 = torch.tensor(np.ones(batch_size) * np.inf, dtype=torch.float, device=device)\n",
    "    o_best_l2_ppred = torch.tensor(-np.ones(batch_size), dtype=torch.float, device=device)\n",
    "    o_best_adversaries = inputs.clone()\n",
    "\n",
    "    # convert `inputs` to tanh-space\n",
    "    inputs_tanh = to_tanh_space(inputs)\n",
    "    targets_oh = F.one_hot(targets).float()\n",
    "\n",
    "    # the perturbation tensor (only one we need to track gradients on)\n",
    "    pert_tanh = torch.zeros(inputs.size(), device=device, requires_grad=True)\n",
    "\n",
    "    optimizer = optim.Adam([pert_tanh], lr=optimizer_lr)\n",
    "\n",
    "    for const_step in range(search_steps):\n",
    "\n",
    "        print('Step', const_step)\n",
    "\n",
    "        # the minimum L2 norms of perturbations found during optimization\n",
    "        best_l2 = torch.tensor(np.ones(batch_size) * np.inf, dtype=torch.float, device=device)\n",
    "\n",
    "        # the perturbed predictions made by the adversarial perturbations with the least L2 norms\n",
    "        best_l2_ppred = torch.tensor(-np.ones(batch_size), dtype=torch.float, device=device)\n",
    "\n",
    "        # previous (summed) batch loss, to be used in early stopping policy\n",
    "        prev_batch_loss = torch.tensor(np.inf, device=device)\n",
    "        ae_tol = torch.tensor(1e-4, device=device) # abort early tolerance\n",
    "\n",
    "        # optimization steps\n",
    "        for optim_step in range(max_steps):\n",
    "\n",
    "            adversaries = from_tanh_space(inputs_tanh + pert_tanh)\n",
    "            pert_outputs = model(adversaries)\n",
    "\n",
    "            # Calculate L2 norm between adversaries and original inputs to use for adversary selection\n",
    "            pert_norms = torch.pow(adversaries - inputs, exponent=2)\n",
    "            pert_norms = torch.sum(pert_norms.view(pert_norms.size(0), -1), 1)\n",
    "            \n",
    "            # calculate kl divergence for batch to use in loss function\n",
    "            div_reg = norm_divergence(data=adversaries, model=model, layer=layer, regularizer_weight=regularizer_weight)\n",
    "\n",
    "            target_activ = torch.sum(targets_oh * pert_outputs, 1)\n",
    "            maxother_activ = torch.max(((1 - targets_oh) * pert_outputs - targets_oh * 1e4), 1)[0]\n",
    "\n",
    "            if targeted:           \n",
    "                # if targeted, optimize to make `target_activ` larger than `maxother_activ` by `confidence`\n",
    "                f = torch.clamp(maxother_activ - target_activ + confidence, min=0.0)\n",
    "            else:\n",
    "                # if not targeted, optimize to make `maxother_activ` larger than `target_activ` (the ground truth image labels) by `confidence`\n",
    "                f = torch.clamp(target_activ - maxother_activ + confidence, min=0.0)\n",
    "\n",
    "            # the total loss of current batch, should be of dimension [1]\n",
    "            batch_loss = torch.sum(scale_consts * f) + div_reg\n",
    "\n",
    "            # Do optimization for one step\n",
    "            optimizer.zero_grad()\n",
    "            batch_loss.backward()\n",
    "            optimizer.step()\n",
    "\n",
    "            # \"returns\" batch_loss, pert_norms, pert_outputs, adversaries\n",
    "\n",
    "            if optim_step % log_frequency == 0: \n",
    "                print('batch [{}] loss: {}'.format(optim_step, batch_loss))\n",
    "\n",
    "            if abort_early and not optim_step % (max_steps // 10):\n",
    "                if batch_loss > prev_batch_loss * (1 - ae_tol):\n",
    "                    break\n",
    "                prev_batch_loss = batch_loss\n",
    "\n",
    "            # update best attack found during optimization\n",
    "            pert_predictions = torch.argmax(pert_outputs, dim=1)\n",
    "            comp_pert_predictions = torch.argmax(compensate_confidence(pert_outputs, targets), dim=1)\n",
    "            for i in range(batch_size):\n",
    "                l2 = pert_norms[i]\n",
    "                cppred = comp_pert_predictions[i]\n",
    "                ppred = pert_predictions[i]\n",
    "                tlabel = targets[i]\n",
    "                ax = adversaries[i]\n",
    "                if attack_successful(cppred, tlabel):\n",
    "                    assert cppred == ppred\n",
    "                    if l2 < best_l2[i]:\n",
    "                        best_l2[i] = l2\n",
    "                        best_l2_ppred[i] = ppred\n",
    "                    if l2 < o_best_l2[i]:\n",
    "                        o_best_l2[i] = l2\n",
    "                        o_best_l2_ppred[i] = ppred\n",
    "                        o_best_adversaries[i] = ax\n",
    "\n",
    "        # binary search of `scale_const`\n",
    "        for i in range(batch_size):\n",
    "            tlabel = targets[i]\n",
    "            if best_l2_ppred[i] != -1:\n",
    "                # successful: attempt to lower `scale_const` by halving it\n",
    "                if scale_consts[i] < upper_bounds[i]:\n",
    "                    upper_bounds[i] = scale_consts[i]\n",
    "                # `upper_bounds[i] == c_range[1]` implies no solution\n",
    "                # found, i.e. upper_bounds[i] has never been updated by\n",
    "                # scale_consts[i] until `scale_consts[i] > 0.1 * c_range[1]`\n",
    "                if upper_bounds[i] < c_range[1] * 0.1:\n",
    "                    scale_consts[i] = (lower_bounds[i] + upper_bounds[i]) / 2\n",
    "            else:\n",
    "                # failure: multiply `scale_const` by ten if no solution\n",
    "                # found; otherwise do binary search\n",
    "                if scale_consts[i] > lower_bounds[i]:\n",
    "                    lower_bounds[i] = scale_consts[i]\n",
    "                if upper_bounds[i] < c_range[1] * 0.1:\n",
    "                    scale_consts[i] = (lower_bounds[i] + upper_bounds[i]) / 2\n",
    "                else:\n",
    "                    scale_consts[i] *= 10\n",
    "                    \n",
    "    return o_best_adversaries, l2_norms"
   ]
  },
  {
   "cell_type": "code",
   "execution_count": 0,
   "metadata": {
    "colab": {},
    "colab_type": "code",
    "id": "aYp4r_BN1wM7"
   },
   "outputs": [],
   "source": [
    "cw_advs_div4, l2_norms4 = cw_div4_attack(model, 'relu3', 1, inputs, targets, targeted=False, confidence=0.,\n",
    "                                         c_range=(1e-3, 1e10), search_steps=1, max_steps=1000, \n",
    "                                         abort_early=True, box=box, optimizer_lr=5e-4, \n",
    "                                         init_rand=False, log_frequency=100)\n",
    "\n",
    "eval_performance(model, inputs, cw_advs_div4)\n",
    "sample_images(inputs, cw_advs_div4)"
   ]
  },
  {
   "cell_type": "markdown",
   "metadata": {
    "colab_type": "text",
    "id": "Mo0_HOLTdnKe"
   },
   "source": [
    "# Evaluation"
   ]
  },
  {
   "cell_type": "code",
   "execution_count": 55,
   "metadata": {
    "colab": {
     "base_uri": "https://localhost:8080/",
     "height": 442
    },
    "colab_type": "code",
    "id": "aKgn1boNRL0X",
    "outputId": "936c38b7-a0c3-4048-cd6c-bd5b57426d80"
   },
   "outputs": [
    {
     "name": "stdout",
     "output_type": "stream",
     "text": [
      "timestamp 2019-07-21 19.50.30.310520 attack cw_div1_attack layer:  relu1 regularization_weight:  0\n",
      "Step 0\n",
      "batch [0] loss: 0.7629573345184326\n",
      "batch [100] loss: 0.5195173025131226\n"
     ]
    },
    {
     "ename": "KeyboardInterrupt",
     "evalue": "ignored",
     "output_type": "error",
     "traceback": [
      "\u001b[0;31m---------------------------------------------------------------------------\u001b[0m",
      "\u001b[0;31mKeyboardInterrupt\u001b[0m                         Traceback (most recent call last)",
      "\u001b[0;32m<ipython-input-55-92fa10f90ded>\u001b[0m in \u001b[0;36m<module>\u001b[0;34m()\u001b[0m\n\u001b[1;32m     13\u001b[0m                                              \u001b[0mc_range\u001b[0m\u001b[0;34m=\u001b[0m\u001b[0;34m(\u001b[0m\u001b[0;36m1e-3\u001b[0m\u001b[0;34m,\u001b[0m \u001b[0;36m1e10\u001b[0m\u001b[0;34m)\u001b[0m\u001b[0;34m,\u001b[0m \u001b[0msearch_steps\u001b[0m\u001b[0;34m=\u001b[0m\u001b[0;36m5\u001b[0m\u001b[0;34m,\u001b[0m \u001b[0mmax_steps\u001b[0m\u001b[0;34m=\u001b[0m\u001b[0;36m1000\u001b[0m\u001b[0;34m,\u001b[0m\u001b[0;34m\u001b[0m\u001b[0;34m\u001b[0m\u001b[0m\n\u001b[1;32m     14\u001b[0m                                              \u001b[0mabort_early\u001b[0m\u001b[0;34m=\u001b[0m\u001b[0;32mTrue\u001b[0m\u001b[0;34m,\u001b[0m \u001b[0mbox\u001b[0m\u001b[0;34m=\u001b[0m\u001b[0mbox\u001b[0m\u001b[0;34m,\u001b[0m \u001b[0moptimizer_lr\u001b[0m\u001b[0;34m=\u001b[0m\u001b[0;36m5e-4\u001b[0m\u001b[0;34m,\u001b[0m\u001b[0;34m\u001b[0m\u001b[0;34m\u001b[0m\u001b[0m\n\u001b[0;32m---> 15\u001b[0;31m                                              init_rand=False, log_frequency=100)\n\u001b[0m\u001b[1;32m     16\u001b[0m \u001b[0;34m\u001b[0m\u001b[0m\n\u001b[1;32m     17\u001b[0m           \u001b[0mpert_acc\u001b[0m\u001b[0;34m,\u001b[0m \u001b[0morig_acc\u001b[0m \u001b[0;34m=\u001b[0m \u001b[0meval_performance\u001b[0m\u001b[0;34m(\u001b[0m\u001b[0mmodel\u001b[0m\u001b[0;34m,\u001b[0m \u001b[0minputs\u001b[0m\u001b[0;34m,\u001b[0m \u001b[0mcw_advs_divs\u001b[0m\u001b[0;34m)\u001b[0m\u001b[0;34m\u001b[0m\u001b[0;34m\u001b[0m\u001b[0m\n",
      "\u001b[0;32m<ipython-input-46-b4f3afa62d5d>\u001b[0m in \u001b[0;36mcw_div1_attack\u001b[0;34m(model, layer, regularizer_weight, inputs, targets, targeted, confidence, c_range, search_steps, max_steps, abort_early, box, optimizer_lr, init_rand, log_frequency)\u001b[0m\n\u001b[1;32m     55\u001b[0m             \u001b[0mdivs\u001b[0m \u001b[0;34m=\u001b[0m \u001b[0;34m[\u001b[0m\u001b[0;34m]\u001b[0m\u001b[0;34m\u001b[0m\u001b[0;34m\u001b[0m\u001b[0m\n\u001b[1;32m     56\u001b[0m             \u001b[0;32mfor\u001b[0m \u001b[0mi\u001b[0m \u001b[0;32min\u001b[0m \u001b[0mrange\u001b[0m\u001b[0;34m(\u001b[0m\u001b[0mbatch_size\u001b[0m\u001b[0;34m)\u001b[0m\u001b[0;34m:\u001b[0m\u001b[0;34m\u001b[0m\u001b[0;34m\u001b[0m\u001b[0m\n\u001b[0;32m---> 57\u001b[0;31m                 \u001b[0mdivs\u001b[0m\u001b[0;34m.\u001b[0m\u001b[0mappend\u001b[0m\u001b[0;34m(\u001b[0m\u001b[0mnorm_divergence\u001b[0m\u001b[0;34m(\u001b[0m\u001b[0mdata\u001b[0m\u001b[0;34m=\u001b[0m\u001b[0madversaries\u001b[0m\u001b[0;34m[\u001b[0m\u001b[0mi\u001b[0m\u001b[0;34m]\u001b[0m\u001b[0;34m.\u001b[0m\u001b[0munsqueeze\u001b[0m\u001b[0;34m(\u001b[0m\u001b[0;36m0\u001b[0m\u001b[0;34m)\u001b[0m\u001b[0;34m,\u001b[0m \u001b[0mmodel\u001b[0m\u001b[0;34m=\u001b[0m\u001b[0mmodel\u001b[0m\u001b[0;34m,\u001b[0m \u001b[0mlayer\u001b[0m\u001b[0;34m=\u001b[0m\u001b[0mlayer\u001b[0m\u001b[0;34m,\u001b[0m \u001b[0mregularizer_weight\u001b[0m\u001b[0;34m=\u001b[0m\u001b[0mregularizer_weight\u001b[0m\u001b[0;34m)\u001b[0m\u001b[0;34m)\u001b[0m\u001b[0;34m\u001b[0m\u001b[0;34m\u001b[0m\u001b[0m\n\u001b[0m\u001b[1;32m     58\u001b[0m             \u001b[0mdiv_norms\u001b[0m \u001b[0;34m=\u001b[0m \u001b[0mtorch\u001b[0m\u001b[0;34m.\u001b[0m\u001b[0mtensor\u001b[0m\u001b[0;34m(\u001b[0m\u001b[0mtorch\u001b[0m\u001b[0;34m.\u001b[0m\u001b[0mstack\u001b[0m\u001b[0;34m(\u001b[0m\u001b[0mdivs\u001b[0m\u001b[0;34m)\u001b[0m\u001b[0;34m,\u001b[0m \u001b[0mdevice\u001b[0m\u001b[0;34m=\u001b[0m\u001b[0mdevice\u001b[0m\u001b[0;34m)\u001b[0m\u001b[0;34m\u001b[0m\u001b[0;34m\u001b[0m\u001b[0m\n\u001b[1;32m     59\u001b[0m \u001b[0;34m\u001b[0m\u001b[0m\n",
      "\u001b[0;32m<ipython-input-6-16d9de95fd8c>\u001b[0m in \u001b[0;36mnorm_divergence\u001b[0;34m(data, model, layer, neuron, regularizer_weight)\u001b[0m\n\u001b[1;32m     90\u001b[0m     \"\"\"\n\u001b[1;32m     91\u001b[0m     \u001b[0;31m# extract layer activations as numpy array\u001b[0m\u001b[0;34m\u001b[0m\u001b[0;34m\u001b[0m\u001b[0;34m\u001b[0m\u001b[0m\n\u001b[0;32m---> 92\u001b[0;31m     \u001b[0mlayer_activations\u001b[0m \u001b[0;34m=\u001b[0m \u001b[0mmodel\u001b[0m\u001b[0;34m.\u001b[0m\u001b[0mextract_outputs\u001b[0m\u001b[0;34m(\u001b[0m\u001b[0mdata\u001b[0m\u001b[0;34m=\u001b[0m\u001b[0mdata\u001b[0m\u001b[0;34m,\u001b[0m \u001b[0mlayer\u001b[0m\u001b[0;34m=\u001b[0m\u001b[0mlayer\u001b[0m\u001b[0;34m)\u001b[0m\u001b[0;34m\u001b[0m\u001b[0;34m\u001b[0m\u001b[0m\n\u001b[0m\u001b[1;32m     93\u001b[0m \u001b[0;34m\u001b[0m\u001b[0m\n\u001b[1;32m     94\u001b[0m     \u001b[0;31m# normalize over summation (to get a probability density)\u001b[0m\u001b[0;34m\u001b[0m\u001b[0;34m\u001b[0m\u001b[0;34m\u001b[0m\u001b[0m\n",
      "\u001b[0;32m<ipython-input-4-561528d6c307>\u001b[0m in \u001b[0;36mextract_outputs\u001b[0;34m(self, data, layer, neuron)\u001b[0m\n\u001b[1;32m     79\u001b[0m             \u001b[0;32mif\u001b[0m \u001b[0mname\u001b[0m \u001b[0;34m==\u001b[0m \u001b[0mlayer\u001b[0m\u001b[0;34m:\u001b[0m\u001b[0;34m\u001b[0m\u001b[0;34m\u001b[0m\u001b[0m\n\u001b[1;32m     80\u001b[0m                 \u001b[0mhandle\u001b[0m \u001b[0;34m=\u001b[0m \u001b[0mmodule\u001b[0m\u001b[0;34m.\u001b[0m\u001b[0mregister_forward_hook\u001b[0m\u001b[0;34m(\u001b[0m\u001b[0mhook\u001b[0m\u001b[0;34m)\u001b[0m\u001b[0;34m\u001b[0m\u001b[0;34m\u001b[0m\u001b[0m\n\u001b[0;32m---> 81\u001b[0;31m         \u001b[0mout\u001b[0m \u001b[0;34m=\u001b[0m \u001b[0mself\u001b[0m\u001b[0;34m(\u001b[0m\u001b[0mdata\u001b[0m\u001b[0;34m)\u001b[0m\u001b[0;34m\u001b[0m\u001b[0;34m\u001b[0m\u001b[0m\n\u001b[0m\u001b[1;32m     82\u001b[0m         \u001b[0;32mif\u001b[0m \u001b[0;32mnot\u001b[0m \u001b[0mneuron\u001b[0m \u001b[0;32mis\u001b[0m \u001b[0;32mNone\u001b[0m\u001b[0;34m:\u001b[0m\u001b[0;34m\u001b[0m\u001b[0;34m\u001b[0m\u001b[0m\n\u001b[1;32m     83\u001b[0m             \u001b[0moutputs\u001b[0m\u001b[0;34m[\u001b[0m\u001b[0;36m0\u001b[0m\u001b[0;34m]\u001b[0m \u001b[0;34m=\u001b[0m \u001b[0moutputs\u001b[0m\u001b[0;34m[\u001b[0m\u001b[0;36m0\u001b[0m\u001b[0;34m]\u001b[0m\u001b[0;34m[\u001b[0m\u001b[0;36m0\u001b[0m\u001b[0;34m]\u001b[0m\u001b[0;34m[\u001b[0m\u001b[0mneuron\u001b[0m\u001b[0;34m]\u001b[0m\u001b[0;34m\u001b[0m\u001b[0;34m\u001b[0m\u001b[0m\n",
      "\u001b[0;32m/usr/local/lib/python3.6/dist-packages/torch/nn/modules/module.py\u001b[0m in \u001b[0;36m__call__\u001b[0;34m(self, *input, **kwargs)\u001b[0m\n\u001b[1;32m    491\u001b[0m             \u001b[0mresult\u001b[0m \u001b[0;34m=\u001b[0m \u001b[0mself\u001b[0m\u001b[0;34m.\u001b[0m\u001b[0m_slow_forward\u001b[0m\u001b[0;34m(\u001b[0m\u001b[0;34m*\u001b[0m\u001b[0minput\u001b[0m\u001b[0;34m,\u001b[0m \u001b[0;34m**\u001b[0m\u001b[0mkwargs\u001b[0m\u001b[0;34m)\u001b[0m\u001b[0;34m\u001b[0m\u001b[0;34m\u001b[0m\u001b[0m\n\u001b[1;32m    492\u001b[0m         \u001b[0;32melse\u001b[0m\u001b[0;34m:\u001b[0m\u001b[0;34m\u001b[0m\u001b[0;34m\u001b[0m\u001b[0m\n\u001b[0;32m--> 493\u001b[0;31m             \u001b[0mresult\u001b[0m \u001b[0;34m=\u001b[0m \u001b[0mself\u001b[0m\u001b[0;34m.\u001b[0m\u001b[0mforward\u001b[0m\u001b[0;34m(\u001b[0m\u001b[0;34m*\u001b[0m\u001b[0minput\u001b[0m\u001b[0;34m,\u001b[0m \u001b[0;34m**\u001b[0m\u001b[0mkwargs\u001b[0m\u001b[0;34m)\u001b[0m\u001b[0;34m\u001b[0m\u001b[0;34m\u001b[0m\u001b[0m\n\u001b[0m\u001b[1;32m    494\u001b[0m         \u001b[0;32mfor\u001b[0m \u001b[0mhook\u001b[0m \u001b[0;32min\u001b[0m \u001b[0mself\u001b[0m\u001b[0;34m.\u001b[0m\u001b[0m_forward_hooks\u001b[0m\u001b[0;34m.\u001b[0m\u001b[0mvalues\u001b[0m\u001b[0;34m(\u001b[0m\u001b[0;34m)\u001b[0m\u001b[0;34m:\u001b[0m\u001b[0;34m\u001b[0m\u001b[0;34m\u001b[0m\u001b[0m\n\u001b[1;32m    495\u001b[0m             \u001b[0mhook_result\u001b[0m \u001b[0;34m=\u001b[0m \u001b[0mhook\u001b[0m\u001b[0;34m(\u001b[0m\u001b[0mself\u001b[0m\u001b[0;34m,\u001b[0m \u001b[0minput\u001b[0m\u001b[0;34m,\u001b[0m \u001b[0mresult\u001b[0m\u001b[0;34m)\u001b[0m\u001b[0;34m\u001b[0m\u001b[0;34m\u001b[0m\u001b[0m\n",
      "\u001b[0;32m<ipython-input-4-561528d6c307>\u001b[0m in \u001b[0;36mforward\u001b[0;34m(self, x)\u001b[0m\n\u001b[1;32m     64\u001b[0m         \u001b[0mx\u001b[0m \u001b[0;34m=\u001b[0m \u001b[0mF\u001b[0m\u001b[0;34m.\u001b[0m\u001b[0mmax_pool2d\u001b[0m\u001b[0;34m(\u001b[0m\u001b[0mx\u001b[0m\u001b[0;34m,\u001b[0m \u001b[0;36m2\u001b[0m\u001b[0;34m,\u001b[0m \u001b[0;36m2\u001b[0m\u001b[0;34m)\u001b[0m\u001b[0;34m\u001b[0m\u001b[0;34m\u001b[0m\u001b[0m\n\u001b[1;32m     65\u001b[0m         \u001b[0mx\u001b[0m \u001b[0;34m=\u001b[0m \u001b[0mself\u001b[0m\u001b[0;34m.\u001b[0m\u001b[0mconv2\u001b[0m\u001b[0;34m(\u001b[0m\u001b[0mx\u001b[0m\u001b[0;34m)\u001b[0m\u001b[0;34m\u001b[0m\u001b[0;34m\u001b[0m\u001b[0m\n\u001b[0;32m---> 66\u001b[0;31m         \u001b[0mx\u001b[0m \u001b[0;34m=\u001b[0m \u001b[0mself\u001b[0m\u001b[0;34m.\u001b[0m\u001b[0mrelu2\u001b[0m\u001b[0;34m(\u001b[0m\u001b[0mx\u001b[0m\u001b[0;34m)\u001b[0m\u001b[0;34m\u001b[0m\u001b[0;34m\u001b[0m\u001b[0m\n\u001b[0m\u001b[1;32m     67\u001b[0m         \u001b[0mx\u001b[0m \u001b[0;34m=\u001b[0m \u001b[0mF\u001b[0m\u001b[0;34m.\u001b[0m\u001b[0mmax_pool2d\u001b[0m\u001b[0;34m(\u001b[0m\u001b[0mx\u001b[0m\u001b[0;34m,\u001b[0m \u001b[0;36m2\u001b[0m\u001b[0;34m,\u001b[0m \u001b[0;36m2\u001b[0m\u001b[0;34m)\u001b[0m\u001b[0;34m\u001b[0m\u001b[0;34m\u001b[0m\u001b[0m\n\u001b[1;32m     68\u001b[0m         \u001b[0mx\u001b[0m \u001b[0;34m=\u001b[0m \u001b[0mx\u001b[0m\u001b[0;34m.\u001b[0m\u001b[0mview\u001b[0m\u001b[0;34m(\u001b[0m\u001b[0;34m-\u001b[0m\u001b[0;36m1\u001b[0m\u001b[0;34m,\u001b[0m \u001b[0;36m4\u001b[0m \u001b[0;34m*\u001b[0m \u001b[0;36m4\u001b[0m \u001b[0;34m*\u001b[0m \u001b[0;36m50\u001b[0m\u001b[0;34m)\u001b[0m\u001b[0;34m\u001b[0m\u001b[0;34m\u001b[0m\u001b[0m\n",
      "\u001b[0;31mKeyboardInterrupt\u001b[0m: "
     ]
    }
   ],
   "source": [
    "results = []\n",
    "\n",
    "all_layers = list(dict(model.named_children()))\n",
    "target_layers = [layer for layer in all_layers if 'relu' in layer]\n",
    "attack_versions = [cw_div1_attack, cw_div2_attack, cw_div3_attack, cw_div4_attack]\n",
    "\n",
    "for attack in attack_versions:\n",
    "  for l in target_layers:\n",
    "      for rw in [0, 0.001, 0.01, 1, 10, 100]:\n",
    "          timestamp = str(datetime.datetime.now()).replace(':','.')\n",
    "          print('timestamp', timestamp, 'attack', attack.__name__, 'layer: ', l, 'regularization_weight: ', rw)\n",
    "          cw_advs_divs, divergences = attack(model, l, rw, inputs, targets, targeted=False, confidence=0.0,\n",
    "                                             c_range=(1e-3, 1e10), search_steps=5, max_steps=1000, \n",
    "                                             abort_early=True, box=box, optimizer_lr=5e-4, \n",
    "                                             init_rand=False, log_frequency=100)\n",
    "\n",
    "          pert_acc, orig_acc = eval_performance(model, inputs, cw_advs_divs)\n",
    "          sample_images(inputs, cw_advs_divs)\n",
    "\n",
    "          out = {'timestamp': timestamp, 'attack': attack.__name__, 'layer': l, 'regularization_weight': rw, 'adversaries': cw_advs_divs, 'divergences':divergences, 'pert_acc':pert_acc, 'orig_acc': orig_acc}\n",
    "          results.append(out)\n",
    "        \n",
    "results"
   ]
  },
  {
   "cell_type": "code",
   "execution_count": 0,
   "metadata": {
    "colab": {},
    "colab_type": "code",
    "id": "Vt1vvsHPe6Vj"
   },
   "outputs": [],
   "source": []
  }
 ],
 "metadata": {
  "accelerator": "GPU",
  "colab": {
   "collapsed_sections": [],
   "name": "CW_div_pytorch.ipynb",
   "provenance": [],
   "toc_visible": true,
   "version": "0.3.2"
  },
  "kernelspec": {
   "display_name": "Python 3",
   "language": "python",
   "name": "python3"
  },
  "language_info": {
   "codemirror_mode": {
    "name": "ipython",
    "version": 3
   },
   "file_extension": ".py",
   "mimetype": "text/x-python",
   "name": "python",
   "nbconvert_exporter": "python",
   "pygments_lexer": "ipython3",
   "version": "3.7.1"
  }
 },
 "nbformat": 4,
 "nbformat_minor": 1
}
