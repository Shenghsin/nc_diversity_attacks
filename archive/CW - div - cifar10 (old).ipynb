{
 "cells": [
  {
   "cell_type": "markdown",
   "metadata": {
    "colab_type": "text",
    "id": "LNkOjKvuN6Ud"
   },
   "source": [
    "# Investigating CW Attack Variants Using Diversity Promoting Regularization"
   ]
  },
  {
   "cell_type": "code",
   "execution_count": 14,
   "metadata": {
    "colab": {},
    "colab_type": "code",
    "id": "yeR2kRlPR7v0"
   },
   "outputs": [
    {
     "name": "stdout",
     "output_type": "stream",
     "text": [
      "CUDA is available!  Training on GPU ...\n"
     ]
    }
   ],
   "source": [
    "import torch\n",
    "import torch.nn as nn\n",
    "import torch.nn.functional as F\n",
    "import torch.optim as optim\n",
    "\n",
    "import torchvision\n",
    "import torchvision.transforms as transforms\n",
    "\n",
    "import numpy as np\n",
    "import matplotlib.pyplot as plt\n",
    "\n",
    "import warnings\n",
    "warnings.filterwarnings('ignore')\n",
    "\n",
    "import datetime\n",
    "import glob\n",
    "import os\n",
    "\n",
    "import pickle\n",
    "\n",
    "import pandas as pd\n",
    "\n",
    "%matplotlib inline\n",
    "\n",
    "%load_ext autoreload\n",
    "%autoreload 2\n",
    "\n",
    "# check if CUDA is available\n",
    "device = torch.device(\"cpu\")\n",
    "if torch.cuda.is_available():\n",
    "    print('CUDA is available!  Training on GPU ...')\n",
    "    device = torch.device(\"cuda\")\n",
    "else:\n",
    "    print('CUDA is not available.  Training on CPU ...')"
   ]
  },
  {
   "cell_type": "code",
   "execution_count": 15,
   "metadata": {
    "colab": {
     "base_uri": "https://localhost:8080/",
     "height": 34
    },
    "colab_type": "code",
    "id": "IByUFiD8VfFD",
    "outputId": "93f5d40c-55aa-44e3-bc2b-162e27d8ddd3"
   },
   "outputs": [
    {
     "data": {
      "text/plain": [
       "<torch._C.Generator at 0x1e925f2e0b0>"
      ]
     },
     "execution_count": 15,
     "metadata": {},
     "output_type": "execute_result"
    }
   ],
   "source": [
    "n_epochs = 10\n",
    "learning_rate = 0.01\n",
    "momentum = 0.5\n",
    "\n",
    "random_seed = 1\n",
    "torch.manual_seed(random_seed)"
   ]
  },
  {
   "cell_type": "code",
   "execution_count": 70,
   "metadata": {
    "scrolled": true
   },
   "outputs": [
    {
     "name": "stdout",
     "output_type": "stream",
     "text": [
      "Files already downloaded and verified\n"
     ]
    }
   ],
   "source": [
    "data_dir = 'C:\\data\\CIFAR10'\n",
    "\n",
    "batch_size_train = 64\n",
    "batch_size_test = 100\n",
    "\n",
    "if not os.path.exists(data_dir):\n",
    "    os.makedirs(data_dir)\n",
    "\n",
    "# PGD - 8/255    \n",
    "    \n",
    "# normalize = transforms.Normalize(mean=[0.485, 0.456, 0.406],\n",
    "#                                  std=[0.229, 0.224, 0.225])\n",
    "\n",
    "train_loader = torch.utils.data.DataLoader(\n",
    "    torchvision.datasets.CIFAR10(root=data_dir, train=True, transform=transforms.Compose([\n",
    "        transforms.RandomHorizontalFlip(),\n",
    "        transforms.RandomCrop(32, 4),\n",
    "        # normalize,\n",
    "        transforms.ToTensor() \n",
    "    ]), download=True),\n",
    "    batch_size=batch_size_train, shuffle=True,\n",
    "    num_workers=2, pin_memory=True)\n",
    "\n",
    "test_loader = torch.utils.data.DataLoader(\n",
    "    torchvision.datasets.CIFAR10(root=data_dir, train=False, transform=transforms.Compose([\n",
    "        # normalize,\n",
    "        transforms.ToTensor()    \n",
    "    ])),\n",
    "    batch_size=batch_size_test, shuffle=False,\n",
    "    num_workers=2, pin_memory=True)\n",
    "\n",
    "classes = ['plane', 'car', 'bird', 'cat', 'deer', \n",
    "           'dog', 'frog', 'horse', 'ship', 'truck']\n",
    "\n",
    "# targets = true labels only for when you're doing a targeted attack\n",
    "# otherwise, you're going to make the inputs easier to classify to \n",
    "# do a targeted attack, targets should be some class other than\n",
    "# the true label\n",
    "\n",
    "inputs, targets = next(iter(test_loader))\n",
    "\n",
    "inputs = inputs.to(device)\n",
    "targets = targets.to(device)"
   ]
  },
  {
   "cell_type": "markdown",
   "metadata": {},
   "source": [
    "# Loading a Pretrained ResNet56\n",
    "https://github.com/akamaster/pytorch_resnet_cifar10"
   ]
  },
  {
   "cell_type": "code",
   "execution_count": 56,
   "metadata": {},
   "outputs": [
    {
     "name": "stdout",
     "output_type": "stream",
     "text": [
      "Conv2d\n",
      "BatchNorm2d\n",
      "Conv2d\n",
      "BatchNorm2d\n",
      "Conv2d\n",
      "BatchNorm2d\n",
      "Sequential\n",
      "BasicBlock\n",
      "Conv2d\n",
      "BatchNorm2d\n",
      "Conv2d\n",
      "BatchNorm2d\n",
      "Sequential\n",
      "BasicBlock\n",
      "Conv2d\n",
      "BatchNorm2d\n",
      "Conv2d\n",
      "BatchNorm2d\n",
      "Sequential\n",
      "BasicBlock\n",
      "Conv2d\n",
      "BatchNorm2d\n",
      "Conv2d\n",
      "BatchNorm2d\n",
      "Sequential\n",
      "BasicBlock\n",
      "Conv2d\n",
      "BatchNorm2d\n",
      "Conv2d\n",
      "BatchNorm2d\n",
      "Sequential\n",
      "BasicBlock\n",
      "Conv2d\n",
      "BatchNorm2d\n",
      "Conv2d\n",
      "BatchNorm2d\n",
      "Sequential\n",
      "BasicBlock\n",
      "Conv2d\n",
      "BatchNorm2d\n",
      "Conv2d\n",
      "BatchNorm2d\n",
      "Sequential\n",
      "BasicBlock\n",
      "Conv2d\n",
      "BatchNorm2d\n",
      "Conv2d\n",
      "BatchNorm2d\n",
      "Sequential\n",
      "BasicBlock\n",
      "Conv2d\n",
      "BatchNorm2d\n",
      "Conv2d\n",
      "BatchNorm2d\n",
      "Sequential\n",
      "BasicBlock\n",
      "Sequential\n",
      "Conv2d\n",
      "BatchNorm2d\n",
      "Conv2d\n",
      "BatchNorm2d\n",
      "LambdaLayer\n",
      "BasicBlock\n",
      "Conv2d\n",
      "BatchNorm2d\n",
      "Conv2d\n",
      "BatchNorm2d\n",
      "Sequential\n",
      "BasicBlock\n",
      "Conv2d\n",
      "BatchNorm2d\n",
      "Conv2d\n",
      "BatchNorm2d\n",
      "Sequential\n",
      "BasicBlock\n",
      "Conv2d\n",
      "BatchNorm2d\n",
      "Conv2d\n",
      "BatchNorm2d\n",
      "Sequential\n",
      "BasicBlock\n",
      "Conv2d\n",
      "BatchNorm2d\n",
      "Conv2d\n",
      "BatchNorm2d\n",
      "Sequential\n",
      "BasicBlock\n",
      "Conv2d\n",
      "BatchNorm2d\n",
      "Conv2d\n",
      "BatchNorm2d\n",
      "Sequential\n",
      "BasicBlock\n",
      "Conv2d\n",
      "BatchNorm2d\n",
      "Conv2d\n",
      "BatchNorm2d\n",
      "Sequential\n",
      "BasicBlock\n",
      "Conv2d\n",
      "BatchNorm2d\n",
      "Conv2d\n",
      "BatchNorm2d\n",
      "Sequential\n",
      "BasicBlock\n",
      "Conv2d\n",
      "BatchNorm2d\n",
      "Conv2d\n",
      "BatchNorm2d\n",
      "Sequential\n",
      "BasicBlock\n",
      "Sequential\n",
      "Conv2d\n",
      "BatchNorm2d\n",
      "Conv2d\n",
      "BatchNorm2d\n",
      "LambdaLayer\n",
      "BasicBlock\n",
      "Conv2d\n",
      "BatchNorm2d\n",
      "Conv2d\n",
      "BatchNorm2d\n",
      "Sequential\n",
      "BasicBlock\n",
      "Conv2d\n",
      "BatchNorm2d\n",
      "Conv2d\n",
      "BatchNorm2d\n",
      "Sequential\n",
      "BasicBlock\n",
      "Conv2d\n",
      "BatchNorm2d\n",
      "Conv2d\n",
      "BatchNorm2d\n",
      "Sequential\n",
      "BasicBlock\n",
      "Conv2d\n",
      "BatchNorm2d\n",
      "Conv2d\n",
      "BatchNorm2d\n",
      "Sequential\n",
      "BasicBlock\n",
      "Conv2d\n",
      "BatchNorm2d\n",
      "Conv2d\n",
      "BatchNorm2d\n",
      "Sequential\n",
      "BasicBlock\n",
      "Conv2d\n",
      "BatchNorm2d\n",
      "Conv2d\n",
      "BatchNorm2d\n",
      "Sequential\n",
      "BasicBlock\n",
      "Conv2d\n",
      "BatchNorm2d\n",
      "Conv2d\n",
      "BatchNorm2d\n",
      "Sequential\n",
      "BasicBlock\n",
      "Conv2d\n",
      "BatchNorm2d\n",
      "Conv2d\n",
      "BatchNorm2d\n",
      "Sequential\n",
      "BasicBlock\n",
      "Sequential\n",
      "Linear\n",
      "ResNet\n"
     ]
    },
    {
     "data": {
      "text/plain": [
       "IncompatibleKeys(missing_keys=[], unexpected_keys=[])"
      ]
     },
     "execution_count": 56,
     "metadata": {},
     "output_type": "execute_result"
    }
   ],
   "source": [
    "from resnet import *\n",
    "\n",
    "models_dir = 'pretrained_models/cifar10/' \n",
    "model = resnet56().cuda()\n",
    "state_dict = torch.load(models_dir + 'resnet56.th', map_location='cuda')['state_dict'] # best_prec1, state_dict\n",
    "\n",
    "new_state_dict = {}\n",
    "\n",
    "for k, v in state_dict.items():\n",
    "    if 'module' in k:\n",
    "        k = k.replace('module.', '')\n",
    "    new_state_dict[k]=v\n",
    "    \n",
    "model.load_state_dict(new_state_dict)"
   ]
  },
  {
   "cell_type": "code",
   "execution_count": 57,
   "metadata": {
    "scrolled": false
   },
   "outputs": [
    {
     "name": "stdout",
     "output_type": "stream",
     "text": [
      "Accuracy: 10/100 (10%)\n"
     ]
    }
   ],
   "source": [
    "# confirm that loading the weights actually worked\n",
    "orig_output = model(inputs)\n",
    "orig_pred = torch.argmax(orig_output, dim=1)\n",
    "orig_correct = orig_pred.eq(targets.data).sum()\n",
    "orig_acc = 100. * orig_correct / len(targets)\n",
    "print('Accuracy: {}/{} ({:.0f}%)'.format(orig_correct, len(targets), orig_acc))"
   ]
  },
  {
   "cell_type": "code",
   "execution_count": 58,
   "metadata": {},
   "outputs": [
    {
     "name": "stdout",
     "output_type": "stream",
     "text": [
      "ResNet(\n",
      "  (conv1): Conv2d(3, 16, kernel_size=(3, 3), stride=(1, 1), padding=(1, 1), bias=False)\n",
      "  (bn1): BatchNorm2d(16, eps=1e-05, momentum=0.1, affine=True, track_running_stats=True)\n",
      "  (layer1): Sequential(\n",
      "    (0): BasicBlock(\n",
      "      (conv1): Conv2d(16, 16, kernel_size=(3, 3), stride=(1, 1), padding=(1, 1), bias=False)\n",
      "      (bn1): BatchNorm2d(16, eps=1e-05, momentum=0.1, affine=True, track_running_stats=True)\n",
      "      (conv2): Conv2d(16, 16, kernel_size=(3, 3), stride=(1, 1), padding=(1, 1), bias=False)\n",
      "      (bn2): BatchNorm2d(16, eps=1e-05, momentum=0.1, affine=True, track_running_stats=True)\n",
      "      (shortcut): Sequential()\n",
      "    )\n",
      "    (1): BasicBlock(\n",
      "      (conv1): Conv2d(16, 16, kernel_size=(3, 3), stride=(1, 1), padding=(1, 1), bias=False)\n",
      "      (bn1): BatchNorm2d(16, eps=1e-05, momentum=0.1, affine=True, track_running_stats=True)\n",
      "      (conv2): Conv2d(16, 16, kernel_size=(3, 3), stride=(1, 1), padding=(1, 1), bias=False)\n",
      "      (bn2): BatchNorm2d(16, eps=1e-05, momentum=0.1, affine=True, track_running_stats=True)\n",
      "      (shortcut): Sequential()\n",
      "    )\n",
      "    (2): BasicBlock(\n",
      "      (conv1): Conv2d(16, 16, kernel_size=(3, 3), stride=(1, 1), padding=(1, 1), bias=False)\n",
      "      (bn1): BatchNorm2d(16, eps=1e-05, momentum=0.1, affine=True, track_running_stats=True)\n",
      "      (conv2): Conv2d(16, 16, kernel_size=(3, 3), stride=(1, 1), padding=(1, 1), bias=False)\n",
      "      (bn2): BatchNorm2d(16, eps=1e-05, momentum=0.1, affine=True, track_running_stats=True)\n",
      "      (shortcut): Sequential()\n",
      "    )\n",
      "    (3): BasicBlock(\n",
      "      (conv1): Conv2d(16, 16, kernel_size=(3, 3), stride=(1, 1), padding=(1, 1), bias=False)\n",
      "      (bn1): BatchNorm2d(16, eps=1e-05, momentum=0.1, affine=True, track_running_stats=True)\n",
      "      (conv2): Conv2d(16, 16, kernel_size=(3, 3), stride=(1, 1), padding=(1, 1), bias=False)\n",
      "      (bn2): BatchNorm2d(16, eps=1e-05, momentum=0.1, affine=True, track_running_stats=True)\n",
      "      (shortcut): Sequential()\n",
      "    )\n",
      "    (4): BasicBlock(\n",
      "      (conv1): Conv2d(16, 16, kernel_size=(3, 3), stride=(1, 1), padding=(1, 1), bias=False)\n",
      "      (bn1): BatchNorm2d(16, eps=1e-05, momentum=0.1, affine=True, track_running_stats=True)\n",
      "      (conv2): Conv2d(16, 16, kernel_size=(3, 3), stride=(1, 1), padding=(1, 1), bias=False)\n",
      "      (bn2): BatchNorm2d(16, eps=1e-05, momentum=0.1, affine=True, track_running_stats=True)\n",
      "      (shortcut): Sequential()\n",
      "    )\n",
      "    (5): BasicBlock(\n",
      "      (conv1): Conv2d(16, 16, kernel_size=(3, 3), stride=(1, 1), padding=(1, 1), bias=False)\n",
      "      (bn1): BatchNorm2d(16, eps=1e-05, momentum=0.1, affine=True, track_running_stats=True)\n",
      "      (conv2): Conv2d(16, 16, kernel_size=(3, 3), stride=(1, 1), padding=(1, 1), bias=False)\n",
      "      (bn2): BatchNorm2d(16, eps=1e-05, momentum=0.1, affine=True, track_running_stats=True)\n",
      "      (shortcut): Sequential()\n",
      "    )\n",
      "    (6): BasicBlock(\n",
      "      (conv1): Conv2d(16, 16, kernel_size=(3, 3), stride=(1, 1), padding=(1, 1), bias=False)\n",
      "      (bn1): BatchNorm2d(16, eps=1e-05, momentum=0.1, affine=True, track_running_stats=True)\n",
      "      (conv2): Conv2d(16, 16, kernel_size=(3, 3), stride=(1, 1), padding=(1, 1), bias=False)\n",
      "      (bn2): BatchNorm2d(16, eps=1e-05, momentum=0.1, affine=True, track_running_stats=True)\n",
      "      (shortcut): Sequential()\n",
      "    )\n",
      "    (7): BasicBlock(\n",
      "      (conv1): Conv2d(16, 16, kernel_size=(3, 3), stride=(1, 1), padding=(1, 1), bias=False)\n",
      "      (bn1): BatchNorm2d(16, eps=1e-05, momentum=0.1, affine=True, track_running_stats=True)\n",
      "      (conv2): Conv2d(16, 16, kernel_size=(3, 3), stride=(1, 1), padding=(1, 1), bias=False)\n",
      "      (bn2): BatchNorm2d(16, eps=1e-05, momentum=0.1, affine=True, track_running_stats=True)\n",
      "      (shortcut): Sequential()\n",
      "    )\n",
      "    (8): BasicBlock(\n",
      "      (conv1): Conv2d(16, 16, kernel_size=(3, 3), stride=(1, 1), padding=(1, 1), bias=False)\n",
      "      (bn1): BatchNorm2d(16, eps=1e-05, momentum=0.1, affine=True, track_running_stats=True)\n",
      "      (conv2): Conv2d(16, 16, kernel_size=(3, 3), stride=(1, 1), padding=(1, 1), bias=False)\n",
      "      (bn2): BatchNorm2d(16, eps=1e-05, momentum=0.1, affine=True, track_running_stats=True)\n",
      "      (shortcut): Sequential()\n",
      "    )\n",
      "  )\n",
      "  (layer2): Sequential(\n",
      "    (0): BasicBlock(\n",
      "      (conv1): Conv2d(16, 32, kernel_size=(3, 3), stride=(2, 2), padding=(1, 1), bias=False)\n",
      "      (bn1): BatchNorm2d(32, eps=1e-05, momentum=0.1, affine=True, track_running_stats=True)\n",
      "      (conv2): Conv2d(32, 32, kernel_size=(3, 3), stride=(1, 1), padding=(1, 1), bias=False)\n",
      "      (bn2): BatchNorm2d(32, eps=1e-05, momentum=0.1, affine=True, track_running_stats=True)\n",
      "      (shortcut): LambdaLayer()\n",
      "    )\n",
      "    (1): BasicBlock(\n",
      "      (conv1): Conv2d(32, 32, kernel_size=(3, 3), stride=(1, 1), padding=(1, 1), bias=False)\n",
      "      (bn1): BatchNorm2d(32, eps=1e-05, momentum=0.1, affine=True, track_running_stats=True)\n",
      "      (conv2): Conv2d(32, 32, kernel_size=(3, 3), stride=(1, 1), padding=(1, 1), bias=False)\n",
      "      (bn2): BatchNorm2d(32, eps=1e-05, momentum=0.1, affine=True, track_running_stats=True)\n",
      "      (shortcut): Sequential()\n",
      "    )\n",
      "    (2): BasicBlock(\n",
      "      (conv1): Conv2d(32, 32, kernel_size=(3, 3), stride=(1, 1), padding=(1, 1), bias=False)\n",
      "      (bn1): BatchNorm2d(32, eps=1e-05, momentum=0.1, affine=True, track_running_stats=True)\n",
      "      (conv2): Conv2d(32, 32, kernel_size=(3, 3), stride=(1, 1), padding=(1, 1), bias=False)\n",
      "      (bn2): BatchNorm2d(32, eps=1e-05, momentum=0.1, affine=True, track_running_stats=True)\n",
      "      (shortcut): Sequential()\n",
      "    )\n",
      "    (3): BasicBlock(\n",
      "      (conv1): Conv2d(32, 32, kernel_size=(3, 3), stride=(1, 1), padding=(1, 1), bias=False)\n",
      "      (bn1): BatchNorm2d(32, eps=1e-05, momentum=0.1, affine=True, track_running_stats=True)\n",
      "      (conv2): Conv2d(32, 32, kernel_size=(3, 3), stride=(1, 1), padding=(1, 1), bias=False)\n",
      "      (bn2): BatchNorm2d(32, eps=1e-05, momentum=0.1, affine=True, track_running_stats=True)\n",
      "      (shortcut): Sequential()\n",
      "    )\n",
      "    (4): BasicBlock(\n",
      "      (conv1): Conv2d(32, 32, kernel_size=(3, 3), stride=(1, 1), padding=(1, 1), bias=False)\n",
      "      (bn1): BatchNorm2d(32, eps=1e-05, momentum=0.1, affine=True, track_running_stats=True)\n",
      "      (conv2): Conv2d(32, 32, kernel_size=(3, 3), stride=(1, 1), padding=(1, 1), bias=False)\n",
      "      (bn2): BatchNorm2d(32, eps=1e-05, momentum=0.1, affine=True, track_running_stats=True)\n",
      "      (shortcut): Sequential()\n",
      "    )\n",
      "    (5): BasicBlock(\n",
      "      (conv1): Conv2d(32, 32, kernel_size=(3, 3), stride=(1, 1), padding=(1, 1), bias=False)\n",
      "      (bn1): BatchNorm2d(32, eps=1e-05, momentum=0.1, affine=True, track_running_stats=True)\n",
      "      (conv2): Conv2d(32, 32, kernel_size=(3, 3), stride=(1, 1), padding=(1, 1), bias=False)\n",
      "      (bn2): BatchNorm2d(32, eps=1e-05, momentum=0.1, affine=True, track_running_stats=True)\n",
      "      (shortcut): Sequential()\n",
      "    )\n",
      "    (6): BasicBlock(\n",
      "      (conv1): Conv2d(32, 32, kernel_size=(3, 3), stride=(1, 1), padding=(1, 1), bias=False)\n",
      "      (bn1): BatchNorm2d(32, eps=1e-05, momentum=0.1, affine=True, track_running_stats=True)\n",
      "      (conv2): Conv2d(32, 32, kernel_size=(3, 3), stride=(1, 1), padding=(1, 1), bias=False)\n",
      "      (bn2): BatchNorm2d(32, eps=1e-05, momentum=0.1, affine=True, track_running_stats=True)\n",
      "      (shortcut): Sequential()\n",
      "    )\n",
      "    (7): BasicBlock(\n",
      "      (conv1): Conv2d(32, 32, kernel_size=(3, 3), stride=(1, 1), padding=(1, 1), bias=False)\n",
      "      (bn1): BatchNorm2d(32, eps=1e-05, momentum=0.1, affine=True, track_running_stats=True)\n",
      "      (conv2): Conv2d(32, 32, kernel_size=(3, 3), stride=(1, 1), padding=(1, 1), bias=False)\n",
      "      (bn2): BatchNorm2d(32, eps=1e-05, momentum=0.1, affine=True, track_running_stats=True)\n",
      "      (shortcut): Sequential()\n",
      "    )\n",
      "    (8): BasicBlock(\n",
      "      (conv1): Conv2d(32, 32, kernel_size=(3, 3), stride=(1, 1), padding=(1, 1), bias=False)\n",
      "      (bn1): BatchNorm2d(32, eps=1e-05, momentum=0.1, affine=True, track_running_stats=True)\n",
      "      (conv2): Conv2d(32, 32, kernel_size=(3, 3), stride=(1, 1), padding=(1, 1), bias=False)\n",
      "      (bn2): BatchNorm2d(32, eps=1e-05, momentum=0.1, affine=True, track_running_stats=True)\n",
      "      (shortcut): Sequential()\n",
      "    )\n",
      "  )\n",
      "  (layer3): Sequential(\n",
      "    (0): BasicBlock(\n",
      "      (conv1): Conv2d(32, 64, kernel_size=(3, 3), stride=(2, 2), padding=(1, 1), bias=False)\n",
      "      (bn1): BatchNorm2d(64, eps=1e-05, momentum=0.1, affine=True, track_running_stats=True)\n",
      "      (conv2): Conv2d(64, 64, kernel_size=(3, 3), stride=(1, 1), padding=(1, 1), bias=False)\n",
      "      (bn2): BatchNorm2d(64, eps=1e-05, momentum=0.1, affine=True, track_running_stats=True)\n",
      "      (shortcut): LambdaLayer()\n",
      "    )\n",
      "    (1): BasicBlock(\n",
      "      (conv1): Conv2d(64, 64, kernel_size=(3, 3), stride=(1, 1), padding=(1, 1), bias=False)\n",
      "      (bn1): BatchNorm2d(64, eps=1e-05, momentum=0.1, affine=True, track_running_stats=True)\n",
      "      (conv2): Conv2d(64, 64, kernel_size=(3, 3), stride=(1, 1), padding=(1, 1), bias=False)\n",
      "      (bn2): BatchNorm2d(64, eps=1e-05, momentum=0.1, affine=True, track_running_stats=True)\n",
      "      (shortcut): Sequential()\n",
      "    )\n",
      "    (2): BasicBlock(\n",
      "      (conv1): Conv2d(64, 64, kernel_size=(3, 3), stride=(1, 1), padding=(1, 1), bias=False)\n",
      "      (bn1): BatchNorm2d(64, eps=1e-05, momentum=0.1, affine=True, track_running_stats=True)\n",
      "      (conv2): Conv2d(64, 64, kernel_size=(3, 3), stride=(1, 1), padding=(1, 1), bias=False)\n",
      "      (bn2): BatchNorm2d(64, eps=1e-05, momentum=0.1, affine=True, track_running_stats=True)\n",
      "      (shortcut): Sequential()\n",
      "    )\n",
      "    (3): BasicBlock(\n",
      "      (conv1): Conv2d(64, 64, kernel_size=(3, 3), stride=(1, 1), padding=(1, 1), bias=False)\n",
      "      (bn1): BatchNorm2d(64, eps=1e-05, momentum=0.1, affine=True, track_running_stats=True)\n",
      "      (conv2): Conv2d(64, 64, kernel_size=(3, 3), stride=(1, 1), padding=(1, 1), bias=False)\n",
      "      (bn2): BatchNorm2d(64, eps=1e-05, momentum=0.1, affine=True, track_running_stats=True)\n",
      "      (shortcut): Sequential()\n",
      "    )\n",
      "    (4): BasicBlock(\n",
      "      (conv1): Conv2d(64, 64, kernel_size=(3, 3), stride=(1, 1), padding=(1, 1), bias=False)\n",
      "      (bn1): BatchNorm2d(64, eps=1e-05, momentum=0.1, affine=True, track_running_stats=True)\n",
      "      (conv2): Conv2d(64, 64, kernel_size=(3, 3), stride=(1, 1), padding=(1, 1), bias=False)\n",
      "      (bn2): BatchNorm2d(64, eps=1e-05, momentum=0.1, affine=True, track_running_stats=True)\n",
      "      (shortcut): Sequential()\n",
      "    )\n",
      "    (5): BasicBlock(\n",
      "      (conv1): Conv2d(64, 64, kernel_size=(3, 3), stride=(1, 1), padding=(1, 1), bias=False)\n",
      "      (bn1): BatchNorm2d(64, eps=1e-05, momentum=0.1, affine=True, track_running_stats=True)\n",
      "      (conv2): Conv2d(64, 64, kernel_size=(3, 3), stride=(1, 1), padding=(1, 1), bias=False)\n",
      "      (bn2): BatchNorm2d(64, eps=1e-05, momentum=0.1, affine=True, track_running_stats=True)\n",
      "      (shortcut): Sequential()\n",
      "    )\n",
      "    (6): BasicBlock(\n",
      "      (conv1): Conv2d(64, 64, kernel_size=(3, 3), stride=(1, 1), padding=(1, 1), bias=False)\n",
      "      (bn1): BatchNorm2d(64, eps=1e-05, momentum=0.1, affine=True, track_running_stats=True)\n",
      "      (conv2): Conv2d(64, 64, kernel_size=(3, 3), stride=(1, 1), padding=(1, 1), bias=False)\n",
      "      (bn2): BatchNorm2d(64, eps=1e-05, momentum=0.1, affine=True, track_running_stats=True)\n",
      "      (shortcut): Sequential()\n",
      "    )\n",
      "    (7): BasicBlock(\n",
      "      (conv1): Conv2d(64, 64, kernel_size=(3, 3), stride=(1, 1), padding=(1, 1), bias=False)\n",
      "      (bn1): BatchNorm2d(64, eps=1e-05, momentum=0.1, affine=True, track_running_stats=True)\n",
      "      (conv2): Conv2d(64, 64, kernel_size=(3, 3), stride=(1, 1), padding=(1, 1), bias=False)\n",
      "      (bn2): BatchNorm2d(64, eps=1e-05, momentum=0.1, affine=True, track_running_stats=True)\n",
      "      (shortcut): Sequential()\n",
      "    )\n",
      "    (8): BasicBlock(\n",
      "      (conv1): Conv2d(64, 64, kernel_size=(3, 3), stride=(1, 1), padding=(1, 1), bias=False)\n",
      "      (bn1): BatchNorm2d(64, eps=1e-05, momentum=0.1, affine=True, track_running_stats=True)\n",
      "      (conv2): Conv2d(64, 64, kernel_size=(3, 3), stride=(1, 1), padding=(1, 1), bias=False)\n",
      "      (bn2): BatchNorm2d(64, eps=1e-05, momentum=0.1, affine=True, track_running_stats=True)\n",
      "      (shortcut): Sequential()\n",
      "    )\n",
      "  )\n",
      "  (linear): Linear(in_features=64, out_features=10, bias=True)\n"
     ]
    },
    {
     "name": "stdout",
     "output_type": "stream",
     "text": [
      ")\n"
     ]
    }
   ],
   "source": [
    "print(model)"
   ]
  },
  {
   "cell_type": "code",
   "execution_count": 59,
   "metadata": {},
   "outputs": [
    {
     "data": {
      "text/plain": [
       "{'conv1-0': Conv2d(3, 16, kernel_size=(3, 3), stride=(1, 1), padding=(1, 1), bias=False),\n",
       " 'conv1-1': Conv2d(16, 16, kernel_size=(3, 3), stride=(1, 1), padding=(1, 1), bias=False),\n",
       " 'conv2-2': Conv2d(16, 16, kernel_size=(3, 3), stride=(1, 1), padding=(1, 1), bias=False),\n",
       " 'conv1-3': Conv2d(16, 16, kernel_size=(3, 3), stride=(1, 1), padding=(1, 1), bias=False),\n",
       " 'conv2-4': Conv2d(16, 16, kernel_size=(3, 3), stride=(1, 1), padding=(1, 1), bias=False),\n",
       " 'conv1-5': Conv2d(16, 16, kernel_size=(3, 3), stride=(1, 1), padding=(1, 1), bias=False),\n",
       " 'conv2-6': Conv2d(16, 16, kernel_size=(3, 3), stride=(1, 1), padding=(1, 1), bias=False),\n",
       " 'conv1-7': Conv2d(16, 16, kernel_size=(3, 3), stride=(1, 1), padding=(1, 1), bias=False),\n",
       " 'conv2-8': Conv2d(16, 16, kernel_size=(3, 3), stride=(1, 1), padding=(1, 1), bias=False),\n",
       " 'conv1-9': Conv2d(16, 16, kernel_size=(3, 3), stride=(1, 1), padding=(1, 1), bias=False),\n",
       " 'conv2-10': Conv2d(16, 16, kernel_size=(3, 3), stride=(1, 1), padding=(1, 1), bias=False),\n",
       " 'conv1-11': Conv2d(16, 16, kernel_size=(3, 3), stride=(1, 1), padding=(1, 1), bias=False),\n",
       " 'conv2-12': Conv2d(16, 16, kernel_size=(3, 3), stride=(1, 1), padding=(1, 1), bias=False),\n",
       " 'conv1-13': Conv2d(16, 16, kernel_size=(3, 3), stride=(1, 1), padding=(1, 1), bias=False),\n",
       " 'conv2-14': Conv2d(16, 16, kernel_size=(3, 3), stride=(1, 1), padding=(1, 1), bias=False),\n",
       " 'conv1-15': Conv2d(16, 16, kernel_size=(3, 3), stride=(1, 1), padding=(1, 1), bias=False),\n",
       " 'conv2-16': Conv2d(16, 16, kernel_size=(3, 3), stride=(1, 1), padding=(1, 1), bias=False),\n",
       " 'conv1-17': Conv2d(16, 16, kernel_size=(3, 3), stride=(1, 1), padding=(1, 1), bias=False),\n",
       " 'conv2-18': Conv2d(16, 16, kernel_size=(3, 3), stride=(1, 1), padding=(1, 1), bias=False),\n",
       " 'conv1-19': Conv2d(16, 32, kernel_size=(3, 3), stride=(2, 2), padding=(1, 1), bias=False),\n",
       " 'conv2-20': Conv2d(32, 32, kernel_size=(3, 3), stride=(1, 1), padding=(1, 1), bias=False),\n",
       " 'conv1-21': Conv2d(32, 32, kernel_size=(3, 3), stride=(1, 1), padding=(1, 1), bias=False),\n",
       " 'conv2-22': Conv2d(32, 32, kernel_size=(3, 3), stride=(1, 1), padding=(1, 1), bias=False),\n",
       " 'conv1-23': Conv2d(32, 32, kernel_size=(3, 3), stride=(1, 1), padding=(1, 1), bias=False),\n",
       " 'conv2-24': Conv2d(32, 32, kernel_size=(3, 3), stride=(1, 1), padding=(1, 1), bias=False),\n",
       " 'conv1-25': Conv2d(32, 32, kernel_size=(3, 3), stride=(1, 1), padding=(1, 1), bias=False),\n",
       " 'conv2-26': Conv2d(32, 32, kernel_size=(3, 3), stride=(1, 1), padding=(1, 1), bias=False),\n",
       " 'conv1-27': Conv2d(32, 32, kernel_size=(3, 3), stride=(1, 1), padding=(1, 1), bias=False),\n",
       " 'conv2-28': Conv2d(32, 32, kernel_size=(3, 3), stride=(1, 1), padding=(1, 1), bias=False),\n",
       " 'conv1-29': Conv2d(32, 32, kernel_size=(3, 3), stride=(1, 1), padding=(1, 1), bias=False),\n",
       " 'conv2-30': Conv2d(32, 32, kernel_size=(3, 3), stride=(1, 1), padding=(1, 1), bias=False),\n",
       " 'conv1-31': Conv2d(32, 32, kernel_size=(3, 3), stride=(1, 1), padding=(1, 1), bias=False),\n",
       " 'conv2-32': Conv2d(32, 32, kernel_size=(3, 3), stride=(1, 1), padding=(1, 1), bias=False),\n",
       " 'conv1-33': Conv2d(32, 32, kernel_size=(3, 3), stride=(1, 1), padding=(1, 1), bias=False),\n",
       " 'conv2-34': Conv2d(32, 32, kernel_size=(3, 3), stride=(1, 1), padding=(1, 1), bias=False),\n",
       " 'conv1-35': Conv2d(32, 32, kernel_size=(3, 3), stride=(1, 1), padding=(1, 1), bias=False),\n",
       " 'conv2-36': Conv2d(32, 32, kernel_size=(3, 3), stride=(1, 1), padding=(1, 1), bias=False),\n",
       " 'conv1-37': Conv2d(32, 64, kernel_size=(3, 3), stride=(2, 2), padding=(1, 1), bias=False),\n",
       " 'conv2-38': Conv2d(64, 64, kernel_size=(3, 3), stride=(1, 1), padding=(1, 1), bias=False),\n",
       " 'conv1-39': Conv2d(64, 64, kernel_size=(3, 3), stride=(1, 1), padding=(1, 1), bias=False),\n",
       " 'conv2-40': Conv2d(64, 64, kernel_size=(3, 3), stride=(1, 1), padding=(1, 1), bias=False),\n",
       " 'conv1-41': Conv2d(64, 64, kernel_size=(3, 3), stride=(1, 1), padding=(1, 1), bias=False),\n",
       " 'conv2-42': Conv2d(64, 64, kernel_size=(3, 3), stride=(1, 1), padding=(1, 1), bias=False),\n",
       " 'conv1-43': Conv2d(64, 64, kernel_size=(3, 3), stride=(1, 1), padding=(1, 1), bias=False),\n",
       " 'conv2-44': Conv2d(64, 64, kernel_size=(3, 3), stride=(1, 1), padding=(1, 1), bias=False),\n",
       " 'conv1-45': Conv2d(64, 64, kernel_size=(3, 3), stride=(1, 1), padding=(1, 1), bias=False),\n",
       " 'conv2-46': Conv2d(64, 64, kernel_size=(3, 3), stride=(1, 1), padding=(1, 1), bias=False),\n",
       " 'conv1-47': Conv2d(64, 64, kernel_size=(3, 3), stride=(1, 1), padding=(1, 1), bias=False),\n",
       " 'conv2-48': Conv2d(64, 64, kernel_size=(3, 3), stride=(1, 1), padding=(1, 1), bias=False),\n",
       " 'conv1-49': Conv2d(64, 64, kernel_size=(3, 3), stride=(1, 1), padding=(1, 1), bias=False),\n",
       " 'conv2-50': Conv2d(64, 64, kernel_size=(3, 3), stride=(1, 1), padding=(1, 1), bias=False),\n",
       " 'conv1-51': Conv2d(64, 64, kernel_size=(3, 3), stride=(1, 1), padding=(1, 1), bias=False),\n",
       " 'conv2-52': Conv2d(64, 64, kernel_size=(3, 3), stride=(1, 1), padding=(1, 1), bias=False),\n",
       " 'conv1-53': Conv2d(64, 64, kernel_size=(3, 3), stride=(1, 1), padding=(1, 1), bias=False),\n",
       " 'conv2-54': Conv2d(64, 64, kernel_size=(3, 3), stride=(1, 1), padding=(1, 1), bias=False),\n",
       " 'linear-55': Linear(in_features=64, out_features=10, bias=True)}"
      ]
     },
     "execution_count": 59,
     "metadata": {},
     "output_type": "execute_result"
    }
   ],
   "source": [
    "layer_dict = {}\n",
    "idx=0\n",
    "for name, module in model.named_children():\n",
    "    module.cuda()\n",
    "    if (not isinstance(module, nn.Sequential)\n",
    "        and not isinstance(module, nn.BatchNorm2d)):\n",
    "        layer_dict[name + '-' + str(idx)] = module\n",
    "        idx += 1\n",
    "    else:\n",
    "        for name_2, module_2 in module.named_children():\n",
    "            module_2.cuda()\n",
    "            for name_3, module_3 in module_2.named_children():\n",
    "                module_3.cuda()\n",
    "                if (not isinstance(module_3, nn.Sequential)\n",
    "                    and not isinstance(module_3, nn.BatchNorm2d)\n",
    "                    and 'shortcut' not in name_3):\n",
    "                    layer_dict[name_3 + '-' + str(idx)] = module_3\n",
    "                    idx += 1\n",
    "                    \n",
    "layer_dict\n",
    "# layer_dict['conv1-0']"
   ]
  },
  {
   "cell_type": "markdown",
   "metadata": {},
   "source": [
    "# Attempting to use a Pretrained DenseNet"
   ]
  },
  {
   "cell_type": "code",
   "execution_count": 60,
   "metadata": {},
   "outputs": [],
   "source": [
    "# from densenet import *\n",
    "\n",
    "# model = densenet()\n",
    "# state_dict = torch.load(models_dir + 'DenseNet-BC-100-12.pth', map_location='cpu')['state_dict'] # acc, epoch, state_dict\n",
    "\n",
    "# new_state_dict = OrderedDict()\n",
    "\n",
    "# for k, v in state_dict.items():\n",
    "#     if 'module' in k:\n",
    "#         k = k.replace('module.', '')\n",
    "#     new_state_dict[k]=v\n",
    "    \n",
    "# model.load_state_dict(new_state_dict)"
   ]
  },
  {
   "cell_type": "markdown",
   "metadata": {
    "colab_type": "text",
    "id": "y1SG1byhOK4O"
   },
   "source": [
    "# Train"
   ]
  },
  {
   "cell_type": "code",
   "execution_count": 61,
   "metadata": {
    "colab": {
     "base_uri": "https://localhost:8080/",
     "height": 1000
    },
    "colab_type": "code",
    "id": "YCva0V7uVIZ_",
    "outputId": "ac679882-5052-4b20-f508-6361e8a4050f"
   },
   "outputs": [],
   "source": [
    "# retrain = False\n",
    "# track_low_high = False\n",
    "\n",
    "# model = ConvNet().to(device)\n",
    "# optimizer = optim.SGD(model.parameters(), lr=learning_rate, momentum=momentum)\n",
    "\n",
    "# # check to see if we can just load a previous model\n",
    "# models_dir = 'pretrained_models/cifar10/'\n",
    "# if not os.path.exists(models_dir):\n",
    "#     os.makedirs(models_dir)\n",
    "    \n",
    "# latest_model = None\n",
    "# m_type = model.__class__.__name__\n",
    "# prev_models = glob.glob(models_dir + '*' + m_type + '*.pth')\n",
    "# if prev_models:\n",
    "#     latest_model = max(prev_models, key=os.path.getctime)\n",
    "\n",
    "# if (retrain is False \n",
    "#     and latest_model is not None \n",
    "#     and m_type in latest_model):  \n",
    "#     print('loading model', latest_model)\n",
    "#     model.load_state_dict(torch.load(latest_model))  \n",
    "# else:\n",
    "#     if track_low_high:\n",
    "#         model.init_dict(model.lowhigh_dict, inputs, 'relu', {'low': 0, 'high': 0})\n",
    "#         try:\n",
    "#             for epoch in range(1, n_epochs + 1):\n",
    "#                 model.hook_lowhigh_dict('relu')\n",
    "#                 train(model, device, train_loader, optimizer, epoch)\n",
    "#                 model.remove_hooks()\n",
    "#                 test(model, device, test_loader)    \n",
    "#         finally:\n",
    "#             model.remove_hooks()   \n",
    "#     else:\n",
    "#         for epoch in range(1, n_epochs + 1):\n",
    "#             train(model, device, train_loader, optimizer, epoch)\n",
    "#             acc = test(model, device, test_loader)  \n",
    "#     torch.save(model.state_dict(), models_dir + 'model_' + m_type + '_' + str(datetime.datetime.now()).replace(':','.') + '_' + str(acc) + '.pth')"
   ]
  },
  {
   "cell_type": "markdown",
   "metadata": {
    "colab_type": "text",
    "id": "_xXXilwbZq-v"
   },
   "source": [
    "# Helper Methods"
   ]
  },
  {
   "cell_type": "code",
   "execution_count": 62,
   "metadata": {
    "colab": {},
    "colab_type": "code",
    "id": "Im4wutR6ge14"
   },
   "outputs": [],
   "source": [
    "def atanh(x, eps=1e-2):\n",
    "    \"\"\"\n",
    "    The inverse hyperbolic tangent function, missing in pytorch.\n",
    "\n",
    "    :param x: a tensor or a Variable\n",
    "    :param eps: used to enhance numeric stability\n",
    "    :return: :math:`\\\\tanh^{-1}{x}`, of the same type as ``x``\n",
    "    \"\"\"\n",
    "    x = x * (1 - eps)\n",
    "    return 0.5 * torch.log((1.0 + x) / (1.0 - x))\n",
    "\n",
    "def to_tanh_space(x, box=(-1., 1.)):\n",
    "    \"\"\"\n",
    "    Convert a batch of tensors to tanh-space. This method complements the\n",
    "    implementation of the change-of-variable trick in terms of tanh.\n",
    "\n",
    "    :param x: the batch of tensors, of dimension [B x C x H x W]\n",
    "    :param box: a tuple of lower bound and upper bound of the box constraint\n",
    "    :return: the batch of tensors in tanh-space, of the same dimension;\n",
    "             the returned tensor is on the same device as ``x``\n",
    "    \"\"\"\n",
    "    _box_mul = (box[1] - box[0]) * 0.5\n",
    "    _box_plus = (box[1] + box[0]) * 0.5\n",
    "    return atanh((x - _box_plus) / _box_mul)\n",
    "\n",
    "def from_tanh_space(x, box=(-1., 1.)):\n",
    "    \"\"\"\n",
    "    Convert a batch of tensors from tanh-space to oridinary image space.\n",
    "    This method complements the implementation of the change-of-variable trick\n",
    "    in terms of tanh.\n",
    "\n",
    "    :param x: the batch of tensors, of dimension [B x C x H x W]\n",
    "    :param box: a tuple of lower bound and upper bound of the box constraint\n",
    "    :return: the batch of tensors in ordinary image space, of the same\n",
    "             dimension; the returned tensor is on the same device as ``x``\n",
    "    \"\"\"\n",
    "    _box_mul = (box[1] - box[0]) * 0.5\n",
    "    _box_plus = (box[1] + box[0]) * 0.5\n",
    "    return torch.tanh(x) * _box_mul + _box_plus\n",
    "  \n",
    "def compensate_confidence(outputs, targets):\n",
    "    \"\"\"\n",
    "    Compensate for ``self.confidence`` and returns a new weighted sum\n",
    "    vector.\n",
    "\n",
    "    :param outputs: the weighted sum right before the last layer softmax\n",
    "           normalization, of dimension [B x M]\n",
    "    :type outputs: np.ndarray\n",
    "    :param targets: either the attack targets or the real image labels,\n",
    "           depending on whether or not ``self.targeted``, of dimension [B]\n",
    "    :type targets: np.ndarray\n",
    "    :return: the compensated weighted sum of dimension [B x M]\n",
    "    :rtype: np.ndarray\n",
    "    \"\"\"\n",
    "    outputs_comp = outputs.clone()\n",
    "    rng = torch.range(start=0, end=targets.shape[0]-1, dtype=torch.long, device=device)\n",
    "    # targets = targets.int()\n",
    "    if targeted:\n",
    "        # for each image $i$:\n",
    "        # if targeted, `outputs[i, target_onehot]` should be larger than\n",
    "        # `max(outputs[i, ~target_onehot])` by `self.confidence`\n",
    "        outputs_comp[rng, targets] -= confidence\n",
    "    else:\n",
    "        # for each image $i$:\n",
    "        # if not targeted, `max(outputs[i, ~target_onehot]` should be larger\n",
    "        # than `outputs[i, target_onehot]` (the ground truth image labels)\n",
    "        # by `self.confidence`\n",
    "        outputs_comp[rng, targets] += confidence\n",
    "    return outputs_comp\n",
    "  \n",
    "def attack_successful(prediction, target):\n",
    "    \"\"\"\n",
    "    See whether the underlying attack is successful.\n",
    "    \"\"\"\n",
    "    if targeted:\n",
    "        return prediction == target\n",
    "    else:\n",
    "        return prediction != target\n",
    "      \n",
    "def norm_divergence(data, model, layer, neuron=None, regularizer_weight=None):\n",
    "    \"\"\"\n",
    "    returns the kld between the activations of the specified layer and a uniform pdf\n",
    "    \"\"\"\n",
    "    # extract layer activations as numpy array\n",
    "    layer_activations = torch.squeeze(model.extract_outputs(data=data, layer=layer))\n",
    "    \n",
    "    # normalize over summation (to get a probability density)\n",
    "    out_norm = torch.sum(layer_activations, 0)\n",
    "    out_norm = out_norm / torch.sum(out_norm) + 1e-6 # F.softmax(out_norm, 1)\n",
    "\n",
    "    # create uniform tensor\n",
    "    uniform_tensor = torch.ones(out_norm.shape).to(device)\n",
    "\n",
    "    # normalize over summation (to get a probability density)\n",
    "    uni_norm = uniform_tensor / torch.sum(uniform_tensor)\n",
    "    \n",
    "    # measure divergence between normalized layer activations and uniform distribution\n",
    "    divergence = F.kl_div(input=out_norm.log(), target=uni_norm, reduction='sum')\n",
    "    \n",
    "    # default regularizer if not provided\n",
    "    if regularizer_weight is None:\n",
    "        regularizer_weight = 0.005 \n",
    "    \n",
    "    return regularizer_weight * divergence\n",
    "\n",
    "def norm_divergence2(data, model, module, neuron=None, regularizer_weight=None):\n",
    "    \"\"\"\n",
    "    returns the kld between the activations of the specified layer and a uniform pdf\n",
    "    \"\"\"\n",
    "    data = torch.clamp(data, 0, 1)\n",
    "    \n",
    "    # extract layer activations as numpy array\n",
    "    # NOTE: torch.relu is added just in case the layer is not actually ReLU'd beforehand\n",
    "    #       This is required for the summation and KL-Divergence calculation, otherwise nan\n",
    "    layer_activations = torch.relu(torch.squeeze(model.extract_outputs2(data=data, module=module)))\n",
    "    \n",
    "    # normalize over summation (to get a probability density)\n",
    "    if len(layer_activations.size()) == 1:\n",
    "        out_norm = (layer_activations / torch.sum(layer_activations)) + 1e-20 \n",
    "    elif len(layer_activations.size()) == 2:\n",
    "        out_norm = torch.sum(layer_activations, 0)\n",
    "        out_norm = (out_norm / torch.sum(out_norm)) + 1e-20\n",
    "    else:\n",
    "        out_norm = (layer_activations / torch.sum(layer_activations)) + 1e-20 \n",
    "\n",
    "    # create uniform tensor\n",
    "    uniform_tensor = torch.ones(out_norm.shape).to(device)\n",
    "\n",
    "    # normalize over summation (to get a probability density)\n",
    "    uni_norm = uniform_tensor / torch.sum(uniform_tensor)\n",
    "    \n",
    "    # measure divergence between normalized layer activations and uniform distribution\n",
    "    divergence = F.kl_div(input=out_norm.log(), target=uni_norm, reduction='sum')\n",
    "    \n",
    "    # default regularizer if not provided\n",
    "    if regularizer_weight is None:\n",
    "        regularizer_weight = 0.005 \n",
    "        \n",
    "    if divergence < 0:\n",
    "        print(divergence, layer_activations, out_norm)\n",
    "        torch.save(data, 'data.pt')\n",
    "        torch.save(out_norm, 'out_norm.pt')\n",
    "        torch.save(uni_norm, 'uni_norm.pt')\n",
    "        return None\n",
    "    \n",
    "    return regularizer_weight * divergence\n",
    "\n",
    "def eval_performance(model, originals, adversaries):\n",
    "    pert_output = model(adversaries)\n",
    "    orig_output = model(originals)\n",
    "\n",
    "    pert_pred = torch.argmax(pert_output, dim=1)\n",
    "    orig_pred = torch.argmax(orig_output, dim=1)\n",
    "\n",
    "    pert_correct = pert_pred.eq(targets.data).sum()\n",
    "    orig_correct = orig_pred.eq(targets.data).sum()\n",
    "\n",
    "    pert_acc = 100. * pert_correct / len(targets)\n",
    "    orig_acc = 100. * orig_correct / len(targets)\n",
    "\n",
    "    print('Perturbed Accuracy: {}/{} ({:.0f}%)'.format(pert_correct, len(targets), pert_acc))\n",
    "    print('Original Accuracy: {}/{} ({:.0f}%)'.format(orig_correct, len(targets), orig_acc))\n",
    "    \n",
    "    return pert_acc, orig_acc\n",
    "\n",
    "def sample_images(originals, adversaries, num_samples = 5):\n",
    "    orig_inputs = originals.cpu().detach().numpy()\n",
    "    adv_examples = adversaries.cpu().detach().numpy()\n",
    "    pert_output = model(adversaries)\n",
    "    orig_output = model(originals)\n",
    "    pert_pred = torch.argmax(pert_output, dim=1)\n",
    "    orig_pred = torch.argmax(orig_output, dim=1)\n",
    "    plt.figure(figsize=(15,8))\n",
    "    for i in range(1, num_samples+1):\n",
    "        plt.subplot(2, num_samples, i)\n",
    "        plt.imshow(np.transpose(np.squeeze(orig_inputs[i]), (1, 2, 0)))  \n",
    "        true_idx = targets[i].item()\n",
    "        plt.title('true: {}'.format(classes[true_idx]))\n",
    "        plt.xticks([])\n",
    "        plt.yticks([])\n",
    "\n",
    "        plt.subplot(2, num_samples, num_samples+i)\n",
    "        plt.imshow(np.transpose(np.squeeze(adv_examples[i]), (1, 2, 0)))  \n",
    "        pred_idx = pert_pred[i].item()\n",
    "        orig_idx = orig_pred[i].item()\n",
    "        plt.title('adv_pred: {} - orig_pred: {}'.format(classes[pred_idx], classes[orig_idx]))\n",
    "        plt.xticks([])\n",
    "        plt.yticks([])\n",
    "\n",
    "    plt.tight_layout()\n",
    "    plt.show()"
   ]
  },
  {
   "cell_type": "markdown",
   "metadata": {
    "colab_type": "text",
    "id": "65vIqFkkCkYI"
   },
   "source": [
    "# Attack Time\n",
    "\n",
    "| Version | Loss Function | Scaling Constant | Regularizer | Adversary Selection |\n",
    "| - | - | - | - | - |\n",
    "|  Baseline CW | CW |  True | L2 |  L2 |\n",
    "|  Diversity v1 | CW |  True | Batch Divergence | Instance Divergence |\n",
    "|  Diversity v2 | CW |  False | Batch Divergence | Instance Divergence |\n",
    "|  Diversity v3 | Cross Entropy |  False | Batch Divergence | Instance Divergence |\n",
    "|  Diversity v4 | CW |  True | Batch Divergence | L2 |"
   ]
  },
  {
   "cell_type": "code",
   "execution_count": 63,
   "metadata": {
    "colab": {},
    "colab_type": "code",
    "id": "VbAGYjiGODjF"
   },
   "outputs": [],
   "source": [
    "targeted=False\n",
    "confidence=0.0\n",
    "c_range=(1e-3, 1e10)\n",
    "search_steps=10\n",
    "max_steps=1000\n",
    "abort_early=True\n",
    "optimizer_lr=5e-4\n",
    "\n",
    "mean = (0.485, 0.456, 0.406) # the mean used in inputs normalization\n",
    "std = (0.229, 0.224, 0.225) # the standard deviation used in inputs normalization\n",
    "box = (min((0 - m) / s for m, s in zip(mean, std)),\n",
    "       max((1 - m) / s for m, s in zip(mean, std)))\n",
    "\n",
    "log_frequency = 100"
   ]
  },
  {
   "cell_type": "markdown",
   "metadata": {
    "colab_type": "text",
    "id": "LlxUuPx1zYE-"
   },
   "source": [
    "## Baseline CW\n",
    "\n",
    "| Loss Function | Scaling Constant | Regularizer | Adversary Selection |\n",
    "| - | - | - | - |\n",
    "|  CW |  True | L2 | L2 |"
   ]
  },
  {
   "cell_type": "code",
   "execution_count": 64,
   "metadata": {
    "colab": {},
    "colab_type": "code",
    "id": "KiGJy0r2h4aJ"
   },
   "outputs": [],
   "source": [
    "def cw_l2_attack(model, inputs, targets, targeted=False, confidence=0.0,\n",
    "                 c_range=(1e-3, 1e10), search_steps=5, max_steps=1000, \n",
    "                 abort_early=True, box=(-1., 1.), optimizer_lr=1e-2, \n",
    "                 init_rand=False, log_frequency=10):\n",
    "\n",
    "    batch_size = inputs.size(0)\n",
    "    num_classes = model(torch.tensor(inputs[0][None,:], requires_grad=False)).size(1)\n",
    "\n",
    "    # `lower_bounds`, `upper_bounds` and `scale_consts` are used\n",
    "    # for binary search of each `scale_const` in the batch. The element-wise\n",
    "    # inquality holds: lower_bounds < scale_consts <= upper_bounds\n",
    "    lower_bounds = torch.tensor(np.zeros(batch_size), dtype=torch.float, device=device)\n",
    "    upper_bounds = torch.tensor(np.ones(batch_size) * c_range[1], dtype=torch.float, device=device)\n",
    "    scale_consts = torch.tensor(np.ones(batch_size) * c_range[0], dtype=torch.float, device=device)\n",
    "\n",
    "    # Optimal attack to be found.\n",
    "    # The three \"placeholders\" are defined as:\n",
    "    # - `o_best_l2`          : the least L2 norms\n",
    "    # - `o_best_l2_ppred`    : the perturbed predictions made by the adversarial perturbations with the least L2 norms\n",
    "    # - `o_best_adversaries` : the underlying adversarial example of `o_best_l2_ppred`\n",
    "    o_best_l2 = torch.tensor(np.ones(batch_size) * np.inf, dtype=torch.float, device=device)\n",
    "    o_best_l2_ppred = torch.tensor(-np.ones(batch_size), dtype=torch.float, device=device)\n",
    "    o_best_adversaries = inputs.clone()\n",
    "\n",
    "    # convert `inputs` to tanh-space\n",
    "    inputs_tanh = to_tanh_space(inputs)\n",
    "    targets_oh = F.one_hot(targets).float()\n",
    "\n",
    "    # the perturbation tensor (only one we need to track gradients on)\n",
    "    pert_tanh = torch.zeros(inputs.size(), device=device, requires_grad=True)\n",
    "\n",
    "    optimizer = optim.Adam([pert_tanh], lr=optimizer_lr)\n",
    "\n",
    "    for const_step in range(search_steps):\n",
    "\n",
    "        print('Step', const_step, scale_consts)\n",
    "\n",
    "        # the minimum L2 norms of perturbations found during optimization\n",
    "        best_l2 = torch.tensor(np.ones(batch_size) * np.inf, dtype=torch.float, device=device)\n",
    "\n",
    "        # the perturbed predictions made by the adversarial perturbations with the least L2 norms\n",
    "        best_l2_ppred = torch.tensor(-np.ones(batch_size), dtype=torch.float, device=device)\n",
    "\n",
    "        # previous (summed) batch loss, to be used in early stopping policy\n",
    "        prev_batch_loss = torch.tensor(np.inf, device=device)\n",
    "        ae_tol = torch.tensor(1e-4, device=device)\n",
    "\n",
    "        # optimization steps\n",
    "        for optim_step in range(max_steps):\n",
    "\n",
    "            adversaries = from_tanh_space(inputs_tanh + pert_tanh)\n",
    "            pert_outputs = model(adversaries)\n",
    "\n",
    "            # Calculate L2 norm between adversaries and original inputs\n",
    "            pert_norms = torch.pow(adversaries - inputs, exponent=2)\n",
    "            pert_norms = torch.sum(pert_norms.view(pert_norms.size(0), -1), 1)\n",
    "\n",
    "            target_activ = torch.sum(targets_oh * pert_outputs, 1)\n",
    "            maxother_activ = torch.max(((1 - targets_oh) * pert_outputs - targets_oh * 1e4), 1)[0]\n",
    "\n",
    "            if targeted:           \n",
    "                # if targeted, optimize to make `target_activ` larger than `maxother_activ` by `confidence`\n",
    "                f = torch.clamp(maxother_activ - target_activ + confidence, min=0.0)\n",
    "            else:\n",
    "                # if not targeted, optimize to make `maxother_activ` larger than `target_activ` (the ground truth image labels) by `confidence`\n",
    "                f = torch.clamp(target_activ - maxother_activ + confidence, min=0.0)\n",
    "\n",
    "            # the total loss of current batch, should be of dimension [1]\n",
    "            l2_loss = torch.sum(pert_norms)\n",
    "            cw_loss = torch.sum(scale_consts * f)\n",
    "            batch_loss = cw_loss + l2_loss # torch.sum(pert_norms + scale_consts * f)\n",
    "\n",
    "            # Do optimization for one step\n",
    "            optimizer.zero_grad()\n",
    "            batch_loss.backward()\n",
    "            optimizer.step()\n",
    "\n",
    "            # \"returns\" batch_loss, pert_norms, pert_outputs, adversaries\n",
    "\n",
    "            if optim_step % log_frequency == 0: \n",
    "                print('batch [{}] loss: {} cw_loss: {} l2_loss: {}'.format(optim_step, batch_loss, cw_loss, l2_loss))\n",
    "                # print('pert_norms', pert_norms.size(), pert_norms)\n",
    "                # print('target_activ', target_activ.size(), target_activ)\n",
    "                # print('maxother_activ', maxother_activ.size(), maxother_activ)\n",
    "\n",
    "            if abort_early and not optim_step % (max_steps // 10):   \n",
    "                if batch_loss > prev_batch_loss * (1 - ae_tol):\n",
    "                    break\n",
    "                prev_batch_loss = batch_loss\n",
    "\n",
    "            # update best attack found during optimization\n",
    "            pert_predictions = torch.argmax(pert_outputs, dim=1)\n",
    "            comp_pert_predictions = torch.argmax(compensate_confidence(pert_outputs, targets), dim=1)\n",
    "            for i in range(batch_size):\n",
    "                l2 = pert_norms[i]\n",
    "                cppred = comp_pert_predictions[i]\n",
    "                ppred = pert_predictions[i]\n",
    "                tlabel = targets[i]\n",
    "                ax = adversaries[i]\n",
    "                if attack_successful(cppred, tlabel):\n",
    "                    assert cppred == ppred\n",
    "                    if l2 < best_l2[i]:\n",
    "                        best_l2[i] = l2\n",
    "                        best_l2_ppred[i] = ppred\n",
    "                    if l2 < o_best_l2[i]:\n",
    "                        o_best_l2[i] = l2\n",
    "                        o_best_l2_ppred[i] = ppred\n",
    "                        o_best_adversaries[i] = ax\n",
    "\n",
    "        # binary search of `scale_const`\n",
    "        for i in range(batch_size):\n",
    "            tlabel = targets[i]\n",
    "            if best_l2_ppred[i] != -1:\n",
    "                # successful: attempt to lower `scale_const` by halving it\n",
    "                if scale_consts[i] < upper_bounds[i]:\n",
    "                    upper_bounds[i] = scale_consts[i]\n",
    "                # `upper_bounds[i] == c_range[1]` implies no solution\n",
    "                # found, i.e. upper_bounds[i] has never been updated by\n",
    "                # scale_consts[i] until `scale_consts[i] > 0.1 * c_range[1]`\n",
    "                if upper_bounds[i] < c_range[1] * 0.1:\n",
    "                    scale_consts[i] = (lower_bounds[i] + upper_bounds[i]) / 2\n",
    "            else:\n",
    "                # failure: multiply `scale_const` by ten if no solution\n",
    "                # found; otherwise do binary search\n",
    "                if scale_consts[i] > lower_bounds[i]:\n",
    "                    lower_bounds[i] = scale_consts[i]\n",
    "                if upper_bounds[i] < c_range[1] * 0.1:\n",
    "                    scale_consts[i] = (lower_bounds[i] + upper_bounds[i]) / 2\n",
    "                else:\n",
    "                    scale_consts[i] *= 10\n",
    "                    \n",
    "    return o_best_adversaries"
   ]
  },
  {
   "cell_type": "code",
   "execution_count": null,
   "metadata": {
    "colab": {
     "base_uri": "https://localhost:8080/",
     "height": 952
    },
    "colab_type": "code",
    "id": "kLueeAz4_-MO",
    "outputId": "8077c406-4df7-45b9-d4ab-5aa4bb18e2de",
    "scrolled": true
   },
   "outputs": [
    {
     "name": "stdout",
     "output_type": "stream",
     "text": [
      "Step 0 tensor([0.0010, 0.0010, 0.0010, 0.0010, 0.0010, 0.0010, 0.0010, 0.0010, 0.0010,\n",
      "        0.0010, 0.0010, 0.0010, 0.0010, 0.0010, 0.0010, 0.0010, 0.0010, 0.0010,\n",
      "        0.0010, 0.0010, 0.0010, 0.0010, 0.0010, 0.0010, 0.0010, 0.0010, 0.0010,\n",
      "        0.0010, 0.0010, 0.0010, 0.0010, 0.0010, 0.0010, 0.0010, 0.0010, 0.0010,\n",
      "        0.0010, 0.0010, 0.0010, 0.0010, 0.0010, 0.0010, 0.0010, 0.0010, 0.0010,\n",
      "        0.0010, 0.0010, 0.0010, 0.0010, 0.0010, 0.0010, 0.0010, 0.0010, 0.0010,\n",
      "        0.0010, 0.0010, 0.0010, 0.0010, 0.0010, 0.0010, 0.0010, 0.0010, 0.0010,\n",
      "        0.0010, 0.0010, 0.0010, 0.0010, 0.0010, 0.0010, 0.0010, 0.0010, 0.0010,\n",
      "        0.0010, 0.0010, 0.0010, 0.0010, 0.0010, 0.0010, 0.0010, 0.0010, 0.0010,\n",
      "        0.0010, 0.0010, 0.0010, 0.0010, 0.0010, 0.0010, 0.0010, 0.0010, 0.0010,\n",
      "        0.0010, 0.0010, 0.0010, 0.0010, 0.0010, 0.0010, 0.0010, 0.0010, 0.0010,\n",
      "        0.0010], device='cuda:0')\n",
      "batch [0] loss: 9.885351181030273 cw_loss: 1.0567498207092285 l2_loss: 8.828601837158203\n",
      "batch [100] loss: 1.461879014968872 cw_loss: 0.3586645722389221 l2_loss: 1.1032145023345947\n",
      "batch [200] loss: 1.0728673934936523 cw_loss: 0.32041582465171814 l2_loss: 0.7524515390396118\n",
      "batch [300] loss: 0.9203396439552307 cw_loss: 0.3085957169532776 l2_loss: 0.6117439270019531\n",
      "batch [400] loss: 0.8389430642127991 cw_loss: 0.3046996593475342 l2_loss: 0.5342434048652649\n",
      "batch [500] loss: 0.7845969796180725 cw_loss: 0.2938374876976013 l2_loss: 0.4907594919204712\n",
      "batch [600] loss: 0.7473254799842834 cw_loss: 0.2914595603942871 l2_loss: 0.45586591958999634\n",
      "batch [700] loss: 0.7211034297943115 cw_loss: 0.2902158498764038 l2_loss: 0.4308875501155853\n",
      "batch [800] loss: 0.7009198069572449 cw_loss: 0.28873351216316223 l2_loss: 0.41218629479408264\n",
      "batch [900] loss: 0.6835914850234985 cw_loss: 0.28454717993736267 l2_loss: 0.39904433488845825\n",
      "Step 1 tensor([0.0005, 0.0005, 0.0005, 0.0005, 0.0100, 0.0005, 0.0100, 0.0005, 0.0005,\n",
      "        0.0100, 0.0005, 0.0100, 0.0005, 0.0100, 0.0100, 0.0005, 0.0005, 0.0100,\n",
      "        0.0100, 0.0100, 0.0005, 0.0005, 0.0005, 0.0100, 0.0005, 0.0005, 0.0005,\n",
      "        0.0005, 0.0005, 0.0100, 0.0005, 0.0005, 0.0005, 0.0005, 0.0100, 0.0005,\n",
      "        0.0005, 0.0005, 0.0100, 0.0100, 0.0100, 0.0100, 0.0005, 0.0005, 0.0005,\n",
      "        0.0100, 0.0005, 0.0005, 0.0100, 0.0005, 0.0100, 0.0100, 0.0005, 0.0005,\n",
      "        0.0100, 0.0005, 0.0005, 0.0005, 0.0005, 0.0005, 0.0100, 0.0005, 0.0100,\n",
      "        0.0005, 0.0005, 0.0100, 0.0005, 0.0100, 0.0005, 0.0100, 0.0005, 0.0100,\n",
      "        0.0005, 0.0005, 0.0005, 0.0100, 0.0005, 0.0005, 0.0005, 0.0100, 0.0100,\n",
      "        0.0100, 0.0100, 0.0005, 0.0005, 0.0005, 0.0005, 0.0005, 0.0005, 0.0100,\n",
      "        0.0005, 0.0005, 0.0100, 0.0100, 0.0005, 0.0005, 0.0005, 0.0005, 0.0100,\n",
      "        0.0100], device='cuda:0')\n",
      "batch [0] loss: 3.163323163986206 cw_loss: 2.776090621948242 l2_loss: 0.38723254203796387\n",
      "batch [100] loss: 1.02115797996521 cw_loss: 0.1264389157295227 l2_loss: 0.8947190642356873\n",
      "batch [200] loss: 0.9355829358100891 cw_loss: 0.08681483566761017 l2_loss: 0.8487681150436401\n",
      "batch [300] loss: 0.9083138704299927 cw_loss: 0.07934249192476273 l2_loss: 0.8289713859558105\n",
      "batch [400] loss: 0.8824717402458191 cw_loss: 0.07795841246843338 l2_loss: 0.8045133352279663\n",
      "batch [500] loss: 0.8713789582252502 cw_loss: 0.07141810655593872 l2_loss: 0.7999608516693115\n",
      "batch [600] loss: 0.8556823134422302 cw_loss: 0.07484234869480133 l2_loss: 0.7808399796485901\n",
      "batch [700] loss: 0.8551433086395264 cw_loss: 0.07651898264884949 l2_loss: 0.7786242961883545\n",
      "batch [800] loss: 0.8477624654769897 cw_loss: 0.07388363778591156 l2_loss: 0.773878812789917\n",
      "batch [900] loss: 0.8394240140914917 cw_loss: 0.06827974319458008 l2_loss: 0.7711442708969116\n",
      "Step 2 tensor([0.0008, 0.0003, 0.0003, 0.0003, 0.0055, 0.0003, 0.0055, 0.0003, 0.0003,\n",
      "        0.0055, 0.0008, 0.0055, 0.0003, 0.0055, 0.0055, 0.0003, 0.0008, 0.0055,\n",
      "        0.0055, 0.0055, 0.0003, 0.0003, 0.0003, 0.0055, 0.0003, 0.0003, 0.0003,\n",
      "        0.0008, 0.0003, 0.0055, 0.0003, 0.0003, 0.0003, 0.0003, 0.0055, 0.0003,\n",
      "        0.0003, 0.0003, 0.0055, 0.0055, 0.0055, 0.0055, 0.0003, 0.0008, 0.0003,\n",
      "        0.0055, 0.0003, 0.0003, 0.0055, 0.0008, 0.0055, 0.0055, 0.0003, 0.0003,\n",
      "        0.0055, 0.0003, 0.0008, 0.0003, 0.0003, 0.0003, 0.0055, 0.0003, 0.0055,\n",
      "        0.0003, 0.0003, 0.0055, 0.0003, 0.0055, 0.0008, 0.0055, 0.0003, 0.0055,\n",
      "        0.0003, 0.0003, 0.0003, 0.1000, 0.0008, 0.0003, 0.0003, 0.0055, 0.0055,\n",
      "        0.0055, 0.0055, 0.0008, 0.0003, 0.0003, 0.0003, 0.0003, 0.0008, 0.0055,\n",
      "        0.0003, 0.0003, 0.0055, 0.0055, 0.0003, 0.0003, 0.0008, 0.0003, 0.0055,\n",
      "        0.0055], device='cuda:0')\n",
      "batch [0] loss: 0.9551604390144348 cw_loss: 0.1921578049659729 l2_loss: 0.7630026340484619\n",
      "batch [100] loss: 0.8464929461479187 cw_loss: 0.08839833736419678 l2_loss: 0.7580946087837219\n",
      "batch [200] loss: 0.8165001273155212 cw_loss: 0.060884807258844376 l2_loss: 0.7556152939796448\n",
      "batch [300] loss: 0.8070111870765686 cw_loss: 0.05817991867661476 l2_loss: 0.7488312721252441\n",
      "batch [400] loss: 0.7973836660385132 cw_loss: 0.06242945417761803 l2_loss: 0.7349542379379272\n",
      "batch [500] loss: 0.8009657859802246 cw_loss: 0.0643446296453476 l2_loss: 0.7366211414337158\n"
     ]
    }
   ],
   "source": [
    "cw_advs = cw_l2_attack(model, inputs, targets, targeted=False, confidence=0.0,\n",
    "                       c_range=(1e-3, 1e10), search_steps=3, max_steps=1000, \n",
    "                       abort_early=True, box=box, optimizer_lr=5e-4, \n",
    "                       init_rand=False, log_frequency=100)\n",
    "\n",
    "eval_performance(model, inputs, cw_advs)\n",
    "sample_images(inputs, cw_advs)"
   ]
  },
  {
   "cell_type": "code",
   "execution_count": null,
   "metadata": {
    "colab": {
     "base_uri": "https://localhost:8080/",
     "height": 281
    },
    "colab_type": "code",
    "id": "TLhycjrBPl3j",
    "outputId": "080b9c4b-e448-4118-b69b-e7f3ab829ca9"
   },
   "outputs": [],
   "source": [
    "plt.imshow((cw_advs[1] - inputs[1]).cpu().detach().numpy().transpose(1,2,0)) \n",
    "plt.title(targets[1].cpu().numpy())\n",
    "plt.show()"
   ]
  },
  {
   "cell_type": "markdown",
   "metadata": {
    "colab_type": "text",
    "id": "4PMv-KEuX9Q2"
   },
   "source": [
    "## Diversity Attack v1\n",
    "\n",
    "| Loss Function | Scaling Constant | Regularizer | Adversary Selection |\n",
    "| - | - | - | - |\n",
    "|  CW |  True | L2, Batch Divergence | Instance Divergence |"
   ]
  },
  {
   "cell_type": "code",
   "execution_count": 10,
   "metadata": {
    "colab": {},
    "colab_type": "code",
    "id": "MiwScd1eX1eJ"
   },
   "outputs": [],
   "source": [
    "def cw_div1_attack(model, module, regularizer_weight, inputs, targets, targeted=False, \n",
    "                   confidence=0.0, c_range=(1e-3, 1e10), search_steps=5, max_steps=1000, \n",
    "                   abort_early=True, box=(-1., 1.), optimizer_lr=1e-2, \n",
    "                   init_rand=False, log_frequency=10):\n",
    "\n",
    "    batch_size = inputs.size(0)\n",
    "    num_classes = model(torch.tensor(inputs[0][None,:], requires_grad=False)).size(1)\n",
    "\n",
    "    # `lower_bounds`, `upper_bounds` and `scale_consts` are used\n",
    "    # for binary search of each `scale_const` in the batch. The element-wise\n",
    "    # inquality holds: lower_bounds < scale_consts <= upper_bounds\n",
    "    lower_bounds = torch.tensor(np.zeros(batch_size), dtype=torch.float, device=device)\n",
    "    upper_bounds = torch.tensor(np.ones(batch_size) * c_range[1], dtype=torch.float, device=device)\n",
    "    scale_consts = torch.tensor(np.ones(batch_size) * c_range[0], dtype=torch.float, device=device)\n",
    "\n",
    "    # Optimal attack to be found.\n",
    "    # The three \"placeholders\" are defined as:\n",
    "    # - `o_best_div`         : the least divergences\n",
    "    # - `o_best_div_ppred`   : the perturbed predictions made by the adversarial perturbations with the least divergences\n",
    "    # - `o_best_adversaries` : the underlying adversarial example of `o_best_div_ppred`\n",
    "    o_best_div = torch.tensor(np.ones(batch_size) * np.inf, dtype=torch.float, device=device)\n",
    "    o_best_div_ppred = torch.tensor(-np.ones(batch_size), dtype=torch.float, device=device)\n",
    "    o_best_adversaries = inputs.clone()\n",
    "\n",
    "    # convert `inputs` to tanh-space\n",
    "    inputs_tanh = to_tanh_space(inputs)\n",
    "    targets_oh = F.one_hot(targets).float()\n",
    "\n",
    "    # the perturbation tensor (only one we need to track gradients on)\n",
    "    pert_tanh = torch.zeros(inputs.size(), device=device, requires_grad=True)\n",
    "\n",
    "    optimizer = optim.Adam([pert_tanh], lr=optimizer_lr)\n",
    "\n",
    "    for const_step in range(search_steps):\n",
    "\n",
    "        print('Step', const_step)\n",
    "\n",
    "        # the minimum divergences of perturbations found during optimization\n",
    "        best_div = torch.tensor(np.ones(batch_size) * np.inf, dtype=torch.float, device=device)\n",
    "\n",
    "        # the perturbed predictions made by the adversarial perturbations with the least divergences\n",
    "        best_div_ppred = torch.tensor(-np.ones(batch_size), dtype=torch.float, device=device)\n",
    "\n",
    "        # previous (summed) batch loss, to be used in early stopping policy\n",
    "        prev_batch_loss = torch.tensor(np.inf, device=device)\n",
    "        ae_tol = torch.tensor(1e-4, device=device)\n",
    "\n",
    "        # optimization steps\n",
    "        for optim_step in range(max_steps):\n",
    "\n",
    "            adversaries = from_tanh_space(inputs_tanh + pert_tanh)\n",
    "            pert_outputs = model(adversaries)\n",
    "            \n",
    "            # Calculate L2 norm between adversaries and original inputs\n",
    "            pert_norms = torch.pow(adversaries - inputs, exponent=2)\n",
    "            pert_norms = torch.sum(pert_norms.view(pert_norms.size(0), -1), 1)\n",
    "\n",
    "            # calculate kl divergence for each input to use for adversary selection\n",
    "            divs = []\n",
    "            for i in range(batch_size):\n",
    "                divs.append(norm_divergence2(data=adversaries[i].unsqueeze(0), model=model, module=module, regularizer_weight=regularizer_weight)) \n",
    "            div_norms = torch.tensor(torch.stack(divs), device=device)\n",
    "            \n",
    "            # calculate kl divergence for batch to use in loss function\n",
    "            div_reg = norm_divergence2(data=adversaries, model=model, module=module, regularizer_weight=regularizer_weight)\n",
    "\n",
    "            target_activ = torch.sum(targets_oh * pert_outputs, 1)\n",
    "            maxother_activ = torch.max(((1 - targets_oh) * pert_outputs - targets_oh * 1e4), 1)[0]\n",
    "\n",
    "            if targeted:           \n",
    "                # if targeted, optimize to make `target_activ` larger than `maxother_activ` by `confidence`\n",
    "                f = torch.clamp(maxother_activ - target_activ + confidence, min=0.0)\n",
    "            else:\n",
    "                # if not targeted, optimize to make `maxother_activ` larger than `target_activ` (the ground truth image labels) by `confidence`\n",
    "                f = torch.clamp(target_activ - maxother_activ + confidence, min=0.0)\n",
    "\n",
    "            # the total loss of current batch, should be of dimension [1]\n",
    "            L2_loss = torch.sum(pert_norms)\n",
    "            cw_loss = torch.sum(scale_consts * f)\n",
    "            \n",
    "            batch_loss = cw_loss + L2_loss + div_reg\n",
    "\n",
    "            # Do optimization for one step\n",
    "            optimizer.zero_grad()\n",
    "            batch_loss.backward()\n",
    "            optimizer.step()\n",
    "\n",
    "            # \"returns\" batch_loss, pert_norms, pert_outputs, adversaries\n",
    "\n",
    "            if optim_step % log_frequency == 0: \n",
    "                print('batch [{}] loss: {} cw_loss: {} L2_loss: {} div_reg: {}'.format(optim_step, batch_loss, cw_loss, L2_loss, div_reg))\n",
    "\n",
    "            if abort_early and not optim_step % (max_steps // 10):   \n",
    "                if batch_loss > prev_batch_loss * (1 - ae_tol):\n",
    "                    break\n",
    "                if batch_loss == 0:\n",
    "                    break\n",
    "                prev_batch_loss = batch_loss\n",
    "\n",
    "            # update best attack found during optimization\n",
    "            pert_predictions = torch.argmax(pert_outputs, dim=1)\n",
    "            comp_pert_predictions = torch.argmax(compensate_confidence(pert_outputs, targets), dim=1)\n",
    "            for i in range(batch_size):\n",
    "                div = div_norms[i]\n",
    "                cppred = comp_pert_predictions[i]\n",
    "                ppred = pert_predictions[i]\n",
    "                tlabel = targets[i]\n",
    "                ax = adversaries[i]\n",
    "                if attack_successful(cppred, tlabel):\n",
    "                    assert cppred == ppred\n",
    "                    if div < best_div[i]:\n",
    "                        best_div[i] = div\n",
    "                        best_div_ppred[i] = ppred\n",
    "                    if div < o_best_div[i]:\n",
    "                        o_best_div[i] = div\n",
    "                        o_best_div_ppred[i] = ppred\n",
    "                        o_best_adversaries[i] = ax\n",
    "\n",
    "        # binary search of `scale_const`\n",
    "        for i in range(batch_size):\n",
    "            tlabel = targets[i]\n",
    "            if best_div_ppred[i] != -1:\n",
    "                # successful: attempt to lower `scale_const` by halving it\n",
    "                if scale_consts[i] < upper_bounds[i]:\n",
    "                    upper_bounds[i] = scale_consts[i]\n",
    "                # `upper_bounds[i] == c_range[1]` implies no solution\n",
    "                # found, i.e. upper_bounds[i] has never been updated by\n",
    "                # scale_consts[i] until `scale_consts[i] > 0.1 * c_range[1]`\n",
    "                if upper_bounds[i] < c_range[1] * 0.1:\n",
    "                    scale_consts[i] = (lower_bounds[i] + upper_bounds[i]) / 2\n",
    "            else:\n",
    "                # failure: multiply `scale_const` by ten if no solution\n",
    "                # found; otherwise do binary search\n",
    "                if scale_consts[i] > lower_bounds[i]:\n",
    "                    lower_bounds[i] = scale_consts[i]\n",
    "                if upper_bounds[i] < c_range[1] * 0.1:\n",
    "                    scale_consts[i] = (lower_bounds[i] + upper_bounds[i]) / 2\n",
    "                else:\n",
    "                    scale_consts[i] *= 10\n",
    "                    \n",
    "    return o_best_adversaries, div_norms"
   ]
  },
  {
   "cell_type": "code",
   "execution_count": 12,
   "metadata": {
    "colab": {
     "base_uri": "https://localhost:8080/",
     "height": 763
    },
    "colab_type": "code",
    "id": "BU2t6ERVB6C3",
    "outputId": "9790d78d-a76a-41fa-c676-399614dfd214"
   },
   "outputs": [
    {
     "name": "stdout",
     "output_type": "stream",
     "text": [
      "Step 0\n",
      "batch [0] loss: 28.532894134521484\n"
     ]
    },
    {
     "ename": "KeyboardInterrupt",
     "evalue": "",
     "output_type": "error",
     "traceback": [
      "\u001b[1;31m---------------------------------------------------------------------------\u001b[0m",
      "\u001b[1;31mKeyboardInterrupt\u001b[0m                         Traceback (most recent call last)",
      "\u001b[1;32m<ipython-input-12-73f5f452972d>\u001b[0m in \u001b[0;36m<module>\u001b[1;34m\u001b[0m\n\u001b[0;32m      2\u001b[0m                                           \u001b[0mc_range\u001b[0m\u001b[1;33m=\u001b[0m\u001b[1;33m(\u001b[0m\u001b[1;36m1e-3\u001b[0m\u001b[1;33m,\u001b[0m \u001b[1;36m1e10\u001b[0m\u001b[1;33m)\u001b[0m\u001b[1;33m,\u001b[0m \u001b[0msearch_steps\u001b[0m\u001b[1;33m=\u001b[0m\u001b[1;36m1\u001b[0m\u001b[1;33m,\u001b[0m \u001b[0mmax_steps\u001b[0m\u001b[1;33m=\u001b[0m\u001b[1;36m1000\u001b[0m\u001b[1;33m,\u001b[0m\u001b[1;33m\u001b[0m\u001b[1;33m\u001b[0m\u001b[0m\n\u001b[0;32m      3\u001b[0m                                           \u001b[0mabort_early\u001b[0m\u001b[1;33m=\u001b[0m\u001b[1;32mTrue\u001b[0m\u001b[1;33m,\u001b[0m \u001b[0mbox\u001b[0m\u001b[1;33m=\u001b[0m\u001b[0mbox\u001b[0m\u001b[1;33m,\u001b[0m \u001b[0moptimizer_lr\u001b[0m\u001b[1;33m=\u001b[0m\u001b[1;36m5e-4\u001b[0m\u001b[1;33m,\u001b[0m\u001b[1;33m\u001b[0m\u001b[1;33m\u001b[0m\u001b[0m\n\u001b[1;32m----> 4\u001b[1;33m                                           init_rand=False, log_frequency=100)\n\u001b[0m\u001b[0;32m      5\u001b[0m \u001b[1;33m\u001b[0m\u001b[0m\n\u001b[0;32m      6\u001b[0m \u001b[0meval_performance\u001b[0m\u001b[1;33m(\u001b[0m\u001b[0mmodel\u001b[0m\u001b[1;33m,\u001b[0m \u001b[0minputs\u001b[0m\u001b[1;33m,\u001b[0m \u001b[0mcw_advs_div1\u001b[0m\u001b[1;33m)\u001b[0m\u001b[1;33m\u001b[0m\u001b[1;33m\u001b[0m\u001b[0m\n",
      "\u001b[1;32m<ipython-input-11-5bc57df26e7e>\u001b[0m in \u001b[0;36mcw_div1_attack\u001b[1;34m(model, module, regularizer_weight, inputs, targets, targeted, confidence, c_range, search_steps, max_steps, abort_early, box, optimizer_lr, init_rand, log_frequency)\u001b[0m\n\u001b[0;32m    104\u001b[0m                 \u001b[0mtlabel\u001b[0m \u001b[1;33m=\u001b[0m \u001b[0mtargets\u001b[0m\u001b[1;33m[\u001b[0m\u001b[0mi\u001b[0m\u001b[1;33m]\u001b[0m\u001b[1;33m\u001b[0m\u001b[1;33m\u001b[0m\u001b[0m\n\u001b[0;32m    105\u001b[0m                 \u001b[0max\u001b[0m \u001b[1;33m=\u001b[0m \u001b[0madversaries\u001b[0m\u001b[1;33m[\u001b[0m\u001b[0mi\u001b[0m\u001b[1;33m]\u001b[0m\u001b[1;33m\u001b[0m\u001b[1;33m\u001b[0m\u001b[0m\n\u001b[1;32m--> 106\u001b[1;33m                 \u001b[1;32mif\u001b[0m \u001b[0mattack_successful\u001b[0m\u001b[1;33m(\u001b[0m\u001b[0mcppred\u001b[0m\u001b[1;33m,\u001b[0m \u001b[0mtlabel\u001b[0m\u001b[1;33m)\u001b[0m\u001b[1;33m:\u001b[0m\u001b[1;33m\u001b[0m\u001b[1;33m\u001b[0m\u001b[0m\n\u001b[0m\u001b[0;32m    107\u001b[0m                     \u001b[1;32massert\u001b[0m \u001b[0mcppred\u001b[0m \u001b[1;33m==\u001b[0m \u001b[0mppred\u001b[0m\u001b[1;33m\u001b[0m\u001b[1;33m\u001b[0m\u001b[0m\n\u001b[0;32m    108\u001b[0m                     \u001b[1;32mif\u001b[0m \u001b[0mdiv\u001b[0m \u001b[1;33m<\u001b[0m \u001b[0mbest_div\u001b[0m\u001b[1;33m[\u001b[0m\u001b[0mi\u001b[0m\u001b[1;33m]\u001b[0m\u001b[1;33m:\u001b[0m\u001b[1;33m\u001b[0m\u001b[1;33m\u001b[0m\u001b[0m\n",
      "\u001b[1;31mKeyboardInterrupt\u001b[0m: "
     ]
    }
   ],
   "source": [
    "cw_advs_div1, div_norms1 = cw_div1_attack(model, layer_dict['conv1-0'], 1, inputs, targets, targeted=False, confidence=0.0,\n",
    "                                          c_range=(1e-3, 1e10), search_steps=1, max_steps=1000, \n",
    "                                          abort_early=True, box=box, optimizer_lr=5e-4, \n",
    "                                          init_rand=False, log_frequency=100)\n",
    "\n",
    "eval_performance(model, inputs, cw_advs_div1)\n",
    "sample_images(inputs, cw_advs_div1)"
   ]
  },
  {
   "cell_type": "markdown",
   "metadata": {
    "colab_type": "text",
    "id": "WzVUYdHrRczQ"
   },
   "source": [
    "## Diversity Attack v2\n",
    "\n",
    "| Loss Function | Scaling Constant | Regularizer | Adversary Selection |\n",
    "| - | - | - | - |\n",
    "|  CW |  False | L2, Batch Divergence | Instance Divergence |"
   ]
  },
  {
   "cell_type": "code",
   "execution_count": 11,
   "metadata": {
    "colab": {},
    "colab_type": "code",
    "id": "KRG0FJayRLyi"
   },
   "outputs": [],
   "source": [
    "def cw_div2_attack(model, module, regularizer_weight, inputs, targets, targeted=False, \n",
    "                   confidence=0.0, c_range=(1e-3, 1e10), search_steps=5, max_steps=1000, \n",
    "                   abort_early=True, box=(-1., 1.), optimizer_lr=1e-2, \n",
    "                   init_rand=False, log_frequency=10):\n",
    "\n",
    "    batch_size = inputs.size(0)\n",
    "    num_classes = model(torch.tensor(inputs[0][None,:], requires_grad=False)).size(1)\n",
    "\n",
    "    # Optimal attack to be found.\n",
    "    # The three \"placeholders\" are defined as:\n",
    "    # - `o_best_div`         : the least divergences\n",
    "    # - `o_best_div_ppred`   : the perturbed predictions made by the adversarial perturbations with the least divergences\n",
    "    # - `o_best_adversaries` : the underlying adversarial example of `o_best_div_ppred`\n",
    "    o_best_div = torch.tensor(np.ones(batch_size) * np.inf, dtype=torch.float, device=device)\n",
    "    o_best_div_ppred = torch.tensor(-np.ones(batch_size), dtype=torch.float, device=device)\n",
    "    o_best_adversaries = inputs.clone()\n",
    "\n",
    "    # convert `inputs` to tanh-space\n",
    "    inputs_tanh = to_tanh_space(inputs)\n",
    "    targets_oh = F.one_hot(targets).float()\n",
    "\n",
    "    # the perturbation tensor (only one we need to track gradients on)\n",
    "    pert_tanh = torch.zeros(inputs.size(), device=device, requires_grad=True)\n",
    "\n",
    "    optimizer = optim.Adam([pert_tanh], lr=optimizer_lr)\n",
    "\n",
    "    # the minimum divergences of perturbations found during optimization\n",
    "    best_div = torch.tensor(np.ones(batch_size) * np.inf, dtype=torch.float, device=device)\n",
    "\n",
    "    # the perturbed predictions made by the adversarial perturbations with the least divergences\n",
    "    best_div_ppred = torch.tensor(-np.ones(batch_size), dtype=torch.float, device=device)\n",
    "\n",
    "    # previous (summed) batch loss, to be used in early stopping policy\n",
    "    prev_batch_loss = torch.tensor(np.inf, device=device)\n",
    "    ae_tol = torch.tensor(1e-4, device=device)\n",
    "\n",
    "    # optimization steps\n",
    "    for optim_step in range(max_steps):\n",
    "\n",
    "        adversaries = from_tanh_space(inputs_tanh + pert_tanh)\n",
    "        pert_outputs = model(adversaries)\n",
    "        \n",
    "        # Calculate L2 norm between adversaries and original inputs\n",
    "        pert_norms = torch.pow(adversaries - inputs, exponent=2)\n",
    "        pert_norms = torch.sum(pert_norms.view(pert_norms.size(0), -1), 1)\n",
    "\n",
    "        # calculate kl divergence for each input to use for adversary selection\n",
    "        divs = []\n",
    "        for i in range(batch_size):\n",
    "            divs.append(norm_divergence2(data=adversaries[i].unsqueeze(0), model=model, module=module, regularizer_weight=regularizer_weight)) \n",
    "        div_norms = torch.tensor(torch.stack(divs), device=device)\n",
    "\n",
    "        # calculate kl divergence for batch to use in loss function\n",
    "        div_reg = norm_divergence2(data=adversaries, model=model, module=module, regularizer_weight=regularizer_weight)\n",
    "\n",
    "        target_activ = torch.sum(targets_oh * pert_outputs, 1)\n",
    "        maxother_activ = torch.max(((1 - targets_oh) * pert_outputs - targets_oh * 1e4), 1)[0]\n",
    "\n",
    "        if targeted:           \n",
    "            # if targeted, optimize to make `target_activ` larger than `maxother_activ` by `confidence`\n",
    "            f = torch.clamp(maxother_activ - target_activ + confidence, min=0.0)\n",
    "        else:\n",
    "            # if not targeted, optimize to make `maxother_activ` larger than `target_activ` (the ground truth image labels) by `confidence`\n",
    "            f = torch.clamp(target_activ - maxother_activ + confidence, min=0.0)\n",
    "\n",
    "        # the total loss of current batch, should be of dimension [1]\n",
    "        L2_loss = torch.sum(pert_norms)\n",
    "        cw_loss = torch.sum(f)\n",
    "\n",
    "        batch_loss = cw_loss + L2_loss + div_reg\n",
    "\n",
    "        # Do optimization for one step\n",
    "        optimizer.zero_grad()\n",
    "        batch_loss.backward()\n",
    "        optimizer.step()\n",
    "\n",
    "        # \"returns\" batch_loss, pert_norms, pert_outputs, adversaries\n",
    "\n",
    "        if optim_step % log_frequency == 0: \n",
    "            print('batch [{}] loss: {} cw_loss: {} L2_loss: {} div_reg: {}'.format(optim_step, batch_loss, cw_loss, L2_loss, div_reg))\n",
    "\n",
    "        if abort_early and not optim_step % (max_steps // 10):   \n",
    "            if batch_loss > prev_batch_loss * (1 - ae_tol):\n",
    "                break\n",
    "            if batch_loss == 0:\n",
    "                break\n",
    "            prev_batch_loss = batch_loss\n",
    "\n",
    "        # update best attack found during optimization\n",
    "        pert_predictions = torch.argmax(pert_outputs, dim=1)\n",
    "        comp_pert_predictions = torch.argmax(compensate_confidence(pert_outputs, targets), dim=1)\n",
    "        for i in range(batch_size):\n",
    "            div = div_norms[i]\n",
    "            cppred = comp_pert_predictions[i]\n",
    "            ppred = pert_predictions[i]\n",
    "            tlabel = targets[i]\n",
    "            ax = adversaries[i]\n",
    "            if attack_successful(cppred, tlabel):\n",
    "                assert cppred == ppred\n",
    "                if div < best_div[i]:\n",
    "                    best_div[i] = div\n",
    "                    best_div_ppred[i] = ppred\n",
    "                if div < o_best_div[i]:\n",
    "                    o_best_div[i] = div\n",
    "                    o_best_div_ppred[i] = ppred\n",
    "                    o_best_adversaries[i] = ax\n",
    "                    \n",
    "    return o_best_adversaries, div_norms"
   ]
  },
  {
   "cell_type": "code",
   "execution_count": 14,
   "metadata": {
    "colab": {
     "base_uri": "https://localhost:8080/",
     "height": 746
    },
    "colab_type": "code",
    "id": "j6KVf6RRRLyn",
    "outputId": "e9c689ee-c1aa-49d3-c64c-4cb03de6a4f7"
   },
   "outputs": [
    {
     "name": "stdout",
     "output_type": "stream",
     "text": [
      "batch [0] loss: 1084.2259521484375\n"
     ]
    },
    {
     "ename": "KeyboardInterrupt",
     "evalue": "",
     "output_type": "error",
     "traceback": [
      "\u001b[1;31m---------------------------------------------------------------------------\u001b[0m",
      "\u001b[1;31mKeyboardInterrupt\u001b[0m                         Traceback (most recent call last)",
      "\u001b[1;32m<ipython-input-14-2a9c3afc3e88>\u001b[0m in \u001b[0;36m<module>\u001b[1;34m\u001b[0m\n\u001b[0;32m      9\u001b[0m                                           \u001b[0mc_range\u001b[0m\u001b[1;33m=\u001b[0m\u001b[1;33m(\u001b[0m\u001b[1;36m1e-3\u001b[0m\u001b[1;33m,\u001b[0m \u001b[1;36m1e10\u001b[0m\u001b[1;33m)\u001b[0m\u001b[1;33m,\u001b[0m \u001b[0msearch_steps\u001b[0m\u001b[1;33m=\u001b[0m\u001b[1;36m1\u001b[0m\u001b[1;33m,\u001b[0m \u001b[0mmax_steps\u001b[0m\u001b[1;33m=\u001b[0m\u001b[1;36m1000\u001b[0m\u001b[1;33m,\u001b[0m\u001b[1;33m\u001b[0m\u001b[1;33m\u001b[0m\u001b[0m\n\u001b[0;32m     10\u001b[0m                                           \u001b[0mabort_early\u001b[0m\u001b[1;33m=\u001b[0m\u001b[1;32mTrue\u001b[0m\u001b[1;33m,\u001b[0m \u001b[0mbox\u001b[0m\u001b[1;33m=\u001b[0m\u001b[0mbox\u001b[0m\u001b[1;33m,\u001b[0m \u001b[0moptimizer_lr\u001b[0m\u001b[1;33m=\u001b[0m\u001b[1;36m5e-4\u001b[0m\u001b[1;33m,\u001b[0m\u001b[1;33m\u001b[0m\u001b[1;33m\u001b[0m\u001b[0m\n\u001b[1;32m---> 11\u001b[1;33m                                           init_rand=False, log_frequency=100)\n\u001b[0m\u001b[0;32m     12\u001b[0m \u001b[1;33m\u001b[0m\u001b[0m\n\u001b[0;32m     13\u001b[0m \u001b[0meval_performance\u001b[0m\u001b[1;33m(\u001b[0m\u001b[0mmodel\u001b[0m\u001b[1;33m,\u001b[0m \u001b[0minputs\u001b[0m\u001b[1;33m,\u001b[0m \u001b[0mcw_advs_div2\u001b[0m\u001b[1;33m)\u001b[0m\u001b[1;33m\u001b[0m\u001b[1;33m\u001b[0m\u001b[0m\n",
      "\u001b[1;32m<ipython-input-13-8bbb4ebe1983>\u001b[0m in \u001b[0;36mcw_div2_attack\u001b[1;34m(model, module, regularizer_weight, inputs, targets, targeted, confidence, c_range, search_steps, max_steps, abort_early, box, optimizer_lr, init_rand, log_frequency)\u001b[0m\n\u001b[0;32m     52\u001b[0m \u001b[1;33m\u001b[0m\u001b[0m\n\u001b[0;32m     53\u001b[0m         \u001b[1;31m# calculate kl divergence for batch to use in loss function\u001b[0m\u001b[1;33m\u001b[0m\u001b[1;33m\u001b[0m\u001b[1;33m\u001b[0m\u001b[0m\n\u001b[1;32m---> 54\u001b[1;33m         \u001b[0mdiv_reg\u001b[0m \u001b[1;33m=\u001b[0m \u001b[0mnorm_divergence2\u001b[0m\u001b[1;33m(\u001b[0m\u001b[0mdata\u001b[0m\u001b[1;33m=\u001b[0m\u001b[0madversaries\u001b[0m\u001b[1;33m,\u001b[0m \u001b[0mmodel\u001b[0m\u001b[1;33m=\u001b[0m\u001b[0mmodel\u001b[0m\u001b[1;33m,\u001b[0m \u001b[0mmodule\u001b[0m\u001b[1;33m=\u001b[0m\u001b[0mmodule\u001b[0m\u001b[1;33m,\u001b[0m \u001b[0mregularizer_weight\u001b[0m\u001b[1;33m=\u001b[0m\u001b[0mregularizer_weight\u001b[0m\u001b[1;33m)\u001b[0m\u001b[1;33m\u001b[0m\u001b[1;33m\u001b[0m\u001b[0m\n\u001b[0m\u001b[0;32m     55\u001b[0m \u001b[1;33m\u001b[0m\u001b[0m\n\u001b[0;32m     56\u001b[0m         \u001b[0mtarget_activ\u001b[0m \u001b[1;33m=\u001b[0m \u001b[0mtorch\u001b[0m\u001b[1;33m.\u001b[0m\u001b[0msum\u001b[0m\u001b[1;33m(\u001b[0m\u001b[0mtargets_oh\u001b[0m \u001b[1;33m*\u001b[0m \u001b[0mpert_outputs\u001b[0m\u001b[1;33m,\u001b[0m \u001b[1;36m1\u001b[0m\u001b[1;33m)\u001b[0m\u001b[1;33m\u001b[0m\u001b[1;33m\u001b[0m\u001b[0m\n",
      "\u001b[1;32m<ipython-input-9-c7b77d24b260>\u001b[0m in \u001b[0;36mnorm_divergence2\u001b[1;34m(data, model, module, neuron, regularizer_weight)\u001b[0m\n\u001b[0;32m    125\u001b[0m \u001b[1;33m\u001b[0m\u001b[0m\n\u001b[0;32m    126\u001b[0m     \u001b[1;31m# create uniform tensor\u001b[0m\u001b[1;33m\u001b[0m\u001b[1;33m\u001b[0m\u001b[1;33m\u001b[0m\u001b[0m\n\u001b[1;32m--> 127\u001b[1;33m     \u001b[0muniform_tensor\u001b[0m \u001b[1;33m=\u001b[0m \u001b[0mtorch\u001b[0m\u001b[1;33m.\u001b[0m\u001b[0mones\u001b[0m\u001b[1;33m(\u001b[0m\u001b[0mout_norm\u001b[0m\u001b[1;33m.\u001b[0m\u001b[0mshape\u001b[0m\u001b[1;33m)\u001b[0m\u001b[1;33m.\u001b[0m\u001b[0mto\u001b[0m\u001b[1;33m(\u001b[0m\u001b[0mdevice\u001b[0m\u001b[1;33m)\u001b[0m\u001b[1;33m\u001b[0m\u001b[1;33m\u001b[0m\u001b[0m\n\u001b[0m\u001b[0;32m    128\u001b[0m \u001b[1;33m\u001b[0m\u001b[0m\n\u001b[0;32m    129\u001b[0m     \u001b[1;31m# normalize over summation (to get a probability density)\u001b[0m\u001b[1;33m\u001b[0m\u001b[1;33m\u001b[0m\u001b[1;33m\u001b[0m\u001b[0m\n",
      "\u001b[1;31mKeyboardInterrupt\u001b[0m: "
     ]
    }
   ],
   "source": [
    "# model = model.cpu()\n",
    "# inputs = inputs.cpu()\n",
    "# targets = targets.cpu()\n",
    "# layer_dict['conv1-0'] = layer_dict['conv1-0'].cpu()\n",
    "\n",
    "# device = torch.device('cpu')\n",
    "\n",
    "cw_advs_div2, div_norms2 = cw_div2_attack(model, layer_dict['conv1-0'], 1, inputs, targets, targeted=False, confidence=0.0,\n",
    "                                          c_range=(1e-3, 1e10), search_steps=1, max_steps=1000, \n",
    "                                          abort_early=True, box=box, optimizer_lr=5e-4, \n",
    "                                          init_rand=False, log_frequency=100)\n",
    "\n",
    "eval_performance(model, inputs, cw_advs_div2)\n",
    "sample_images(inputs, cw_advs_div2)"
   ]
  },
  {
   "cell_type": "markdown",
   "metadata": {
    "colab_type": "text",
    "id": "t97ieYCkRLzz"
   },
   "source": [
    "## Diversity Attack v3\n",
    "\n",
    "| Loss Function | Scaling Constant | Regularizer | Adversary Selection |\n",
    "| - | - | - | - |\n",
    "| Cross Entropy |  False | L2, Batch Divergence | Instance Divergence |"
   ]
  },
  {
   "cell_type": "code",
   "execution_count": 12,
   "metadata": {
    "colab": {},
    "colab_type": "code",
    "id": "fuEKLdemRLz1"
   },
   "outputs": [],
   "source": [
    "def cw_div3_attack(model, module, regularizer_weight, inputs, targets, targeted=False, \n",
    "                   confidence=0.0, c_range=(1e-3, 1e10), search_steps=5, max_steps=1000, \n",
    "                   abort_early=True, box=(-1., 1.), optimizer_lr=1e-2, \n",
    "                   init_rand=False, log_frequency=10):\n",
    "\n",
    "    batch_size = inputs.size(0)\n",
    "    num_classes = model(torch.tensor(inputs[0][None,:], requires_grad=False)).size(1)\n",
    "\n",
    "    # Optimal attack to be found.\n",
    "    # The three \"placeholders\" are defined as:\n",
    "    # - `o_best_div`         : the least divergences\n",
    "    # - `o_best_div_ppred`   : the perturbed predictions made by the adversarial perturbations with the least divergences\n",
    "    # - `o_best_adversaries` : the underlying adversarial example of `o_best_div_ppred`\n",
    "    o_best_div = torch.tensor(np.ones(batch_size) * np.inf, dtype=torch.float, device=device)\n",
    "    o_best_div_ppred = torch.tensor(-np.ones(batch_size), dtype=torch.float, device=device)\n",
    "    o_best_adversaries = inputs.clone()\n",
    "\n",
    "    # convert `inputs` to tanh-space\n",
    "    inputs_tanh = to_tanh_space(inputs)\n",
    "    targets_oh = F.one_hot(targets).float()\n",
    "\n",
    "    # the perturbation tensor (only one we need to track gradients on)\n",
    "    pert_tanh = torch.zeros(inputs.size(), device=device, requires_grad=True)\n",
    "\n",
    "    optimizer = optim.Adam([pert_tanh], lr=optimizer_lr)\n",
    "\n",
    "    # the minimum divergences of perturbations found during optimization\n",
    "    best_div = torch.tensor(np.ones(batch_size) * np.inf, dtype=torch.float, device=device)\n",
    "\n",
    "    # the perturbed predictions made by the adversarial perturbations with the least divergences\n",
    "    best_div_ppred = torch.tensor(-np.ones(batch_size), dtype=torch.float, device=device)\n",
    "\n",
    "    # previous (summed) batch loss, to be used in early stopping policy\n",
    "    prev_batch_loss = torch.tensor(np.inf, device=device)\n",
    "    ae_tol = torch.tensor(1e-4, device=device)\n",
    "\n",
    "    # optimization steps\n",
    "    for optim_step in range(max_steps):\n",
    "\n",
    "        adversaries = from_tanh_space(inputs_tanh + pert_tanh)\n",
    "        pert_outputs = model(adversaries)\n",
    "        \n",
    "        # Calculate L2 norm between adversaries and original inputs\n",
    "        pert_norms = torch.pow(adversaries - inputs, exponent=2)\n",
    "        pert_norms = torch.sum(pert_norms.view(pert_norms.size(0), -1), 1)\n",
    "\n",
    "        # calculate kl divergence for each input to use for adversary selection\n",
    "        divs = []\n",
    "        for i in range(batch_size):\n",
    "            divs.append(norm_divergence2(data=adversaries[i].unsqueeze(0), model=model, module=module, regularizer_weight=regularizer_weight)) \n",
    "        div_norms = torch.tensor(torch.stack(divs), device=device)\n",
    "\n",
    "        # calculate kl divergence for batch to use in loss function\n",
    "        div_reg = norm_divergence2(data=adversaries, model=model, module=module, regularizer_weight=regularizer_weight)\n",
    "\n",
    "        loss = -1. * nn.CrossEntropyLoss()(pert_outputs, targets)\n",
    "\n",
    "        # the total loss of current batch, should be of dimension [1]\n",
    "        ce_loss = torch.sum(loss)\n",
    "        L2_loss = torch.sum(pert_norms)\n",
    "        \n",
    "        batch_loss = ce_loss + L2_loss + div_reg\n",
    "\n",
    "        # Do optimization for one step\n",
    "        optimizer.zero_grad()\n",
    "        batch_loss.backward()\n",
    "        optimizer.step()\n",
    "\n",
    "        # \"returns\" batch_loss, pert_norms, pert_outputs, adversaries\n",
    "\n",
    "        if optim_step % log_frequency == 0: \n",
    "            print('batch [{}] loss: {} ce_loss: {} L2_loss: {} div_reg: {}'.format(optim_step, batch_loss, ce_loss, L2_loss, div_reg))\n",
    "\n",
    "        if abort_early and not optim_step % (max_steps // 10):   \n",
    "            if batch_loss > prev_batch_loss * (1 - ae_tol):\n",
    "                break\n",
    "            if batch_loss == 0:\n",
    "                break\n",
    "            prev_batch_loss = batch_loss\n",
    "\n",
    "        # update best attack found during optimization\n",
    "        pert_predictions = torch.argmax(pert_outputs, dim=1)\n",
    "        comp_pert_predictions = torch.argmax(compensate_confidence(pert_outputs, targets), dim=1)\n",
    "        for i in range(batch_size):\n",
    "            div = div_norms[i]\n",
    "            cppred = comp_pert_predictions[i]\n",
    "            ppred = pert_predictions[i]\n",
    "            tlabel = targets[i]\n",
    "            ax = adversaries[i]\n",
    "            if attack_successful(cppred, tlabel):    \n",
    "                assert cppred == ppred\n",
    "                if div < best_div[i]:\n",
    "                    best_div[i] = div\n",
    "                    best_div_ppred[i] = ppred\n",
    "                if div < o_best_div[i]:\n",
    "                    o_best_div[i] = div\n",
    "                    o_best_div_ppred[i] = ppred\n",
    "                    o_best_adversaries[i] = ax\n",
    "                    \n",
    "    return o_best_adversaries, div_norms"
   ]
  },
  {
   "cell_type": "code",
   "execution_count": 16,
   "metadata": {
    "colab": {
     "base_uri": "https://localhost:8080/",
     "height": 746
    },
    "colab_type": "code",
    "id": "xqEO2jx8RLz8",
    "outputId": "80eb9791-172f-4b9b-9583-ebcace75461a"
   },
   "outputs": [
    {
     "name": "stdout",
     "output_type": "stream",
     "text": [
      "batch [0] loss: 27.13928985595703\n"
     ]
    },
    {
     "ename": "KeyboardInterrupt",
     "evalue": "",
     "output_type": "error",
     "traceback": [
      "\u001b[1;31m---------------------------------------------------------------------------\u001b[0m",
      "\u001b[1;31mKeyboardInterrupt\u001b[0m                         Traceback (most recent call last)",
      "\u001b[1;32m<ipython-input-16-8a600c00ce1d>\u001b[0m in \u001b[0;36m<module>\u001b[1;34m\u001b[0m\n\u001b[0;32m      2\u001b[0m                                           \u001b[0mc_range\u001b[0m\u001b[1;33m=\u001b[0m\u001b[1;33m(\u001b[0m\u001b[1;36m1e-3\u001b[0m\u001b[1;33m,\u001b[0m \u001b[1;36m1e10\u001b[0m\u001b[1;33m)\u001b[0m\u001b[1;33m,\u001b[0m \u001b[0msearch_steps\u001b[0m\u001b[1;33m=\u001b[0m\u001b[1;36m1\u001b[0m\u001b[1;33m,\u001b[0m \u001b[0mmax_steps\u001b[0m\u001b[1;33m=\u001b[0m\u001b[1;36m1000\u001b[0m\u001b[1;33m,\u001b[0m\u001b[1;33m\u001b[0m\u001b[1;33m\u001b[0m\u001b[0m\n\u001b[0;32m      3\u001b[0m                                           \u001b[0mabort_early\u001b[0m\u001b[1;33m=\u001b[0m\u001b[1;32mTrue\u001b[0m\u001b[1;33m,\u001b[0m \u001b[0mbox\u001b[0m\u001b[1;33m=\u001b[0m\u001b[0mbox\u001b[0m\u001b[1;33m,\u001b[0m \u001b[0moptimizer_lr\u001b[0m\u001b[1;33m=\u001b[0m\u001b[1;36m5e-4\u001b[0m\u001b[1;33m,\u001b[0m\u001b[1;33m\u001b[0m\u001b[1;33m\u001b[0m\u001b[0m\n\u001b[1;32m----> 4\u001b[1;33m                                           init_rand=False, log_frequency=100)\n\u001b[0m\u001b[0;32m      5\u001b[0m \u001b[1;33m\u001b[0m\u001b[0m\n\u001b[0;32m      6\u001b[0m \u001b[0meval_performance\u001b[0m\u001b[1;33m(\u001b[0m\u001b[0mmodel\u001b[0m\u001b[1;33m,\u001b[0m \u001b[0minputs\u001b[0m\u001b[1;33m,\u001b[0m \u001b[0mcw_advs_div3\u001b[0m\u001b[1;33m)\u001b[0m\u001b[1;33m\u001b[0m\u001b[1;33m\u001b[0m\u001b[0m\n",
      "\u001b[1;32m<ipython-input-15-e6f481c908a7>\u001b[0m in \u001b[0;36mcw_div3_attack\u001b[1;34m(model, module, regularizer_weight, inputs, targets, targeted, confidence, c_range, search_steps, max_steps, abort_early, box, optimizer_lr, init_rand, log_frequency)\u001b[0m\n\u001b[0;32m     48\u001b[0m         \u001b[0mdivs\u001b[0m \u001b[1;33m=\u001b[0m \u001b[1;33m[\u001b[0m\u001b[1;33m]\u001b[0m\u001b[1;33m\u001b[0m\u001b[1;33m\u001b[0m\u001b[0m\n\u001b[0;32m     49\u001b[0m         \u001b[1;32mfor\u001b[0m \u001b[0mi\u001b[0m \u001b[1;32min\u001b[0m \u001b[0mrange\u001b[0m\u001b[1;33m(\u001b[0m\u001b[0mbatch_size\u001b[0m\u001b[1;33m)\u001b[0m\u001b[1;33m:\u001b[0m\u001b[1;33m\u001b[0m\u001b[1;33m\u001b[0m\u001b[0m\n\u001b[1;32m---> 50\u001b[1;33m             \u001b[0mdivs\u001b[0m\u001b[1;33m.\u001b[0m\u001b[0mappend\u001b[0m\u001b[1;33m(\u001b[0m\u001b[0mnorm_divergence2\u001b[0m\u001b[1;33m(\u001b[0m\u001b[0mdata\u001b[0m\u001b[1;33m=\u001b[0m\u001b[0madversaries\u001b[0m\u001b[1;33m[\u001b[0m\u001b[0mi\u001b[0m\u001b[1;33m]\u001b[0m\u001b[1;33m.\u001b[0m\u001b[0munsqueeze\u001b[0m\u001b[1;33m(\u001b[0m\u001b[1;36m0\u001b[0m\u001b[1;33m)\u001b[0m\u001b[1;33m,\u001b[0m \u001b[0mmodel\u001b[0m\u001b[1;33m=\u001b[0m\u001b[0mmodel\u001b[0m\u001b[1;33m,\u001b[0m \u001b[0mmodule\u001b[0m\u001b[1;33m=\u001b[0m\u001b[0mmodule\u001b[0m\u001b[1;33m,\u001b[0m \u001b[0mregularizer_weight\u001b[0m\u001b[1;33m=\u001b[0m\u001b[0mregularizer_weight\u001b[0m\u001b[1;33m)\u001b[0m\u001b[1;33m)\u001b[0m\u001b[1;33m\u001b[0m\u001b[1;33m\u001b[0m\u001b[0m\n\u001b[0m\u001b[0;32m     51\u001b[0m         \u001b[0mdiv_norms\u001b[0m \u001b[1;33m=\u001b[0m \u001b[0mtorch\u001b[0m\u001b[1;33m.\u001b[0m\u001b[0mtensor\u001b[0m\u001b[1;33m(\u001b[0m\u001b[0mtorch\u001b[0m\u001b[1;33m.\u001b[0m\u001b[0mstack\u001b[0m\u001b[1;33m(\u001b[0m\u001b[0mdivs\u001b[0m\u001b[1;33m)\u001b[0m\u001b[1;33m,\u001b[0m \u001b[0mdevice\u001b[0m\u001b[1;33m=\u001b[0m\u001b[0mdevice\u001b[0m\u001b[1;33m)\u001b[0m\u001b[1;33m\u001b[0m\u001b[1;33m\u001b[0m\u001b[0m\n\u001b[0;32m     52\u001b[0m \u001b[1;33m\u001b[0m\u001b[0m\n",
      "\u001b[1;32m<ipython-input-9-c7b77d24b260>\u001b[0m in \u001b[0;36mnorm_divergence2\u001b[1;34m(data, model, module, neuron, regularizer_weight)\u001b[0m\n\u001b[0;32m    113\u001b[0m     \u001b[1;31m# NOTE: torch.relu is added just in case the layer is not actually ReLU'd beforehand\u001b[0m\u001b[1;33m\u001b[0m\u001b[1;33m\u001b[0m\u001b[1;33m\u001b[0m\u001b[0m\n\u001b[0;32m    114\u001b[0m     \u001b[1;31m#       This is required for the summation and KL-Divergence calculation, otherwise nan\u001b[0m\u001b[1;33m\u001b[0m\u001b[1;33m\u001b[0m\u001b[1;33m\u001b[0m\u001b[0m\n\u001b[1;32m--> 115\u001b[1;33m     \u001b[0mlayer_activations\u001b[0m \u001b[1;33m=\u001b[0m \u001b[0mtorch\u001b[0m\u001b[1;33m.\u001b[0m\u001b[0mrelu\u001b[0m\u001b[1;33m(\u001b[0m\u001b[0mtorch\u001b[0m\u001b[1;33m.\u001b[0m\u001b[0msqueeze\u001b[0m\u001b[1;33m(\u001b[0m\u001b[0mmodel\u001b[0m\u001b[1;33m.\u001b[0m\u001b[0mextract_outputs2\u001b[0m\u001b[1;33m(\u001b[0m\u001b[0mdata\u001b[0m\u001b[1;33m=\u001b[0m\u001b[0mdata\u001b[0m\u001b[1;33m,\u001b[0m \u001b[0mmodule\u001b[0m\u001b[1;33m=\u001b[0m\u001b[0mmodule\u001b[0m\u001b[1;33m)\u001b[0m\u001b[1;33m)\u001b[0m\u001b[1;33m)\u001b[0m\u001b[1;33m\u001b[0m\u001b[1;33m\u001b[0m\u001b[0m\n\u001b[0m\u001b[0;32m    116\u001b[0m \u001b[1;33m\u001b[0m\u001b[0m\n\u001b[0;32m    117\u001b[0m     \u001b[1;31m# normalize over summation (to get a probability density)\u001b[0m\u001b[1;33m\u001b[0m\u001b[1;33m\u001b[0m\u001b[1;33m\u001b[0m\u001b[0m\n",
      "\u001b[1;32m~\\Dropbox\\UCLA\\research\\19 Summer\\diversity attacks\\cw attack\\resnet.py\u001b[0m in \u001b[0;36mextract_outputs2\u001b[1;34m(self, data, module, neuron)\u001b[0m\n\u001b[0;32m    122\u001b[0m             \u001b[0moutputs\u001b[0m\u001b[1;33m.\u001b[0m\u001b[0mappend\u001b[0m\u001b[1;33m(\u001b[0m\u001b[0moutput\u001b[0m\u001b[1;33m)\u001b[0m\u001b[1;33m\u001b[0m\u001b[1;33m\u001b[0m\u001b[0m\n\u001b[0;32m    123\u001b[0m         \u001b[0mhandle\u001b[0m \u001b[1;33m=\u001b[0m \u001b[0mmodule\u001b[0m\u001b[1;33m.\u001b[0m\u001b[0mregister_forward_hook\u001b[0m\u001b[1;33m(\u001b[0m\u001b[0mhook\u001b[0m\u001b[1;33m)\u001b[0m\u001b[1;33m\u001b[0m\u001b[1;33m\u001b[0m\u001b[0m\n\u001b[1;32m--> 124\u001b[1;33m         \u001b[0mout\u001b[0m \u001b[1;33m=\u001b[0m \u001b[0mself\u001b[0m\u001b[1;33m(\u001b[0m\u001b[0mdata\u001b[0m\u001b[1;33m)\u001b[0m\u001b[1;33m\u001b[0m\u001b[1;33m\u001b[0m\u001b[0m\n\u001b[0m\u001b[0;32m    125\u001b[0m         \u001b[1;32mif\u001b[0m \u001b[1;32mnot\u001b[0m \u001b[0mneuron\u001b[0m \u001b[1;32mis\u001b[0m \u001b[1;32mNone\u001b[0m\u001b[1;33m:\u001b[0m\u001b[1;33m\u001b[0m\u001b[1;33m\u001b[0m\u001b[0m\n\u001b[0;32m    126\u001b[0m             \u001b[0moutputs\u001b[0m\u001b[1;33m[\u001b[0m\u001b[1;36m0\u001b[0m\u001b[1;33m]\u001b[0m \u001b[1;33m=\u001b[0m \u001b[0moutputs\u001b[0m\u001b[1;33m[\u001b[0m\u001b[1;36m0\u001b[0m\u001b[1;33m]\u001b[0m\u001b[1;33m[\u001b[0m\u001b[1;36m0\u001b[0m\u001b[1;33m]\u001b[0m\u001b[1;33m[\u001b[0m\u001b[0mneuron\u001b[0m\u001b[1;33m]\u001b[0m\u001b[1;33m\u001b[0m\u001b[1;33m\u001b[0m\u001b[0m\n",
      "\u001b[1;32m~\\AppData\\Local\\Continuum\\anaconda3\\envs\\summer19_research\\lib\\site-packages\\torch\\nn\\modules\\module.py\u001b[0m in \u001b[0;36m__call__\u001b[1;34m(self, *input, **kwargs)\u001b[0m\n\u001b[0;32m    491\u001b[0m             \u001b[0mresult\u001b[0m \u001b[1;33m=\u001b[0m \u001b[0mself\u001b[0m\u001b[1;33m.\u001b[0m\u001b[0m_slow_forward\u001b[0m\u001b[1;33m(\u001b[0m\u001b[1;33m*\u001b[0m\u001b[0minput\u001b[0m\u001b[1;33m,\u001b[0m \u001b[1;33m**\u001b[0m\u001b[0mkwargs\u001b[0m\u001b[1;33m)\u001b[0m\u001b[1;33m\u001b[0m\u001b[1;33m\u001b[0m\u001b[0m\n\u001b[0;32m    492\u001b[0m         \u001b[1;32melse\u001b[0m\u001b[1;33m:\u001b[0m\u001b[1;33m\u001b[0m\u001b[1;33m\u001b[0m\u001b[0m\n\u001b[1;32m--> 493\u001b[1;33m             \u001b[0mresult\u001b[0m \u001b[1;33m=\u001b[0m \u001b[0mself\u001b[0m\u001b[1;33m.\u001b[0m\u001b[0mforward\u001b[0m\u001b[1;33m(\u001b[0m\u001b[1;33m*\u001b[0m\u001b[0minput\u001b[0m\u001b[1;33m,\u001b[0m \u001b[1;33m**\u001b[0m\u001b[0mkwargs\u001b[0m\u001b[1;33m)\u001b[0m\u001b[1;33m\u001b[0m\u001b[1;33m\u001b[0m\u001b[0m\n\u001b[0m\u001b[0;32m    494\u001b[0m         \u001b[1;32mfor\u001b[0m \u001b[0mhook\u001b[0m \u001b[1;32min\u001b[0m \u001b[0mself\u001b[0m\u001b[1;33m.\u001b[0m\u001b[0m_forward_hooks\u001b[0m\u001b[1;33m.\u001b[0m\u001b[0mvalues\u001b[0m\u001b[1;33m(\u001b[0m\u001b[1;33m)\u001b[0m\u001b[1;33m:\u001b[0m\u001b[1;33m\u001b[0m\u001b[1;33m\u001b[0m\u001b[0m\n\u001b[0;32m    495\u001b[0m             \u001b[0mhook_result\u001b[0m \u001b[1;33m=\u001b[0m \u001b[0mhook\u001b[0m\u001b[1;33m(\u001b[0m\u001b[0mself\u001b[0m\u001b[1;33m,\u001b[0m \u001b[0minput\u001b[0m\u001b[1;33m,\u001b[0m \u001b[0mresult\u001b[0m\u001b[1;33m)\u001b[0m\u001b[1;33m\u001b[0m\u001b[1;33m\u001b[0m\u001b[0m\n",
      "\u001b[1;32m~\\Dropbox\\UCLA\\research\\19 Summer\\diversity attacks\\cw attack\\resnet.py\u001b[0m in \u001b[0;36mforward\u001b[1;34m(self, x)\u001b[0m\n\u001b[0;32m    111\u001b[0m         \u001b[0mout\u001b[0m \u001b[1;33m=\u001b[0m \u001b[0mself\u001b[0m\u001b[1;33m.\u001b[0m\u001b[0mlayer1\u001b[0m\u001b[1;33m(\u001b[0m\u001b[0mout\u001b[0m\u001b[1;33m)\u001b[0m\u001b[1;33m\u001b[0m\u001b[1;33m\u001b[0m\u001b[0m\n\u001b[0;32m    112\u001b[0m         \u001b[0mout\u001b[0m \u001b[1;33m=\u001b[0m \u001b[0mself\u001b[0m\u001b[1;33m.\u001b[0m\u001b[0mlayer2\u001b[0m\u001b[1;33m(\u001b[0m\u001b[0mout\u001b[0m\u001b[1;33m)\u001b[0m\u001b[1;33m\u001b[0m\u001b[1;33m\u001b[0m\u001b[0m\n\u001b[1;32m--> 113\u001b[1;33m         \u001b[0mout\u001b[0m \u001b[1;33m=\u001b[0m \u001b[0mself\u001b[0m\u001b[1;33m.\u001b[0m\u001b[0mlayer3\u001b[0m\u001b[1;33m(\u001b[0m\u001b[0mout\u001b[0m\u001b[1;33m)\u001b[0m\u001b[1;33m\u001b[0m\u001b[1;33m\u001b[0m\u001b[0m\n\u001b[0m\u001b[0;32m    114\u001b[0m         \u001b[0mout\u001b[0m \u001b[1;33m=\u001b[0m \u001b[0mF\u001b[0m\u001b[1;33m.\u001b[0m\u001b[0mavg_pool2d\u001b[0m\u001b[1;33m(\u001b[0m\u001b[0mout\u001b[0m\u001b[1;33m,\u001b[0m \u001b[0mout\u001b[0m\u001b[1;33m.\u001b[0m\u001b[0msize\u001b[0m\u001b[1;33m(\u001b[0m\u001b[1;33m)\u001b[0m\u001b[1;33m[\u001b[0m\u001b[1;36m3\u001b[0m\u001b[1;33m]\u001b[0m\u001b[1;33m)\u001b[0m\u001b[1;33m\u001b[0m\u001b[1;33m\u001b[0m\u001b[0m\n\u001b[0;32m    115\u001b[0m         \u001b[0mout\u001b[0m \u001b[1;33m=\u001b[0m \u001b[0mout\u001b[0m\u001b[1;33m.\u001b[0m\u001b[0mview\u001b[0m\u001b[1;33m(\u001b[0m\u001b[0mout\u001b[0m\u001b[1;33m.\u001b[0m\u001b[0msize\u001b[0m\u001b[1;33m(\u001b[0m\u001b[1;36m0\u001b[0m\u001b[1;33m)\u001b[0m\u001b[1;33m,\u001b[0m \u001b[1;33m-\u001b[0m\u001b[1;36m1\u001b[0m\u001b[1;33m)\u001b[0m\u001b[1;33m\u001b[0m\u001b[1;33m\u001b[0m\u001b[0m\n",
      "\u001b[1;32m~\\AppData\\Local\\Continuum\\anaconda3\\envs\\summer19_research\\lib\\site-packages\\torch\\nn\\modules\\module.py\u001b[0m in \u001b[0;36m__call__\u001b[1;34m(self, *input, **kwargs)\u001b[0m\n\u001b[0;32m    491\u001b[0m             \u001b[0mresult\u001b[0m \u001b[1;33m=\u001b[0m \u001b[0mself\u001b[0m\u001b[1;33m.\u001b[0m\u001b[0m_slow_forward\u001b[0m\u001b[1;33m(\u001b[0m\u001b[1;33m*\u001b[0m\u001b[0minput\u001b[0m\u001b[1;33m,\u001b[0m \u001b[1;33m**\u001b[0m\u001b[0mkwargs\u001b[0m\u001b[1;33m)\u001b[0m\u001b[1;33m\u001b[0m\u001b[1;33m\u001b[0m\u001b[0m\n\u001b[0;32m    492\u001b[0m         \u001b[1;32melse\u001b[0m\u001b[1;33m:\u001b[0m\u001b[1;33m\u001b[0m\u001b[1;33m\u001b[0m\u001b[0m\n\u001b[1;32m--> 493\u001b[1;33m             \u001b[0mresult\u001b[0m \u001b[1;33m=\u001b[0m \u001b[0mself\u001b[0m\u001b[1;33m.\u001b[0m\u001b[0mforward\u001b[0m\u001b[1;33m(\u001b[0m\u001b[1;33m*\u001b[0m\u001b[0minput\u001b[0m\u001b[1;33m,\u001b[0m \u001b[1;33m**\u001b[0m\u001b[0mkwargs\u001b[0m\u001b[1;33m)\u001b[0m\u001b[1;33m\u001b[0m\u001b[1;33m\u001b[0m\u001b[0m\n\u001b[0m\u001b[0;32m    494\u001b[0m         \u001b[1;32mfor\u001b[0m \u001b[0mhook\u001b[0m \u001b[1;32min\u001b[0m \u001b[0mself\u001b[0m\u001b[1;33m.\u001b[0m\u001b[0m_forward_hooks\u001b[0m\u001b[1;33m.\u001b[0m\u001b[0mvalues\u001b[0m\u001b[1;33m(\u001b[0m\u001b[1;33m)\u001b[0m\u001b[1;33m:\u001b[0m\u001b[1;33m\u001b[0m\u001b[1;33m\u001b[0m\u001b[0m\n\u001b[0;32m    495\u001b[0m             \u001b[0mhook_result\u001b[0m \u001b[1;33m=\u001b[0m \u001b[0mhook\u001b[0m\u001b[1;33m(\u001b[0m\u001b[0mself\u001b[0m\u001b[1;33m,\u001b[0m \u001b[0minput\u001b[0m\u001b[1;33m,\u001b[0m \u001b[0mresult\u001b[0m\u001b[1;33m)\u001b[0m\u001b[1;33m\u001b[0m\u001b[1;33m\u001b[0m\u001b[0m\n",
      "\u001b[1;32m~\\AppData\\Local\\Continuum\\anaconda3\\envs\\summer19_research\\lib\\site-packages\\torch\\nn\\modules\\container.py\u001b[0m in \u001b[0;36mforward\u001b[1;34m(self, input)\u001b[0m\n\u001b[0;32m     90\u001b[0m     \u001b[1;32mdef\u001b[0m \u001b[0mforward\u001b[0m\u001b[1;33m(\u001b[0m\u001b[0mself\u001b[0m\u001b[1;33m,\u001b[0m \u001b[0minput\u001b[0m\u001b[1;33m)\u001b[0m\u001b[1;33m:\u001b[0m\u001b[1;33m\u001b[0m\u001b[1;33m\u001b[0m\u001b[0m\n\u001b[0;32m     91\u001b[0m         \u001b[1;32mfor\u001b[0m \u001b[0mmodule\u001b[0m \u001b[1;32min\u001b[0m \u001b[0mself\u001b[0m\u001b[1;33m.\u001b[0m\u001b[0m_modules\u001b[0m\u001b[1;33m.\u001b[0m\u001b[0mvalues\u001b[0m\u001b[1;33m(\u001b[0m\u001b[1;33m)\u001b[0m\u001b[1;33m:\u001b[0m\u001b[1;33m\u001b[0m\u001b[1;33m\u001b[0m\u001b[0m\n\u001b[1;32m---> 92\u001b[1;33m             \u001b[0minput\u001b[0m \u001b[1;33m=\u001b[0m \u001b[0mmodule\u001b[0m\u001b[1;33m(\u001b[0m\u001b[0minput\u001b[0m\u001b[1;33m)\u001b[0m\u001b[1;33m\u001b[0m\u001b[1;33m\u001b[0m\u001b[0m\n\u001b[0m\u001b[0;32m     93\u001b[0m         \u001b[1;32mreturn\u001b[0m \u001b[0minput\u001b[0m\u001b[1;33m\u001b[0m\u001b[1;33m\u001b[0m\u001b[0m\n\u001b[0;32m     94\u001b[0m \u001b[1;33m\u001b[0m\u001b[0m\n",
      "\u001b[1;32m~\\AppData\\Local\\Continuum\\anaconda3\\envs\\summer19_research\\lib\\site-packages\\torch\\nn\\modules\\module.py\u001b[0m in \u001b[0;36m__call__\u001b[1;34m(self, *input, **kwargs)\u001b[0m\n\u001b[0;32m    491\u001b[0m             \u001b[0mresult\u001b[0m \u001b[1;33m=\u001b[0m \u001b[0mself\u001b[0m\u001b[1;33m.\u001b[0m\u001b[0m_slow_forward\u001b[0m\u001b[1;33m(\u001b[0m\u001b[1;33m*\u001b[0m\u001b[0minput\u001b[0m\u001b[1;33m,\u001b[0m \u001b[1;33m**\u001b[0m\u001b[0mkwargs\u001b[0m\u001b[1;33m)\u001b[0m\u001b[1;33m\u001b[0m\u001b[1;33m\u001b[0m\u001b[0m\n\u001b[0;32m    492\u001b[0m         \u001b[1;32melse\u001b[0m\u001b[1;33m:\u001b[0m\u001b[1;33m\u001b[0m\u001b[1;33m\u001b[0m\u001b[0m\n\u001b[1;32m--> 493\u001b[1;33m             \u001b[0mresult\u001b[0m \u001b[1;33m=\u001b[0m \u001b[0mself\u001b[0m\u001b[1;33m.\u001b[0m\u001b[0mforward\u001b[0m\u001b[1;33m(\u001b[0m\u001b[1;33m*\u001b[0m\u001b[0minput\u001b[0m\u001b[1;33m,\u001b[0m \u001b[1;33m**\u001b[0m\u001b[0mkwargs\u001b[0m\u001b[1;33m)\u001b[0m\u001b[1;33m\u001b[0m\u001b[1;33m\u001b[0m\u001b[0m\n\u001b[0m\u001b[0;32m    494\u001b[0m         \u001b[1;32mfor\u001b[0m \u001b[0mhook\u001b[0m \u001b[1;32min\u001b[0m \u001b[0mself\u001b[0m\u001b[1;33m.\u001b[0m\u001b[0m_forward_hooks\u001b[0m\u001b[1;33m.\u001b[0m\u001b[0mvalues\u001b[0m\u001b[1;33m(\u001b[0m\u001b[1;33m)\u001b[0m\u001b[1;33m:\u001b[0m\u001b[1;33m\u001b[0m\u001b[1;33m\u001b[0m\u001b[0m\n\u001b[0;32m    495\u001b[0m             \u001b[0mhook_result\u001b[0m \u001b[1;33m=\u001b[0m \u001b[0mhook\u001b[0m\u001b[1;33m(\u001b[0m\u001b[0mself\u001b[0m\u001b[1;33m,\u001b[0m \u001b[0minput\u001b[0m\u001b[1;33m,\u001b[0m \u001b[0mresult\u001b[0m\u001b[1;33m)\u001b[0m\u001b[1;33m\u001b[0m\u001b[1;33m\u001b[0m\u001b[0m\n",
      "\u001b[1;32m~\\Dropbox\\UCLA\\research\\19 Summer\\diversity attacks\\cw attack\\resnet.py\u001b[0m in \u001b[0;36mforward\u001b[1;34m(self, x)\u001b[0m\n\u001b[0;32m     78\u001b[0m     \u001b[1;32mdef\u001b[0m \u001b[0mforward\u001b[0m\u001b[1;33m(\u001b[0m\u001b[0mself\u001b[0m\u001b[1;33m,\u001b[0m \u001b[0mx\u001b[0m\u001b[1;33m)\u001b[0m\u001b[1;33m:\u001b[0m\u001b[1;33m\u001b[0m\u001b[1;33m\u001b[0m\u001b[0m\n\u001b[0;32m     79\u001b[0m         \u001b[0mout\u001b[0m \u001b[1;33m=\u001b[0m \u001b[0mF\u001b[0m\u001b[1;33m.\u001b[0m\u001b[0mrelu\u001b[0m\u001b[1;33m(\u001b[0m\u001b[0mself\u001b[0m\u001b[1;33m.\u001b[0m\u001b[0mbn1\u001b[0m\u001b[1;33m(\u001b[0m\u001b[0mself\u001b[0m\u001b[1;33m.\u001b[0m\u001b[0mconv1\u001b[0m\u001b[1;33m(\u001b[0m\u001b[0mx\u001b[0m\u001b[1;33m)\u001b[0m\u001b[1;33m)\u001b[0m\u001b[1;33m)\u001b[0m\u001b[1;33m\u001b[0m\u001b[1;33m\u001b[0m\u001b[0m\n\u001b[1;32m---> 80\u001b[1;33m         \u001b[0mout\u001b[0m \u001b[1;33m=\u001b[0m \u001b[0mself\u001b[0m\u001b[1;33m.\u001b[0m\u001b[0mbn2\u001b[0m\u001b[1;33m(\u001b[0m\u001b[0mself\u001b[0m\u001b[1;33m.\u001b[0m\u001b[0mconv2\u001b[0m\u001b[1;33m(\u001b[0m\u001b[0mout\u001b[0m\u001b[1;33m)\u001b[0m\u001b[1;33m)\u001b[0m\u001b[1;33m\u001b[0m\u001b[1;33m\u001b[0m\u001b[0m\n\u001b[0m\u001b[0;32m     81\u001b[0m         \u001b[0mout\u001b[0m \u001b[1;33m+=\u001b[0m \u001b[0mself\u001b[0m\u001b[1;33m.\u001b[0m\u001b[0mshortcut\u001b[0m\u001b[1;33m(\u001b[0m\u001b[0mx\u001b[0m\u001b[1;33m)\u001b[0m\u001b[1;33m\u001b[0m\u001b[1;33m\u001b[0m\u001b[0m\n\u001b[0;32m     82\u001b[0m         \u001b[0mout\u001b[0m \u001b[1;33m=\u001b[0m \u001b[0mF\u001b[0m\u001b[1;33m.\u001b[0m\u001b[0mrelu\u001b[0m\u001b[1;33m(\u001b[0m\u001b[0mout\u001b[0m\u001b[1;33m)\u001b[0m\u001b[1;33m\u001b[0m\u001b[1;33m\u001b[0m\u001b[0m\n",
      "\u001b[1;32m~\\AppData\\Local\\Continuum\\anaconda3\\envs\\summer19_research\\lib\\site-packages\\torch\\nn\\modules\\module.py\u001b[0m in \u001b[0;36m__call__\u001b[1;34m(self, *input, **kwargs)\u001b[0m\n\u001b[0;32m    491\u001b[0m             \u001b[0mresult\u001b[0m \u001b[1;33m=\u001b[0m \u001b[0mself\u001b[0m\u001b[1;33m.\u001b[0m\u001b[0m_slow_forward\u001b[0m\u001b[1;33m(\u001b[0m\u001b[1;33m*\u001b[0m\u001b[0minput\u001b[0m\u001b[1;33m,\u001b[0m \u001b[1;33m**\u001b[0m\u001b[0mkwargs\u001b[0m\u001b[1;33m)\u001b[0m\u001b[1;33m\u001b[0m\u001b[1;33m\u001b[0m\u001b[0m\n\u001b[0;32m    492\u001b[0m         \u001b[1;32melse\u001b[0m\u001b[1;33m:\u001b[0m\u001b[1;33m\u001b[0m\u001b[1;33m\u001b[0m\u001b[0m\n\u001b[1;32m--> 493\u001b[1;33m             \u001b[0mresult\u001b[0m \u001b[1;33m=\u001b[0m \u001b[0mself\u001b[0m\u001b[1;33m.\u001b[0m\u001b[0mforward\u001b[0m\u001b[1;33m(\u001b[0m\u001b[1;33m*\u001b[0m\u001b[0minput\u001b[0m\u001b[1;33m,\u001b[0m \u001b[1;33m**\u001b[0m\u001b[0mkwargs\u001b[0m\u001b[1;33m)\u001b[0m\u001b[1;33m\u001b[0m\u001b[1;33m\u001b[0m\u001b[0m\n\u001b[0m\u001b[0;32m    494\u001b[0m         \u001b[1;32mfor\u001b[0m \u001b[0mhook\u001b[0m \u001b[1;32min\u001b[0m \u001b[0mself\u001b[0m\u001b[1;33m.\u001b[0m\u001b[0m_forward_hooks\u001b[0m\u001b[1;33m.\u001b[0m\u001b[0mvalues\u001b[0m\u001b[1;33m(\u001b[0m\u001b[1;33m)\u001b[0m\u001b[1;33m:\u001b[0m\u001b[1;33m\u001b[0m\u001b[1;33m\u001b[0m\u001b[0m\n\u001b[0;32m    495\u001b[0m             \u001b[0mhook_result\u001b[0m \u001b[1;33m=\u001b[0m \u001b[0mhook\u001b[0m\u001b[1;33m(\u001b[0m\u001b[0mself\u001b[0m\u001b[1;33m,\u001b[0m \u001b[0minput\u001b[0m\u001b[1;33m,\u001b[0m \u001b[0mresult\u001b[0m\u001b[1;33m)\u001b[0m\u001b[1;33m\u001b[0m\u001b[1;33m\u001b[0m\u001b[0m\n",
      "\u001b[1;32m~\\AppData\\Local\\Continuum\\anaconda3\\envs\\summer19_research\\lib\\site-packages\\torch\\nn\\modules\\conv.py\u001b[0m in \u001b[0;36mforward\u001b[1;34m(self, input)\u001b[0m\n\u001b[0;32m    336\u001b[0m                             _pair(0), self.dilation, self.groups)\n\u001b[0;32m    337\u001b[0m         return F.conv2d(input, self.weight, self.bias, self.stride,\n\u001b[1;32m--> 338\u001b[1;33m                         self.padding, self.dilation, self.groups)\n\u001b[0m\u001b[0;32m    339\u001b[0m \u001b[1;33m\u001b[0m\u001b[0m\n\u001b[0;32m    340\u001b[0m \u001b[1;33m\u001b[0m\u001b[0m\n",
      "\u001b[1;31mKeyboardInterrupt\u001b[0m: "
     ]
    }
   ],
   "source": [
    "cw_advs_div3, div_norms3 = cw_div3_attack(model, layer_dict['conv1-0'], 1, inputs, targets, targeted=False, confidence=0.0,\n",
    "                                          c_range=(1e-3, 1e10), search_steps=1, max_steps=1000, \n",
    "                                          abort_early=True, box=box, optimizer_lr=5e-4, \n",
    "                                          init_rand=False, log_frequency=100)\n",
    "\n",
    "eval_performance(model, inputs, cw_advs_div3)\n",
    "sample_images(inputs, cw_advs_div3)"
   ]
  },
  {
   "cell_type": "markdown",
   "metadata": {
    "colab_type": "text",
    "id": "6PF994rizIz7"
   },
   "source": [
    "## Diversity Attack v4\n",
    "\n",
    "| Loss Function | Scaling Constant | Regularizer | Adversary Selection |\n",
    "| - | - | - | - |\n",
    "| CW |  True | L2, Batch Divergence | L2 |"
   ]
  },
  {
   "cell_type": "code",
   "execution_count": 13,
   "metadata": {
    "colab": {},
    "colab_type": "code",
    "id": "ulKTYiPhzbjv"
   },
   "outputs": [],
   "source": [
    "def cw_div4_attack(model, module, regularizer_weight, inputs, targets, targeted=False, \n",
    "                   confidence=0.0, c_range=(1e-3, 1e10), search_steps=5, max_steps=1000, \n",
    "                   abort_early=True, box=(-1., 1.), optimizer_lr=1e-2, \n",
    "                   init_rand=False, log_frequency=10):\n",
    "\n",
    "    batch_size = inputs.size(0)\n",
    "    num_classes = model(torch.tensor(inputs[0][None,:], requires_grad=False)).size(1)\n",
    "\n",
    "    # `lower_bounds`, `upper_bounds` and `scale_consts` are used\n",
    "    # for binary search of each `scale_const` in the batch. The element-wise\n",
    "    # inquality holds: lower_bounds < scale_consts <= upper_bounds\n",
    "    lower_bounds = torch.tensor(np.zeros(batch_size), dtype=torch.float, device=device)\n",
    "    upper_bounds = torch.tensor(np.ones(batch_size) * c_range[1], dtype=torch.float, device=device)\n",
    "    scale_consts = torch.tensor(np.ones(batch_size) * c_range[0], dtype=torch.float, device=device)\n",
    "\n",
    "    # Optimal attack to be found.\n",
    "    # The three \"placeholders\" are defined as:\n",
    "    # - `o_best_l2`          : the least L2 norms\n",
    "    # - `o_best_l2_ppred`    : the perturbed predictions made by the adversarial perturbations with the least L2 norms\n",
    "    # - `o_best_adversaries` : the underlying adversarial example of `o_best_l2_ppred`\n",
    "    o_best_l2 = torch.tensor(np.ones(batch_size) * np.inf, dtype=torch.float, device=device)\n",
    "    o_best_l2_ppred = torch.tensor(-np.ones(batch_size), dtype=torch.float, device=device)\n",
    "    o_best_adversaries = inputs.clone()\n",
    "\n",
    "    # convert `inputs` to tanh-space\n",
    "    inputs_tanh = to_tanh_space(inputs)\n",
    "    targets_oh = F.one_hot(targets).float()\n",
    "\n",
    "    # the perturbation tensor (only one we need to track gradients on)\n",
    "    pert_tanh = torch.zeros(inputs.size(), device=device, requires_grad=True)\n",
    "\n",
    "    optimizer = optim.Adam([pert_tanh], lr=optimizer_lr)\n",
    "\n",
    "    for const_step in range(search_steps):\n",
    "\n",
    "        print('Step', const_step)\n",
    "\n",
    "        # the minimum L2 norms of perturbations found during optimization\n",
    "        best_l2 = torch.tensor(np.ones(batch_size) * np.inf, dtype=torch.float, device=device)\n",
    "\n",
    "        # the perturbed predictions made by the adversarial perturbations with the least L2 norms\n",
    "        best_l2_ppred = torch.tensor(-np.ones(batch_size), dtype=torch.float, device=device)\n",
    "\n",
    "        # previous (summed) batch loss, to be used in early stopping policy\n",
    "        prev_batch_loss = torch.tensor(np.inf, device=device)\n",
    "        ae_tol = torch.tensor(1e-4, device=device) # abort early tolerance\n",
    "\n",
    "        # optimization steps\n",
    "        for optim_step in range(max_steps):\n",
    "\n",
    "            adversaries = from_tanh_space(inputs_tanh + pert_tanh)\n",
    "            pert_outputs = model(adversaries)\n",
    "\n",
    "            # Calculate L2 norm between adversaries and original inputs to use for adversary selection\n",
    "            pert_norms = torch.pow(adversaries - inputs, exponent=2)\n",
    "            pert_norms = torch.sum(pert_norms.view(pert_norms.size(0), -1), 1)\n",
    "            \n",
    "            # calculate kl divergence for batch to use in loss function\n",
    "            div_reg = norm_divergence2(data=adversaries, model=model, module=module, regularizer_weight=regularizer_weight)\n",
    "\n",
    "            target_activ = torch.sum(targets_oh * pert_outputs, 1)\n",
    "            maxother_activ = torch.max(((1 - targets_oh) * pert_outputs - targets_oh * 1e4), 1)[0]\n",
    "\n",
    "            if targeted:           \n",
    "                # if targeted, optimize to make `target_activ` larger than `maxother_activ` by `confidence`\n",
    "                f = torch.clamp(maxother_activ - target_activ + confidence, min=0.0)\n",
    "            else:\n",
    "                # if not targeted, optimize to make `maxother_activ` larger than `target_activ` (the ground truth image labels) by `confidence`\n",
    "                f = torch.clamp(target_activ - maxother_activ + confidence, min=0.0)\n",
    "\n",
    "            cw_loss = torch.sum(scale_consts * f)\n",
    "            L2_loss = torch.sum(pert_norms)\n",
    "            \n",
    "            batch_loss = cw_loss + div_reg\n",
    "\n",
    "            # Do optimization for one step\n",
    "            optimizer.zero_grad()\n",
    "            batch_loss.backward()\n",
    "            optimizer.step()\n",
    "\n",
    "            # \"returns\" batch_loss, pert_norms, pert_outputs, adversaries\n",
    "\n",
    "            if optim_step % log_frequency == 0: \n",
    "                print('batch [{}] loss: {} cw_loss: {} L2_loss: {} div_reg: {}'.format(optim_step, batch_loss, cw_loss, L2_loss, div_reg))\n",
    "\n",
    "            if abort_early and not optim_step % (max_steps // 10):\n",
    "                if batch_loss > prev_batch_loss * (1 - ae_tol):\n",
    "                    break\n",
    "                if batch_loss == 0:\n",
    "                    break\n",
    "                prev_batch_loss = batch_loss\n",
    "\n",
    "            # update best attack found during optimization\n",
    "            pert_predictions = torch.argmax(pert_outputs, dim=1)\n",
    "            comp_pert_predictions = torch.argmax(compensate_confidence(pert_outputs, targets), dim=1)\n",
    "            for i in range(batch_size):\n",
    "                l2 = pert_norms[i]\n",
    "                cppred = comp_pert_predictions[i]\n",
    "                ppred = pert_predictions[i]\n",
    "                tlabel = targets[i]\n",
    "                ax = adversaries[i]\n",
    "                if attack_successful(cppred, tlabel):\n",
    "                    assert cppred == ppred\n",
    "                    if l2 < best_l2[i]:\n",
    "                        best_l2[i] = l2\n",
    "                        best_l2_ppred[i] = ppred\n",
    "                    if l2 < o_best_l2[i]:\n",
    "                        o_best_l2[i] = l2\n",
    "                        o_best_l2_ppred[i] = ppred\n",
    "                        o_best_adversaries[i] = ax\n",
    "\n",
    "        # binary search of `scale_const`\n",
    "        for i in range(batch_size):\n",
    "            tlabel = targets[i]\n",
    "            if best_l2_ppred[i] != -1:\n",
    "                # successful: attempt to lower `scale_const` by halving it\n",
    "                if scale_consts[i] < upper_bounds[i]:\n",
    "                    upper_bounds[i] = scale_consts[i]\n",
    "                # `upper_bounds[i] == c_range[1]` implies no solution\n",
    "                # found, i.e. upper_bounds[i] has never been updated by\n",
    "                # scale_consts[i] until `scale_consts[i] > 0.1 * c_range[1]`\n",
    "                if upper_bounds[i] < c_range[1] * 0.1:\n",
    "                    scale_consts[i] = (lower_bounds[i] + upper_bounds[i]) / 2\n",
    "            else:\n",
    "                # failure: multiply `scale_const` by ten if no solution\n",
    "                # found; otherwise do binary search\n",
    "                if scale_consts[i] > lower_bounds[i]:\n",
    "                    lower_bounds[i] = scale_consts[i]\n",
    "                if upper_bounds[i] < c_range[1] * 0.1:\n",
    "                    scale_consts[i] = (lower_bounds[i] + upper_bounds[i]) / 2\n",
    "                else:\n",
    "                    scale_consts[i] *= 10\n",
    "                    \n",
    "    return o_best_adversaries, pert_norms"
   ]
  },
  {
   "cell_type": "code",
   "execution_count": 18,
   "metadata": {
    "colab": {
     "base_uri": "https://localhost:8080/",
     "height": 763
    },
    "colab_type": "code",
    "id": "aYp4r_BN1wM7",
    "outputId": "c81ad853-1a57-4f19-9e36-cba27f9d60c9"
   },
   "outputs": [
    {
     "name": "stdout",
     "output_type": "stream",
     "text": [
      "Step 0\n",
      "batch [0] loss: 28.532894134521484 cw_loss: 9.885351181030273 div_reg: 18.64754295349121\n"
     ]
    },
    {
     "ename": "KeyboardInterrupt",
     "evalue": "",
     "output_type": "error",
     "traceback": [
      "\u001b[1;31m---------------------------------------------------------------------------\u001b[0m",
      "\u001b[1;31mKeyboardInterrupt\u001b[0m                         Traceback (most recent call last)",
      "\u001b[1;32m<ipython-input-18-1060b2b53981>\u001b[0m in \u001b[0;36m<module>\u001b[1;34m\u001b[0m\n\u001b[0;32m      2\u001b[0m                                          \u001b[0mc_range\u001b[0m\u001b[1;33m=\u001b[0m\u001b[1;33m(\u001b[0m\u001b[1;36m1e-3\u001b[0m\u001b[1;33m,\u001b[0m \u001b[1;36m1e10\u001b[0m\u001b[1;33m)\u001b[0m\u001b[1;33m,\u001b[0m \u001b[0msearch_steps\u001b[0m\u001b[1;33m=\u001b[0m\u001b[1;36m3\u001b[0m\u001b[1;33m,\u001b[0m \u001b[0mmax_steps\u001b[0m\u001b[1;33m=\u001b[0m\u001b[1;36m1000\u001b[0m\u001b[1;33m,\u001b[0m\u001b[1;33m\u001b[0m\u001b[1;33m\u001b[0m\u001b[0m\n\u001b[0;32m      3\u001b[0m                                          \u001b[0mabort_early\u001b[0m\u001b[1;33m=\u001b[0m\u001b[1;32mTrue\u001b[0m\u001b[1;33m,\u001b[0m \u001b[0mbox\u001b[0m\u001b[1;33m=\u001b[0m\u001b[0mbox\u001b[0m\u001b[1;33m,\u001b[0m \u001b[0moptimizer_lr\u001b[0m\u001b[1;33m=\u001b[0m\u001b[1;36m5e-4\u001b[0m\u001b[1;33m,\u001b[0m\u001b[1;33m\u001b[0m\u001b[1;33m\u001b[0m\u001b[0m\n\u001b[1;32m----> 4\u001b[1;33m                                          init_rand=False, log_frequency=100)\n\u001b[0m\u001b[0;32m      5\u001b[0m \u001b[1;33m\u001b[0m\u001b[0m\n\u001b[0;32m      6\u001b[0m \u001b[0meval_performance\u001b[0m\u001b[1;33m(\u001b[0m\u001b[0mmodel\u001b[0m\u001b[1;33m,\u001b[0m \u001b[0minputs\u001b[0m\u001b[1;33m,\u001b[0m \u001b[0mcw_advs_div4\u001b[0m\u001b[1;33m)\u001b[0m\u001b[1;33m\u001b[0m\u001b[1;33m\u001b[0m\u001b[0m\n",
      "\u001b[1;32m<ipython-input-17-915a0923c284>\u001b[0m in \u001b[0;36mcw_div4_attack\u001b[1;34m(model, module, regularizer_weight, inputs, targets, targeted, confidence, c_range, search_steps, max_steps, abort_early, box, optimizer_lr, init_rand, log_frequency)\u001b[0m\n\u001b[0;32m     57\u001b[0m \u001b[1;33m\u001b[0m\u001b[0m\n\u001b[0;32m     58\u001b[0m             \u001b[1;31m# calculate kl divergence for batch to use in loss function\u001b[0m\u001b[1;33m\u001b[0m\u001b[1;33m\u001b[0m\u001b[1;33m\u001b[0m\u001b[0m\n\u001b[1;32m---> 59\u001b[1;33m             \u001b[0mdiv_reg\u001b[0m \u001b[1;33m=\u001b[0m \u001b[0mnorm_divergence2\u001b[0m\u001b[1;33m(\u001b[0m\u001b[0mdata\u001b[0m\u001b[1;33m=\u001b[0m\u001b[0madversaries\u001b[0m\u001b[1;33m,\u001b[0m \u001b[0mmodel\u001b[0m\u001b[1;33m=\u001b[0m\u001b[0mmodel\u001b[0m\u001b[1;33m,\u001b[0m \u001b[0mmodule\u001b[0m\u001b[1;33m=\u001b[0m\u001b[0mmodule\u001b[0m\u001b[1;33m,\u001b[0m \u001b[0mregularizer_weight\u001b[0m\u001b[1;33m=\u001b[0m\u001b[0mregularizer_weight\u001b[0m\u001b[1;33m)\u001b[0m\u001b[1;33m\u001b[0m\u001b[1;33m\u001b[0m\u001b[0m\n\u001b[0m\u001b[0;32m     60\u001b[0m \u001b[1;33m\u001b[0m\u001b[0m\n\u001b[0;32m     61\u001b[0m             \u001b[0mtarget_activ\u001b[0m \u001b[1;33m=\u001b[0m \u001b[0mtorch\u001b[0m\u001b[1;33m.\u001b[0m\u001b[0msum\u001b[0m\u001b[1;33m(\u001b[0m\u001b[0mtargets_oh\u001b[0m \u001b[1;33m*\u001b[0m \u001b[0mpert_outputs\u001b[0m\u001b[1;33m,\u001b[0m \u001b[1;36m1\u001b[0m\u001b[1;33m)\u001b[0m\u001b[1;33m\u001b[0m\u001b[1;33m\u001b[0m\u001b[0m\n",
      "\u001b[1;32m<ipython-input-9-c7b77d24b260>\u001b[0m in \u001b[0;36mnorm_divergence2\u001b[1;34m(data, model, module, neuron, regularizer_weight)\u001b[0m\n\u001b[0;32m    125\u001b[0m \u001b[1;33m\u001b[0m\u001b[0m\n\u001b[0;32m    126\u001b[0m     \u001b[1;31m# create uniform tensor\u001b[0m\u001b[1;33m\u001b[0m\u001b[1;33m\u001b[0m\u001b[1;33m\u001b[0m\u001b[0m\n\u001b[1;32m--> 127\u001b[1;33m     \u001b[0muniform_tensor\u001b[0m \u001b[1;33m=\u001b[0m \u001b[0mtorch\u001b[0m\u001b[1;33m.\u001b[0m\u001b[0mones\u001b[0m\u001b[1;33m(\u001b[0m\u001b[0mout_norm\u001b[0m\u001b[1;33m.\u001b[0m\u001b[0mshape\u001b[0m\u001b[1;33m)\u001b[0m\u001b[1;33m.\u001b[0m\u001b[0mto\u001b[0m\u001b[1;33m(\u001b[0m\u001b[0mdevice\u001b[0m\u001b[1;33m)\u001b[0m\u001b[1;33m\u001b[0m\u001b[1;33m\u001b[0m\u001b[0m\n\u001b[0m\u001b[0;32m    128\u001b[0m \u001b[1;33m\u001b[0m\u001b[0m\n\u001b[0;32m    129\u001b[0m     \u001b[1;31m# normalize over summation (to get a probability density)\u001b[0m\u001b[1;33m\u001b[0m\u001b[1;33m\u001b[0m\u001b[1;33m\u001b[0m\u001b[0m\n",
      "\u001b[1;31mKeyboardInterrupt\u001b[0m: "
     ]
    }
   ],
   "source": [
    "cw_advs_div4, l2_norms4 = cw_div4_attack(model, layer_dict['conv1-0'], 1, inputs, targets, targeted=False, confidence=0.,\n",
    "                                         c_range=(1e-3, 1e10), search_steps=3, max_steps=1000, \n",
    "                                         abort_early=True, box=box, optimizer_lr=5e-4, \n",
    "                                         init_rand=False, log_frequency=100)\n",
    "\n",
    "eval_performance(model, inputs, cw_advs_div4)\n",
    "sample_images(inputs, cw_advs_div4)"
   ]
  },
  {
   "cell_type": "markdown",
   "metadata": {
    "colab_type": "text",
    "id": "Mo0_HOLTdnKe"
   },
   "source": [
    "# Evaluation"
   ]
  },
  {
   "cell_type": "code",
   "execution_count": 1,
   "metadata": {},
   "outputs": [],
   "source": [
    "# target_layers = list(layer_dict)[0::11]\n",
    "# for layer_idx in target_layers:\n",
    "#     module = layer_dict[layer_idx]\n",
    "#     print(layer_idx, module)"
   ]
  },
  {
   "cell_type": "code",
   "execution_count": 15,
   "metadata": {
    "colab": {
     "base_uri": "https://localhost:8080/",
     "height": 1000
    },
    "colab_type": "code",
    "collapsed": true,
    "id": "aKgn1boNRL0X",
    "outputId": "c86cbb6e-0bcb-4a38-9c87-8aec384222fa"
   },
   "outputs": [
    {
     "name": "stdout",
     "output_type": "stream",
     "text": [
      "timestamp 2019-08-04 22.35.06.941707 attack cw_div4_attack layer:  conv1-0 regularization_weight:  0 confidence:  0\n",
      "Step 0\n",
      "batch [0] loss: 1.0567498207092285 cw_loss: 1.0567498207092285 L2_loss: 8.828601837158203 div_reg: 0.0\n",
      "batch [100] loss: 0.0 cw_loss: 0.0 L2_loss: 19.82769775390625 div_reg: 0.0\n",
      "Step 1\n",
      "batch [0] loss: 0.0 cw_loss: 0.0 L2_loss: 19.8279972076416 div_reg: 0.0\n",
      "Step 2\n",
      "batch [0] loss: 0.0 cw_loss: 0.0 L2_loss: 19.828269958496094 div_reg: 0.0\n",
      "Perturbed Accuracy: 32/100 (32%)\n",
      "Original Accuracy: 93/100 (93%)\n"
     ]
    },
    {
     "name": "stderr",
     "output_type": "stream",
     "text": [
      "Clipping input data to the valid range for imshow with RGB data ([0..1] for floats or [0..255] for integers).\n",
      "Clipping input data to the valid range for imshow with RGB data ([0..1] for floats or [0..255] for integers).\n"
     ]
    },
    {
     "data": {
      "image/png": "[encoded data removed]",
      "text/plain": [
       "<Figure size 1080x576 with 10 Axes>"
      ]
     },
     "metadata": {},
     "output_type": "display_data"
    },
    {
     "name": "stdout",
     "output_type": "stream",
     "text": [
      "timestamp 2019-08-04 22.35.25.791237 attack cw_div4_attack layer:  conv1-0 regularization_weight:  0 confidence:  20\n",
      "Step 0\n",
      "batch [0] loss: 3.026632785797119 cw_loss: 3.026632785797119 L2_loss: 8.828601837158203 div_reg: 0.0\n",
      "batch [100] loss: 0.006887150928378105 cw_loss: 0.006887150928378105 L2_loss: 40.6624755859375 div_reg: 0.0\n",
      "batch [200] loss: 0.0 cw_loss: 0.0 L2_loss: 42.201507568359375 div_reg: 0.0\n",
      "Step 1\n",
      "batch [0] loss: 0.0 cw_loss: 0.0 L2_loss: 42.20256042480469 div_reg: 0.0\n",
      "Step 2\n",
      "batch [0] loss: 0.0 cw_loss: 0.0 L2_loss: 42.203529357910156 div_reg: 0.0\n",
      "Perturbed Accuracy: 14/100 (14%)\n",
      "Original Accuracy: 93/100 (93%)\n"
     ]
    },
    {
     "name": "stderr",
     "output_type": "stream",
     "text": [
      "Clipping input data to the valid range for imshow with RGB data ([0..1] for floats or [0..255] for integers).\n",
      "Clipping input data to the valid range for imshow with RGB data ([0..1] for floats or [0..255] for integers).\n"
     ]
    },
    {
     "data": {
      "image/png": "[encoded data removed]",
      "text/plain": [
       "<Figure size 1080x576 with 10 Axes>"
      ]
     },
     "metadata": {},
     "output_type": "display_data"
    },
    {
     "name": "stdout",
     "output_type": "stream",
     "text": [
      "timestamp 2019-08-04 22.36.02.831180 attack cw_div4_attack layer:  conv1-0 regularization_weight:  0 confidence:  40\n",
      "Step 0\n",
      "batch [0] loss: 5.026633262634277 cw_loss: 5.026633262634277 L2_loss: 8.828601837158203 div_reg: 0.0\n",
      "batch [100] loss: 1.3094902038574219 cw_loss: 1.3094902038574219 L2_loss: 65.62479400634766 div_reg: 0.0\n",
      "batch [200] loss: 0.9764268398284912 cw_loss: 0.9764268398284912 L2_loss: 118.4312744140625 div_reg: 0.0\n"
     ]
    },
    {
     "ename": "KeyboardInterrupt",
     "evalue": "",
     "output_type": "error",
     "traceback": [
      "\u001b[1;31m---------------------------------------------------------------------------\u001b[0m",
      "\u001b[1;31mKeyboardInterrupt\u001b[0m                         Traceback (most recent call last)",
      "\u001b[1;32m<ipython-input-15-ac2ea58b209a>\u001b[0m in \u001b[0;36m<module>\u001b[1;34m\u001b[0m\n\u001b[0;32m     22\u001b[0m                                                    \u001b[0mc_range\u001b[0m\u001b[1;33m=\u001b[0m\u001b[1;33m(\u001b[0m\u001b[1;36m1e-3\u001b[0m\u001b[1;33m,\u001b[0m \u001b[1;36m1e10\u001b[0m\u001b[1;33m)\u001b[0m\u001b[1;33m,\u001b[0m \u001b[0msearch_steps\u001b[0m\u001b[1;33m=\u001b[0m\u001b[1;36m3\u001b[0m\u001b[1;33m,\u001b[0m \u001b[0mmax_steps\u001b[0m\u001b[1;33m=\u001b[0m\u001b[1;36m1000\u001b[0m\u001b[1;33m,\u001b[0m\u001b[1;33m\u001b[0m\u001b[1;33m\u001b[0m\u001b[0m\n\u001b[0;32m     23\u001b[0m                                                    \u001b[0mabort_early\u001b[0m\u001b[1;33m=\u001b[0m\u001b[1;32mTrue\u001b[0m\u001b[1;33m,\u001b[0m \u001b[0mbox\u001b[0m\u001b[1;33m=\u001b[0m\u001b[0mbox\u001b[0m\u001b[1;33m,\u001b[0m \u001b[0moptimizer_lr\u001b[0m\u001b[1;33m=\u001b[0m\u001b[1;36m5e-4\u001b[0m\u001b[1;33m,\u001b[0m\u001b[1;33m\u001b[0m\u001b[1;33m\u001b[0m\u001b[0m\n\u001b[1;32m---> 24\u001b[1;33m                                                    init_rand=False, log_frequency=100)\n\u001b[0m\u001b[0;32m     25\u001b[0m \u001b[1;33m\u001b[0m\u001b[0m\n\u001b[0;32m     26\u001b[0m                 \u001b[0mpert_acc\u001b[0m\u001b[1;33m,\u001b[0m \u001b[0morig_acc\u001b[0m \u001b[1;33m=\u001b[0m \u001b[0meval_performance\u001b[0m\u001b[1;33m(\u001b[0m\u001b[0mmodel\u001b[0m\u001b[1;33m,\u001b[0m \u001b[0minputs\u001b[0m\u001b[1;33m,\u001b[0m \u001b[0mcw_advs_divs\u001b[0m\u001b[1;33m)\u001b[0m\u001b[1;33m\u001b[0m\u001b[1;33m\u001b[0m\u001b[0m\n",
      "\u001b[1;32m<ipython-input-13-57a8ef5c2b2a>\u001b[0m in \u001b[0;36mcw_div4_attack\u001b[1;34m(model, module, regularizer_weight, inputs, targets, targeted, confidence, c_range, search_steps, max_steps, abort_early, box, optimizer_lr, init_rand, log_frequency)\u001b[0m\n\u001b[0;32m    101\u001b[0m                 \u001b[0max\u001b[0m \u001b[1;33m=\u001b[0m \u001b[0madversaries\u001b[0m\u001b[1;33m[\u001b[0m\u001b[0mi\u001b[0m\u001b[1;33m]\u001b[0m\u001b[1;33m\u001b[0m\u001b[1;33m\u001b[0m\u001b[0m\n\u001b[0;32m    102\u001b[0m                 \u001b[1;32mif\u001b[0m \u001b[0mattack_successful\u001b[0m\u001b[1;33m(\u001b[0m\u001b[0mcppred\u001b[0m\u001b[1;33m,\u001b[0m \u001b[0mtlabel\u001b[0m\u001b[1;33m)\u001b[0m\u001b[1;33m:\u001b[0m\u001b[1;33m\u001b[0m\u001b[1;33m\u001b[0m\u001b[0m\n\u001b[1;32m--> 103\u001b[1;33m                     \u001b[1;32massert\u001b[0m \u001b[0mcppred\u001b[0m \u001b[1;33m==\u001b[0m \u001b[0mppred\u001b[0m\u001b[1;33m\u001b[0m\u001b[1;33m\u001b[0m\u001b[0m\n\u001b[0m\u001b[0;32m    104\u001b[0m                     \u001b[1;32mif\u001b[0m \u001b[0ml2\u001b[0m \u001b[1;33m<\u001b[0m \u001b[0mbest_l2\u001b[0m\u001b[1;33m[\u001b[0m\u001b[0mi\u001b[0m\u001b[1;33m]\u001b[0m\u001b[1;33m:\u001b[0m\u001b[1;33m\u001b[0m\u001b[1;33m\u001b[0m\u001b[0m\n\u001b[0;32m    105\u001b[0m                         \u001b[0mbest_l2\u001b[0m\u001b[1;33m[\u001b[0m\u001b[0mi\u001b[0m\u001b[1;33m]\u001b[0m \u001b[1;33m=\u001b[0m \u001b[0ml2\u001b[0m\u001b[1;33m\u001b[0m\u001b[1;33m\u001b[0m\u001b[0m\n",
      "\u001b[1;31mKeyboardInterrupt\u001b[0m: "
     ]
    }
   ],
   "source": [
    "results = []\n",
    "\n",
    "attack_versions = [cw_div4_attack] # [cw_div1_attack, cw_div2_attack, cw_div3_attack, cw_div4_attack]\n",
    "\n",
    "# every nth layer\n",
    "n = 11\n",
    "target_layers = list(layer_dict)[0::n]\n",
    "\n",
    "reg_weights = [0, 0.01, 1, 10]\n",
    "confidences = [0, 20, 40]\n",
    "\n",
    "\n",
    "for attack in attack_versions:\n",
    "    for layer_idx in target_layers:\n",
    "        module = layer_dict[layer_idx]\n",
    "        for rw in reg_weights:\n",
    "            for c in confidences:\n",
    "                timestamp = str(datetime.datetime.now()).replace(':','.')\n",
    "                print('timestamp', timestamp, 'attack', attack.__name__, 'layer: ', layer_idx, 'regularization_weight: ', rw, 'confidence: ', c)\n",
    "                cw_advs_divs, divergences = attack(model, module, rw, inputs, targets, targeted=False, confidence=c,\n",
    "                                                   c_range=(1e-3, 1e10), search_steps=3, max_steps=1000, \n",
    "                                                   abort_early=True, box=box, optimizer_lr=5e-4, \n",
    "                                                   init_rand=False, log_frequency=100)\n",
    "\n",
    "                pert_acc, orig_acc = eval_performance(model, inputs, cw_advs_divs)\n",
    "                sample_images(inputs, cw_advs_divs)\n",
    "\n",
    "                pert_acc = pert_acc.item() / 100.\n",
    "                orig_acc = orig_acc.item() / 100.\n",
    "\n",
    "                out = {'timestamp': timestamp, 'attack': attack.__name__, 'layer': layer_idx, 'regularization_weight': rw, 'confidence': c, 'adversaries': cw_advs_divs, 'divergences':divergences, 'pert_acc':pert_acc, 'orig_acc': orig_acc}\n",
    "                results.append(out)\n",
    "\n",
    "                pickle.dump(results, open( \"assets/results_cifar10.pickle\", \"wb\" ))"
   ]
  },
  {
   "cell_type": "code",
   "execution_count": 11,
   "metadata": {},
   "outputs": [],
   "source": [
    "# load the results from file\n",
    "with open('assets/results_cifar10_div4.pickle', 'rb') as handle:\n",
    "    results = pickle.load(handle)"
   ]
  },
  {
   "cell_type": "code",
   "execution_count": 10,
   "metadata": {
    "colab": {},
    "colab_type": "code",
    "id": "LkkaFKMAmmFl"
   },
   "outputs": [
    {
     "data": {
      "text/html": [
       "<div>\n",
       "<style scoped>\n",
       "    .dataframe tbody tr th:only-of-type {\n",
       "        vertical-align: middle;\n",
       "    }\n",
       "\n",
       "    .dataframe tbody tr th {\n",
       "        vertical-align: top;\n",
       "    }\n",
       "\n",
       "    .dataframe thead th {\n",
       "        text-align: right;\n",
       "    }\n",
       "</style>\n",
       "<table border=\"1\" class=\"dataframe\">\n",
       "  <thead>\n",
       "    <tr style=\"text-align: right;\">\n",
       "      <th></th>\n",
       "      <th>attack</th>\n",
       "      <th>layer</th>\n",
       "      <th>regularization_weight</th>\n",
       "      <th>confidence</th>\n",
       "      <th>orig_acc</th>\n",
       "      <th>pert_acc</th>\n",
       "    </tr>\n",
       "  </thead>\n",
       "  <tbody>\n",
       "    <tr>\n",
       "      <th>0</th>\n",
       "      <td>cw_div4_attack</td>\n",
       "      <td>conv1-0</td>\n",
       "      <td>0.000</td>\n",
       "      <td>0</td>\n",
       "      <td>0.93</td>\n",
       "      <td>0.69</td>\n",
       "    </tr>\n",
       "    <tr>\n",
       "      <th>1</th>\n",
       "      <td>cw_div4_attack</td>\n",
       "      <td>conv1-0</td>\n",
       "      <td>0.000</td>\n",
       "      <td>20</td>\n",
       "      <td>0.93</td>\n",
       "      <td>0.13</td>\n",
       "    </tr>\n",
       "    <tr>\n",
       "      <th>2</th>\n",
       "      <td>cw_div4_attack</td>\n",
       "      <td>conv1-0</td>\n",
       "      <td>0.000</td>\n",
       "      <td>40</td>\n",
       "      <td>0.93</td>\n",
       "      <td>0.10</td>\n",
       "    </tr>\n",
       "    <tr>\n",
       "      <th>3</th>\n",
       "      <td>cw_div4_attack</td>\n",
       "      <td>conv1-0</td>\n",
       "      <td>0.001</td>\n",
       "      <td>0</td>\n",
       "      <td>0.93</td>\n",
       "      <td>0.61</td>\n",
       "    </tr>\n",
       "    <tr>\n",
       "      <th>4</th>\n",
       "      <td>cw_div4_attack</td>\n",
       "      <td>conv1-0</td>\n",
       "      <td>0.001</td>\n",
       "      <td>20</td>\n",
       "      <td>0.93</td>\n",
       "      <td>0.12</td>\n",
       "    </tr>\n",
       "    <tr>\n",
       "      <th>5</th>\n",
       "      <td>cw_div4_attack</td>\n",
       "      <td>conv1-0</td>\n",
       "      <td>0.001</td>\n",
       "      <td>40</td>\n",
       "      <td>0.93</td>\n",
       "      <td>0.12</td>\n",
       "    </tr>\n",
       "    <tr>\n",
       "      <th>6</th>\n",
       "      <td>cw_div4_attack</td>\n",
       "      <td>conv1-0</td>\n",
       "      <td>0.010</td>\n",
       "      <td>0</td>\n",
       "      <td>0.93</td>\n",
       "      <td>0.64</td>\n",
       "    </tr>\n",
       "    <tr>\n",
       "      <th>7</th>\n",
       "      <td>cw_div4_attack</td>\n",
       "      <td>conv1-0</td>\n",
       "      <td>0.010</td>\n",
       "      <td>20</td>\n",
       "      <td>0.93</td>\n",
       "      <td>0.10</td>\n",
       "    </tr>\n",
       "    <tr>\n",
       "      <th>8</th>\n",
       "      <td>cw_div4_attack</td>\n",
       "      <td>conv1-0</td>\n",
       "      <td>0.010</td>\n",
       "      <td>40</td>\n",
       "      <td>0.93</td>\n",
       "      <td>0.11</td>\n",
       "    </tr>\n",
       "    <tr>\n",
       "      <th>9</th>\n",
       "      <td>cw_div4_attack</td>\n",
       "      <td>conv1-0</td>\n",
       "      <td>1.000</td>\n",
       "      <td>0</td>\n",
       "      <td>0.93</td>\n",
       "      <td>0.69</td>\n",
       "    </tr>\n",
       "    <tr>\n",
       "      <th>10</th>\n",
       "      <td>cw_div4_attack</td>\n",
       "      <td>conv1-0</td>\n",
       "      <td>1.000</td>\n",
       "      <td>20</td>\n",
       "      <td>0.93</td>\n",
       "      <td>0.11</td>\n",
       "    </tr>\n",
       "    <tr>\n",
       "      <th>11</th>\n",
       "      <td>cw_div4_attack</td>\n",
       "      <td>conv1-0</td>\n",
       "      <td>1.000</td>\n",
       "      <td>40</td>\n",
       "      <td>0.93</td>\n",
       "      <td>0.12</td>\n",
       "    </tr>\n",
       "    <tr>\n",
       "      <th>12</th>\n",
       "      <td>cw_div4_attack</td>\n",
       "      <td>conv1-0</td>\n",
       "      <td>10.000</td>\n",
       "      <td>0</td>\n",
       "      <td>0.93</td>\n",
       "      <td>0.60</td>\n",
       "    </tr>\n",
       "    <tr>\n",
       "      <th>13</th>\n",
       "      <td>cw_div4_attack</td>\n",
       "      <td>conv1-0</td>\n",
       "      <td>10.000</td>\n",
       "      <td>20</td>\n",
       "      <td>0.93</td>\n",
       "      <td>0.17</td>\n",
       "    </tr>\n",
       "    <tr>\n",
       "      <th>14</th>\n",
       "      <td>cw_div4_attack</td>\n",
       "      <td>conv1-0</td>\n",
       "      <td>10.000</td>\n",
       "      <td>40</td>\n",
       "      <td>0.93</td>\n",
       "      <td>0.13</td>\n",
       "    </tr>\n",
       "    <tr>\n",
       "      <th>15</th>\n",
       "      <td>cw_div4_attack</td>\n",
       "      <td>conv1-0</td>\n",
       "      <td>100.000</td>\n",
       "      <td>0</td>\n",
       "      <td>0.93</td>\n",
       "      <td>0.68</td>\n",
       "    </tr>\n",
       "    <tr>\n",
       "      <th>16</th>\n",
       "      <td>cw_div4_attack</td>\n",
       "      <td>conv1-0</td>\n",
       "      <td>100.000</td>\n",
       "      <td>20</td>\n",
       "      <td>0.93</td>\n",
       "      <td>0.12</td>\n",
       "    </tr>\n",
       "    <tr>\n",
       "      <th>17</th>\n",
       "      <td>cw_div4_attack</td>\n",
       "      <td>conv1-0</td>\n",
       "      <td>100.000</td>\n",
       "      <td>40</td>\n",
       "      <td>0.93</td>\n",
       "      <td>0.13</td>\n",
       "    </tr>\n",
       "    <tr>\n",
       "      <th>18</th>\n",
       "      <td>cw_div4_attack</td>\n",
       "      <td>conv1-11</td>\n",
       "      <td>0.000</td>\n",
       "      <td>0</td>\n",
       "      <td>0.93</td>\n",
       "      <td>0.58</td>\n",
       "    </tr>\n",
       "    <tr>\n",
       "      <th>19</th>\n",
       "      <td>cw_div4_attack</td>\n",
       "      <td>conv1-11</td>\n",
       "      <td>0.000</td>\n",
       "      <td>20</td>\n",
       "      <td>0.93</td>\n",
       "      <td>0.13</td>\n",
       "    </tr>\n",
       "    <tr>\n",
       "      <th>20</th>\n",
       "      <td>cw_div4_attack</td>\n",
       "      <td>conv1-11</td>\n",
       "      <td>0.000</td>\n",
       "      <td>40</td>\n",
       "      <td>0.93</td>\n",
       "      <td>0.13</td>\n",
       "    </tr>\n",
       "    <tr>\n",
       "      <th>21</th>\n",
       "      <td>cw_div4_attack</td>\n",
       "      <td>conv1-11</td>\n",
       "      <td>0.001</td>\n",
       "      <td>0</td>\n",
       "      <td>0.93</td>\n",
       "      <td>0.61</td>\n",
       "    </tr>\n",
       "    <tr>\n",
       "      <th>22</th>\n",
       "      <td>cw_div4_attack</td>\n",
       "      <td>conv1-11</td>\n",
       "      <td>0.001</td>\n",
       "      <td>20</td>\n",
       "      <td>0.93</td>\n",
       "      <td>0.09</td>\n",
       "    </tr>\n",
       "    <tr>\n",
       "      <th>23</th>\n",
       "      <td>cw_div4_attack</td>\n",
       "      <td>conv1-11</td>\n",
       "      <td>0.001</td>\n",
       "      <td>40</td>\n",
       "      <td>0.93</td>\n",
       "      <td>0.11</td>\n",
       "    </tr>\n",
       "    <tr>\n",
       "      <th>24</th>\n",
       "      <td>cw_div4_attack</td>\n",
       "      <td>conv1-11</td>\n",
       "      <td>0.010</td>\n",
       "      <td>0</td>\n",
       "      <td>0.93</td>\n",
       "      <td>0.61</td>\n",
       "    </tr>\n",
       "    <tr>\n",
       "      <th>25</th>\n",
       "      <td>cw_div4_attack</td>\n",
       "      <td>conv1-11</td>\n",
       "      <td>0.010</td>\n",
       "      <td>20</td>\n",
       "      <td>0.93</td>\n",
       "      <td>0.11</td>\n",
       "    </tr>\n",
       "    <tr>\n",
       "      <th>26</th>\n",
       "      <td>cw_div4_attack</td>\n",
       "      <td>conv1-11</td>\n",
       "      <td>0.010</td>\n",
       "      <td>40</td>\n",
       "      <td>0.93</td>\n",
       "      <td>0.12</td>\n",
       "    </tr>\n",
       "    <tr>\n",
       "      <th>27</th>\n",
       "      <td>cw_div4_attack</td>\n",
       "      <td>conv1-11</td>\n",
       "      <td>1.000</td>\n",
       "      <td>0</td>\n",
       "      <td>0.93</td>\n",
       "      <td>0.61</td>\n",
       "    </tr>\n",
       "    <tr>\n",
       "      <th>28</th>\n",
       "      <td>cw_div4_attack</td>\n",
       "      <td>conv1-11</td>\n",
       "      <td>1.000</td>\n",
       "      <td>20</td>\n",
       "      <td>0.93</td>\n",
       "      <td>0.11</td>\n",
       "    </tr>\n",
       "    <tr>\n",
       "      <th>29</th>\n",
       "      <td>cw_div4_attack</td>\n",
       "      <td>conv1-11</td>\n",
       "      <td>1.000</td>\n",
       "      <td>40</td>\n",
       "      <td>0.93</td>\n",
       "      <td>0.09</td>\n",
       "    </tr>\n",
       "    <tr>\n",
       "      <th>30</th>\n",
       "      <td>cw_div4_attack</td>\n",
       "      <td>conv1-11</td>\n",
       "      <td>10.000</td>\n",
       "      <td>0</td>\n",
       "      <td>0.93</td>\n",
       "      <td>0.59</td>\n",
       "    </tr>\n",
       "    <tr>\n",
       "      <th>31</th>\n",
       "      <td>cw_div4_attack</td>\n",
       "      <td>conv1-11</td>\n",
       "      <td>10.000</td>\n",
       "      <td>20</td>\n",
       "      <td>0.93</td>\n",
       "      <td>0.10</td>\n",
       "    </tr>\n",
       "    <tr>\n",
       "      <th>32</th>\n",
       "      <td>cw_div4_attack</td>\n",
       "      <td>conv1-11</td>\n",
       "      <td>10.000</td>\n",
       "      <td>40</td>\n",
       "      <td>0.93</td>\n",
       "      <td>0.11</td>\n",
       "    </tr>\n",
       "    <tr>\n",
       "      <th>33</th>\n",
       "      <td>cw_div4_attack</td>\n",
       "      <td>conv1-11</td>\n",
       "      <td>100.000</td>\n",
       "      <td>0</td>\n",
       "      <td>0.93</td>\n",
       "      <td>0.56</td>\n",
       "    </tr>\n",
       "    <tr>\n",
       "      <th>34</th>\n",
       "      <td>cw_div4_attack</td>\n",
       "      <td>conv1-11</td>\n",
       "      <td>100.000</td>\n",
       "      <td>20</td>\n",
       "      <td>0.93</td>\n",
       "      <td>0.16</td>\n",
       "    </tr>\n",
       "    <tr>\n",
       "      <th>35</th>\n",
       "      <td>cw_div4_attack</td>\n",
       "      <td>conv1-11</td>\n",
       "      <td>100.000</td>\n",
       "      <td>40</td>\n",
       "      <td>0.93</td>\n",
       "      <td>0.28</td>\n",
       "    </tr>\n",
       "    <tr>\n",
       "      <th>36</th>\n",
       "      <td>cw_div4_attack</td>\n",
       "      <td>conv2-22</td>\n",
       "      <td>0.000</td>\n",
       "      <td>0</td>\n",
       "      <td>0.93</td>\n",
       "      <td>0.65</td>\n",
       "    </tr>\n",
       "    <tr>\n",
       "      <th>37</th>\n",
       "      <td>cw_div4_attack</td>\n",
       "      <td>conv2-22</td>\n",
       "      <td>0.000</td>\n",
       "      <td>20</td>\n",
       "      <td>0.93</td>\n",
       "      <td>0.17</td>\n",
       "    </tr>\n",
       "    <tr>\n",
       "      <th>38</th>\n",
       "      <td>cw_div4_attack</td>\n",
       "      <td>conv2-22</td>\n",
       "      <td>0.000</td>\n",
       "      <td>40</td>\n",
       "      <td>0.93</td>\n",
       "      <td>0.12</td>\n",
       "    </tr>\n",
       "    <tr>\n",
       "      <th>39</th>\n",
       "      <td>cw_div4_attack</td>\n",
       "      <td>conv2-22</td>\n",
       "      <td>0.001</td>\n",
       "      <td>0</td>\n",
       "      <td>0.93</td>\n",
       "      <td>0.63</td>\n",
       "    </tr>\n",
       "    <tr>\n",
       "      <th>40</th>\n",
       "      <td>cw_div4_attack</td>\n",
       "      <td>conv2-22</td>\n",
       "      <td>0.001</td>\n",
       "      <td>20</td>\n",
       "      <td>0.93</td>\n",
       "      <td>0.11</td>\n",
       "    </tr>\n",
       "    <tr>\n",
       "      <th>41</th>\n",
       "      <td>cw_div4_attack</td>\n",
       "      <td>conv2-22</td>\n",
       "      <td>0.001</td>\n",
       "      <td>40</td>\n",
       "      <td>0.93</td>\n",
       "      <td>0.13</td>\n",
       "    </tr>\n",
       "    <tr>\n",
       "      <th>42</th>\n",
       "      <td>cw_div4_attack</td>\n",
       "      <td>conv2-22</td>\n",
       "      <td>0.010</td>\n",
       "      <td>0</td>\n",
       "      <td>0.93</td>\n",
       "      <td>0.65</td>\n",
       "    </tr>\n",
       "    <tr>\n",
       "      <th>43</th>\n",
       "      <td>cw_div4_attack</td>\n",
       "      <td>conv2-22</td>\n",
       "      <td>0.010</td>\n",
       "      <td>20</td>\n",
       "      <td>0.93</td>\n",
       "      <td>0.10</td>\n",
       "    </tr>\n",
       "    <tr>\n",
       "      <th>44</th>\n",
       "      <td>cw_div4_attack</td>\n",
       "      <td>conv2-22</td>\n",
       "      <td>0.010</td>\n",
       "      <td>40</td>\n",
       "      <td>0.93</td>\n",
       "      <td>0.12</td>\n",
       "    </tr>\n",
       "    <tr>\n",
       "      <th>45</th>\n",
       "      <td>cw_div4_attack</td>\n",
       "      <td>conv2-22</td>\n",
       "      <td>1.000</td>\n",
       "      <td>0</td>\n",
       "      <td>0.93</td>\n",
       "      <td>0.63</td>\n",
       "    </tr>\n",
       "    <tr>\n",
       "      <th>46</th>\n",
       "      <td>cw_div4_attack</td>\n",
       "      <td>conv2-22</td>\n",
       "      <td>1.000</td>\n",
       "      <td>20</td>\n",
       "      <td>0.93</td>\n",
       "      <td>0.16</td>\n",
       "    </tr>\n",
       "    <tr>\n",
       "      <th>47</th>\n",
       "      <td>cw_div4_attack</td>\n",
       "      <td>conv2-22</td>\n",
       "      <td>1.000</td>\n",
       "      <td>40</td>\n",
       "      <td>0.93</td>\n",
       "      <td>0.13</td>\n",
       "    </tr>\n",
       "    <tr>\n",
       "      <th>48</th>\n",
       "      <td>cw_div4_attack</td>\n",
       "      <td>conv2-22</td>\n",
       "      <td>10.000</td>\n",
       "      <td>0</td>\n",
       "      <td>0.93</td>\n",
       "      <td>0.63</td>\n",
       "    </tr>\n",
       "    <tr>\n",
       "      <th>49</th>\n",
       "      <td>cw_div4_attack</td>\n",
       "      <td>conv2-22</td>\n",
       "      <td>10.000</td>\n",
       "      <td>20</td>\n",
       "      <td>0.93</td>\n",
       "      <td>0.26</td>\n",
       "    </tr>\n",
       "    <tr>\n",
       "      <th>50</th>\n",
       "      <td>cw_div4_attack</td>\n",
       "      <td>conv2-22</td>\n",
       "      <td>10.000</td>\n",
       "      <td>40</td>\n",
       "      <td>0.93</td>\n",
       "      <td>0.22</td>\n",
       "    </tr>\n",
       "    <tr>\n",
       "      <th>51</th>\n",
       "      <td>cw_div4_attack</td>\n",
       "      <td>conv2-22</td>\n",
       "      <td>100.000</td>\n",
       "      <td>0</td>\n",
       "      <td>0.93</td>\n",
       "      <td>0.58</td>\n",
       "    </tr>\n",
       "    <tr>\n",
       "      <th>52</th>\n",
       "      <td>cw_div4_attack</td>\n",
       "      <td>conv2-22</td>\n",
       "      <td>100.000</td>\n",
       "      <td>20</td>\n",
       "      <td>0.93</td>\n",
       "      <td>0.13</td>\n",
       "    </tr>\n",
       "    <tr>\n",
       "      <th>53</th>\n",
       "      <td>cw_div4_attack</td>\n",
       "      <td>conv2-22</td>\n",
       "      <td>100.000</td>\n",
       "      <td>40</td>\n",
       "      <td>0.93</td>\n",
       "      <td>0.26</td>\n",
       "    </tr>\n",
       "    <tr>\n",
       "      <th>54</th>\n",
       "      <td>cw_div4_attack</td>\n",
       "      <td>conv1-33</td>\n",
       "      <td>0.000</td>\n",
       "      <td>0</td>\n",
       "      <td>0.93</td>\n",
       "      <td>0.66</td>\n",
       "    </tr>\n",
       "    <tr>\n",
       "      <th>55</th>\n",
       "      <td>cw_div4_attack</td>\n",
       "      <td>conv1-33</td>\n",
       "      <td>0.000</td>\n",
       "      <td>20</td>\n",
       "      <td>0.93</td>\n",
       "      <td>0.13</td>\n",
       "    </tr>\n",
       "    <tr>\n",
       "      <th>56</th>\n",
       "      <td>cw_div4_attack</td>\n",
       "      <td>conv1-33</td>\n",
       "      <td>0.000</td>\n",
       "      <td>40</td>\n",
       "      <td>0.93</td>\n",
       "      <td>0.10</td>\n",
       "    </tr>\n",
       "    <tr>\n",
       "      <th>57</th>\n",
       "      <td>cw_div4_attack</td>\n",
       "      <td>conv1-33</td>\n",
       "      <td>0.001</td>\n",
       "      <td>0</td>\n",
       "      <td>0.93</td>\n",
       "      <td>0.59</td>\n",
       "    </tr>\n",
       "    <tr>\n",
       "      <th>58</th>\n",
       "      <td>cw_div4_attack</td>\n",
       "      <td>conv1-33</td>\n",
       "      <td>0.001</td>\n",
       "      <td>20</td>\n",
       "      <td>0.93</td>\n",
       "      <td>0.13</td>\n",
       "    </tr>\n",
       "    <tr>\n",
       "      <th>59</th>\n",
       "      <td>cw_div4_attack</td>\n",
       "      <td>conv1-33</td>\n",
       "      <td>0.001</td>\n",
       "      <td>40</td>\n",
       "      <td>0.93</td>\n",
       "      <td>0.16</td>\n",
       "    </tr>\n",
       "    <tr>\n",
       "      <th>60</th>\n",
       "      <td>cw_div4_attack</td>\n",
       "      <td>conv1-33</td>\n",
       "      <td>0.010</td>\n",
       "      <td>0</td>\n",
       "      <td>0.93</td>\n",
       "      <td>0.60</td>\n",
       "    </tr>\n",
       "    <tr>\n",
       "      <th>61</th>\n",
       "      <td>cw_div4_attack</td>\n",
       "      <td>conv1-33</td>\n",
       "      <td>0.010</td>\n",
       "      <td>20</td>\n",
       "      <td>0.93</td>\n",
       "      <td>0.12</td>\n",
       "    </tr>\n",
       "    <tr>\n",
       "      <th>62</th>\n",
       "      <td>cw_div4_attack</td>\n",
       "      <td>conv1-33</td>\n",
       "      <td>0.010</td>\n",
       "      <td>40</td>\n",
       "      <td>0.93</td>\n",
       "      <td>0.12</td>\n",
       "    </tr>\n",
       "    <tr>\n",
       "      <th>63</th>\n",
       "      <td>cw_div4_attack</td>\n",
       "      <td>conv1-33</td>\n",
       "      <td>1.000</td>\n",
       "      <td>0</td>\n",
       "      <td>0.93</td>\n",
       "      <td>0.61</td>\n",
       "    </tr>\n",
       "    <tr>\n",
       "      <th>64</th>\n",
       "      <td>cw_div4_attack</td>\n",
       "      <td>conv1-33</td>\n",
       "      <td>1.000</td>\n",
       "      <td>20</td>\n",
       "      <td>0.93</td>\n",
       "      <td>0.12</td>\n",
       "    </tr>\n",
       "    <tr>\n",
       "      <th>65</th>\n",
       "      <td>cw_div4_attack</td>\n",
       "      <td>conv1-33</td>\n",
       "      <td>1.000</td>\n",
       "      <td>40</td>\n",
       "      <td>0.93</td>\n",
       "      <td>0.18</td>\n",
       "    </tr>\n",
       "    <tr>\n",
       "      <th>66</th>\n",
       "      <td>cw_div4_attack</td>\n",
       "      <td>conv1-33</td>\n",
       "      <td>10.000</td>\n",
       "      <td>0</td>\n",
       "      <td>0.93</td>\n",
       "      <td>0.66</td>\n",
       "    </tr>\n",
       "    <tr>\n",
       "      <th>67</th>\n",
       "      <td>cw_div4_attack</td>\n",
       "      <td>conv1-33</td>\n",
       "      <td>10.000</td>\n",
       "      <td>20</td>\n",
       "      <td>0.93</td>\n",
       "      <td>0.10</td>\n",
       "    </tr>\n",
       "    <tr>\n",
       "      <th>68</th>\n",
       "      <td>cw_div4_attack</td>\n",
       "      <td>conv1-33</td>\n",
       "      <td>10.000</td>\n",
       "      <td>40</td>\n",
       "      <td>0.93</td>\n",
       "      <td>0.12</td>\n",
       "    </tr>\n",
       "    <tr>\n",
       "      <th>69</th>\n",
       "      <td>cw_div4_attack</td>\n",
       "      <td>conv1-33</td>\n",
       "      <td>100.000</td>\n",
       "      <td>0</td>\n",
       "      <td>0.93</td>\n",
       "      <td>0.57</td>\n",
       "    </tr>\n",
       "    <tr>\n",
       "      <th>70</th>\n",
       "      <td>cw_div4_attack</td>\n",
       "      <td>conv1-33</td>\n",
       "      <td>100.000</td>\n",
       "      <td>20</td>\n",
       "      <td>0.93</td>\n",
       "      <td>0.08</td>\n",
       "    </tr>\n",
       "    <tr>\n",
       "      <th>71</th>\n",
       "      <td>cw_div4_attack</td>\n",
       "      <td>conv1-33</td>\n",
       "      <td>100.000</td>\n",
       "      <td>40</td>\n",
       "      <td>0.93</td>\n",
       "      <td>0.21</td>\n",
       "    </tr>\n",
       "    <tr>\n",
       "      <th>72</th>\n",
       "      <td>cw_div4_attack</td>\n",
       "      <td>conv2-44</td>\n",
       "      <td>0.000</td>\n",
       "      <td>0</td>\n",
       "      <td>0.93</td>\n",
       "      <td>0.60</td>\n",
       "    </tr>\n",
       "    <tr>\n",
       "      <th>73</th>\n",
       "      <td>cw_div4_attack</td>\n",
       "      <td>conv2-44</td>\n",
       "      <td>0.000</td>\n",
       "      <td>20</td>\n",
       "      <td>0.93</td>\n",
       "      <td>0.12</td>\n",
       "    </tr>\n",
       "    <tr>\n",
       "      <th>74</th>\n",
       "      <td>cw_div4_attack</td>\n",
       "      <td>conv2-44</td>\n",
       "      <td>0.000</td>\n",
       "      <td>40</td>\n",
       "      <td>0.93</td>\n",
       "      <td>0.12</td>\n",
       "    </tr>\n",
       "    <tr>\n",
       "      <th>75</th>\n",
       "      <td>cw_div4_attack</td>\n",
       "      <td>conv2-44</td>\n",
       "      <td>0.001</td>\n",
       "      <td>0</td>\n",
       "      <td>0.93</td>\n",
       "      <td>0.58</td>\n",
       "    </tr>\n",
       "    <tr>\n",
       "      <th>76</th>\n",
       "      <td>cw_div4_attack</td>\n",
       "      <td>conv2-44</td>\n",
       "      <td>0.001</td>\n",
       "      <td>20</td>\n",
       "      <td>0.93</td>\n",
       "      <td>0.13</td>\n",
       "    </tr>\n",
       "    <tr>\n",
       "      <th>77</th>\n",
       "      <td>cw_div4_attack</td>\n",
       "      <td>conv2-44</td>\n",
       "      <td>0.001</td>\n",
       "      <td>40</td>\n",
       "      <td>0.93</td>\n",
       "      <td>0.11</td>\n",
       "    </tr>\n",
       "    <tr>\n",
       "      <th>78</th>\n",
       "      <td>cw_div4_attack</td>\n",
       "      <td>conv2-44</td>\n",
       "      <td>0.010</td>\n",
       "      <td>0</td>\n",
       "      <td>0.93</td>\n",
       "      <td>0.61</td>\n",
       "    </tr>\n",
       "    <tr>\n",
       "      <th>79</th>\n",
       "      <td>cw_div4_attack</td>\n",
       "      <td>conv2-44</td>\n",
       "      <td>0.010</td>\n",
       "      <td>20</td>\n",
       "      <td>0.93</td>\n",
       "      <td>0.13</td>\n",
       "    </tr>\n",
       "    <tr>\n",
       "      <th>80</th>\n",
       "      <td>cw_div4_attack</td>\n",
       "      <td>conv2-44</td>\n",
       "      <td>0.010</td>\n",
       "      <td>40</td>\n",
       "      <td>0.93</td>\n",
       "      <td>0.11</td>\n",
       "    </tr>\n",
       "    <tr>\n",
       "      <th>81</th>\n",
       "      <td>cw_div4_attack</td>\n",
       "      <td>conv2-44</td>\n",
       "      <td>1.000</td>\n",
       "      <td>0</td>\n",
       "      <td>0.93</td>\n",
       "      <td>0.60</td>\n",
       "    </tr>\n",
       "    <tr>\n",
       "      <th>82</th>\n",
       "      <td>cw_div4_attack</td>\n",
       "      <td>conv2-44</td>\n",
       "      <td>1.000</td>\n",
       "      <td>20</td>\n",
       "      <td>0.93</td>\n",
       "      <td>0.17</td>\n",
       "    </tr>\n",
       "    <tr>\n",
       "      <th>83</th>\n",
       "      <td>cw_div4_attack</td>\n",
       "      <td>conv2-44</td>\n",
       "      <td>1.000</td>\n",
       "      <td>40</td>\n",
       "      <td>0.93</td>\n",
       "      <td>0.19</td>\n",
       "    </tr>\n",
       "    <tr>\n",
       "      <th>84</th>\n",
       "      <td>cw_div4_attack</td>\n",
       "      <td>conv2-44</td>\n",
       "      <td>10.000</td>\n",
       "      <td>0</td>\n",
       "      <td>0.93</td>\n",
       "      <td>0.67</td>\n",
       "    </tr>\n",
       "    <tr>\n",
       "      <th>85</th>\n",
       "      <td>cw_div4_attack</td>\n",
       "      <td>conv2-44</td>\n",
       "      <td>10.000</td>\n",
       "      <td>20</td>\n",
       "      <td>0.93</td>\n",
       "      <td>0.27</td>\n",
       "    </tr>\n",
       "    <tr>\n",
       "      <th>86</th>\n",
       "      <td>cw_div4_attack</td>\n",
       "      <td>conv2-44</td>\n",
       "      <td>10.000</td>\n",
       "      <td>40</td>\n",
       "      <td>0.93</td>\n",
       "      <td>0.14</td>\n",
       "    </tr>\n",
       "    <tr>\n",
       "      <th>87</th>\n",
       "      <td>cw_div4_attack</td>\n",
       "      <td>conv2-44</td>\n",
       "      <td>100.000</td>\n",
       "      <td>0</td>\n",
       "      <td>0.93</td>\n",
       "      <td>0.59</td>\n",
       "    </tr>\n",
       "    <tr>\n",
       "      <th>88</th>\n",
       "      <td>cw_div4_attack</td>\n",
       "      <td>conv2-44</td>\n",
       "      <td>100.000</td>\n",
       "      <td>20</td>\n",
       "      <td>0.93</td>\n",
       "      <td>0.18</td>\n",
       "    </tr>\n",
       "    <tr>\n",
       "      <th>89</th>\n",
       "      <td>cw_div4_attack</td>\n",
       "      <td>conv2-44</td>\n",
       "      <td>100.000</td>\n",
       "      <td>40</td>\n",
       "      <td>0.93</td>\n",
       "      <td>0.32</td>\n",
       "    </tr>\n",
       "    <tr>\n",
       "      <th>90</th>\n",
       "      <td>cw_div4_attack</td>\n",
       "      <td>linear-55</td>\n",
       "      <td>0.000</td>\n",
       "      <td>0</td>\n",
       "      <td>0.93</td>\n",
       "      <td>0.60</td>\n",
       "    </tr>\n",
       "    <tr>\n",
       "      <th>91</th>\n",
       "      <td>cw_div4_attack</td>\n",
       "      <td>linear-55</td>\n",
       "      <td>0.000</td>\n",
       "      <td>20</td>\n",
       "      <td>0.93</td>\n",
       "      <td>0.09</td>\n",
       "    </tr>\n",
       "    <tr>\n",
       "      <th>92</th>\n",
       "      <td>cw_div4_attack</td>\n",
       "      <td>linear-55</td>\n",
       "      <td>0.000</td>\n",
       "      <td>40</td>\n",
       "      <td>0.93</td>\n",
       "      <td>0.11</td>\n",
       "    </tr>\n",
       "    <tr>\n",
       "      <th>93</th>\n",
       "      <td>cw_div4_attack</td>\n",
       "      <td>linear-55</td>\n",
       "      <td>0.001</td>\n",
       "      <td>0</td>\n",
       "      <td>0.93</td>\n",
       "      <td>0.63</td>\n",
       "    </tr>\n",
       "    <tr>\n",
       "      <th>94</th>\n",
       "      <td>cw_div4_attack</td>\n",
       "      <td>linear-55</td>\n",
       "      <td>0.001</td>\n",
       "      <td>20</td>\n",
       "      <td>0.93</td>\n",
       "      <td>0.14</td>\n",
       "    </tr>\n",
       "    <tr>\n",
       "      <th>95</th>\n",
       "      <td>cw_div4_attack</td>\n",
       "      <td>linear-55</td>\n",
       "      <td>0.001</td>\n",
       "      <td>40</td>\n",
       "      <td>0.93</td>\n",
       "      <td>0.12</td>\n",
       "    </tr>\n",
       "    <tr>\n",
       "      <th>96</th>\n",
       "      <td>cw_div4_attack</td>\n",
       "      <td>linear-55</td>\n",
       "      <td>0.010</td>\n",
       "      <td>0</td>\n",
       "      <td>0.93</td>\n",
       "      <td>0.62</td>\n",
       "    </tr>\n",
       "    <tr>\n",
       "      <th>97</th>\n",
       "      <td>cw_div4_attack</td>\n",
       "      <td>linear-55</td>\n",
       "      <td>0.010</td>\n",
       "      <td>20</td>\n",
       "      <td>0.93</td>\n",
       "      <td>0.12</td>\n",
       "    </tr>\n",
       "    <tr>\n",
       "      <th>98</th>\n",
       "      <td>cw_div4_attack</td>\n",
       "      <td>linear-55</td>\n",
       "      <td>0.010</td>\n",
       "      <td>40</td>\n",
       "      <td>0.93</td>\n",
       "      <td>0.12</td>\n",
       "    </tr>\n",
       "    <tr>\n",
       "      <th>99</th>\n",
       "      <td>cw_div4_attack</td>\n",
       "      <td>linear-55</td>\n",
       "      <td>1.000</td>\n",
       "      <td>0</td>\n",
       "      <td>0.93</td>\n",
       "      <td>0.67</td>\n",
       "    </tr>\n",
       "    <tr>\n",
       "      <th>100</th>\n",
       "      <td>cw_div4_attack</td>\n",
       "      <td>linear-55</td>\n",
       "      <td>1.000</td>\n",
       "      <td>20</td>\n",
       "      <td>0.93</td>\n",
       "      <td>0.15</td>\n",
       "    </tr>\n",
       "    <tr>\n",
       "      <th>101</th>\n",
       "      <td>cw_div4_attack</td>\n",
       "      <td>linear-55</td>\n",
       "      <td>1.000</td>\n",
       "      <td>40</td>\n",
       "      <td>0.93</td>\n",
       "      <td>0.13</td>\n",
       "    </tr>\n",
       "    <tr>\n",
       "      <th>102</th>\n",
       "      <td>cw_div4_attack</td>\n",
       "      <td>linear-55</td>\n",
       "      <td>10.000</td>\n",
       "      <td>0</td>\n",
       "      <td>0.93</td>\n",
       "      <td>0.65</td>\n",
       "    </tr>\n",
       "    <tr>\n",
       "      <th>103</th>\n",
       "      <td>cw_div4_attack</td>\n",
       "      <td>linear-55</td>\n",
       "      <td>10.000</td>\n",
       "      <td>20</td>\n",
       "      <td>0.93</td>\n",
       "      <td>0.15</td>\n",
       "    </tr>\n",
       "    <tr>\n",
       "      <th>104</th>\n",
       "      <td>cw_div4_attack</td>\n",
       "      <td>linear-55</td>\n",
       "      <td>10.000</td>\n",
       "      <td>40</td>\n",
       "      <td>0.93</td>\n",
       "      <td>0.12</td>\n",
       "    </tr>\n",
       "    <tr>\n",
       "      <th>105</th>\n",
       "      <td>cw_div4_attack</td>\n",
       "      <td>linear-55</td>\n",
       "      <td>100.000</td>\n",
       "      <td>0</td>\n",
       "      <td>0.93</td>\n",
       "      <td>0.63</td>\n",
       "    </tr>\n",
       "    <tr>\n",
       "      <th>106</th>\n",
       "      <td>cw_div4_attack</td>\n",
       "      <td>linear-55</td>\n",
       "      <td>100.000</td>\n",
       "      <td>20</td>\n",
       "      <td>0.93</td>\n",
       "      <td>0.15</td>\n",
       "    </tr>\n",
       "    <tr>\n",
       "      <th>107</th>\n",
       "      <td>cw_div4_attack</td>\n",
       "      <td>linear-55</td>\n",
       "      <td>100.000</td>\n",
       "      <td>40</td>\n",
       "      <td>0.93</td>\n",
       "      <td>0.14</td>\n",
       "    </tr>\n",
       "  </tbody>\n",
       "</table>\n",
       "</div>"
      ],
      "text/plain": [
       "             attack      layer  regularization_weight  confidence  orig_acc  \\\n",
       "0    cw_div4_attack    conv1-0                  0.000           0      0.93   \n",
       "1    cw_div4_attack    conv1-0                  0.000          20      0.93   \n",
       "2    cw_div4_attack    conv1-0                  0.000          40      0.93   \n",
       "3    cw_div4_attack    conv1-0                  0.001           0      0.93   \n",
       "4    cw_div4_attack    conv1-0                  0.001          20      0.93   \n",
       "5    cw_div4_attack    conv1-0                  0.001          40      0.93   \n",
       "6    cw_div4_attack    conv1-0                  0.010           0      0.93   \n",
       "7    cw_div4_attack    conv1-0                  0.010          20      0.93   \n",
       "8    cw_div4_attack    conv1-0                  0.010          40      0.93   \n",
       "9    cw_div4_attack    conv1-0                  1.000           0      0.93   \n",
       "10   cw_div4_attack    conv1-0                  1.000          20      0.93   \n",
       "11   cw_div4_attack    conv1-0                  1.000          40      0.93   \n",
       "12   cw_div4_attack    conv1-0                 10.000           0      0.93   \n",
       "13   cw_div4_attack    conv1-0                 10.000          20      0.93   \n",
       "14   cw_div4_attack    conv1-0                 10.000          40      0.93   \n",
       "15   cw_div4_attack    conv1-0                100.000           0      0.93   \n",
       "16   cw_div4_attack    conv1-0                100.000          20      0.93   \n",
       "17   cw_div4_attack    conv1-0                100.000          40      0.93   \n",
       "18   cw_div4_attack   conv1-11                  0.000           0      0.93   \n",
       "19   cw_div4_attack   conv1-11                  0.000          20      0.93   \n",
       "20   cw_div4_attack   conv1-11                  0.000          40      0.93   \n",
       "21   cw_div4_attack   conv1-11                  0.001           0      0.93   \n",
       "22   cw_div4_attack   conv1-11                  0.001          20      0.93   \n",
       "23   cw_div4_attack   conv1-11                  0.001          40      0.93   \n",
       "24   cw_div4_attack   conv1-11                  0.010           0      0.93   \n",
       "25   cw_div4_attack   conv1-11                  0.010          20      0.93   \n",
       "26   cw_div4_attack   conv1-11                  0.010          40      0.93   \n",
       "27   cw_div4_attack   conv1-11                  1.000           0      0.93   \n",
       "28   cw_div4_attack   conv1-11                  1.000          20      0.93   \n",
       "29   cw_div4_attack   conv1-11                  1.000          40      0.93   \n",
       "30   cw_div4_attack   conv1-11                 10.000           0      0.93   \n",
       "31   cw_div4_attack   conv1-11                 10.000          20      0.93   \n",
       "32   cw_div4_attack   conv1-11                 10.000          40      0.93   \n",
       "33   cw_div4_attack   conv1-11                100.000           0      0.93   \n",
       "34   cw_div4_attack   conv1-11                100.000          20      0.93   \n",
       "35   cw_div4_attack   conv1-11                100.000          40      0.93   \n",
       "36   cw_div4_attack   conv2-22                  0.000           0      0.93   \n",
       "37   cw_div4_attack   conv2-22                  0.000          20      0.93   \n",
       "38   cw_div4_attack   conv2-22                  0.000          40      0.93   \n",
       "39   cw_div4_attack   conv2-22                  0.001           0      0.93   \n",
       "40   cw_div4_attack   conv2-22                  0.001          20      0.93   \n",
       "41   cw_div4_attack   conv2-22                  0.001          40      0.93   \n",
       "42   cw_div4_attack   conv2-22                  0.010           0      0.93   \n",
       "43   cw_div4_attack   conv2-22                  0.010          20      0.93   \n",
       "44   cw_div4_attack   conv2-22                  0.010          40      0.93   \n",
       "45   cw_div4_attack   conv2-22                  1.000           0      0.93   \n",
       "46   cw_div4_attack   conv2-22                  1.000          20      0.93   \n",
       "47   cw_div4_attack   conv2-22                  1.000          40      0.93   \n",
       "48   cw_div4_attack   conv2-22                 10.000           0      0.93   \n",
       "49   cw_div4_attack   conv2-22                 10.000          20      0.93   \n",
       "50   cw_div4_attack   conv2-22                 10.000          40      0.93   \n",
       "51   cw_div4_attack   conv2-22                100.000           0      0.93   \n",
       "52   cw_div4_attack   conv2-22                100.000          20      0.93   \n",
       "53   cw_div4_attack   conv2-22                100.000          40      0.93   \n",
       "54   cw_div4_attack   conv1-33                  0.000           0      0.93   \n",
       "55   cw_div4_attack   conv1-33                  0.000          20      0.93   \n",
       "56   cw_div4_attack   conv1-33                  0.000          40      0.93   \n",
       "57   cw_div4_attack   conv1-33                  0.001           0      0.93   \n",
       "58   cw_div4_attack   conv1-33                  0.001          20      0.93   \n",
       "59   cw_div4_attack   conv1-33                  0.001          40      0.93   \n",
       "60   cw_div4_attack   conv1-33                  0.010           0      0.93   \n",
       "61   cw_div4_attack   conv1-33                  0.010          20      0.93   \n",
       "62   cw_div4_attack   conv1-33                  0.010          40      0.93   \n",
       "63   cw_div4_attack   conv1-33                  1.000           0      0.93   \n",
       "64   cw_div4_attack   conv1-33                  1.000          20      0.93   \n",
       "65   cw_div4_attack   conv1-33                  1.000          40      0.93   \n",
       "66   cw_div4_attack   conv1-33                 10.000           0      0.93   \n",
       "67   cw_div4_attack   conv1-33                 10.000          20      0.93   \n",
       "68   cw_div4_attack   conv1-33                 10.000          40      0.93   \n",
       "69   cw_div4_attack   conv1-33                100.000           0      0.93   \n",
       "70   cw_div4_attack   conv1-33                100.000          20      0.93   \n",
       "71   cw_div4_attack   conv1-33                100.000          40      0.93   \n",
       "72   cw_div4_attack   conv2-44                  0.000           0      0.93   \n",
       "73   cw_div4_attack   conv2-44                  0.000          20      0.93   \n",
       "74   cw_div4_attack   conv2-44                  0.000          40      0.93   \n",
       "75   cw_div4_attack   conv2-44                  0.001           0      0.93   \n",
       "76   cw_div4_attack   conv2-44                  0.001          20      0.93   \n",
       "77   cw_div4_attack   conv2-44                  0.001          40      0.93   \n",
       "78   cw_div4_attack   conv2-44                  0.010           0      0.93   \n",
       "79   cw_div4_attack   conv2-44                  0.010          20      0.93   \n",
       "80   cw_div4_attack   conv2-44                  0.010          40      0.93   \n",
       "81   cw_div4_attack   conv2-44                  1.000           0      0.93   \n",
       "82   cw_div4_attack   conv2-44                  1.000          20      0.93   \n",
       "83   cw_div4_attack   conv2-44                  1.000          40      0.93   \n",
       "84   cw_div4_attack   conv2-44                 10.000           0      0.93   \n",
       "85   cw_div4_attack   conv2-44                 10.000          20      0.93   \n",
       "86   cw_div4_attack   conv2-44                 10.000          40      0.93   \n",
       "87   cw_div4_attack   conv2-44                100.000           0      0.93   \n",
       "88   cw_div4_attack   conv2-44                100.000          20      0.93   \n",
       "89   cw_div4_attack   conv2-44                100.000          40      0.93   \n",
       "90   cw_div4_attack  linear-55                  0.000           0      0.93   \n",
       "91   cw_div4_attack  linear-55                  0.000          20      0.93   \n",
       "92   cw_div4_attack  linear-55                  0.000          40      0.93   \n",
       "93   cw_div4_attack  linear-55                  0.001           0      0.93   \n",
       "94   cw_div4_attack  linear-55                  0.001          20      0.93   \n",
       "95   cw_div4_attack  linear-55                  0.001          40      0.93   \n",
       "96   cw_div4_attack  linear-55                  0.010           0      0.93   \n",
       "97   cw_div4_attack  linear-55                  0.010          20      0.93   \n",
       "98   cw_div4_attack  linear-55                  0.010          40      0.93   \n",
       "99   cw_div4_attack  linear-55                  1.000           0      0.93   \n",
       "100  cw_div4_attack  linear-55                  1.000          20      0.93   \n",
       "101  cw_div4_attack  linear-55                  1.000          40      0.93   \n",
       "102  cw_div4_attack  linear-55                 10.000           0      0.93   \n",
       "103  cw_div4_attack  linear-55                 10.000          20      0.93   \n",
       "104  cw_div4_attack  linear-55                 10.000          40      0.93   \n",
       "105  cw_div4_attack  linear-55                100.000           0      0.93   \n",
       "106  cw_div4_attack  linear-55                100.000          20      0.93   \n",
       "107  cw_div4_attack  linear-55                100.000          40      0.93   \n",
       "\n",
       "     pert_acc  \n",
       "0        0.69  \n",
       "1        0.13  \n",
       "2        0.10  \n",
       "3        0.61  \n",
       "4        0.12  \n",
       "5        0.12  \n",
       "6        0.64  \n",
       "7        0.10  \n",
       "8        0.11  \n",
       "9        0.69  \n",
       "10       0.11  \n",
       "11       0.12  \n",
       "12       0.60  \n",
       "13       0.17  \n",
       "14       0.13  \n",
       "15       0.68  \n",
       "16       0.12  \n",
       "17       0.13  \n",
       "18       0.58  \n",
       "19       0.13  \n",
       "20       0.13  \n",
       "21       0.61  \n",
       "22       0.09  \n",
       "23       0.11  \n",
       "24       0.61  \n",
       "25       0.11  \n",
       "26       0.12  \n",
       "27       0.61  \n",
       "28       0.11  \n",
       "29       0.09  \n",
       "30       0.59  \n",
       "31       0.10  \n",
       "32       0.11  \n",
       "33       0.56  \n",
       "34       0.16  \n",
       "35       0.28  \n",
       "36       0.65  \n",
       "37       0.17  \n",
       "38       0.12  \n",
       "39       0.63  \n",
       "40       0.11  \n",
       "41       0.13  \n",
       "42       0.65  \n",
       "43       0.10  \n",
       "44       0.12  \n",
       "45       0.63  \n",
       "46       0.16  \n",
       "47       0.13  \n",
       "48       0.63  \n",
       "49       0.26  \n",
       "50       0.22  \n",
       "51       0.58  \n",
       "52       0.13  \n",
       "53       0.26  \n",
       "54       0.66  \n",
       "55       0.13  \n",
       "56       0.10  \n",
       "57       0.59  \n",
       "58       0.13  \n",
       "59       0.16  \n",
       "60       0.60  \n",
       "61       0.12  \n",
       "62       0.12  \n",
       "63       0.61  \n",
       "64       0.12  \n",
       "65       0.18  \n",
       "66       0.66  \n",
       "67       0.10  \n",
       "68       0.12  \n",
       "69       0.57  \n",
       "70       0.08  \n",
       "71       0.21  \n",
       "72       0.60  \n",
       "73       0.12  \n",
       "74       0.12  \n",
       "75       0.58  \n",
       "76       0.13  \n",
       "77       0.11  \n",
       "78       0.61  \n",
       "79       0.13  \n",
       "80       0.11  \n",
       "81       0.60  \n",
       "82       0.17  \n",
       "83       0.19  \n",
       "84       0.67  \n",
       "85       0.27  \n",
       "86       0.14  \n",
       "87       0.59  \n",
       "88       0.18  \n",
       "89       0.32  \n",
       "90       0.60  \n",
       "91       0.09  \n",
       "92       0.11  \n",
       "93       0.63  \n",
       "94       0.14  \n",
       "95       0.12  \n",
       "96       0.62  \n",
       "97       0.12  \n",
       "98       0.12  \n",
       "99       0.67  \n",
       "100      0.15  \n",
       "101      0.13  \n",
       "102      0.65  \n",
       "103      0.15  \n",
       "104      0.12  \n",
       "105      0.63  \n",
       "106      0.15  \n",
       "107      0.14  "
      ]
     },
     "execution_count": 10,
     "metadata": {},
     "output_type": "execute_result"
    }
   ],
   "source": [
    "df = pd.DataFrame.from_dict(results)\n",
    "pd.set_option('display.max_rows', None)\n",
    "df[['attack', 'layer', 'regularization_weight', 'confidence', 'orig_acc', 'pert_acc']]"
   ]
  },
  {
   "cell_type": "markdown",
   "metadata": {},
   "source": [
    "# Coverage Criteria"
   ]
  },
  {
   "cell_type": "markdown",
   "metadata": {},
   "source": [
    "## Neuron Coverage (DeepXplore)"
   ]
  },
  {
   "cell_type": "code",
   "execution_count": 65,
   "metadata": {},
   "outputs": [],
   "source": [
    "from tqdm import tqdm_notebook as tqdm\n",
    "\n",
    "def get_model_modules(model):\n",
    "    layer_dict = {}\n",
    "    idx=0\n",
    "    for name, module in model.named_children():\n",
    "        module.cuda()\n",
    "        if (not isinstance(module, nn.Sequential)\n",
    "            and not isinstance(module, nn.BatchNorm2d)):\n",
    "            layer_dict[name + '-' + str(idx)] = module\n",
    "            idx += 1\n",
    "        else:\n",
    "            for name_2, module_2 in module.named_children():\n",
    "                module_2.cuda()\n",
    "                for name_3, module_3 in module_2.named_children():\n",
    "                    module_3.cuda()\n",
    "                    if (not isinstance(module_3, nn.Sequential)\n",
    "                        and not isinstance(module_3, nn.BatchNorm2d)\n",
    "                        and 'shortcut' not in name_3):\n",
    "                        layer_dict[name_3 + '-' + str(idx)] = module_3\n",
    "                        idx += 1    \n",
    "                        \n",
    "    return layer_dict\n",
    "\n",
    "def get_layer_output_sizes(model, data):   \n",
    "    output_sizes = {}\n",
    "    hooks = []  \n",
    "    \n",
    "    layer_dict = get_model_modules(model)\n",
    " \n",
    "    def hook(module, input, output):\n",
    "        module_idx = len(output_sizes)\n",
    "        m_key = list(layer_dict)[module_idx]\n",
    "        output_sizes[m_key] = list(output.size()[1:])      \n",
    "    \n",
    "    for name, module in layer_dict.items():\n",
    "        hooks.append(module.register_forward_hook(hook))\n",
    "    \n",
    "    try:\n",
    "        model(data[:1])  \n",
    "    finally:\n",
    "        for h in hooks:\n",
    "            h.remove() \n",
    "    return output_sizes\n",
    "\n",
    "def get_init_dict(model, data, init_value=False): \n",
    "    output_sizes = get_layer_output_sizes(model, data)       \n",
    "    model_layer_dict = {}  \n",
    "    for layer, output_size in output_sizes.items():\n",
    "        for index in range(np.prod(output_size)):\n",
    "            # since we only care about post-activation outputs\n",
    "            model_layer_dict[(layer, index)] = init_value\n",
    "    return model_layer_dict\n",
    "\n",
    "def neurons_covered(model_layer_dict):\n",
    "    covered_neurons = len([v for v in model_layer_dict.values() if v])\n",
    "    total_neurons = len(model_layer_dict)\n",
    "    return covered_neurons, total_neurons, covered_neurons / float(total_neurons)\n",
    "\n",
    "def scale(out, rmax=1, rmin=0):\n",
    "    output_std = (out - out.min()) / (out.max() - out.min())\n",
    "    output_scaled = output_std * (rmax - rmin) + rmin\n",
    "    return output_scaled\n",
    "\n",
    "def extract_outputs(model, data, module):\n",
    "    outputs = []      \n",
    "    def hook(module, input, output):\n",
    "        outputs.append(torch.relu(output))   \n",
    "    handle = module.register_forward_hook(hook)     \n",
    "    model(data)\n",
    "    handle.remove()\n",
    "    return torch.stack(outputs)\n",
    "\n",
    "def update_coverage(model, data, model_layer_dict, threshold=0.):   \n",
    "    layer_dict = get_model_modules(model) \n",
    "    for layer, module in tqdm(layer_dict.items()): \n",
    "        outputs = torch.squeeze(torch.sum(extract_outputs(model, data, module), dim=1))\n",
    "        scaled_outputs = scale(outputs)     \n",
    "        for i, out in enumerate(scaled_outputs.view(-1)):\n",
    "            if out > threshold:\n",
    "                model_layer_dict[(layer, i)] = True\n",
    "                \n",
    "def eval_nc(model, data, threshold=0.):\n",
    "    model_layer_dict = get_init_dict(model, data, False)\n",
    "    update_coverage(model, data, model_layer_dict, threshold=0.)\n",
    "    _, _, nc = neurons_covered(model_layer_dict)\n",
    "    return nc"
   ]
  },
  {
   "cell_type": "code",
   "execution_count": 72,
   "metadata": {},
   "outputs": [
    {
     "data": {
      "application/vnd.jupyter.widget-view+json": {
       "model_id": "445270fadeb14dba9eb39410d9eff6db",
       "version_major": 2,
       "version_minor": 0
      },
      "text/plain": [
       "HBox(children=(IntProgress(value=0, max=56), HTML(value='')))"
      ]
     },
     "metadata": {},
     "output_type": "display_data"
    },
    {
     "name": "stdout",
     "output_type": "stream",
     "text": [
      "\n"
     ]
    },
    {
     "data": {
      "text/plain": [
       "0.952470468928994"
      ]
     },
     "execution_count": 72,
     "metadata": {},
     "output_type": "execute_result"
    }
   ],
   "source": [
    "# test baseline (unperturbed) inputs\n",
    "eval_nc(model, inputs, threshold=0.)"
   ]
  },
  {
   "cell_type": "code",
   "execution_count": 14,
   "metadata": {
    "scrolled": true
   },
   "outputs": [
    {
     "data": {
      "application/vnd.jupyter.widget-view+json": {
       "model_id": "85afc3e58e6046179662dcdcd38aabe4",
       "version_major": 2,
       "version_minor": 0
      },
      "text/plain": [
       "HBox(children=(IntProgress(value=0, max=56), HTML(value='')))"
      ]
     },
     "metadata": {},
     "output_type": "display_data"
    },
    {
     "name": "stdout",
     "output_type": "stream",
     "text": [
      "\n",
      "0 cw_div4_attack conv1-0 0 0.9521681158331612\n"
     ]
    },
    {
     "data": {
      "application/vnd.jupyter.widget-view+json": {
       "model_id": "16306aac2a4f41b3a71309ef1b3fc5dd",
       "version_major": 2,
       "version_minor": 0
      },
      "text/plain": [
       "HBox(children=(IntProgress(value=0, max=56), HTML(value='')))"
      ]
     },
     "metadata": {},
     "output_type": "display_data"
    },
    {
     "name": "stdout",
     "output_type": "stream",
     "text": [
      "\n",
      "1 cw_div4_attack conv1-0 0 0.9520028545136998\n"
     ]
    },
    {
     "data": {
      "application/vnd.jupyter.widget-view+json": {
       "model_id": "bbb02b9ee4404c748a3a8f3558c7c8d5",
       "version_major": 2,
       "version_minor": 0
      },
      "text/plain": [
       "HBox(children=(IntProgress(value=0, max=56), HTML(value='')))"
      ]
     },
     "metadata": {},
     "output_type": "display_data"
    },
    {
     "name": "stdout",
     "output_type": "stream",
     "text": [
      "\n",
      "2 cw_div4_attack conv1-0 0 0.9520310240567899\n"
     ]
    },
    {
     "data": {
      "application/vnd.jupyter.widget-view+json": {
       "model_id": "6d031b23b9f24e09b6b61434effaf15d",
       "version_major": 2,
       "version_minor": 0
      },
      "text/plain": [
       "HBox(children=(IntProgress(value=0, max=56), HTML(value='')))"
      ]
     },
     "metadata": {},
     "output_type": "display_data"
    },
    {
     "name": "stdout",
     "output_type": "stream",
     "text": [
      "\n",
      "3 cw_div4_attack conv1-0 0.001 0.9522169430411839\n"
     ]
    },
    {
     "data": {
      "application/vnd.jupyter.widget-view+json": {
       "model_id": "5a36e184273542728e682c496e6ed58c",
       "version_major": 2,
       "version_minor": 0
      },
      "text/plain": [
       "HBox(children=(IntProgress(value=0, max=56), HTML(value='')))"
      ]
     },
     "metadata": {},
     "output_type": "display_data"
    },
    {
     "name": "stdout",
     "output_type": "stream",
     "text": [
      "\n",
      "4 cw_div4_attack conv1-0 0.001 0.9520122443613964\n"
     ]
    },
    {
     "data": {
      "application/vnd.jupyter.widget-view+json": {
       "model_id": "964016ea7dce484e94ab247456924c0f",
       "version_major": 2,
       "version_minor": 0
      },
      "text/plain": [
       "HBox(children=(IntProgress(value=0, max=56), HTML(value='')))"
      ]
     },
     "metadata": {},
     "output_type": "display_data"
    },
    {
     "name": "stdout",
     "output_type": "stream",
     "text": [
      "\n",
      "5 cw_div4_attack conv1-0 0.001 0.9520366579654078\n"
     ]
    },
    {
     "data": {
      "application/vnd.jupyter.widget-view+json": {
       "model_id": "8429afce9c1c43eaacaaf894e2636316",
       "version_major": 2,
       "version_minor": 0
      },
      "text/plain": [
       "HBox(children=(IntProgress(value=0, max=56), HTML(value='')))"
      ]
     },
     "metadata": {},
     "output_type": "display_data"
    },
    {
     "name": "stdout",
     "output_type": "stream",
     "text": [
      "\n",
      "6 cw_div4_attack conv1-0 0.01 0.9521361903509925\n"
     ]
    },
    {
     "data": {
      "application/vnd.jupyter.widget-view+json": {
       "model_id": "62b79c6854bf4623966ad03ace11c5a9",
       "version_major": 2,
       "version_minor": 0
      },
      "text/plain": [
       "HBox(children=(IntProgress(value=0, max=56), HTML(value='')))"
      ]
     },
     "metadata": {},
     "output_type": "display_data"
    },
    {
     "name": "stdout",
     "output_type": "stream",
     "text": [
      "\n",
      "7 cw_div4_attack conv1-0 0.01 0.9520798512648125\n"
     ]
    },
    {
     "data": {
      "application/vnd.jupyter.widget-view+json": {
       "model_id": "ce285450eaaa408294b354063bd8426d",
       "version_major": 2,
       "version_minor": 0
      },
      "text/plain": [
       "HBox(children=(IntProgress(value=0, max=56), HTML(value='')))"
      ]
     },
     "metadata": {},
     "output_type": "display_data"
    },
    {
     "name": "stdout",
     "output_type": "stream",
     "text": [
      "\n",
      "8 cw_div4_attack conv1-0 0.01 0.9520948750211271\n"
     ]
    },
    {
     "data": {
      "application/vnd.jupyter.widget-view+json": {
       "model_id": "864a7cb4b33d4b84ab652e219b1472d8",
       "version_major": 2,
       "version_minor": 0
      },
      "text/plain": [
       "HBox(children=(IntProgress(value=0, max=56), HTML(value='')))"
      ]
     },
     "metadata": {},
     "output_type": "display_data"
    },
    {
     "name": "stdout",
     "output_type": "stream",
     "text": [
      "\n",
      "9 cw_div4_attack conv1-0 1 0.9521737497417792\n"
     ]
    },
    {
     "data": {
      "application/vnd.jupyter.widget-view+json": {
       "model_id": "127ee9a594b24b6d9d215c6814fde265",
       "version_major": 2,
       "version_minor": 0
      },
      "text/plain": [
       "HBox(children=(IntProgress(value=0, max=56), HTML(value='')))"
      ]
     },
     "metadata": {},
     "output_type": "display_data"
    },
    {
     "name": "stdout",
     "output_type": "stream",
     "text": [
      "\n",
      "10 cw_div4_attack conv1-0 1 0.9520141223309357\n"
     ]
    },
    {
     "data": {
      "application/vnd.jupyter.widget-view+json": {
       "model_id": "05ae53fa2ab54ac495fd59f3b9670163",
       "version_major": 2,
       "version_minor": 0
      },
      "text/plain": [
       "HBox(children=(IntProgress(value=0, max=56), HTML(value='')))"
      ]
     },
     "metadata": {},
     "output_type": "display_data"
    },
    {
     "name": "stdout",
     "output_type": "stream",
     "text": [
      "\n",
      "11 cw_div4_attack conv1-0 1 0.9520836072038912\n"
     ]
    },
    {
     "data": {
      "application/vnd.jupyter.widget-view+json": {
       "model_id": "b136ec690261465da76c1a668cbb1ad3",
       "version_major": 2,
       "version_minor": 0
      },
      "text/plain": [
       "HBox(children=(IntProgress(value=0, max=56), HTML(value='')))"
      ]
     },
     "metadata": {},
     "output_type": "display_data"
    },
    {
     "name": "stdout",
     "output_type": "stream",
     "text": [
      "\n",
      "12 cw_div4_attack conv1-0 10 0.9521343123814532\n"
     ]
    },
    {
     "data": {
      "application/vnd.jupyter.widget-view+json": {
       "model_id": "d217f68cc6834d3abd5ef665962ec159",
       "version_major": 2,
       "version_minor": 0
      },
      "text/plain": [
       "HBox(children=(IntProgress(value=0, max=56), HTML(value='')))"
      ]
     },
     "metadata": {},
     "output_type": "display_data"
    },
    {
     "name": "stdout",
     "output_type": "stream",
     "text": [
      "\n",
      "13 cw_div4_attack conv1-0 10 0.951931491671205\n"
     ]
    },
    {
     "data": {
      "application/vnd.jupyter.widget-view+json": {
       "model_id": "779d83f0cd33466889c4d3bd3c6eadc4",
       "version_major": 2,
       "version_minor": 0
      },
      "text/plain": [
       "HBox(children=(IntProgress(value=0, max=56), HTML(value='')))"
      ]
     },
     "metadata": {},
     "output_type": "display_data"
    },
    {
     "name": "stdout",
     "output_type": "stream",
     "text": [
      "\n",
      "14 cw_div4_attack conv1-0 10 0.9520573156303405\n"
     ]
    },
    {
     "data": {
      "application/vnd.jupyter.widget-view+json": {
       "model_id": "1dd934a80fd24dfa857be1b69ddfb980",
       "version_major": 2,
       "version_minor": 0
      },
      "text/plain": [
       "HBox(children=(IntProgress(value=0, max=56), HTML(value='')))"
      ]
     },
     "metadata": {},
     "output_type": "display_data"
    },
    {
     "name": "stdout",
     "output_type": "stream",
     "text": [
      "\n",
      "15 cw_div4_attack conv1-0 100 0.9521681158331612\n"
     ]
    },
    {
     "data": {
      "application/vnd.jupyter.widget-view+json": {
       "model_id": "9fdf871734ae4e209ecb61a843aced0a",
       "version_major": 2,
       "version_minor": 0
      },
      "text/plain": [
       "HBox(children=(IntProgress(value=0, max=56), HTML(value='')))"
      ]
     },
     "metadata": {},
     "output_type": "display_data"
    },
    {
     "name": "stdout",
     "output_type": "stream",
     "text": [
      "\n",
      "16 cw_div4_attack conv1-0 100 0.9519746849706098\n"
     ]
    },
    {
     "data": {
      "application/vnd.jupyter.widget-view+json": {
       "model_id": "a779cddb8d844b1a8d5714639899bfe4",
       "version_major": 2,
       "version_minor": 0
      },
      "text/plain": [
       "HBox(children=(IntProgress(value=0, max=56), HTML(value='')))"
      ]
     },
     "metadata": {},
     "output_type": "display_data"
    },
    {
     "name": "stdout",
     "output_type": "stream",
     "text": [
      "\n",
      "17 cw_div4_attack conv1-0 100 0.9520685834475765\n"
     ]
    },
    {
     "data": {
      "application/vnd.jupyter.widget-view+json": {
       "model_id": "a08641a2e5614c57aa8b5e81295142d6",
       "version_major": 2,
       "version_minor": 0
      },
      "text/plain": [
       "HBox(children=(IntProgress(value=0, max=56), HTML(value='')))"
      ]
     },
     "metadata": {},
     "output_type": "display_data"
    },
    {
     "name": "stdout",
     "output_type": "stream",
     "text": [
      "\n",
      "18 cw_div4_attack conv1-11 0 0.9521906514676332\n"
     ]
    },
    {
     "data": {
      "application/vnd.jupyter.widget-view+json": {
       "model_id": "b41cda0860964581bd6f878f7e60896a",
       "version_major": 2,
       "version_minor": 0
      },
      "text/plain": [
       "HBox(children=(IntProgress(value=0, max=56), HTML(value='')))"
      ]
     },
     "metadata": {},
     "output_type": "display_data"
    },
    {
     "name": "stdout",
     "output_type": "stream",
     "text": [
      "\n",
      "19 cw_div4_attack conv1-11 0 0.9519803188792277\n"
     ]
    },
    {
     "data": {
      "application/vnd.jupyter.widget-view+json": {
       "model_id": "a948efb28dda41d8b429f0a28d3bac8d",
       "version_major": 2,
       "version_minor": 0
      },
      "text/plain": [
       "HBox(children=(IntProgress(value=0, max=56), HTML(value='')))"
      ]
     },
     "metadata": {},
     "output_type": "display_data"
    },
    {
     "name": "stdout",
     "output_type": "stream",
     "text": [
      "\n",
      "20 cw_div4_attack conv1-11 0 0.9520704614171158\n"
     ]
    },
    {
     "data": {
      "application/vnd.jupyter.widget-view+json": {
       "model_id": "0b360eaf76fa41829bb58de2c69fbe5f",
       "version_major": 2,
       "version_minor": 0
      },
      "text/plain": [
       "HBox(children=(IntProgress(value=0, max=56), HTML(value='')))"
      ]
     },
     "metadata": {},
     "output_type": "display_data"
    },
    {
     "name": "stdout",
     "output_type": "stream",
     "text": [
      "\n",
      "21 cw_div4_attack conv1-11 0.001 0.9521831395894759\n"
     ]
    },
    {
     "data": {
      "application/vnd.jupyter.widget-view+json": {
       "model_id": "48228dd12fe342d1836803d46a359f03",
       "version_major": 2,
       "version_minor": 0
      },
      "text/plain": [
       "HBox(children=(IntProgress(value=0, max=56), HTML(value='')))"
      ]
     },
     "metadata": {},
     "output_type": "display_data"
    },
    {
     "name": "stdout",
     "output_type": "stream",
     "text": [
      "\n",
      "22 cw_div4_attack conv1-11 0.001 0.9520028545136998\n"
     ]
    },
    {
     "data": {
      "application/vnd.jupyter.widget-view+json": {
       "model_id": "7993b5be760543b8b69c85f8a47d0c27",
       "version_major": 2,
       "version_minor": 0
      },
      "text/plain": [
       "HBox(children=(IntProgress(value=0, max=56), HTML(value='')))"
      ]
     },
     "metadata": {},
     "output_type": "display_data"
    },
    {
     "name": "stdout",
     "output_type": "stream",
     "text": [
      "\n",
      "23 cw_div4_attack conv1-11 0.001 0.9521136547165205\n"
     ]
    },
    {
     "data": {
      "application/vnd.jupyter.widget-view+json": {
       "model_id": "c90efd480b9c42cfbfcad20ec0e13f86",
       "version_major": 2,
       "version_minor": 0
      },
      "text/plain": [
       "HBox(children=(IntProgress(value=0, max=56), HTML(value='')))"
      ]
     },
     "metadata": {},
     "output_type": "display_data"
    },
    {
     "name": "stdout",
     "output_type": "stream",
     "text": [
      "\n",
      "24 cw_div4_attack conv1-11 0.01 0.9522169430411839\n"
     ]
    },
    {
     "data": {
      "application/vnd.jupyter.widget-view+json": {
       "model_id": "ba5bd86548a74e3eb72c4ce5e0888645",
       "version_major": 2,
       "version_minor": 0
      },
      "text/plain": [
       "HBox(children=(IntProgress(value=0, max=56), HTML(value='')))"
      ]
     },
     "metadata": {},
     "output_type": "display_data"
    },
    {
     "name": "stdout",
     "output_type": "stream",
     "text": [
      "\n",
      "25 cw_div4_attack conv1-11 0.01 0.9520066104527785\n"
     ]
    },
    {
     "data": {
      "application/vnd.jupyter.widget-view+json": {
       "model_id": "4157a0e42d8746d386e01419e286790b",
       "version_major": 2,
       "version_minor": 0
      },
      "text/plain": [
       "HBox(children=(IntProgress(value=0, max=56), HTML(value='')))"
      ]
     },
     "metadata": {},
     "output_type": "display_data"
    },
    {
     "name": "stdout",
     "output_type": "stream",
     "text": [
      "\n",
      "26 cw_div4_attack conv1-11 0.01 0.9520235121786325\n"
     ]
    },
    {
     "data": {
      "application/vnd.jupyter.widget-view+json": {
       "model_id": "561867c83a3a4ba69fd995b2097e8299",
       "version_major": 2,
       "version_minor": 0
      },
      "text/plain": [
       "HBox(children=(IntProgress(value=0, max=56), HTML(value='')))"
      ]
     },
     "metadata": {},
     "output_type": "display_data"
    },
    {
     "name": "stdout",
     "output_type": "stream",
     "text": [
      "\n",
      "27 cw_div4_attack conv1-11 1 0.9521512141073072\n"
     ]
    },
    {
     "data": {
      "application/vnd.jupyter.widget-view+json": {
       "model_id": "efd91312dee347059f49f8696a22b400",
       "version_major": 2,
       "version_minor": 0
      },
      "text/plain": [
       "HBox(children=(IntProgress(value=0, max=56), HTML(value='')))"
      ]
     },
     "metadata": {},
     "output_type": "display_data"
    },
    {
     "name": "stdout",
     "output_type": "stream",
     "text": [
      "\n",
      "28 cw_div4_attack conv1-11 1 0.9519915866964638\n"
     ]
    },
    {
     "data": {
      "application/vnd.jupyter.widget-view+json": {
       "model_id": "853da9ba2b394c978e576e5b7d817b33",
       "version_major": 2,
       "version_minor": 0
      },
      "text/plain": [
       "HBox(children=(IntProgress(value=0, max=56), HTML(value='')))"
      ]
     },
     "metadata": {},
     "output_type": "display_data"
    },
    {
     "name": "stdout",
     "output_type": "stream",
     "text": [
      "\n",
      "29 cw_div4_attack conv1-11 1 0.9520948750211271\n"
     ]
    },
    {
     "data": {
      "application/vnd.jupyter.widget-view+json": {
       "model_id": "441b86f3395d4b29a912cd9ea8112dbb",
       "version_major": 2,
       "version_minor": 0
      },
      "text/plain": [
       "HBox(children=(IntProgress(value=0, max=56), HTML(value='')))"
      ]
     },
     "metadata": {},
     "output_type": "display_data"
    },
    {
     "name": "stdout",
     "output_type": "stream",
     "text": [
      "\n",
      "30 cw_div4_attack conv1-11 10 0.9522150650716446\n"
     ]
    },
    {
     "data": {
      "application/vnd.jupyter.widget-view+json": {
       "model_id": "9a8bdef04ceb4ab29fa79d33eeaaf8a9",
       "version_major": 2,
       "version_minor": 0
      },
      "text/plain": [
       "HBox(children=(IntProgress(value=0, max=56), HTML(value='')))"
      ]
     },
     "metadata": {},
     "output_type": "display_data"
    },
    {
     "name": "stdout",
     "output_type": "stream",
     "text": [
      "\n",
      "31 cw_div4_attack conv1-11 10 0.9521249225337565\n"
     ]
    },
    {
     "data": {
      "application/vnd.jupyter.widget-view+json": {
       "model_id": "11eb0fb9c9f64460a8dd891a784d9d99",
       "version_major": 2,
       "version_minor": 0
      },
      "text/plain": [
       "HBox(children=(IntProgress(value=0, max=56), HTML(value='')))"
      ]
     },
     "metadata": {},
     "output_type": "display_data"
    },
    {
     "name": "stdout",
     "output_type": "stream",
     "text": [
      "\n",
      "32 cw_div4_attack conv1-11 10 0.9521718717722398\n"
     ]
    },
    {
     "data": {
      "application/vnd.jupyter.widget-view+json": {
       "model_id": "b0b013dd4ea64c0d822a8216fd8f3810",
       "version_major": 2,
       "version_minor": 0
      },
      "text/plain": [
       "HBox(children=(IntProgress(value=0, max=56), HTML(value='')))"
      ]
     },
     "metadata": {},
     "output_type": "display_data"
    },
    {
     "name": "stdout",
     "output_type": "stream",
     "text": [
      "\n",
      "33 cw_div4_attack conv1-11 100 0.9519521493361378\n"
     ]
    },
    {
     "data": {
      "application/vnd.jupyter.widget-view+json": {
       "model_id": "cc7e61686d194f6f8ce434033bd5d36d",
       "version_major": 2,
       "version_minor": 0
      },
      "text/plain": [
       "HBox(children=(IntProgress(value=0, max=56), HTML(value='')))"
      ]
     },
     "metadata": {},
     "output_type": "display_data"
    },
    {
     "name": "stdout",
     "output_type": "stream",
     "text": [
      "\n",
      "34 cw_div4_attack conv1-11 100 0.9518958102499577\n"
     ]
    },
    {
     "data": {
      "application/vnd.jupyter.widget-view+json": {
       "model_id": "b97fa154b3164525904cfef5e98d47df",
       "version_major": 2,
       "version_minor": 0
      },
      "text/plain": [
       "HBox(children=(IntProgress(value=0, max=56), HTML(value='')))"
      ]
     },
     "metadata": {},
     "output_type": "display_data"
    },
    {
     "name": "stdout",
     "output_type": "stream",
     "text": [
      "\n",
      "35 cw_div4_attack conv1-11 100 0.9519784409096884\n"
     ]
    },
    {
     "data": {
      "application/vnd.jupyter.widget-view+json": {
       "model_id": "ce4ade07fba04447be335d507be1c6cd",
       "version_major": 2,
       "version_minor": 0
      },
      "text/plain": [
       "HBox(children=(IntProgress(value=0, max=56), HTML(value='')))"
      ]
     },
     "metadata": {},
     "output_type": "display_data"
    },
    {
     "name": "stdout",
     "output_type": "stream",
     "text": [
      "\n",
      "36 cw_div4_attack conv2-22 0 0.9521756277113185\n"
     ]
    },
    {
     "data": {
      "application/vnd.jupyter.widget-view+json": {
       "model_id": "baa5af10000643db8ada9b95a7e987fd",
       "version_major": 2,
       "version_minor": 0
      },
      "text/plain": [
       "HBox(children=(IntProgress(value=0, max=56), HTML(value='')))"
      ]
     },
     "metadata": {},
     "output_type": "display_data"
    },
    {
     "name": "stdout",
     "output_type": "stream",
     "text": [
      "\n",
      "37 cw_div4_attack conv2-22 0 0.9519803188792277\n"
     ]
    },
    {
     "data": {
      "application/vnd.jupyter.widget-view+json": {
       "model_id": "1db0bd04ad09423994c7f81369267a7b",
       "version_major": 2,
       "version_minor": 0
      },
      "text/plain": [
       "HBox(children=(IntProgress(value=0, max=56), HTML(value='')))"
      ]
     },
     "metadata": {},
     "output_type": "display_data"
    },
    {
     "name": "stdout",
     "output_type": "stream",
     "text": [
      "\n",
      "38 cw_div4_attack conv2-22 0 0.9520779732952731\n"
     ]
    },
    {
     "data": {
      "application/vnd.jupyter.widget-view+json": {
       "model_id": "e33b2abb609d4a09bfa58b0e17364176",
       "version_major": 2,
       "version_minor": 0
      },
      "text/plain": [
       "HBox(children=(IntProgress(value=0, max=56), HTML(value='')))"
      ]
     },
     "metadata": {},
     "output_type": "display_data"
    },
    {
     "name": "stdout",
     "output_type": "stream",
     "text": [
      "\n",
      "39 cw_div4_attack conv2-22 0.001 0.9521831395894759\n"
     ]
    },
    {
     "data": {
      "application/vnd.jupyter.widget-view+json": {
       "model_id": "145a85bca2904cc5a04ab01c551613e0",
       "version_major": 2,
       "version_minor": 0
      },
      "text/plain": [
       "HBox(children=(IntProgress(value=0, max=56), HTML(value='')))"
      ]
     },
     "metadata": {},
     "output_type": "display_data"
    },
    {
     "name": "stdout",
     "output_type": "stream",
     "text": [
      "\n",
      "40 cw_div4_attack conv2-22 0.001 0.9520648275084979\n"
     ]
    },
    {
     "data": {
      "application/vnd.jupyter.widget-view+json": {
       "model_id": "7ab9f60533034615b3b5467370afb468",
       "version_major": 2,
       "version_minor": 0
      },
      "text/plain": [
       "HBox(children=(IntProgress(value=0, max=56), HTML(value='')))"
      ]
     },
     "metadata": {},
     "output_type": "display_data"
    },
    {
     "name": "stdout",
     "output_type": "stream",
     "text": [
      "\n",
      "41 cw_div4_attack conv2-22 0.001 0.9520066104527785\n"
     ]
    },
    {
     "data": {
      "application/vnd.jupyter.widget-view+json": {
       "model_id": "b3775f4516ea454e9572b754191c4466",
       "version_major": 2,
       "version_minor": 0
      },
      "text/plain": [
       "HBox(children=(IntProgress(value=0, max=56), HTML(value='')))"
      ]
     },
     "metadata": {},
     "output_type": "display_data"
    },
    {
     "name": "stdout",
     "output_type": "stream",
     "text": [
      "\n",
      "42 cw_div4_attack conv2-22 0.01 0.9521418242596105\n"
     ]
    },
    {
     "data": {
      "application/vnd.jupyter.widget-view+json": {
       "model_id": "50651151584741ccaa05d2be5247fe09",
       "version_major": 2,
       "version_minor": 0
      },
      "text/plain": [
       "HBox(children=(IntProgress(value=0, max=56), HTML(value='')))"
      ]
     },
     "metadata": {},
     "output_type": "display_data"
    },
    {
     "name": "stdout",
     "output_type": "stream",
     "text": [
      "\n",
      "43 cw_div4_attack conv2-22 0.01 0.9519821968487671\n"
     ]
    },
    {
     "data": {
      "application/vnd.jupyter.widget-view+json": {
       "model_id": "1b8d58ebfd56459aad0867c3a6ea468d",
       "version_major": 2,
       "version_minor": 0
      },
      "text/plain": [
       "HBox(children=(IntProgress(value=0, max=56), HTML(value='')))"
      ]
     },
     "metadata": {},
     "output_type": "display_data"
    },
    {
     "name": "stdout",
     "output_type": "stream",
     "text": [
      "\n",
      "44 cw_div4_attack conv2-22 0.01 0.9520798512648125\n"
     ]
    },
    {
     "data": {
      "application/vnd.jupyter.widget-view+json": {
       "model_id": "9958d9f5967f43ef93e39aad2d399132",
       "version_major": 2,
       "version_minor": 0
      },
      "text/plain": [
       "HBox(children=(IntProgress(value=0, max=56), HTML(value='')))"
      ]
     },
     "metadata": {},
     "output_type": "display_data"
    },
    {
     "name": "stdout",
     "output_type": "stream",
     "text": [
      "\n",
      "45 cw_div4_attack conv2-22 1 0.9521718717722398\n"
     ]
    },
    {
     "data": {
      "application/vnd.jupyter.widget-view+json": {
       "model_id": "502f06c161ec4efd9794a72903240fa7",
       "version_major": 2,
       "version_minor": 0
      },
      "text/plain": [
       "HBox(children=(IntProgress(value=0, max=56), HTML(value='')))"
      ]
     },
     "metadata": {},
     "output_type": "display_data"
    },
    {
     "name": "stdout",
     "output_type": "stream",
     "text": [
      "\n",
      "46 cw_div4_attack conv2-22 1 0.9521606039550039\n"
     ]
    },
    {
     "data": {
      "application/vnd.jupyter.widget-view+json": {
       "model_id": "7d55c2bc2607497c88d0dd07ca89f13e",
       "version_major": 2,
       "version_minor": 0
      },
      "text/plain": [
       "HBox(children=(IntProgress(value=0, max=56), HTML(value='')))"
      ]
     },
     "metadata": {},
     "output_type": "display_data"
    },
    {
     "name": "stdout",
     "output_type": "stream",
     "text": [
      "\n",
      "47 cw_div4_attack conv2-22 1 0.9521418242596105\n"
     ]
    },
    {
     "data": {
      "application/vnd.jupyter.widget-view+json": {
       "model_id": "ad1662ce02164842868e5b7da4dc197c",
       "version_major": 2,
       "version_minor": 0
      },
      "text/plain": [
       "HBox(children=(IntProgress(value=0, max=56), HTML(value='')))"
      ]
     },
     "metadata": {},
     "output_type": "display_data"
    },
    {
     "name": "stdout",
     "output_type": "stream",
     "text": [
      "\n",
      "48 cw_div4_attack conv2-22 10 0.9520873631429698\n"
     ]
    },
    {
     "data": {
      "application/vnd.jupyter.widget-view+json": {
       "model_id": "cbc81450a27345ef84270b748f92c5ca",
       "version_major": 2,
       "version_minor": 0
      },
      "text/plain": [
       "HBox(children=(IntProgress(value=0, max=56), HTML(value='')))"
      ]
     },
     "metadata": {},
     "output_type": "display_data"
    },
    {
     "name": "stdout",
     "output_type": "stream",
     "text": [
      "\n",
      "49 cw_div4_attack conv2-22 10 0.9519014441585757\n"
     ]
    },
    {
     "data": {
      "application/vnd.jupyter.widget-view+json": {
       "model_id": "ea252e64fe0d4595a38d3ef3f4b59326",
       "version_major": 2,
       "version_minor": 0
      },
      "text/plain": [
       "HBox(children=(IntProgress(value=0, max=56), HTML(value='')))"
      ]
     },
     "metadata": {},
     "output_type": "display_data"
    },
    {
     "name": "stdout",
     "output_type": "stream",
     "text": [
      "\n",
      "50 cw_div4_attack conv2-22 10 0.9519202238539691\n"
     ]
    },
    {
     "data": {
      "application/vnd.jupyter.widget-view+json": {
       "model_id": "e5c836d459894e42abc61f288ca0fccd",
       "version_major": 2,
       "version_minor": 0
      },
      "text/plain": [
       "HBox(children=(IntProgress(value=0, max=56), HTML(value='')))"
      ]
     },
     "metadata": {},
     "output_type": "display_data"
    },
    {
     "name": "stdout",
     "output_type": "stream",
     "text": [
      "\n",
      "51 cw_div4_attack conv2-22 100 0.9514601213168322\n"
     ]
    },
    {
     "data": {
      "application/vnd.jupyter.widget-view+json": {
       "model_id": "2cb41ad9875a40f58256c43d6d5d4ff1",
       "version_major": 2,
       "version_minor": 0
      },
      "text/plain": [
       "HBox(children=(IntProgress(value=0, max=56), HTML(value='')))"
      ]
     },
     "metadata": {},
     "output_type": "display_data"
    },
    {
     "name": "stdout",
     "output_type": "stream",
     "text": [
      "\n",
      "52 cw_div4_attack conv2-22 100 0.9517267929914177\n"
     ]
    },
    {
     "data": {
      "application/vnd.jupyter.widget-view+json": {
       "model_id": "3b83311118cd4d51a5caa3fefc04306c",
       "version_major": 2,
       "version_minor": 0
      },
      "text/plain": [
       "HBox(children=(IntProgress(value=0, max=56), HTML(value='')))"
      ]
     },
     "metadata": {},
     "output_type": "display_data"
    },
    {
     "name": "stdout",
     "output_type": "stream",
     "text": [
      "\n",
      "53 cw_div4_attack conv2-22 100 0.9518582508591711\n"
     ]
    },
    {
     "data": {
      "application/vnd.jupyter.widget-view+json": {
       "model_id": "ad6cc6381c5c4f4c91b1d39144a899f0",
       "version_major": 2,
       "version_minor": 0
      },
      "text/plain": [
       "HBox(children=(IntProgress(value=0, max=56), HTML(value='')))"
      ]
     },
     "metadata": {},
     "output_type": "display_data"
    },
    {
     "name": "stdout",
     "output_type": "stream",
     "text": [
      "\n",
      "54 cw_div4_attack conv1-33 0 0.9521249225337565\n"
     ]
    },
    {
     "data": {
      "application/vnd.jupyter.widget-view+json": {
       "model_id": "0ee182dadccb4540bc9ff415b76f1a9b",
       "version_major": 2,
       "version_minor": 0
      },
      "text/plain": [
       "HBox(children=(IntProgress(value=0, max=56), HTML(value='')))"
      ]
     },
     "metadata": {},
     "output_type": "display_data"
    },
    {
     "name": "stdout",
     "output_type": "stream",
     "text": [
      "\n",
      "55 cw_div4_attack conv1-33 0 0.9520235121786325\n"
     ]
    },
    {
     "data": {
      "application/vnd.jupyter.widget-view+json": {
       "model_id": "9fd3307ddaa648078aeeeab6816de69c",
       "version_major": 2,
       "version_minor": 0
      },
      "text/plain": [
       "HBox(children=(IntProgress(value=0, max=56), HTML(value='')))"
      ]
     },
     "metadata": {},
     "output_type": "display_data"
    },
    {
     "name": "stdout",
     "output_type": "stream",
     "text": [
      "\n",
      "56 cw_div4_attack conv1-33 0 0.9520516817217225\n"
     ]
    },
    {
     "data": {
      "application/vnd.jupyter.widget-view+json": {
       "model_id": "2a8a72c6fee74eb68fca91038fdfe5b8",
       "version_major": 2,
       "version_minor": 0
      },
      "text/plain": [
       "HBox(children=(IntProgress(value=0, max=56), HTML(value='')))"
      ]
     },
     "metadata": {},
     "output_type": "display_data"
    },
    {
     "name": "stdout",
     "output_type": "stream",
     "text": [
      "\n",
      "57 cw_div4_attack conv1-33 0.001 0.9521925294371725\n"
     ]
    },
    {
     "data": {
      "application/vnd.jupyter.widget-view+json": {
       "model_id": "29671fa246054d46a834ec4ba0859454",
       "version_major": 2,
       "version_minor": 0
      },
      "text/plain": [
       "HBox(children=(IntProgress(value=0, max=56), HTML(value='')))"
      ]
     },
     "metadata": {},
     "output_type": "display_data"
    },
    {
     "name": "stdout",
     "output_type": "stream",
     "text": [
      "\n",
      "58 cw_div4_attack conv1-33 0.001 0.9520272681177111\n"
     ]
    },
    {
     "data": {
      "application/vnd.jupyter.widget-view+json": {
       "model_id": "5524a6dc665749eb88c7d4555f70aa04",
       "version_major": 2,
       "version_minor": 0
      },
      "text/plain": [
       "HBox(children=(IntProgress(value=0, max=56), HTML(value='')))"
      ]
     },
     "metadata": {},
     "output_type": "display_data"
    },
    {
     "name": "stdout",
     "output_type": "stream",
     "text": [
      "\n",
      "59 cw_div4_attack conv1-33 0.001 0.9520347799958685\n"
     ]
    },
    {
     "data": {
      "application/vnd.jupyter.widget-view+json": {
       "model_id": "14269a91f3ca408e97aae1e3d9c23550",
       "version_major": 2,
       "version_minor": 0
      },
      "text/plain": [
       "HBox(children=(IntProgress(value=0, max=56), HTML(value='')))"
      ]
     },
     "metadata": {},
     "output_type": "display_data"
    },
    {
     "name": "stdout",
     "output_type": "stream",
     "text": [
      "\n",
      "60 cw_div4_attack conv1-33 0.01 0.9522075531934872\n"
     ]
    },
    {
     "data": {
      "application/vnd.jupyter.widget-view+json": {
       "model_id": "beb19c60a5d047e48fc20b492c6f3098",
       "version_major": 2,
       "version_minor": 0
      },
      "text/plain": [
       "HBox(children=(IntProgress(value=0, max=56), HTML(value='')))"
      ]
     },
     "metadata": {},
     "output_type": "display_data"
    },
    {
     "name": "stdout",
     "output_type": "stream",
     "text": [
      "\n",
      "61 cw_div4_attack conv1-33 0.01 0.9520967529906665\n"
     ]
    },
    {
     "data": {
      "application/vnd.jupyter.widget-view+json": {
       "model_id": "12df7cc535074f5f9ea1563f8e2bc442",
       "version_major": 2,
       "version_minor": 0
      },
      "text/plain": [
       "HBox(children=(IntProgress(value=0, max=56), HTML(value='')))"
      ]
     },
     "metadata": {},
     "output_type": "display_data"
    },
    {
     "name": "stdout",
     "output_type": "stream",
     "text": [
      "\n",
      "62 cw_div4_attack conv1-33 0.01 0.9520779732952731\n"
     ]
    },
    {
     "data": {
      "application/vnd.jupyter.widget-view+json": {
       "model_id": "afe0f2bab5284498a262471c0f4e0c5f",
       "version_major": 2,
       "version_minor": 0
      },
      "text/plain": [
       "HBox(children=(IntProgress(value=0, max=56), HTML(value='')))"
      ]
     },
     "metadata": {},
     "output_type": "display_data"
    },
    {
     "name": "stdout",
     "output_type": "stream",
     "text": [
      "\n",
      "63 cw_div4_attack conv1-33 1 0.9521493361377679\n"
     ]
    },
    {
     "data": {
      "application/vnd.jupyter.widget-view+json": {
       "model_id": "6d19cabba07949159a13e753a9ed46ea",
       "version_major": 2,
       "version_minor": 0
      },
      "text/plain": [
       "HBox(children=(IntProgress(value=0, max=56), HTML(value='')))"
      ]
     },
     "metadata": {},
     "output_type": "display_data"
    },
    {
     "name": "stdout",
     "output_type": "stream",
     "text": [
      "\n",
      "64 cw_div4_attack conv1-33 1 0.9520929970515878\n"
     ]
    },
    {
     "data": {
      "application/vnd.jupyter.widget-view+json": {
       "model_id": "8bfe1bd05cff4044a95d88a380f72370",
       "version_major": 2,
       "version_minor": 0
      },
      "text/plain": [
       "HBox(children=(IntProgress(value=0, max=56), HTML(value='')))"
      ]
     },
     "metadata": {},
     "output_type": "display_data"
    },
    {
     "name": "stdout",
     "output_type": "stream",
     "text": [
      "\n",
      "65 cw_div4_attack conv1-33 1 0.9521530920768465\n"
     ]
    },
    {
     "data": {
      "application/vnd.jupyter.widget-view+json": {
       "model_id": "93c2c266b00d4a4b8f8af42781db2d79",
       "version_major": 2,
       "version_minor": 0
      },
      "text/plain": [
       "HBox(children=(IntProgress(value=0, max=56), HTML(value='')))"
      ]
     },
     "metadata": {},
     "output_type": "display_data"
    },
    {
     "name": "stdout",
     "output_type": "stream",
     "text": [
      "\n",
      "66 cw_div4_attack conv1-33 10 0.9521699938027005\n"
     ]
    },
    {
     "data": {
      "application/vnd.jupyter.widget-view+json": {
       "model_id": "3cf43087ff4c41038429d4cff6dc0f6a",
       "version_major": 2,
       "version_minor": 0
      },
      "text/plain": [
       "HBox(children=(IntProgress(value=0, max=56), HTML(value='')))"
      ]
     },
     "metadata": {},
     "output_type": "display_data"
    },
    {
     "name": "stdout",
     "output_type": "stream",
     "text": [
      "\n",
      "67 cw_div4_attack conv1-33 10 0.9521681158331612\n"
     ]
    },
    {
     "data": {
      "application/vnd.jupyter.widget-view+json": {
       "model_id": "e20b415b5e3a4fd39c83809631686b44",
       "version_major": 2,
       "version_minor": 0
      },
      "text/plain": [
       "HBox(children=(IntProgress(value=0, max=56), HTML(value='')))"
      ]
     },
     "metadata": {},
     "output_type": "display_data"
    },
    {
     "name": "stdout",
     "output_type": "stream",
     "text": [
      "\n",
      "68 cw_div4_attack conv1-33 10 0.9521286784728352\n"
     ]
    },
    {
     "data": {
      "application/vnd.jupyter.widget-view+json": {
       "model_id": "b438da2aac774fd4a899e0b956969c1b",
       "version_major": 2,
       "version_minor": 0
      },
      "text/plain": [
       "HBox(children=(IntProgress(value=0, max=56), HTML(value='')))"
      ]
     },
     "metadata": {},
     "output_type": "display_data"
    },
    {
     "name": "stdout",
     "output_type": "stream",
     "text": [
      "\n",
      "69 cw_div4_attack conv1-33 100 0.9521512141073072\n"
     ]
    },
    {
     "data": {
      "application/vnd.jupyter.widget-view+json": {
       "model_id": "6c6795fb3f5544478437a8df5e208fe5",
       "version_major": 2,
       "version_minor": 0
      },
      "text/plain": [
       "HBox(children=(IntProgress(value=0, max=56), HTML(value='')))"
      ]
     },
     "metadata": {},
     "output_type": "display_data"
    },
    {
     "name": "stdout",
     "output_type": "stream",
     "text": [
      "\n",
      "70 cw_div4_attack conv1-33 100 0.9519183458844298\n"
     ]
    },
    {
     "data": {
      "application/vnd.jupyter.widget-view+json": {
       "model_id": "e582ad75c3484418ba4132b7aaf86743",
       "version_major": 2,
       "version_minor": 0
      },
      "text/plain": [
       "HBox(children=(IntProgress(value=0, max=56), HTML(value='')))"
      ]
     },
     "metadata": {},
     "output_type": "display_data"
    },
    {
     "name": "stdout",
     "output_type": "stream",
     "text": [
      "\n",
      "71 cw_div4_attack conv1-33 100 0.9521850175590152\n"
     ]
    },
    {
     "data": {
      "application/vnd.jupyter.widget-view+json": {
       "model_id": "f9f58e40751a47b88f41c4d7ec8dc61f",
       "version_major": 2,
       "version_minor": 0
      },
      "text/plain": [
       "HBox(children=(IntProgress(value=0, max=56), HTML(value='')))"
      ]
     },
     "metadata": {},
     "output_type": "display_data"
    },
    {
     "name": "stdout",
     "output_type": "stream",
     "text": [
      "\n",
      "72 cw_div4_attack conv2-44 0 0.9522075531934872\n"
     ]
    },
    {
     "data": {
      "application/vnd.jupyter.widget-view+json": {
       "model_id": "12c17328eb614f14b60cf37340325e2d",
       "version_major": 2,
       "version_minor": 0
      },
      "text/plain": [
       "HBox(children=(IntProgress(value=0, max=56), HTML(value='')))"
      ]
     },
     "metadata": {},
     "output_type": "display_data"
    },
    {
     "name": "stdout",
     "output_type": "stream",
     "text": [
      "\n",
      "73 cw_div4_attack conv2-44 0 0.9519990985746212\n"
     ]
    },
    {
     "data": {
      "application/vnd.jupyter.widget-view+json": {
       "model_id": "8e854aecb4ab47b99008993b8b774bb4",
       "version_major": 2,
       "version_minor": 0
      },
      "text/plain": [
       "HBox(children=(IntProgress(value=0, max=56), HTML(value='')))"
      ]
     },
     "metadata": {},
     "output_type": "display_data"
    },
    {
     "name": "stdout",
     "output_type": "stream",
     "text": [
      "\n",
      "74 cw_div4_attack conv2-44 0 0.9520291460872504\n"
     ]
    },
    {
     "data": {
      "application/vnd.jupyter.widget-view+json": {
       "model_id": "a16df754171b432d8b6a370dbe4c25dd",
       "version_major": 2,
       "version_minor": 0
      },
      "text/plain": [
       "HBox(children=(IntProgress(value=0, max=56), HTML(value='')))"
      ]
     },
     "metadata": {},
     "output_type": "display_data"
    },
    {
     "name": "stdout",
     "output_type": "stream",
     "text": [
      "\n",
      "75 cw_div4_attack conv2-44 0.001 0.9521868955285545\n"
     ]
    },
    {
     "data": {
      "application/vnd.jupyter.widget-view+json": {
       "model_id": "00d65700d0224eafae1a76046c136a6c",
       "version_major": 2,
       "version_minor": 0
      },
      "text/plain": [
       "HBox(children=(IntProgress(value=0, max=56), HTML(value='')))"
      ]
     },
     "metadata": {},
     "output_type": "display_data"
    },
    {
     "name": "stdout",
     "output_type": "stream",
     "text": [
      "\n",
      "76 cw_div4_attack conv2-44 0.001 0.9520197562395538\n"
     ]
    },
    {
     "data": {
      "application/vnd.jupyter.widget-view+json": {
       "model_id": "44196648f4c24cd2b958ea3cf27c6458",
       "version_major": 2,
       "version_minor": 0
      },
      "text/plain": [
       "HBox(children=(IntProgress(value=0, max=56), HTML(value='')))"
      ]
     },
     "metadata": {},
     "output_type": "display_data"
    },
    {
     "name": "stdout",
     "output_type": "stream",
     "text": [
      "\n",
      "77 cw_div4_attack conv2-44 0.001 0.9520554376608011\n"
     ]
    },
    {
     "data": {
      "application/vnd.jupyter.widget-view+json": {
       "model_id": "d092f3ea6dbc46b7a9f5f8edd7554079",
       "version_major": 2,
       "version_minor": 0
      },
      "text/plain": [
       "HBox(children=(IntProgress(value=0, max=56), HTML(value='')))"
      ]
     },
     "metadata": {},
     "output_type": "display_data"
    },
    {
     "name": "stdout",
     "output_type": "stream",
     "text": [
      "\n",
      "78 cw_div4_attack conv2-44 0.01 0.9521305564423745\n"
     ]
    },
    {
     "data": {
      "application/vnd.jupyter.widget-view+json": {
       "model_id": "a00842b6c05d449c9c3fba565812ee12",
       "version_major": 2,
       "version_minor": 0
      },
      "text/plain": [
       "HBox(children=(IntProgress(value=0, max=56), HTML(value='')))"
      ]
     },
     "metadata": {},
     "output_type": "display_data"
    },
    {
     "name": "stdout",
     "output_type": "stream",
     "text": [
      "\n",
      "79 cw_div4_attack conv2-44 0.01 0.9520479257826439\n"
     ]
    },
    {
     "data": {
      "application/vnd.jupyter.widget-view+json": {
       "model_id": "c87ecbf8e1814d618bc9a44a1d960072",
       "version_major": 2,
       "version_minor": 0
      },
      "text/plain": [
       "HBox(children=(IntProgress(value=0, max=56), HTML(value='')))"
      ]
     },
     "metadata": {},
     "output_type": "display_data"
    },
    {
     "name": "stdout",
     "output_type": "stream",
     "text": [
      "\n",
      "80 cw_div4_attack conv2-44 0.01 0.9520892411125091\n"
     ]
    },
    {
     "data": {
      "application/vnd.jupyter.widget-view+json": {
       "model_id": "0cc151424fd64c09a5488ef92020fdba",
       "version_major": 2,
       "version_minor": 0
      },
      "text/plain": [
       "HBox(children=(IntProgress(value=0, max=56), HTML(value='')))"
      ]
     },
     "metadata": {},
     "output_type": "display_data"
    },
    {
     "name": "stdout",
     "output_type": "stream",
     "text": [
      "\n",
      "81 cw_div4_attack conv2-44 1 0.9522601363405886\n"
     ]
    },
    {
     "data": {
      "application/vnd.jupyter.widget-view+json": {
       "model_id": "0476c6fab9d440fa9de9649adf8a543e",
       "version_major": 2,
       "version_minor": 0
      },
      "text/plain": [
       "HBox(children=(IntProgress(value=0, max=56), HTML(value='')))"
      ]
     },
     "metadata": {},
     "output_type": "display_data"
    },
    {
     "name": "stdout",
     "output_type": "stream",
     "text": [
      "\n",
      "82 cw_div4_attack conv2-44 1 0.9520610715694191\n"
     ]
    },
    {
     "data": {
      "application/vnd.jupyter.widget-view+json": {
       "model_id": "8b70f9cb1a264de7b1df540b869e5173",
       "version_major": 2,
       "version_minor": 0
      },
      "text/plain": [
       "HBox(children=(IntProgress(value=0, max=56), HTML(value='')))"
      ]
     },
     "metadata": {},
     "output_type": "display_data"
    },
    {
     "name": "stdout",
     "output_type": "stream",
     "text": [
      "\n",
      "83 cw_div4_attack conv2-44 1 0.9522150650716446\n"
     ]
    },
    {
     "data": {
      "application/vnd.jupyter.widget-view+json": {
       "model_id": "68289144c0954c2bb4ed596fcb519685",
       "version_major": 2,
       "version_minor": 0
      },
      "text/plain": [
       "HBox(children=(IntProgress(value=0, max=56), HTML(value='')))"
      ]
     },
     "metadata": {},
     "output_type": "display_data"
    },
    {
     "name": "stdout",
     "output_type": "stream",
     "text": [
      "\n",
      "84 cw_div4_attack conv2-44 10 0.9519934646660031\n"
     ]
    },
    {
     "data": {
      "application/vnd.jupyter.widget-view+json": {
       "model_id": "4eb6872d45604cd0ba9658f0edd75ff9",
       "version_major": 2,
       "version_minor": 0
      },
      "text/plain": [
       "HBox(children=(IntProgress(value=0, max=56), HTML(value='')))"
      ]
     },
     "metadata": {},
     "output_type": "display_data"
    },
    {
     "name": "stdout",
     "output_type": "stream",
     "text": [
      "\n",
      "85 cw_div4_attack conv2-44 10 0.9520441698435651\n"
     ]
    },
    {
     "data": {
      "application/vnd.jupyter.widget-view+json": {
       "model_id": "15a9fdf9c19442ed82f1399d04a51d6d",
       "version_major": 2,
       "version_minor": 0
      },
      "text/plain": [
       "HBox(children=(IntProgress(value=0, max=56), HTML(value='')))"
      ]
     },
     "metadata": {},
     "output_type": "display_data"
    },
    {
     "name": "stdout",
     "output_type": "stream",
     "text": [
      "\n",
      "86 cw_div4_attack conv2-44 10 0.9519502713665985\n"
     ]
    },
    {
     "data": {
      "application/vnd.jupyter.widget-view+json": {
       "model_id": "69f6ce01a3ff43089dc0a2011531a47d",
       "version_major": 2,
       "version_minor": 0
      },
      "text/plain": [
       "HBox(children=(IntProgress(value=0, max=56), HTML(value='')))"
      ]
     },
     "metadata": {},
     "output_type": "display_data"
    },
    {
     "name": "stdout",
     "output_type": "stream",
     "text": [
      "\n",
      "87 cw_div4_attack conv2-44 100 0.9512253751244155\n"
     ]
    },
    {
     "data": {
      "application/vnd.jupyter.widget-view+json": {
       "model_id": "9d7e6f3fd45a441683813303a86c1d48",
       "version_major": 2,
       "version_minor": 0
      },
      "text/plain": [
       "HBox(children=(IntProgress(value=0, max=56), HTML(value='')))"
      ]
     },
     "metadata": {},
     "output_type": "display_data"
    },
    {
     "name": "stdout",
     "output_type": "stream",
     "text": [
      "\n",
      "88 cw_div4_attack conv2-44 100 0.9518150575597664\n"
     ]
    },
    {
     "data": {
      "application/vnd.jupyter.widget-view+json": {
       "model_id": "83d6dd5e91a843f08adf5a6f24bb594e",
       "version_major": 2,
       "version_minor": 0
      },
      "text/plain": [
       "HBox(children=(IntProgress(value=0, max=56), HTML(value='')))"
      ]
     },
     "metadata": {},
     "output_type": "display_data"
    },
    {
     "name": "stdout",
     "output_type": "stream",
     "text": [
      "\n",
      "89 cw_div4_attack conv2-44 100 0.9515164604030123\n"
     ]
    },
    {
     "data": {
      "application/vnd.jupyter.widget-view+json": {
       "model_id": "436a1561254645ae9d2228b78a4a8401",
       "version_major": 2,
       "version_minor": 0
      },
      "text/plain": [
       "HBox(children=(IntProgress(value=0, max=56), HTML(value='')))"
      ]
     },
     "metadata": {},
     "output_type": "display_data"
    },
    {
     "name": "stdout",
     "output_type": "stream",
     "text": [
      "\n",
      "90 cw_div4_attack linear-55 0 0.9522037972544085\n"
     ]
    },
    {
     "data": {
      "application/vnd.jupyter.widget-view+json": {
       "model_id": "cefc859e736a4d3fb59e31e0cd67dc6d",
       "version_major": 2,
       "version_minor": 0
      },
      "text/plain": [
       "HBox(children=(IntProgress(value=0, max=56), HTML(value='')))"
      ]
     },
     "metadata": {},
     "output_type": "display_data"
    },
    {
     "name": "stdout",
     "output_type": "stream",
     "text": [
      "\n",
      "91 cw_div4_attack linear-55 0 0.9519953426355424\n"
     ]
    },
    {
     "data": {
      "application/vnd.jupyter.widget-view+json": {
       "model_id": "d95dccc03711400e9ace39fdb50eb944",
       "version_major": 2,
       "version_minor": 0
      },
      "text/plain": [
       "HBox(children=(IntProgress(value=0, max=56), HTML(value='')))"
      ]
     },
     "metadata": {},
     "output_type": "display_data"
    },
    {
     "name": "stdout",
     "output_type": "stream",
     "text": [
      "\n",
      "92 cw_div4_attack linear-55 0 0.9520610715694191\n"
     ]
    },
    {
     "data": {
      "application/vnd.jupyter.widget-view+json": {
       "model_id": "4322b98d1ffb405ab371c7493169dbcb",
       "version_major": 2,
       "version_minor": 0
      },
      "text/plain": [
       "HBox(children=(IntProgress(value=0, max=56), HTML(value='')))"
      ]
     },
     "metadata": {},
     "output_type": "display_data"
    },
    {
     "name": "stdout",
     "output_type": "stream",
     "text": [
      "\n",
      "93 cw_div4_attack linear-55 0.001 0.9521493361377679\n"
     ]
    },
    {
     "data": {
      "application/vnd.jupyter.widget-view+json": {
       "model_id": "de06e86b156d48ca96b9335523e4189d",
       "version_major": 2,
       "version_minor": 0
      },
      "text/plain": [
       "HBox(children=(IntProgress(value=0, max=56), HTML(value='')))"
      ]
     },
     "metadata": {},
     "output_type": "display_data"
    },
    {
     "name": "stdout",
     "output_type": "stream",
     "text": [
      "\n",
      "94 cw_div4_attack linear-55 0.001 0.9520141223309357\n"
     ]
    },
    {
     "data": {
      "application/vnd.jupyter.widget-view+json": {
       "model_id": "2276a019491a4f67a5e390f363d68286",
       "version_major": 2,
       "version_minor": 0
      },
      "text/plain": [
       "HBox(children=(IntProgress(value=0, max=56), HTML(value='')))"
      ]
     },
     "metadata": {},
     "output_type": "display_data"
    },
    {
     "name": "stdout",
     "output_type": "stream",
     "text": [
      "\n",
      "95 cw_div4_attack linear-55 0.001 0.9520554376608011\n"
     ]
    },
    {
     "data": {
      "application/vnd.jupyter.widget-view+json": {
       "model_id": "957095d912d54ce7b21d112dc61d2f9d",
       "version_major": 2,
       "version_minor": 0
      },
      "text/plain": [
       "HBox(children=(IntProgress(value=0, max=56), HTML(value='')))"
      ]
     },
     "metadata": {},
     "output_type": "display_data"
    },
    {
     "name": "stdout",
     "output_type": "stream",
     "text": [
      "\n",
      "96 cw_div4_attack linear-55 0.01 0.9521286784728352\n"
     ]
    },
    {
     "data": {
      "application/vnd.jupyter.widget-view+json": {
       "model_id": "2d9dfecc00d74b82a53ab1671e820ea8",
       "version_major": 2,
       "version_minor": 0
      },
      "text/plain": [
       "HBox(children=(IntProgress(value=0, max=56), HTML(value='')))"
      ]
     },
     "metadata": {},
     "output_type": "display_data"
    },
    {
     "name": "stdout",
     "output_type": "stream",
     "text": [
      "\n",
      "97 cw_div4_attack linear-55 0.01 0.9520160003004752\n"
     ]
    },
    {
     "data": {
      "application/vnd.jupyter.widget-view+json": {
       "model_id": "8e87bde7a3814ec787134d76a27608d3",
       "version_major": 2,
       "version_minor": 0
      },
      "text/plain": [
       "HBox(children=(IntProgress(value=0, max=56), HTML(value='')))"
      ]
     },
     "metadata": {},
     "output_type": "display_data"
    },
    {
     "name": "stdout",
     "output_type": "stream",
     "text": [
      "\n",
      "98 cw_div4_attack linear-55 0.01 0.9520986309602059\n"
     ]
    },
    {
     "data": {
      "application/vnd.jupyter.widget-view+json": {
       "model_id": "63dedcb3d51c43edbeda1c4d0580cec6",
       "version_major": 2,
       "version_minor": 0
      },
      "text/plain": [
       "HBox(children=(IntProgress(value=0, max=56), HTML(value='')))"
      ]
     },
     "metadata": {},
     "output_type": "display_data"
    },
    {
     "name": "stdout",
     "output_type": "stream",
     "text": [
      "\n",
      "99 cw_div4_attack linear-55 1 0.9521606039550039\n"
     ]
    },
    {
     "data": {
      "application/vnd.jupyter.widget-view+json": {
       "model_id": "d5531b6bace244e38cb57b47c8e0b47f",
       "version_major": 2,
       "version_minor": 0
      },
      "text/plain": [
       "HBox(children=(IntProgress(value=0, max=56), HTML(value='')))"
      ]
     },
     "metadata": {},
     "output_type": "display_data"
    },
    {
     "name": "stdout",
     "output_type": "stream",
     "text": [
      "\n",
      "100 cw_div4_attack linear-55 1 0.9520103663918571\n"
     ]
    },
    {
     "data": {
      "application/vnd.jupyter.widget-view+json": {
       "model_id": "67d47dc86cd046da85c139eb3e95dd66",
       "version_major": 2,
       "version_minor": 0
      },
      "text/plain": [
       "HBox(children=(IntProgress(value=0, max=56), HTML(value='')))"
      ]
     },
     "metadata": {},
     "output_type": "display_data"
    },
    {
     "name": "stdout",
     "output_type": "stream",
     "text": [
      "\n",
      "101 cw_div4_attack linear-55 1 0.9520836072038912\n"
     ]
    },
    {
     "data": {
      "application/vnd.jupyter.widget-view+json": {
       "model_id": "8b5a6a3de1ce4598ab6c9a7e0ef55cdd",
       "version_major": 2,
       "version_minor": 0
      },
      "text/plain": [
       "HBox(children=(IntProgress(value=0, max=56), HTML(value='')))"
      ]
     },
     "metadata": {},
     "output_type": "display_data"
    },
    {
     "name": "stdout",
     "output_type": "stream",
     "text": [
      "\n",
      "102 cw_div4_attack linear-55 10 0.9521380683205318\n"
     ]
    },
    {
     "data": {
      "application/vnd.jupyter.widget-view+json": {
       "model_id": "9e2aafb394f1426a8113d7b01f70c7b1",
       "version_major": 2,
       "version_minor": 0
      },
      "text/plain": [
       "HBox(children=(IntProgress(value=0, max=56), HTML(value='')))"
      ]
     },
     "metadata": {},
     "output_type": "display_data"
    },
    {
     "name": "stdout",
     "output_type": "stream",
     "text": [
      "\n",
      "103 cw_div4_attack linear-55 10 0.9521080208079025\n"
     ]
    },
    {
     "data": {
      "application/vnd.jupyter.widget-view+json": {
       "model_id": "edd94944f754434c862efc95332f6ad7",
       "version_major": 2,
       "version_minor": 0
      },
      "text/plain": [
       "HBox(children=(IntProgress(value=0, max=56), HTML(value='')))"
      ]
     },
     "metadata": {},
     "output_type": "display_data"
    },
    {
     "name": "stdout",
     "output_type": "stream",
     "text": [
      "\n",
      "104 cw_div4_attack linear-55 10 0.9521192886251385\n"
     ]
    },
    {
     "data": {
      "application/vnd.jupyter.widget-view+json": {
       "model_id": "7d49acf5b462433297850dfc501b9b69",
       "version_major": 2,
       "version_minor": 0
      },
      "text/plain": [
       "HBox(children=(IntProgress(value=0, max=56), HTML(value='')))"
      ]
     },
     "metadata": {},
     "output_type": "display_data"
    },
    {
     "name": "stdout",
     "output_type": "stream",
     "text": [
      "\n",
      "105 cw_div4_attack linear-55 100 0.9522019192848692\n"
     ]
    },
    {
     "data": {
      "application/vnd.jupyter.widget-view+json": {
       "model_id": "5d37b4fc968d4806945ce543e41bd6a3",
       "version_major": 2,
       "version_minor": 0
      },
      "text/plain": [
       "HBox(children=(IntProgress(value=0, max=56), HTML(value='')))"
      ]
     },
     "metadata": {},
     "output_type": "display_data"
    },
    {
     "name": "stdout",
     "output_type": "stream",
     "text": [
      "\n",
      "106 cw_div4_attack linear-55 100 0.9520986309602059\n"
     ]
    },
    {
     "data": {
      "application/vnd.jupyter.widget-view+json": {
       "model_id": "68142658130b459196a393d1c8b81a2a",
       "version_major": 2,
       "version_minor": 0
      },
      "text/plain": [
       "HBox(children=(IntProgress(value=0, max=56), HTML(value='')))"
      ]
     },
     "metadata": {},
     "output_type": "display_data"
    },
    {
     "name": "stdout",
     "output_type": "stream",
     "text": [
      "\n",
      "107 cw_div4_attack linear-55 100 0.9521155326860599\n"
     ]
    }
   ],
   "source": [
    "for i in range(len(results)):\n",
    "    a = results[i]['attack'] \n",
    "    l = results[i]['layer']\n",
    "    rw = results[i]['regularization_weight']\n",
    "    nc = eval_nc(model, results[i]['adversaries'], threshold=0.)\n",
    "    results[i]['neuron_coverage'] = nc\n",
    "    print(i, a, l, rw, nc) "
   ]
  },
  {
   "cell_type": "code",
   "execution_count": 15,
   "metadata": {},
   "outputs": [
    {
     "data": {
      "text/html": [
       "<div>\n",
       "<style scoped>\n",
       "    .dataframe tbody tr th:only-of-type {\n",
       "        vertical-align: middle;\n",
       "    }\n",
       "\n",
       "    .dataframe tbody tr th {\n",
       "        vertical-align: top;\n",
       "    }\n",
       "\n",
       "    .dataframe thead th {\n",
       "        text-align: right;\n",
       "    }\n",
       "</style>\n",
       "<table border=\"1\" class=\"dataframe\">\n",
       "  <thead>\n",
       "    <tr style=\"text-align: right;\">\n",
       "      <th></th>\n",
       "      <th>attack</th>\n",
       "      <th>layer</th>\n",
       "      <th>regularization_weight</th>\n",
       "      <th>orig_acc</th>\n",
       "      <th>pert_acc</th>\n",
       "      <th>neuron_coverage</th>\n",
       "    </tr>\n",
       "  </thead>\n",
       "  <tbody>\n",
       "    <tr>\n",
       "      <th>0</th>\n",
       "      <td>cw_div4_attack</td>\n",
       "      <td>conv1-0</td>\n",
       "      <td>0.000</td>\n",
       "      <td>0.93</td>\n",
       "      <td>0.69</td>\n",
       "      <td>0.952168</td>\n",
       "    </tr>\n",
       "    <tr>\n",
       "      <th>1</th>\n",
       "      <td>cw_div4_attack</td>\n",
       "      <td>conv1-0</td>\n",
       "      <td>0.000</td>\n",
       "      <td>0.93</td>\n",
       "      <td>0.13</td>\n",
       "      <td>0.952003</td>\n",
       "    </tr>\n",
       "    <tr>\n",
       "      <th>2</th>\n",
       "      <td>cw_div4_attack</td>\n",
       "      <td>conv1-0</td>\n",
       "      <td>0.000</td>\n",
       "      <td>0.93</td>\n",
       "      <td>0.10</td>\n",
       "      <td>0.952031</td>\n",
       "    </tr>\n",
       "    <tr>\n",
       "      <th>3</th>\n",
       "      <td>cw_div4_attack</td>\n",
       "      <td>conv1-0</td>\n",
       "      <td>0.001</td>\n",
       "      <td>0.93</td>\n",
       "      <td>0.61</td>\n",
       "      <td>0.952217</td>\n",
       "    </tr>\n",
       "    <tr>\n",
       "      <th>4</th>\n",
       "      <td>cw_div4_attack</td>\n",
       "      <td>conv1-0</td>\n",
       "      <td>0.001</td>\n",
       "      <td>0.93</td>\n",
       "      <td>0.12</td>\n",
       "      <td>0.952012</td>\n",
       "    </tr>\n",
       "    <tr>\n",
       "      <th>5</th>\n",
       "      <td>cw_div4_attack</td>\n",
       "      <td>conv1-0</td>\n",
       "      <td>0.001</td>\n",
       "      <td>0.93</td>\n",
       "      <td>0.12</td>\n",
       "      <td>0.952037</td>\n",
       "    </tr>\n",
       "    <tr>\n",
       "      <th>6</th>\n",
       "      <td>cw_div4_attack</td>\n",
       "      <td>conv1-0</td>\n",
       "      <td>0.010</td>\n",
       "      <td>0.93</td>\n",
       "      <td>0.64</td>\n",
       "      <td>0.952136</td>\n",
       "    </tr>\n",
       "    <tr>\n",
       "      <th>7</th>\n",
       "      <td>cw_div4_attack</td>\n",
       "      <td>conv1-0</td>\n",
       "      <td>0.010</td>\n",
       "      <td>0.93</td>\n",
       "      <td>0.10</td>\n",
       "      <td>0.952080</td>\n",
       "    </tr>\n",
       "    <tr>\n",
       "      <th>8</th>\n",
       "      <td>cw_div4_attack</td>\n",
       "      <td>conv1-0</td>\n",
       "      <td>0.010</td>\n",
       "      <td>0.93</td>\n",
       "      <td>0.11</td>\n",
       "      <td>0.952095</td>\n",
       "    </tr>\n",
       "    <tr>\n",
       "      <th>9</th>\n",
       "      <td>cw_div4_attack</td>\n",
       "      <td>conv1-0</td>\n",
       "      <td>1.000</td>\n",
       "      <td>0.93</td>\n",
       "      <td>0.69</td>\n",
       "      <td>0.952174</td>\n",
       "    </tr>\n",
       "    <tr>\n",
       "      <th>10</th>\n",
       "      <td>cw_div4_attack</td>\n",
       "      <td>conv1-0</td>\n",
       "      <td>1.000</td>\n",
       "      <td>0.93</td>\n",
       "      <td>0.11</td>\n",
       "      <td>0.952014</td>\n",
       "    </tr>\n",
       "    <tr>\n",
       "      <th>11</th>\n",
       "      <td>cw_div4_attack</td>\n",
       "      <td>conv1-0</td>\n",
       "      <td>1.000</td>\n",
       "      <td>0.93</td>\n",
       "      <td>0.12</td>\n",
       "      <td>0.952084</td>\n",
       "    </tr>\n",
       "    <tr>\n",
       "      <th>12</th>\n",
       "      <td>cw_div4_attack</td>\n",
       "      <td>conv1-0</td>\n",
       "      <td>10.000</td>\n",
       "      <td>0.93</td>\n",
       "      <td>0.60</td>\n",
       "      <td>0.952134</td>\n",
       "    </tr>\n",
       "    <tr>\n",
       "      <th>13</th>\n",
       "      <td>cw_div4_attack</td>\n",
       "      <td>conv1-0</td>\n",
       "      <td>10.000</td>\n",
       "      <td>0.93</td>\n",
       "      <td>0.17</td>\n",
       "      <td>0.951931</td>\n",
       "    </tr>\n",
       "    <tr>\n",
       "      <th>14</th>\n",
       "      <td>cw_div4_attack</td>\n",
       "      <td>conv1-0</td>\n",
       "      <td>10.000</td>\n",
       "      <td>0.93</td>\n",
       "      <td>0.13</td>\n",
       "      <td>0.952057</td>\n",
       "    </tr>\n",
       "    <tr>\n",
       "      <th>15</th>\n",
       "      <td>cw_div4_attack</td>\n",
       "      <td>conv1-0</td>\n",
       "      <td>100.000</td>\n",
       "      <td>0.93</td>\n",
       "      <td>0.68</td>\n",
       "      <td>0.952168</td>\n",
       "    </tr>\n",
       "    <tr>\n",
       "      <th>16</th>\n",
       "      <td>cw_div4_attack</td>\n",
       "      <td>conv1-0</td>\n",
       "      <td>100.000</td>\n",
       "      <td>0.93</td>\n",
       "      <td>0.12</td>\n",
       "      <td>0.951975</td>\n",
       "    </tr>\n",
       "    <tr>\n",
       "      <th>17</th>\n",
       "      <td>cw_div4_attack</td>\n",
       "      <td>conv1-0</td>\n",
       "      <td>100.000</td>\n",
       "      <td>0.93</td>\n",
       "      <td>0.13</td>\n",
       "      <td>0.952069</td>\n",
       "    </tr>\n",
       "    <tr>\n",
       "      <th>18</th>\n",
       "      <td>cw_div4_attack</td>\n",
       "      <td>conv1-11</td>\n",
       "      <td>0.000</td>\n",
       "      <td>0.93</td>\n",
       "      <td>0.58</td>\n",
       "      <td>0.952191</td>\n",
       "    </tr>\n",
       "    <tr>\n",
       "      <th>19</th>\n",
       "      <td>cw_div4_attack</td>\n",
       "      <td>conv1-11</td>\n",
       "      <td>0.000</td>\n",
       "      <td>0.93</td>\n",
       "      <td>0.13</td>\n",
       "      <td>0.951980</td>\n",
       "    </tr>\n",
       "    <tr>\n",
       "      <th>20</th>\n",
       "      <td>cw_div4_attack</td>\n",
       "      <td>conv1-11</td>\n",
       "      <td>0.000</td>\n",
       "      <td>0.93</td>\n",
       "      <td>0.13</td>\n",
       "      <td>0.952070</td>\n",
       "    </tr>\n",
       "    <tr>\n",
       "      <th>21</th>\n",
       "      <td>cw_div4_attack</td>\n",
       "      <td>conv1-11</td>\n",
       "      <td>0.001</td>\n",
       "      <td>0.93</td>\n",
       "      <td>0.61</td>\n",
       "      <td>0.952183</td>\n",
       "    </tr>\n",
       "    <tr>\n",
       "      <th>22</th>\n",
       "      <td>cw_div4_attack</td>\n",
       "      <td>conv1-11</td>\n",
       "      <td>0.001</td>\n",
       "      <td>0.93</td>\n",
       "      <td>0.09</td>\n",
       "      <td>0.952003</td>\n",
       "    </tr>\n",
       "    <tr>\n",
       "      <th>23</th>\n",
       "      <td>cw_div4_attack</td>\n",
       "      <td>conv1-11</td>\n",
       "      <td>0.001</td>\n",
       "      <td>0.93</td>\n",
       "      <td>0.11</td>\n",
       "      <td>0.952114</td>\n",
       "    </tr>\n",
       "    <tr>\n",
       "      <th>24</th>\n",
       "      <td>cw_div4_attack</td>\n",
       "      <td>conv1-11</td>\n",
       "      <td>0.010</td>\n",
       "      <td>0.93</td>\n",
       "      <td>0.61</td>\n",
       "      <td>0.952217</td>\n",
       "    </tr>\n",
       "    <tr>\n",
       "      <th>25</th>\n",
       "      <td>cw_div4_attack</td>\n",
       "      <td>conv1-11</td>\n",
       "      <td>0.010</td>\n",
       "      <td>0.93</td>\n",
       "      <td>0.11</td>\n",
       "      <td>0.952007</td>\n",
       "    </tr>\n",
       "    <tr>\n",
       "      <th>26</th>\n",
       "      <td>cw_div4_attack</td>\n",
       "      <td>conv1-11</td>\n",
       "      <td>0.010</td>\n",
       "      <td>0.93</td>\n",
       "      <td>0.12</td>\n",
       "      <td>0.952024</td>\n",
       "    </tr>\n",
       "    <tr>\n",
       "      <th>27</th>\n",
       "      <td>cw_div4_attack</td>\n",
       "      <td>conv1-11</td>\n",
       "      <td>1.000</td>\n",
       "      <td>0.93</td>\n",
       "      <td>0.61</td>\n",
       "      <td>0.952151</td>\n",
       "    </tr>\n",
       "    <tr>\n",
       "      <th>28</th>\n",
       "      <td>cw_div4_attack</td>\n",
       "      <td>conv1-11</td>\n",
       "      <td>1.000</td>\n",
       "      <td>0.93</td>\n",
       "      <td>0.11</td>\n",
       "      <td>0.951992</td>\n",
       "    </tr>\n",
       "    <tr>\n",
       "      <th>29</th>\n",
       "      <td>cw_div4_attack</td>\n",
       "      <td>conv1-11</td>\n",
       "      <td>1.000</td>\n",
       "      <td>0.93</td>\n",
       "      <td>0.09</td>\n",
       "      <td>0.952095</td>\n",
       "    </tr>\n",
       "    <tr>\n",
       "      <th>30</th>\n",
       "      <td>cw_div4_attack</td>\n",
       "      <td>conv1-11</td>\n",
       "      <td>10.000</td>\n",
       "      <td>0.93</td>\n",
       "      <td>0.59</td>\n",
       "      <td>0.952215</td>\n",
       "    </tr>\n",
       "    <tr>\n",
       "      <th>31</th>\n",
       "      <td>cw_div4_attack</td>\n",
       "      <td>conv1-11</td>\n",
       "      <td>10.000</td>\n",
       "      <td>0.93</td>\n",
       "      <td>0.10</td>\n",
       "      <td>0.952125</td>\n",
       "    </tr>\n",
       "    <tr>\n",
       "      <th>32</th>\n",
       "      <td>cw_div4_attack</td>\n",
       "      <td>conv1-11</td>\n",
       "      <td>10.000</td>\n",
       "      <td>0.93</td>\n",
       "      <td>0.11</td>\n",
       "      <td>0.952172</td>\n",
       "    </tr>\n",
       "    <tr>\n",
       "      <th>33</th>\n",
       "      <td>cw_div4_attack</td>\n",
       "      <td>conv1-11</td>\n",
       "      <td>100.000</td>\n",
       "      <td>0.93</td>\n",
       "      <td>0.56</td>\n",
       "      <td>0.951952</td>\n",
       "    </tr>\n",
       "    <tr>\n",
       "      <th>34</th>\n",
       "      <td>cw_div4_attack</td>\n",
       "      <td>conv1-11</td>\n",
       "      <td>100.000</td>\n",
       "      <td>0.93</td>\n",
       "      <td>0.16</td>\n",
       "      <td>0.951896</td>\n",
       "    </tr>\n",
       "    <tr>\n",
       "      <th>35</th>\n",
       "      <td>cw_div4_attack</td>\n",
       "      <td>conv1-11</td>\n",
       "      <td>100.000</td>\n",
       "      <td>0.93</td>\n",
       "      <td>0.28</td>\n",
       "      <td>0.951978</td>\n",
       "    </tr>\n",
       "    <tr>\n",
       "      <th>36</th>\n",
       "      <td>cw_div4_attack</td>\n",
       "      <td>conv2-22</td>\n",
       "      <td>0.000</td>\n",
       "      <td>0.93</td>\n",
       "      <td>0.65</td>\n",
       "      <td>0.952176</td>\n",
       "    </tr>\n",
       "    <tr>\n",
       "      <th>37</th>\n",
       "      <td>cw_div4_attack</td>\n",
       "      <td>conv2-22</td>\n",
       "      <td>0.000</td>\n",
       "      <td>0.93</td>\n",
       "      <td>0.17</td>\n",
       "      <td>0.951980</td>\n",
       "    </tr>\n",
       "    <tr>\n",
       "      <th>38</th>\n",
       "      <td>cw_div4_attack</td>\n",
       "      <td>conv2-22</td>\n",
       "      <td>0.000</td>\n",
       "      <td>0.93</td>\n",
       "      <td>0.12</td>\n",
       "      <td>0.952078</td>\n",
       "    </tr>\n",
       "    <tr>\n",
       "      <th>39</th>\n",
       "      <td>cw_div4_attack</td>\n",
       "      <td>conv2-22</td>\n",
       "      <td>0.001</td>\n",
       "      <td>0.93</td>\n",
       "      <td>0.63</td>\n",
       "      <td>0.952183</td>\n",
       "    </tr>\n",
       "    <tr>\n",
       "      <th>40</th>\n",
       "      <td>cw_div4_attack</td>\n",
       "      <td>conv2-22</td>\n",
       "      <td>0.001</td>\n",
       "      <td>0.93</td>\n",
       "      <td>0.11</td>\n",
       "      <td>0.952065</td>\n",
       "    </tr>\n",
       "    <tr>\n",
       "      <th>41</th>\n",
       "      <td>cw_div4_attack</td>\n",
       "      <td>conv2-22</td>\n",
       "      <td>0.001</td>\n",
       "      <td>0.93</td>\n",
       "      <td>0.13</td>\n",
       "      <td>0.952007</td>\n",
       "    </tr>\n",
       "    <tr>\n",
       "      <th>42</th>\n",
       "      <td>cw_div4_attack</td>\n",
       "      <td>conv2-22</td>\n",
       "      <td>0.010</td>\n",
       "      <td>0.93</td>\n",
       "      <td>0.65</td>\n",
       "      <td>0.952142</td>\n",
       "    </tr>\n",
       "    <tr>\n",
       "      <th>43</th>\n",
       "      <td>cw_div4_attack</td>\n",
       "      <td>conv2-22</td>\n",
       "      <td>0.010</td>\n",
       "      <td>0.93</td>\n",
       "      <td>0.10</td>\n",
       "      <td>0.951982</td>\n",
       "    </tr>\n",
       "    <tr>\n",
       "      <th>44</th>\n",
       "      <td>cw_div4_attack</td>\n",
       "      <td>conv2-22</td>\n",
       "      <td>0.010</td>\n",
       "      <td>0.93</td>\n",
       "      <td>0.12</td>\n",
       "      <td>0.952080</td>\n",
       "    </tr>\n",
       "    <tr>\n",
       "      <th>45</th>\n",
       "      <td>cw_div4_attack</td>\n",
       "      <td>conv2-22</td>\n",
       "      <td>1.000</td>\n",
       "      <td>0.93</td>\n",
       "      <td>0.63</td>\n",
       "      <td>0.952172</td>\n",
       "    </tr>\n",
       "    <tr>\n",
       "      <th>46</th>\n",
       "      <td>cw_div4_attack</td>\n",
       "      <td>conv2-22</td>\n",
       "      <td>1.000</td>\n",
       "      <td>0.93</td>\n",
       "      <td>0.16</td>\n",
       "      <td>0.952161</td>\n",
       "    </tr>\n",
       "    <tr>\n",
       "      <th>47</th>\n",
       "      <td>cw_div4_attack</td>\n",
       "      <td>conv2-22</td>\n",
       "      <td>1.000</td>\n",
       "      <td>0.93</td>\n",
       "      <td>0.13</td>\n",
       "      <td>0.952142</td>\n",
       "    </tr>\n",
       "    <tr>\n",
       "      <th>48</th>\n",
       "      <td>cw_div4_attack</td>\n",
       "      <td>conv2-22</td>\n",
       "      <td>10.000</td>\n",
       "      <td>0.93</td>\n",
       "      <td>0.63</td>\n",
       "      <td>0.952087</td>\n",
       "    </tr>\n",
       "    <tr>\n",
       "      <th>49</th>\n",
       "      <td>cw_div4_attack</td>\n",
       "      <td>conv2-22</td>\n",
       "      <td>10.000</td>\n",
       "      <td>0.93</td>\n",
       "      <td>0.26</td>\n",
       "      <td>0.951901</td>\n",
       "    </tr>\n",
       "    <tr>\n",
       "      <th>50</th>\n",
       "      <td>cw_div4_attack</td>\n",
       "      <td>conv2-22</td>\n",
       "      <td>10.000</td>\n",
       "      <td>0.93</td>\n",
       "      <td>0.22</td>\n",
       "      <td>0.951920</td>\n",
       "    </tr>\n",
       "    <tr>\n",
       "      <th>51</th>\n",
       "      <td>cw_div4_attack</td>\n",
       "      <td>conv2-22</td>\n",
       "      <td>100.000</td>\n",
       "      <td>0.93</td>\n",
       "      <td>0.58</td>\n",
       "      <td>0.951460</td>\n",
       "    </tr>\n",
       "    <tr>\n",
       "      <th>52</th>\n",
       "      <td>cw_div4_attack</td>\n",
       "      <td>conv2-22</td>\n",
       "      <td>100.000</td>\n",
       "      <td>0.93</td>\n",
       "      <td>0.13</td>\n",
       "      <td>0.951727</td>\n",
       "    </tr>\n",
       "    <tr>\n",
       "      <th>53</th>\n",
       "      <td>cw_div4_attack</td>\n",
       "      <td>conv2-22</td>\n",
       "      <td>100.000</td>\n",
       "      <td>0.93</td>\n",
       "      <td>0.26</td>\n",
       "      <td>0.951858</td>\n",
       "    </tr>\n",
       "    <tr>\n",
       "      <th>54</th>\n",
       "      <td>cw_div4_attack</td>\n",
       "      <td>conv1-33</td>\n",
       "      <td>0.000</td>\n",
       "      <td>0.93</td>\n",
       "      <td>0.66</td>\n",
       "      <td>0.952125</td>\n",
       "    </tr>\n",
       "    <tr>\n",
       "      <th>55</th>\n",
       "      <td>cw_div4_attack</td>\n",
       "      <td>conv1-33</td>\n",
       "      <td>0.000</td>\n",
       "      <td>0.93</td>\n",
       "      <td>0.13</td>\n",
       "      <td>0.952024</td>\n",
       "    </tr>\n",
       "    <tr>\n",
       "      <th>56</th>\n",
       "      <td>cw_div4_attack</td>\n",
       "      <td>conv1-33</td>\n",
       "      <td>0.000</td>\n",
       "      <td>0.93</td>\n",
       "      <td>0.10</td>\n",
       "      <td>0.952052</td>\n",
       "    </tr>\n",
       "    <tr>\n",
       "      <th>57</th>\n",
       "      <td>cw_div4_attack</td>\n",
       "      <td>conv1-33</td>\n",
       "      <td>0.001</td>\n",
       "      <td>0.93</td>\n",
       "      <td>0.59</td>\n",
       "      <td>0.952193</td>\n",
       "    </tr>\n",
       "    <tr>\n",
       "      <th>58</th>\n",
       "      <td>cw_div4_attack</td>\n",
       "      <td>conv1-33</td>\n",
       "      <td>0.001</td>\n",
       "      <td>0.93</td>\n",
       "      <td>0.13</td>\n",
       "      <td>0.952027</td>\n",
       "    </tr>\n",
       "    <tr>\n",
       "      <th>59</th>\n",
       "      <td>cw_div4_attack</td>\n",
       "      <td>conv1-33</td>\n",
       "      <td>0.001</td>\n",
       "      <td>0.93</td>\n",
       "      <td>0.16</td>\n",
       "      <td>0.952035</td>\n",
       "    </tr>\n",
       "    <tr>\n",
       "      <th>60</th>\n",
       "      <td>cw_div4_attack</td>\n",
       "      <td>conv1-33</td>\n",
       "      <td>0.010</td>\n",
       "      <td>0.93</td>\n",
       "      <td>0.60</td>\n",
       "      <td>0.952208</td>\n",
       "    </tr>\n",
       "    <tr>\n",
       "      <th>61</th>\n",
       "      <td>cw_div4_attack</td>\n",
       "      <td>conv1-33</td>\n",
       "      <td>0.010</td>\n",
       "      <td>0.93</td>\n",
       "      <td>0.12</td>\n",
       "      <td>0.952097</td>\n",
       "    </tr>\n",
       "    <tr>\n",
       "      <th>62</th>\n",
       "      <td>cw_div4_attack</td>\n",
       "      <td>conv1-33</td>\n",
       "      <td>0.010</td>\n",
       "      <td>0.93</td>\n",
       "      <td>0.12</td>\n",
       "      <td>0.952078</td>\n",
       "    </tr>\n",
       "    <tr>\n",
       "      <th>63</th>\n",
       "      <td>cw_div4_attack</td>\n",
       "      <td>conv1-33</td>\n",
       "      <td>1.000</td>\n",
       "      <td>0.93</td>\n",
       "      <td>0.61</td>\n",
       "      <td>0.952149</td>\n",
       "    </tr>\n",
       "    <tr>\n",
       "      <th>64</th>\n",
       "      <td>cw_div4_attack</td>\n",
       "      <td>conv1-33</td>\n",
       "      <td>1.000</td>\n",
       "      <td>0.93</td>\n",
       "      <td>0.12</td>\n",
       "      <td>0.952093</td>\n",
       "    </tr>\n",
       "    <tr>\n",
       "      <th>65</th>\n",
       "      <td>cw_div4_attack</td>\n",
       "      <td>conv1-33</td>\n",
       "      <td>1.000</td>\n",
       "      <td>0.93</td>\n",
       "      <td>0.18</td>\n",
       "      <td>0.952153</td>\n",
       "    </tr>\n",
       "    <tr>\n",
       "      <th>66</th>\n",
       "      <td>cw_div4_attack</td>\n",
       "      <td>conv1-33</td>\n",
       "      <td>10.000</td>\n",
       "      <td>0.93</td>\n",
       "      <td>0.66</td>\n",
       "      <td>0.952170</td>\n",
       "    </tr>\n",
       "    <tr>\n",
       "      <th>67</th>\n",
       "      <td>cw_div4_attack</td>\n",
       "      <td>conv1-33</td>\n",
       "      <td>10.000</td>\n",
       "      <td>0.93</td>\n",
       "      <td>0.10</td>\n",
       "      <td>0.952168</td>\n",
       "    </tr>\n",
       "    <tr>\n",
       "      <th>68</th>\n",
       "      <td>cw_div4_attack</td>\n",
       "      <td>conv1-33</td>\n",
       "      <td>10.000</td>\n",
       "      <td>0.93</td>\n",
       "      <td>0.12</td>\n",
       "      <td>0.952129</td>\n",
       "    </tr>\n",
       "    <tr>\n",
       "      <th>69</th>\n",
       "      <td>cw_div4_attack</td>\n",
       "      <td>conv1-33</td>\n",
       "      <td>100.000</td>\n",
       "      <td>0.93</td>\n",
       "      <td>0.57</td>\n",
       "      <td>0.952151</td>\n",
       "    </tr>\n",
       "    <tr>\n",
       "      <th>70</th>\n",
       "      <td>cw_div4_attack</td>\n",
       "      <td>conv1-33</td>\n",
       "      <td>100.000</td>\n",
       "      <td>0.93</td>\n",
       "      <td>0.08</td>\n",
       "      <td>0.951918</td>\n",
       "    </tr>\n",
       "    <tr>\n",
       "      <th>71</th>\n",
       "      <td>cw_div4_attack</td>\n",
       "      <td>conv1-33</td>\n",
       "      <td>100.000</td>\n",
       "      <td>0.93</td>\n",
       "      <td>0.21</td>\n",
       "      <td>0.952185</td>\n",
       "    </tr>\n",
       "    <tr>\n",
       "      <th>72</th>\n",
       "      <td>cw_div4_attack</td>\n",
       "      <td>conv2-44</td>\n",
       "      <td>0.000</td>\n",
       "      <td>0.93</td>\n",
       "      <td>0.60</td>\n",
       "      <td>0.952208</td>\n",
       "    </tr>\n",
       "    <tr>\n",
       "      <th>73</th>\n",
       "      <td>cw_div4_attack</td>\n",
       "      <td>conv2-44</td>\n",
       "      <td>0.000</td>\n",
       "      <td>0.93</td>\n",
       "      <td>0.12</td>\n",
       "      <td>0.951999</td>\n",
       "    </tr>\n",
       "    <tr>\n",
       "      <th>74</th>\n",
       "      <td>cw_div4_attack</td>\n",
       "      <td>conv2-44</td>\n",
       "      <td>0.000</td>\n",
       "      <td>0.93</td>\n",
       "      <td>0.12</td>\n",
       "      <td>0.952029</td>\n",
       "    </tr>\n",
       "    <tr>\n",
       "      <th>75</th>\n",
       "      <td>cw_div4_attack</td>\n",
       "      <td>conv2-44</td>\n",
       "      <td>0.001</td>\n",
       "      <td>0.93</td>\n",
       "      <td>0.58</td>\n",
       "      <td>0.952187</td>\n",
       "    </tr>\n",
       "    <tr>\n",
       "      <th>76</th>\n",
       "      <td>cw_div4_attack</td>\n",
       "      <td>conv2-44</td>\n",
       "      <td>0.001</td>\n",
       "      <td>0.93</td>\n",
       "      <td>0.13</td>\n",
       "      <td>0.952020</td>\n",
       "    </tr>\n",
       "    <tr>\n",
       "      <th>77</th>\n",
       "      <td>cw_div4_attack</td>\n",
       "      <td>conv2-44</td>\n",
       "      <td>0.001</td>\n",
       "      <td>0.93</td>\n",
       "      <td>0.11</td>\n",
       "      <td>0.952055</td>\n",
       "    </tr>\n",
       "    <tr>\n",
       "      <th>78</th>\n",
       "      <td>cw_div4_attack</td>\n",
       "      <td>conv2-44</td>\n",
       "      <td>0.010</td>\n",
       "      <td>0.93</td>\n",
       "      <td>0.61</td>\n",
       "      <td>0.952131</td>\n",
       "    </tr>\n",
       "    <tr>\n",
       "      <th>79</th>\n",
       "      <td>cw_div4_attack</td>\n",
       "      <td>conv2-44</td>\n",
       "      <td>0.010</td>\n",
       "      <td>0.93</td>\n",
       "      <td>0.13</td>\n",
       "      <td>0.952048</td>\n",
       "    </tr>\n",
       "    <tr>\n",
       "      <th>80</th>\n",
       "      <td>cw_div4_attack</td>\n",
       "      <td>conv2-44</td>\n",
       "      <td>0.010</td>\n",
       "      <td>0.93</td>\n",
       "      <td>0.11</td>\n",
       "      <td>0.952089</td>\n",
       "    </tr>\n",
       "    <tr>\n",
       "      <th>81</th>\n",
       "      <td>cw_div4_attack</td>\n",
       "      <td>conv2-44</td>\n",
       "      <td>1.000</td>\n",
       "      <td>0.93</td>\n",
       "      <td>0.60</td>\n",
       "      <td>0.952260</td>\n",
       "    </tr>\n",
       "    <tr>\n",
       "      <th>82</th>\n",
       "      <td>cw_div4_attack</td>\n",
       "      <td>conv2-44</td>\n",
       "      <td>1.000</td>\n",
       "      <td>0.93</td>\n",
       "      <td>0.17</td>\n",
       "      <td>0.952061</td>\n",
       "    </tr>\n",
       "    <tr>\n",
       "      <th>83</th>\n",
       "      <td>cw_div4_attack</td>\n",
       "      <td>conv2-44</td>\n",
       "      <td>1.000</td>\n",
       "      <td>0.93</td>\n",
       "      <td>0.19</td>\n",
       "      <td>0.952215</td>\n",
       "    </tr>\n",
       "    <tr>\n",
       "      <th>84</th>\n",
       "      <td>cw_div4_attack</td>\n",
       "      <td>conv2-44</td>\n",
       "      <td>10.000</td>\n",
       "      <td>0.93</td>\n",
       "      <td>0.67</td>\n",
       "      <td>0.951993</td>\n",
       "    </tr>\n",
       "    <tr>\n",
       "      <th>85</th>\n",
       "      <td>cw_div4_attack</td>\n",
       "      <td>conv2-44</td>\n",
       "      <td>10.000</td>\n",
       "      <td>0.93</td>\n",
       "      <td>0.27</td>\n",
       "      <td>0.952044</td>\n",
       "    </tr>\n",
       "    <tr>\n",
       "      <th>86</th>\n",
       "      <td>cw_div4_attack</td>\n",
       "      <td>conv2-44</td>\n",
       "      <td>10.000</td>\n",
       "      <td>0.93</td>\n",
       "      <td>0.14</td>\n",
       "      <td>0.951950</td>\n",
       "    </tr>\n",
       "    <tr>\n",
       "      <th>87</th>\n",
       "      <td>cw_div4_attack</td>\n",
       "      <td>conv2-44</td>\n",
       "      <td>100.000</td>\n",
       "      <td>0.93</td>\n",
       "      <td>0.59</td>\n",
       "      <td>0.951225</td>\n",
       "    </tr>\n",
       "    <tr>\n",
       "      <th>88</th>\n",
       "      <td>cw_div4_attack</td>\n",
       "      <td>conv2-44</td>\n",
       "      <td>100.000</td>\n",
       "      <td>0.93</td>\n",
       "      <td>0.18</td>\n",
       "      <td>0.951815</td>\n",
       "    </tr>\n",
       "    <tr>\n",
       "      <th>89</th>\n",
       "      <td>cw_div4_attack</td>\n",
       "      <td>conv2-44</td>\n",
       "      <td>100.000</td>\n",
       "      <td>0.93</td>\n",
       "      <td>0.32</td>\n",
       "      <td>0.951516</td>\n",
       "    </tr>\n",
       "    <tr>\n",
       "      <th>90</th>\n",
       "      <td>cw_div4_attack</td>\n",
       "      <td>linear-55</td>\n",
       "      <td>0.000</td>\n",
       "      <td>0.93</td>\n",
       "      <td>0.60</td>\n",
       "      <td>0.952204</td>\n",
       "    </tr>\n",
       "    <tr>\n",
       "      <th>91</th>\n",
       "      <td>cw_div4_attack</td>\n",
       "      <td>linear-55</td>\n",
       "      <td>0.000</td>\n",
       "      <td>0.93</td>\n",
       "      <td>0.09</td>\n",
       "      <td>0.951995</td>\n",
       "    </tr>\n",
       "    <tr>\n",
       "      <th>92</th>\n",
       "      <td>cw_div4_attack</td>\n",
       "      <td>linear-55</td>\n",
       "      <td>0.000</td>\n",
       "      <td>0.93</td>\n",
       "      <td>0.11</td>\n",
       "      <td>0.952061</td>\n",
       "    </tr>\n",
       "    <tr>\n",
       "      <th>93</th>\n",
       "      <td>cw_div4_attack</td>\n",
       "      <td>linear-55</td>\n",
       "      <td>0.001</td>\n",
       "      <td>0.93</td>\n",
       "      <td>0.63</td>\n",
       "      <td>0.952149</td>\n",
       "    </tr>\n",
       "    <tr>\n",
       "      <th>94</th>\n",
       "      <td>cw_div4_attack</td>\n",
       "      <td>linear-55</td>\n",
       "      <td>0.001</td>\n",
       "      <td>0.93</td>\n",
       "      <td>0.14</td>\n",
       "      <td>0.952014</td>\n",
       "    </tr>\n",
       "    <tr>\n",
       "      <th>95</th>\n",
       "      <td>cw_div4_attack</td>\n",
       "      <td>linear-55</td>\n",
       "      <td>0.001</td>\n",
       "      <td>0.93</td>\n",
       "      <td>0.12</td>\n",
       "      <td>0.952055</td>\n",
       "    </tr>\n",
       "    <tr>\n",
       "      <th>96</th>\n",
       "      <td>cw_div4_attack</td>\n",
       "      <td>linear-55</td>\n",
       "      <td>0.010</td>\n",
       "      <td>0.93</td>\n",
       "      <td>0.62</td>\n",
       "      <td>0.952129</td>\n",
       "    </tr>\n",
       "    <tr>\n",
       "      <th>97</th>\n",
       "      <td>cw_div4_attack</td>\n",
       "      <td>linear-55</td>\n",
       "      <td>0.010</td>\n",
       "      <td>0.93</td>\n",
       "      <td>0.12</td>\n",
       "      <td>0.952016</td>\n",
       "    </tr>\n",
       "    <tr>\n",
       "      <th>98</th>\n",
       "      <td>cw_div4_attack</td>\n",
       "      <td>linear-55</td>\n",
       "      <td>0.010</td>\n",
       "      <td>0.93</td>\n",
       "      <td>0.12</td>\n",
       "      <td>0.952099</td>\n",
       "    </tr>\n",
       "    <tr>\n",
       "      <th>99</th>\n",
       "      <td>cw_div4_attack</td>\n",
       "      <td>linear-55</td>\n",
       "      <td>1.000</td>\n",
       "      <td>0.93</td>\n",
       "      <td>0.67</td>\n",
       "      <td>0.952161</td>\n",
       "    </tr>\n",
       "    <tr>\n",
       "      <th>100</th>\n",
       "      <td>cw_div4_attack</td>\n",
       "      <td>linear-55</td>\n",
       "      <td>1.000</td>\n",
       "      <td>0.93</td>\n",
       "      <td>0.15</td>\n",
       "      <td>0.952010</td>\n",
       "    </tr>\n",
       "    <tr>\n",
       "      <th>101</th>\n",
       "      <td>cw_div4_attack</td>\n",
       "      <td>linear-55</td>\n",
       "      <td>1.000</td>\n",
       "      <td>0.93</td>\n",
       "      <td>0.13</td>\n",
       "      <td>0.952084</td>\n",
       "    </tr>\n",
       "    <tr>\n",
       "      <th>102</th>\n",
       "      <td>cw_div4_attack</td>\n",
       "      <td>linear-55</td>\n",
       "      <td>10.000</td>\n",
       "      <td>0.93</td>\n",
       "      <td>0.65</td>\n",
       "      <td>0.952138</td>\n",
       "    </tr>\n",
       "    <tr>\n",
       "      <th>103</th>\n",
       "      <td>cw_div4_attack</td>\n",
       "      <td>linear-55</td>\n",
       "      <td>10.000</td>\n",
       "      <td>0.93</td>\n",
       "      <td>0.15</td>\n",
       "      <td>0.952108</td>\n",
       "    </tr>\n",
       "    <tr>\n",
       "      <th>104</th>\n",
       "      <td>cw_div4_attack</td>\n",
       "      <td>linear-55</td>\n",
       "      <td>10.000</td>\n",
       "      <td>0.93</td>\n",
       "      <td>0.12</td>\n",
       "      <td>0.952119</td>\n",
       "    </tr>\n",
       "    <tr>\n",
       "      <th>105</th>\n",
       "      <td>cw_div4_attack</td>\n",
       "      <td>linear-55</td>\n",
       "      <td>100.000</td>\n",
       "      <td>0.93</td>\n",
       "      <td>0.63</td>\n",
       "      <td>0.952202</td>\n",
       "    </tr>\n",
       "    <tr>\n",
       "      <th>106</th>\n",
       "      <td>cw_div4_attack</td>\n",
       "      <td>linear-55</td>\n",
       "      <td>100.000</td>\n",
       "      <td>0.93</td>\n",
       "      <td>0.15</td>\n",
       "      <td>0.952099</td>\n",
       "    </tr>\n",
       "    <tr>\n",
       "      <th>107</th>\n",
       "      <td>cw_div4_attack</td>\n",
       "      <td>linear-55</td>\n",
       "      <td>100.000</td>\n",
       "      <td>0.93</td>\n",
       "      <td>0.14</td>\n",
       "      <td>0.952116</td>\n",
       "    </tr>\n",
       "  </tbody>\n",
       "</table>\n",
       "</div>"
      ],
      "text/plain": [
       "             attack      layer  regularization_weight  orig_acc  pert_acc  \\\n",
       "0    cw_div4_attack    conv1-0                  0.000      0.93      0.69   \n",
       "1    cw_div4_attack    conv1-0                  0.000      0.93      0.13   \n",
       "2    cw_div4_attack    conv1-0                  0.000      0.93      0.10   \n",
       "3    cw_div4_attack    conv1-0                  0.001      0.93      0.61   \n",
       "4    cw_div4_attack    conv1-0                  0.001      0.93      0.12   \n",
       "5    cw_div4_attack    conv1-0                  0.001      0.93      0.12   \n",
       "6    cw_div4_attack    conv1-0                  0.010      0.93      0.64   \n",
       "7    cw_div4_attack    conv1-0                  0.010      0.93      0.10   \n",
       "8    cw_div4_attack    conv1-0                  0.010      0.93      0.11   \n",
       "9    cw_div4_attack    conv1-0                  1.000      0.93      0.69   \n",
       "10   cw_div4_attack    conv1-0                  1.000      0.93      0.11   \n",
       "11   cw_div4_attack    conv1-0                  1.000      0.93      0.12   \n",
       "12   cw_div4_attack    conv1-0                 10.000      0.93      0.60   \n",
       "13   cw_div4_attack    conv1-0                 10.000      0.93      0.17   \n",
       "14   cw_div4_attack    conv1-0                 10.000      0.93      0.13   \n",
       "15   cw_div4_attack    conv1-0                100.000      0.93      0.68   \n",
       "16   cw_div4_attack    conv1-0                100.000      0.93      0.12   \n",
       "17   cw_div4_attack    conv1-0                100.000      0.93      0.13   \n",
       "18   cw_div4_attack   conv1-11                  0.000      0.93      0.58   \n",
       "19   cw_div4_attack   conv1-11                  0.000      0.93      0.13   \n",
       "20   cw_div4_attack   conv1-11                  0.000      0.93      0.13   \n",
       "21   cw_div4_attack   conv1-11                  0.001      0.93      0.61   \n",
       "22   cw_div4_attack   conv1-11                  0.001      0.93      0.09   \n",
       "23   cw_div4_attack   conv1-11                  0.001      0.93      0.11   \n",
       "24   cw_div4_attack   conv1-11                  0.010      0.93      0.61   \n",
       "25   cw_div4_attack   conv1-11                  0.010      0.93      0.11   \n",
       "26   cw_div4_attack   conv1-11                  0.010      0.93      0.12   \n",
       "27   cw_div4_attack   conv1-11                  1.000      0.93      0.61   \n",
       "28   cw_div4_attack   conv1-11                  1.000      0.93      0.11   \n",
       "29   cw_div4_attack   conv1-11                  1.000      0.93      0.09   \n",
       "30   cw_div4_attack   conv1-11                 10.000      0.93      0.59   \n",
       "31   cw_div4_attack   conv1-11                 10.000      0.93      0.10   \n",
       "32   cw_div4_attack   conv1-11                 10.000      0.93      0.11   \n",
       "33   cw_div4_attack   conv1-11                100.000      0.93      0.56   \n",
       "34   cw_div4_attack   conv1-11                100.000      0.93      0.16   \n",
       "35   cw_div4_attack   conv1-11                100.000      0.93      0.28   \n",
       "36   cw_div4_attack   conv2-22                  0.000      0.93      0.65   \n",
       "37   cw_div4_attack   conv2-22                  0.000      0.93      0.17   \n",
       "38   cw_div4_attack   conv2-22                  0.000      0.93      0.12   \n",
       "39   cw_div4_attack   conv2-22                  0.001      0.93      0.63   \n",
       "40   cw_div4_attack   conv2-22                  0.001      0.93      0.11   \n",
       "41   cw_div4_attack   conv2-22                  0.001      0.93      0.13   \n",
       "42   cw_div4_attack   conv2-22                  0.010      0.93      0.65   \n",
       "43   cw_div4_attack   conv2-22                  0.010      0.93      0.10   \n",
       "44   cw_div4_attack   conv2-22                  0.010      0.93      0.12   \n",
       "45   cw_div4_attack   conv2-22                  1.000      0.93      0.63   \n",
       "46   cw_div4_attack   conv2-22                  1.000      0.93      0.16   \n",
       "47   cw_div4_attack   conv2-22                  1.000      0.93      0.13   \n",
       "48   cw_div4_attack   conv2-22                 10.000      0.93      0.63   \n",
       "49   cw_div4_attack   conv2-22                 10.000      0.93      0.26   \n",
       "50   cw_div4_attack   conv2-22                 10.000      0.93      0.22   \n",
       "51   cw_div4_attack   conv2-22                100.000      0.93      0.58   \n",
       "52   cw_div4_attack   conv2-22                100.000      0.93      0.13   \n",
       "53   cw_div4_attack   conv2-22                100.000      0.93      0.26   \n",
       "54   cw_div4_attack   conv1-33                  0.000      0.93      0.66   \n",
       "55   cw_div4_attack   conv1-33                  0.000      0.93      0.13   \n",
       "56   cw_div4_attack   conv1-33                  0.000      0.93      0.10   \n",
       "57   cw_div4_attack   conv1-33                  0.001      0.93      0.59   \n",
       "58   cw_div4_attack   conv1-33                  0.001      0.93      0.13   \n",
       "59   cw_div4_attack   conv1-33                  0.001      0.93      0.16   \n",
       "60   cw_div4_attack   conv1-33                  0.010      0.93      0.60   \n",
       "61   cw_div4_attack   conv1-33                  0.010      0.93      0.12   \n",
       "62   cw_div4_attack   conv1-33                  0.010      0.93      0.12   \n",
       "63   cw_div4_attack   conv1-33                  1.000      0.93      0.61   \n",
       "64   cw_div4_attack   conv1-33                  1.000      0.93      0.12   \n",
       "65   cw_div4_attack   conv1-33                  1.000      0.93      0.18   \n",
       "66   cw_div4_attack   conv1-33                 10.000      0.93      0.66   \n",
       "67   cw_div4_attack   conv1-33                 10.000      0.93      0.10   \n",
       "68   cw_div4_attack   conv1-33                 10.000      0.93      0.12   \n",
       "69   cw_div4_attack   conv1-33                100.000      0.93      0.57   \n",
       "70   cw_div4_attack   conv1-33                100.000      0.93      0.08   \n",
       "71   cw_div4_attack   conv1-33                100.000      0.93      0.21   \n",
       "72   cw_div4_attack   conv2-44                  0.000      0.93      0.60   \n",
       "73   cw_div4_attack   conv2-44                  0.000      0.93      0.12   \n",
       "74   cw_div4_attack   conv2-44                  0.000      0.93      0.12   \n",
       "75   cw_div4_attack   conv2-44                  0.001      0.93      0.58   \n",
       "76   cw_div4_attack   conv2-44                  0.001      0.93      0.13   \n",
       "77   cw_div4_attack   conv2-44                  0.001      0.93      0.11   \n",
       "78   cw_div4_attack   conv2-44                  0.010      0.93      0.61   \n",
       "79   cw_div4_attack   conv2-44                  0.010      0.93      0.13   \n",
       "80   cw_div4_attack   conv2-44                  0.010      0.93      0.11   \n",
       "81   cw_div4_attack   conv2-44                  1.000      0.93      0.60   \n",
       "82   cw_div4_attack   conv2-44                  1.000      0.93      0.17   \n",
       "83   cw_div4_attack   conv2-44                  1.000      0.93      0.19   \n",
       "84   cw_div4_attack   conv2-44                 10.000      0.93      0.67   \n",
       "85   cw_div4_attack   conv2-44                 10.000      0.93      0.27   \n",
       "86   cw_div4_attack   conv2-44                 10.000      0.93      0.14   \n",
       "87   cw_div4_attack   conv2-44                100.000      0.93      0.59   \n",
       "88   cw_div4_attack   conv2-44                100.000      0.93      0.18   \n",
       "89   cw_div4_attack   conv2-44                100.000      0.93      0.32   \n",
       "90   cw_div4_attack  linear-55                  0.000      0.93      0.60   \n",
       "91   cw_div4_attack  linear-55                  0.000      0.93      0.09   \n",
       "92   cw_div4_attack  linear-55                  0.000      0.93      0.11   \n",
       "93   cw_div4_attack  linear-55                  0.001      0.93      0.63   \n",
       "94   cw_div4_attack  linear-55                  0.001      0.93      0.14   \n",
       "95   cw_div4_attack  linear-55                  0.001      0.93      0.12   \n",
       "96   cw_div4_attack  linear-55                  0.010      0.93      0.62   \n",
       "97   cw_div4_attack  linear-55                  0.010      0.93      0.12   \n",
       "98   cw_div4_attack  linear-55                  0.010      0.93      0.12   \n",
       "99   cw_div4_attack  linear-55                  1.000      0.93      0.67   \n",
       "100  cw_div4_attack  linear-55                  1.000      0.93      0.15   \n",
       "101  cw_div4_attack  linear-55                  1.000      0.93      0.13   \n",
       "102  cw_div4_attack  linear-55                 10.000      0.93      0.65   \n",
       "103  cw_div4_attack  linear-55                 10.000      0.93      0.15   \n",
       "104  cw_div4_attack  linear-55                 10.000      0.93      0.12   \n",
       "105  cw_div4_attack  linear-55                100.000      0.93      0.63   \n",
       "106  cw_div4_attack  linear-55                100.000      0.93      0.15   \n",
       "107  cw_div4_attack  linear-55                100.000      0.93      0.14   \n",
       "\n",
       "     neuron_coverage  \n",
       "0           0.952168  \n",
       "1           0.952003  \n",
       "2           0.952031  \n",
       "3           0.952217  \n",
       "4           0.952012  \n",
       "5           0.952037  \n",
       "6           0.952136  \n",
       "7           0.952080  \n",
       "8           0.952095  \n",
       "9           0.952174  \n",
       "10          0.952014  \n",
       "11          0.952084  \n",
       "12          0.952134  \n",
       "13          0.951931  \n",
       "14          0.952057  \n",
       "15          0.952168  \n",
       "16          0.951975  \n",
       "17          0.952069  \n",
       "18          0.952191  \n",
       "19          0.951980  \n",
       "20          0.952070  \n",
       "21          0.952183  \n",
       "22          0.952003  \n",
       "23          0.952114  \n",
       "24          0.952217  \n",
       "25          0.952007  \n",
       "26          0.952024  \n",
       "27          0.952151  \n",
       "28          0.951992  \n",
       "29          0.952095  \n",
       "30          0.952215  \n",
       "31          0.952125  \n",
       "32          0.952172  \n",
       "33          0.951952  \n",
       "34          0.951896  \n",
       "35          0.951978  \n",
       "36          0.952176  \n",
       "37          0.951980  \n",
       "38          0.952078  \n",
       "39          0.952183  \n",
       "40          0.952065  \n",
       "41          0.952007  \n",
       "42          0.952142  \n",
       "43          0.951982  \n",
       "44          0.952080  \n",
       "45          0.952172  \n",
       "46          0.952161  \n",
       "47          0.952142  \n",
       "48          0.952087  \n",
       "49          0.951901  \n",
       "50          0.951920  \n",
       "51          0.951460  \n",
       "52          0.951727  \n",
       "53          0.951858  \n",
       "54          0.952125  \n",
       "55          0.952024  \n",
       "56          0.952052  \n",
       "57          0.952193  \n",
       "58          0.952027  \n",
       "59          0.952035  \n",
       "60          0.952208  \n",
       "61          0.952097  \n",
       "62          0.952078  \n",
       "63          0.952149  \n",
       "64          0.952093  \n",
       "65          0.952153  \n",
       "66          0.952170  \n",
       "67          0.952168  \n",
       "68          0.952129  \n",
       "69          0.952151  \n",
       "70          0.951918  \n",
       "71          0.952185  \n",
       "72          0.952208  \n",
       "73          0.951999  \n",
       "74          0.952029  \n",
       "75          0.952187  \n",
       "76          0.952020  \n",
       "77          0.952055  \n",
       "78          0.952131  \n",
       "79          0.952048  \n",
       "80          0.952089  \n",
       "81          0.952260  \n",
       "82          0.952061  \n",
       "83          0.952215  \n",
       "84          0.951993  \n",
       "85          0.952044  \n",
       "86          0.951950  \n",
       "87          0.951225  \n",
       "88          0.951815  \n",
       "89          0.951516  \n",
       "90          0.952204  \n",
       "91          0.951995  \n",
       "92          0.952061  \n",
       "93          0.952149  \n",
       "94          0.952014  \n",
       "95          0.952055  \n",
       "96          0.952129  \n",
       "97          0.952016  \n",
       "98          0.952099  \n",
       "99          0.952161  \n",
       "100         0.952010  \n",
       "101         0.952084  \n",
       "102         0.952138  \n",
       "103         0.952108  \n",
       "104         0.952119  \n",
       "105         0.952202  \n",
       "106         0.952099  \n",
       "107         0.952116  "
      ]
     },
     "execution_count": 15,
     "metadata": {},
     "output_type": "execute_result"
    }
   ],
   "source": [
    "df = pd.DataFrame.from_dict(results)\n",
    "pd.set_option('display.max_rows', None)\n",
    "df[['attack', 'layer', 'regularization_weight', 'orig_acc', 'pert_acc', 'neuron_coverage']]"
   ]
  },
  {
   "cell_type": "code",
   "execution_count": 16,
   "metadata": {},
   "outputs": [],
   "source": [
    "# save the results of the evaluation\n",
    "pickle.dump(results, open( \"assets/results_cifar10_div4.pickle\", \"wb\" ))"
   ]
  },
  {
   "cell_type": "markdown",
   "metadata": {},
   "source": [
    "## k-multisection Neuron Coverage (DeepGauge)"
   ]
  },
  {
   "cell_type": "code",
   "execution_count": 13,
   "metadata": {},
   "outputs": [],
   "source": [
    "# model.init_dict(model.covered_dict, inputs, 'relu', False)\n",
    "# model.init_dict(model.lowhigh_dict, inputs, 'relu', {'low': 0, 'high': 0})\n",
    "# print(len(model.covered_dict), len(model.lowhigh_dict))"
   ]
  },
  {
   "cell_type": "code",
   "execution_count": 9,
   "metadata": {
    "collapsed": true
   },
   "outputs": [
    {
     "data": {
      "text/plain": [
       "{('relu1', 0): {'low': 0, 'high': 0.17005696892738342},\n",
       " ('relu1', 1): {'low': 0, 'high': 0.2610016167163849},\n",
       " ('relu1', 2): {'low': 0, 'high': 0.3574622869491577},\n",
       " ('relu1', 3): {'low': 0, 'high': 0.4250221848487854},\n",
       " ('relu1', 4): {'low': 0, 'high': 0.4433531165122986},\n",
       " ('relu1', 5): {'low': 0, 'high': 0.42099499702453613},\n",
       " ('relu1', 6): {'low': 0, 'high': 0.3878710865974426},\n",
       " ('relu1', 7): {'low': 0, 'high': 0.4209814667701721},\n",
       " ('relu1', 8): {'low': 0, 'high': 0.42347657680511475},\n",
       " ('relu1', 9): {'low': 0, 'high': 0.40517371892929077},\n",
       " ('relu1', 10): {'low': 0, 'high': 0.7064920663833618},\n",
       " ('relu1', 11): {'low': 0, 'high': 0.8078417778015137},\n",
       " ('relu1', 12): {'low': 0, 'high': 0.6157643795013428},\n",
       " ('relu1', 13): {'low': 0, 'high': 0.47518014907836914},\n",
       " ('relu1', 14): {'low': 0, 'high': 0.3899363875389099},\n",
       " ('relu1', 15): {'low': 0, 'high': 0.3532407879829407},\n",
       " ('relu1', 16): {'low': 0, 'high': 0.3282723128795624},\n",
       " ('relu1', 17): {'low': 0, 'high': 0.35034310817718506},\n",
       " ('relu1', 18): {'low': 0, 'high': 0.36551952362060547},\n",
       " ('relu1', 19): {'low': 0, 'high': 0.4037863612174988},\n",
       " ('relu1', 20): {'low': 0, 'high': 0.3610786199569702},\n",
       " ('relu1', 21): {'low': 0, 'high': 0.26374149322509766},\n",
       " ('relu1', 22): {'low': 0, 'high': 0.25531476736068726},\n",
       " ('relu1', 23): {'low': 0, 'high': 0.21975219249725342},\n",
       " ('relu1', 24): {'low': 0, 'high': 0.2641083598136902},\n",
       " ('relu1', 25): {'low': 0, 'high': 0.391834557056427},\n",
       " ('relu1', 26): {'low': 0, 'high': 0.5535203218460083},\n",
       " ('relu1', 27): {'low': 0, 'high': 0.6670516133308411},\n",
       " ('relu1', 28): {'low': 0, 'high': 0.9000304341316223},\n",
       " ('relu1', 29): {'low': 0, 'high': 0.9328468441963196},\n",
       " ('relu1', 30): {'low': 0, 'high': 0.7436552047729492},\n",
       " ('relu1', 31): {'low': 0, 'high': 0.9279599785804749},\n",
       " ('relu1', 32): {'low': 0, 'high': 1.1262770891189575},\n",
       " ('relu1', 33): {'low': 0, 'high': 1.3811047077178955},\n",
       " ('relu1', 34): {'low': 0, 'high': 1.2456848621368408},\n",
       " ('relu1', 35): {'low': 0, 'high': 0.9147366881370544},\n",
       " ('relu1', 36): {'low': 0, 'high': 1.0323621034622192},\n",
       " ('relu1', 37): {'low': 0, 'high': 0.8327699899673462},\n",
       " ('relu1', 38): {'low': 0, 'high': 0.9491353631019592},\n",
       " ('relu1', 39): {'low': 0, 'high': 0.9582693576812744},\n",
       " ('relu1', 40): {'low': 0, 'high': 0.9148646593093872},\n",
       " ('relu1', 41): {'low': 0, 'high': 0.9213636517524719},\n",
       " ('relu1', 42): {'low': 0, 'high': 0.7904901504516602},\n",
       " ('relu1', 43): {'low': 0, 'high': 0.7064567804336548},\n",
       " ('relu1', 44): {'low': 0, 'high': 0.7292513251304626},\n",
       " ('relu1', 45): {'low': 0, 'high': 0.6974520683288574},\n",
       " ('relu1', 46): {'low': 0, 'high': 0.5079658031463623},\n",
       " ('relu1', 47): {'low': 0, 'high': 0.3135794401168823},\n",
       " ('relu1', 48): {'low': 0, 'high': 0.3925841450691223},\n",
       " ('relu1', 49): {'low': 0, 'high': 0.453951358795166},\n",
       " ('relu1', 50): {'low': 0, 'high': 0.7627403736114502},\n",
       " ('relu1', 51): {'low': 0, 'high': 0.7610854506492615},\n",
       " ('relu1', 52): {'low': 0, 'high': 0.8744052052497864},\n",
       " ('relu1', 53): {'low': 0, 'high': 0.9794586896896362},\n",
       " ('relu1', 54): {'low': 0, 'high': 1.3219473361968994},\n",
       " ('relu1', 55): {'low': 0, 'high': 1.5663974285125732},\n",
       " ('relu1', 56): {'low': 0, 'high': 1.574734091758728},\n",
       " ('relu1', 57): {'low': 0, 'high': 1.7349519729614258},\n",
       " ('relu1', 58): {'low': 0, 'high': 1.865173101425171},\n",
       " ('relu1', 59): {'low': 0, 'high': 1.7207027673721313},\n",
       " ('relu1', 60): {'low': 0, 'high': 1.608585238456726},\n",
       " ('relu1', 61): {'low': 0, 'high': 1.6729819774627686},\n",
       " ('relu1', 62): {'low': 0, 'high': 1.7376424074172974},\n",
       " ('relu1', 63): {'low': 0, 'high': 1.5396825075149536},\n",
       " ('relu1', 64): {'low': 0, 'high': 1.540777564048767},\n",
       " ('relu1', 65): {'low': 0, 'high': 1.4189401865005493},\n",
       " ('relu1', 66): {'low': 0, 'high': 1.3904922008514404},\n",
       " ('relu1', 67): {'low': 0, 'high': 1.222143530845642},\n",
       " ('relu1', 68): {'low': 0, 'high': 1.3161864280700684},\n",
       " ('relu1', 69): {'low': 0, 'high': 1.2342809438705444},\n",
       " ('relu1', 70): {'low': 0, 'high': 1.0048590898513794},\n",
       " ('relu1', 71): {'low': 0, 'high': 0.7342982292175293},\n",
       " ('relu1', 72): {'low': 0, 'high': 0.5237728953361511},\n",
       " ('relu1', 73): {'low': 0, 'high': 0.7085961103439331},\n",
       " ('relu1', 74): {'low': 0, 'high': 0.8386020064353943},\n",
       " ('relu1', 75): {'low': 0, 'high': 0.9410719275474548},\n",
       " ('relu1', 76): {'low': 0, 'high': 1.1049686670303345},\n",
       " ('relu1', 77): {'low': 0, 'high': 1.295754075050354},\n",
       " ('relu1', 78): {'low': 0, 'high': 1.7246172428131104},\n",
       " ('relu1', 79): {'low': 0, 'high': 1.817064642906189},\n",
       " ('relu1', 80): {'low': 0, 'high': 1.8231619596481323},\n",
       " ('relu1', 81): {'low': 0, 'high': 1.8659592866897583},\n",
       " ('relu1', 82): {'low': 0, 'high': 1.9711683988571167},\n",
       " ('relu1', 83): {'low': 0, 'high': 1.8903416395187378},\n",
       " ('relu1', 84): {'low': 0, 'high': 1.895015835762024},\n",
       " ('relu1', 85): {'low': 0, 'high': 1.984748363494873},\n",
       " ('relu1', 86): {'low': 0, 'high': 1.8777819871902466},\n",
       " ('relu1', 87): {'low': 0, 'high': 1.9380234479904175},\n",
       " ('relu1', 88): {'low': 0, 'high': 1.90569269657135},\n",
       " ('relu1', 89): {'low': 0, 'high': 1.8659473657608032},\n",
       " ('relu1', 90): {'low': 0, 'high': 1.7424027919769287},\n",
       " ('relu1', 91): {'low': 0, 'high': 1.5492932796478271},\n",
       " ('relu1', 92): {'low': 0, 'high': 1.4578698873519897},\n",
       " ('relu1', 93): {'low': 0, 'high': 1.2447140216827393},\n",
       " ('relu1', 94): {'low': 0, 'high': 1.1310536861419678},\n",
       " ('relu1', 95): {'low': 0, 'high': 0.8924814462661743},\n",
       " ('relu1', 96): {'low': 0, 'high': 0.6850336194038391},\n",
       " ('relu1', 97): {'low': 0, 'high': 0.8500284552574158},\n",
       " ('relu1', 98): {'low': 0, 'high': 1.0726466178894043},\n",
       " ('relu1', 99): {'low': 0, 'high': 1.358331561088562},\n",
       " ('relu1', 100): {'low': 0, 'high': 1.5093289613723755},\n",
       " ('relu1', 101): {'low': 0, 'high': 1.7030309438705444},\n",
       " ('relu1', 102): {'low': 0, 'high': 1.7426249980926514},\n",
       " ('relu1', 103): {'low': 0, 'high': 1.8992773294448853},\n",
       " ('relu1', 104): {'low': 0, 'high': 1.9175336360931396},\n",
       " ('relu1', 105): {'low': 0, 'high': 1.8751519918441772},\n",
       " ('relu1', 106): {'low': 0, 'high': 2.0196471214294434},\n",
       " ('relu1', 107): {'low': 0, 'high': 1.9591931104660034},\n",
       " ('relu1', 108): {'low': 0, 'high': 2.0160715579986572},\n",
       " ('relu1', 109): {'low': 0, 'high': 2.0226988792419434},\n",
       " ('relu1', 110): {'low': 0, 'high': 2.0280776023864746},\n",
       " ('relu1', 111): {'low': 0, 'high': 2.034588575363159},\n",
       " ('relu1', 112): {'low': 0, 'high': 2.0675759315490723},\n",
       " ('relu1', 113): {'low': 0, 'high': 1.9719202518463135},\n",
       " ('relu1', 114): {'low': 0, 'high': 2.0535402297973633},\n",
       " ('relu1', 115): {'low': 0, 'high': 1.6811193227767944},\n",
       " ('relu1', 116): {'low': 0, 'high': 1.69607412815094},\n",
       " ('relu1', 117): {'low': 0, 'high': 1.5098509788513184},\n",
       " ('relu1', 118): {'low': 0, 'high': 1.2946754693984985},\n",
       " ('relu1', 119): {'low': 0, 'high': 1.0694806575775146},\n",
       " ('relu1', 120): {'low': 0, 'high': 0.800020694732666},\n",
       " ('relu1', 121): {'low': 0, 'high': 1.1067858934402466},\n",
       " ('relu1', 122): {'low': 0, 'high': 1.3639355897903442},\n",
       " ('relu1', 123): {'low': 0, 'high': 1.6746258735656738},\n",
       " ('relu1', 124): {'low': 0, 'high': 1.7368656396865845},\n",
       " ('relu1', 125): {'low': 0, 'high': 1.7756060361862183},\n",
       " ('relu1', 126): {'low': 0, 'high': 1.8828152418136597},\n",
       " ('relu1', 127): {'low': 0, 'high': 1.8431950807571411},\n",
       " ('relu1', 128): {'low': 0, 'high': 1.965584397315979},\n",
       " ('relu1', 129): {'low': 0, 'high': 2.043213129043579},\n",
       " ('relu1', 130): {'low': 0, 'high': 2.0536744594573975},\n",
       " ('relu1', 131): {'low': 0, 'high': 2.058277130126953},\n",
       " ('relu1', 132): {'low': 0, 'high': 2.0446085929870605},\n",
       " ('relu1', 133): {'low': 0, 'high': 2.029189109802246},\n",
       " ('relu1', 134): {'low': 0, 'high': 2.0474660396575928},\n",
       " ('relu1', 135): {'low': 0, 'high': 2.0913784503936768},\n",
       " ('relu1', 136): {'low': 0, 'high': 2.03308367729187},\n",
       " ('relu1', 137): {'low': 0, 'high': 1.9850836992263794},\n",
       " ('relu1', 138): {'low': 0, 'high': 1.9400265216827393},\n",
       " ('relu1', 139): {'low': 0, 'high': 1.8239936828613281},\n",
       " ('relu1', 140): {'low': 0, 'high': 1.7777992486953735},\n",
       " ('relu1', 141): {'low': 0, 'high': 1.6856614351272583},\n",
       " ('relu1', 142): {'low': 0, 'high': 1.5434929132461548},\n",
       " ('relu1', 143): {'low': 0, 'high': 1.3616747856140137},\n",
       " ('relu1', 144): {'low': 0, 'high': 0.9269152879714966},\n",
       " ('relu1', 145): {'low': 0, 'high': 1.1296871900558472},\n",
       " ('relu1', 146): {'low': 0, 'high': 1.5215704441070557},\n",
       " ('relu1', 147): {'low': 0, 'high': 1.6547024250030518},\n",
       " ('relu1', 148): {'low': 0, 'high': 1.7553458213806152},\n",
       " ('relu1', 149): {'low': 0, 'high': 1.7582273483276367},\n",
       " ('relu1', 150): {'low': 0, 'high': 1.8421149253845215},\n",
       " ('relu1', 151): {'low': 0, 'high': 1.9298192262649536},\n",
       " ('relu1', 152): {'low': 0, 'high': 1.9694808721542358},\n",
       " ('relu1', 153): {'low': 0, 'high': 2.0400495529174805},\n",
       " ('relu1', 154): {'low': 0, 'high': 1.9816114902496338},\n",
       " ('relu1', 155): {'low': 0, 'high': 2.0900352001190186},\n",
       " ('relu1', 156): {'low': 0, 'high': 2.0660226345062256},\n",
       " ('relu1', 157): {'low': 0, 'high': 2.143031358718872},\n",
       " ('relu1', 158): {'low': 0, 'high': 2.0811023712158203},\n",
       " ('relu1', 159): {'low': 0, 'high': 2.0607614517211914},\n",
       " ('relu1', 160): {'low': 0, 'high': 2.0970160961151123},\n",
       " ('relu1', 161): {'low': 0, 'high': 2.185458183288574},\n",
       " ('relu1', 162): {'low': 0, 'high': 1.9944648742675781},\n",
       " ('relu1', 163): {'low': 0, 'high': 1.945603847503662},\n",
       " ('relu1', 164): {'low': 0, 'high': 1.7632383108139038},\n",
       " ('relu1', 165): {'low': 0, 'high': 1.7813471555709839},\n",
       " ('relu1', 166): {'low': 0, 'high': 1.7088595628738403},\n",
       " ('relu1', 167): {'low': 0, 'high': 1.523769736289978},\n",
       " ('relu1', 168): {'low': 0, 'high': 1.1910274028778076},\n",
       " ('relu1', 169): {'low': 0, 'high': 1.4886980056762695},\n",
       " ('relu1', 170): {'low': 0, 'high': 1.667630672454834},\n",
       " ('relu1', 171): {'low': 0, 'high': 1.7047109603881836},\n",
       " ('relu1', 172): {'low': 0, 'high': 1.9468222856521606},\n",
       " ('relu1', 173): {'low': 0, 'high': 1.8429118394851685},\n",
       " ('relu1', 174): {'low': 0, 'high': 1.8681997060775757},\n",
       " ('relu1', 175): {'low': 0, 'high': 1.878258466720581},\n",
       " ('relu1', 176): {'low': 0, 'high': 1.9458651542663574},\n",
       " ('relu1', 177): {'low': 0, 'high': 1.9825562238693237},\n",
       " ('relu1', 178): {'low': 0, 'high': 2.0631186962127686},\n",
       " ('relu1', 179): {'low': 0, 'high': 2.0340592861175537},\n",
       " ('relu1', 180): {'low': 0, 'high': 2.066107988357544},\n",
       " ('relu1', 181): {'low': 0, 'high': 2.064647674560547},\n",
       " ('relu1', 182): {'low': 0, 'high': 2.088222026824951},\n",
       " ('relu1', 183): {'low': 0, 'high': 2.0815939903259277},\n",
       " ('relu1', 184): {'low': 0, 'high': 2.0168192386627197},\n",
       " ('relu1', 185): {'low': 0, 'high': 2.0501954555511475},\n",
       " ('relu1', 186): {'low': 0, 'high': 1.9998195171356201},\n",
       " ('relu1', 187): {'low': 0, 'high': 1.9580153226852417},\n",
       " ('relu1', 188): {'low': 0, 'high': 1.78799569606781},\n",
       " ('relu1', 189): {'low': 0, 'high': 1.7875564098358154},\n",
       " ('relu1', 190): {'low': 0, 'high': 1.6756037473678589},\n",
       " ('relu1', 191): {'low': 0, 'high': 1.6675523519515991},\n",
       " ('relu1', 192): {'low': 0, 'high': 1.4382848739624023},\n",
       " ('relu1', 193): {'low': 0, 'high': 1.633243441581726},\n",
       " ('relu1', 194): {'low': 0, 'high': 1.6749377250671387},\n",
       " ('relu1', 195): {'low': 0, 'high': 1.7650251388549805},\n",
       " ('relu1', 196): {'low': 0, 'high': 1.780946135520935},\n",
       " ('relu1', 197): {'low': 0, 'high': 1.7837622165679932},\n",
       " ('relu1', 198): {'low': 0, 'high': 1.8230960369110107},\n",
       " ('relu1', 199): {'low': 0, 'high': 1.8874350786209106},\n",
       " ('relu1', 200): {'low': 0, 'high': 2.009536027908325},\n",
       " ('relu1', 201): {'low': 0, 'high': 1.971859097480774},\n",
       " ('relu1', 202): {'low': 0, 'high': 2.0281810760498047},\n",
       " ('relu1', 203): {'low': 0, 'high': 2.0599565505981445},\n",
       " ('relu1', 204): {'low': 0, 'high': 2.045421838760376},\n",
       " ('relu1', 205): {'low': 0, 'high': 2.0683529376983643},\n",
       " ('relu1', 206): {'low': 0, 'high': 2.0544638633728027},\n",
       " ('relu1', 207): {'low': 0, 'high': 2.0937328338623047},\n",
       " ('relu1', 208): {'low': 0, 'high': 2.0664424896240234},\n",
       " ('relu1', 209): {'low': 0, 'high': 2.041635036468506},\n",
       " ('relu1', 210): {'low': 0, 'high': 1.9461164474487305},\n",
       " ('relu1', 211): {'low': 0, 'high': 1.827315330505371},\n",
       " ('relu1', 212): {'low': 0, 'high': 1.84308922290802},\n",
       " ('relu1', 213): {'low': 0, 'high': 1.788177251815796},\n",
       " ('relu1', 214): {'low': 0, 'high': 1.6666547060012817},\n",
       " ('relu1', 215): {'low': 0, 'high': 1.2861247062683105},\n",
       " ('relu1', 216): {'low': 0, 'high': 1.3487120866775513},\n",
       " ('relu1', 217): {'low': 0, 'high': 1.6511162519454956},\n",
       " ('relu1', 218): {'low': 0, 'high': 1.8156923055648804},\n",
       " ('relu1', 219): {'low': 0, 'high': 1.7703924179077148},\n",
       " ('relu1', 220): {'low': 0, 'high': 1.7797703742980957},\n",
       " ('relu1', 221): {'low': 0, 'high': 1.8400373458862305},\n",
       " ('relu1', 222): {'low': 0, 'high': 1.8209736347198486},\n",
       " ('relu1', 223): {'low': 0, 'high': 1.877752661705017},\n",
       " ('relu1', 224): {'low': 0, 'high': 1.974165916442871},\n",
       " ('relu1', 225): {'low': 0, 'high': 1.952173113822937},\n",
       " ('relu1', 226): {'low': 0, 'high': 1.971998929977417},\n",
       " ('relu1', 227): {'low': 0, 'high': 2.080157518386841},\n",
       " ('relu1', 228): {'low': 0, 'high': 2.0591533184051514},\n",
       " ('relu1', 229): {'low': 0, 'high': 2.020003080368042},\n",
       " ('relu1', 230): {'low': 0, 'high': 2.066107988357544},\n",
       " ('relu1', 231): {'low': 0, 'high': 2.0248258113861084},\n",
       " ('relu1', 232): {'low': 0, 'high': 2.049062967300415},\n",
       " ('relu1', 233): {'low': 0, 'high': 2.0494608879089355},\n",
       " ('relu1', 234): {'low': 0, 'high': 1.9786672592163086},\n",
       " ('relu1', 235): {'low': 0, 'high': 1.9227328300476074},\n",
       " ('relu1', 236): {'low': 0, 'high': 1.7772328853607178},\n",
       " ('relu1', 237): {'low': 0, 'high': 1.8086358308792114},\n",
       " ('relu1', 238): {'low': 0, 'high': 1.7447537183761597},\n",
       " ('relu1', 239): {'low': 0, 'high': 1.2826398611068726},\n",
       " ('relu1', 240): {'low': 0, 'high': 1.5140374898910522},\n",
       " ('relu1', 241): {'low': 0, 'high': 1.649646520614624},\n",
       " ('relu1', 242): {'low': 0, 'high': 1.716361403465271},\n",
       " ('relu1', 243): {'low': 0, 'high': 1.7925952672958374},\n",
       " ('relu1', 244): {'low': 0, 'high': 1.7793591022491455},\n",
       " ('relu1', 245): {'low': 0, 'high': 1.791611909866333},\n",
       " ('relu1', 246): {'low': 0, 'high': 1.8733232021331787},\n",
       " ('relu1', 247): {'low': 0, 'high': 1.878709316253662},\n",
       " ('relu1', 248): {'low': 0, 'high': 1.8882097005844116},\n",
       " ('relu1', 249): {'low': 0, 'high': 1.914691686630249},\n",
       " ('relu1', 250): {'low': 0, 'high': 2.0032341480255127},\n",
       " ('relu1', 251): {'low': 0, 'high': 2.0094492435455322},\n",
       " ('relu1', 252): {'low': 0, 'high': 2.002845048904419},\n",
       " ('relu1', 253): {'low': 0, 'high': 2.032494306564331},\n",
       " ('relu1', 254): {'low': 0, 'high': 2.077793836593628},\n",
       " ('relu1', 255): {'low': 0, 'high': 2.0095365047454834},\n",
       " ('relu1', 256): {'low': 0, 'high': 1.9797111749649048},\n",
       " ('relu1', 257): {'low': 0, 'high': 2.0195505619049072},\n",
       " ('relu1', 258): {'low': 0, 'high': 1.9873179197311401},\n",
       " ('relu1', 259): {'low': 0, 'high': 1.9365804195404053},\n",
       " ('relu1', 260): {'low': 0, 'high': 1.89665949344635},\n",
       " ('relu1', 261): {'low': 0, 'high': 1.8206685781478882},\n",
       " ('relu1', 262): {'low': 0, 'high': 1.6791155338287354},\n",
       " ('relu1', 263): {'low': 0, 'high': 1.280181646347046},\n",
       " ('relu1', 264): {'low': 0, 'high': 1.3032305240631104},\n",
       " ('relu1', 265): {'low': 0, 'high': 1.6146992444992065},\n",
       " ('relu1', 266): {'low': 0, 'high': 1.7811986207962036},\n",
       " ('relu1', 267): {'low': 0, 'high': 1.7309640645980835},\n",
       " ('relu1', 268): {'low': 0, 'high': 1.7536883354187012},\n",
       " ('relu1', 269): {'low': 0, 'high': 1.9049965143203735},\n",
       " ('relu1', 270): {'low': 0, 'high': 1.8380082845687866},\n",
       " ('relu1', 271): {'low': 0, 'high': 1.8116633892059326},\n",
       " ('relu1', 272): {'low': 0, 'high': 1.8594247102737427},\n",
       " ('relu1', 273): {'low': 0, 'high': 1.9477038383483887},\n",
       " ('relu1', 274): {'low': 0, 'high': 1.9593933820724487},\n",
       " ('relu1', 275): {'low': 0, 'high': 1.9863636493682861},\n",
       " ('relu1', 276): {'low': 0, 'high': 2.0108070373535156},\n",
       " ('relu1', 277): {'low': 0, 'high': 2.016200065612793},\n",
       " ('relu1', 278): {'low': 0, 'high': 2.0352470874786377},\n",
       " ('relu1', 279): {'low': 0, 'high': 1.9977976083755493},\n",
       " ('relu1', 280): {'low': 0, 'high': 2.0445492267608643},\n",
       " ('relu1', 281): {'low': 0, 'high': 2.003117322921753},\n",
       " ('relu1', 282): {'low': 0, 'high': 1.983757734298706},\n",
       " ('relu1', 283): {'low': 0, 'high': 1.9640331268310547},\n",
       " ('relu1', 284): {'low': 0, 'high': 1.7274349927902222},\n",
       " ('relu1', 285): {'low': 0, 'high': 1.6714080572128296},\n",
       " ('relu1', 286): {'low': 0, 'high': 1.6561915874481201},\n",
       " ('relu1', 287): {'low': 0, 'high': 1.2948380708694458},\n",
       " ('relu1', 288): {'low': 0, 'high': 1.2668724060058594},\n",
       " ('relu1', 289): {'low': 0, 'high': 1.5311964750289917},\n",
       " ('relu1', 290): {'low': 0, 'high': 1.6639727354049683},\n",
       " ('relu1', 291): {'low': 0, 'high': 1.711922526359558},\n",
       " ('relu1', 292): {'low': 0, 'high': 1.807934045791626},\n",
       " ('relu1', 293): {'low': 0, 'high': 1.7710696458816528},\n",
       " ('relu1', 294): {'low': 0, 'high': 1.8514140844345093},\n",
       " ('relu1', 295): {'low': 0, 'high': 1.9126089811325073},\n",
       " ('relu1', 296): {'low': 0, 'high': 1.9036681652069092},\n",
       " ('relu1', 297): {'low': 0, 'high': 1.932551622390747},\n",
       " ('relu1', 298): {'low': 0, 'high': 1.9916585683822632},\n",
       " ('relu1', 299): {'low': 0, 'high': 2.0043630599975586},\n",
       " ('relu1', 300): {'low': 0, 'high': 2.0327072143554688},\n",
       " ('relu1', 301): {'low': 0, 'high': 2.073268413543701},\n",
       " ('relu1', 302): {'low': 0, 'high': 2.0501954555511475},\n",
       " ('relu1', 303): {'low': 0, 'high': 2.0773138999938965},\n",
       " ('relu1', 304): {'low': 0, 'high': 2.076714277267456},\n",
       " ('relu1', 305): {'low': 0, 'high': 2.067659378051758},\n",
       " ('relu1', 306): {'low': 0, 'high': 2.0248875617980957},\n",
       " ('relu1', 307): {'low': 0, 'high': 2.047626495361328},\n",
       " ('relu1', 308): {'low': 0, 'high': 1.8665571212768555},\n",
       " ('relu1', 309): {'low': 0, 'high': 1.6114075183868408},\n",
       " ('relu1', 310): {'low': 0, 'high': 1.5954604148864746},\n",
       " ('relu1', 311): {'low': 0, 'high': 1.4270646572113037},\n",
       " ('relu1', 312): {'low': 0, 'high': 1.3048653602600098},\n",
       " ('relu1', 313): {'low': 0, 'high': 1.5231175422668457},\n",
       " ('relu1', 314): {'low': 0, 'high': 1.6584296226501465},\n",
       " ('relu1', 315): {'low': 0, 'high': 1.75502347946167},\n",
       " ('relu1', 316): {'low': 0, 'high': 1.8591225147247314},\n",
       " ('relu1', 317): {'low': 0, 'high': 1.8499257564544678},\n",
       " ('relu1', 318): {'low': 0, 'high': 1.929071307182312},\n",
       " ('relu1', 319): {'low': 0, 'high': 1.861120581626892},\n",
       " ('relu1', 320): {'low': 0, 'high': 1.8937067985534668},\n",
       " ('relu1', 321): {'low': 0, 'high': 1.9850653409957886},\n",
       " ('relu1', 322): {'low': 0, 'high': 2.016026258468628},\n",
       " ('relu1', 323): {'low': 0, 'high': 2.027547836303711},\n",
       " ('relu1', 324): {'low': 0, 'high': 2.085615873336792},\n",
       " ('relu1', 325): {'low': 0, 'high': 2.106060743331909},\n",
       " ('relu1', 326): {'low': 0, 'high': 2.054117441177368},\n",
       " ('relu1', 327): {'low': 0, 'high': 2.084644317626953},\n",
       " ('relu1', 328): {'low': 0, 'high': 2.03169846534729},\n",
       " ('relu1', 329): {'low': 0, 'high': 1.992643117904663},\n",
       " ('relu1', 330): {'low': 0, 'high': 2.009164333343506},\n",
       " ('relu1', 331): {'low': 0, 'high': 1.9228515625},\n",
       " ('relu1', 332): {'low': 0, 'high': 1.7319809198379517},\n",
       " ('relu1', 333): {'low': 0, 'high': 1.696987509727478},\n",
       " ('relu1', 334): {'low': 0, 'high': 1.5814452171325684},\n",
       " ('relu1', 335): {'low': 0, 'high': 1.1465944051742554},\n",
       " ('relu1', 336): {'low': 0, 'high': 1.1879570484161377},\n",
       " ('relu1', 337): {'low': 0, 'high': 1.5396395921707153},\n",
       " ('relu1', 338): {'low': 0, 'high': 1.524802803993225},\n",
       " ('relu1', 339): {'low': 0, 'high': 1.7007393836975098},\n",
       " ('relu1', 340): {'low': 0, 'high': 1.7199097871780396},\n",
       " ('relu1', 341): {'low': 0, 'high': 1.822163462638855},\n",
       " ('relu1', 342): {'low': 0, 'high': 1.8841522932052612},\n",
       " ('relu1', 343): {'low': 0, 'high': 1.902351975440979},\n",
       " ('relu1', 344): {'low': 0, 'high': 1.96513831615448},\n",
       " ('relu1', 345): {'low': 0, 'high': 2.1542558670043945},\n",
       " ('relu1', 346): {'low': 0, 'high': 2.0298209190368652},\n",
       " ('relu1', 347): {'low': 0, 'high': 2.026519536972046},\n",
       " ('relu1', 348): {'low': 0, 'high': 2.1076223850250244},\n",
       " ('relu1', 349): {'low': 0, 'high': 2.066580057144165},\n",
       " ('relu1', 350): {'low': 0, 'high': 2.061321258544922},\n",
       " ('relu1', 351): {'low': 0, 'high': 2.038633346557617},\n",
       " ('relu1', 352): {'low': 0, 'high': 2.0223536491394043},\n",
       " ('relu1', 353): {'low': 0, 'high': 1.9628976583480835},\n",
       " ('relu1', 354): {'low': 0, 'high': 1.9378840923309326},\n",
       " ('relu1', 355): {'low': 0, 'high': 1.7714736461639404},\n",
       " ('relu1', 356): {'low': 0, 'high': 1.7016619443893433},\n",
       " ('relu1', 357): {'low': 0, 'high': 1.6618674993515015},\n",
       " ('relu1', 358): {'low': 0, 'high': 1.374138355255127},\n",
       " ('relu1', 359): {'low': 0, 'high': 1.1212379932403564},\n",
       " ('relu1', 360): {'low': 0, 'high': 0.9074327945709229},\n",
       " ('relu1', 361): {'low': 0, 'high': 1.1817234754562378},\n",
       " ('relu1', 362): {'low': 0, 'high': 1.518920660018921},\n",
       " ('relu1', 363): {'low': 0, 'high': 1.7043861150741577},\n",
       " ('relu1', 364): {'low': 0, 'high': 1.714163064956665},\n",
       " ('relu1', 365): {'low': 0, 'high': 1.8043750524520874},\n",
       " ('relu1', 366): {'low': 0, 'high': 1.9200313091278076},\n",
       " ('relu1', 367): {'low': 0, 'high': 1.948276162147522},\n",
       " ('relu1', 368): {'low': 0, 'high': 1.9673157930374146},\n",
       " ('relu1', 369): {'low': 0, 'high': 2.0048160552978516},\n",
       " ('relu1', 370): {'low': 0, 'high': 2.030160427093506},\n",
       " ('relu1', 371): {'low': 0, 'high': 2.1542558670043945},\n",
       " ('relu1', 372): {'low': 0, 'high': 2.063303232192993},\n",
       " ('relu1', 373): {'low': 0, 'high': 2.0566964149475098},\n",
       " ('relu1', 374): {'low': 0, 'high': 2.1033060550689697},\n",
       " ('relu1', 375): {'low': 0, 'high': 2.061480760574341},\n",
       " ('relu1', 376): {'low': 0, 'high': 2.009584426879883},\n",
       " ('relu1', 377): {'low': 0, 'high': 1.9939501285552979},\n",
       " ('relu1', 378): {'low': 0, 'high': 1.8937561511993408},\n",
       " ('relu1', 379): {'low': 0, 'high': 1.8264129161834717},\n",
       " ('relu1', 380): {'low': 0, 'high': 1.7258193492889404},\n",
       " ('relu1', 381): {'low': 0, 'high': 1.6513694524765015},\n",
       " ('relu1', 382): {'low': 0, 'high': 1.6479557752609253},\n",
       " ('relu1', 383): {'low': 0, 'high': 1.257487177848816},\n",
       " ('relu1', 384): {'low': 0, 'high': 1.092849850654602},\n",
       " ('relu1', 385): {'low': 0, 'high': 1.2888412475585938},\n",
       " ('relu1', 386): {'low': 0, 'high': 1.4842116832733154},\n",
       " ('relu1', 387): {'low': 0, 'high': 1.623915195465088},\n",
       " ('relu1', 388): {'low': 0, 'high': 1.7086178064346313},\n",
       " ('relu1', 389): {'low': 0, 'high': 1.8139638900756836},\n",
       " ('relu1', 390): {'low': 0, 'high': 1.889642357826233},\n",
       " ('relu1', 391): {'low': 0, 'high': 2.016587972640991},\n",
       " ('relu1', 392): {'low': 0, 'high': 1.9815150499343872},\n",
       " ('relu1', 393): {'low': 0, 'high': 2.0209221839904785},\n",
       " ('relu1', 394): {'low': 0, 'high': 2.034884214401245},\n",
       " ('relu1', 395): {'low': 0, 'high': 2.0354926586151123},\n",
       " ('relu1', 396): {'low': 0, 'high': 2.0297012329101562},\n",
       " ('relu1', 397): {'low': 0, 'high': 2.106060743331909},\n",
       " ('relu1', 398): {'low': 0, 'high': 2.071258068084717},\n",
       " ('relu1', 399): {'low': 0, 'high': 1.9880818128585815},\n",
       " ('relu1', 400): {'low': 0, 'high': 1.9791158437728882},\n",
       " ('relu1', 401): {'low': 0, 'high': 1.9878883361816406},\n",
       " ('relu1', 402): {'low': 0, 'high': 1.8860094547271729},\n",
       " ('relu1', 403): {'low': 0, 'high': 1.7843869924545288},\n",
       " ('relu1', 404): {'low': 0, 'high': 1.748301386833191},\n",
       " ('relu1', 405): {'low': 0, 'high': 1.7887933254241943},\n",
       " ('relu1', 406): {'low': 0, 'high': 1.6379590034484863},\n",
       " ('relu1', 407): {'low': 0, 'high': 1.450027346611023},\n",
       " ('relu1', 408): {'low': 0, 'high': 1.164709210395813},\n",
       " ('relu1', 409): {'low': 0, 'high': 1.3710124492645264},\n",
       " ('relu1', 410): {'low': 0, 'high': 1.6224918365478516},\n",
       " ('relu1', 411): {'low': 0, 'high': 1.73656165599823},\n",
       " ('relu1', 412): {'low': 0, 'high': 1.905583381652832},\n",
       " ('relu1', 413): {'low': 0, 'high': 1.8946270942687988},\n",
       " ('relu1', 414): {'low': 0, 'high': 1.8725579977035522},\n",
       " ('relu1', 415): {'low': 0, 'high': 1.9638301134109497},\n",
       " ('relu1', 416): {'low': 0, 'high': 1.9784700870513916},\n",
       " ('relu1', 417): {'low': 0, 'high': 1.9871686697006226},\n",
       " ('relu1', 418): {'low': 0, 'high': 1.9969170093536377},\n",
       " ('relu1', 419): {'low': 0, 'high': 2.0309500694274902},\n",
       " ('relu1', 420): {'low': 0, 'high': 2.01143217086792},\n",
       " ('relu1', 421): {'low': 0, 'high': 2.0496695041656494},\n",
       " ('relu1', 422): {'low': 0, 'high': 2.0646274089813232},\n",
       " ('relu1', 423): {'low': 0, 'high': 1.9724997282028198},\n",
       " ('relu1', 424): {'low': 0, 'high': 1.9610908031463623},\n",
       " ('relu1', 425): {'low': 0, 'high': 1.972239375114441},\n",
       " ('relu1', 426): {'low': 0, 'high': 1.9076199531555176},\n",
       " ('relu1', 427): {'low': 0, 'high': 1.825129508972168},\n",
       " ('relu1', 428): {'low': 0, 'high': 1.7878503799438477},\n",
       " ('relu1', 429): {'low': 0, 'high': 1.7708959579467773},\n",
       " ('relu1', 430): {'low': 0, 'high': 1.6314343214035034},\n",
       " ('relu1', 431): {'low': 0, 'high': 1.3277561664581299},\n",
       " ('relu1', 432): {'low': 0, 'high': 1.1641849279403687},\n",
       " ('relu1', 433): {'low': 0, 'high': 1.3549739122390747},\n",
       " ('relu1', 434): {'low': 0, 'high': 1.605302333831787},\n",
       " ('relu1', 435): {'low': 0, 'high': 1.6970285177230835},\n",
       " ('relu1', 436): {'low': 0, 'high': 1.763901710510254},\n",
       " ('relu1', 437): {'low': 0, 'high': 1.7801998853683472},\n",
       " ('relu1', 438): {'low': 0, 'high': 1.7958747148513794},\n",
       " ('relu1', 439): {'low': 0, 'high': 1.921305537223816},\n",
       " ('relu1', 440): {'low': 0, 'high': 1.9196784496307373},\n",
       " ('relu1', 441): {'low': 0, 'high': 1.9109504222869873},\n",
       " ('relu1', 442): {'low': 0, 'high': 2.041306734085083},\n",
       " ('relu1', 443): {'low': 0, 'high': 2.0220699310302734},\n",
       " ('relu1', 444): {'low': 0, 'high': 1.9652572870254517},\n",
       " ('relu1', 445): {'low': 0, 'high': 2.065462827682495},\n",
       " ('relu1', 446): {'low': 0, 'high': 2.018573760986328},\n",
       " ('relu1', 447): {'low': 0, 'high': 1.9889705181121826},\n",
       " ('relu1', 448): {'low': 0, 'high': 1.8980566263198853},\n",
       " ('relu1', 449): {'low': 0, 'high': 1.8909790515899658},\n",
       " ('relu1', 450): {'low': 0, 'high': 1.8713902235031128},\n",
       " ('relu1', 451): {'low': 0, 'high': 1.8334436416625977},\n",
       " ('relu1', 452): {'low': 0, 'high': 1.7653840780258179},\n",
       " ('relu1', 453): {'low': 0, 'high': 1.7527812719345093},\n",
       " ('relu1', 454): {'low': 0, 'high': 1.6313585042953491},\n",
       " ('relu1', 455): {'low': 0, 'high': 1.300410270690918},\n",
       " ('relu1', 456): {'low': 0, 'high': 1.1884105205535889},\n",
       " ('relu1', 457): {'low': 0, 'high': 1.4797276258468628},\n",
       " ('relu1', 458): {'low': 0, 'high': 1.7264878749847412},\n",
       " ('relu1', 459): {'low': 0, 'high': 1.7162206172943115},\n",
       " ('relu1', 460): {'low': 0, 'high': 1.8152225017547607},\n",
       " ('relu1', 461): {'low': 0, 'high': 1.7430129051208496},\n",
       " ('relu1', 462): {'low': 0, 'high': 1.9241243600845337},\n",
       " ('relu1', 463): {'low': 0, 'high': 1.8660039901733398},\n",
       " ('relu1', 464): {'low': 0, 'high': 1.862299919128418},\n",
       " ('relu1', 465): {'low': 0, 'high': 1.9514108896255493},\n",
       " ('relu1', 466): {'low': 0, 'high': 2.0082590579986572},\n",
       " ('relu1', 467): {'low': 0, 'high': 1.9473165273666382},\n",
       " ('relu1', 468): {'low': 0, 'high': 1.9381120204925537},\n",
       " ('relu1', 469): {'low': 0, 'high': 1.957803726196289},\n",
       " ('relu1', 470): {'low': 0, 'high': 1.947145700454712},\n",
       " ('relu1', 471): {'low': 0, 'high': 1.9670685529708862},\n",
       " ('relu1', 472): {'low': 0, 'high': 2.0026655197143555},\n",
       " ('relu1', 473): {'low': 0, 'high': 1.861668586730957},\n",
       " ('relu1', 474): {'low': 0, 'high': 1.7897411584854126},\n",
       " ('relu1', 475): {'low': 0, 'high': 1.861080527305603},\n",
       " ('relu1', 476): {'low': 0, 'high': 1.7692023515701294},\n",
       " ('relu1', 477): {'low': 0, 'high': 1.7798042297363281},\n",
       " ('relu1', 478): {'low': 0, 'high': 1.6491936445236206},\n",
       " ('relu1', 479): {'low': 0, 'high': 1.2132055759429932},\n",
       " ('relu1', 480): {'low': 0, 'high': 1.1907033920288086},\n",
       " ('relu1', 481): {'low': 0, 'high': 1.3828486204147339},\n",
       " ('relu1', 482): {'low': 0, 'high': 1.6918587684631348},\n",
       " ('relu1', 483): {'low': 0, 'high': 1.7147996425628662},\n",
       " ('relu1', 484): {'low': 0, 'high': 1.7680608034133911},\n",
       " ('relu1', 485): {'low': 0, 'high': 1.7482744455337524},\n",
       " ('relu1', 486): {'low': 0, 'high': 1.7939715385437012},\n",
       " ('relu1', 487): {'low': 0, 'high': 1.8357172012329102},\n",
       " ('relu1', 488): {'low': 0, 'high': 1.9243385791778564},\n",
       " ('relu1', 489): {'low': 0, 'high': 1.9294414520263672},\n",
       " ('relu1', 490): {'low': 0, 'high': 1.8627420663833618},\n",
       " ('relu1', 491): {'low': 0, 'high': 1.8996647596359253},\n",
       " ('relu1', 492): {'low': 0, 'high': 1.9347673654556274},\n",
       " ('relu1', 493): {'low': 0, 'high': 1.9008361101150513},\n",
       " ('relu1', 494): {'low': 0, 'high': 1.898533582687378},\n",
       " ('relu1', 495): {'low': 0, 'high': 1.8823715448379517},\n",
       " ('relu1', 496): {'low': 0, 'high': 1.825129508972168},\n",
       " ('relu1', 497): {'low': 0, 'high': 1.8187283277511597},\n",
       " ('relu1', 498): {'low': 0, 'high': 1.792480230331421},\n",
       " ('relu1', 499): {'low': 0, 'high': 1.7511217594146729},\n",
       " ('relu1', 500): {'low': 0, 'high': 1.7507755756378174},\n",
       " ('relu1', 501): {'low': 0, 'high': 1.7077809572219849},\n",
       " ('relu1', 502): {'low': 0, 'high': 1.5150742530822754},\n",
       " ('relu1', 503): {'low': 0, 'high': 1.2594894170761108},\n",
       " ('relu1', 504): {'low': 0, 'high': 1.1697359085083008},\n",
       " ('relu1', 505): {'low': 0, 'high': 1.429857611656189},\n",
       " ('relu1', 506): {'low': 0, 'high': 1.7221519947052002},\n",
       " ('relu1', 507): {'low': 0, 'high': 1.7214385271072388},\n",
       " ('relu1', 508): {'low': 0, 'high': 1.8065359592437744},\n",
       " ('relu1', 509): {'low': 0, 'high': 1.8181824684143066},\n",
       " ('relu1', 510): {'low': 0, 'high': 1.8518624305725098},\n",
       " ('relu1', 511): {'low': 0, 'high': 1.8043750524520874},\n",
       " ('relu1', 512): {'low': 0, 'high': 1.8247352838516235},\n",
       " ('relu1', 513): {'low': 0, 'high': 1.8339664936065674},\n",
       " ('relu1', 514): {'low': 0, 'high': 1.8169304132461548},\n",
       " ('relu1', 515): {'low': 0, 'high': 1.8646821975708008},\n",
       " ('relu1', 516): {'low': 0, 'high': 1.8303824663162231},\n",
       " ('relu1', 517): {'low': 0, 'high': 1.8168238401412964},\n",
       " ('relu1', 518): {'low': 0, 'high': 1.843846082687378},\n",
       " ('relu1', 519): {'low': 0, 'high': 1.7998003959655762},\n",
       " ('relu1', 520): {'low': 0, 'high': 1.7879927158355713},\n",
       " ('relu1', 521): {'low': 0, 'high': 1.798935890197754},\n",
       " ('relu1', 522): {'low': 0, 'high': 1.77046537399292},\n",
       " ('relu1', 523): {'low': 0, 'high': 1.7607680559158325},\n",
       " ('relu1', 524): {'low': 0, 'high': 1.7467690706253052},\n",
       " ('relu1', 525): {'low': 0, 'high': 1.6940279006958008},\n",
       " ('relu1', 526): {'low': 0, 'high': 1.3786730766296387},\n",
       " ('relu1', 527): {'low': 0, 'high': 1.098215937614441},\n",
       " ('relu1', 528): {'low': 0, 'high': 1.065202236175537},\n",
       " ('relu1', 529): {'low': 0, 'high': 1.3088136911392212},\n",
       " ('relu1', 530): {'low': 0, 'high': 1.6536779403686523},\n",
       " ('relu1', 531): {'low': 0, 'high': 1.7043818235397339},\n",
       " ('relu1', 532): {'low': 0, 'high': 1.751602053642273},\n",
       " ('relu1', 533): {'low': 0, 'high': 1.7879927158355713},\n",
       " ('relu1', 534): {'low': 0, 'high': 1.8065359592437744},\n",
       " ('relu1', 535): {'low': 0, 'high': 1.7925952672958374},\n",
       " ('relu1', 536): {'low': 0, 'high': 1.7730038166046143},\n",
       " ('relu1', 537): {'low': 0, 'high': 1.7862844467163086},\n",
       " ('relu1', 538): {'low': 0, 'high': 1.8411718606948853},\n",
       " ('relu1', 539): {'low': 0, 'high': 1.788482904434204},\n",
       " ('relu1', 540): {'low': 0, 'high': 1.78360116481781},\n",
       " ('relu1', 541): {'low': 0, 'high': 1.788177251815796},\n",
       " ('relu1', 542): {'low': 0, 'high': 1.788177251815796},\n",
       " ('relu1', 543): {'low': 0, 'high': 1.7956936359405518},\n",
       " ('relu1', 544): {'low': 0, 'high': 1.7836247682571411},\n",
       " ('relu1', 545): {'low': 0, 'high': 1.7417317628860474},\n",
       " ('relu1', 546): {'low': 0, 'high': 1.7342487573623657},\n",
       " ('relu1', 547): {'low': 0, 'high': 1.7255234718322754},\n",
       " ('relu1', 548): {'low': 0, 'high': 1.7157374620437622},\n",
       " ('relu1', 549): {'low': 0, 'high': 1.5304064750671387},\n",
       " ('relu1', 550): {'low': 0, 'high': 1.1757137775421143},\n",
       " ('relu1', 551): {'low': 0, 'high': 1.1178297996520996},\n",
       " ('relu1', 552): {'low': 0, 'high': 0.9284409880638123},\n",
       " ('relu1', 553): {'low': 0, 'high': 1.2579346895217896},\n",
       " ('relu1', 554): {'low': 0, 'high': 1.5713783502578735},\n",
       " ('relu1', 555): {'low': 0, 'high': 1.6831188201904297},\n",
       " ('relu1', 556): {'low': 0, 'high': 1.7061046361923218},\n",
       " ('relu1', 557): {'low': 0, 'high': 1.7277700901031494},\n",
       " ('relu1', 558): {'low': 0, 'high': 1.727221965789795},\n",
       " ('relu1', 559): {'low': 0, 'high': 1.7342487573623657},\n",
       " ('relu1', 560): {'low': 0, 'high': 1.7949715852737427},\n",
       " ('relu1', 561): {'low': 0, 'high': 1.7342487573623657},\n",
       " ('relu1', 562): {'low': 0, 'high': 1.7342487573623657},\n",
       " ('relu1', 563): {'low': 0, 'high': 1.7342487573623657},\n",
       " ('relu1', 564): {'low': 0, 'high': 1.7342487573623657},\n",
       " ('relu1', 565): {'low': 0, 'high': 1.7582944631576538},\n",
       " ('relu1', 566): {'low': 0, 'high': 1.7342487573623657},\n",
       " ('relu1', 567): {'low': 0, 'high': 1.7342487573623657},\n",
       " ('relu1', 568): {'low': 0, 'high': 1.7330118417739868},\n",
       " ('relu1', 569): {'low': 0, 'high': 1.7274936437606812},\n",
       " ('relu1', 570): {'low': 0, 'high': 1.721875548362732},\n",
       " ('relu1', 571): {'low': 0, 'high': 1.7148126363754272},\n",
       " ('relu1', 572): {'low': 0, 'high': 1.582363247871399},\n",
       " ('relu1', 573): {'low': 0, 'high': 1.3638782501220703},\n",
       " ('relu1', 574): {'low': 0, 'high': 1.0386124849319458},\n",
       " ('relu1', 575): {'low': 0, 'high': 0.9195885062217712},\n",
       " ('relu1', 576): {'low': 0, 'high': 0},\n",
       " ('relu1', 577): {'low': 0, 'high': 0},\n",
       " ('relu1', 578): {'low': 0, 'high': 0.02734193205833435},\n",
       " ('relu1', 579): {'low': 0, 'high': 0},\n",
       " ('relu1', 580): {'low': 0, 'high': 0.15507455170154572},\n",
       " ('relu1', 581): {'low': 0, 'high': 0.18679578602313995},\n",
       " ('relu1', 582): {'low': 0, 'high': 0.36291539669036865},\n",
       " ('relu1', 583): {'low': 0, 'high': 0.6232868432998657},\n",
       " ('relu1', 584): {'low': 0, 'high': 0.6177752017974854},\n",
       " ('relu1', 585): {'low': 0, 'high': 0.5860531330108643},\n",
       " ('relu1', 586): {'low': 0, 'high': 0.6306123733520508},\n",
       " ('relu1', 587): {'low': 0, 'high': 0.6564200520515442},\n",
       " ('relu1', 588): {'low': 0, 'high': 0.5944513082504272},\n",
       " ('relu1', 589): {'low': 0, 'high': 0.5559552907943726},\n",
       " ('relu1', 590): {'low': 0, 'high': 0.5695333480834961},\n",
       " ('relu1', 591): {'low': 0, 'high': 0.5889822840690613},\n",
       " ('relu1', 592): {'low': 0, 'high': 0.6629047393798828},\n",
       " ('relu1', 593): {'low': 0, 'high': 0.5990226864814758},\n",
       " ('relu1', 594): {'low': 0, 'high': 0.5927111506462097},\n",
       " ('relu1', 595): {'low': 0, 'high': 0.5695430636405945},\n",
       " ('relu1', 596): {'low': 0, 'high': 0.5128756761550903},\n",
       " ('relu1', 597): {'low': 0, 'high': 0.5197372436523438},\n",
       " ('relu1', 598): {'low': 0, 'high': 0.47466492652893066},\n",
       " ('relu1', 599): {'low': 0, 'high': 0.4836219549179077},\n",
       " ('relu1', 600): {'low': 0, 'high': 0},\n",
       " ('relu1', 601): {'low': 0, 'high': 0},\n",
       " ('relu1', 602): {'low': 0, 'high': 0.03338557481765747},\n",
       " ('relu1', 603): {'low': 0, 'high': 0.12798650562763214},\n",
       " ('relu1', 604): {'low': 0, 'high': 0.18565024435520172},\n",
       " ('relu1', 605): {'low': 0, 'high': 0.27328652143478394},\n",
       " ('relu1', 606): {'low': 0, 'high': 0.4752357006072998},\n",
       " ('relu1', 607): {'low': 0, 'high': 0.6986822485923767},\n",
       " ('relu1', 608): {'low': 0, 'high': 0.6652021408081055},\n",
       " ('relu1', 609): {'low': 0, 'high': 0.6946701407432556},\n",
       " ('relu1', 610): {'low': 0, 'high': 0.7360559105873108},\n",
       " ('relu1', 611): {'low': 0, 'high': 0.7233791351318359},\n",
       " ('relu1', 612): {'low': 0, 'high': 0.6961692571640015},\n",
       " ('relu1', 613): {'low': 0, 'high': 0.6449280381202698},\n",
       " ('relu1', 614): {'low': 0, 'high': 0.6496151685714722},\n",
       " ('relu1', 615): {'low': 0, 'high': 0.7037168741226196},\n",
       " ('relu1', 616): {'low': 0, 'high': 0.6769273281097412},\n",
       " ('relu1', 617): {'low': 0, 'high': 0.7085264921188354},\n",
       " ('relu1', 618): {'low': 0, 'high': 0.6275695562362671},\n",
       " ('relu1', 619): {'low': 0, 'high': 0.6254919767379761},\n",
       " ('relu1', 620): {'low': 0, 'high': 0.5854920148849487},\n",
       " ('relu1', 621): {'low': 0, 'high': 0.5635688304901123},\n",
       " ('relu1', 622): {'low': 0, 'high': 0.5635155439376831},\n",
       " ('relu1', 623): {'low': 0, 'high': 0.5542900562286377},\n",
       " ('relu1', 624): {'low': 0, 'high': 0},\n",
       " ('relu1', 625): {'low': 0, 'high': 0},\n",
       " ('relu1', 626): {'low': 0, 'high': 0.09849582612514496},\n",
       " ('relu1', 627): {'low': 0, 'high': 0.14675278961658478},\n",
       " ('relu1', 628): {'low': 0, 'high': 0.396107017993927},\n",
       " ('relu1', 629): {'low': 0, 'high': 0.37312209606170654},\n",
       " ('relu1', 630): {'low': 0, 'high': 0.5783470273017883},\n",
       " ('relu1', 631): {'low': 0, 'high': 0.7083685994148254},\n",
       " ('relu1', 632): {'low': 0, 'high': 0.7268626093864441},\n",
       " ('relu1', 633): {'low': 0, 'high': 0.7353655099868774},\n",
       " ('relu1', 634): {'low': 0, 'high': 0.7322498559951782},\n",
       " ('relu1', 635): {'low': 0, 'high': 0.770926296710968},\n",
       " ('relu1', 636): {'low': 0, 'high': 0.7173221111297607},\n",
       " ('relu1', 637): {'low': 0, 'high': 0.7834227085113525},\n",
       " ('relu1', 638): {'low': 0, 'high': 0.736829400062561},\n",
       " ('relu1', 639): {'low': 0, 'high': 0.7879462838172913},\n",
       " ('relu1', 640): {'low': 0, 'high': 0.7032851576805115},\n",
       " ('relu1', 641): {'low': 0, 'high': 0.8006714582443237},\n",
       " ('relu1', 642): {'low': 0, 'high': 0.6989431381225586},\n",
       " ('relu1', 643): {'low': 0, 'high': 0.6520829200744629},\n",
       " ('relu1', 644): {'low': 0, 'high': 0.6822952032089233},\n",
       " ('relu1', 645): {'low': 0, 'high': 0.6490981578826904},\n",
       " ('relu1', 646): {'low': 0, 'high': 0.6771804690361023},\n",
       " ('relu1', 647): {'low': 0, 'high': 0.5570194125175476},\n",
       " ('relu1', 648): {'low': 0, 'high': 0},\n",
       " ('relu1', 649): {'low': 0, 'high': 0.09328818321228027},\n",
       " ('relu1', 650): {'low': 0, 'high': 0.15093468129634857},\n",
       " ('relu1', 651): {'low': 0, 'high': 0.2971634268760681},\n",
       " ('relu1', 652): {'low': 0, 'high': 0.5069538950920105},\n",
       " ('relu1', 653): {'low': 0, 'high': 0.5210406184196472},\n",
       " ('relu1', 654): {'low': 0, 'high': 0.6833889484405518},\n",
       " ('relu1', 655): {'low': 0, 'high': 0.7008181214332581},\n",
       " ('relu1', 656): {'low': 0, 'high': 0.7539560198783875},\n",
       " ('relu1', 657): {'low': 0, 'high': 0.7517808079719543},\n",
       " ('relu1', 658): {'low': 0, 'high': 0.7618334889411926},\n",
       " ('relu1', 659): {'low': 0, 'high': 0.7166541814804077},\n",
       " ('relu1', 660): {'low': 0, 'high': 0.8194683194160461},\n",
       " ('relu1', 661): {'low': 0, 'high': 0.7153783440589905},\n",
       " ('relu1', 662): {'low': 0, 'high': 0.7702733874320984},\n",
       " ('relu1', 663): {'low': 0, 'high': 0.7801658511161804},\n",
       " ('relu1', 664): {'low': 0, 'high': 0.777353048324585},\n",
       " ('relu1', 665): {'low': 0, 'high': 0.7457488179206848},\n",
       " ('relu1', 666): {'low': 0, 'high': 0.7817938923835754},\n",
       " ('relu1', 667): {'low': 0, 'high': 0.778514564037323},\n",
       " ('relu1', 668): {'low': 0, 'high': 0.7977810502052307},\n",
       " ('relu1', 669): {'low': 0, 'high': 0.8238033652305603},\n",
       " ('relu1', 670): {'low': 0, 'high': 0.7695338726043701},\n",
       " ('relu1', 671): {'low': 0, 'high': 0.6487875580787659},\n",
       " ('relu1', 672): {'low': 0, 'high': 0.06584331393241882},\n",
       " ('relu1', 673): {'low': 0, 'high': 0.16330324113368988},\n",
       " ('relu1', 674): {'low': 0, 'high': 0.23259542882442474},\n",
       " ('relu1', 675): {'low': 0, 'high': 0.40803706645965576},\n",
       " ('relu1', 676): {'low': 0, 'high': 0.5526922941207886},\n",
       " ('relu1', 677): {'low': 0, 'high': 0.6077238917350769},\n",
       " ('relu1', 678): {'low': 0, 'high': 0.7254258394241333},\n",
       " ('relu1', 679): {'low': 0, 'high': 0.6900101900100708},\n",
       " ('relu1', 680): {'low': 0, 'high': 0.8104137778282166},\n",
       " ('relu1', 681): {'low': 0, 'high': 0.7772979140281677},\n",
       " ('relu1', 682): {'low': 0, 'high': 0.7697641849517822},\n",
       " ('relu1', 683): {'low': 0, 'high': 0.7532280683517456},\n",
       " ('relu1', 684): {'low': 0, 'high': 0.8792839050292969},\n",
       " ('relu1', 685): {'low': 0, 'high': 0.8505631685256958},\n",
       " ('relu1', 686): {'low': 0, 'high': 0.8294264078140259},\n",
       " ('relu1', 687): {'low': 0, 'high': 0.8472760915756226},\n",
       " ('relu1', 688): {'low': 0, 'high': 0.809962809085846},\n",
       " ('relu1', 689): {'low': 0, 'high': 0.8066633343696594},\n",
       " ('relu1', 690): {'low': 0, 'high': 0.7694838047027588},\n",
       " ('relu1', 691): {'low': 0, 'high': 0.7929433584213257},\n",
       " ('relu1', 692): {'low': 0, 'high': 0.7969844341278076},\n",
       " ('relu1', 693): {'low': 0, 'high': 0.8078225255012512},\n",
       " ('relu1', 694): {'low': 0, 'high': 0.7623439431190491},\n",
       " ('relu1', 695): {'low': 0, 'high': 0.697734534740448},\n",
       " ('relu1', 696): {'low': 0, 'high': 0.1885041743516922},\n",
       " ('relu1', 697): {'low': 0, 'high': 0.24090997874736786},\n",
       " ('relu1', 698): {'low': 0, 'high': 0.3053849935531616},\n",
       " ('relu1', 699): {'low': 0, 'high': 0.2981056571006775},\n",
       " ('relu1', 700): {'low': 0, 'high': 0.6597678065299988},\n",
       " ('relu1', 701): {'low': 0, 'high': 0.6737022399902344},\n",
       " ('relu1', 702): {'low': 0, 'high': 0.7699517607688904},\n",
       " ('relu1', 703): {'low': 0, 'high': 0.825626015663147},\n",
       " ('relu1', 704): {'low': 0, 'high': 0.8703032732009888},\n",
       " ('relu1', 705): {'low': 0, 'high': 0.9095155000686646},\n",
       " ('relu1', 706): {'low': 0, 'high': 0.8790004253387451},\n",
       " ('relu1', 707): {'low': 0, 'high': 0.9596409797668457},\n",
       " ('relu1', 708): {'low': 0, 'high': 0.9514116048812866},\n",
       " ('relu1', 709): {'low': 0, 'high': 0.9452105760574341},\n",
       " ('relu1', 710): {'low': 0, 'high': 0.9247121810913086},\n",
       " ('relu1', 711): {'low': 0, 'high': 0.9408024549484253},\n",
       " ('relu1', 712): {'low': 0, 'high': 0.8142138123512268},\n",
       " ('relu1', 713): {'low': 0, 'high': 0.7990742921829224},\n",
       " ('relu1', 714): {'low': 0, 'high': 0.916246771812439},\n",
       " ('relu1', 715): {'low': 0, 'high': 0.8293241262435913},\n",
       " ('relu1', 716): {'low': 0, 'high': 0.8333916068077087},\n",
       " ('relu1', 717): {'low': 0, 'high': 0.811789333820343},\n",
       " ('relu1', 718): {'low': 0, 'high': 0.8053701519966125},\n",
       " ('relu1', 719): {'low': 0, 'high': 0.7399256229400635},\n",
       " ('relu1', 720): {'low': 0, 'high': 0.24063090980052948},\n",
       " ('relu1', 721): {'low': 0, 'high': 0.3175191283226013},\n",
       " ('relu1', 722): {'low': 0, 'high': 0.2872875928878784},\n",
       " ('relu1', 723): {'low': 0, 'high': 0.29985129833221436},\n",
       " ('relu1', 724): {'low': 0, 'high': 0.6627002954483032},\n",
       " ('relu1', 725): {'low': 0, 'high': 0.8548527956008911},\n",
       " ('relu1', 726): {'low': 0, 'high': 0.7992172241210938},\n",
       " ('relu1', 727): {'low': 0, 'high': 0.8307386040687561},\n",
       " ('relu1', 728): {'low': 0, 'high': 0.9044797420501709},\n",
       " ('relu1', 729): {'low': 0, 'high': 0.9164746999740601},\n",
       " ('relu1', 730): {'low': 0, 'high': 0.990086555480957},\n",
       " ('relu1', 731): {'low': 0, 'high': 0.9933120012283325},\n",
       " ('relu1', 732): {'low': 0, 'high': 1.0297149419784546},\n",
       " ('relu1', 733): {'low': 0, 'high': 1.0755550861358643},\n",
       " ('relu1', 734): {'low': 0, 'high': 0.8692443370819092},\n",
       " ('relu1', 735): {'low': 0, 'high': 0.8322013020515442},\n",
       " ('relu1', 736): {'low': 0, 'high': 0.937044620513916},\n",
       " ('relu1', 737): {'low': 0, 'high': 1.005759835243225},\n",
       " ('relu1', 738): {'low': 0, 'high': 0.8199196457862854},\n",
       " ('relu1', 739): {'low': 0, 'high': 0.8333916068077087},\n",
       " ('relu1', 740): {'low': 0, 'high': 0.8471065759658813},\n",
       " ('relu1', 741): {'low': 0, 'high': 0.8499972224235535},\n",
       " ('relu1', 742): {'low': 0, 'high': 0.8340650200843811},\n",
       " ('relu1', 743): {'low': 0, 'high': 0.8248924612998962},\n",
       " ('relu1', 744): {'low': 0, 'high': 0.23993153870105743},\n",
       " ('relu1', 745): {'low': 0, 'high': 0.3511209487915039},\n",
       " ('relu1', 746): {'low': 0, 'high': 0.25074851512908936},\n",
       " ('relu1', 747): {'low': 0, 'high': 0.4924473166465759},\n",
       " ('relu1', 748): {'low': 0, 'high': 0.6785573363304138},\n",
       " ('relu1', 749): {'low': 0, 'high': 0.7842164039611816},\n",
       " ('relu1', 750): {'low': 0, 'high': 0.7736342549324036},\n",
       " ('relu1', 751): {'low': 0, 'high': 0.8963671922683716},\n",
       " ('relu1', 752): {'low': 0, 'high': 0.9458193778991699},\n",
       " ('relu1', 753): {'low': 0, 'high': 1.0662729740142822},\n",
       " ('relu1', 754): {'low': 0, 'high': 1.0373584032058716},\n",
       " ('relu1', 755): {'low': 0, 'high': 0.9345459938049316},\n",
       " ('relu1', 756): {'low': 0, 'high': 0.9809626340866089},\n",
       " ('relu1', 757): {'low': 0, 'high': 0.9971867799758911},\n",
       " ('relu1', 758): {'low': 0, 'high': 1.060552954673767},\n",
       " ('relu1', 759): {'low': 0, 'high': 0.9209475517272949},\n",
       " ('relu1', 760): {'low': 0, 'high': 0.8783371448516846},\n",
       " ('relu1', 761): {'low': 0, 'high': 0.8252137899398804},\n",
       " ('relu1', 762): {'low': 0, 'high': 0.9408024549484253},\n",
       " ('relu1', 763): {'low': 0, 'high': 0.8505631685256958},\n",
       " ('relu1', 764): {'low': 0, 'high': 0.8390677571296692},\n",
       " ('relu1', 765): {'low': 0, 'high': 0.8546795845031738},\n",
       " ('relu1', 766): {'low': 0, 'high': 0.8783556222915649},\n",
       " ('relu1', 767): {'low': 0, 'high': 0.8161298632621765},\n",
       " ('relu1', 768): {'low': 0, 'high': 0.22969941794872284},\n",
       " ('relu1', 769): {'low': 0, 'high': 0.2547416687011719},\n",
       " ('relu1', 770): {'low': 0, 'high': 0.3535603880882263},\n",
       " ('relu1', 771): {'low': 0, 'high': 0.4966895580291748},\n",
       " ('relu1', 772): {'low': 0, 'high': 0.7162641286849976},\n",
       " ('relu1', 773): {'low': 0, 'high': 0.7873904705047607},\n",
       " ('relu1', 774): {'low': 0, 'high': 0.8056491017341614},\n",
       " ('relu1', 775): {'low': 0, 'high': 0.86920166015625},\n",
       " ('relu1', 776): {'low': 0, 'high': 0.9407819509506226},\n",
       " ('relu1', 777): {'low': 0, 'high': 1.0198806524276733},\n",
       " ('relu1', 778): {'low': 0, 'high': 0.9036135673522949},\n",
       " ('relu1', 779): {'low': 0, 'high': 1.0008716583251953},\n",
       " ('relu1', 780): {'low': 0, 'high': 0.9625273942947388},\n",
       " ('relu1', 781): {'low': 0, 'high': 0.9989240169525146},\n",
       " ('relu1', 782): {'low': 0, 'high': 0.9657180309295654},\n",
       " ('relu1', 783): {'low': 0, 'high': 0.953140139579773},\n",
       " ('relu1', 784): {'low': 0, 'high': 0.8533758521080017},\n",
       " ('relu1', 785): {'low': 0, 'high': 0.9408024549484253},\n",
       " ('relu1', 786): {'low': 0, 'high': 0.8774127960205078},\n",
       " ('relu1', 787): {'low': 0, 'high': 0.8412919044494629},\n",
       " ('relu1', 788): {'low': 0, 'high': 0.9125974178314209},\n",
       " ('relu1', 789): {'low': 0, 'high': 0.8588999509811401},\n",
       " ('relu1', 790): {'low': 0, 'high': 0.8522543907165527},\n",
       " ('relu1', 791): {'low': 0, 'high': 0.7812743782997131},\n",
       " ('relu1', 792): {'low': 0, 'high': 0.24656154215335846},\n",
       " ('relu1', 793): {'low': 0, 'high': 0.2676306366920471},\n",
       " ('relu1', 794): {'low': 0, 'high': 0.26816219091415405},\n",
       " ('relu1', 795): {'low': 0, 'high': 0.6394740343093872},\n",
       " ('relu1', 796): {'low': 0, 'high': 0.7700446844100952},\n",
       " ('relu1', 797): {'low': 0, 'high': 0.9357873201370239},\n",
       " ('relu1', 798): {'low': 0, 'high': 0.9547362327575684},\n",
       " ('relu1', 799): {'low': 0, 'high': 1.0317814350128174},\n",
       " ('relu1', 800): {'low': 0, 'high': 0.9964840412139893},\n",
       " ('relu1', 801): {'low': 0, 'high': 0.9883325099945068},\n",
       " ('relu1', 802): {'low': 0, 'high': 1.0777950286865234},\n",
       " ('relu1', 803): {'low': 0, 'high': 1.0583405494689941},\n",
       " ('relu1', 804): {'low': 0, 'high': 0.9353432655334473},\n",
       " ('relu1', 805): {'low': 0, 'high': 1.0011494159698486},\n",
       " ('relu1', 806): {'low': 0, 'high': 0.9768358469009399},\n",
       " ('relu1', 807): {'low': 0, 'high': 0.8963097333908081},\n",
       " ('relu1', 808): {'low': 0, 'high': 0.8865092992782593},\n",
       " ('relu1', 809): {'low': 0, 'high': 0.8294765949249268},\n",
       " ('relu1', 810): {'low': 0, 'high': 0.8771157264709473},\n",
       " ('relu1', 811): {'low': 0, 'high': 0.8666000366210938},\n",
       " ('relu1', 812): {'low': 0, 'high': 0.8554664254188538},\n",
       " ('relu1', 813): {'low': 0, 'high': 0.8692443370819092},\n",
       " ('relu1', 814): {'low': 0, 'high': 0.8665364980697632},\n",
       " ('relu1', 815): {'low': 0, 'high': 0.9408024549484253},\n",
       " ('relu1', 816): {'low': 0, 'high': 0.23750589787960052},\n",
       " ('relu1', 817): {'low': 0, 'high': 0.29086607694625854},\n",
       " ('relu1', 818): {'low': 0, 'high': 0.2802054286003113},\n",
       " ('relu1', 819): {'low': 0, 'high': 0.6869368553161621},\n",
       " ('relu1', 820): {'low': 0, 'high': 0.7754386067390442},\n",
       " ('relu1', 821): {'low': 0, 'high': 0.8324651122093201},\n",
       " ('relu1', 822): {'low': 0, 'high': 0.8887794017791748},\n",
       " ('relu1', 823): {'low': 0, 'high': 0.997154951095581},\n",
       " ('relu1', 824): {'low': 0, 'high': 0.9266887903213501},\n",
       " ('relu1', 825): {'low': 0, 'high': 0.9554170370101929},\n",
       " ('relu1', 826): {'low': 0, 'high': 0.9857504367828369},\n",
       " ('relu1', 827): {'low': 0, 'high': 0.9875655174255371},\n",
       " ('relu1', 828): {'low': 0, 'high': 0.936205267906189},\n",
       " ('relu1', 829): {'low': 0, 'high': 0.8955589532852173},\n",
       " ('relu1', 830): {'low': 0, 'high': 0.9408149719238281},\n",
       " ('relu1', 831): {'low': 0, 'high': 0.9189882278442383},\n",
       " ('relu1', 832): {'low': 0, 'high': 0.8408200144767761},\n",
       " ('relu1', 833): {'low': 0, 'high': 1.0282008647918701},\n",
       " ('relu1', 834): {'low': 0, 'high': 0.8590964674949646},\n",
       " ('relu1', 835): {'low': 0, 'high': 0.8333916068077087},\n",
       " ('relu1', 836): {'low': 0, 'high': 0.8163599967956543},\n",
       " ('relu1', 837): {'low': 0, 'high': 0.8692443370819092},\n",
       " ('relu1', 838): {'low': 0, 'high': 0.9408024549484253},\n",
       " ('relu1', 839): {'low': 0, 'high': 0.7951024770736694},\n",
       " ('relu1', 840): {'low': 0, 'high': 0.24432571232318878},\n",
       " ('relu1', 841): {'low': 0, 'high': 0.2676306366920471},\n",
       " ('relu1', 842): {'low': 0, 'high': 0.35236746072769165},\n",
       " ('relu1', 843): {'low': 0, 'high': 0.6194412112236023},\n",
       " ('relu1', 844): {'low': 0, 'high': 0.6294203400611877},\n",
       " ('relu1', 845): {'low': 0, 'high': 0.7926514744758606},\n",
       " ('relu1', 846): {'low': 0, 'high': 0.9139012098312378},\n",
       " ('relu1', 847): {'low': 0, 'high': 0.9666904211044312},\n",
       " ('relu1', 848): {'low': 0, 'high': 1.209862470626831},\n",
       " ('relu1', 849): {'low': 0, 'high': 0.8964564800262451},\n",
       " ('relu1', 850): {'low': 0, 'high': 0.9805916547775269},\n",
       " ('relu1', 851): {'low': 0, 'high': 0.9739757776260376},\n",
       " ('relu1', 852): {'low': 0, 'high': 0.914165735244751},\n",
       " ('relu1', 853): {'low': 0, 'high': 0.8639477491378784},\n",
       " ('relu1', 854): {'low': 0, 'high': 0.8410499691963196},\n",
       " ('relu1', 855): {'low': 0, 'high': 0.8750966787338257},\n",
       " ('relu1', 856): {'low': 0, 'high': 0.9266872406005859},\n",
       " ('relu1', 857): {'low': 0, 'high': 0.8748903274536133},\n",
       " ('relu1', 858): {'low': 0, 'high': 0.8203688263893127},\n",
       " ('relu1', 859): {'low': 0, 'high': 0.9408024549484253},\n",
       " ('relu1', 860): {'low': 0, 'high': 0.8632996082305908},\n",
       " ('relu1', 861): {'low': 0, 'high': 0.8249474763870239},\n",
       " ('relu1', 862): {'low': 0, 'high': 0.812585711479187},\n",
       " ('relu1', 863): {'low': 0, 'high': 0.8160476088523865},\n",
       " ('relu1', 864): {'low': 0, 'high': 0.2676306366920471},\n",
       " ('relu1', 865): {'low': 0, 'high': 0.29012882709503174},\n",
       " ('relu1', 866): {'low': 0, 'high': 0.268696129322052},\n",
       " ('relu1', 867): {'low': 0, 'high': 0.49755537509918213},\n",
       " ('relu1', 868): {'low': 0, 'high': 0.8367680311203003},\n",
       " ('relu1', 869): {'low': 0, 'high': 0.8724300861358643},\n",
       " ('relu1', 870): {'low': 0, 'high': 0.921649694442749},\n",
       " ('relu1', 871): {'low': 0, 'high': 0.9126733541488647},\n",
       " ('relu1', 872): {'low': 0, 'high': 0.960783839225769},\n",
       " ('relu1', 873): {'low': 0, 'high': 0.9991005659103394},\n",
       " ('relu1', 874): {'low': 0, 'high': 1.0320088863372803},\n",
       " ('relu1', 875): {'low': 0, 'high': 0.9042316675186157},\n",
       " ('relu1', 876): {'low': 0, 'high': 0.8715801239013672},\n",
       " ('relu1', 877): {'low': 0, 'high': 0.835446298122406},\n",
       " ('relu1', 878): {'low': 0, 'high': 0.8505631685256958},\n",
       " ('relu1', 879): {'low': 0, 'high': 0.8783371448516846},\n",
       " ('relu1', 880): {'low': 0, 'high': 0.8201515674591064},\n",
       " ('relu1', 881): {'low': 0, 'high': 0.910006046295166},\n",
       " ('relu1', 882): {'low': 0, 'high': 0.8333916068077087},\n",
       " ('relu1', 883): {'low': 0, 'high': 0.8525534868240356},\n",
       " ('relu1', 884): {'low': 0, 'high': 0.9408024549484253},\n",
       " ('relu1', 885): {'low': 0, 'high': 0.8201062083244324},\n",
       " ('relu1', 886): {'low': 0, 'high': 0.8364923596382141},\n",
       " ('relu1', 887): {'low': 0, 'high': 0.8783371448516846},\n",
       " ('relu1', 888): {'low': 0, 'high': 0.24017395079135895},\n",
       " ('relu1', 889): {'low': 0, 'high': 0.29086607694625854},\n",
       " ('relu1', 890): {'low': 0, 'high': 0.4727993607521057},\n",
       " ('relu1', 891): {'low': 0, 'high': 0.519692063331604},\n",
       " ('relu1', 892): {'low': 0, 'high': 0.7319386005401611},\n",
       " ('relu1', 893): {'low': 0, 'high': 0.8783371448516846},\n",
       " ('relu1', 894): {'low': 0, 'high': 0.8429561257362366},\n",
       " ('relu1', 895): {'low': 0, 'high': 0.8753606081008911},\n",
       " ('relu1', 896): {'low': 0, 'high': 0.9955805540084839},\n",
       " ('relu1', 897): {'low': 0, 'high': 0.8836885690689087},\n",
       " ('relu1', 898): {'low': 0, 'high': 0.9284263849258423},\n",
       " ('relu1', 899): {'low': 0, 'high': 1.0287067890167236},\n",
       " ('relu1', 900): {'low': 0, 'high': 1.0634628534317017},\n",
       " ('relu1', 901): {'low': 0, 'high': 0.832285463809967},\n",
       " ('relu1', 902): {'low': 0, 'high': 0.9072489738464355},\n",
       " ('relu1', 903): {'low': 0, 'high': 0.848304271697998},\n",
       " ('relu1', 904): {'low': 0, 'high': 0.8692443370819092},\n",
       " ('relu1', 905): {'low': 0, 'high': 0.8333916068077087},\n",
       " ('relu1', 906): {'low': 0, 'high': 0.858984112739563},\n",
       " ('relu1', 907): {'low': 0, 'high': 0.827192485332489},\n",
       " ('relu1', 908): {'low': 0, 'high': 0.8396520018577576},\n",
       " ('relu1', 909): {'low': 0, 'high': 0.8485128879547119},\n",
       " ('relu1', 910): {'low': 0, 'high': 0.8480221033096313},\n",
       " ('relu1', 911): {'low': 0, 'high': 0.7817394733428955},\n",
       " ('relu1', 912): {'low': 0, 'high': 0.23516209423542023},\n",
       " ('relu1', 913): {'low': 0, 'high': 0.2676306366920471},\n",
       " ('relu1', 914): {'low': 0, 'high': 0.2949325442314148},\n",
       " ('relu1', 915): {'low': 0, 'high': 0.49452900886535645},\n",
       " ('relu1', 916): {'low': 0, 'high': 0.7718325853347778},\n",
       " ('relu1', 917): {'low': 0, 'high': 0.8107941150665283},\n",
       " ('relu1', 918): {'low': 0, 'high': 0.913636326789856},\n",
       " ('relu1', 919): {'low': 0, 'high': 1.0056321620941162},\n",
       " ('relu1', 920): {'low': 0, 'high': 1.1194701194763184},\n",
       " ('relu1', 921): {'low': 0, 'high': 1.0187740325927734},\n",
       " ('relu1', 922): {'low': 0, 'high': 1.0057401657104492},\n",
       " ('relu1', 923): {'low': 0, 'high': 1.0604500770568848},\n",
       " ('relu1', 924): {'low': 0, 'high': 1.2240105867385864},\n",
       " ('relu1', 925): {'low': 0, 'high': 1.1160321235656738},\n",
       " ('relu1', 926): {'low': 0, 'high': 0.9359616041183472},\n",
       " ('relu1', 927): {'low': 0, 'high': 0.8531448245048523},\n",
       " ('relu1', 928): {'low': 0, 'high': 0.9591284990310669},\n",
       " ('relu1', 929): {'low': 0, 'high': 0.8571358323097229},\n",
       " ('relu1', 930): {'low': 0, 'high': 0.8949638605117798},\n",
       " ('relu1', 931): {'low': 0, 'high': 0.806473433971405},\n",
       " ('relu1', 932): {'low': 0, 'high': 0.8401929140090942},\n",
       " ('relu1', 933): {'low': 0, 'high': 0.812289297580719},\n",
       " ('relu1', 934): {'low': 0, 'high': 0.9408024549484253},\n",
       " ('relu1', 935): {'low': 0, 'high': 0.7882080078125},\n",
       " ('relu1', 936): {'low': 0, 'high': 0.24262206256389618},\n",
       " ('relu1', 937): {'low': 0, 'high': 0.2676306366920471},\n",
       " ('relu1', 938): {'low': 0, 'high': 0.46758371591567993},\n",
       " ('relu1', 939): {'low': 0, 'high': 0.591188371181488},\n",
       " ('relu1', 940): {'low': 0, 'high': 0.6642099618911743},\n",
       " ('relu1', 941): {'low': 0, 'high': 1.0365668535232544},\n",
       " ('relu1', 942): {'low': 0, 'high': 0.9387866258621216},\n",
       " ('relu1', 943): {'low': 0, 'high': 0.8808722496032715},\n",
       " ('relu1', 944): {'low': 0, 'high': 1.0479435920715332},\n",
       " ('relu1', 945): {'low': 0, 'high': 0.9829177856445312},\n",
       " ('relu1', 946): {'low': 0, 'high': 1.071381688117981},\n",
       " ('relu1', 947): {'low': 0, 'high': 1.0007436275482178},\n",
       " ('relu1', 948): {'low': 0, 'high': 1.048513412475586},\n",
       " ('relu1', 949): {'low': 0, 'high': 0.9098819494247437},\n",
       " ('relu1', 950): {'low': 0, 'high': 0.8519864082336426},\n",
       " ('relu1', 951): {'low': 0, 'high': 0.9046441316604614},\n",
       " ('relu1', 952): {'low': 0, 'high': 0.8540534973144531},\n",
       " ('relu1', 953): {'low': 0, 'high': 0.9265850782394409},\n",
       " ('relu1', 954): {'low': 0, 'high': 0.9221925735473633},\n",
       " ('relu1', 955): {'low': 0, 'high': 0.822257399559021},\n",
       " ('relu1', 956): {'low': 0, 'high': 0.886674165725708},\n",
       " ('relu1', 957): {'low': 0, 'high': 0.8225458264350891},\n",
       " ('relu1', 958): {'low': 0, 'high': 0.8179146647453308},\n",
       " ('relu1', 959): {'low': 0, 'high': 0.7776293754577637},\n",
       " ('relu1', 960): {'low': 0, 'high': 0.22607846558094025},\n",
       " ('relu1', 961): {'low': 0, 'high': 0.26249849796295166},\n",
       " ('relu1', 962): {'low': 0, 'high': 0.32896244525909424},\n",
       " ('relu1', 963): {'low': 0, 'high': 0.5420045852661133},\n",
       " ('relu1', 964): {'low': 0, 'high': 0.6864428520202637},\n",
       " ('relu1', 965): {'low': 0, 'high': 0.8578477501869202},\n",
       " ('relu1', 966): {'low': 0, 'high': 1.0497726202011108},\n",
       " ('relu1', 967): {'low': 0, 'high': 0.9467222690582275},\n",
       " ('relu1', 968): {'low': 0, 'high': 1.0468884706497192},\n",
       " ('relu1', 969): {'low': 0, 'high': 0.9942129850387573},\n",
       " ('relu1', 970): {'low': 0, 'high': 1.0161786079406738},\n",
       " ('relu1', 971): {'low': 0, 'high': 1.0129101276397705},\n",
       " ('relu1', 972): {'low': 0, 'high': 1.0582093000411987},\n",
       " ('relu1', 973): {'low': 0, 'high': 1.031683325767517},\n",
       " ('relu1', 974): {'low': 0, 'high': 0.9454686641693115},\n",
       " ('relu1', 975): {'low': 0, 'high': 1.0041618347167969},\n",
       " ('relu1', 976): {'low': 0, 'high': 0.8990397453308105},\n",
       " ('relu1', 977): {'low': 0, 'high': 0.8895716667175293},\n",
       " ('relu1', 978): {'low': 0, 'high': 0.9549015760421753},\n",
       " ('relu1', 979): {'low': 0, 'high': 0.8495920896530151},\n",
       " ('relu1', 980): {'low': 0, 'high': 0.819694459438324},\n",
       " ('relu1', 981): {'low': 0, 'high': 0.9408024549484253},\n",
       " ('relu1', 982): {'low': 0, 'high': 0.8163599967956543},\n",
       " ('relu1', 983): {'low': 0, 'high': 0.767859935760498},\n",
       " ('relu1', 984): {'low': 0, 'high': 0.22902177274227142},\n",
       " ('relu1', 985): {'low': 0, 'high': 0.29086607694625854},\n",
       " ('relu1', 986): {'low': 0, 'high': 0.5479562878608704},\n",
       " ('relu1', 987): {'low': 0, 'high': 0.5293853878974915},\n",
       " ('relu1', 988): {'low': 0, 'high': 0.5703868269920349},\n",
       " ('relu1', 989): {'low': 0, 'high': 0.8057213425636292},\n",
       " ('relu1', 990): {'low': 0, 'high': 0.8428279161453247},\n",
       " ('relu1', 991): {'low': 0, 'high': 0.8912898302078247},\n",
       " ('relu1', 992): {'low': 0, 'high': 0.8987536430358887},\n",
       " ('relu1', 993): {'low': 0, 'high': 0.8753930330276489},\n",
       " ('relu1', 994): {'low': 0, 'high': 0.8911855220794678},\n",
       " ('relu1', 995): {'low': 0, 'high': 1.0339263677597046},\n",
       " ('relu1', 996): {'low': 0, 'high': 1.0223705768585205},\n",
       " ('relu1', 997): {'low': 0, 'high': 1.0810961723327637},\n",
       " ('relu1', 998): {'low': 0, 'high': 0.9842616319656372},\n",
       " ('relu1', 999): {'low': 0, 'high': 0.9129990339279175},\n",
       " ...}"
      ]
     },
     "execution_count": 9,
     "metadata": {},
     "output_type": "execute_result"
    }
   ],
   "source": [
    "# # move this to cpu because the GPU RAM probably isn't large enough to handle it \n",
    "# device = torch.device(\"cpu\")\n",
    "# model.to(device)\n",
    "\n",
    "model.init_dict(model.lowhigh_dict, inputs, 'relu', {'low': 0, 'high': 0})\n",
    "model.hook_lowhigh_dict('relu')\n",
    "\n",
    "lohi_batch_size = int(len(train_loader.dataset) / 10)\n",
    "\n",
    "lowhigh_loader = torch.utils.data.DataLoader(\n",
    "    torchvision.datasets.MNIST('/data/', train=True, download=True,\n",
    "                             transform=torchvision.transforms.Compose([\n",
    "                               torchvision.transforms.ToTensor()\n",
    "                             ])),\n",
    "    batch_size=lohi_batch_size, shuffle=True, pin_memory=True)\n",
    "\n",
    "for i, (lohi_inputs, _) in enumerate(lowhigh_loader):\n",
    "    print('batch:', i)\n",
    "    lohi_inputs = lohi_inputs.to(device)\n",
    "    model(lohi_inputs)\n",
    "\n",
    "model.remove_hooks()\n",
    "\n",
    "# device = torch.device(\"cuda\")\n",
    "\n",
    "pickle.dump(model.lowhigh_dict, open( \"assets/lowhigh_dict.pickle\", \"wb\" ))"
   ]
  },
  {
   "cell_type": "code",
   "execution_count": 5,
   "metadata": {},
   "outputs": [],
   "source": [
    "# load the results from file\n",
    "with open('assets/lowhigh_dict.pickle', 'rb') as handle:\n",
    "    model.lowhigh_dict = pickle.load(handle)"
   ]
  },
  {
   "cell_type": "code",
   "execution_count": 6,
   "metadata": {
    "collapsed": true
   },
   "outputs": [
    {
     "data": {
      "text/plain": [
       "{('relu3', 0): {'low': 0, 'high': 4.8202948570251465},\n",
       " ('relu3', 1): {'low': 0, 'high': 4.82769775390625},\n",
       " ('relu3', 2): {'low': 0, 'high': 7.479001522064209},\n",
       " ('relu3', 3): {'low': 0, 'high': 8.612505912780762},\n",
       " ('relu3', 4): {'low': 0, 'high': 5.791659355163574},\n",
       " ('relu3', 5): {'low': 0, 'high': 7.655079364776611},\n",
       " ('relu3', 6): {'low': 0, 'high': 6.207518100738525},\n",
       " ('relu3', 7): {'low': 0, 'high': 7.808154582977295},\n",
       " ('relu3', 8): {'low': 0, 'high': 8.590152740478516},\n",
       " ('relu3', 9): {'low': 0, 'high': 2.782480001449585},\n",
       " ('relu3', 10): {'low': 0, 'high': 1.412194848060608},\n",
       " ('relu3', 11): {'low': 0, 'high': 6.954821586608887},\n",
       " ('relu3', 12): {'low': 0, 'high': 4.98781681060791},\n",
       " ('relu3', 13): {'low': 0, 'high': 1.674249291419983},\n",
       " ('relu3', 14): {'low': 0, 'high': 3.0363736152648926},\n",
       " ('relu3', 15): {'low': 0, 'high': 5.852689743041992},\n",
       " ('relu3', 16): {'low': 0, 'high': 7.916790962219238},\n",
       " ('relu3', 17): {'low': 0, 'high': 6.889847755432129},\n",
       " ('relu3', 18): {'low': 0, 'high': 0.8192253112792969},\n",
       " ('relu3', 19): {'low': 0, 'high': 5.149355411529541},\n",
       " ('relu3', 20): {'low': 0, 'high': 0.6246976256370544},\n",
       " ('relu3', 21): {'low': 0, 'high': 4.688329219818115},\n",
       " ('relu3', 22): {'low': 0, 'high': 6.381141185760498},\n",
       " ('relu3', 23): {'low': 0, 'high': 8.001107215881348},\n",
       " ('relu3', 24): {'low': 0, 'high': 5.902990818023682},\n",
       " ('relu3', 25): {'low': 0, 'high': 5.481493949890137},\n",
       " ('relu3', 26): {'low': 0, 'high': 6.720200538635254},\n",
       " ('relu3', 27): {'low': 0, 'high': 4.798595428466797},\n",
       " ('relu3', 28): {'low': 0, 'high': 0.17337673902511597},\n",
       " ('relu3', 29): {'low': 0, 'high': 5.999781131744385},\n",
       " ('relu3', 30): {'low': 0, 'high': 0.826370894908905},\n",
       " ('relu3', 31): {'low': 0, 'high': 5.584317207336426},\n",
       " ('relu3', 32): {'low': 0, 'high': 6.20258903503418},\n",
       " ('relu3', 33): {'low': 0, 'high': 2.2723124027252197},\n",
       " ('relu3', 34): {'low': 0, 'high': 5.189802169799805},\n",
       " ('relu3', 35): {'low': 0, 'high': 4.200693130493164},\n",
       " ('relu3', 36): {'low': 0, 'high': 8.055429458618164},\n",
       " ('relu3', 37): {'low': 0, 'high': 5.752780914306641},\n",
       " ('relu3', 38): {'low': 0, 'high': 1.4648866653442383},\n",
       " ('relu3', 39): {'low': 0, 'high': 7.5534491539001465},\n",
       " ('relu3', 40): {'low': 0, 'high': 1.8018391132354736},\n",
       " ('relu3', 41): {'low': 0, 'high': 6.354946136474609},\n",
       " ('relu3', 42): {'low': 0, 'high': 3.076939582824707},\n",
       " ('relu3', 43): {'low': 0, 'high': 0.9965310096740723},\n",
       " ('relu3', 44): {'low': 0, 'high': 3.9309141635894775},\n",
       " ('relu3', 45): {'low': 0, 'high': 4.881558895111084},\n",
       " ('relu3', 46): {'low': 0, 'high': 5.304323673248291},\n",
       " ('relu3', 47): {'low': 0, 'high': 7.400557518005371},\n",
       " ('relu3', 48): {'low': 0, 'high': 9.175627708435059},\n",
       " ('relu3', 49): {'low': 0, 'high': 6.689208984375},\n",
       " ('relu3', 50): {'low': 0, 'high': 2.268501043319702},\n",
       " ('relu3', 51): {'low': 0, 'high': 3.1868736743927},\n",
       " ('relu3', 52): {'low': 0, 'high': 3.670513391494751},\n",
       " ('relu3', 53): {'low': 0, 'high': 6.990176677703857},\n",
       " ('relu3', 54): {'low': 0, 'high': 7.657175064086914},\n",
       " ('relu3', 55): {'low': 0, 'high': 8.413867950439453},\n",
       " ('relu3', 56): {'low': 0, 'high': 2.6320905685424805},\n",
       " ('relu3', 57): {'low': 0, 'high': 9.788021087646484},\n",
       " ('relu3', 58): {'low': 0, 'high': 5.057565689086914},\n",
       " ('relu3', 59): {'low': 0, 'high': 9.259221076965332},\n",
       " ('relu3', 60): {'low': 0, 'high': 6.346329212188721},\n",
       " ('relu3', 61): {'low': 0, 'high': 2.729264259338379},\n",
       " ('relu3', 62): {'low': 0, 'high': 5.685198783874512},\n",
       " ('relu3', 63): {'low': 0, 'high': 5.792302131652832},\n",
       " ('relu3', 64): {'low': 0, 'high': 6.953676700592041},\n",
       " ('relu3', 65): {'low': 0, 'high': 8.89526081085205},\n",
       " ('relu3', 66): {'low': 0, 'high': 4.626400947570801},\n",
       " ('relu3', 67): {'low': 0, 'high': 1.1898285150527954},\n",
       " ('relu3', 68): {'low': 0, 'high': 5.009040355682373},\n",
       " ('relu3', 69): {'low': 0, 'high': 6.892770767211914},\n",
       " ('relu3', 70): {'low': 0, 'high': 7.5799174308776855},\n",
       " ('relu3', 71): {'low': 0, 'high': 4.765880584716797},\n",
       " ('relu3', 72): {'low': 0, 'high': 5.574245452880859},\n",
       " ('relu3', 73): {'low': 0, 'high': 2.7716593742370605},\n",
       " ('relu3', 74): {'low': 0, 'high': 6.465710163116455},\n",
       " ('relu3', 75): {'low': 0, 'high': 1.8166654109954834},\n",
       " ('relu3', 76): {'low': 0, 'high': 5.420889377593994},\n",
       " ('relu3', 77): {'low': 0, 'high': 2.061023235321045},\n",
       " ('relu3', 78): {'low': 0, 'high': 5.42602014541626},\n",
       " ('relu3', 79): {'low': 0, 'high': 2.8024098873138428},\n",
       " ('relu3', 80): {'low': 0, 'high': 4.062473297119141},\n",
       " ('relu3', 81): {'low': 0, 'high': 9.553489685058594},\n",
       " ('relu3', 82): {'low': 0, 'high': 5.4337687492370605},\n",
       " ('relu3', 83): {'low': 0, 'high': 6.9462456703186035},\n",
       " ('relu3', 84): {'low': 0, 'high': 5.118257999420166},\n",
       " ('relu3', 85): {'low': 0, 'high': 7.512032985687256},\n",
       " ('relu3', 86): {'low': 0, 'high': 6.113744258880615},\n",
       " ('relu3', 87): {'low': 0, 'high': 1.6922355890274048},\n",
       " ('relu3', 88): {'low': 0, 'high': 5.647688388824463},\n",
       " ('relu3', 89): {'low': 0, 'high': 6.7378716468811035},\n",
       " ('relu3', 90): {'low': 0, 'high': 1.2444207668304443},\n",
       " ('relu3', 91): {'low': 0, 'high': 3.5040340423583984},\n",
       " ('relu3', 92): {'low': 0, 'high': 7.784087657928467},\n",
       " ('relu3', 93): {'low': 0, 'high': 5.067366600036621},\n",
       " ('relu3', 94): {'low': 0, 'high': 6.4287028312683105},\n",
       " ('relu3', 95): {'low': 0, 'high': 8.219877243041992},\n",
       " ('relu3', 96): {'low': 0, 'high': 6.820710182189941},\n",
       " ('relu3', 97): {'low': 0, 'high': 5.890621662139893},\n",
       " ('relu3', 98): {'low': 0, 'high': 2.278181314468384},\n",
       " ('relu3', 99): {'low': 0, 'high': 11.73814582824707},\n",
       " ('relu3', 100): {'low': 0, 'high': 5.325992584228516},\n",
       " ('relu3', 101): {'low': 0, 'high': 6.442244052886963},\n",
       " ('relu3', 102): {'low': 0, 'high': 4.01258659362793},\n",
       " ('relu3', 103): {'low': 0, 'high': 5.767242431640625},\n",
       " ('relu3', 104): {'low': 0, 'high': 7.035061359405518},\n",
       " ('relu3', 105): {'low': 0, 'high': 8.33729076385498},\n",
       " ('relu3', 106): {'low': 0, 'high': 8.414240837097168},\n",
       " ('relu3', 107): {'low': 0, 'high': 4.113000869750977},\n",
       " ('relu3', 108): {'low': 0, 'high': 5.842148303985596},\n",
       " ('relu3', 109): {'low': 0, 'high': 5.594593524932861},\n",
       " ('relu3', 110): {'low': 0, 'high': 4.602320671081543},\n",
       " ('relu3', 111): {'low': 0, 'high': 6.674018383026123},\n",
       " ('relu3', 112): {'low': 0, 'high': 6.900855541229248},\n",
       " ('relu3', 113): {'low': 0, 'high': 4.776859760284424},\n",
       " ('relu3', 114): {'low': 0, 'high': 5.740550518035889},\n",
       " ('relu3', 115): {'low': 0, 'high': 6.234462738037109},\n",
       " ('relu3', 116): {'low': 0, 'high': 6.79124641418457},\n",
       " ('relu3', 117): {'low': 0, 'high': 6.591015338897705},\n",
       " ('relu3', 118): {'low': 0, 'high': 7.299358367919922},\n",
       " ('relu3', 119): {'low': 0, 'high': 7.625275135040283},\n",
       " ('relu3', 120): {'low': 0, 'high': 7.947367191314697},\n",
       " ('relu3', 121): {'low': 0, 'high': 6.223679065704346},\n",
       " ('relu3', 122): {'low': 0, 'high': 4.063736915588379},\n",
       " ('relu3', 123): {'low': 0, 'high': 6.719940662384033},\n",
       " ('relu3', 124): {'low': 0, 'high': 6.809542655944824},\n",
       " ('relu3', 125): {'low': 0, 'high': 8.545015335083008},\n",
       " ('relu3', 126): {'low': 0, 'high': 7.333713054656982},\n",
       " ('relu3', 127): {'low': 0, 'high': 2.675818681716919},\n",
       " ('relu3', 128): {'low': 0, 'high': 0.835017204284668},\n",
       " ('relu3', 129): {'low': 0, 'high': 7.543835639953613},\n",
       " ('relu3', 130): {'low': 0, 'high': 7.9563775062561035},\n",
       " ('relu3', 131): {'low': 0, 'high': 4.115386962890625},\n",
       " ('relu3', 132): {'low': 0, 'high': 2.6876680850982666},\n",
       " ('relu3', 133): {'low': 0, 'high': 0.5315178632736206},\n",
       " ('relu3', 134): {'low': 0, 'high': 6.710243225097656},\n",
       " ('relu3', 135): {'low': 0, 'high': 3.5311598777770996},\n",
       " ('relu3', 136): {'low': 0, 'high': 1.0078271627426147},\n",
       " ('relu3', 137): {'low': 0, 'high': 8.712416648864746},\n",
       " ('relu3', 138): {'low': 0, 'high': 5.768335819244385},\n",
       " ('relu3', 139): {'low': 0, 'high': 5.996807098388672},\n",
       " ('relu3', 140): {'low': 0, 'high': 7.44927978515625},\n",
       " ('relu3', 141): {'low': 0, 'high': 4.761455059051514},\n",
       " ('relu3', 142): {'low': 0, 'high': 1.741295337677002},\n",
       " ('relu3', 143): {'low': 0, 'high': 0.6804289221763611},\n",
       " ('relu3', 144): {'low': 0, 'high': 9.022870063781738},\n",
       " ('relu3', 145): {'low': 0, 'high': 5.472017288208008},\n",
       " ('relu3', 146): {'low': 0, 'high': 3.6011130809783936},\n",
       " ('relu3', 147): {'low': 0, 'high': 7.047640800476074},\n",
       " ('relu3', 148): {'low': 0, 'high': 9.085662841796875},\n",
       " ('relu3', 149): {'low': 0, 'high': 6.498820781707764},\n",
       " ('relu3', 150): {'low': 0, 'high': 4.958250045776367},\n",
       " ('relu3', 151): {'low': 0, 'high': 4.2487311363220215},\n",
       " ('relu3', 152): {'low': 0, 'high': 5.784258842468262},\n",
       " ('relu3', 153): {'low': 0, 'high': 4.530851364135742},\n",
       " ('relu3', 154): {'low': 0, 'high': 2.9914751052856445},\n",
       " ('relu3', 155): {'low': 0, 'high': 8.530688285827637},\n",
       " ('relu3', 156): {'low': 0, 'high': 5.854931831359863},\n",
       " ('relu3', 157): {'low': 0, 'high': 6.481936931610107},\n",
       " ('relu3', 158): {'low': 0, 'high': 7.258641719818115},\n",
       " ('relu3', 159): {'low': 0, 'high': 6.69536018371582},\n",
       " ('relu3', 160): {'low': 0, 'high': 1.0270278453826904},\n",
       " ('relu3', 161): {'low': 0, 'high': 3.735461711883545},\n",
       " ('relu3', 162): {'low': 0, 'high': 8.923236846923828},\n",
       " ('relu3', 163): {'low': 0, 'high': 2.57143235206604},\n",
       " ('relu3', 164): {'low': 0, 'high': 6.680453300476074},\n",
       " ('relu3', 165): {'low': 0, 'high': 3.902742385864258},\n",
       " ('relu3', 166): {'low': 0, 'high': 5.81343412399292},\n",
       " ('relu3', 167): {'low': 0, 'high': 5.598642349243164},\n",
       " ('relu3', 168): {'low': 0, 'high': 5.1952223777771},\n",
       " ('relu3', 169): {'low': 0, 'high': 7.804375171661377},\n",
       " ('relu3', 170): {'low': 0, 'high': 6.830931186676025},\n",
       " ('relu3', 171): {'low': 0, 'high': 6.800831317901611},\n",
       " ('relu3', 172): {'low': 0, 'high': 8.198979377746582},\n",
       " ('relu3', 173): {'low': 0, 'high': 1.9675869941711426},\n",
       " ('relu3', 174): {'low': 0, 'high': 2.886059045791626},\n",
       " ('relu3', 175): {'low': 0, 'high': 7.209123611450195},\n",
       " ('relu3', 176): {'low': 0, 'high': 8.658965110778809},\n",
       " ('relu3', 177): {'low': 0, 'high': 12.273600578308105},\n",
       " ('relu3', 178): {'low': 0, 'high': 0.3820708394050598},\n",
       " ('relu3', 179): {'low': 0, 'high': 0.7479444742202759},\n",
       " ('relu3', 180): {'low': 0, 'high': 6.371906280517578},\n",
       " ('relu3', 181): {'low': 0, 'high': 0.45324191451072693},\n",
       " ('relu3', 182): {'low': 0, 'high': 8.024322509765625},\n",
       " ('relu3', 183): {'low': 0, 'high': 5.556027412414551},\n",
       " ('relu3', 184): {'low': 0, 'high': 6.769641876220703},\n",
       " ('relu3', 185): {'low': 0, 'high': 8.636658668518066},\n",
       " ('relu3', 186): {'low': 0, 'high': 3.700786590576172},\n",
       " ('relu3', 187): {'low': 0, 'high': 0.28618067502975464},\n",
       " ('relu3', 188): {'low': 0, 'high': 5.153282642364502},\n",
       " ('relu3', 189): {'low': 0, 'high': 5.567305088043213},\n",
       " ('relu3', 190): {'low': 0, 'high': 4.045504570007324},\n",
       " ('relu3', 191): {'low': 0, 'high': 4.3058319091796875},\n",
       " ('relu3', 192): {'low': 0, 'high': 4.998641014099121},\n",
       " ('relu3', 193): {'low': 0, 'high': 7.369714736938477},\n",
       " ('relu3', 194): {'low': 0, 'high': 3.497826337814331},\n",
       " ('relu3', 195): {'low': 0, 'high': 5.303805828094482},\n",
       " ('relu3', 196): {'low': 0, 'high': 2.958214282989502},\n",
       " ('relu3', 197): {'low': 0, 'high': 1.605614423751831},\n",
       " ('relu3', 198): {'low': 0, 'high': 0.21213163435459137},\n",
       " ('relu3', 199): {'low': 0, 'high': 7.016880989074707},\n",
       " ('relu3', 200): {'low': 0, 'high': 4.3104634284973145},\n",
       " ('relu3', 201): {'low': 0, 'high': 8.452600479125977},\n",
       " ('relu3', 202): {'low': 0, 'high': 7.339416027069092},\n",
       " ('relu3', 203): {'low': 0, 'high': 8.145713806152344},\n",
       " ('relu3', 204): {'low': 0, 'high': 5.290963649749756},\n",
       " ('relu3', 205): {'low': 0, 'high': 7.218948841094971},\n",
       " ('relu3', 206): {'low': 0, 'high': 5.024571418762207},\n",
       " ('relu3', 207): {'low': 0, 'high': 5.007291316986084},\n",
       " ('relu3', 208): {'low': 0, 'high': 3.1197257041931152},\n",
       " ('relu3', 209): {'low': 0, 'high': 8.115939140319824},\n",
       " ('relu3', 210): {'low': 0, 'high': 7.6767354011535645},\n",
       " ('relu3', 211): {'low': 0, 'high': 2.546851634979248},\n",
       " ('relu3', 212): {'low': 0, 'high': 9.407625198364258},\n",
       " ('relu3', 213): {'low': 0, 'high': 5.095865249633789},\n",
       " ('relu3', 214): {'low': 0, 'high': 1.7893871068954468},\n",
       " ('relu3', 215): {'low': 0, 'high': 6.261379718780518},\n",
       " ('relu3', 216): {'low': 0, 'high': 3.439375162124634},\n",
       " ('relu3', 217): {'low': 0, 'high': 1.9304815530776978},\n",
       " ('relu3', 218): {'low': 0, 'high': 6.761754035949707},\n",
       " ('relu3', 219): {'low': 0, 'high': 5.42936897277832},\n",
       " ('relu3', 220): {'low': 0, 'high': 2.6345458030700684},\n",
       " ('relu3', 221): {'low': 0, 'high': 3.789412498474121},\n",
       " ('relu3', 222): {'low': 0, 'high': 7.4285736083984375},\n",
       " ('relu3', 223): {'low': 0, 'high': 6.163934707641602},\n",
       " ('relu3', 224): {'low': 0, 'high': 7.227585315704346},\n",
       " ('relu3', 225): {'low': 0, 'high': 7.439586162567139},\n",
       " ('relu3', 226): {'low': 0, 'high': 6.558775424957275},\n",
       " ('relu3', 227): {'low': 0, 'high': 10.353597640991211},\n",
       " ('relu3', 228): {'low': 0, 'high': 7.589508533477783},\n",
       " ('relu3', 229): {'low': 0, 'high': 7.528840065002441},\n",
       " ('relu3', 230): {'low': 0, 'high': 3.9156999588012695},\n",
       " ('relu3', 231): {'low': 0, 'high': 1.342515468597412},\n",
       " ('relu3', 232): {'low': 0, 'high': 6.042656421661377},\n",
       " ('relu3', 233): {'low': 0, 'high': 8.192268371582031},\n",
       " ('relu3', 234): {'low': 0, 'high': 3.1274664402008057},\n",
       " ('relu3', 235): {'low': 0, 'high': 1.8370623588562012},\n",
       " ('relu3', 236): {'low': 0, 'high': 1.4220679998397827},\n",
       " ('relu3', 237): {'low': 0, 'high': 2.973374605178833},\n",
       " ('relu3', 238): {'low': 0, 'high': 9.905278205871582},\n",
       " ('relu3', 239): {'low': 0, 'high': 5.889899730682373},\n",
       " ('relu3', 240): {'low': 0, 'high': 4.917454719543457},\n",
       " ('relu3', 241): {'low': 0, 'high': 2.5907421112060547},\n",
       " ('relu3', 242): {'low': 0, 'high': 10.052624702453613},\n",
       " ('relu3', 243): {'low': 0, 'high': 4.456780910491943},\n",
       " ('relu3', 244): {'low': 0, 'high': 0.7106539011001587},\n",
       " ('relu3', 245): {'low': 0, 'high': 2.0360474586486816},\n",
       " ('relu3', 246): {'low': 0, 'high': 6.728436470031738},\n",
       " ('relu3', 247): {'low': 0, 'high': 4.34108829498291},\n",
       " ('relu3', 248): {'low': 0, 'high': 7.7989959716796875},\n",
       " ('relu3', 249): {'low': 0, 'high': 5.2858991622924805},\n",
       " ('relu3', 250): {'low': 0, 'high': 0.7365855574607849},\n",
       " ('relu3', 251): {'low': 0, 'high': 6.51072359085083},\n",
       " ('relu3', 252): {'low': 0, 'high': 3.3236818313598633},\n",
       " ('relu3', 253): {'low': 0, 'high': 1.0937764644622803},\n",
       " ('relu3', 254): {'low': 0, 'high': 4.713534355163574},\n",
       " ('relu3', 255): {'low': 0, 'high': 5.882896900177002},\n",
       " ('relu3', 256): {'low': 0, 'high': 4.92142391204834},\n",
       " ('relu3', 257): {'low': 0, 'high': 0.8140370845794678},\n",
       " ('relu3', 258): {'low': 0, 'high': 5.942315578460693},\n",
       " ('relu3', 259): {'low': 0, 'high': 1.1689908504486084},\n",
       " ('relu3', 260): {'low': 0, 'high': 8.407094955444336},\n",
       " ('relu3', 261): {'low': 0, 'high': 6.294153213500977},\n",
       " ('relu3', 262): {'low': 0, 'high': 6.7089738845825195},\n",
       " ('relu3', 263): {'low': 0, 'high': 7.599745273590088},\n",
       " ('relu3', 264): {'low': 0, 'high': 6.275145530700684},\n",
       " ('relu3', 265): {'low': 0, 'high': 11.634625434875488},\n",
       " ('relu3', 266): {'low': 0, 'high': 5.0690107345581055},\n",
       " ('relu3', 267): {'low': 0, 'high': 5.743819236755371},\n",
       " ('relu3', 268): {'low': 0, 'high': 3.534132957458496},\n",
       " ('relu3', 269): {'low': 0, 'high': 4.820971965789795},\n",
       " ('relu3', 270): {'low': 0, 'high': 7.864339351654053},\n",
       " ('relu3', 271): {'low': 0, 'high': 3.7125370502471924},\n",
       " ('relu3', 272): {'low': 0, 'high': 0.037329234182834625},\n",
       " ('relu3', 273): {'low': 0, 'high': 4.107566833496094},\n",
       " ('relu3', 274): {'low': 0, 'high': 9.517370223999023},\n",
       " ('relu3', 275): {'low': 0, 'high': 6.855419158935547},\n",
       " ('relu3', 276): {'low': 0, 'high': 4.372385025024414},\n",
       " ('relu3', 277): {'low': 0, 'high': 6.8252410888671875},\n",
       " ('relu3', 278): {'low': 0, 'high': 6.475181579589844},\n",
       " ('relu3', 279): {'low': 0, 'high': 3.7080187797546387},\n",
       " ('relu3', 280): {'low': 0, 'high': 9.855560302734375},\n",
       " ('relu3', 281): {'low': 0, 'high': 1.8984719514846802},\n",
       " ('relu3', 282): {'low': 0, 'high': 8.494546890258789},\n",
       " ('relu3', 283): {'low': 0, 'high': 4.945785045623779},\n",
       " ('relu3', 284): {'low': 0, 'high': 1.0613681077957153},\n",
       " ('relu3', 285): {'low': 0, 'high': 5.916259288787842},\n",
       " ('relu3', 286): {'low': 0, 'high': 6.77937126159668},\n",
       " ('relu3', 287): {'low': 0, 'high': 7.762135028839111},\n",
       " ('relu3', 288): {'low': 0, 'high': 7.594749450683594},\n",
       " ('relu3', 289): {'low': 0, 'high': 9.065921783447266},\n",
       " ('relu3', 290): {'low': 0, 'high': 2.7325284481048584},\n",
       " ('relu3', 291): {'low': 0, 'high': 10.18233871459961},\n",
       " ('relu3', 292): {'low': 0, 'high': 9.31104850769043},\n",
       " ('relu3', 293): {'low': 0, 'high': 9.965493202209473},\n",
       " ('relu3', 294): {'low': 0, 'high': 7.960202693939209},\n",
       " ('relu3', 295): {'low': 0, 'high': 6.8326592445373535},\n",
       " ('relu3', 296): {'low': 0, 'high': 5.823543548583984},\n",
       " ('relu3', 297): {'low': 0, 'high': 6.420180320739746},\n",
       " ('relu3', 298): {'low': 0, 'high': 4.904729843139648},\n",
       " ('relu3', 299): {'low': 0, 'high': 0.44849279522895813},\n",
       " ('relu3', 300): {'low': 0, 'high': 5.66046142578125},\n",
       " ('relu3', 301): {'low': 0, 'high': 7.148943901062012},\n",
       " ('relu3', 302): {'low': 0, 'high': 7.443204402923584},\n",
       " ('relu3', 303): {'low': 0, 'high': 5.494894981384277},\n",
       " ('relu3', 304): {'low': 0, 'high': 7.223061561584473},\n",
       " ('relu3', 305): {'low': 0, 'high': 7.8031392097473145},\n",
       " ('relu3', 306): {'low': 0, 'high': 4.165655612945557},\n",
       " ('relu3', 307): {'low': 0, 'high': 6.266841888427734},\n",
       " ('relu3', 308): {'low': 0, 'high': 1.1241883039474487},\n",
       " ('relu3', 309): {'low': 0, 'high': 8.543865203857422},\n",
       " ('relu3', 310): {'low': 0, 'high': 0.6570767164230347},\n",
       " ('relu3', 311): {'low': 0, 'high': 1.7572160959243774},\n",
       " ('relu3', 312): {'low': 0, 'high': 6.725376605987549},\n",
       " ('relu3', 313): {'low': 0, 'high': 6.640658855438232},\n",
       " ('relu3', 314): {'low': 0, 'high': 6.272150993347168},\n",
       " ('relu3', 315): {'low': 0, 'high': 6.959850788116455},\n",
       " ('relu3', 316): {'low': 0, 'high': 9.094881057739258},\n",
       " ('relu3', 317): {'low': 0, 'high': 1.3358243703842163},\n",
       " ('relu3', 318): {'low': 0, 'high': 6.343165397644043},\n",
       " ('relu3', 319): {'low': 0, 'high': 4.624046802520752},\n",
       " ('relu3', 320): {'low': 0, 'high': 2.8291704654693604},\n",
       " ('relu3', 321): {'low': 0, 'high': 6.450502395629883},\n",
       " ('relu3', 322): {'low': 0, 'high': 6.838186264038086},\n",
       " ('relu3', 323): {'low': 0, 'high': 4.16265344619751},\n",
       " ('relu3', 324): {'low': 0, 'high': 6.685990810394287},\n",
       " ('relu3', 325): {'low': 0, 'high': 1.0781234502792358},\n",
       " ('relu3', 326): {'low': 0, 'high': 6.497318267822266},\n",
       " ('relu3', 327): {'low': 0, 'high': 5.529093265533447},\n",
       " ('relu3', 328): {'low': 0, 'high': 7.789370536804199},\n",
       " ('relu3', 329): {'low': 0, 'high': 6.554725170135498},\n",
       " ('relu3', 330): {'low': 0, 'high': 4.122840881347656},\n",
       " ('relu3', 331): {'low': 0, 'high': 3.705549478530884},\n",
       " ('relu3', 332): {'low': 0, 'high': 4.277320384979248},\n",
       " ('relu3', 333): {'low': 0, 'high': 8.210345268249512},\n",
       " ('relu3', 334): {'low': 0, 'high': 7.26961612701416},\n",
       " ('relu3', 335): {'low': 0, 'high': 4.1240339279174805},\n",
       " ('relu3', 336): {'low': 0, 'high': 0.4275113344192505},\n",
       " ('relu3', 337): {'low': 0, 'high': 4.069740295410156},\n",
       " ('relu3', 338): {'low': 0, 'high': 2.337761163711548},\n",
       " ('relu3', 339): {'low': 0, 'high': 0.648270308971405},\n",
       " ('relu3', 340): {'low': 0, 'high': 5.957059383392334},\n",
       " ('relu3', 341): {'low': 0, 'high': 5.111119747161865},\n",
       " ('relu3', 342): {'low': 0, 'high': 6.119758605957031},\n",
       " ('relu3', 343): {'low': 0, 'high': 0.7723863124847412},\n",
       " ('relu3', 344): {'low': 0, 'high': 4.060458183288574},\n",
       " ('relu3', 345): {'low': 0, 'high': 9.318777084350586},\n",
       " ('relu3', 346): {'low': 0, 'high': 4.351437091827393},\n",
       " ('relu3', 347): {'low': 0, 'high': 6.6720499992370605},\n",
       " ('relu3', 348): {'low': 0, 'high': 7.640919208526611},\n",
       " ('relu3', 349): {'low': 0, 'high': 10.642622947692871},\n",
       " ('relu3', 350): {'low': 0, 'high': 7.736965179443359},\n",
       " ('relu3', 351): {'low': 0, 'high': 6.2758073806762695},\n",
       " ('relu3', 352): {'low': 0, 'high': 1.5103886127471924},\n",
       " ('relu3', 353): {'low': 0, 'high': 9.85910415649414},\n",
       " ('relu3', 354): {'low': 0, 'high': 1.5387729406356812},\n",
       " ('relu3', 355): {'low': 0, 'high': 3.064728021621704},\n",
       " ('relu3', 356): {'low': 0, 'high': 5.739762783050537},\n",
       " ('relu3', 357): {'low': 0, 'high': 3.984877586364746},\n",
       " ('relu3', 358): {'low': 0, 'high': 4.44472599029541},\n",
       " ('relu3', 359): {'low': 0, 'high': 4.25834321975708},\n",
       " ('relu3', 360): {'low': 0, 'high': 2.8127830028533936},\n",
       " ('relu3', 361): {'low': 0, 'high': 9.636296272277832},\n",
       " ('relu3', 362): {'low': 0, 'high': 6.854611396789551},\n",
       " ('relu3', 363): {'low': 0, 'high': 0.9387804269790649},\n",
       " ('relu3', 364): {'low': 0, 'high': 9.30160903930664},\n",
       " ('relu3', 365): {'low': 0, 'high': 5.7025465965271},\n",
       " ('relu3', 366): {'low': 0, 'high': 7.587735176086426},\n",
       " ('relu3', 367): {'low': 0, 'high': 6.410717487335205},\n",
       " ('relu3', 368): {'low': 0, 'high': 5.826951026916504},\n",
       " ('relu3', 369): {'low': 0, 'high': 5.64402437210083},\n",
       " ('relu3', 370): {'low': 0, 'high': 1.0423938035964966},\n",
       " ('relu3', 371): {'low': 0, 'high': 5.071308612823486},\n",
       " ('relu3', 372): {'low': 0, 'high': 5.8791608810424805},\n",
       " ('relu3', 373): {'low': 0, 'high': 1.5601445436477661},\n",
       " ('relu3', 374): {'low': 0, 'high': 6.122104644775391},\n",
       " ('relu3', 375): {'low': 0, 'high': 0.4838716387748718},\n",
       " ('relu3', 376): {'low': 0, 'high': 5.381662845611572},\n",
       " ('relu3', 377): {'low': 0, 'high': 5.731611251831055},\n",
       " ('relu3', 378): {'low': 0, 'high': 1.6912603378295898},\n",
       " ('relu3', 379): {'low': 0, 'high': 1.9056843519210815},\n",
       " ('relu3', 380): {'low': 0, 'high': 6.468349456787109},\n",
       " ('relu3', 381): {'low': 0, 'high': 5.3413896560668945},\n",
       " ('relu3', 382): {'low': 0, 'high': 6.116115093231201},\n",
       " ('relu3', 383): {'low': 0, 'high': 6.99819803237915},\n",
       " ('relu3', 384): {'low': 0, 'high': 4.832079887390137},\n",
       " ('relu3', 385): {'low': 0, 'high': 1.4101976156234741},\n",
       " ('relu3', 386): {'low': 0, 'high': 5.43668794631958},\n",
       " ('relu3', 387): {'low': 0, 'high': 5.143397808074951},\n",
       " ('relu3', 388): {'low': 0, 'high': 4.4252705574035645},\n",
       " ('relu3', 389): {'low': 0, 'high': 0.6783692836761475},\n",
       " ('relu3', 390): {'low': 0, 'high': 6.754941463470459},\n",
       " ('relu3', 391): {'low': 0, 'high': 6.70634126663208},\n",
       " ('relu3', 392): {'low': 0, 'high': 3.345355987548828},\n",
       " ('relu3', 393): {'low': 0, 'high': 7.311302661895752},\n",
       " ('relu3', 394): {'low': 0, 'high': 7.21885347366333},\n",
       " ('relu3', 395): {'low': 0, 'high': 3.700990676879883},\n",
       " ('relu3', 396): {'low': 0, 'high': 2.4009902477264404},\n",
       " ('relu3', 397): {'low': 0, 'high': 5.936246871948242},\n",
       " ('relu3', 398): {'low': 0, 'high': 7.569634914398193},\n",
       " ('relu3', 399): {'low': 0, 'high': 5.758124828338623},\n",
       " ('relu3', 400): {'low': 0, 'high': 2.8526828289031982},\n",
       " ('relu3', 401): {'low': 0, 'high': 6.372097969055176},\n",
       " ('relu3', 402): {'low': 0, 'high': 5.857054710388184},\n",
       " ('relu3', 403): {'low': 0, 'high': 5.946267604827881},\n",
       " ('relu3', 404): {'low': 0, 'high': 7.047427654266357},\n",
       " ('relu3', 405): {'low': 0, 'high': 1.4989464282989502},\n",
       " ('relu3', 406): {'low': 0, 'high': 3.651123046875},\n",
       " ('relu3', 407): {'low': 0, 'high': 4.576488018035889},\n",
       " ('relu3', 408): {'low': 0, 'high': 5.9943461418151855},\n",
       " ('relu3', 409): {'low': 0, 'high': 8.0556640625},\n",
       " ('relu3', 410): {'low': 0, 'high': 0.9694639444351196},\n",
       " ('relu3', 411): {'low': 0, 'high': 7.661484241485596},\n",
       " ('relu3', 412): {'low': 0, 'high': 7.447083950042725},\n",
       " ('relu3', 413): {'low': 0, 'high': 4.31064510345459},\n",
       " ('relu3', 414): {'low': 0, 'high': 2.9361042976379395},\n",
       " ('relu3', 415): {'low': 0, 'high': 6.666226863861084},\n",
       " ('relu3', 416): {'low': 0, 'high': 5.272861003875732},\n",
       " ('relu3', 417): {'low': 0, 'high': 3.7185163497924805},\n",
       " ('relu3', 418): {'low': 0, 'high': 5.6151628494262695},\n",
       " ('relu3', 419): {'low': 0, 'high': 0.32907038927078247},\n",
       " ('relu3', 420): {'low': 0, 'high': 5.496121883392334},\n",
       " ('relu3', 421): {'low': 0, 'high': 6.19443941116333},\n",
       " ('relu3', 422): {'low': 0, 'high': 5.498208045959473},\n",
       " ('relu3', 423): {'low': 0, 'high': 4.396003723144531},\n",
       " ('relu3', 424): {'low': 0, 'high': 1.576669454574585},\n",
       " ('relu3', 425): {'low': 0, 'high': 5.540146350860596},\n",
       " ('relu3', 426): {'low': 0, 'high': 6.72452449798584},\n",
       " ('relu3', 427): {'low': 0, 'high': 7.057279109954834},\n",
       " ('relu3', 428): {'low': 0, 'high': 4.04962158203125},\n",
       " ('relu3', 429): {'low': 0, 'high': 6.660159111022949},\n",
       " ('relu3', 430): {'low': 0, 'high': 5.498751163482666},\n",
       " ('relu3', 431): {'low': 0, 'high': 7.731846332550049},\n",
       " ('relu3', 432): {'low': 0, 'high': 0.7009252905845642},\n",
       " ('relu3', 433): {'low': 0, 'high': 7.235008239746094},\n",
       " ('relu3', 434): {'low': 0, 'high': 8.901982307434082},\n",
       " ('relu3', 435): {'low': 0, 'high': 6.791974067687988},\n",
       " ('relu3', 436): {'low': 0, 'high': 7.022230625152588},\n",
       " ('relu3', 437): {'low': 0, 'high': 3.5528571605682373},\n",
       " ('relu3', 438): {'low': 0, 'high': 1.9409053325653076},\n",
       " ('relu3', 439): {'low': 0, 'high': 6.225858211517334},\n",
       " ('relu3', 440): {'low': 0, 'high': 3.087736129760742},\n",
       " ('relu3', 441): {'low': 0, 'high': 7.132688999176025},\n",
       " ('relu3', 442): {'low': 0, 'high': 4.068810939788818},\n",
       " ('relu3', 443): {'low': 0, 'high': 1.5440500974655151},\n",
       " ('relu3', 444): {'low': 0, 'high': 3.4931070804595947},\n",
       " ('relu3', 445): {'low': 0, 'high': 6.206608295440674},\n",
       " ('relu3', 446): {'low': 0, 'high': 5.29719352722168},\n",
       " ('relu3', 447): {'low': 0, 'high': 3.8559000492095947},\n",
       " ('relu3', 448): {'low': 0, 'high': 7.614040851593018},\n",
       " ('relu3', 449): {'low': 0, 'high': 9.257740020751953},\n",
       " ('relu3', 450): {'low': 0, 'high': 5.898889064788818},\n",
       " ('relu3', 451): {'low': 0, 'high': 4.697576999664307},\n",
       " ('relu3', 452): {'low': 0, 'high': 5.756952285766602},\n",
       " ('relu3', 453): {'low': 0, 'high': 4.026095390319824},\n",
       " ('relu3', 454): {'low': 0, 'high': 6.902808666229248},\n",
       " ('relu3', 455): {'low': 0, 'high': 9.15677261352539},\n",
       " ('relu3', 456): {'low': 0, 'high': 2.8334550857543945},\n",
       " ('relu3', 457): {'low': 0, 'high': 7.890507698059082},\n",
       " ('relu3', 458): {'low': 0, 'high': 3.1652915477752686},\n",
       " ('relu3', 459): {'low': 0, 'high': 9.437559127807617},\n",
       " ('relu3', 460): {'low': 0, 'high': 5.412247657775879},\n",
       " ('relu3', 461): {'low': 0, 'high': 12.26571273803711},\n",
       " ('relu3', 462): {'low': 0, 'high': 6.938881874084473},\n",
       " ('relu3', 463): {'low': 0, 'high': 7.702974319458008},\n",
       " ('relu3', 464): {'low': 0, 'high': 8.68763542175293},\n",
       " ('relu3', 465): {'low': 0, 'high': 5.890586853027344},\n",
       " ('relu3', 466): {'low': 0, 'high': 5.583776950836182},\n",
       " ('relu3', 467): {'low': 0, 'high': 2.379850387573242},\n",
       " ('relu3', 468): {'low': 0, 'high': 7.322230815887451},\n",
       " ('relu3', 469): {'low': 0, 'high': 7.300591468811035},\n",
       " ('relu3', 470): {'low': 0, 'high': 4.324930191040039},\n",
       " ('relu3', 471): {'low': 0, 'high': 0.6434086561203003},\n",
       " ('relu3', 472): {'low': 0, 'high': 6.390036582946777},\n",
       " ('relu3', 473): {'low': 0, 'high': 11.487407684326172},\n",
       " ('relu3', 474): {'low': 0, 'high': 4.7662353515625},\n",
       " ('relu3', 475): {'low': 0, 'high': 3.5389039516448975},\n",
       " ('relu3', 476): {'low': 0, 'high': 2.473515510559082},\n",
       " ('relu3', 477): {'low': 0, 'high': 9.203343391418457},\n",
       " ('relu3', 478): {'low': 0, 'high': 6.4867048263549805},\n",
       " ('relu3', 479): {'low': 0, 'high': 8.890508651733398},\n",
       " ('relu3', 480): {'low': 0, 'high': 3.357492685317993},\n",
       " ('relu3', 481): {'low': 0, 'high': 7.654012680053711},\n",
       " ('relu3', 482): {'low': 0, 'high': 5.920422554016113},\n",
       " ('relu3', 483): {'low': 0, 'high': 1.3020621538162231},\n",
       " ('relu3', 484): {'low': 0, 'high': 5.0874128341674805},\n",
       " ('relu3', 485): {'low': 0, 'high': 5.274878978729248},\n",
       " ('relu3', 486): {'low': 0, 'high': 1.5782827138900757},\n",
       " ('relu3', 487): {'low': 0, 'high': 5.6482625007629395},\n",
       " ('relu3', 488): {'low': 0, 'high': 10.059588432312012},\n",
       " ('relu3', 489): {'low': 0, 'high': 2.623337984085083},\n",
       " ('relu3', 490): {'low': 0, 'high': 4.158430576324463},\n",
       " ('relu3', 491): {'low': 0, 'high': 6.821915149688721},\n",
       " ('relu3', 492): {'low': 0, 'high': 6.171563148498535},\n",
       " ('relu3', 493): {'low': 0, 'high': 3.1596662998199463},\n",
       " ('relu3', 494): {'low': 0, 'high': 8.707857131958008},\n",
       " ('relu3', 495): {'low': 0, 'high': 4.403263568878174},\n",
       " ('relu3', 496): {'low': 0, 'high': 6.314763069152832},\n",
       " ('relu3', 497): {'low': 0, 'high': 6.066092014312744},\n",
       " ('relu3', 498): {'low': 0, 'high': 10.907238006591797},\n",
       " ('relu3', 499): {'low': 0, 'high': 6.843489646911621}}"
      ]
     },
     "execution_count": 6,
     "metadata": {},
     "output_type": "execute_result"
    }
   ],
   "source": [
    "get_dict_for_layer(model.lowhigh_dict, 'relu3')"
   ]
  },
  {
   "cell_type": "markdown",
   "metadata": {},
   "source": [
    "# Inception Scoring"
   ]
  },
  {
   "cell_type": "code",
   "execution_count": 46,
   "metadata": {},
   "outputs": [],
   "source": [
    "# load the results from file\n",
    "import pickle\n",
    "with open('assets/backups/cw_advs.pickle', 'rb') as handle:\n",
    "    cw_advs = pickle.load(handle)"
   ]
  },
  {
   "cell_type": "code",
   "execution_count": 5,
   "metadata": {},
   "outputs": [],
   "source": [
    "from inception_score import *\n",
    "# %load_ext autoreload\n",
    "# %autoreload 2"
   ]
  },
  {
   "cell_type": "code",
   "execution_count": 6,
   "metadata": {},
   "outputs": [],
   "source": [
    "def preprocess_for_is2(imgs):\n",
    "    '''\n",
    "    imgs : input expected to be a pytorch cuda tensor of images with a single dimension\n",
    "    returns the input images as a 3D numpy array by replicating the single array 3 times\n",
    "    '''\n",
    "    adv_np = imgs.cpu().detach().numpy()\n",
    "    adv_np = np.squeeze(adv_np)\n",
    "    return adv_np"
   ]
  },
  {
   "cell_type": "code",
   "execution_count": 73,
   "metadata": {},
   "outputs": [],
   "source": [
    "adv_3d = preprocess_for_is2(inputs)\n",
    "mean_is, std_is = inception_score(adv_3d, cuda=True, batch_size=10, resize=True, splits=10)"
   ]
  },
  {
   "cell_type": "code",
   "execution_count": 74,
   "metadata": {
    "scrolled": true
   },
   "outputs": [
    {
     "data": {
      "text/plain": [
       "3.1673819478535234"
      ]
     },
     "execution_count": 74,
     "metadata": {},
     "output_type": "execute_result"
    }
   ],
   "source": [
    "mean_is"
   ]
  },
  {
   "cell_type": "code",
   "execution_count": 23,
   "metadata": {},
   "outputs": [
    {
     "name": "stdout",
     "output_type": "stream",
     "text": [
      "0 cw_div4_attack conv1-0 0 3.158419887480994\n",
      "1 cw_div4_attack conv1-0 0 3.1460901719235594\n",
      "2 cw_div4_attack conv1-0 0 3.1397660085826846\n",
      "3 cw_div4_attack conv1-0 0.001 3.1576514587853026\n",
      "4 cw_div4_attack conv1-0 0.001 3.1443246809501657\n",
      "5 cw_div4_attack conv1-0 0.001 3.1398040378046006\n",
      "6 cw_div4_attack conv1-0 0.01 3.1564457621574684\n",
      "7 cw_div4_attack conv1-0 0.01 3.1452633765743574\n",
      "8 cw_div4_attack conv1-0 0.01 3.1402214285940575\n",
      "9 cw_div4_attack conv1-0 1 3.158081510473303\n",
      "10 cw_div4_attack conv1-0 1 3.1451107333992367\n",
      "11 cw_div4_attack conv1-0 1 3.1417290488924197\n",
      "12 cw_div4_attack conv1-0 10 3.1530764901839428\n",
      "13 cw_div4_attack conv1-0 10 3.146635988780827\n",
      "14 cw_div4_attack conv1-0 10 3.1383634254745343\n",
      "15 cw_div4_attack conv1-0 100 3.153134934910568\n",
      "16 cw_div4_attack conv1-0 100 3.1374656559661096\n",
      "17 cw_div4_attack conv1-0 100 3.132557603957867\n",
      "18 cw_div4_attack conv1-11 0 3.156737852789618\n",
      "19 cw_div4_attack conv1-11 0 3.14693188931357\n",
      "20 cw_div4_attack conv1-11 0 3.1423187794864216\n",
      "21 cw_div4_attack conv1-11 0.001 3.1549067514020734\n",
      "22 cw_div4_attack conv1-11 0.001 3.1422135075155686\n",
      "23 cw_div4_attack conv1-11 0.001 3.1373721565054633\n",
      "24 cw_div4_attack conv1-11 0.01 3.1557001262595645\n",
      "25 cw_div4_attack conv1-11 0.01 3.146598701993039\n",
      "26 cw_div4_attack conv1-11 0.01 3.1388101597926195\n",
      "27 cw_div4_attack conv1-11 1 3.1561097124525315\n",
      "28 cw_div4_attack conv1-11 1 3.147180782030399\n",
      "29 cw_div4_attack conv1-11 1 3.139006518105559\n",
      "30 cw_div4_attack conv1-11 10 3.1575398577868947\n",
      "31 cw_div4_attack conv1-11 10 3.149383916060873\n",
      "32 cw_div4_attack conv1-11 10 3.1439890531885366\n",
      "33 cw_div4_attack conv1-11 100 3.165625549078918\n",
      "34 cw_div4_attack conv1-11 100 3.1581803576704663\n",
      "35 cw_div4_attack conv1-11 100 3.1653016544108104\n",
      "36 cw_div4_attack conv2-22 0 3.1587304605364976\n",
      "37 cw_div4_attack conv2-22 0 3.1428196767387115\n",
      "38 cw_div4_attack conv2-22 0 3.140989504403353\n",
      "39 cw_div4_attack conv2-22 0.001 3.1544346053367986\n",
      "40 cw_div4_attack conv2-22 0.001 3.14431816247847\n",
      "41 cw_div4_attack conv2-22 0.001 3.1379171320544144\n",
      "42 cw_div4_attack conv2-22 0.01 3.1583246422687914\n",
      "43 cw_div4_attack conv2-22 0.01 3.1463114689655383\n",
      "44 cw_div4_attack conv2-22 0.01 3.1383210465858826\n",
      "45 cw_div4_attack conv2-22 1 3.156634679708004\n",
      "46 cw_div4_attack conv2-22 1 3.1362946486668575\n",
      "47 cw_div4_attack conv2-22 1 3.1389743624031374\n",
      "48 cw_div4_attack conv2-22 10 3.153632842754149\n",
      "49 cw_div4_attack conv2-22 10 3.148896920671141\n",
      "50 cw_div4_attack conv2-22 10 3.153548826674823\n",
      "51 cw_div4_attack conv2-22 100 3.1658887985220634\n",
      "52 cw_div4_attack conv2-22 100 3.154013345631838\n",
      "53 cw_div4_attack conv2-22 100 3.173169965642148\n",
      "54 cw_div4_attack conv1-33 0 3.157149545208738\n",
      "55 cw_div4_attack conv1-33 0 3.1425574399603593\n",
      "56 cw_div4_attack conv1-33 0 3.1374848613878057\n",
      "57 cw_div4_attack conv1-33 0.001 3.1565007366788587\n",
      "58 cw_div4_attack conv1-33 0.001 3.1501529255578253\n",
      "59 cw_div4_attack conv1-33 0.001 3.135969111526561\n",
      "60 cw_div4_attack conv1-33 0.01 3.157970526041436\n",
      "61 cw_div4_attack conv1-33 0.01 3.1427679442364664\n",
      "62 cw_div4_attack conv1-33 0.01 3.1386421447913015\n",
      "63 cw_div4_attack conv1-33 1 3.1589904525934704\n",
      "64 cw_div4_attack conv1-33 1 3.1378190891873086\n",
      "65 cw_div4_attack conv1-33 1 3.1498787426674637\n",
      "66 cw_div4_attack conv1-33 10 3.153927221998539\n",
      "67 cw_div4_attack conv1-33 10 3.143907518191682\n",
      "68 cw_div4_attack conv1-33 10 3.13548169714437\n",
      "69 cw_div4_attack conv1-33 100 3.1217026628472477\n",
      "70 cw_div4_attack conv1-33 100 3.137373430789844\n",
      "71 cw_div4_attack conv1-33 100 3.1273196840644513\n",
      "72 cw_div4_attack conv2-44 0 3.1560462220870447\n",
      "73 cw_div4_attack conv2-44 0 3.1445392704983233\n",
      "74 cw_div4_attack conv2-44 0 3.138123737171029\n",
      "75 cw_div4_attack conv2-44 0.001 3.15539818114503\n",
      "76 cw_div4_attack conv2-44 0.001 3.1427537987861576\n",
      "77 cw_div4_attack conv2-44 0.001 3.1372197950320517\n",
      "78 cw_div4_attack conv2-44 0.01 3.154923497403696\n",
      "79 cw_div4_attack conv2-44 0.01 3.1487891914047546\n",
      "80 cw_div4_attack conv2-44 0.01 3.1405620244623207\n",
      "81 cw_div4_attack conv2-44 1 3.1525549321988207\n",
      "82 cw_div4_attack conv2-44 1 3.1606033843230517\n",
      "83 cw_div4_attack conv2-44 1 3.1357792897500536\n",
      "84 cw_div4_attack conv2-44 10 3.158472294617452\n",
      "85 cw_div4_attack conv2-44 10 3.1560462038672386\n",
      "86 cw_div4_attack conv2-44 10 3.1390639874206863\n",
      "87 cw_div4_attack conv2-44 100 3.18096364936838\n",
      "88 cw_div4_attack conv2-44 100 3.1957186831255533\n",
      "89 cw_div4_attack conv2-44 100 3.188569080088947\n",
      "90 cw_div4_attack linear-55 0 3.1560184487787937\n",
      "91 cw_div4_attack linear-55 0 3.1415426926437737\n",
      "92 cw_div4_attack linear-55 0 3.1400035271297897\n",
      "93 cw_div4_attack linear-55 0.001 3.1523834982563796\n",
      "94 cw_div4_attack linear-55 0.001 3.1442909784842734\n",
      "95 cw_div4_attack linear-55 0.001 3.1377506667953083\n",
      "96 cw_div4_attack linear-55 0.01 3.15815503462279\n",
      "97 cw_div4_attack linear-55 0.01 3.1426822016237805\n",
      "98 cw_div4_attack linear-55 0.01 3.138214031246405\n",
      "99 cw_div4_attack linear-55 1 3.1573438915388268\n",
      "100 cw_div4_attack linear-55 1 3.1398442910509137\n",
      "101 cw_div4_attack linear-55 1 3.1429221695203684\n",
      "102 cw_div4_attack linear-55 10 3.159515368349633\n",
      "103 cw_div4_attack linear-55 10 3.1481922945685072\n",
      "104 cw_div4_attack linear-55 10 3.14127846400505\n",
      "105 cw_div4_attack linear-55 100 3.1559140665848093\n",
      "106 cw_div4_attack linear-55 100 3.1333693137818686\n",
      "107 cw_div4_attack linear-55 100 3.138230776468739\n"
     ]
    }
   ],
   "source": [
    "for i in range(len(results)):\n",
    "    a = results[i]['attack'] \n",
    "    l = results[i]['layer']\n",
    "    rw = results[i]['regularization_weight']\n",
    "    adv_3d = preprocess_for_is2(results[i]['adversaries'])\n",
    "    mean_is, std_is = inception_score(adv_3d, cuda=True, batch_size=10, resize=True, splits=10)\n",
    "    results[i]['inception_score'] = mean_is\n",
    "    print(i, a, l, rw, mean_is) "
   ]
  },
  {
   "cell_type": "code",
   "execution_count": 11,
   "metadata": {
    "collapsed": true
   },
   "outputs": [
    {
     "ename": "NameError",
     "evalue": "name 'pd' is not defined",
     "output_type": "error",
     "traceback": [
      "\u001b[1;31m---------------------------------------------------------------------------\u001b[0m",
      "\u001b[1;31mNameError\u001b[0m                                 Traceback (most recent call last)",
      "\u001b[1;32m<ipython-input-11-0f650733b94d>\u001b[0m in \u001b[0;36m<module>\u001b[1;34m\u001b[0m\n\u001b[1;32m----> 1\u001b[1;33m \u001b[0mdf\u001b[0m \u001b[1;33m=\u001b[0m \u001b[0mpd\u001b[0m\u001b[1;33m.\u001b[0m\u001b[0mDataFrame\u001b[0m\u001b[1;33m.\u001b[0m\u001b[0mfrom_dict\u001b[0m\u001b[1;33m(\u001b[0m\u001b[0mresults\u001b[0m\u001b[1;33m)\u001b[0m\u001b[1;33m\u001b[0m\u001b[1;33m\u001b[0m\u001b[0m\n\u001b[0m\u001b[0;32m      2\u001b[0m \u001b[0mpd\u001b[0m\u001b[1;33m.\u001b[0m\u001b[0mset_option\u001b[0m\u001b[1;33m(\u001b[0m\u001b[1;34m'display.max_rows'\u001b[0m\u001b[1;33m,\u001b[0m \u001b[1;32mNone\u001b[0m\u001b[1;33m)\u001b[0m\u001b[1;33m\u001b[0m\u001b[1;33m\u001b[0m\u001b[0m\n\u001b[0;32m      3\u001b[0m \u001b[0mdf\u001b[0m\u001b[1;33m[\u001b[0m\u001b[1;33m[\u001b[0m\u001b[1;34m'attack'\u001b[0m\u001b[1;33m,\u001b[0m \u001b[1;34m'layer'\u001b[0m\u001b[1;33m,\u001b[0m \u001b[1;34m'regularization_weight'\u001b[0m\u001b[1;33m,\u001b[0m \u001b[1;34m'orig_acc'\u001b[0m\u001b[1;33m,\u001b[0m \u001b[1;34m'pert_acc'\u001b[0m\u001b[1;33m,\u001b[0m \u001b[1;34m'inception_score'\u001b[0m\u001b[1;33m]\u001b[0m\u001b[1;33m]\u001b[0m\u001b[1;33m\u001b[0m\u001b[1;33m\u001b[0m\u001b[0m\n",
      "\u001b[1;31mNameError\u001b[0m: name 'pd' is not defined"
     ]
    }
   ],
   "source": [
    "df = pd.DataFrame.from_dict(results)\n",
    "pd.set_option('display.max_rows', None)\n",
    "df[['attack', 'layer', 'regularization_weight', 'orig_acc', 'pert_acc', 'inception_score']]"
   ]
  },
  {
   "cell_type": "code",
   "execution_count": 25,
   "metadata": {},
   "outputs": [],
   "source": [
    "# save the results of the evaluation\n",
    "pickle.dump(results, open( \"assets/results_cifar10_div4.pickle\", \"wb\" ))"
   ]
  },
  {
   "cell_type": "code",
   "execution_count": 20,
   "metadata": {},
   "outputs": [],
   "source": [
    "# plt.imshow(adv_np[0].reshape(28, 28))\n",
    "# plt.imshow(adv_3d[0].transpose((1,2,0)))"
   ]
  },
  {
   "cell_type": "markdown",
   "metadata": {},
   "source": [
    "# Fréchet Inception Distance (FID) Scoring\n",
    "https://github.com/mseitzer/pytorch-fid"
   ]
  },
  {
   "cell_type": "code",
   "execution_count": 10,
   "metadata": {},
   "outputs": [],
   "source": [
    "from fid_score import calculate_fid_given_paths\n",
    "from shutil import copy2, rmtree"
   ]
  },
  {
   "cell_type": "code",
   "execution_count": 21,
   "metadata": {},
   "outputs": [],
   "source": [
    "# load the results from file\n",
    "with open('assets/backups/results_cifar10_div4.pickle', 'rb') as handle:\n",
    "    results = pickle.load(handle)"
   ]
  },
  {
   "cell_type": "markdown",
   "metadata": {},
   "source": [
    "### FID w Dim = 2048 (default)\n",
    "\n",
    "In order to make this work with the mere 100 adversaries generated for each attack configuration, I plan to duplicate the images so that there are enough of them for this dimensionality. NOTE: It is not yet clear if this is a valid way of doing this..."
   ]
  },
  {
   "cell_type": "code",
   "execution_count": 47,
   "metadata": {},
   "outputs": [],
   "source": [
    "results = [{'adversaries':cw_advs}]"
   ]
  },
  {
   "cell_type": "code",
   "execution_count": 48,
   "metadata": {},
   "outputs": [
    {
     "data": {
      "text/plain": [
       "tensor([[[[0.6196, 0.6232, 0.6473,  ..., 0.5372, 0.4940, 0.4551],\n",
       "          [0.5954, 0.5940, 0.6224,  ..., 0.5331, 0.4903, 0.4666],\n",
       "          [0.5928, 0.5911, 0.6202,  ..., 0.5451, 0.5087, 0.4708],\n",
       "          ...,\n",
       "          [0.2665, 0.1645, 0.1212,  ..., 0.1491, 0.0508, 0.1569],\n",
       "          [0.2392, 0.1927, 0.1373,  ..., 0.1022, 0.1136, 0.0783],\n",
       "          [0.2115, 0.2197, 0.1756,  ..., 0.0942, 0.1330, 0.0825]],\n",
       "\n",
       "         [[0.4386, 0.4353, 0.4551,  ..., 0.3726, 0.3564, 0.3334],\n",
       "          [0.4384, 0.4328, 0.4458,  ..., 0.3732, 0.3566, 0.3449],\n",
       "          [0.4320, 0.4261, 0.4352,  ..., 0.3856, 0.3712, 0.3493],\n",
       "          ...,\n",
       "          [0.4861, 0.3919, 0.3443,  ..., 0.3804, 0.2507, 0.3333],\n",
       "          [0.4551, 0.4008, 0.3332,  ..., 0.3219, 0.3214, 0.2510],\n",
       "          [0.4196, 0.4120, 0.3482,  ..., 0.3020, 0.3291, 0.2630]],\n",
       "\n",
       "         [[0.1922, 0.1841, 0.2005,  ..., 0.1410, 0.1409, 0.1295],\n",
       "          [0.1995, 0.1583, 0.1758,  ..., 0.1212, 0.1258, 0.1332],\n",
       "          [0.1848, 0.1284, 0.1413,  ..., 0.1336, 0.1325, 0.1292],\n",
       "          ...,\n",
       "          [0.6941, 0.5801, 0.5367,  ..., 0.5724, 0.4234, 0.4981],\n",
       "          [0.6589, 0.5808, 0.5175,  ..., 0.5099, 0.4941, 0.4196],\n",
       "          [0.6275, 0.5846, 0.5171,  ..., 0.4863, 0.5058, 0.4316]]],\n",
       "\n",
       "\n",
       "        [[[0.9215, 0.9056, 0.9101,  ..., 0.9137, 0.9137, 0.9098],\n",
       "          [0.9333, 0.9217, 0.9222,  ..., 0.9248, 0.9256, 0.9214],\n",
       "          [0.9295, 0.9172, 0.9165,  ..., 0.9222, 0.9213, 0.9176],\n",
       "          ...,\n",
       "          [0.3413, 0.1687, 0.0740,  ..., 0.6626, 0.7133, 0.7373],\n",
       "          [0.3216, 0.1805, 0.1413,  ..., 0.6833, 0.7252, 0.7335],\n",
       "          [0.3335, 0.2430, 0.2274,  ..., 0.6582, 0.7061, 0.7295]],\n",
       "\n",
       "         [[0.9214, 0.9050, 0.9103,  ..., 0.9135, 0.9138, 0.9098],\n",
       "          [0.9333, 0.9217, 0.9224,  ..., 0.9252, 0.9259, 0.9215],\n",
       "          [0.9296, 0.9175, 0.9165,  ..., 0.9215, 0.9217, 0.9176],\n",
       "          ...,\n",
       "          [0.3881, 0.1998, 0.0898,  ..., 0.7217, 0.7719, 0.7922],\n",
       "          [0.3764, 0.2235, 0.1730,  ..., 0.7425, 0.7844, 0.7922],\n",
       "          [0.3961, 0.2939, 0.2628,  ..., 0.7170, 0.7651, 0.7843]],\n",
       "\n",
       "         [[0.9214, 0.9052, 0.9100,  ..., 0.9138, 0.9137, 0.9098],\n",
       "          [0.9333, 0.9215, 0.9224,  ..., 0.9251, 0.9258, 0.9216],\n",
       "          [0.9295, 0.9177, 0.9171,  ..., 0.9225, 0.9212, 0.9178],\n",
       "          ...,\n",
       "          [0.3490, 0.1451, 0.0428,  ..., 0.7015, 0.7565, 0.7884],\n",
       "          [0.3215, 0.1411, 0.0864,  ..., 0.7184, 0.7684, 0.7844],\n",
       "          [0.3255, 0.1880, 0.1491,  ..., 0.6977, 0.7493, 0.7804]]],\n",
       "\n",
       "\n",
       "        [[[0.6195, 0.6197, 0.5454,  ..., 0.8941, 0.9293, 0.9333],\n",
       "          [0.6665, 0.6745, 0.5916,  ..., 0.9097, 0.9651, 0.9646],\n",
       "          [0.6824, 0.6904, 0.6159,  ..., 0.9021, 0.9800, 0.9608],\n",
       "          ...,\n",
       "          [0.1215, 0.1172, 0.1015,  ..., 0.1453, 0.0352, 0.0148],\n",
       "          [0.0904, 0.1063, 0.0978,  ..., 0.0738, 0.0154, 0.0186],\n",
       "          [0.1087, 0.1191, 0.1245,  ..., 0.0206, 0.0145, 0.0267]],\n",
       "\n",
       "         [[0.7451, 0.7335, 0.6512,  ..., 0.9057, 0.9373, 0.9451],\n",
       "          [0.7844, 0.7807, 0.6897,  ..., 0.9097, 0.9652, 0.9687],\n",
       "          [0.7883, 0.7844, 0.7023,  ..., 0.8980, 0.9761, 0.9569],\n",
       "          ...,\n",
       "          [0.1572, 0.1531, 0.1363,  ..., 0.1571, 0.0516, 0.0268],\n",
       "          [0.1338, 0.1498, 0.1403,  ..., 0.0786, 0.0242, 0.0264],\n",
       "          [0.1603, 0.1702, 0.1757,  ..., 0.0252, 0.0190, 0.0303]],\n",
       "\n",
       "         [[0.8706, 0.8549, 0.7609,  ..., 0.9175, 0.9529, 0.9647],\n",
       "          [0.8980, 0.8865, 0.7879,  ..., 0.9252, 0.9804, 0.9837],\n",
       "          [0.8823, 0.8707, 0.7805,  ..., 0.9097, 0.9837, 0.9686],\n",
       "          ...,\n",
       "          [0.1773, 0.1724, 0.1567,  ..., 0.1799, 0.0553, 0.0197],\n",
       "          [0.1531, 0.1688, 0.1601,  ..., 0.0937, 0.0123, 0.0111],\n",
       "          [0.1838, 0.1975, 0.2029,  ..., 0.0319, 0.0111, 0.0265]]],\n",
       "\n",
       "\n",
       "        ...,\n",
       "\n",
       "\n",
       "        [[[0.5174, 0.5211, 0.5295,  ..., 0.5097, 0.5094, 0.5096],\n",
       "          [0.5407, 0.5461, 0.5437,  ..., 0.5208, 0.5179, 0.5132],\n",
       "          [0.5455, 0.5436, 0.5535,  ..., 0.5182, 0.5126, 0.5136],\n",
       "          ...,\n",
       "          [0.0902, 0.0745, 0.0980,  ..., 0.5287, 0.5292, 0.5291],\n",
       "          [0.0665, 0.0551, 0.0663,  ..., 0.5374, 0.5370, 0.5370],\n",
       "          [0.0511, 0.0506, 0.0551,  ..., 0.5250, 0.5252, 0.5252]],\n",
       "\n",
       "         [[0.5287, 0.5368, 0.5451,  ..., 0.5409, 0.5370, 0.5371],\n",
       "          [0.5485, 0.5540, 0.5521,  ..., 0.5485, 0.5453, 0.5408],\n",
       "          [0.5495, 0.5479, 0.5538,  ..., 0.5457, 0.5402, 0.5372],\n",
       "          ...,\n",
       "          [0.1491, 0.1294, 0.1492,  ..., 0.5366, 0.5412, 0.5370],\n",
       "          [0.1173, 0.1020, 0.1178,  ..., 0.5413, 0.5411, 0.5410],\n",
       "          [0.0943, 0.0937, 0.0985,  ..., 0.5329, 0.5331, 0.5330]],\n",
       "\n",
       "         [[0.5842, 0.5878, 0.5926,  ..., 0.5922, 0.5961, 0.5963],\n",
       "          [0.5957, 0.6010, 0.5994,  ..., 0.5996, 0.6007, 0.5999],\n",
       "          [0.5927, 0.5915, 0.6010,  ..., 0.5927, 0.5916, 0.5924],\n",
       "          ...,\n",
       "          [0.0668, 0.0391, 0.0708,  ..., 0.5683, 0.5687, 0.5685],\n",
       "          [0.0508, 0.0432, 0.0469,  ..., 0.5728, 0.5726, 0.5725],\n",
       "          [0.0315, 0.0390, 0.0394,  ..., 0.5645, 0.5607, 0.5606]]],\n",
       "\n",
       "\n",
       "        [[[0.9978, 0.9983, 0.9980,  ..., 0.9976, 0.9978, 0.9977],\n",
       "          [0.9957, 0.9938, 0.9820,  ..., 0.9941, 0.9957, 0.9950],\n",
       "          [0.9975, 0.9967, 0.9928,  ..., 0.9973, 0.9980, 0.9976],\n",
       "          ...,\n",
       "          [0.9977, 0.9957, 0.9976,  ..., 0.9977, 0.9977, 0.9976],\n",
       "          [0.9977, 0.9952, 0.9964,  ..., 0.9981, 0.9971, 0.9978],\n",
       "          [0.9976, 0.9955, 0.9975,  ..., 0.9975, 0.9978, 0.9977]],\n",
       "\n",
       "         [[0.9979, 0.9985, 0.9979,  ..., 0.9971, 0.9979, 0.9977],\n",
       "          [0.9970, 0.9966, 0.9822,  ..., 0.9939, 0.9962, 0.9951],\n",
       "          [0.9981, 0.9977, 0.9976,  ..., 0.9968, 0.9981, 0.9978],\n",
       "          ...,\n",
       "          [0.9978, 0.9953, 0.9977,  ..., 0.9979, 0.9977, 0.9976],\n",
       "          [0.9978, 0.9953, 0.9969,  ..., 0.9982, 0.9973, 0.9977],\n",
       "          [0.9976, 0.9957, 0.9976,  ..., 0.9975, 0.9979, 0.9977]],\n",
       "\n",
       "         [[0.9972, 0.9979, 0.9978,  ..., 0.9976, 0.9977, 0.9978],\n",
       "          [0.9959, 0.9963, 0.9852,  ..., 0.9943, 0.9958, 0.9954],\n",
       "          [0.9977, 0.9974, 0.9950,  ..., 0.9975, 0.9980, 0.9977],\n",
       "          ...,\n",
       "          [0.9977, 0.9956, 0.9977,  ..., 0.9977, 0.9978, 0.9976],\n",
       "          [0.9978, 0.9957, 0.9972,  ..., 0.9981, 0.9974, 0.9977],\n",
       "          [0.9977, 0.9958, 0.9976,  ..., 0.9976, 0.9978, 0.9976]]],\n",
       "\n",
       "\n",
       "        [[[0.9179, 0.9334, 0.9380,  ..., 0.9646, 0.9724, 0.9765],\n",
       "          [0.8968, 0.9104, 0.9097,  ..., 0.9565, 0.9648, 0.9726],\n",
       "          [0.9060, 0.9149, 0.9132,  ..., 0.9838, 0.9833, 0.9882],\n",
       "          ...,\n",
       "          [0.4483, 0.4224, 0.4036,  ..., 0.8851, 0.8314, 0.8507],\n",
       "          [0.4447, 0.4025, 0.3927,  ..., 0.8427, 0.8081, 0.8118],\n",
       "          [0.4136, 0.4178, 0.3956,  ..., 0.7967, 0.8355, 0.7804]],\n",
       "\n",
       "         [[0.9141, 0.9305, 0.9335,  ..., 0.9570, 0.9646, 0.9726],\n",
       "          [0.8937, 0.9080, 0.9056,  ..., 0.9490, 0.9567, 0.9647],\n",
       "          [0.9031, 0.9125, 0.9093,  ..., 0.9760, 0.9760, 0.9842],\n",
       "          ...,\n",
       "          [0.2921, 0.2863, 0.2673,  ..., 0.7759, 0.6904, 0.7095],\n",
       "          [0.2916, 0.2756, 0.2748,  ..., 0.7486, 0.7137, 0.6941],\n",
       "          [0.2757, 0.2875, 0.2718,  ..., 0.6984, 0.7567, 0.6980]],\n",
       "\n",
       "         [[0.9334, 0.9453, 0.9498,  ..., 0.9683, 0.9765, 0.9843],\n",
       "          [0.9127, 0.9263, 0.9272,  ..., 0.9594, 0.9688, 0.9724],\n",
       "          [0.9257, 0.9347, 0.9335,  ..., 0.9825, 0.9842, 0.9880],\n",
       "          ...,\n",
       "          [0.2142, 0.2182, 0.2119,  ..., 0.5920, 0.5021, 0.5135],\n",
       "          [0.2168, 0.2151, 0.2207,  ..., 0.5411, 0.5022, 0.5058],\n",
       "          [0.2097, 0.2272, 0.2130,  ..., 0.4903, 0.5373, 0.4979]]]],\n",
       "       device='cuda:0', requires_grad=True)"
      ]
     },
     "execution_count": 48,
     "metadata": {},
     "output_type": "execute_result"
    }
   ],
   "source": [
    "results[0]['adversaries']"
   ]
  },
  {
   "cell_type": "code",
   "execution_count": 50,
   "metadata": {},
   "outputs": [],
   "source": [
    "target_num = 2048\n",
    "\n",
    "img_root = \"C:/temp_imgs/cifar/\"\n",
    "img_dirs = [\"real/\", \"fake/\"]\n",
    "\n",
    "# try:\n",
    "#     if os.path.exists(img_root):\n",
    "#         rmtree(img_root)\n",
    "for i in range(len(results)):   \n",
    "    for img_dir in img_dirs:\n",
    "        target_dir = img_root + img_dir + str(i) + \"/\"\n",
    "        if not os.path.exists(target_dir):\n",
    "            os.makedirs(target_dir)\n",
    "        if \"real/\" in img_dir:\n",
    "            for j, (img, lbl) in enumerate(zip(inputs, targets)):\n",
    "                img_to_save = img.clone()\n",
    "                filename = target_dir + \"img_\" + str(j) + \"_\" + str(lbl.item()) + \".png\"\n",
    "                torchvision.utils.save_image(img_to_save, filename)\n",
    "            imgs = glob.glob(target_dir + \"*.png\")\n",
    "            orig_imgs = imgs\n",
    "            while len(imgs) < target_num:\n",
    "                for img in orig_imgs:\n",
    "                    copy2(img, img.replace('.png', '_' + str(j) + '.png'))\n",
    "                    j += 1\n",
    "                imgs = glob.glob(target_dir + \"*.png\")    \n",
    "        if \"fake/\" in img_dir:\n",
    "            for j, (img, lbl) in enumerate(zip(results[i]['adversaries'], targets)):\n",
    "                img_to_save = img.clone()\n",
    "                filename = target_dir + \"img_\" + str(j) + \"_\" + str(lbl.item()) + \".png\"\n",
    "                torchvision.utils.save_image(img_to_save, filename)\n",
    "            imgs = glob.glob(target_dir + \"*.png\")\n",
    "            orig_imgs = imgs\n",
    "            while len(imgs) < target_num:\n",
    "                for img in orig_imgs:\n",
    "                    copy2(img, img.replace('.png', '_' + str(j) + '.png'))\n",
    "                    j += 1\n",
    "                imgs = glob.glob(target_dir + \"*.png\") \n",
    "# except:\n",
    "#     rmtree(img_root)"
   ]
  },
  {
   "cell_type": "code",
   "execution_count": 51,
   "metadata": {},
   "outputs": [
    {
     "name": "stdout",
     "output_type": "stream",
     "text": [
      "starting calculate_fid_given_paths()...\n",
      "starting _compute_statistics_of_path()...\n",
      "starting calculate_activation_statistics()...\n",
      "starting get_activations()...\n",
      "Warning: number of images is not a multiple of the batch size. Some samples are going to be ignored.\n"
     ]
    },
    {
     "name": "stderr",
     "output_type": "stream",
     "text": [
      "100%|██████████████████████████████████████████████████████████████████████████████████| 32/32 [00:06<00:00,  4.80it/s]\n"
     ]
    },
    {
     "name": "stdout",
     "output_type": "stream",
     "text": [
      "starting _compute_statistics_of_path()...\n",
      "starting calculate_activation_statistics()...\n",
      "starting get_activations()...\n",
      "Warning: number of images is not a multiple of the batch size. Some samples are going to be ignored.\n"
     ]
    },
    {
     "name": "stderr",
     "output_type": "stream",
     "text": [
      "100%|██████████████████████████████████████████████████████████████████████████████████| 32/32 [00:06<00:00,  4.71it/s]\n"
     ]
    },
    {
     "name": "stdout",
     "output_type": "stream",
     "text": [
      "starting calculate_frechet_distance()...\n",
      "1.2806393932587283\n"
     ]
    }
   ],
   "source": [
    "img_root = \"C:/temp_imgs/cifar/\"\n",
    "img_dirs = [\"real/\", \"fake/\"]\n",
    "\n",
    "i=0\n",
    "real_dir = img_root + \"real/\" + str(i) + \"/\"\n",
    "fake_dir = img_root + \"fake/\" + str(i) + \"/\"\n",
    "paths = [real_dir, fake_dir]\n",
    "fid_value = calculate_fid_given_paths(paths, 64, '0', 2048)\n",
    "print(fid_value)"
   ]
  },
  {
   "cell_type": "code",
   "execution_count": 29,
   "metadata": {
    "scrolled": true
   },
   "outputs": [
    {
     "name": "stdout",
     "output_type": "stream",
     "text": [
      "['C:/temp_imgs/cifar/real/0/', 'C:/temp_imgs/cifar/fake/0/']\n",
      "starting calculate_fid_given_paths()...\n",
      "starting _compute_statistics_of_path()...\n",
      "starting calculate_activation_statistics()...\n",
      "starting get_activations()...\n",
      "Warning: number of images is not a multiple of the batch size. Some samples are going to be ignored.\n"
     ]
    },
    {
     "name": "stderr",
     "output_type": "stream",
     "text": [
      "100%|██████████████████████████████████████████████████████████████████████████████████| 32/32 [00:14<00:00,  3.20it/s]\n"
     ]
    },
    {
     "name": "stdout",
     "output_type": "stream",
     "text": [
      "starting _compute_statistics_of_path()...\n",
      "starting calculate_activation_statistics()...\n",
      "starting get_activations()...\n",
      "Warning: number of images is not a multiple of the batch size. Some samples are going to be ignored.\n"
     ]
    },
    {
     "name": "stderr",
     "output_type": "stream",
     "text": [
      "100%|██████████████████████████████████████████████████████████████████████████████████| 32/32 [00:08<00:00,  3.74it/s]\n"
     ]
    },
    {
     "name": "stdout",
     "output_type": "stream",
     "text": [
      "starting calculate_frechet_distance()...\n",
      "0 cw_div4_attack conv1-0 0 3.4810829420361955e-05\n",
      "['C:/temp_imgs/cifar/real/1/', 'C:/temp_imgs/cifar/fake/1/']\n",
      "starting calculate_fid_given_paths()...\n",
      "starting _compute_statistics_of_path()...\n",
      "starting calculate_activation_statistics()...\n",
      "starting get_activations()...\n",
      "Warning: number of images is not a multiple of the batch size. Some samples are going to be ignored.\n"
     ]
    },
    {
     "name": "stderr",
     "output_type": "stream",
     "text": [
      "100%|██████████████████████████████████████████████████████████████████████████████████| 32/32 [00:07<00:00,  4.05it/s]\n"
     ]
    },
    {
     "name": "stdout",
     "output_type": "stream",
     "text": [
      "starting _compute_statistics_of_path()...\n",
      "starting calculate_activation_statistics()...\n",
      "starting get_activations()...\n",
      "Warning: number of images is not a multiple of the batch size. Some samples are going to be ignored.\n"
     ]
    },
    {
     "name": "stderr",
     "output_type": "stream",
     "text": [
      "100%|██████████████████████████████████████████████████████████████████████████████████| 32/32 [00:08<00:00,  3.74it/s]\n"
     ]
    },
    {
     "name": "stdout",
     "output_type": "stream",
     "text": [
      "starting calculate_frechet_distance()...\n",
      "1 cw_div4_attack conv1-0 0 1.1058395891606758\n",
      "['C:/temp_imgs/cifar/real/2/', 'C:/temp_imgs/cifar/fake/2/']\n",
      "starting calculate_fid_given_paths()...\n",
      "starting _compute_statistics_of_path()...\n",
      "starting calculate_activation_statistics()...\n",
      "starting get_activations()...\n",
      "Warning: number of images is not a multiple of the batch size. Some samples are going to be ignored.\n"
     ]
    },
    {
     "name": "stderr",
     "output_type": "stream",
     "text": [
      "100%|██████████████████████████████████████████████████████████████████████████████████| 32/32 [00:08<00:00,  3.79it/s]\n"
     ]
    },
    {
     "name": "stdout",
     "output_type": "stream",
     "text": [
      "starting _compute_statistics_of_path()...\n",
      "starting calculate_activation_statistics()...\n",
      "starting get_activations()...\n",
      "Warning: number of images is not a multiple of the batch size. Some samples are going to be ignored.\n"
     ]
    },
    {
     "name": "stderr",
     "output_type": "stream",
     "text": [
      "100%|██████████████████████████████████████████████████████████████████████████████████| 32/32 [00:08<00:00,  3.60it/s]\n"
     ]
    },
    {
     "name": "stdout",
     "output_type": "stream",
     "text": [
      "starting calculate_frechet_distance()...\n",
      "2 cw_div4_attack conv1-0 0 1.280307354914403\n",
      "['C:/temp_imgs/cifar/real/3/', 'C:/temp_imgs/cifar/fake/3/']\n",
      "starting calculate_fid_given_paths()...\n",
      "starting _compute_statistics_of_path()...\n",
      "starting calculate_activation_statistics()...\n",
      "starting get_activations()...\n",
      "Warning: number of images is not a multiple of the batch size. Some samples are going to be ignored.\n"
     ]
    },
    {
     "name": "stderr",
     "output_type": "stream",
     "text": [
      "100%|██████████████████████████████████████████████████████████████████████████████████| 32/32 [00:07<00:00,  4.19it/s]\n"
     ]
    },
    {
     "name": "stdout",
     "output_type": "stream",
     "text": [
      "starting _compute_statistics_of_path()...\n",
      "starting calculate_activation_statistics()...\n",
      "starting get_activations()...\n",
      "Warning: number of images is not a multiple of the batch size. Some samples are going to be ignored.\n"
     ]
    },
    {
     "name": "stderr",
     "output_type": "stream",
     "text": [
      "100%|██████████████████████████████████████████████████████████████████████████████████| 32/32 [00:08<00:00,  3.90it/s]\n"
     ]
    },
    {
     "name": "stdout",
     "output_type": "stream",
     "text": [
      "starting calculate_frechet_distance()...\n",
      "3 cw_div4_attack conv1-0 0.001 1.2799646370174973\n",
      "['C:/temp_imgs/cifar/real/4/', 'C:/temp_imgs/cifar/fake/4/']\n",
      "starting calculate_fid_given_paths()...\n",
      "starting _compute_statistics_of_path()...\n",
      "starting calculate_activation_statistics()...\n",
      "starting get_activations()...\n",
      "Warning: number of images is not a multiple of the batch size. Some samples are going to be ignored.\n"
     ]
    },
    {
     "name": "stderr",
     "output_type": "stream",
     "text": [
      "100%|██████████████████████████████████████████████████████████████████████████████████| 32/32 [00:07<00:00,  4.25it/s]\n"
     ]
    },
    {
     "name": "stdout",
     "output_type": "stream",
     "text": [
      "starting _compute_statistics_of_path()...\n",
      "starting calculate_activation_statistics()...\n",
      "starting get_activations()...\n",
      "Warning: number of images is not a multiple of the batch size. Some samples are going to be ignored.\n"
     ]
    },
    {
     "name": "stderr",
     "output_type": "stream",
     "text": [
      "100%|██████████████████████████████████████████████████████████████████████████████████| 32/32 [00:08<00:00,  3.51it/s]\n"
     ]
    },
    {
     "name": "stdout",
     "output_type": "stream",
     "text": [
      "starting calculate_frechet_distance()...\n",
      "4 cw_div4_attack conv1-0 0.001 1.280854399336627\n",
      "['C:/temp_imgs/cifar/real/5/', 'C:/temp_imgs/cifar/fake/5/']\n",
      "starting calculate_fid_given_paths()...\n",
      "starting _compute_statistics_of_path()...\n",
      "starting calculate_activation_statistics()...\n",
      "starting get_activations()...\n",
      "Warning: number of images is not a multiple of the batch size. Some samples are going to be ignored.\n"
     ]
    },
    {
     "name": "stderr",
     "output_type": "stream",
     "text": [
      "100%|██████████████████████████████████████████████████████████████████████████████████| 32/32 [00:07<00:00,  4.26it/s]\n"
     ]
    },
    {
     "name": "stdout",
     "output_type": "stream",
     "text": [
      "starting _compute_statistics_of_path()...\n",
      "starting calculate_activation_statistics()...\n",
      "starting get_activations()...\n",
      "Warning: number of images is not a multiple of the batch size. Some samples are going to be ignored.\n"
     ]
    },
    {
     "name": "stderr",
     "output_type": "stream",
     "text": [
      "100%|██████████████████████████████████████████████████████████████████████████████████| 32/32 [00:08<00:00,  3.61it/s]\n"
     ]
    },
    {
     "name": "stdout",
     "output_type": "stream",
     "text": [
      "starting calculate_frechet_distance()...\n",
      "5 cw_div4_attack conv1-0 0.001 1.2806919269065296\n",
      "['C:/temp_imgs/cifar/real/6/', 'C:/temp_imgs/cifar/fake/6/']\n",
      "starting calculate_fid_given_paths()...\n",
      "starting _compute_statistics_of_path()...\n",
      "starting calculate_activation_statistics()...\n",
      "starting get_activations()...\n",
      "Warning: number of images is not a multiple of the batch size. Some samples are going to be ignored.\n"
     ]
    },
    {
     "name": "stderr",
     "output_type": "stream",
     "text": [
      "100%|██████████████████████████████████████████████████████████████████████████████████| 32/32 [00:07<00:00,  4.24it/s]\n"
     ]
    },
    {
     "name": "stdout",
     "output_type": "stream",
     "text": [
      "starting _compute_statistics_of_path()...\n",
      "starting calculate_activation_statistics()...\n",
      "starting get_activations()...\n",
      "Warning: number of images is not a multiple of the batch size. Some samples are going to be ignored.\n"
     ]
    },
    {
     "name": "stderr",
     "output_type": "stream",
     "text": [
      "100%|██████████████████████████████████████████████████████████████████████████████████| 32/32 [00:08<00:00,  3.77it/s]\n"
     ]
    },
    {
     "name": "stdout",
     "output_type": "stream",
     "text": [
      "starting calculate_frechet_distance()...\n",
      "6 cw_div4_attack conv1-0 0.01 1.2799379908095752\n",
      "['C:/temp_imgs/cifar/real/7/', 'C:/temp_imgs/cifar/fake/7/']\n",
      "starting calculate_fid_given_paths()...\n",
      "starting _compute_statistics_of_path()...\n",
      "starting calculate_activation_statistics()...\n",
      "starting get_activations()...\n",
      "Warning: number of images is not a multiple of the batch size. Some samples are going to be ignored.\n"
     ]
    },
    {
     "name": "stderr",
     "output_type": "stream",
     "text": [
      "100%|██████████████████████████████████████████████████████████████████████████████████| 32/32 [00:07<00:00,  4.25it/s]\n"
     ]
    },
    {
     "name": "stdout",
     "output_type": "stream",
     "text": [
      "starting _compute_statistics_of_path()...\n",
      "starting calculate_activation_statistics()...\n",
      "starting get_activations()...\n",
      "Warning: number of images is not a multiple of the batch size. Some samples are going to be ignored.\n"
     ]
    },
    {
     "name": "stderr",
     "output_type": "stream",
     "text": [
      "100%|██████████████████████████████████████████████████████████████████████████████████| 32/32 [00:08<00:00,  3.79it/s]\n"
     ]
    },
    {
     "name": "stdout",
     "output_type": "stream",
     "text": [
      "starting calculate_frechet_distance()...\n",
      "7 cw_div4_attack conv1-0 0.01 1.280489124030628\n",
      "['C:/temp_imgs/cifar/real/8/', 'C:/temp_imgs/cifar/fake/8/']\n",
      "starting calculate_fid_given_paths()...\n",
      "starting _compute_statistics_of_path()...\n",
      "starting calculate_activation_statistics()...\n",
      "starting get_activations()...\n",
      "Warning: number of images is not a multiple of the batch size. Some samples are going to be ignored.\n"
     ]
    },
    {
     "name": "stderr",
     "output_type": "stream",
     "text": [
      "100%|██████████████████████████████████████████████████████████████████████████████████| 32/32 [00:07<00:00,  4.26it/s]\n"
     ]
    },
    {
     "name": "stdout",
     "output_type": "stream",
     "text": [
      "starting _compute_statistics_of_path()...\n",
      "starting calculate_activation_statistics()...\n",
      "starting get_activations()...\n",
      "Warning: number of images is not a multiple of the batch size. Some samples are going to be ignored.\n"
     ]
    },
    {
     "name": "stderr",
     "output_type": "stream",
     "text": [
      "100%|██████████████████████████████████████████████████████████████████████████████████| 32/32 [00:08<00:00,  3.77it/s]\n"
     ]
    },
    {
     "name": "stdout",
     "output_type": "stream",
     "text": [
      "starting calculate_frechet_distance()...\n",
      "8 cw_div4_attack conv1-0 0.01 1.2804727974040073\n",
      "['C:/temp_imgs/cifar/real/9/', 'C:/temp_imgs/cifar/fake/9/']\n",
      "starting calculate_fid_given_paths()...\n",
      "starting _compute_statistics_of_path()...\n",
      "starting calculate_activation_statistics()...\n",
      "starting get_activations()...\n",
      "Warning: number of images is not a multiple of the batch size. Some samples are going to be ignored.\n"
     ]
    },
    {
     "name": "stderr",
     "output_type": "stream",
     "text": [
      "100%|██████████████████████████████████████████████████████████████████████████████████| 32/32 [00:07<00:00,  4.21it/s]\n"
     ]
    },
    {
     "name": "stdout",
     "output_type": "stream",
     "text": [
      "starting _compute_statistics_of_path()...\n",
      "starting calculate_activation_statistics()...\n",
      "starting get_activations()...\n",
      "Warning: number of images is not a multiple of the batch size. Some samples are going to be ignored.\n"
     ]
    },
    {
     "name": "stderr",
     "output_type": "stream",
     "text": [
      "100%|██████████████████████████████████████████████████████████████████████████████████| 32/32 [00:08<00:00,  3.67it/s]\n"
     ]
    },
    {
     "name": "stdout",
     "output_type": "stream",
     "text": [
      "starting calculate_frechet_distance()...\n",
      "9 cw_div4_attack conv1-0 1 1.2796506438657742\n",
      "['C:/temp_imgs/cifar/real/10/', 'C:/temp_imgs/cifar/fake/10/']\n",
      "starting calculate_fid_given_paths()...\n",
      "starting _compute_statistics_of_path()...\n",
      "starting calculate_activation_statistics()...\n",
      "starting get_activations()...\n",
      "Warning: number of images is not a multiple of the batch size. Some samples are going to be ignored.\n"
     ]
    },
    {
     "name": "stderr",
     "output_type": "stream",
     "text": [
      "100%|██████████████████████████████████████████████████████████████████████████████████| 32/32 [00:07<00:00,  4.26it/s]\n"
     ]
    },
    {
     "name": "stdout",
     "output_type": "stream",
     "text": [
      "starting _compute_statistics_of_path()...\n",
      "starting calculate_activation_statistics()...\n",
      "starting get_activations()...\n",
      "Warning: number of images is not a multiple of the batch size. Some samples are going to be ignored.\n"
     ]
    },
    {
     "name": "stderr",
     "output_type": "stream",
     "text": [
      "100%|██████████████████████████████████████████████████████████████████████████████████| 32/32 [00:08<00:00,  3.47it/s]\n"
     ]
    },
    {
     "name": "stdout",
     "output_type": "stream",
     "text": [
      "starting calculate_frechet_distance()...\n",
      "10 cw_div4_attack conv1-0 1 1.2805829110390266\n",
      "['C:/temp_imgs/cifar/real/11/', 'C:/temp_imgs/cifar/fake/11/']\n",
      "starting calculate_fid_given_paths()...\n",
      "starting _compute_statistics_of_path()...\n",
      "starting calculate_activation_statistics()...\n",
      "starting get_activations()...\n",
      "Warning: number of images is not a multiple of the batch size. Some samples are going to be ignored.\n"
     ]
    },
    {
     "name": "stderr",
     "output_type": "stream",
     "text": [
      "100%|██████████████████████████████████████████████████████████████████████████████████| 32/32 [00:07<00:00,  4.24it/s]\n"
     ]
    },
    {
     "name": "stdout",
     "output_type": "stream",
     "text": [
      "starting _compute_statistics_of_path()...\n",
      "starting calculate_activation_statistics()...\n",
      "starting get_activations()...\n",
      "Warning: number of images is not a multiple of the batch size. Some samples are going to be ignored.\n"
     ]
    },
    {
     "name": "stderr",
     "output_type": "stream",
     "text": [
      "100%|██████████████████████████████████████████████████████████████████████████████████| 32/32 [00:08<00:00,  3.50it/s]\n"
     ]
    },
    {
     "name": "stdout",
     "output_type": "stream",
     "text": [
      "starting calculate_frechet_distance()...\n",
      "11 cw_div4_attack conv1-0 1 1.2804506343925972\n",
      "['C:/temp_imgs/cifar/real/12/', 'C:/temp_imgs/cifar/fake/12/']\n",
      "starting calculate_fid_given_paths()...\n",
      "starting _compute_statistics_of_path()...\n",
      "starting calculate_activation_statistics()...\n",
      "starting get_activations()...\n",
      "Warning: number of images is not a multiple of the batch size. Some samples are going to be ignored.\n"
     ]
    },
    {
     "name": "stderr",
     "output_type": "stream",
     "text": [
      "100%|██████████████████████████████████████████████████████████████████████████████████| 32/32 [00:07<00:00,  4.24it/s]\n"
     ]
    },
    {
     "name": "stdout",
     "output_type": "stream",
     "text": [
      "starting _compute_statistics_of_path()...\n",
      "starting calculate_activation_statistics()...\n",
      "starting get_activations()...\n",
      "Warning: number of images is not a multiple of the batch size. Some samples are going to be ignored.\n"
     ]
    },
    {
     "name": "stderr",
     "output_type": "stream",
     "text": [
      "100%|██████████████████████████████████████████████████████████████████████████████████| 32/32 [00:08<00:00,  3.49it/s]\n"
     ]
    },
    {
     "name": "stdout",
     "output_type": "stream",
     "text": [
      "starting calculate_frechet_distance()...\n",
      "12 cw_div4_attack conv1-0 10 1.2797333427611135\n",
      "['C:/temp_imgs/cifar/real/13/', 'C:/temp_imgs/cifar/fake/13/']\n",
      "starting calculate_fid_given_paths()...\n",
      "starting _compute_statistics_of_path()...\n",
      "starting calculate_activation_statistics()...\n",
      "starting get_activations()...\n",
      "Warning: number of images is not a multiple of the batch size. Some samples are going to be ignored.\n"
     ]
    },
    {
     "name": "stderr",
     "output_type": "stream",
     "text": [
      "100%|██████████████████████████████████████████████████████████████████████████████████| 32/32 [00:07<00:00,  4.25it/s]\n"
     ]
    },
    {
     "name": "stdout",
     "output_type": "stream",
     "text": [
      "starting _compute_statistics_of_path()...\n",
      "starting calculate_activation_statistics()...\n",
      "starting get_activations()...\n",
      "Warning: number of images is not a multiple of the batch size. Some samples are going to be ignored.\n"
     ]
    },
    {
     "name": "stderr",
     "output_type": "stream",
     "text": [
      "100%|██████████████████████████████████████████████████████████████████████████████████| 32/32 [00:08<00:00,  3.78it/s]\n"
     ]
    },
    {
     "name": "stdout",
     "output_type": "stream",
     "text": [
      "starting calculate_frechet_distance()...\n",
      "13 cw_div4_attack conv1-0 10 1.280572934385738\n",
      "['C:/temp_imgs/cifar/real/14/', 'C:/temp_imgs/cifar/fake/14/']\n",
      "starting calculate_fid_given_paths()...\n",
      "starting _compute_statistics_of_path()...\n",
      "starting calculate_activation_statistics()...\n",
      "starting get_activations()...\n",
      "Warning: number of images is not a multiple of the batch size. Some samples are going to be ignored.\n"
     ]
    },
    {
     "name": "stderr",
     "output_type": "stream",
     "text": [
      "100%|██████████████████████████████████████████████████████████████████████████████████| 32/32 [00:07<00:00,  4.10it/s]\n"
     ]
    },
    {
     "name": "stdout",
     "output_type": "stream",
     "text": [
      "starting _compute_statistics_of_path()...\n",
      "starting calculate_activation_statistics()...\n",
      "starting get_activations()...\n",
      "Warning: number of images is not a multiple of the batch size. Some samples are going to be ignored.\n"
     ]
    },
    {
     "name": "stderr",
     "output_type": "stream",
     "text": [
      "100%|██████████████████████████████████████████████████████████████████████████████████| 32/32 [00:08<00:00,  3.72it/s]\n"
     ]
    },
    {
     "name": "stdout",
     "output_type": "stream",
     "text": [
      "starting calculate_frechet_distance()...\n",
      "14 cw_div4_attack conv1-0 10 1.2800995876308527\n",
      "['C:/temp_imgs/cifar/real/15/', 'C:/temp_imgs/cifar/fake/15/']\n",
      "starting calculate_fid_given_paths()...\n",
      "starting _compute_statistics_of_path()...\n",
      "starting calculate_activation_statistics()...\n",
      "starting get_activations()...\n",
      "Warning: number of images is not a multiple of the batch size. Some samples are going to be ignored.\n"
     ]
    },
    {
     "name": "stderr",
     "output_type": "stream",
     "text": [
      "100%|██████████████████████████████████████████████████████████████████████████████████| 32/32 [00:07<00:00,  4.21it/s]\n"
     ]
    },
    {
     "name": "stdout",
     "output_type": "stream",
     "text": [
      "starting _compute_statistics_of_path()...\n",
      "starting calculate_activation_statistics()...\n",
      "starting get_activations()...\n",
      "Warning: number of images is not a multiple of the batch size. Some samples are going to be ignored.\n"
     ]
    },
    {
     "name": "stderr",
     "output_type": "stream",
     "text": [
      "100%|██████████████████████████████████████████████████████████████████████████████████| 32/32 [00:08<00:00,  3.64it/s]\n"
     ]
    },
    {
     "name": "stdout",
     "output_type": "stream",
     "text": [
      "starting calculate_frechet_distance()...\n",
      "15 cw_div4_attack conv1-0 100 1.2800710466397396\n",
      "['C:/temp_imgs/cifar/real/16/', 'C:/temp_imgs/cifar/fake/16/']\n",
      "starting calculate_fid_given_paths()...\n",
      "starting _compute_statistics_of_path()...\n",
      "starting calculate_activation_statistics()...\n",
      "starting get_activations()...\n",
      "Warning: number of images is not a multiple of the batch size. Some samples are going to be ignored.\n"
     ]
    },
    {
     "name": "stderr",
     "output_type": "stream",
     "text": [
      "100%|██████████████████████████████████████████████████████████████████████████████████| 32/32 [00:07<00:00,  4.23it/s]\n"
     ]
    },
    {
     "name": "stdout",
     "output_type": "stream",
     "text": [
      "starting _compute_statistics_of_path()...\n",
      "starting calculate_activation_statistics()...\n",
      "starting get_activations()...\n",
      "Warning: number of images is not a multiple of the batch size. Some samples are going to be ignored.\n"
     ]
    },
    {
     "name": "stderr",
     "output_type": "stream",
     "text": [
      "100%|██████████████████████████████████████████████████████████████████████████████████| 32/32 [00:08<00:00,  3.46it/s]\n"
     ]
    },
    {
     "name": "stdout",
     "output_type": "stream",
     "text": [
      "starting calculate_frechet_distance()...\n",
      "16 cw_div4_attack conv1-0 100 1.2806964739854192\n",
      "['C:/temp_imgs/cifar/real/17/', 'C:/temp_imgs/cifar/fake/17/']\n",
      "starting calculate_fid_given_paths()...\n",
      "starting _compute_statistics_of_path()...\n",
      "starting calculate_activation_statistics()...\n",
      "starting get_activations()...\n",
      "Warning: number of images is not a multiple of the batch size. Some samples are going to be ignored.\n"
     ]
    },
    {
     "name": "stderr",
     "output_type": "stream",
     "text": [
      "100%|██████████████████████████████████████████████████████████████████████████████████| 32/32 [00:07<00:00,  4.23it/s]\n"
     ]
    },
    {
     "name": "stdout",
     "output_type": "stream",
     "text": [
      "starting _compute_statistics_of_path()...\n",
      "starting calculate_activation_statistics()...\n",
      "starting get_activations()...\n",
      "Warning: number of images is not a multiple of the batch size. Some samples are going to be ignored.\n"
     ]
    },
    {
     "name": "stderr",
     "output_type": "stream",
     "text": [
      "100%|██████████████████████████████████████████████████████████████████████████████████| 32/32 [00:08<00:00,  3.57it/s]\n"
     ]
    },
    {
     "name": "stdout",
     "output_type": "stream",
     "text": [
      "starting calculate_frechet_distance()...\n",
      "17 cw_div4_attack conv1-0 100 1.2803964162538206\n",
      "['C:/temp_imgs/cifar/real/18/', 'C:/temp_imgs/cifar/fake/18/']\n",
      "starting calculate_fid_given_paths()...\n",
      "starting _compute_statistics_of_path()...\n",
      "starting calculate_activation_statistics()...\n",
      "starting get_activations()...\n",
      "Warning: number of images is not a multiple of the batch size. Some samples are going to be ignored.\n"
     ]
    },
    {
     "name": "stderr",
     "output_type": "stream",
     "text": [
      "100%|██████████████████████████████████████████████████████████████████████████████████| 32/32 [00:07<00:00,  3.87it/s]\n"
     ]
    },
    {
     "name": "stdout",
     "output_type": "stream",
     "text": [
      "starting _compute_statistics_of_path()...\n",
      "starting calculate_activation_statistics()...\n",
      "starting get_activations()...\n",
      "Warning: number of images is not a multiple of the batch size. Some samples are going to be ignored.\n"
     ]
    },
    {
     "name": "stderr",
     "output_type": "stream",
     "text": [
      "100%|██████████████████████████████████████████████████████████████████████████████████| 32/32 [00:08<00:00,  3.45it/s]\n"
     ]
    },
    {
     "name": "stdout",
     "output_type": "stream",
     "text": [
      "starting calculate_frechet_distance()...\n",
      "18 cw_div4_attack conv1-11 0 1.2801532586977111\n",
      "['C:/temp_imgs/cifar/real/19/', 'C:/temp_imgs/cifar/fake/19/']\n",
      "starting calculate_fid_given_paths()...\n",
      "starting _compute_statistics_of_path()...\n",
      "starting calculate_activation_statistics()...\n",
      "starting get_activations()...\n",
      "Warning: number of images is not a multiple of the batch size. Some samples are going to be ignored.\n"
     ]
    },
    {
     "name": "stderr",
     "output_type": "stream",
     "text": [
      "100%|██████████████████████████████████████████████████████████████████████████████████| 32/32 [00:07<00:00,  4.23it/s]\n"
     ]
    },
    {
     "name": "stdout",
     "output_type": "stream",
     "text": [
      "starting _compute_statistics_of_path()...\n",
      "starting calculate_activation_statistics()...\n",
      "starting get_activations()...\n",
      "Warning: number of images is not a multiple of the batch size. Some samples are going to be ignored.\n"
     ]
    },
    {
     "name": "stderr",
     "output_type": "stream",
     "text": [
      "100%|██████████████████████████████████████████████████████████████████████████████████| 32/32 [00:08<00:00,  3.68it/s]\n"
     ]
    },
    {
     "name": "stdout",
     "output_type": "stream",
     "text": [
      "starting calculate_frechet_distance()...\n",
      "19 cw_div4_attack conv1-11 0 1.2805790796735477\n",
      "['C:/temp_imgs/cifar/real/20/', 'C:/temp_imgs/cifar/fake/20/']\n",
      "starting calculate_fid_given_paths()...\n",
      "starting _compute_statistics_of_path()...\n",
      "starting calculate_activation_statistics()...\n",
      "starting get_activations()...\n",
      "Warning: number of images is not a multiple of the batch size. Some samples are going to be ignored.\n"
     ]
    },
    {
     "name": "stderr",
     "output_type": "stream",
     "text": [
      "100%|██████████████████████████████████████████████████████████████████████████████████| 32/32 [00:07<00:00,  4.25it/s]\n"
     ]
    },
    {
     "name": "stdout",
     "output_type": "stream",
     "text": [
      "starting _compute_statistics_of_path()...\n",
      "starting calculate_activation_statistics()...\n",
      "starting get_activations()...\n",
      "Warning: number of images is not a multiple of the batch size. Some samples are going to be ignored.\n"
     ]
    },
    {
     "name": "stderr",
     "output_type": "stream",
     "text": [
      "100%|██████████████████████████████████████████████████████████████████████████████████| 32/32 [00:08<00:00,  3.76it/s]\n"
     ]
    },
    {
     "name": "stdout",
     "output_type": "stream",
     "text": [
      "starting calculate_frechet_distance()...\n",
      "20 cw_div4_attack conv1-11 0 1.2806632125282769\n",
      "['C:/temp_imgs/cifar/real/21/', 'C:/temp_imgs/cifar/fake/21/']\n",
      "starting calculate_fid_given_paths()...\n",
      "starting _compute_statistics_of_path()...\n",
      "starting calculate_activation_statistics()...\n",
      "starting get_activations()...\n",
      "Warning: number of images is not a multiple of the batch size. Some samples are going to be ignored.\n"
     ]
    },
    {
     "name": "stderr",
     "output_type": "stream",
     "text": [
      "100%|██████████████████████████████████████████████████████████████████████████████████| 32/32 [00:07<00:00,  4.20it/s]\n"
     ]
    },
    {
     "name": "stdout",
     "output_type": "stream",
     "text": [
      "starting _compute_statistics_of_path()...\n",
      "starting calculate_activation_statistics()...\n",
      "starting get_activations()...\n",
      "Warning: number of images is not a multiple of the batch size. Some samples are going to be ignored.\n"
     ]
    },
    {
     "name": "stderr",
     "output_type": "stream",
     "text": [
      "100%|██████████████████████████████████████████████████████████████████████████████████| 32/32 [00:08<00:00,  3.74it/s]\n"
     ]
    },
    {
     "name": "stdout",
     "output_type": "stream",
     "text": [
      "starting calculate_frechet_distance()...\n",
      "21 cw_div4_attack conv1-11 0.001 1.280030033400676\n",
      "['C:/temp_imgs/cifar/real/22/', 'C:/temp_imgs/cifar/fake/22/']\n",
      "starting calculate_fid_given_paths()...\n",
      "starting _compute_statistics_of_path()...\n",
      "starting calculate_activation_statistics()...\n",
      "starting get_activations()...\n",
      "Warning: number of images is not a multiple of the batch size. Some samples are going to be ignored.\n"
     ]
    },
    {
     "name": "stderr",
     "output_type": "stream",
     "text": [
      "100%|██████████████████████████████████████████████████████████████████████████████████| 32/32 [00:07<00:00,  4.21it/s]\n"
     ]
    },
    {
     "name": "stdout",
     "output_type": "stream",
     "text": [
      "starting _compute_statistics_of_path()...\n",
      "starting calculate_activation_statistics()...\n",
      "starting get_activations()...\n",
      "Warning: number of images is not a multiple of the batch size. Some samples are going to be ignored.\n"
     ]
    },
    {
     "name": "stderr",
     "output_type": "stream",
     "text": [
      "100%|██████████████████████████████████████████████████████████████████████████████████| 32/32 [00:08<00:00,  3.60it/s]\n"
     ]
    },
    {
     "name": "stdout",
     "output_type": "stream",
     "text": [
      "starting calculate_frechet_distance()...\n",
      "22 cw_div4_attack conv1-11 0.001 1.2804624121246053\n",
      "['C:/temp_imgs/cifar/real/23/', 'C:/temp_imgs/cifar/fake/23/']\n",
      "starting calculate_fid_given_paths()...\n",
      "starting _compute_statistics_of_path()...\n",
      "starting calculate_activation_statistics()...\n",
      "starting get_activations()...\n",
      "Warning: number of images is not a multiple of the batch size. Some samples are going to be ignored.\n"
     ]
    },
    {
     "name": "stderr",
     "output_type": "stream",
     "text": [
      "100%|██████████████████████████████████████████████████████████████████████████████████| 32/32 [00:07<00:00,  4.22it/s]\n"
     ]
    },
    {
     "name": "stdout",
     "output_type": "stream",
     "text": [
      "starting _compute_statistics_of_path()...\n",
      "starting calculate_activation_statistics()...\n",
      "starting get_activations()...\n",
      "Warning: number of images is not a multiple of the batch size. Some samples are going to be ignored.\n"
     ]
    },
    {
     "name": "stderr",
     "output_type": "stream",
     "text": [
      "100%|██████████████████████████████████████████████████████████████████████████████████| 32/32 [00:08<00:00,  3.45it/s]\n"
     ]
    },
    {
     "name": "stdout",
     "output_type": "stream",
     "text": [
      "starting calculate_frechet_distance()...\n",
      "23 cw_div4_attack conv1-11 0.001 1.2806175914800817\n",
      "['C:/temp_imgs/cifar/real/24/', 'C:/temp_imgs/cifar/fake/24/']\n",
      "starting calculate_fid_given_paths()...\n",
      "starting _compute_statistics_of_path()...\n",
      "starting calculate_activation_statistics()...\n",
      "starting get_activations()...\n",
      "Warning: number of images is not a multiple of the batch size. Some samples are going to be ignored.\n"
     ]
    },
    {
     "name": "stderr",
     "output_type": "stream",
     "text": [
      "100%|██████████████████████████████████████████████████████████████████████████████████| 32/32 [00:07<00:00,  4.22it/s]\n"
     ]
    },
    {
     "name": "stdout",
     "output_type": "stream",
     "text": [
      "starting _compute_statistics_of_path()...\n",
      "starting calculate_activation_statistics()...\n",
      "starting get_activations()...\n",
      "Warning: number of images is not a multiple of the batch size. Some samples are going to be ignored.\n"
     ]
    },
    {
     "name": "stderr",
     "output_type": "stream",
     "text": [
      "100%|██████████████████████████████████████████████████████████████████████████████████| 32/32 [00:08<00:00,  3.64it/s]\n"
     ]
    },
    {
     "name": "stdout",
     "output_type": "stream",
     "text": [
      "starting calculate_frechet_distance()...\n",
      "24 cw_div4_attack conv1-11 0.01 1.2800912846881976\n",
      "['C:/temp_imgs/cifar/real/25/', 'C:/temp_imgs/cifar/fake/25/']\n",
      "starting calculate_fid_given_paths()...\n",
      "starting _compute_statistics_of_path()...\n",
      "starting calculate_activation_statistics()...\n",
      "starting get_activations()...\n",
      "Warning: number of images is not a multiple of the batch size. Some samples are going to be ignored.\n"
     ]
    },
    {
     "name": "stderr",
     "output_type": "stream",
     "text": [
      "100%|██████████████████████████████████████████████████████████████████████████████████| 32/32 [00:07<00:00,  4.21it/s]\n"
     ]
    },
    {
     "name": "stdout",
     "output_type": "stream",
     "text": [
      "starting _compute_statistics_of_path()...\n",
      "starting calculate_activation_statistics()...\n",
      "starting get_activations()...\n",
      "Warning: number of images is not a multiple of the batch size. Some samples are going to be ignored.\n"
     ]
    },
    {
     "name": "stderr",
     "output_type": "stream",
     "text": [
      "100%|██████████████████████████████████████████████████████████████████████████████████| 32/32 [00:08<00:00,  3.55it/s]\n"
     ]
    },
    {
     "name": "stdout",
     "output_type": "stream",
     "text": [
      "starting calculate_frechet_distance()...\n",
      "25 cw_div4_attack conv1-11 0.01 1.2808599848522624\n",
      "['C:/temp_imgs/cifar/real/26/', 'C:/temp_imgs/cifar/fake/26/']\n",
      "starting calculate_fid_given_paths()...\n",
      "starting _compute_statistics_of_path()...\n",
      "starting calculate_activation_statistics()...\n",
      "starting get_activations()...\n",
      "Warning: number of images is not a multiple of the batch size. Some samples are going to be ignored.\n"
     ]
    },
    {
     "name": "stderr",
     "output_type": "stream",
     "text": [
      "100%|██████████████████████████████████████████████████████████████████████████████████| 32/32 [00:07<00:00,  4.23it/s]\n"
     ]
    },
    {
     "name": "stdout",
     "output_type": "stream",
     "text": [
      "starting _compute_statistics_of_path()...\n",
      "starting calculate_activation_statistics()...\n",
      "starting get_activations()...\n",
      "Warning: number of images is not a multiple of the batch size. Some samples are going to be ignored.\n"
     ]
    },
    {
     "name": "stderr",
     "output_type": "stream",
     "text": [
      "100%|██████████████████████████████████████████████████████████████████████████████████| 32/32 [00:08<00:00,  3.73it/s]\n"
     ]
    },
    {
     "name": "stdout",
     "output_type": "stream",
     "text": [
      "starting calculate_frechet_distance()...\n",
      "26 cw_div4_attack conv1-11 0.01 1.2802812624441242\n",
      "['C:/temp_imgs/cifar/real/27/', 'C:/temp_imgs/cifar/fake/27/']\n",
      "starting calculate_fid_given_paths()...\n",
      "starting _compute_statistics_of_path()...\n",
      "starting calculate_activation_statistics()...\n",
      "starting get_activations()...\n",
      "Warning: number of images is not a multiple of the batch size. Some samples are going to be ignored.\n"
     ]
    },
    {
     "name": "stderr",
     "output_type": "stream",
     "text": [
      "100%|██████████████████████████████████████████████████████████████████████████████████| 32/32 [00:07<00:00,  4.23it/s]\n"
     ]
    },
    {
     "name": "stdout",
     "output_type": "stream",
     "text": [
      "starting _compute_statistics_of_path()...\n",
      "starting calculate_activation_statistics()...\n",
      "starting get_activations()...\n",
      "Warning: number of images is not a multiple of the batch size. Some samples are going to be ignored.\n"
     ]
    },
    {
     "name": "stderr",
     "output_type": "stream",
     "text": [
      "100%|██████████████████████████████████████████████████████████████████████████████████| 32/32 [00:08<00:00,  3.66it/s]\n"
     ]
    },
    {
     "name": "stdout",
     "output_type": "stream",
     "text": [
      "starting calculate_frechet_distance()...\n",
      "27 cw_div4_attack conv1-11 1 1.2802145905268785\n",
      "['C:/temp_imgs/cifar/real/28/', 'C:/temp_imgs/cifar/fake/28/']\n",
      "starting calculate_fid_given_paths()...\n",
      "starting _compute_statistics_of_path()...\n",
      "starting calculate_activation_statistics()...\n",
      "starting get_activations()...\n",
      "Warning: number of images is not a multiple of the batch size. Some samples are going to be ignored.\n"
     ]
    },
    {
     "name": "stderr",
     "output_type": "stream",
     "text": [
      "100%|██████████████████████████████████████████████████████████████████████████████████| 32/32 [00:07<00:00,  4.17it/s]\n"
     ]
    },
    {
     "name": "stdout",
     "output_type": "stream",
     "text": [
      "starting _compute_statistics_of_path()...\n",
      "starting calculate_activation_statistics()...\n",
      "starting get_activations()...\n",
      "Warning: number of images is not a multiple of the batch size. Some samples are going to be ignored.\n"
     ]
    },
    {
     "name": "stderr",
     "output_type": "stream",
     "text": [
      "100%|██████████████████████████████████████████████████████████████████████████████████| 32/32 [00:08<00:00,  3.55it/s]\n"
     ]
    },
    {
     "name": "stdout",
     "output_type": "stream",
     "text": [
      "starting calculate_frechet_distance()...\n",
      "28 cw_div4_attack conv1-11 1 1.2804415120666346\n",
      "['C:/temp_imgs/cifar/real/29/', 'C:/temp_imgs/cifar/fake/29/']\n",
      "starting calculate_fid_given_paths()...\n",
      "starting _compute_statistics_of_path()...\n",
      "starting calculate_activation_statistics()...\n",
      "starting get_activations()...\n",
      "Warning: number of images is not a multiple of the batch size. Some samples are going to be ignored.\n"
     ]
    },
    {
     "name": "stderr",
     "output_type": "stream",
     "text": [
      "100%|██████████████████████████████████████████████████████████████████████████████████| 32/32 [00:07<00:00,  4.20it/s]\n"
     ]
    },
    {
     "name": "stdout",
     "output_type": "stream",
     "text": [
      "starting _compute_statistics_of_path()...\n",
      "starting calculate_activation_statistics()...\n",
      "starting get_activations()...\n",
      "Warning: number of images is not a multiple of the batch size. Some samples are going to be ignored.\n"
     ]
    },
    {
     "name": "stderr",
     "output_type": "stream",
     "text": [
      "100%|██████████████████████████████████████████████████████████████████████████████████| 32/32 [00:08<00:00,  3.51it/s]\n"
     ]
    },
    {
     "name": "stdout",
     "output_type": "stream",
     "text": [
      "starting calculate_frechet_distance()...\n",
      "29 cw_div4_attack conv1-11 1 1.2802244766995892\n",
      "['C:/temp_imgs/cifar/real/30/', 'C:/temp_imgs/cifar/fake/30/']\n",
      "starting calculate_fid_given_paths()...\n",
      "starting _compute_statistics_of_path()...\n",
      "starting calculate_activation_statistics()...\n",
      "starting get_activations()...\n",
      "Warning: number of images is not a multiple of the batch size. Some samples are going to be ignored.\n"
     ]
    },
    {
     "name": "stderr",
     "output_type": "stream",
     "text": [
      "100%|██████████████████████████████████████████████████████████████████████████████████| 32/32 [00:07<00:00,  4.25it/s]\n"
     ]
    },
    {
     "name": "stdout",
     "output_type": "stream",
     "text": [
      "starting _compute_statistics_of_path()...\n",
      "starting calculate_activation_statistics()...\n",
      "starting get_activations()...\n",
      "Warning: number of images is not a multiple of the batch size. Some samples are going to be ignored.\n"
     ]
    },
    {
     "name": "stderr",
     "output_type": "stream",
     "text": [
      "100%|██████████████████████████████████████████████████████████████████████████████████| 32/32 [00:08<00:00,  3.62it/s]\n"
     ]
    },
    {
     "name": "stdout",
     "output_type": "stream",
     "text": [
      "starting calculate_frechet_distance()...\n",
      "30 cw_div4_attack conv1-11 10 1.2819493254711725\n",
      "['C:/temp_imgs/cifar/real/31/', 'C:/temp_imgs/cifar/fake/31/']\n",
      "starting calculate_fid_given_paths()...\n",
      "starting _compute_statistics_of_path()...\n",
      "starting calculate_activation_statistics()...\n",
      "starting get_activations()...\n",
      "Warning: number of images is not a multiple of the batch size. Some samples are going to be ignored.\n"
     ]
    },
    {
     "name": "stderr",
     "output_type": "stream",
     "text": [
      "100%|██████████████████████████████████████████████████████████████████████████████████| 32/32 [00:07<00:00,  4.25it/s]\n"
     ]
    },
    {
     "name": "stdout",
     "output_type": "stream",
     "text": [
      "starting _compute_statistics_of_path()...\n",
      "starting calculate_activation_statistics()...\n",
      "starting get_activations()...\n",
      "Warning: number of images is not a multiple of the batch size. Some samples are going to be ignored.\n"
     ]
    },
    {
     "name": "stderr",
     "output_type": "stream",
     "text": [
      "100%|██████████████████████████████████████████████████████████████████████████████████| 32/32 [00:08<00:00,  3.76it/s]\n"
     ]
    },
    {
     "name": "stdout",
     "output_type": "stream",
     "text": [
      "starting calculate_frechet_distance()...\n",
      "31 cw_div4_attack conv1-11 10 1.2795969598263164\n",
      "['C:/temp_imgs/cifar/real/32/', 'C:/temp_imgs/cifar/fake/32/']\n",
      "starting calculate_fid_given_paths()...\n",
      "starting _compute_statistics_of_path()...\n",
      "starting calculate_activation_statistics()...\n",
      "starting get_activations()...\n",
      "Warning: number of images is not a multiple of the batch size. Some samples are going to be ignored.\n"
     ]
    },
    {
     "name": "stderr",
     "output_type": "stream",
     "text": [
      "100%|██████████████████████████████████████████████████████████████████████████████████| 32/32 [00:07<00:00,  4.23it/s]\n"
     ]
    },
    {
     "name": "stdout",
     "output_type": "stream",
     "text": [
      "starting _compute_statistics_of_path()...\n",
      "starting calculate_activation_statistics()...\n",
      "starting get_activations()...\n",
      "Warning: number of images is not a multiple of the batch size. Some samples are going to be ignored.\n"
     ]
    },
    {
     "name": "stderr",
     "output_type": "stream",
     "text": [
      "100%|██████████████████████████████████████████████████████████████████████████████████| 32/32 [00:08<00:00,  3.58it/s]\n"
     ]
    },
    {
     "name": "stdout",
     "output_type": "stream",
     "text": [
      "starting calculate_frechet_distance()...\n",
      "32 cw_div4_attack conv1-11 10 1.2799195558695096\n",
      "['C:/temp_imgs/cifar/real/33/', 'C:/temp_imgs/cifar/fake/33/']\n",
      "starting calculate_fid_given_paths()...\n",
      "starting _compute_statistics_of_path()...\n",
      "starting calculate_activation_statistics()...\n",
      "starting get_activations()...\n",
      "Warning: number of images is not a multiple of the batch size. Some samples are going to be ignored.\n"
     ]
    },
    {
     "name": "stderr",
     "output_type": "stream",
     "text": [
      "100%|██████████████████████████████████████████████████████████████████████████████████| 32/32 [00:07<00:00,  4.26it/s]\n"
     ]
    },
    {
     "name": "stdout",
     "output_type": "stream",
     "text": [
      "starting _compute_statistics_of_path()...\n",
      "starting calculate_activation_statistics()...\n",
      "starting get_activations()...\n",
      "Warning: number of images is not a multiple of the batch size. Some samples are going to be ignored.\n"
     ]
    },
    {
     "name": "stderr",
     "output_type": "stream",
     "text": [
      "100%|██████████████████████████████████████████████████████████████████████████████████| 32/32 [00:08<00:00,  3.57it/s]\n"
     ]
    },
    {
     "name": "stdout",
     "output_type": "stream",
     "text": [
      "starting calculate_frechet_distance()...\n",
      "33 cw_div4_attack conv1-11 100 1.2780635083119005\n",
      "['C:/temp_imgs/cifar/real/34/', 'C:/temp_imgs/cifar/fake/34/']\n",
      "starting calculate_fid_given_paths()...\n",
      "starting _compute_statistics_of_path()...\n",
      "starting calculate_activation_statistics()...\n",
      "starting get_activations()...\n",
      "Warning: number of images is not a multiple of the batch size. Some samples are going to be ignored.\n"
     ]
    },
    {
     "name": "stderr",
     "output_type": "stream",
     "text": [
      "100%|██████████████████████████████████████████████████████████████████████████████████| 32/32 [00:07<00:00,  4.23it/s]\n"
     ]
    },
    {
     "name": "stdout",
     "output_type": "stream",
     "text": [
      "starting _compute_statistics_of_path()...\n",
      "starting calculate_activation_statistics()...\n",
      "starting get_activations()...\n",
      "Warning: number of images is not a multiple of the batch size. Some samples are going to be ignored.\n"
     ]
    },
    {
     "name": "stderr",
     "output_type": "stream",
     "text": [
      "100%|██████████████████████████████████████████████████████████████████████████████████| 32/32 [00:08<00:00,  3.59it/s]\n"
     ]
    },
    {
     "name": "stdout",
     "output_type": "stream",
     "text": [
      "starting calculate_frechet_distance()...\n",
      "34 cw_div4_attack conv1-11 100 1.2745004901909258\n",
      "['C:/temp_imgs/cifar/real/35/', 'C:/temp_imgs/cifar/fake/35/']\n",
      "starting calculate_fid_given_paths()...\n",
      "starting _compute_statistics_of_path()...\n",
      "starting calculate_activation_statistics()...\n",
      "starting get_activations()...\n",
      "Warning: number of images is not a multiple of the batch size. Some samples are going to be ignored.\n"
     ]
    },
    {
     "name": "stderr",
     "output_type": "stream",
     "text": [
      "100%|██████████████████████████████████████████████████████████████████████████████████| 32/32 [00:07<00:00,  4.21it/s]\n"
     ]
    },
    {
     "name": "stdout",
     "output_type": "stream",
     "text": [
      "starting _compute_statistics_of_path()...\n",
      "starting calculate_activation_statistics()...\n",
      "starting get_activations()...\n",
      "Warning: number of images is not a multiple of the batch size. Some samples are going to be ignored.\n"
     ]
    },
    {
     "name": "stderr",
     "output_type": "stream",
     "text": [
      "100%|██████████████████████████████████████████████████████████████████████████████████| 32/32 [00:08<00:00,  3.59it/s]\n"
     ]
    },
    {
     "name": "stdout",
     "output_type": "stream",
     "text": [
      "starting calculate_frechet_distance()...\n",
      "35 cw_div4_attack conv1-11 100 1.28639674481628\n",
      "['C:/temp_imgs/cifar/real/36/', 'C:/temp_imgs/cifar/fake/36/']\n",
      "starting calculate_fid_given_paths()...\n",
      "starting _compute_statistics_of_path()...\n",
      "starting calculate_activation_statistics()...\n",
      "starting get_activations()...\n",
      "Warning: number of images is not a multiple of the batch size. Some samples are going to be ignored.\n"
     ]
    },
    {
     "name": "stderr",
     "output_type": "stream",
     "text": [
      "100%|██████████████████████████████████████████████████████████████████████████████████| 32/32 [00:07<00:00,  4.24it/s]\n"
     ]
    },
    {
     "name": "stdout",
     "output_type": "stream",
     "text": [
      "starting _compute_statistics_of_path()...\n",
      "starting calculate_activation_statistics()...\n",
      "starting get_activations()...\n",
      "Warning: number of images is not a multiple of the batch size. Some samples are going to be ignored.\n"
     ]
    },
    {
     "name": "stderr",
     "output_type": "stream",
     "text": [
      "100%|██████████████████████████████████████████████████████████████████████████████████| 32/32 [00:08<00:00,  3.59it/s]\n"
     ]
    },
    {
     "name": "stdout",
     "output_type": "stream",
     "text": [
      "starting calculate_frechet_distance()...\n",
      "36 cw_div4_attack conv2-22 0 1.2800579108449293\n",
      "['C:/temp_imgs/cifar/real/37/', 'C:/temp_imgs/cifar/fake/37/']\n",
      "starting calculate_fid_given_paths()...\n",
      "starting _compute_statistics_of_path()...\n",
      "starting calculate_activation_statistics()...\n",
      "starting get_activations()...\n",
      "Warning: number of images is not a multiple of the batch size. Some samples are going to be ignored.\n"
     ]
    },
    {
     "name": "stderr",
     "output_type": "stream",
     "text": [
      "100%|██████████████████████████████████████████████████████████████████████████████████| 32/32 [00:07<00:00,  4.22it/s]\n"
     ]
    },
    {
     "name": "stdout",
     "output_type": "stream",
     "text": [
      "starting _compute_statistics_of_path()...\n",
      "starting calculate_activation_statistics()...\n",
      "starting get_activations()...\n",
      "Warning: number of images is not a multiple of the batch size. Some samples are going to be ignored.\n"
     ]
    },
    {
     "name": "stderr",
     "output_type": "stream",
     "text": [
      "100%|██████████████████████████████████████████████████████████████████████████████████| 32/32 [00:08<00:00,  3.67it/s]\n"
     ]
    },
    {
     "name": "stdout",
     "output_type": "stream",
     "text": [
      "starting calculate_frechet_distance()...\n",
      "37 cw_div4_attack conv2-22 0 1.2809030459320523\n",
      "['C:/temp_imgs/cifar/real/38/', 'C:/temp_imgs/cifar/fake/38/']\n",
      "starting calculate_fid_given_paths()...\n",
      "starting _compute_statistics_of_path()...\n",
      "starting calculate_activation_statistics()...\n",
      "starting get_activations()...\n",
      "Warning: number of images is not a multiple of the batch size. Some samples are going to be ignored.\n"
     ]
    },
    {
     "name": "stderr",
     "output_type": "stream",
     "text": [
      "100%|██████████████████████████████████████████████████████████████████████████████████| 32/32 [00:07<00:00,  4.23it/s]\n"
     ]
    },
    {
     "name": "stdout",
     "output_type": "stream",
     "text": [
      "starting _compute_statistics_of_path()...\n",
      "starting calculate_activation_statistics()...\n",
      "starting get_activations()...\n",
      "Warning: number of images is not a multiple of the batch size. Some samples are going to be ignored.\n"
     ]
    },
    {
     "name": "stderr",
     "output_type": "stream",
     "text": [
      "100%|██████████████████████████████████████████████████████████████████████████████████| 32/32 [00:08<00:00,  3.87it/s]\n"
     ]
    },
    {
     "name": "stdout",
     "output_type": "stream",
     "text": [
      "starting calculate_frechet_distance()...\n",
      "38 cw_div4_attack conv2-22 0 1.280623142939905\n",
      "['C:/temp_imgs/cifar/real/39/', 'C:/temp_imgs/cifar/fake/39/']\n",
      "starting calculate_fid_given_paths()...\n",
      "starting _compute_statistics_of_path()...\n",
      "starting calculate_activation_statistics()...\n",
      "starting get_activations()...\n",
      "Warning: number of images is not a multiple of the batch size. Some samples are going to be ignored.\n"
     ]
    },
    {
     "name": "stderr",
     "output_type": "stream",
     "text": [
      "100%|██████████████████████████████████████████████████████████████████████████████████| 32/32 [00:07<00:00,  4.22it/s]\n"
     ]
    },
    {
     "name": "stdout",
     "output_type": "stream",
     "text": [
      "starting _compute_statistics_of_path()...\n",
      "starting calculate_activation_statistics()...\n",
      "starting get_activations()...\n",
      "Warning: number of images is not a multiple of the batch size. Some samples are going to be ignored.\n"
     ]
    },
    {
     "name": "stderr",
     "output_type": "stream",
     "text": [
      "100%|██████████████████████████████████████████████████████████████████████████████████| 32/32 [00:08<00:00,  3.67it/s]\n"
     ]
    },
    {
     "name": "stdout",
     "output_type": "stream",
     "text": [
      "starting calculate_frechet_distance()...\n",
      "39 cw_div4_attack conv2-22 0.001 1.2801762510641586\n",
      "['C:/temp_imgs/cifar/real/40/', 'C:/temp_imgs/cifar/fake/40/']\n",
      "starting calculate_fid_given_paths()...\n",
      "starting _compute_statistics_of_path()...\n",
      "starting calculate_activation_statistics()...\n",
      "starting get_activations()...\n",
      "Warning: number of images is not a multiple of the batch size. Some samples are going to be ignored.\n"
     ]
    },
    {
     "name": "stderr",
     "output_type": "stream",
     "text": [
      "100%|██████████████████████████████████████████████████████████████████████████████████| 32/32 [00:07<00:00,  4.24it/s]\n"
     ]
    },
    {
     "name": "stdout",
     "output_type": "stream",
     "text": [
      "starting _compute_statistics_of_path()...\n",
      "starting calculate_activation_statistics()...\n",
      "starting get_activations()...\n",
      "Warning: number of images is not a multiple of the batch size. Some samples are going to be ignored.\n"
     ]
    },
    {
     "name": "stderr",
     "output_type": "stream",
     "text": [
      "100%|██████████████████████████████████████████████████████████████████████████████████| 32/32 [00:08<00:00,  3.57it/s]\n"
     ]
    },
    {
     "name": "stdout",
     "output_type": "stream",
     "text": [
      "starting calculate_frechet_distance()...\n",
      "40 cw_div4_attack conv2-22 0.001 1.28088565958986\n",
      "['C:/temp_imgs/cifar/real/41/', 'C:/temp_imgs/cifar/fake/41/']\n",
      "starting calculate_fid_given_paths()...\n",
      "starting _compute_statistics_of_path()...\n",
      "starting calculate_activation_statistics()...\n",
      "starting get_activations()...\n",
      "Warning: number of images is not a multiple of the batch size. Some samples are going to be ignored.\n"
     ]
    },
    {
     "name": "stderr",
     "output_type": "stream",
     "text": [
      "100%|██████████████████████████████████████████████████████████████████████████████████| 32/32 [00:07<00:00,  4.20it/s]\n"
     ]
    },
    {
     "name": "stdout",
     "output_type": "stream",
     "text": [
      "starting _compute_statistics_of_path()...\n",
      "starting calculate_activation_statistics()...\n",
      "starting get_activations()...\n",
      "Warning: number of images is not a multiple of the batch size. Some samples are going to be ignored.\n"
     ]
    },
    {
     "name": "stderr",
     "output_type": "stream",
     "text": [
      "100%|██████████████████████████████████████████████████████████████████████████████████| 32/32 [00:08<00:00,  3.58it/s]\n"
     ]
    },
    {
     "name": "stdout",
     "output_type": "stream",
     "text": [
      "starting calculate_frechet_distance()...\n",
      "41 cw_div4_attack conv2-22 0.001 1.2805049852315806\n",
      "['C:/temp_imgs/cifar/real/42/', 'C:/temp_imgs/cifar/fake/42/']\n",
      "starting calculate_fid_given_paths()...\n",
      "starting _compute_statistics_of_path()...\n",
      "starting calculate_activation_statistics()...\n",
      "starting get_activations()...\n",
      "Warning: number of images is not a multiple of the batch size. Some samples are going to be ignored.\n"
     ]
    },
    {
     "name": "stderr",
     "output_type": "stream",
     "text": [
      "100%|██████████████████████████████████████████████████████████████████████████████████| 32/32 [00:07<00:00,  4.25it/s]\n"
     ]
    },
    {
     "name": "stdout",
     "output_type": "stream",
     "text": [
      "starting _compute_statistics_of_path()...\n",
      "starting calculate_activation_statistics()...\n",
      "starting get_activations()...\n",
      "Warning: number of images is not a multiple of the batch size. Some samples are going to be ignored.\n"
     ]
    },
    {
     "name": "stderr",
     "output_type": "stream",
     "text": [
      "100%|██████████████████████████████████████████████████████████████████████████████████| 32/32 [00:08<00:00,  3.55it/s]\n"
     ]
    },
    {
     "name": "stdout",
     "output_type": "stream",
     "text": [
      "starting calculate_frechet_distance()...\n",
      "42 cw_div4_attack conv2-22 0.01 1.2797416390524936\n",
      "['C:/temp_imgs/cifar/real/43/', 'C:/temp_imgs/cifar/fake/43/']\n",
      "starting calculate_fid_given_paths()...\n",
      "starting _compute_statistics_of_path()...\n",
      "starting calculate_activation_statistics()...\n",
      "starting get_activations()...\n",
      "Warning: number of images is not a multiple of the batch size. Some samples are going to be ignored.\n"
     ]
    },
    {
     "name": "stderr",
     "output_type": "stream",
     "text": [
      "100%|██████████████████████████████████████████████████████████████████████████████████| 32/32 [00:07<00:00,  4.20it/s]\n"
     ]
    },
    {
     "name": "stdout",
     "output_type": "stream",
     "text": [
      "starting _compute_statistics_of_path()...\n",
      "starting calculate_activation_statistics()...\n",
      "starting get_activations()...\n",
      "Warning: number of images is not a multiple of the batch size. Some samples are going to be ignored.\n"
     ]
    },
    {
     "name": "stderr",
     "output_type": "stream",
     "text": [
      "100%|██████████████████████████████████████████████████████████████████████████████████| 32/32 [00:08<00:00,  3.62it/s]\n"
     ]
    },
    {
     "name": "stdout",
     "output_type": "stream",
     "text": [
      "starting calculate_frechet_distance()...\n",
      "43 cw_div4_attack conv2-22 0.01 1.2805159678496834\n",
      "['C:/temp_imgs/cifar/real/44/', 'C:/temp_imgs/cifar/fake/44/']\n",
      "starting calculate_fid_given_paths()...\n",
      "starting _compute_statistics_of_path()...\n",
      "starting calculate_activation_statistics()...\n",
      "starting get_activations()...\n",
      "Warning: number of images is not a multiple of the batch size. Some samples are going to be ignored.\n"
     ]
    },
    {
     "name": "stderr",
     "output_type": "stream",
     "text": [
      "100%|██████████████████████████████████████████████████████████████████████████████████| 32/32 [00:07<00:00,  4.25it/s]\n"
     ]
    },
    {
     "name": "stdout",
     "output_type": "stream",
     "text": [
      "starting _compute_statistics_of_path()...\n",
      "starting calculate_activation_statistics()...\n",
      "starting get_activations()...\n",
      "Warning: number of images is not a multiple of the batch size. Some samples are going to be ignored.\n"
     ]
    },
    {
     "name": "stderr",
     "output_type": "stream",
     "text": [
      "100%|██████████████████████████████████████████████████████████████████████████████████| 32/32 [00:08<00:00,  3.68it/s]\n"
     ]
    },
    {
     "name": "stdout",
     "output_type": "stream",
     "text": [
      "starting calculate_frechet_distance()...\n",
      "44 cw_div4_attack conv2-22 0.01 1.2807631940904274\n",
      "['C:/temp_imgs/cifar/real/45/', 'C:/temp_imgs/cifar/fake/45/']\n",
      "starting calculate_fid_given_paths()...\n",
      "starting _compute_statistics_of_path()...\n",
      "starting calculate_activation_statistics()...\n",
      "starting get_activations()...\n",
      "Warning: number of images is not a multiple of the batch size. Some samples are going to be ignored.\n"
     ]
    },
    {
     "name": "stderr",
     "output_type": "stream",
     "text": [
      "100%|██████████████████████████████████████████████████████████████████████████████████| 32/32 [00:07<00:00,  4.21it/s]\n"
     ]
    },
    {
     "name": "stdout",
     "output_type": "stream",
     "text": [
      "starting _compute_statistics_of_path()...\n",
      "starting calculate_activation_statistics()...\n",
      "starting get_activations()...\n",
      "Warning: number of images is not a multiple of the batch size. Some samples are going to be ignored.\n"
     ]
    },
    {
     "name": "stderr",
     "output_type": "stream",
     "text": [
      "100%|██████████████████████████████████████████████████████████████████████████████████| 32/32 [00:08<00:00,  3.64it/s]\n"
     ]
    },
    {
     "name": "stdout",
     "output_type": "stream",
     "text": [
      "starting calculate_frechet_distance()...\n",
      "45 cw_div4_attack conv2-22 1 1.279581963174732\n",
      "['C:/temp_imgs/cifar/real/46/', 'C:/temp_imgs/cifar/fake/46/']\n",
      "starting calculate_fid_given_paths()...\n",
      "starting _compute_statistics_of_path()...\n",
      "starting calculate_activation_statistics()...\n",
      "starting get_activations()...\n",
      "Warning: number of images is not a multiple of the batch size. Some samples are going to be ignored.\n"
     ]
    },
    {
     "name": "stderr",
     "output_type": "stream",
     "text": [
      "100%|██████████████████████████████████████████████████████████████████████████████████| 32/32 [00:07<00:00,  4.21it/s]\n"
     ]
    },
    {
     "name": "stdout",
     "output_type": "stream",
     "text": [
      "starting _compute_statistics_of_path()...\n",
      "starting calculate_activation_statistics()...\n",
      "starting get_activations()...\n",
      "Warning: number of images is not a multiple of the batch size. Some samples are going to be ignored.\n"
     ]
    },
    {
     "name": "stderr",
     "output_type": "stream",
     "text": [
      "100%|██████████████████████████████████████████████████████████████████████████████████| 32/32 [00:08<00:00,  3.77it/s]\n"
     ]
    },
    {
     "name": "stdout",
     "output_type": "stream",
     "text": [
      "starting calculate_frechet_distance()...\n",
      "46 cw_div4_attack conv2-22 1 1.2803292132315458\n",
      "['C:/temp_imgs/cifar/real/47/', 'C:/temp_imgs/cifar/fake/47/']\n",
      "starting calculate_fid_given_paths()...\n",
      "starting _compute_statistics_of_path()...\n",
      "starting calculate_activation_statistics()...\n",
      "starting get_activations()...\n",
      "Warning: number of images is not a multiple of the batch size. Some samples are going to be ignored.\n"
     ]
    },
    {
     "name": "stderr",
     "output_type": "stream",
     "text": [
      "100%|██████████████████████████████████████████████████████████████████████████████████| 32/32 [00:07<00:00,  4.23it/s]\n"
     ]
    },
    {
     "name": "stdout",
     "output_type": "stream",
     "text": [
      "starting _compute_statistics_of_path()...\n",
      "starting calculate_activation_statistics()...\n",
      "starting get_activations()...\n",
      "Warning: number of images is not a multiple of the batch size. Some samples are going to be ignored.\n"
     ]
    },
    {
     "name": "stderr",
     "output_type": "stream",
     "text": [
      "100%|██████████████████████████████████████████████████████████████████████████████████| 32/32 [00:08<00:00,  3.61it/s]\n"
     ]
    },
    {
     "name": "stdout",
     "output_type": "stream",
     "text": [
      "starting calculate_frechet_distance()...\n",
      "47 cw_div4_attack conv2-22 1 1.2790850379471916\n",
      "['C:/temp_imgs/cifar/real/48/', 'C:/temp_imgs/cifar/fake/48/']\n",
      "starting calculate_fid_given_paths()...\n",
      "starting _compute_statistics_of_path()...\n",
      "starting calculate_activation_statistics()...\n",
      "starting get_activations()...\n",
      "Warning: number of images is not a multiple of the batch size. Some samples are going to be ignored.\n"
     ]
    },
    {
     "name": "stderr",
     "output_type": "stream",
     "text": [
      "100%|██████████████████████████████████████████████████████████████████████████████████| 32/32 [00:07<00:00,  4.23it/s]\n"
     ]
    },
    {
     "name": "stdout",
     "output_type": "stream",
     "text": [
      "starting _compute_statistics_of_path()...\n",
      "starting calculate_activation_statistics()...\n",
      "starting get_activations()...\n",
      "Warning: number of images is not a multiple of the batch size. Some samples are going to be ignored.\n"
     ]
    },
    {
     "name": "stderr",
     "output_type": "stream",
     "text": [
      "100%|██████████████████████████████████████████████████████████████████████████████████| 32/32 [00:08<00:00,  3.85it/s]\n"
     ]
    },
    {
     "name": "stdout",
     "output_type": "stream",
     "text": [
      "starting calculate_frechet_distance()...\n",
      "48 cw_div4_attack conv2-22 10 1.2797729489379046\n",
      "['C:/temp_imgs/cifar/real/49/', 'C:/temp_imgs/cifar/fake/49/']\n",
      "starting calculate_fid_given_paths()...\n",
      "starting _compute_statistics_of_path()...\n",
      "starting calculate_activation_statistics()...\n",
      "starting get_activations()...\n",
      "Warning: number of images is not a multiple of the batch size. Some samples are going to be ignored.\n"
     ]
    },
    {
     "name": "stderr",
     "output_type": "stream",
     "text": [
      "100%|██████████████████████████████████████████████████████████████████████████████████| 32/32 [00:07<00:00,  4.23it/s]\n"
     ]
    },
    {
     "name": "stdout",
     "output_type": "stream",
     "text": [
      "starting _compute_statistics_of_path()...\n",
      "starting calculate_activation_statistics()...\n",
      "starting get_activations()...\n",
      "Warning: number of images is not a multiple of the batch size. Some samples are going to be ignored.\n"
     ]
    },
    {
     "name": "stderr",
     "output_type": "stream",
     "text": [
      "100%|██████████████████████████████████████████████████████████████████████████████████| 32/32 [00:08<00:00,  3.79it/s]\n"
     ]
    },
    {
     "name": "stdout",
     "output_type": "stream",
     "text": [
      "starting calculate_frechet_distance()...\n",
      "49 cw_div4_attack conv2-22 10 1.283033988932564\n",
      "['C:/temp_imgs/cifar/real/50/', 'C:/temp_imgs/cifar/fake/50/']\n",
      "starting calculate_fid_given_paths()...\n",
      "starting _compute_statistics_of_path()...\n",
      "starting calculate_activation_statistics()...\n",
      "starting get_activations()...\n",
      "Warning: number of images is not a multiple of the batch size. Some samples are going to be ignored.\n"
     ]
    },
    {
     "name": "stderr",
     "output_type": "stream",
     "text": [
      "100%|██████████████████████████████████████████████████████████████████████████████████| 32/32 [00:07<00:00,  4.21it/s]\n"
     ]
    },
    {
     "name": "stdout",
     "output_type": "stream",
     "text": [
      "starting _compute_statistics_of_path()...\n",
      "starting calculate_activation_statistics()...\n",
      "starting get_activations()...\n",
      "Warning: number of images is not a multiple of the batch size. Some samples are going to be ignored.\n"
     ]
    },
    {
     "name": "stderr",
     "output_type": "stream",
     "text": [
      "100%|██████████████████████████████████████████████████████████████████████████████████| 32/32 [00:08<00:00,  3.74it/s]\n"
     ]
    },
    {
     "name": "stdout",
     "output_type": "stream",
     "text": [
      "starting calculate_frechet_distance()...\n",
      "50 cw_div4_attack conv2-22 10 1.281162395033096\n",
      "['C:/temp_imgs/cifar/real/51/', 'C:/temp_imgs/cifar/fake/51/']\n",
      "starting calculate_fid_given_paths()...\n",
      "starting _compute_statistics_of_path()...\n",
      "starting calculate_activation_statistics()...\n",
      "starting get_activations()...\n",
      "Warning: number of images is not a multiple of the batch size. Some samples are going to be ignored.\n"
     ]
    },
    {
     "name": "stderr",
     "output_type": "stream",
     "text": [
      "100%|██████████████████████████████████████████████████████████████████████████████████| 32/32 [00:07<00:00,  4.21it/s]\n"
     ]
    },
    {
     "name": "stdout",
     "output_type": "stream",
     "text": [
      "starting _compute_statistics_of_path()...\n",
      "starting calculate_activation_statistics()...\n",
      "starting get_activations()...\n",
      "Warning: number of images is not a multiple of the batch size. Some samples are going to be ignored.\n"
     ]
    },
    {
     "name": "stderr",
     "output_type": "stream",
     "text": [
      "100%|██████████████████████████████████████████████████████████████████████████████████| 32/32 [00:08<00:00,  3.72it/s]\n"
     ]
    },
    {
     "name": "stdout",
     "output_type": "stream",
     "text": [
      "starting calculate_frechet_distance()...\n",
      "51 cw_div4_attack conv2-22 100 1.2835564016275414\n",
      "['C:/temp_imgs/cifar/real/52/', 'C:/temp_imgs/cifar/fake/52/']\n",
      "starting calculate_fid_given_paths()...\n",
      "starting _compute_statistics_of_path()...\n",
      "starting calculate_activation_statistics()...\n",
      "starting get_activations()...\n",
      "Warning: number of images is not a multiple of the batch size. Some samples are going to be ignored.\n"
     ]
    },
    {
     "name": "stderr",
     "output_type": "stream",
     "text": [
      "100%|██████████████████████████████████████████████████████████████████████████████████| 32/32 [00:07<00:00,  4.23it/s]\n"
     ]
    },
    {
     "name": "stdout",
     "output_type": "stream",
     "text": [
      "starting _compute_statistics_of_path()...\n",
      "starting calculate_activation_statistics()...\n",
      "starting get_activations()...\n",
      "Warning: number of images is not a multiple of the batch size. Some samples are going to be ignored.\n"
     ]
    },
    {
     "name": "stderr",
     "output_type": "stream",
     "text": [
      "100%|██████████████████████████████████████████████████████████████████████████████████| 32/32 [00:08<00:00,  3.63it/s]\n"
     ]
    },
    {
     "name": "stdout",
     "output_type": "stream",
     "text": [
      "starting calculate_frechet_distance()...\n",
      "52 cw_div4_attack conv2-22 100 1.2795568859134114\n",
      "['C:/temp_imgs/cifar/real/53/', 'C:/temp_imgs/cifar/fake/53/']\n",
      "starting calculate_fid_given_paths()...\n",
      "starting _compute_statistics_of_path()...\n",
      "starting calculate_activation_statistics()...\n",
      "starting get_activations()...\n",
      "Warning: number of images is not a multiple of the batch size. Some samples are going to be ignored.\n"
     ]
    },
    {
     "name": "stderr",
     "output_type": "stream",
     "text": [
      "100%|██████████████████████████████████████████████████████████████████████████████████| 32/32 [00:07<00:00,  4.20it/s]\n"
     ]
    },
    {
     "name": "stdout",
     "output_type": "stream",
     "text": [
      "starting _compute_statistics_of_path()...\n",
      "starting calculate_activation_statistics()...\n",
      "starting get_activations()...\n",
      "Warning: number of images is not a multiple of the batch size. Some samples are going to be ignored.\n"
     ]
    },
    {
     "name": "stderr",
     "output_type": "stream",
     "text": [
      "100%|██████████████████████████████████████████████████████████████████████████████████| 32/32 [00:08<00:00,  3.80it/s]\n"
     ]
    },
    {
     "name": "stdout",
     "output_type": "stream",
     "text": [
      "starting calculate_frechet_distance()...\n",
      "53 cw_div4_attack conv2-22 100 1.282595036172554\n",
      "['C:/temp_imgs/cifar/real/54/', 'C:/temp_imgs/cifar/fake/54/']\n",
      "starting calculate_fid_given_paths()...\n",
      "starting _compute_statistics_of_path()...\n",
      "starting calculate_activation_statistics()...\n",
      "starting get_activations()...\n",
      "Warning: number of images is not a multiple of the batch size. Some samples are going to be ignored.\n"
     ]
    },
    {
     "name": "stderr",
     "output_type": "stream",
     "text": [
      "100%|██████████████████████████████████████████████████████████████████████████████████| 32/32 [00:07<00:00,  4.22it/s]\n"
     ]
    },
    {
     "name": "stdout",
     "output_type": "stream",
     "text": [
      "starting _compute_statistics_of_path()...\n",
      "starting calculate_activation_statistics()...\n",
      "starting get_activations()...\n",
      "Warning: number of images is not a multiple of the batch size. Some samples are going to be ignored.\n"
     ]
    },
    {
     "name": "stderr",
     "output_type": "stream",
     "text": [
      "100%|██████████████████████████████████████████████████████████████████████████████████| 32/32 [00:08<00:00,  3.59it/s]\n"
     ]
    },
    {
     "name": "stdout",
     "output_type": "stream",
     "text": [
      "starting calculate_frechet_distance()...\n",
      "54 cw_div4_attack conv1-33 0 1.2798815402210657\n",
      "['C:/temp_imgs/cifar/real/55/', 'C:/temp_imgs/cifar/fake/55/']\n",
      "starting calculate_fid_given_paths()...\n",
      "starting _compute_statistics_of_path()...\n",
      "starting calculate_activation_statistics()...\n",
      "starting get_activations()...\n",
      "Warning: number of images is not a multiple of the batch size. Some samples are going to be ignored.\n"
     ]
    },
    {
     "name": "stderr",
     "output_type": "stream",
     "text": [
      "100%|██████████████████████████████████████████████████████████████████████████████████| 32/32 [00:07<00:00,  4.24it/s]\n"
     ]
    },
    {
     "name": "stdout",
     "output_type": "stream",
     "text": [
      "starting _compute_statistics_of_path()...\n",
      "starting calculate_activation_statistics()...\n",
      "starting get_activations()...\n",
      "Warning: number of images is not a multiple of the batch size. Some samples are going to be ignored.\n"
     ]
    },
    {
     "name": "stderr",
     "output_type": "stream",
     "text": [
      "100%|██████████████████████████████████████████████████████████████████████████████████| 32/32 [00:08<00:00,  3.72it/s]\n"
     ]
    },
    {
     "name": "stdout",
     "output_type": "stream",
     "text": [
      "starting calculate_frechet_distance()...\n",
      "55 cw_div4_attack conv1-33 0 1.2805868355969545\n",
      "['C:/temp_imgs/cifar/real/56/', 'C:/temp_imgs/cifar/fake/56/']\n",
      "starting calculate_fid_given_paths()...\n",
      "starting _compute_statistics_of_path()...\n",
      "starting calculate_activation_statistics()...\n",
      "starting get_activations()...\n",
      "Warning: number of images is not a multiple of the batch size. Some samples are going to be ignored.\n"
     ]
    },
    {
     "name": "stderr",
     "output_type": "stream",
     "text": [
      "100%|██████████████████████████████████████████████████████████████████████████████████| 32/32 [00:07<00:00,  4.19it/s]\n"
     ]
    },
    {
     "name": "stdout",
     "output_type": "stream",
     "text": [
      "starting _compute_statistics_of_path()...\n",
      "starting calculate_activation_statistics()...\n",
      "starting get_activations()...\n",
      "Warning: number of images is not a multiple of the batch size. Some samples are going to be ignored.\n"
     ]
    },
    {
     "name": "stderr",
     "output_type": "stream",
     "text": [
      "100%|██████████████████████████████████████████████████████████████████████████████████| 32/32 [00:08<00:00,  3.44it/s]\n"
     ]
    },
    {
     "name": "stdout",
     "output_type": "stream",
     "text": [
      "starting calculate_frechet_distance()...\n",
      "56 cw_div4_attack conv1-33 0 1.2804985878769695\n",
      "['C:/temp_imgs/cifar/real/57/', 'C:/temp_imgs/cifar/fake/57/']\n",
      "starting calculate_fid_given_paths()...\n",
      "starting _compute_statistics_of_path()...\n",
      "starting calculate_activation_statistics()...\n",
      "starting get_activations()...\n",
      "Warning: number of images is not a multiple of the batch size. Some samples are going to be ignored.\n"
     ]
    },
    {
     "name": "stderr",
     "output_type": "stream",
     "text": [
      "100%|██████████████████████████████████████████████████████████████████████████████████| 32/32 [00:07<00:00,  4.26it/s]\n"
     ]
    },
    {
     "name": "stdout",
     "output_type": "stream",
     "text": [
      "starting _compute_statistics_of_path()...\n",
      "starting calculate_activation_statistics()...\n",
      "starting get_activations()...\n",
      "Warning: number of images is not a multiple of the batch size. Some samples are going to be ignored.\n"
     ]
    },
    {
     "name": "stderr",
     "output_type": "stream",
     "text": [
      "100%|██████████████████████████████████████████████████████████████████████████████████| 32/32 [00:08<00:00,  3.60it/s]\n"
     ]
    },
    {
     "name": "stdout",
     "output_type": "stream",
     "text": [
      "starting calculate_frechet_distance()...\n",
      "57 cw_div4_attack conv1-33 0.001 1.280113082632939\n",
      "['C:/temp_imgs/cifar/real/58/', 'C:/temp_imgs/cifar/fake/58/']\n",
      "starting calculate_fid_given_paths()...\n",
      "starting _compute_statistics_of_path()...\n",
      "starting calculate_activation_statistics()...\n",
      "starting get_activations()...\n",
      "Warning: number of images is not a multiple of the batch size. Some samples are going to be ignored.\n"
     ]
    },
    {
     "name": "stderr",
     "output_type": "stream",
     "text": [
      "100%|██████████████████████████████████████████████████████████████████████████████████| 32/32 [00:07<00:00,  4.21it/s]\n"
     ]
    },
    {
     "name": "stdout",
     "output_type": "stream",
     "text": [
      "starting _compute_statistics_of_path()...\n",
      "starting calculate_activation_statistics()...\n",
      "starting get_activations()...\n",
      "Warning: number of images is not a multiple of the batch size. Some samples are going to be ignored.\n"
     ]
    },
    {
     "name": "stderr",
     "output_type": "stream",
     "text": [
      "100%|██████████████████████████████████████████████████████████████████████████████████| 32/32 [00:08<00:00,  3.57it/s]\n"
     ]
    },
    {
     "name": "stdout",
     "output_type": "stream",
     "text": [
      "starting calculate_frechet_distance()...\n",
      "58 cw_div4_attack conv1-33 0.001 1.2804241080398064\n",
      "['C:/temp_imgs/cifar/real/59/', 'C:/temp_imgs/cifar/fake/59/']\n",
      "starting calculate_fid_given_paths()...\n",
      "starting _compute_statistics_of_path()...\n",
      "starting calculate_activation_statistics()...\n",
      "starting get_activations()...\n",
      "Warning: number of images is not a multiple of the batch size. Some samples are going to be ignored.\n"
     ]
    },
    {
     "name": "stderr",
     "output_type": "stream",
     "text": [
      "100%|██████████████████████████████████████████████████████████████████████████████████| 32/32 [00:07<00:00,  4.24it/s]\n"
     ]
    },
    {
     "name": "stdout",
     "output_type": "stream",
     "text": [
      "starting _compute_statistics_of_path()...\n",
      "starting calculate_activation_statistics()...\n",
      "starting get_activations()...\n",
      "Warning: number of images is not a multiple of the batch size. Some samples are going to be ignored.\n"
     ]
    },
    {
     "name": "stderr",
     "output_type": "stream",
     "text": [
      "100%|██████████████████████████████████████████████████████████████████████████████████| 32/32 [00:08<00:00,  3.49it/s]\n"
     ]
    },
    {
     "name": "stdout",
     "output_type": "stream",
     "text": [
      "starting calculate_frechet_distance()...\n",
      "59 cw_div4_attack conv1-33 0.001 1.2805145142535403\n",
      "['C:/temp_imgs/cifar/real/60/', 'C:/temp_imgs/cifar/fake/60/']\n",
      "starting calculate_fid_given_paths()...\n",
      "starting _compute_statistics_of_path()...\n",
      "starting calculate_activation_statistics()...\n",
      "starting get_activations()...\n",
      "Warning: number of images is not a multiple of the batch size. Some samples are going to be ignored.\n"
     ]
    },
    {
     "name": "stderr",
     "output_type": "stream",
     "text": [
      "100%|██████████████████████████████████████████████████████████████████████████████████| 32/32 [00:07<00:00,  4.24it/s]\n"
     ]
    },
    {
     "name": "stdout",
     "output_type": "stream",
     "text": [
      "starting _compute_statistics_of_path()...\n",
      "starting calculate_activation_statistics()...\n",
      "starting get_activations()...\n",
      "Warning: number of images is not a multiple of the batch size. Some samples are going to be ignored.\n"
     ]
    },
    {
     "name": "stderr",
     "output_type": "stream",
     "text": [
      "100%|██████████████████████████████████████████████████████████████████████████████████| 32/32 [00:08<00:00,  3.66it/s]\n"
     ]
    },
    {
     "name": "stdout",
     "output_type": "stream",
     "text": [
      "starting calculate_frechet_distance()...\n",
      "60 cw_div4_attack conv1-33 0.01 1.2802224286951835\n",
      "['C:/temp_imgs/cifar/real/61/', 'C:/temp_imgs/cifar/fake/61/']\n",
      "starting calculate_fid_given_paths()...\n",
      "starting _compute_statistics_of_path()...\n",
      "starting calculate_activation_statistics()...\n",
      "starting get_activations()...\n",
      "Warning: number of images is not a multiple of the batch size. Some samples are going to be ignored.\n"
     ]
    },
    {
     "name": "stderr",
     "output_type": "stream",
     "text": [
      "100%|██████████████████████████████████████████████████████████████████████████████████| 32/32 [00:07<00:00,  4.23it/s]\n"
     ]
    },
    {
     "name": "stdout",
     "output_type": "stream",
     "text": [
      "starting _compute_statistics_of_path()...\n",
      "starting calculate_activation_statistics()...\n",
      "starting get_activations()...\n",
      "Warning: number of images is not a multiple of the batch size. Some samples are going to be ignored.\n"
     ]
    },
    {
     "name": "stderr",
     "output_type": "stream",
     "text": [
      "100%|██████████████████████████████████████████████████████████████████████████████████| 32/32 [00:08<00:00,  3.81it/s]\n"
     ]
    },
    {
     "name": "stdout",
     "output_type": "stream",
     "text": [
      "starting calculate_frechet_distance()...\n",
      "61 cw_div4_attack conv1-33 0.01 1.2806921297778708\n",
      "['C:/temp_imgs/cifar/real/62/', 'C:/temp_imgs/cifar/fake/62/']\n",
      "starting calculate_fid_given_paths()...\n",
      "starting _compute_statistics_of_path()...\n",
      "starting calculate_activation_statistics()...\n",
      "starting get_activations()...\n",
      "Warning: number of images is not a multiple of the batch size. Some samples are going to be ignored.\n"
     ]
    },
    {
     "name": "stderr",
     "output_type": "stream",
     "text": [
      "100%|██████████████████████████████████████████████████████████████████████████████████| 32/32 [00:07<00:00,  4.11it/s]\n"
     ]
    },
    {
     "name": "stdout",
     "output_type": "stream",
     "text": [
      "starting _compute_statistics_of_path()...\n",
      "starting calculate_activation_statistics()...\n",
      "starting get_activations()...\n",
      "Warning: number of images is not a multiple of the batch size. Some samples are going to be ignored.\n"
     ]
    },
    {
     "name": "stderr",
     "output_type": "stream",
     "text": [
      "100%|██████████████████████████████████████████████████████████████████████████████████| 32/32 [00:08<00:00,  3.62it/s]\n"
     ]
    },
    {
     "name": "stdout",
     "output_type": "stream",
     "text": [
      "starting calculate_frechet_distance()...\n",
      "62 cw_div4_attack conv1-33 0.01 1.280661052695293\n",
      "['C:/temp_imgs/cifar/real/63/', 'C:/temp_imgs/cifar/fake/63/']\n",
      "starting calculate_fid_given_paths()...\n",
      "starting _compute_statistics_of_path()...\n",
      "starting calculate_activation_statistics()...\n",
      "starting get_activations()...\n",
      "Warning: number of images is not a multiple of the batch size. Some samples are going to be ignored.\n"
     ]
    },
    {
     "name": "stderr",
     "output_type": "stream",
     "text": [
      "100%|██████████████████████████████████████████████████████████████████████████████████| 32/32 [00:07<00:00,  4.24it/s]\n"
     ]
    },
    {
     "name": "stdout",
     "output_type": "stream",
     "text": [
      "starting _compute_statistics_of_path()...\n",
      "starting calculate_activation_statistics()...\n",
      "starting get_activations()...\n",
      "Warning: number of images is not a multiple of the batch size. Some samples are going to be ignored.\n"
     ]
    },
    {
     "name": "stderr",
     "output_type": "stream",
     "text": [
      "100%|██████████████████████████████████████████████████████████████████████████████████| 32/32 [00:08<00:00,  3.76it/s]\n"
     ]
    },
    {
     "name": "stdout",
     "output_type": "stream",
     "text": [
      "starting calculate_frechet_distance()...\n",
      "63 cw_div4_attack conv1-33 1 1.2798750152349572\n",
      "['C:/temp_imgs/cifar/real/64/', 'C:/temp_imgs/cifar/fake/64/']\n",
      "starting calculate_fid_given_paths()...\n",
      "starting _compute_statistics_of_path()...\n",
      "starting calculate_activation_statistics()...\n",
      "starting get_activations()...\n",
      "Warning: number of images is not a multiple of the batch size. Some samples are going to be ignored.\n"
     ]
    },
    {
     "name": "stderr",
     "output_type": "stream",
     "text": [
      "100%|██████████████████████████████████████████████████████████████████████████████████| 32/32 [00:07<00:00,  4.21it/s]\n"
     ]
    },
    {
     "name": "stdout",
     "output_type": "stream",
     "text": [
      "starting _compute_statistics_of_path()...\n",
      "starting calculate_activation_statistics()...\n",
      "starting get_activations()...\n",
      "Warning: number of images is not a multiple of the batch size. Some samples are going to be ignored.\n"
     ]
    },
    {
     "name": "stderr",
     "output_type": "stream",
     "text": [
      "100%|██████████████████████████████████████████████████████████████████████████████████| 32/32 [00:08<00:00,  3.76it/s]\n"
     ]
    },
    {
     "name": "stdout",
     "output_type": "stream",
     "text": [
      "starting calculate_frechet_distance()...\n",
      "64 cw_div4_attack conv1-33 1 1.2803451777014168\n",
      "['C:/temp_imgs/cifar/real/65/', 'C:/temp_imgs/cifar/fake/65/']\n",
      "starting calculate_fid_given_paths()...\n",
      "starting _compute_statistics_of_path()...\n",
      "starting calculate_activation_statistics()...\n",
      "starting get_activations()...\n",
      "Warning: number of images is not a multiple of the batch size. Some samples are going to be ignored.\n"
     ]
    },
    {
     "name": "stderr",
     "output_type": "stream",
     "text": [
      "100%|██████████████████████████████████████████████████████████████████████████████████| 32/32 [00:07<00:00,  4.21it/s]\n"
     ]
    },
    {
     "name": "stdout",
     "output_type": "stream",
     "text": [
      "starting _compute_statistics_of_path()...\n",
      "starting calculate_activation_statistics()...\n",
      "starting get_activations()...\n",
      "Warning: number of images is not a multiple of the batch size. Some samples are going to be ignored.\n"
     ]
    },
    {
     "name": "stderr",
     "output_type": "stream",
     "text": [
      "100%|██████████████████████████████████████████████████████████████████████████████████| 32/32 [00:08<00:00,  3.70it/s]\n"
     ]
    },
    {
     "name": "stdout",
     "output_type": "stream",
     "text": [
      "starting calculate_frechet_distance()...\n",
      "65 cw_div4_attack conv1-33 1 1.2801144100188695\n",
      "['C:/temp_imgs/cifar/real/66/', 'C:/temp_imgs/cifar/fake/66/']\n",
      "starting calculate_fid_given_paths()...\n",
      "starting _compute_statistics_of_path()...\n",
      "starting calculate_activation_statistics()...\n",
      "starting get_activations()...\n",
      "Warning: number of images is not a multiple of the batch size. Some samples are going to be ignored.\n"
     ]
    },
    {
     "name": "stderr",
     "output_type": "stream",
     "text": [
      "100%|██████████████████████████████████████████████████████████████████████████████████| 32/32 [00:07<00:00,  4.21it/s]\n"
     ]
    },
    {
     "name": "stdout",
     "output_type": "stream",
     "text": [
      "starting _compute_statistics_of_path()...\n",
      "starting calculate_activation_statistics()...\n",
      "starting get_activations()...\n",
      "Warning: number of images is not a multiple of the batch size. Some samples are going to be ignored.\n"
     ]
    },
    {
     "name": "stderr",
     "output_type": "stream",
     "text": [
      "100%|██████████████████████████████████████████████████████████████████████████████████| 32/32 [00:08<00:00,  3.76it/s]\n"
     ]
    },
    {
     "name": "stdout",
     "output_type": "stream",
     "text": [
      "starting calculate_frechet_distance()...\n",
      "66 cw_div4_attack conv1-33 10 1.2800063953830456\n",
      "['C:/temp_imgs/cifar/real/67/', 'C:/temp_imgs/cifar/fake/67/']\n",
      "starting calculate_fid_given_paths()...\n",
      "starting _compute_statistics_of_path()...\n",
      "starting calculate_activation_statistics()...\n",
      "starting get_activations()...\n",
      "Warning: number of images is not a multiple of the batch size. Some samples are going to be ignored.\n"
     ]
    },
    {
     "name": "stderr",
     "output_type": "stream",
     "text": [
      "100%|██████████████████████████████████████████████████████████████████████████████████| 32/32 [00:07<00:00,  4.24it/s]\n"
     ]
    },
    {
     "name": "stdout",
     "output_type": "stream",
     "text": [
      "starting _compute_statistics_of_path()...\n",
      "starting calculate_activation_statistics()...\n",
      "starting get_activations()...\n",
      "Warning: number of images is not a multiple of the batch size. Some samples are going to be ignored.\n"
     ]
    },
    {
     "name": "stderr",
     "output_type": "stream",
     "text": [
      "100%|██████████████████████████████████████████████████████████████████████████████████| 32/32 [00:08<00:00,  3.71it/s]\n"
     ]
    },
    {
     "name": "stdout",
     "output_type": "stream",
     "text": [
      "starting calculate_frechet_distance()...\n",
      "67 cw_div4_attack conv1-33 10 1.2797879246454689\n",
      "['C:/temp_imgs/cifar/real/68/', 'C:/temp_imgs/cifar/fake/68/']\n",
      "starting calculate_fid_given_paths()...\n",
      "starting _compute_statistics_of_path()...\n",
      "starting calculate_activation_statistics()...\n",
      "starting get_activations()...\n",
      "Warning: number of images is not a multiple of the batch size. Some samples are going to be ignored.\n"
     ]
    },
    {
     "name": "stderr",
     "output_type": "stream",
     "text": [
      "100%|██████████████████████████████████████████████████████████████████████████████████| 32/32 [00:07<00:00,  4.21it/s]\n"
     ]
    },
    {
     "name": "stdout",
     "output_type": "stream",
     "text": [
      "starting _compute_statistics_of_path()...\n",
      "starting calculate_activation_statistics()...\n",
      "starting get_activations()...\n",
      "Warning: number of images is not a multiple of the batch size. Some samples are going to be ignored.\n"
     ]
    },
    {
     "name": "stderr",
     "output_type": "stream",
     "text": [
      "100%|██████████████████████████████████████████████████████████████████████████████████| 32/32 [00:08<00:00,  3.61it/s]\n"
     ]
    },
    {
     "name": "stdout",
     "output_type": "stream",
     "text": [
      "starting calculate_frechet_distance()...\n",
      "68 cw_div4_attack conv1-33 10 1.279974976568098\n",
      "['C:/temp_imgs/cifar/real/69/', 'C:/temp_imgs/cifar/fake/69/']\n",
      "starting calculate_fid_given_paths()...\n",
      "starting _compute_statistics_of_path()...\n",
      "starting calculate_activation_statistics()...\n",
      "starting get_activations()...\n",
      "Warning: number of images is not a multiple of the batch size. Some samples are going to be ignored.\n"
     ]
    },
    {
     "name": "stderr",
     "output_type": "stream",
     "text": [
      "100%|██████████████████████████████████████████████████████████████████████████████████| 32/32 [00:07<00:00,  4.23it/s]\n"
     ]
    },
    {
     "name": "stdout",
     "output_type": "stream",
     "text": [
      "starting _compute_statistics_of_path()...\n",
      "starting calculate_activation_statistics()...\n",
      "starting get_activations()...\n",
      "Warning: number of images is not a multiple of the batch size. Some samples are going to be ignored.\n"
     ]
    },
    {
     "name": "stderr",
     "output_type": "stream",
     "text": [
      "100%|██████████████████████████████████████████████████████████████████████████████████| 32/32 [00:08<00:00,  3.59it/s]\n"
     ]
    },
    {
     "name": "stdout",
     "output_type": "stream",
     "text": [
      "starting calculate_frechet_distance()...\n",
      "69 cw_div4_attack conv1-33 100 1.2667280691805476\n",
      "['C:/temp_imgs/cifar/real/70/', 'C:/temp_imgs/cifar/fake/70/']\n",
      "starting calculate_fid_given_paths()...\n",
      "starting _compute_statistics_of_path()...\n",
      "starting calculate_activation_statistics()...\n",
      "starting get_activations()...\n",
      "Warning: number of images is not a multiple of the batch size. Some samples are going to be ignored.\n"
     ]
    },
    {
     "name": "stderr",
     "output_type": "stream",
     "text": [
      "100%|██████████████████████████████████████████████████████████████████████████████████| 32/32 [00:07<00:00,  4.23it/s]\n"
     ]
    },
    {
     "name": "stdout",
     "output_type": "stream",
     "text": [
      "starting _compute_statistics_of_path()...\n",
      "starting calculate_activation_statistics()...\n",
      "starting get_activations()...\n",
      "Warning: number of images is not a multiple of the batch size. Some samples are going to be ignored.\n"
     ]
    },
    {
     "name": "stderr",
     "output_type": "stream",
     "text": [
      "100%|██████████████████████████████████████████████████████████████████████████████████| 32/32 [00:08<00:00,  3.56it/s]\n"
     ]
    },
    {
     "name": "stdout",
     "output_type": "stream",
     "text": [
      "starting calculate_frechet_distance()...\n",
      "70 cw_div4_attack conv1-33 100 1.2614027907532874\n",
      "['C:/temp_imgs/cifar/real/71/', 'C:/temp_imgs/cifar/fake/71/']\n",
      "starting calculate_fid_given_paths()...\n",
      "starting _compute_statistics_of_path()...\n",
      "starting calculate_activation_statistics()...\n",
      "starting get_activations()...\n",
      "Warning: number of images is not a multiple of the batch size. Some samples are going to be ignored.\n"
     ]
    },
    {
     "name": "stderr",
     "output_type": "stream",
     "text": [
      "100%|██████████████████████████████████████████████████████████████████████████████████| 32/32 [00:07<00:00,  4.22it/s]\n"
     ]
    },
    {
     "name": "stdout",
     "output_type": "stream",
     "text": [
      "starting _compute_statistics_of_path()...\n",
      "starting calculate_activation_statistics()...\n",
      "starting get_activations()...\n",
      "Warning: number of images is not a multiple of the batch size. Some samples are going to be ignored.\n"
     ]
    },
    {
     "name": "stderr",
     "output_type": "stream",
     "text": [
      "100%|██████████████████████████████████████████████████████████████████████████████████| 32/32 [00:08<00:00,  3.59it/s]\n"
     ]
    },
    {
     "name": "stdout",
     "output_type": "stream",
     "text": [
      "starting calculate_frechet_distance()...\n",
      "71 cw_div4_attack conv1-33 100 1.2693452445974933\n",
      "['C:/temp_imgs/cifar/real/72/', 'C:/temp_imgs/cifar/fake/72/']\n",
      "starting calculate_fid_given_paths()...\n",
      "starting _compute_statistics_of_path()...\n",
      "starting calculate_activation_statistics()...\n",
      "starting get_activations()...\n",
      "Warning: number of images is not a multiple of the batch size. Some samples are going to be ignored.\n"
     ]
    },
    {
     "name": "stderr",
     "output_type": "stream",
     "text": [
      "100%|██████████████████████████████████████████████████████████████████████████████████| 32/32 [00:07<00:00,  4.20it/s]\n"
     ]
    },
    {
     "name": "stdout",
     "output_type": "stream",
     "text": [
      "starting _compute_statistics_of_path()...\n",
      "starting calculate_activation_statistics()...\n",
      "starting get_activations()...\n",
      "Warning: number of images is not a multiple of the batch size. Some samples are going to be ignored.\n"
     ]
    },
    {
     "name": "stderr",
     "output_type": "stream",
     "text": [
      "100%|██████████████████████████████████████████████████████████████████████████████████| 32/32 [00:08<00:00,  3.86it/s]\n"
     ]
    },
    {
     "name": "stdout",
     "output_type": "stream",
     "text": [
      "starting calculate_frechet_distance()...\n",
      "72 cw_div4_attack conv2-44 0 1.2800536010944925\n",
      "['C:/temp_imgs/cifar/real/73/', 'C:/temp_imgs/cifar/fake/73/']\n",
      "starting calculate_fid_given_paths()...\n",
      "starting _compute_statistics_of_path()...\n",
      "starting calculate_activation_statistics()...\n",
      "starting get_activations()...\n",
      "Warning: number of images is not a multiple of the batch size. Some samples are going to be ignored.\n"
     ]
    },
    {
     "name": "stderr",
     "output_type": "stream",
     "text": [
      "100%|██████████████████████████████████████████████████████████████████████████████████| 32/32 [00:07<00:00,  4.26it/s]\n"
     ]
    },
    {
     "name": "stdout",
     "output_type": "stream",
     "text": [
      "starting _compute_statistics_of_path()...\n",
      "starting calculate_activation_statistics()...\n",
      "starting get_activations()...\n",
      "Warning: number of images is not a multiple of the batch size. Some samples are going to be ignored.\n"
     ]
    },
    {
     "name": "stderr",
     "output_type": "stream",
     "text": [
      "100%|██████████████████████████████████████████████████████████████████████████████████| 32/32 [00:08<00:00,  3.89it/s]\n"
     ]
    },
    {
     "name": "stdout",
     "output_type": "stream",
     "text": [
      "starting calculate_frechet_distance()...\n",
      "73 cw_div4_attack conv2-44 0 1.2808660213866676\n",
      "['C:/temp_imgs/cifar/real/74/', 'C:/temp_imgs/cifar/fake/74/']\n",
      "starting calculate_fid_given_paths()...\n",
      "starting _compute_statistics_of_path()...\n",
      "starting calculate_activation_statistics()...\n",
      "starting get_activations()...\n",
      "Warning: number of images is not a multiple of the batch size. Some samples are going to be ignored.\n"
     ]
    },
    {
     "name": "stderr",
     "output_type": "stream",
     "text": [
      "100%|██████████████████████████████████████████████████████████████████████████████████| 32/32 [00:07<00:00,  4.19it/s]\n"
     ]
    },
    {
     "name": "stdout",
     "output_type": "stream",
     "text": [
      "starting _compute_statistics_of_path()...\n",
      "starting calculate_activation_statistics()...\n",
      "starting get_activations()...\n",
      "Warning: number of images is not a multiple of the batch size. Some samples are going to be ignored.\n"
     ]
    },
    {
     "name": "stderr",
     "output_type": "stream",
     "text": [
      "100%|██████████████████████████████████████████████████████████████████████████████████| 32/32 [00:08<00:00,  3.56it/s]\n"
     ]
    },
    {
     "name": "stdout",
     "output_type": "stream",
     "text": [
      "starting calculate_frechet_distance()...\n",
      "74 cw_div4_attack conv2-44 0 1.2806729547568234\n",
      "['C:/temp_imgs/cifar/real/75/', 'C:/temp_imgs/cifar/fake/75/']\n",
      "starting calculate_fid_given_paths()...\n",
      "starting _compute_statistics_of_path()...\n",
      "starting calculate_activation_statistics()...\n",
      "starting get_activations()...\n",
      "Warning: number of images is not a multiple of the batch size. Some samples are going to be ignored.\n"
     ]
    },
    {
     "name": "stderr",
     "output_type": "stream",
     "text": [
      "100%|██████████████████████████████████████████████████████████████████████████████████| 32/32 [00:07<00:00,  4.21it/s]\n"
     ]
    },
    {
     "name": "stdout",
     "output_type": "stream",
     "text": [
      "starting _compute_statistics_of_path()...\n",
      "starting calculate_activation_statistics()...\n",
      "starting get_activations()...\n",
      "Warning: number of images is not a multiple of the batch size. Some samples are going to be ignored.\n"
     ]
    },
    {
     "name": "stderr",
     "output_type": "stream",
     "text": [
      "100%|██████████████████████████████████████████████████████████████████████████████████| 32/32 [00:08<00:00,  3.58it/s]\n"
     ]
    },
    {
     "name": "stdout",
     "output_type": "stream",
     "text": [
      "starting calculate_frechet_distance()...\n",
      "75 cw_div4_attack conv2-44 0.001 1.2802508182572703\n",
      "['C:/temp_imgs/cifar/real/76/', 'C:/temp_imgs/cifar/fake/76/']\n",
      "starting calculate_fid_given_paths()...\n",
      "starting _compute_statistics_of_path()...\n",
      "starting calculate_activation_statistics()...\n",
      "starting get_activations()...\n",
      "Warning: number of images is not a multiple of the batch size. Some samples are going to be ignored.\n"
     ]
    },
    {
     "name": "stderr",
     "output_type": "stream",
     "text": [
      "100%|██████████████████████████████████████████████████████████████████████████████████| 32/32 [00:07<00:00,  4.21it/s]\n"
     ]
    },
    {
     "name": "stdout",
     "output_type": "stream",
     "text": [
      "starting _compute_statistics_of_path()...\n",
      "starting calculate_activation_statistics()...\n",
      "starting get_activations()...\n",
      "Warning: number of images is not a multiple of the batch size. Some samples are going to be ignored.\n"
     ]
    },
    {
     "name": "stderr",
     "output_type": "stream",
     "text": [
      "100%|██████████████████████████████████████████████████████████████████████████████████| 32/32 [00:08<00:00,  3.69it/s]\n"
     ]
    },
    {
     "name": "stdout",
     "output_type": "stream",
     "text": [
      "starting calculate_frechet_distance()...\n",
      "76 cw_div4_attack conv2-44 0.001 1.2805214164355794\n",
      "['C:/temp_imgs/cifar/real/77/', 'C:/temp_imgs/cifar/fake/77/']\n",
      "starting calculate_fid_given_paths()...\n",
      "starting _compute_statistics_of_path()...\n",
      "starting calculate_activation_statistics()...\n",
      "starting get_activations()...\n",
      "Warning: number of images is not a multiple of the batch size. Some samples are going to be ignored.\n"
     ]
    },
    {
     "name": "stderr",
     "output_type": "stream",
     "text": [
      "100%|██████████████████████████████████████████████████████████████████████████████████| 32/32 [00:07<00:00,  4.24it/s]\n"
     ]
    },
    {
     "name": "stdout",
     "output_type": "stream",
     "text": [
      "starting _compute_statistics_of_path()...\n",
      "starting calculate_activation_statistics()...\n",
      "starting get_activations()...\n",
      "Warning: number of images is not a multiple of the batch size. Some samples are going to be ignored.\n"
     ]
    },
    {
     "name": "stderr",
     "output_type": "stream",
     "text": [
      "100%|██████████████████████████████████████████████████████████████████████████████████| 32/32 [00:08<00:00,  3.51it/s]\n"
     ]
    },
    {
     "name": "stdout",
     "output_type": "stream",
     "text": [
      "starting calculate_frechet_distance()...\n",
      "77 cw_div4_attack conv2-44 0.001 1.2805649387524098\n",
      "['C:/temp_imgs/cifar/real/78/', 'C:/temp_imgs/cifar/fake/78/']\n",
      "starting calculate_fid_given_paths()...\n",
      "starting _compute_statistics_of_path()...\n",
      "starting calculate_activation_statistics()...\n",
      "starting get_activations()...\n",
      "Warning: number of images is not a multiple of the batch size. Some samples are going to be ignored.\n"
     ]
    },
    {
     "name": "stderr",
     "output_type": "stream",
     "text": [
      "100%|██████████████████████████████████████████████████████████████████████████████████| 32/32 [00:07<00:00,  4.25it/s]\n"
     ]
    },
    {
     "name": "stdout",
     "output_type": "stream",
     "text": [
      "starting _compute_statistics_of_path()...\n",
      "starting calculate_activation_statistics()...\n",
      "starting get_activations()...\n",
      "Warning: number of images is not a multiple of the batch size. Some samples are going to be ignored.\n"
     ]
    },
    {
     "name": "stderr",
     "output_type": "stream",
     "text": [
      "100%|██████████████████████████████████████████████████████████████████████████████████| 32/32 [00:08<00:00,  3.59it/s]\n"
     ]
    },
    {
     "name": "stdout",
     "output_type": "stream",
     "text": [
      "starting calculate_frechet_distance()...\n",
      "78 cw_div4_attack conv2-44 0.01 1.2803735396346354\n",
      "['C:/temp_imgs/cifar/real/79/', 'C:/temp_imgs/cifar/fake/79/']\n",
      "starting calculate_fid_given_paths()...\n",
      "starting _compute_statistics_of_path()...\n",
      "starting calculate_activation_statistics()...\n",
      "starting get_activations()...\n",
      "Warning: number of images is not a multiple of the batch size. Some samples are going to be ignored.\n"
     ]
    },
    {
     "name": "stderr",
     "output_type": "stream",
     "text": [
      "100%|██████████████████████████████████████████████████████████████████████████████████| 32/32 [00:07<00:00,  4.25it/s]\n"
     ]
    },
    {
     "name": "stdout",
     "output_type": "stream",
     "text": [
      "starting _compute_statistics_of_path()...\n",
      "starting calculate_activation_statistics()...\n",
      "starting get_activations()...\n",
      "Warning: number of images is not a multiple of the batch size. Some samples are going to be ignored.\n"
     ]
    },
    {
     "name": "stderr",
     "output_type": "stream",
     "text": [
      "100%|██████████████████████████████████████████████████████████████████████████████████| 32/32 [00:08<00:00,  3.76it/s]\n"
     ]
    },
    {
     "name": "stdout",
     "output_type": "stream",
     "text": [
      "starting calculate_frechet_distance()...\n",
      "79 cw_div4_attack conv2-44 0.01 1.2801016746262373\n",
      "['C:/temp_imgs/cifar/real/80/', 'C:/temp_imgs/cifar/fake/80/']\n",
      "starting calculate_fid_given_paths()...\n",
      "starting _compute_statistics_of_path()...\n",
      "starting calculate_activation_statistics()...\n",
      "starting get_activations()...\n",
      "Warning: number of images is not a multiple of the batch size. Some samples are going to be ignored.\n"
     ]
    },
    {
     "name": "stderr",
     "output_type": "stream",
     "text": [
      "100%|██████████████████████████████████████████████████████████████████████████████████| 32/32 [00:07<00:00,  4.20it/s]\n"
     ]
    },
    {
     "name": "stdout",
     "output_type": "stream",
     "text": [
      "starting _compute_statistics_of_path()...\n",
      "starting calculate_activation_statistics()...\n",
      "starting get_activations()...\n",
      "Warning: number of images is not a multiple of the batch size. Some samples are going to be ignored.\n"
     ]
    },
    {
     "name": "stderr",
     "output_type": "stream",
     "text": [
      "100%|██████████████████████████████████████████████████████████████████████████████████| 32/32 [00:08<00:00,  3.64it/s]\n"
     ]
    },
    {
     "name": "stdout",
     "output_type": "stream",
     "text": [
      "starting calculate_frechet_distance()...\n",
      "80 cw_div4_attack conv2-44 0.01 1.280498272518981\n",
      "['C:/temp_imgs/cifar/real/81/', 'C:/temp_imgs/cifar/fake/81/']\n",
      "starting calculate_fid_given_paths()...\n",
      "starting _compute_statistics_of_path()...\n",
      "starting calculate_activation_statistics()...\n",
      "starting get_activations()...\n",
      "Warning: number of images is not a multiple of the batch size. Some samples are going to be ignored.\n"
     ]
    },
    {
     "name": "stderr",
     "output_type": "stream",
     "text": [
      "100%|██████████████████████████████████████████████████████████████████████████████████| 32/32 [00:07<00:00,  4.25it/s]\n"
     ]
    },
    {
     "name": "stdout",
     "output_type": "stream",
     "text": [
      "starting _compute_statistics_of_path()...\n",
      "starting calculate_activation_statistics()...\n",
      "starting get_activations()...\n",
      "Warning: number of images is not a multiple of the batch size. Some samples are going to be ignored.\n"
     ]
    },
    {
     "name": "stderr",
     "output_type": "stream",
     "text": [
      "100%|██████████████████████████████████████████████████████████████████████████████████| 32/32 [00:08<00:00,  3.70it/s]\n"
     ]
    },
    {
     "name": "stdout",
     "output_type": "stream",
     "text": [
      "starting calculate_frechet_distance()...\n",
      "81 cw_div4_attack conv2-44 1 1.2797123190130584\n",
      "['C:/temp_imgs/cifar/real/82/', 'C:/temp_imgs/cifar/fake/82/']\n",
      "starting calculate_fid_given_paths()...\n",
      "starting _compute_statistics_of_path()...\n",
      "starting calculate_activation_statistics()...\n",
      "starting get_activations()...\n",
      "Warning: number of images is not a multiple of the batch size. Some samples are going to be ignored.\n"
     ]
    },
    {
     "name": "stderr",
     "output_type": "stream",
     "text": [
      "100%|██████████████████████████████████████████████████████████████████████████████████| 32/32 [00:07<00:00,  4.21it/s]\n"
     ]
    },
    {
     "name": "stdout",
     "output_type": "stream",
     "text": [
      "starting _compute_statistics_of_path()...\n",
      "starting calculate_activation_statistics()...\n",
      "starting get_activations()...\n",
      "Warning: number of images is not a multiple of the batch size. Some samples are going to be ignored.\n"
     ]
    },
    {
     "name": "stderr",
     "output_type": "stream",
     "text": [
      "100%|██████████████████████████████████████████████████████████████████████████████████| 32/32 [00:08<00:00,  3.65it/s]\n"
     ]
    },
    {
     "name": "stdout",
     "output_type": "stream",
     "text": [
      "starting calculate_frechet_distance()...\n",
      "82 cw_div4_attack conv2-44 1 1.280366687675898\n",
      "['C:/temp_imgs/cifar/real/83/', 'C:/temp_imgs/cifar/fake/83/']\n",
      "starting calculate_fid_given_paths()...\n",
      "starting _compute_statistics_of_path()...\n",
      "starting calculate_activation_statistics()...\n",
      "starting get_activations()...\n",
      "Warning: number of images is not a multiple of the batch size. Some samples are going to be ignored.\n"
     ]
    },
    {
     "name": "stderr",
     "output_type": "stream",
     "text": [
      "100%|██████████████████████████████████████████████████████████████████████████████████| 32/32 [00:07<00:00,  4.22it/s]\n"
     ]
    },
    {
     "name": "stdout",
     "output_type": "stream",
     "text": [
      "starting _compute_statistics_of_path()...\n",
      "starting calculate_activation_statistics()...\n",
      "starting get_activations()...\n",
      "Warning: number of images is not a multiple of the batch size. Some samples are going to be ignored.\n"
     ]
    },
    {
     "name": "stderr",
     "output_type": "stream",
     "text": [
      "100%|██████████████████████████████████████████████████████████████████████████████████| 32/32 [00:08<00:00,  3.60it/s]\n"
     ]
    },
    {
     "name": "stdout",
     "output_type": "stream",
     "text": [
      "starting calculate_frechet_distance()...\n",
      "83 cw_div4_attack conv2-44 1 1.2803220051793318\n",
      "['C:/temp_imgs/cifar/real/84/', 'C:/temp_imgs/cifar/fake/84/']\n",
      "starting calculate_fid_given_paths()...\n",
      "starting _compute_statistics_of_path()...\n",
      "starting calculate_activation_statistics()...\n",
      "starting get_activations()...\n",
      "Warning: number of images is not a multiple of the batch size. Some samples are going to be ignored.\n"
     ]
    },
    {
     "name": "stderr",
     "output_type": "stream",
     "text": [
      "100%|██████████████████████████████████████████████████████████████████████████████████| 32/32 [00:07<00:00,  4.21it/s]\n"
     ]
    },
    {
     "name": "stdout",
     "output_type": "stream",
     "text": [
      "starting _compute_statistics_of_path()...\n",
      "starting calculate_activation_statistics()...\n",
      "starting get_activations()...\n",
      "Warning: number of images is not a multiple of the batch size. Some samples are going to be ignored.\n"
     ]
    },
    {
     "name": "stderr",
     "output_type": "stream",
     "text": [
      "100%|██████████████████████████████████████████████████████████████████████████████████| 32/32 [00:08<00:00,  3.72it/s]\n"
     ]
    },
    {
     "name": "stdout",
     "output_type": "stream",
     "text": [
      "starting calculate_frechet_distance()...\n",
      "84 cw_div4_attack conv2-44 10 1.2808099736833096\n",
      "['C:/temp_imgs/cifar/real/85/', 'C:/temp_imgs/cifar/fake/85/']\n",
      "starting calculate_fid_given_paths()...\n",
      "starting _compute_statistics_of_path()...\n",
      "starting calculate_activation_statistics()...\n",
      "starting get_activations()...\n",
      "Warning: number of images is not a multiple of the batch size. Some samples are going to be ignored.\n"
     ]
    },
    {
     "name": "stderr",
     "output_type": "stream",
     "text": [
      "100%|██████████████████████████████████████████████████████████████████████████████████| 32/32 [00:07<00:00,  4.22it/s]\n"
     ]
    },
    {
     "name": "stdout",
     "output_type": "stream",
     "text": [
      "starting _compute_statistics_of_path()...\n",
      "starting calculate_activation_statistics()...\n",
      "starting get_activations()...\n",
      "Warning: number of images is not a multiple of the batch size. Some samples are going to be ignored.\n"
     ]
    },
    {
     "name": "stderr",
     "output_type": "stream",
     "text": [
      "100%|██████████████████████████████████████████████████████████████████████████████████| 32/32 [00:08<00:00,  3.62it/s]\n"
     ]
    },
    {
     "name": "stdout",
     "output_type": "stream",
     "text": [
      "starting calculate_frechet_distance()...\n",
      "85 cw_div4_attack conv2-44 10 1.2811348477981006\n",
      "['C:/temp_imgs/cifar/real/86/', 'C:/temp_imgs/cifar/fake/86/']\n",
      "starting calculate_fid_given_paths()...\n",
      "starting _compute_statistics_of_path()...\n",
      "starting calculate_activation_statistics()...\n",
      "starting get_activations()...\n",
      "Warning: number of images is not a multiple of the batch size. Some samples are going to be ignored.\n"
     ]
    },
    {
     "name": "stderr",
     "output_type": "stream",
     "text": [
      "100%|██████████████████████████████████████████████████████████████████████████████████| 32/32 [00:07<00:00,  4.21it/s]\n"
     ]
    },
    {
     "name": "stdout",
     "output_type": "stream",
     "text": [
      "starting _compute_statistics_of_path()...\n",
      "starting calculate_activation_statistics()...\n",
      "starting get_activations()...\n",
      "Warning: number of images is not a multiple of the batch size. Some samples are going to be ignored.\n"
     ]
    },
    {
     "name": "stderr",
     "output_type": "stream",
     "text": [
      "100%|██████████████████████████████████████████████████████████████████████████████████| 32/32 [00:08<00:00,  3.64it/s]\n"
     ]
    },
    {
     "name": "stdout",
     "output_type": "stream",
     "text": [
      "starting calculate_frechet_distance()...\n",
      "86 cw_div4_attack conv2-44 10 1.2795977787764272\n",
      "['C:/temp_imgs/cifar/real/87/', 'C:/temp_imgs/cifar/fake/87/']\n",
      "starting calculate_fid_given_paths()...\n",
      "starting _compute_statistics_of_path()...\n",
      "starting calculate_activation_statistics()...\n",
      "starting get_activations()...\n",
      "Warning: number of images is not a multiple of the batch size. Some samples are going to be ignored.\n"
     ]
    },
    {
     "name": "stderr",
     "output_type": "stream",
     "text": [
      "100%|██████████████████████████████████████████████████████████████████████████████████| 32/32 [00:07<00:00,  4.23it/s]\n"
     ]
    },
    {
     "name": "stdout",
     "output_type": "stream",
     "text": [
      "starting _compute_statistics_of_path()...\n",
      "starting calculate_activation_statistics()...\n",
      "starting get_activations()...\n",
      "Warning: number of images is not a multiple of the batch size. Some samples are going to be ignored.\n"
     ]
    },
    {
     "name": "stderr",
     "output_type": "stream",
     "text": [
      "100%|██████████████████████████████████████████████████████████████████████████████████| 32/32 [00:08<00:00,  3.54it/s]\n"
     ]
    },
    {
     "name": "stdout",
     "output_type": "stream",
     "text": [
      "starting calculate_frechet_distance()...\n",
      "87 cw_div4_attack conv2-44 100 1.2784252171170065\n",
      "['C:/temp_imgs/cifar/real/88/', 'C:/temp_imgs/cifar/fake/88/']\n",
      "starting calculate_fid_given_paths()...\n",
      "starting _compute_statistics_of_path()...\n",
      "starting calculate_activation_statistics()...\n",
      "starting get_activations()...\n",
      "Warning: number of images is not a multiple of the batch size. Some samples are going to be ignored.\n"
     ]
    },
    {
     "name": "stderr",
     "output_type": "stream",
     "text": [
      "100%|██████████████████████████████████████████████████████████████████████████████████| 32/32 [00:07<00:00,  4.21it/s]\n"
     ]
    },
    {
     "name": "stdout",
     "output_type": "stream",
     "text": [
      "starting _compute_statistics_of_path()...\n",
      "starting calculate_activation_statistics()...\n",
      "starting get_activations()...\n",
      "Warning: number of images is not a multiple of the batch size. Some samples are going to be ignored.\n"
     ]
    },
    {
     "name": "stderr",
     "output_type": "stream",
     "text": [
      "100%|██████████████████████████████████████████████████████████████████████████████████| 32/32 [00:08<00:00,  3.53it/s]\n"
     ]
    },
    {
     "name": "stdout",
     "output_type": "stream",
     "text": [
      "starting calculate_frechet_distance()...\n",
      "88 cw_div4_attack conv2-44 100 1.2694609381271864\n",
      "['C:/temp_imgs/cifar/real/89/', 'C:/temp_imgs/cifar/fake/89/']\n",
      "starting calculate_fid_given_paths()...\n",
      "starting _compute_statistics_of_path()...\n",
      "starting calculate_activation_statistics()...\n",
      "starting get_activations()...\n",
      "Warning: number of images is not a multiple of the batch size. Some samples are going to be ignored.\n"
     ]
    },
    {
     "name": "stderr",
     "output_type": "stream",
     "text": [
      "100%|██████████████████████████████████████████████████████████████████████████████████| 32/32 [00:07<00:00,  4.23it/s]\n"
     ]
    },
    {
     "name": "stdout",
     "output_type": "stream",
     "text": [
      "starting _compute_statistics_of_path()...\n",
      "starting calculate_activation_statistics()...\n",
      "starting get_activations()...\n",
      "Warning: number of images is not a multiple of the batch size. Some samples are going to be ignored.\n"
     ]
    },
    {
     "name": "stderr",
     "output_type": "stream",
     "text": [
      "100%|██████████████████████████████████████████████████████████████████████████████████| 32/32 [00:08<00:00,  3.78it/s]\n"
     ]
    },
    {
     "name": "stdout",
     "output_type": "stream",
     "text": [
      "starting calculate_frechet_distance()...\n",
      "89 cw_div4_attack conv2-44 100 1.269875110547936\n",
      "['C:/temp_imgs/cifar/real/90/', 'C:/temp_imgs/cifar/fake/90/']\n",
      "starting calculate_fid_given_paths()...\n",
      "starting _compute_statistics_of_path()...\n",
      "starting calculate_activation_statistics()...\n",
      "starting get_activations()...\n",
      "Warning: number of images is not a multiple of the batch size. Some samples are going to be ignored.\n"
     ]
    },
    {
     "name": "stderr",
     "output_type": "stream",
     "text": [
      "100%|██████████████████████████████████████████████████████████████████████████████████| 32/32 [00:07<00:00,  4.28it/s]\n"
     ]
    },
    {
     "name": "stdout",
     "output_type": "stream",
     "text": [
      "starting _compute_statistics_of_path()...\n",
      "starting calculate_activation_statistics()...\n",
      "starting get_activations()...\n",
      "Warning: number of images is not a multiple of the batch size. Some samples are going to be ignored.\n"
     ]
    },
    {
     "name": "stderr",
     "output_type": "stream",
     "text": [
      "100%|██████████████████████████████████████████████████████████████████████████████████| 32/32 [00:07<00:00,  4.22it/s]\n"
     ]
    },
    {
     "name": "stdout",
     "output_type": "stream",
     "text": [
      "starting calculate_frechet_distance()...\n",
      "90 cw_div4_attack linear-55 0 1.2802345317369195\n",
      "['C:/temp_imgs/cifar/real/91/', 'C:/temp_imgs/cifar/fake/91/']\n",
      "starting calculate_fid_given_paths()...\n",
      "starting _compute_statistics_of_path()...\n",
      "starting calculate_activation_statistics()...\n",
      "starting get_activations()...\n",
      "Warning: number of images is not a multiple of the batch size. Some samples are going to be ignored.\n"
     ]
    },
    {
     "name": "stderr",
     "output_type": "stream",
     "text": [
      "100%|██████████████████████████████████████████████████████████████████████████████████| 32/32 [00:07<00:00,  4.27it/s]\n"
     ]
    },
    {
     "name": "stdout",
     "output_type": "stream",
     "text": [
      "starting _compute_statistics_of_path()...\n",
      "starting calculate_activation_statistics()...\n",
      "starting get_activations()...\n",
      "Warning: number of images is not a multiple of the batch size. Some samples are going to be ignored.\n"
     ]
    },
    {
     "name": "stderr",
     "output_type": "stream",
     "text": [
      "100%|██████████████████████████████████████████████████████████████████████████████████| 32/32 [00:07<00:00,  4.19it/s]\n"
     ]
    },
    {
     "name": "stdout",
     "output_type": "stream",
     "text": [
      "starting calculate_frechet_distance()...\n",
      "91 cw_div4_attack linear-55 0 1.2805346819692027\n",
      "['C:/temp_imgs/cifar/real/92/', 'C:/temp_imgs/cifar/fake/92/']\n",
      "starting calculate_fid_given_paths()...\n",
      "starting _compute_statistics_of_path()...\n",
      "starting calculate_activation_statistics()...\n",
      "starting get_activations()...\n",
      "Warning: number of images is not a multiple of the batch size. Some samples are going to be ignored.\n"
     ]
    },
    {
     "name": "stderr",
     "output_type": "stream",
     "text": [
      "100%|██████████████████████████████████████████████████████████████████████████████████| 32/32 [00:07<00:00,  4.25it/s]\n"
     ]
    },
    {
     "name": "stdout",
     "output_type": "stream",
     "text": [
      "starting _compute_statistics_of_path()...\n",
      "starting calculate_activation_statistics()...\n",
      "starting get_activations()...\n",
      "Warning: number of images is not a multiple of the batch size. Some samples are going to be ignored.\n"
     ]
    },
    {
     "name": "stderr",
     "output_type": "stream",
     "text": [
      "100%|██████████████████████████████████████████████████████████████████████████████████| 32/32 [00:07<00:00,  4.24it/s]\n"
     ]
    },
    {
     "name": "stdout",
     "output_type": "stream",
     "text": [
      "starting calculate_frechet_distance()...\n",
      "92 cw_div4_attack linear-55 0 1.2807740788212127\n",
      "['C:/temp_imgs/cifar/real/93/', 'C:/temp_imgs/cifar/fake/93/']\n",
      "starting calculate_fid_given_paths()...\n",
      "starting _compute_statistics_of_path()...\n",
      "starting calculate_activation_statistics()...\n",
      "starting get_activations()...\n",
      "Warning: number of images is not a multiple of the batch size. Some samples are going to be ignored.\n"
     ]
    },
    {
     "name": "stderr",
     "output_type": "stream",
     "text": [
      "100%|██████████████████████████████████████████████████████████████████████████████████| 32/32 [00:07<00:00,  4.25it/s]\n"
     ]
    },
    {
     "name": "stdout",
     "output_type": "stream",
     "text": [
      "starting _compute_statistics_of_path()...\n",
      "starting calculate_activation_statistics()...\n",
      "starting get_activations()...\n",
      "Warning: number of images is not a multiple of the batch size. Some samples are going to be ignored.\n"
     ]
    },
    {
     "name": "stderr",
     "output_type": "stream",
     "text": [
      "100%|██████████████████████████████████████████████████████████████████████████████████| 32/32 [00:07<00:00,  4.21it/s]\n"
     ]
    },
    {
     "name": "stdout",
     "output_type": "stream",
     "text": [
      "starting calculate_frechet_distance()...\n",
      "93 cw_div4_attack linear-55 0.001 1.2801204851768024\n",
      "['C:/temp_imgs/cifar/real/94/', 'C:/temp_imgs/cifar/fake/94/']\n",
      "starting calculate_fid_given_paths()...\n",
      "starting _compute_statistics_of_path()...\n",
      "starting calculate_activation_statistics()...\n",
      "starting get_activations()...\n",
      "Warning: number of images is not a multiple of the batch size. Some samples are going to be ignored.\n"
     ]
    },
    {
     "name": "stderr",
     "output_type": "stream",
     "text": [
      "100%|██████████████████████████████████████████████████████████████████████████████████| 32/32 [00:07<00:00,  4.25it/s]\n"
     ]
    },
    {
     "name": "stdout",
     "output_type": "stream",
     "text": [
      "starting _compute_statistics_of_path()...\n",
      "starting calculate_activation_statistics()...\n",
      "starting get_activations()...\n",
      "Warning: number of images is not a multiple of the batch size. Some samples are going to be ignored.\n"
     ]
    },
    {
     "name": "stderr",
     "output_type": "stream",
     "text": [
      "100%|██████████████████████████████████████████████████████████████████████████████████| 32/32 [00:07<00:00,  4.22it/s]\n"
     ]
    },
    {
     "name": "stdout",
     "output_type": "stream",
     "text": [
      "starting calculate_frechet_distance()...\n",
      "94 cw_div4_attack linear-55 0.001 1.2807970107770137\n",
      "['C:/temp_imgs/cifar/real/95/', 'C:/temp_imgs/cifar/fake/95/']\n",
      "starting calculate_fid_given_paths()...\n",
      "starting _compute_statistics_of_path()...\n",
      "starting calculate_activation_statistics()...\n",
      "starting get_activations()...\n",
      "Warning: number of images is not a multiple of the batch size. Some samples are going to be ignored.\n"
     ]
    },
    {
     "name": "stderr",
     "output_type": "stream",
     "text": [
      "100%|██████████████████████████████████████████████████████████████████████████████████| 32/32 [00:07<00:00,  4.27it/s]\n"
     ]
    },
    {
     "name": "stdout",
     "output_type": "stream",
     "text": [
      "starting _compute_statistics_of_path()...\n",
      "starting calculate_activation_statistics()...\n",
      "starting get_activations()...\n",
      "Warning: number of images is not a multiple of the batch size. Some samples are going to be ignored.\n"
     ]
    },
    {
     "name": "stderr",
     "output_type": "stream",
     "text": [
      "100%|██████████████████████████████████████████████████████████████████████████████████| 32/32 [00:07<00:00,  4.18it/s]\n"
     ]
    },
    {
     "name": "stdout",
     "output_type": "stream",
     "text": [
      "starting calculate_frechet_distance()...\n",
      "95 cw_div4_attack linear-55 0.001 1.2805252940538647\n",
      "['C:/temp_imgs/cifar/real/96/', 'C:/temp_imgs/cifar/fake/96/']\n",
      "starting calculate_fid_given_paths()...\n",
      "starting _compute_statistics_of_path()...\n",
      "starting calculate_activation_statistics()...\n",
      "starting get_activations()...\n",
      "Warning: number of images is not a multiple of the batch size. Some samples are going to be ignored.\n"
     ]
    },
    {
     "name": "stderr",
     "output_type": "stream",
     "text": [
      "100%|██████████████████████████████████████████████████████████████████████████████████| 32/32 [00:07<00:00,  4.23it/s]\n"
     ]
    },
    {
     "name": "stdout",
     "output_type": "stream",
     "text": [
      "starting _compute_statistics_of_path()...\n",
      "starting calculate_activation_statistics()...\n",
      "starting get_activations()...\n",
      "Warning: number of images is not a multiple of the batch size. Some samples are going to be ignored.\n"
     ]
    },
    {
     "name": "stderr",
     "output_type": "stream",
     "text": [
      "100%|██████████████████████████████████████████████████████████████████████████████████| 32/32 [00:07<00:00,  4.18it/s]\n"
     ]
    },
    {
     "name": "stdout",
     "output_type": "stream",
     "text": [
      "starting calculate_frechet_distance()...\n",
      "96 cw_div4_attack linear-55 0.01 1.279750044518483\n",
      "['C:/temp_imgs/cifar/real/97/', 'C:/temp_imgs/cifar/fake/97/']\n",
      "starting calculate_fid_given_paths()...\n",
      "starting _compute_statistics_of_path()...\n",
      "starting calculate_activation_statistics()...\n",
      "starting get_activations()...\n",
      "Warning: number of images is not a multiple of the batch size. Some samples are going to be ignored.\n"
     ]
    },
    {
     "name": "stderr",
     "output_type": "stream",
     "text": [
      "100%|██████████████████████████████████████████████████████████████████████████████████| 32/32 [00:07<00:00,  4.24it/s]\n"
     ]
    },
    {
     "name": "stdout",
     "output_type": "stream",
     "text": [
      "starting _compute_statistics_of_path()...\n",
      "starting calculate_activation_statistics()...\n",
      "starting get_activations()...\n",
      "Warning: number of images is not a multiple of the batch size. Some samples are going to be ignored.\n"
     ]
    },
    {
     "name": "stderr",
     "output_type": "stream",
     "text": [
      "100%|██████████████████████████████████████████████████████████████████████████████████| 32/32 [00:07<00:00,  4.20it/s]\n"
     ]
    },
    {
     "name": "stdout",
     "output_type": "stream",
     "text": [
      "starting calculate_frechet_distance()...\n",
      "97 cw_div4_attack linear-55 0.01 1.2805468850211543\n",
      "['C:/temp_imgs/cifar/real/98/', 'C:/temp_imgs/cifar/fake/98/']\n",
      "starting calculate_fid_given_paths()...\n",
      "starting _compute_statistics_of_path()...\n",
      "starting calculate_activation_statistics()...\n",
      "starting get_activations()...\n",
      "Warning: number of images is not a multiple of the batch size. Some samples are going to be ignored.\n"
     ]
    },
    {
     "name": "stderr",
     "output_type": "stream",
     "text": [
      "100%|██████████████████████████████████████████████████████████████████████████████████| 32/32 [00:07<00:00,  4.24it/s]\n"
     ]
    },
    {
     "name": "stdout",
     "output_type": "stream",
     "text": [
      "starting _compute_statistics_of_path()...\n",
      "starting calculate_activation_statistics()...\n",
      "starting get_activations()...\n",
      "Warning: number of images is not a multiple of the batch size. Some samples are going to be ignored.\n"
     ]
    },
    {
     "name": "stderr",
     "output_type": "stream",
     "text": [
      "100%|██████████████████████████████████████████████████████████████████████████████████| 32/32 [00:08<00:00,  3.85it/s]\n"
     ]
    },
    {
     "name": "stdout",
     "output_type": "stream",
     "text": [
      "starting calculate_frechet_distance()...\n",
      "98 cw_div4_attack linear-55 0.01 1.280761282313983\n",
      "['C:/temp_imgs/cifar/real/99/', 'C:/temp_imgs/cifar/fake/99/']\n",
      "starting calculate_fid_given_paths()...\n",
      "starting _compute_statistics_of_path()...\n",
      "starting calculate_activation_statistics()...\n",
      "starting get_activations()...\n",
      "Warning: number of images is not a multiple of the batch size. Some samples are going to be ignored.\n"
     ]
    },
    {
     "name": "stderr",
     "output_type": "stream",
     "text": [
      "100%|██████████████████████████████████████████████████████████████████████████████████| 32/32 [00:07<00:00,  4.27it/s]\n"
     ]
    },
    {
     "name": "stdout",
     "output_type": "stream",
     "text": [
      "starting _compute_statistics_of_path()...\n",
      "starting calculate_activation_statistics()...\n",
      "starting get_activations()...\n",
      "Warning: number of images is not a multiple of the batch size. Some samples are going to be ignored.\n"
     ]
    },
    {
     "name": "stderr",
     "output_type": "stream",
     "text": [
      "100%|██████████████████████████████████████████████████████████████████████████████████| 32/32 [00:07<00:00,  4.19it/s]\n"
     ]
    },
    {
     "name": "stdout",
     "output_type": "stream",
     "text": [
      "starting calculate_frechet_distance()...\n",
      "99 cw_div4_attack linear-55 1 1.2799137967188872\n",
      "['C:/temp_imgs/cifar/real/100/', 'C:/temp_imgs/cifar/fake/100/']\n",
      "starting calculate_fid_given_paths()...\n",
      "starting _compute_statistics_of_path()...\n",
      "starting calculate_activation_statistics()...\n",
      "starting get_activations()...\n",
      "Warning: number of images is not a multiple of the batch size. Some samples are going to be ignored.\n"
     ]
    },
    {
     "name": "stderr",
     "output_type": "stream",
     "text": [
      "100%|██████████████████████████████████████████████████████████████████████████████████| 32/32 [00:07<00:00,  4.24it/s]\n"
     ]
    },
    {
     "name": "stdout",
     "output_type": "stream",
     "text": [
      "starting _compute_statistics_of_path()...\n",
      "starting calculate_activation_statistics()...\n",
      "starting get_activations()...\n",
      "Warning: number of images is not a multiple of the batch size. Some samples are going to be ignored.\n"
     ]
    },
    {
     "name": "stderr",
     "output_type": "stream",
     "text": [
      "100%|██████████████████████████████████████████████████████████████████████████████████| 32/32 [00:07<00:00,  4.18it/s]\n"
     ]
    },
    {
     "name": "stdout",
     "output_type": "stream",
     "text": [
      "starting calculate_frechet_distance()...\n",
      "100 cw_div4_attack linear-55 1 1.280547852294572\n",
      "['C:/temp_imgs/cifar/real/101/', 'C:/temp_imgs/cifar/fake/101/']\n",
      "starting calculate_fid_given_paths()...\n",
      "starting _compute_statistics_of_path()...\n",
      "starting calculate_activation_statistics()...\n",
      "starting get_activations()...\n",
      "Warning: number of images is not a multiple of the batch size. Some samples are going to be ignored.\n"
     ]
    },
    {
     "name": "stderr",
     "output_type": "stream",
     "text": [
      "100%|██████████████████████████████████████████████████████████████████████████████████| 32/32 [00:07<00:00,  4.23it/s]\n"
     ]
    },
    {
     "name": "stdout",
     "output_type": "stream",
     "text": [
      "starting _compute_statistics_of_path()...\n",
      "starting calculate_activation_statistics()...\n",
      "starting get_activations()...\n",
      "Warning: number of images is not a multiple of the batch size. Some samples are going to be ignored.\n"
     ]
    },
    {
     "name": "stderr",
     "output_type": "stream",
     "text": [
      "100%|██████████████████████████████████████████████████████████████████████████████████| 32/32 [00:07<00:00,  4.20it/s]\n"
     ]
    },
    {
     "name": "stdout",
     "output_type": "stream",
     "text": [
      "starting calculate_frechet_distance()...\n",
      "101 cw_div4_attack linear-55 1 1.2804911970158472\n",
      "['C:/temp_imgs/cifar/real/102/', 'C:/temp_imgs/cifar/fake/102/']\n",
      "starting calculate_fid_given_paths()...\n",
      "starting _compute_statistics_of_path()...\n",
      "starting calculate_activation_statistics()...\n",
      "starting get_activations()...\n",
      "Warning: number of images is not a multiple of the batch size. Some samples are going to be ignored.\n"
     ]
    },
    {
     "name": "stderr",
     "output_type": "stream",
     "text": [
      "100%|██████████████████████████████████████████████████████████████████████████████████| 32/32 [00:07<00:00,  4.25it/s]\n"
     ]
    },
    {
     "name": "stdout",
     "output_type": "stream",
     "text": [
      "starting _compute_statistics_of_path()...\n",
      "starting calculate_activation_statistics()...\n",
      "starting get_activations()...\n",
      "Warning: number of images is not a multiple of the batch size. Some samples are going to be ignored.\n"
     ]
    },
    {
     "name": "stderr",
     "output_type": "stream",
     "text": [
      "100%|██████████████████████████████████████████████████████████████████████████████████| 32/32 [00:07<00:00,  4.19it/s]\n"
     ]
    },
    {
     "name": "stdout",
     "output_type": "stream",
     "text": [
      "starting calculate_frechet_distance()...\n",
      "102 cw_div4_attack linear-55 10 1.280033714168326\n",
      "['C:/temp_imgs/cifar/real/103/', 'C:/temp_imgs/cifar/fake/103/']\n",
      "starting calculate_fid_given_paths()...\n",
      "starting _compute_statistics_of_path()...\n",
      "starting calculate_activation_statistics()...\n",
      "starting get_activations()...\n",
      "Warning: number of images is not a multiple of the batch size. Some samples are going to be ignored.\n"
     ]
    },
    {
     "name": "stderr",
     "output_type": "stream",
     "text": [
      "100%|██████████████████████████████████████████████████████████████████████████████████| 32/32 [00:07<00:00,  4.27it/s]\n"
     ]
    },
    {
     "name": "stdout",
     "output_type": "stream",
     "text": [
      "starting _compute_statistics_of_path()...\n",
      "starting calculate_activation_statistics()...\n",
      "starting get_activations()...\n",
      "Warning: number of images is not a multiple of the batch size. Some samples are going to be ignored.\n"
     ]
    },
    {
     "name": "stderr",
     "output_type": "stream",
     "text": [
      "100%|██████████████████████████████████████████████████████████████████████████████████| 32/32 [00:07<00:00,  4.19it/s]\n"
     ]
    },
    {
     "name": "stdout",
     "output_type": "stream",
     "text": [
      "starting calculate_frechet_distance()...\n",
      "103 cw_div4_attack linear-55 10 1.2806854924540247\n",
      "['C:/temp_imgs/cifar/real/104/', 'C:/temp_imgs/cifar/fake/104/']\n",
      "starting calculate_fid_given_paths()...\n",
      "starting _compute_statistics_of_path()...\n",
      "starting calculate_activation_statistics()...\n",
      "starting get_activations()...\n",
      "Warning: number of images is not a multiple of the batch size. Some samples are going to be ignored.\n"
     ]
    },
    {
     "name": "stderr",
     "output_type": "stream",
     "text": [
      "100%|██████████████████████████████████████████████████████████████████████████████████| 32/32 [00:07<00:00,  4.24it/s]\n"
     ]
    },
    {
     "name": "stdout",
     "output_type": "stream",
     "text": [
      "starting _compute_statistics_of_path()...\n",
      "starting calculate_activation_statistics()...\n",
      "starting get_activations()...\n",
      "Warning: number of images is not a multiple of the batch size. Some samples are going to be ignored.\n"
     ]
    },
    {
     "name": "stderr",
     "output_type": "stream",
     "text": [
      "100%|██████████████████████████████████████████████████████████████████████████████████| 32/32 [00:07<00:00,  4.20it/s]\n"
     ]
    },
    {
     "name": "stdout",
     "output_type": "stream",
     "text": [
      "starting calculate_frechet_distance()...\n",
      "104 cw_div4_attack linear-55 10 1.2810073585892956\n",
      "['C:/temp_imgs/cifar/real/105/', 'C:/temp_imgs/cifar/fake/105/']\n",
      "starting calculate_fid_given_paths()...\n",
      "starting _compute_statistics_of_path()...\n",
      "starting calculate_activation_statistics()...\n",
      "starting get_activations()...\n",
      "Warning: number of images is not a multiple of the batch size. Some samples are going to be ignored.\n"
     ]
    },
    {
     "name": "stderr",
     "output_type": "stream",
     "text": [
      "100%|██████████████████████████████████████████████████████████████████████████████████| 32/32 [00:07<00:00,  4.27it/s]\n"
     ]
    },
    {
     "name": "stdout",
     "output_type": "stream",
     "text": [
      "starting _compute_statistics_of_path()...\n",
      "starting calculate_activation_statistics()...\n",
      "starting get_activations()...\n",
      "Warning: number of images is not a multiple of the batch size. Some samples are going to be ignored.\n"
     ]
    },
    {
     "name": "stderr",
     "output_type": "stream",
     "text": [
      "100%|██████████████████████████████████████████████████████████████████████████████████| 32/32 [00:07<00:00,  4.21it/s]\n"
     ]
    },
    {
     "name": "stdout",
     "output_type": "stream",
     "text": [
      "starting calculate_frechet_distance()...\n",
      "105 cw_div4_attack linear-55 100 1.2798380004088785\n",
      "['C:/temp_imgs/cifar/real/106/', 'C:/temp_imgs/cifar/fake/106/']\n",
      "starting calculate_fid_given_paths()...\n",
      "starting _compute_statistics_of_path()...\n",
      "starting calculate_activation_statistics()...\n",
      "starting get_activations()...\n",
      "Warning: number of images is not a multiple of the batch size. Some samples are going to be ignored.\n"
     ]
    },
    {
     "name": "stderr",
     "output_type": "stream",
     "text": [
      "100%|██████████████████████████████████████████████████████████████████████████████████| 32/32 [00:07<00:00,  4.27it/s]\n"
     ]
    },
    {
     "name": "stdout",
     "output_type": "stream",
     "text": [
      "starting _compute_statistics_of_path()...\n",
      "starting calculate_activation_statistics()...\n",
      "starting get_activations()...\n",
      "Warning: number of images is not a multiple of the batch size. Some samples are going to be ignored.\n"
     ]
    },
    {
     "name": "stderr",
     "output_type": "stream",
     "text": [
      "100%|██████████████████████████████████████████████████████████████████████████████████| 32/32 [00:07<00:00,  4.21it/s]\n"
     ]
    },
    {
     "name": "stdout",
     "output_type": "stream",
     "text": [
      "starting calculate_frechet_distance()...\n",
      "106 cw_div4_attack linear-55 100 1.2798828662166069\n",
      "['C:/temp_imgs/cifar/real/107/', 'C:/temp_imgs/cifar/fake/107/']\n",
      "starting calculate_fid_given_paths()...\n",
      "starting _compute_statistics_of_path()...\n",
      "starting calculate_activation_statistics()...\n",
      "starting get_activations()...\n",
      "Warning: number of images is not a multiple of the batch size. Some samples are going to be ignored.\n"
     ]
    },
    {
     "name": "stderr",
     "output_type": "stream",
     "text": [
      "100%|██████████████████████████████████████████████████████████████████████████████████| 32/32 [00:07<00:00,  4.26it/s]\n"
     ]
    },
    {
     "name": "stdout",
     "output_type": "stream",
     "text": [
      "starting _compute_statistics_of_path()...\n",
      "starting calculate_activation_statistics()...\n",
      "starting get_activations()...\n",
      "Warning: number of images is not a multiple of the batch size. Some samples are going to be ignored.\n"
     ]
    },
    {
     "name": "stderr",
     "output_type": "stream",
     "text": [
      "100%|██████████████████████████████████████████████████████████████████████████████████| 32/32 [00:07<00:00,  4.21it/s]\n"
     ]
    },
    {
     "name": "stdout",
     "output_type": "stream",
     "text": [
      "starting calculate_frechet_distance()...\n",
      "107 cw_div4_attack linear-55 100 1.2800906243136458\n"
     ]
    }
   ],
   "source": [
    "for i in range(len(results)):\n",
    "    a = results[i]['attack'] \n",
    "    l = results[i]['layer']\n",
    "    rw = results[i]['regularization_weight']\n",
    "    # FID BLOCK\n",
    "    real_dir = img_root + \"real/\" + str(i) + \"/\"\n",
    "    fake_dir = img_root + \"fake/\" + str(i) + \"/\"\n",
    "    paths = [real_dir, fake_dir]\n",
    "    print(paths)\n",
    "    fid_2048 = calculate_fid_given_paths(paths, 64, '0', 2048)\n",
    "    results[i]['FID_score2048'] = fid_2048\n",
    "    print(i, a, l, rw, fid_2048) "
   ]
  },
  {
   "cell_type": "markdown",
   "metadata": {},
   "source": [
    "### FID w Dim = 64\n",
    "\n",
    "Attempting to use another dimensionality layer since I only have a 100 adversaries."
   ]
  },
  {
   "cell_type": "code",
   "execution_count": 42,
   "metadata": {},
   "outputs": [],
   "source": [
    "target_num = 64\n",
    "\n",
    "img_root = \"C:/temp_imgs/cifar/\"\n",
    "img_dirs = [\"real/\", \"fake/\"]\n",
    "\n",
    "# try:\n",
    "#     if os.path.exists(img_root):\n",
    "#         rmtree(img_root)\n",
    "for i in range(len(results)):   \n",
    "    for img_dir in img_dirs:\n",
    "        target_dir = img_root + img_dir + str(i) + \"/\"\n",
    "        if not os.path.exists(target_dir):\n",
    "            os.makedirs(target_dir)\n",
    "        if \"real/\" in img_dir:\n",
    "            for j, (img, lbl) in enumerate(zip(inputs, targets)):\n",
    "                filename = target_dir + \"img_\" + str(j) + \"_\" + str(lbl.item()) + \".png\"\n",
    "                torchvision.utils.save_image(img, filename)\n",
    "            imgs = glob.glob(target_dir + \"*.png\")\n",
    "            orig_imgs = imgs\n",
    "            while len(imgs) < target_num:\n",
    "                for img in orig_imgs:\n",
    "                    copy2(img, img.replace('.png', '_' + str(j) + '.png'))\n",
    "                    j += 1\n",
    "                imgs = glob.glob(target_dir + \"*.png\")    \n",
    "        if \"fake/\" in img_dir:\n",
    "            for j, (img, lbl) in enumerate(zip(results[i]['adversaries'], targets)):\n",
    "                filename = target_dir + \"img_\" + str(j) + \"_\" + str(lbl.item()) + \".png\"\n",
    "                torchvision.utils.save_image(img, filename)\n",
    "            imgs = glob.glob(target_dir + \"*.png\")\n",
    "            orig_imgs = imgs\n",
    "            while len(imgs) < target_num:\n",
    "                for img in orig_imgs:\n",
    "                    copy2(img, img.replace('.png', '_' + str(j) + '.png'))\n",
    "                    j += 1\n",
    "                imgs = glob.glob(target_dir + \"*.png\") \n",
    "# except:\n",
    "#     rmtree(img_root)"
   ]
  },
  {
   "cell_type": "code",
   "execution_count": 43,
   "metadata": {
    "scrolled": false
   },
   "outputs": [
    {
     "name": "stdout",
     "output_type": "stream",
     "text": [
      "starting calculate_fid_given_paths()...\n",
      "starting _compute_statistics_of_path()...\n",
      "starting calculate_activation_statistics()...\n",
      "starting get_activations()...\n",
      "Warning: number of images is not a multiple of the batch size. Some samples are going to be ignored.\n"
     ]
    },
    {
     "name": "stderr",
     "output_type": "stream",
     "text": [
      "100%|████████████████████████████████████████████████████████████████████████████████████| 1/1 [00:00<00:00, 16.54it/s]\n"
     ]
    },
    {
     "name": "stdout",
     "output_type": "stream",
     "text": [
      "starting _compute_statistics_of_path()...\n",
      "starting calculate_activation_statistics()...\n",
      "starting get_activations()...\n",
      "Warning: number of images is not a multiple of the batch size. Some samples are going to be ignored.\n"
     ]
    },
    {
     "name": "stderr",
     "output_type": "stream",
     "text": [
      "100%|████████████████████████████████████████████████████████████████████████████████████| 1/1 [00:00<00:00, 14.20it/s]\n"
     ]
    },
    {
     "name": "stdout",
     "output_type": "stream",
     "text": [
      "starting calculate_frechet_distance()...\n",
      "0.005359960354269735\n"
     ]
    }
   ],
   "source": [
    "img_root = \"C:/temp_imgs/cifar/\"\n",
    "img_dirs = [\"real/\", \"fake/\"]\n",
    "\n",
    "i=0\n",
    "real_dir = img_root + \"real/\" + str(i) + \"/\"\n",
    "fake_dir = img_root + \"fake/\" + str(i) + \"/\"\n",
    "paths = [real_dir, fake_dir]\n",
    "fid_value = calculate_fid_given_paths(paths, 64, '0', 64)\n",
    "print(fid_value)"
   ]
  },
  {
   "cell_type": "code",
   "execution_count": 20,
   "metadata": {},
   "outputs": [
    {
     "name": "stdout",
     "output_type": "stream",
     "text": [
      "['C:/temp_imgs/cifar/real/0/', 'C:/temp_imgs/cifar/fake/0/']\n",
      "starting calculate_fid_given_paths()...\n",
      "starting _compute_statistics_of_path()...\n",
      "starting calculate_activation_statistics()...\n",
      "starting get_activations()...\n",
      "Warning: number of images is not a multiple of the batch size. Some samples are going to be ignored.\n"
     ]
    },
    {
     "name": "stderr",
     "output_type": "stream",
     "text": [
      "100%|████████████████████████████████████████████████████████████████████████████████████| 1/1 [00:00<00:00, 14.61it/s]\n"
     ]
    },
    {
     "name": "stdout",
     "output_type": "stream",
     "text": [
      "starting _compute_statistics_of_path()...\n",
      "starting calculate_activation_statistics()...\n",
      "starting get_activations()...\n",
      "Warning: number of images is not a multiple of the batch size. Some samples are going to be ignored.\n"
     ]
    },
    {
     "name": "stderr",
     "output_type": "stream",
     "text": [
      "100%|████████████████████████████████████████████████████████████████████████████████████| 1/1 [00:00<00:00, 14.19it/s]\n"
     ]
    },
    {
     "name": "stdout",
     "output_type": "stream",
     "text": [
      "starting calculate_frechet_distance()...\n",
      "0 cw_div4_attack conv1-0 0 0.005359799718625252\n",
      "['C:/temp_imgs/cifar/real/1/', 'C:/temp_imgs/cifar/fake/1/']\n",
      "starting calculate_fid_given_paths()...\n",
      "starting _compute_statistics_of_path()...\n",
      "starting calculate_activation_statistics()...\n",
      "starting get_activations()...\n",
      "Warning: number of images is not a multiple of the batch size. Some samples are going to be ignored.\n"
     ]
    },
    {
     "name": "stderr",
     "output_type": "stream",
     "text": [
      "100%|████████████████████████████████████████████████████████████████████████████████████| 1/1 [00:00<00:00, 14.66it/s]\n"
     ]
    },
    {
     "name": "stdout",
     "output_type": "stream",
     "text": [
      "starting _compute_statistics_of_path()...\n",
      "starting calculate_activation_statistics()...\n",
      "starting get_activations()...\n",
      "Warning: number of images is not a multiple of the batch size. Some samples are going to be ignored.\n"
     ]
    },
    {
     "name": "stderr",
     "output_type": "stream",
     "text": [
      "100%|████████████████████████████████████████████████████████████████████████████████████| 1/1 [00:00<00:00, 15.98it/s]\n"
     ]
    },
    {
     "name": "stdout",
     "output_type": "stream",
     "text": [
      "starting calculate_frechet_distance()...\n",
      "1 cw_div4_attack conv1-0 0 0.005359894075476008\n",
      "['C:/temp_imgs/cifar/real/2/', 'C:/temp_imgs/cifar/fake/2/']\n",
      "starting calculate_fid_given_paths()...\n",
      "starting _compute_statistics_of_path()...\n",
      "starting calculate_activation_statistics()...\n",
      "starting get_activations()...\n",
      "Warning: number of images is not a multiple of the batch size. Some samples are going to be ignored.\n"
     ]
    },
    {
     "name": "stderr",
     "output_type": "stream",
     "text": [
      "100%|████████████████████████████████████████████████████████████████████████████████████| 1/1 [00:00<00:00, 15.99it/s]\n"
     ]
    },
    {
     "name": "stdout",
     "output_type": "stream",
     "text": [
      "starting _compute_statistics_of_path()...\n",
      "starting calculate_activation_statistics()...\n",
      "starting get_activations()...\n",
      "Warning: number of images is not a multiple of the batch size. Some samples are going to be ignored.\n"
     ]
    },
    {
     "name": "stderr",
     "output_type": "stream",
     "text": [
      "100%|████████████████████████████████████████████████████████████████████████████████████| 1/1 [00:00<00:00, 18.22it/s]\n"
     ]
    },
    {
     "name": "stdout",
     "output_type": "stream",
     "text": [
      "starting calculate_frechet_distance()...\n",
      "2 cw_div4_attack conv1-0 0 0.005359873531124732\n",
      "['C:/temp_imgs/cifar/real/3/', 'C:/temp_imgs/cifar/fake/3/']\n",
      "starting calculate_fid_given_paths()...\n",
      "starting _compute_statistics_of_path()...\n",
      "starting calculate_activation_statistics()...\n",
      "starting get_activations()...\n",
      "Warning: number of images is not a multiple of the batch size. Some samples are going to be ignored.\n"
     ]
    },
    {
     "name": "stderr",
     "output_type": "stream",
     "text": [
      "100%|████████████████████████████████████████████████████████████████████████████████████| 1/1 [00:00<00:00, 16.59it/s]\n"
     ]
    },
    {
     "name": "stdout",
     "output_type": "stream",
     "text": [
      "starting _compute_statistics_of_path()...\n",
      "starting calculate_activation_statistics()...\n",
      "starting get_activations()...\n",
      "Warning: number of images is not a multiple of the batch size. Some samples are going to be ignored.\n"
     ]
    },
    {
     "name": "stderr",
     "output_type": "stream",
     "text": [
      "100%|████████████████████████████████████████████████████████████████████████████████████| 1/1 [00:00<00:00, 15.11it/s]\n"
     ]
    },
    {
     "name": "stdout",
     "output_type": "stream",
     "text": [
      "starting calculate_frechet_distance()...\n",
      "3 cw_div4_attack conv1-0 0.001 0.005359760277610305\n",
      "['C:/temp_imgs/cifar/real/4/', 'C:/temp_imgs/cifar/fake/4/']\n",
      "starting calculate_fid_given_paths()...\n",
      "starting _compute_statistics_of_path()...\n",
      "starting calculate_activation_statistics()...\n",
      "starting get_activations()...\n",
      "Warning: number of images is not a multiple of the batch size. Some samples are going to be ignored.\n"
     ]
    },
    {
     "name": "stderr",
     "output_type": "stream",
     "text": [
      "100%|████████████████████████████████████████████████████████████████████████████████████| 1/1 [00:00<00:00, 14.22it/s]\n"
     ]
    },
    {
     "name": "stdout",
     "output_type": "stream",
     "text": [
      "starting _compute_statistics_of_path()...\n",
      "starting calculate_activation_statistics()...\n",
      "starting get_activations()...\n",
      "Warning: number of images is not a multiple of the batch size. Some samples are going to be ignored.\n"
     ]
    },
    {
     "name": "stderr",
     "output_type": "stream",
     "text": [
      "100%|████████████████████████████████████████████████████████████████████████████████████| 1/1 [00:00<00:00, 16.03it/s]\n"
     ]
    },
    {
     "name": "stdout",
     "output_type": "stream",
     "text": [
      "starting calculate_frechet_distance()...\n",
      "4 cw_div4_attack conv1-0 0.001 0.005359914866906116\n",
      "['C:/temp_imgs/cifar/real/5/', 'C:/temp_imgs/cifar/fake/5/']\n",
      "starting calculate_fid_given_paths()...\n",
      "starting _compute_statistics_of_path()...\n",
      "starting calculate_activation_statistics()...\n",
      "starting get_activations()...\n",
      "Warning: number of images is not a multiple of the batch size. Some samples are going to be ignored.\n"
     ]
    },
    {
     "name": "stderr",
     "output_type": "stream",
     "text": [
      "100%|████████████████████████████████████████████████████████████████████████████████████| 1/1 [00:00<00:00, 16.05it/s]\n"
     ]
    },
    {
     "name": "stdout",
     "output_type": "stream",
     "text": [
      "starting _compute_statistics_of_path()...\n",
      "starting calculate_activation_statistics()...\n",
      "starting get_activations()...\n",
      "Warning: number of images is not a multiple of the batch size. Some samples are going to be ignored.\n"
     ]
    },
    {
     "name": "stderr",
     "output_type": "stream",
     "text": [
      "100%|████████████████████████████████████████████████████████████████████████████████████| 1/1 [00:00<00:00, 16.04it/s]\n"
     ]
    },
    {
     "name": "stdout",
     "output_type": "stream",
     "text": [
      "starting calculate_frechet_distance()...\n",
      "5 cw_div4_attack conv1-0 0.001 0.0053599634292803115\n",
      "['C:/temp_imgs/cifar/real/6/', 'C:/temp_imgs/cifar/fake/6/']\n",
      "starting calculate_fid_given_paths()...\n",
      "starting _compute_statistics_of_path()...\n",
      "starting calculate_activation_statistics()...\n",
      "starting get_activations()...\n",
      "Warning: number of images is not a multiple of the batch size. Some samples are going to be ignored.\n"
     ]
    },
    {
     "name": "stderr",
     "output_type": "stream",
     "text": [
      "100%|████████████████████████████████████████████████████████████████████████████████████| 1/1 [00:00<00:00, 16.42it/s]\n"
     ]
    },
    {
     "name": "stdout",
     "output_type": "stream",
     "text": [
      "starting _compute_statistics_of_path()...\n",
      "starting calculate_activation_statistics()...\n",
      "starting get_activations()...\n",
      "Warning: number of images is not a multiple of the batch size. Some samples are going to be ignored.\n"
     ]
    },
    {
     "name": "stderr",
     "output_type": "stream",
     "text": [
      "100%|████████████████████████████████████████████████████████████████████████████████████| 1/1 [00:00<00:00, 16.43it/s]\n"
     ]
    },
    {
     "name": "stdout",
     "output_type": "stream",
     "text": [
      "starting calculate_frechet_distance()...\n",
      "6 cw_div4_attack conv1-0 0.01 0.005359768503172105\n",
      "['C:/temp_imgs/cifar/real/7/', 'C:/temp_imgs/cifar/fake/7/']\n",
      "starting calculate_fid_given_paths()...\n",
      "starting _compute_statistics_of_path()...\n",
      "starting calculate_activation_statistics()...\n",
      "starting get_activations()...\n",
      "Warning: number of images is not a multiple of the batch size. Some samples are going to be ignored.\n"
     ]
    },
    {
     "name": "stderr",
     "output_type": "stream",
     "text": [
      "100%|████████████████████████████████████████████████████████████████████████████████████| 1/1 [00:00<00:00, 16.57it/s]\n"
     ]
    },
    {
     "name": "stdout",
     "output_type": "stream",
     "text": [
      "starting _compute_statistics_of_path()...\n",
      "starting calculate_activation_statistics()...\n",
      "starting get_activations()...\n",
      "Warning: number of images is not a multiple of the batch size. Some samples are going to be ignored.\n"
     ]
    },
    {
     "name": "stderr",
     "output_type": "stream",
     "text": [
      "100%|████████████████████████████████████████████████████████████████████████████████████| 1/1 [00:00<00:00, 16.41it/s]\n"
     ]
    },
    {
     "name": "stdout",
     "output_type": "stream",
     "text": [
      "starting calculate_frechet_distance()...\n",
      "7 cw_div4_attack conv1-0 0.01 0.005359913520243973\n",
      "['C:/temp_imgs/cifar/real/8/', 'C:/temp_imgs/cifar/fake/8/']\n",
      "starting calculate_fid_given_paths()...\n",
      "starting _compute_statistics_of_path()...\n",
      "starting calculate_activation_statistics()...\n",
      "starting get_activations()...\n",
      "Warning: number of images is not a multiple of the batch size. Some samples are going to be ignored.\n"
     ]
    },
    {
     "name": "stderr",
     "output_type": "stream",
     "text": [
      "100%|████████████████████████████████████████████████████████████████████████████████████| 1/1 [00:00<00:00, 14.58it/s]\n"
     ]
    },
    {
     "name": "stdout",
     "output_type": "stream",
     "text": [
      "starting _compute_statistics_of_path()...\n",
      "starting calculate_activation_statistics()...\n",
      "starting get_activations()...\n",
      "Warning: number of images is not a multiple of the batch size. Some samples are going to be ignored.\n"
     ]
    },
    {
     "name": "stderr",
     "output_type": "stream",
     "text": [
      "100%|████████████████████████████████████████████████████████████████████████████████████| 1/1 [00:00<00:00, 14.21it/s]\n"
     ]
    },
    {
     "name": "stdout",
     "output_type": "stream",
     "text": [
      "starting calculate_frechet_distance()...\n",
      "8 cw_div4_attack conv1-0 0.01 0.0053599646228764\n",
      "['C:/temp_imgs/cifar/real/9/', 'C:/temp_imgs/cifar/fake/9/']\n",
      "starting calculate_fid_given_paths()...\n",
      "starting _compute_statistics_of_path()...\n",
      "starting calculate_activation_statistics()...\n",
      "starting get_activations()...\n",
      "Warning: number of images is not a multiple of the batch size. Some samples are going to be ignored.\n"
     ]
    },
    {
     "name": "stderr",
     "output_type": "stream",
     "text": [
      "100%|████████████████████████████████████████████████████████████████████████████████████| 1/1 [00:00<00:00, 16.58it/s]\n"
     ]
    },
    {
     "name": "stdout",
     "output_type": "stream",
     "text": [
      "starting _compute_statistics_of_path()...\n",
      "starting calculate_activation_statistics()...\n",
      "starting get_activations()...\n",
      "Warning: number of images is not a multiple of the batch size. Some samples are going to be ignored.\n"
     ]
    },
    {
     "name": "stderr",
     "output_type": "stream",
     "text": [
      "100%|████████████████████████████████████████████████████████████████████████████████████| 1/1 [00:00<00:00, 16.56it/s]\n"
     ]
    },
    {
     "name": "stdout",
     "output_type": "stream",
     "text": [
      "starting calculate_frechet_distance()...\n",
      "9 cw_div4_attack conv1-0 1 0.0053597151720671254\n",
      "['C:/temp_imgs/cifar/real/10/', 'C:/temp_imgs/cifar/fake/10/']\n",
      "starting calculate_fid_given_paths()...\n",
      "starting _compute_statistics_of_path()...\n",
      "starting calculate_activation_statistics()...\n",
      "starting get_activations()...\n",
      "Warning: number of images is not a multiple of the batch size. Some samples are going to be ignored.\n"
     ]
    },
    {
     "name": "stderr",
     "output_type": "stream",
     "text": [
      "100%|████████████████████████████████████████████████████████████████████████████████████| 1/1 [00:00<00:00, 19.10it/s]\n"
     ]
    },
    {
     "name": "stdout",
     "output_type": "stream",
     "text": [
      "starting _compute_statistics_of_path()...\n",
      "starting calculate_activation_statistics()...\n",
      "starting get_activations()...\n",
      "Warning: number of images is not a multiple of the batch size. Some samples are going to be ignored.\n"
     ]
    },
    {
     "name": "stderr",
     "output_type": "stream",
     "text": [
      "100%|████████████████████████████████████████████████████████████████████████████████████| 1/1 [00:00<00:00, 16.58it/s]\n"
     ]
    },
    {
     "name": "stdout",
     "output_type": "stream",
     "text": [
      "starting calculate_frechet_distance()...\n",
      "10 cw_div4_attack conv1-0 1 0.005359903557820694\n",
      "['C:/temp_imgs/cifar/real/11/', 'C:/temp_imgs/cifar/fake/11/']\n",
      "starting calculate_fid_given_paths()...\n",
      "starting _compute_statistics_of_path()...\n",
      "starting calculate_activation_statistics()...\n",
      "starting get_activations()...\n",
      "Warning: number of images is not a multiple of the batch size. Some samples are going to be ignored.\n"
     ]
    },
    {
     "name": "stderr",
     "output_type": "stream",
     "text": [
      "100%|████████████████████████████████████████████████████████████████████████████████████| 1/1 [00:00<00:00, 16.57it/s]\n"
     ]
    },
    {
     "name": "stdout",
     "output_type": "stream",
     "text": [
      "starting _compute_statistics_of_path()...\n",
      "starting calculate_activation_statistics()...\n",
      "starting get_activations()...\n",
      "Warning: number of images is not a multiple of the batch size. Some samples are going to be ignored.\n"
     ]
    },
    {
     "name": "stderr",
     "output_type": "stream",
     "text": [
      "100%|████████████████████████████████████████████████████████████████████████████████████| 1/1 [00:00<00:00, 16.61it/s]\n"
     ]
    },
    {
     "name": "stdout",
     "output_type": "stream",
     "text": [
      "starting calculate_frechet_distance()...\n",
      "11 cw_div4_attack conv1-0 1 0.005359945473792476\n",
      "['C:/temp_imgs/cifar/real/12/', 'C:/temp_imgs/cifar/fake/12/']\n",
      "starting calculate_fid_given_paths()...\n",
      "starting _compute_statistics_of_path()...\n",
      "starting calculate_activation_statistics()...\n",
      "starting get_activations()...\n",
      "Warning: number of images is not a multiple of the batch size. Some samples are going to be ignored.\n"
     ]
    },
    {
     "name": "stderr",
     "output_type": "stream",
     "text": [
      "100%|████████████████████████████████████████████████████████████████████████████████████| 1/1 [00:00<00:00, 15.75it/s]\n"
     ]
    },
    {
     "name": "stdout",
     "output_type": "stream",
     "text": [
      "starting _compute_statistics_of_path()...\n",
      "starting calculate_activation_statistics()...\n",
      "starting get_activations()...\n",
      "Warning: number of images is not a multiple of the batch size. Some samples are going to be ignored.\n"
     ]
    },
    {
     "name": "stderr",
     "output_type": "stream",
     "text": [
      "100%|████████████████████████████████████████████████████████████████████████████████████| 1/1 [00:00<00:00, 17.13it/s]\n"
     ]
    },
    {
     "name": "stdout",
     "output_type": "stream",
     "text": [
      "starting calculate_frechet_distance()...\n",
      "12 cw_div4_attack conv1-0 10 0.00535978277307711\n",
      "['C:/temp_imgs/cifar/real/13/', 'C:/temp_imgs/cifar/fake/13/']\n",
      "starting calculate_fid_given_paths()...\n",
      "starting _compute_statistics_of_path()...\n",
      "starting calculate_activation_statistics()...\n",
      "starting get_activations()...\n",
      "Warning: number of images is not a multiple of the batch size. Some samples are going to be ignored.\n"
     ]
    },
    {
     "name": "stderr",
     "output_type": "stream",
     "text": [
      "100%|████████████████████████████████████████████████████████████████████████████████████| 1/1 [00:00<00:00, 16.80it/s]\n"
     ]
    },
    {
     "name": "stdout",
     "output_type": "stream",
     "text": [
      "starting _compute_statistics_of_path()...\n",
      "starting calculate_activation_statistics()...\n",
      "starting get_activations()...\n",
      "Warning: number of images is not a multiple of the batch size. Some samples are going to be ignored.\n"
     ]
    },
    {
     "name": "stderr",
     "output_type": "stream",
     "text": [
      "100%|████████████████████████████████████████████████████████████████████████████████████| 1/1 [00:00<00:00, 16.59it/s]\n"
     ]
    },
    {
     "name": "stdout",
     "output_type": "stream",
     "text": [
      "starting calculate_frechet_distance()...\n",
      "13 cw_div4_attack conv1-0 10 0.005359856046894074\n",
      "['C:/temp_imgs/cifar/real/14/', 'C:/temp_imgs/cifar/fake/14/']\n",
      "starting calculate_fid_given_paths()...\n",
      "starting _compute_statistics_of_path()...\n",
      "starting calculate_activation_statistics()...\n",
      "starting get_activations()...\n",
      "Warning: number of images is not a multiple of the batch size. Some samples are going to be ignored.\n"
     ]
    },
    {
     "name": "stderr",
     "output_type": "stream",
     "text": [
      "100%|████████████████████████████████████████████████████████████████████████████████████| 1/1 [00:00<00:00, 16.56it/s]\n"
     ]
    },
    {
     "name": "stdout",
     "output_type": "stream",
     "text": [
      "starting _compute_statistics_of_path()...\n",
      "starting calculate_activation_statistics()...\n",
      "starting get_activations()...\n",
      "Warning: number of images is not a multiple of the batch size. Some samples are going to be ignored.\n"
     ]
    },
    {
     "name": "stderr",
     "output_type": "stream",
     "text": [
      "100%|████████████████████████████████████████████████████████████████████████████████████| 1/1 [00:00<00:00, 16.56it/s]\n"
     ]
    },
    {
     "name": "stdout",
     "output_type": "stream",
     "text": [
      "starting calculate_frechet_distance()...\n",
      "14 cw_div4_attack conv1-0 10 0.005359892888749953\n",
      "['C:/temp_imgs/cifar/real/15/', 'C:/temp_imgs/cifar/fake/15/']\n",
      "starting calculate_fid_given_paths()...\n",
      "starting _compute_statistics_of_path()...\n",
      "starting calculate_activation_statistics()...\n",
      "starting get_activations()...\n",
      "Warning: number of images is not a multiple of the batch size. Some samples are going to be ignored.\n"
     ]
    },
    {
     "name": "stderr",
     "output_type": "stream",
     "text": [
      "100%|████████████████████████████████████████████████████████████████████████████████████| 1/1 [00:00<00:00, 17.13it/s]\n"
     ]
    },
    {
     "name": "stdout",
     "output_type": "stream",
     "text": [
      "starting _compute_statistics_of_path()...\n",
      "starting calculate_activation_statistics()...\n",
      "starting get_activations()...\n",
      "Warning: number of images is not a multiple of the batch size. Some samples are going to be ignored.\n"
     ]
    },
    {
     "name": "stderr",
     "output_type": "stream",
     "text": [
      "100%|████████████████████████████████████████████████████████████████████████████████████| 1/1 [00:00<00:00, 14.60it/s]\n"
     ]
    },
    {
     "name": "stdout",
     "output_type": "stream",
     "text": [
      "starting calculate_frechet_distance()...\n",
      "15 cw_div4_attack conv1-0 100 0.005360083377085081\n",
      "['C:/temp_imgs/cifar/real/16/', 'C:/temp_imgs/cifar/fake/16/']\n",
      "starting calculate_fid_given_paths()...\n",
      "starting _compute_statistics_of_path()...\n",
      "starting calculate_activation_statistics()...\n",
      "starting get_activations()...\n",
      "Warning: number of images is not a multiple of the batch size. Some samples are going to be ignored.\n"
     ]
    },
    {
     "name": "stderr",
     "output_type": "stream",
     "text": [
      "100%|████████████████████████████████████████████████████████████████████████████████████| 1/1 [00:00<00:00, 16.53it/s]\n"
     ]
    },
    {
     "name": "stdout",
     "output_type": "stream",
     "text": [
      "starting _compute_statistics_of_path()...\n",
      "starting calculate_activation_statistics()...\n",
      "starting get_activations()...\n",
      "Warning: number of images is not a multiple of the batch size. Some samples are going to be ignored.\n"
     ]
    },
    {
     "name": "stderr",
     "output_type": "stream",
     "text": [
      "100%|████████████████████████████████████████████████████████████████████████████████████| 1/1 [00:00<00:00, 16.62it/s]\n"
     ]
    },
    {
     "name": "stdout",
     "output_type": "stream",
     "text": [
      "starting calculate_frechet_distance()...\n",
      "16 cw_div4_attack conv1-0 100 0.005360241232570362\n",
      "['C:/temp_imgs/cifar/real/17/', 'C:/temp_imgs/cifar/fake/17/']\n",
      "starting calculate_fid_given_paths()...\n",
      "starting _compute_statistics_of_path()...\n",
      "starting calculate_activation_statistics()...\n",
      "starting get_activations()...\n",
      "Warning: number of images is not a multiple of the batch size. Some samples are going to be ignored.\n"
     ]
    },
    {
     "name": "stderr",
     "output_type": "stream",
     "text": [
      "100%|████████████████████████████████████████████████████████████████████████████████████| 1/1 [00:00<00:00, 17.11it/s]\n"
     ]
    },
    {
     "name": "stdout",
     "output_type": "stream",
     "text": [
      "starting _compute_statistics_of_path()...\n",
      "starting calculate_activation_statistics()...\n",
      "starting get_activations()...\n",
      "Warning: number of images is not a multiple of the batch size. Some samples are going to be ignored.\n"
     ]
    },
    {
     "name": "stderr",
     "output_type": "stream",
     "text": [
      "100%|████████████████████████████████████████████████████████████████████████████████████| 1/1 [00:00<00:00, 16.59it/s]\n"
     ]
    },
    {
     "name": "stdout",
     "output_type": "stream",
     "text": [
      "starting calculate_frechet_distance()...\n",
      "17 cw_div4_attack conv1-0 100 0.005360175332470884\n",
      "['C:/temp_imgs/cifar/real/18/', 'C:/temp_imgs/cifar/fake/18/']\n",
      "starting calculate_fid_given_paths()...\n",
      "starting _compute_statistics_of_path()...\n",
      "starting calculate_activation_statistics()...\n",
      "starting get_activations()...\n",
      "Warning: number of images is not a multiple of the batch size. Some samples are going to be ignored.\n"
     ]
    },
    {
     "name": "stderr",
     "output_type": "stream",
     "text": [
      "100%|████████████████████████████████████████████████████████████████████████████████████| 1/1 [00:00<00:00, 16.58it/s]\n"
     ]
    },
    {
     "name": "stdout",
     "output_type": "stream",
     "text": [
      "starting _compute_statistics_of_path()...\n",
      "starting calculate_activation_statistics()...\n",
      "starting get_activations()...\n",
      "Warning: number of images is not a multiple of the batch size. Some samples are going to be ignored.\n"
     ]
    },
    {
     "name": "stderr",
     "output_type": "stream",
     "text": [
      "100%|████████████████████████████████████████████████████████████████████████████████████| 1/1 [00:00<00:00, 14.66it/s]\n"
     ]
    },
    {
     "name": "stdout",
     "output_type": "stream",
     "text": [
      "starting calculate_frechet_distance()...\n",
      "18 cw_div4_attack conv1-11 0 0.005359762201751571\n",
      "['C:/temp_imgs/cifar/real/19/', 'C:/temp_imgs/cifar/fake/19/']\n",
      "starting calculate_fid_given_paths()...\n",
      "starting _compute_statistics_of_path()...\n",
      "starting calculate_activation_statistics()...\n",
      "starting get_activations()...\n",
      "Warning: number of images is not a multiple of the batch size. Some samples are going to be ignored.\n"
     ]
    },
    {
     "name": "stderr",
     "output_type": "stream",
     "text": [
      "100%|████████████████████████████████████████████████████████████████████████████████████| 1/1 [00:00<00:00, 16.56it/s]\n"
     ]
    },
    {
     "name": "stdout",
     "output_type": "stream",
     "text": [
      "starting _compute_statistics_of_path()...\n",
      "starting calculate_activation_statistics()...\n",
      "starting get_activations()...\n",
      "Warning: number of images is not a multiple of the batch size. Some samples are going to be ignored.\n"
     ]
    },
    {
     "name": "stderr",
     "output_type": "stream",
     "text": [
      "100%|████████████████████████████████████████████████████████████████████████████████████| 1/1 [00:00<00:00, 16.46it/s]\n"
     ]
    },
    {
     "name": "stdout",
     "output_type": "stream",
     "text": [
      "starting calculate_frechet_distance()...\n",
      "19 cw_div4_attack conv1-11 0 0.005359951359910714\n",
      "['C:/temp_imgs/cifar/real/20/', 'C:/temp_imgs/cifar/fake/20/']\n",
      "starting calculate_fid_given_paths()...\n",
      "starting _compute_statistics_of_path()...\n",
      "starting calculate_activation_statistics()...\n",
      "starting get_activations()...\n",
      "Warning: number of images is not a multiple of the batch size. Some samples are going to be ignored.\n"
     ]
    },
    {
     "name": "stderr",
     "output_type": "stream",
     "text": [
      "100%|████████████████████████████████████████████████████████████████████████████████████| 1/1 [00:00<00:00, 16.76it/s]\n"
     ]
    },
    {
     "name": "stdout",
     "output_type": "stream",
     "text": [
      "starting _compute_statistics_of_path()...\n",
      "starting calculate_activation_statistics()...\n",
      "starting get_activations()...\n",
      "Warning: number of images is not a multiple of the batch size. Some samples are going to be ignored.\n"
     ]
    },
    {
     "name": "stderr",
     "output_type": "stream",
     "text": [
      "100%|████████████████████████████████████████████████████████████████████████████████████| 1/1 [00:00<00:00, 16.54it/s]\n"
     ]
    },
    {
     "name": "stdout",
     "output_type": "stream",
     "text": [
      "starting calculate_frechet_distance()...\n",
      "20 cw_div4_attack conv1-11 0 0.005359909472710632\n",
      "['C:/temp_imgs/cifar/real/21/', 'C:/temp_imgs/cifar/fake/21/']\n",
      "starting calculate_fid_given_paths()...\n",
      "starting _compute_statistics_of_path()...\n",
      "starting calculate_activation_statistics()...\n",
      "starting get_activations()...\n",
      "Warning: number of images is not a multiple of the batch size. Some samples are going to be ignored.\n"
     ]
    },
    {
     "name": "stderr",
     "output_type": "stream",
     "text": [
      "100%|████████████████████████████████████████████████████████████████████████████████████| 1/1 [00:00<00:00, 17.08it/s]\n"
     ]
    },
    {
     "name": "stdout",
     "output_type": "stream",
     "text": [
      "starting _compute_statistics_of_path()...\n",
      "starting calculate_activation_statistics()...\n",
      "starting get_activations()...\n",
      "Warning: number of images is not a multiple of the batch size. Some samples are going to be ignored.\n"
     ]
    },
    {
     "name": "stderr",
     "output_type": "stream",
     "text": [
      "100%|████████████████████████████████████████████████████████████████████████████████████| 1/1 [00:00<00:00, 19.08it/s]\n"
     ]
    },
    {
     "name": "stdout",
     "output_type": "stream",
     "text": [
      "starting calculate_frechet_distance()...\n",
      "21 cw_div4_attack conv1-11 0.001 0.0053597713589291765\n",
      "['C:/temp_imgs/cifar/real/22/', 'C:/temp_imgs/cifar/fake/22/']\n",
      "starting calculate_fid_given_paths()...\n",
      "starting _compute_statistics_of_path()...\n",
      "starting calculate_activation_statistics()...\n",
      "starting get_activations()...\n",
      "Warning: number of images is not a multiple of the batch size. Some samples are going to be ignored.\n"
     ]
    },
    {
     "name": "stderr",
     "output_type": "stream",
     "text": [
      "100%|████████████████████████████████████████████████████████████████████████████████████| 1/1 [00:00<00:00, 16.53it/s]\n"
     ]
    },
    {
     "name": "stdout",
     "output_type": "stream",
     "text": [
      "starting _compute_statistics_of_path()...\n",
      "starting calculate_activation_statistics()...\n",
      "starting get_activations()...\n",
      "Warning: number of images is not a multiple of the batch size. Some samples are going to be ignored.\n"
     ]
    },
    {
     "name": "stderr",
     "output_type": "stream",
     "text": [
      "100%|████████████████████████████████████████████████████████████████████████████████████| 1/1 [00:00<00:00, 15.98it/s]\n"
     ]
    },
    {
     "name": "stdout",
     "output_type": "stream",
     "text": [
      "starting calculate_frechet_distance()...\n",
      "22 cw_div4_attack conv1-11 0.001 0.005359936852596495\n",
      "['C:/temp_imgs/cifar/real/23/', 'C:/temp_imgs/cifar/fake/23/']\n",
      "starting calculate_fid_given_paths()...\n",
      "starting _compute_statistics_of_path()...\n",
      "starting calculate_activation_statistics()...\n",
      "starting get_activations()...\n",
      "Warning: number of images is not a multiple of the batch size. Some samples are going to be ignored.\n"
     ]
    },
    {
     "name": "stderr",
     "output_type": "stream",
     "text": [
      "100%|████████████████████████████████████████████████████████████████████████████████████| 1/1 [00:00<00:00, 19.13it/s]\n"
     ]
    },
    {
     "name": "stdout",
     "output_type": "stream",
     "text": [
      "starting _compute_statistics_of_path()...\n",
      "starting calculate_activation_statistics()...\n",
      "starting get_activations()...\n",
      "Warning: number of images is not a multiple of the batch size. Some samples are going to be ignored.\n"
     ]
    },
    {
     "name": "stderr",
     "output_type": "stream",
     "text": [
      "100%|████████████████████████████████████████████████████████████████████████████████████| 1/1 [00:00<00:00, 16.55it/s]\n"
     ]
    },
    {
     "name": "stdout",
     "output_type": "stream",
     "text": [
      "starting calculate_frechet_distance()...\n",
      "23 cw_div4_attack conv1-11 0.001 0.005359915843808548\n",
      "['C:/temp_imgs/cifar/real/24/', 'C:/temp_imgs/cifar/fake/24/']\n",
      "starting calculate_fid_given_paths()...\n",
      "starting _compute_statistics_of_path()...\n",
      "starting calculate_activation_statistics()...\n",
      "starting get_activations()...\n",
      "Warning: number of images is not a multiple of the batch size. Some samples are going to be ignored.\n"
     ]
    },
    {
     "name": "stderr",
     "output_type": "stream",
     "text": [
      "100%|████████████████████████████████████████████████████████████████████████████████████| 1/1 [00:00<00:00, 16.56it/s]\n"
     ]
    },
    {
     "name": "stdout",
     "output_type": "stream",
     "text": [
      "starting _compute_statistics_of_path()...\n",
      "starting calculate_activation_statistics()...\n",
      "starting get_activations()...\n",
      "Warning: number of images is not a multiple of the batch size. Some samples are going to be ignored.\n"
     ]
    },
    {
     "name": "stderr",
     "output_type": "stream",
     "text": [
      "100%|████████████████████████████████████████████████████████████████████████████████████| 1/1 [00:00<00:00, 17.42it/s]\n"
     ]
    },
    {
     "name": "stdout",
     "output_type": "stream",
     "text": [
      "starting calculate_frechet_distance()...\n",
      "24 cw_div4_attack conv1-11 0.01 0.005359803768029021\n",
      "['C:/temp_imgs/cifar/real/25/', 'C:/temp_imgs/cifar/fake/25/']\n",
      "starting calculate_fid_given_paths()...\n",
      "starting _compute_statistics_of_path()...\n",
      "starting calculate_activation_statistics()...\n",
      "starting get_activations()...\n",
      "Warning: number of images is not a multiple of the batch size. Some samples are going to be ignored.\n"
     ]
    },
    {
     "name": "stderr",
     "output_type": "stream",
     "text": [
      "100%|████████████████████████████████████████████████████████████████████████████████████| 1/1 [00:00<00:00, 16.58it/s]\n"
     ]
    },
    {
     "name": "stdout",
     "output_type": "stream",
     "text": [
      "starting _compute_statistics_of_path()...\n",
      "starting calculate_activation_statistics()...\n",
      "starting get_activations()...\n",
      "Warning: number of images is not a multiple of the batch size. Some samples are going to be ignored.\n"
     ]
    },
    {
     "name": "stderr",
     "output_type": "stream",
     "text": [
      "100%|████████████████████████████████████████████████████████████████████████████████████| 1/1 [00:00<00:00, 16.58it/s]\n"
     ]
    },
    {
     "name": "stdout",
     "output_type": "stream",
     "text": [
      "starting calculate_frechet_distance()...\n",
      "25 cw_div4_attack conv1-11 0.01 0.0053598683733714035\n",
      "['C:/temp_imgs/cifar/real/26/', 'C:/temp_imgs/cifar/fake/26/']\n",
      "starting calculate_fid_given_paths()...\n",
      "starting _compute_statistics_of_path()...\n",
      "starting calculate_activation_statistics()...\n",
      "starting get_activations()...\n",
      "Warning: number of images is not a multiple of the batch size. Some samples are going to be ignored.\n"
     ]
    },
    {
     "name": "stderr",
     "output_type": "stream",
     "text": [
      "100%|████████████████████████████████████████████████████████████████████████████████████| 1/1 [00:00<00:00, 16.51it/s]\n"
     ]
    },
    {
     "name": "stdout",
     "output_type": "stream",
     "text": [
      "starting _compute_statistics_of_path()...\n",
      "starting calculate_activation_statistics()...\n",
      "starting get_activations()...\n",
      "Warning: number of images is not a multiple of the batch size. Some samples are going to be ignored.\n"
     ]
    },
    {
     "name": "stderr",
     "output_type": "stream",
     "text": [
      "100%|████████████████████████████████████████████████████████████████████████████████████| 1/1 [00:00<00:00, 17.07it/s]\n"
     ]
    },
    {
     "name": "stdout",
     "output_type": "stream",
     "text": [
      "starting calculate_frechet_distance()...\n",
      "26 cw_div4_attack conv1-11 0.01 0.00535994292078869\n",
      "['C:/temp_imgs/cifar/real/27/', 'C:/temp_imgs/cifar/fake/27/']\n",
      "starting calculate_fid_given_paths()...\n",
      "starting _compute_statistics_of_path()...\n",
      "starting calculate_activation_statistics()...\n",
      "starting get_activations()...\n",
      "Warning: number of images is not a multiple of the batch size. Some samples are going to be ignored.\n"
     ]
    },
    {
     "name": "stderr",
     "output_type": "stream",
     "text": [
      "100%|████████████████████████████████████████████████████████████████████████████████████| 1/1 [00:00<00:00, 19.17it/s]\n"
     ]
    },
    {
     "name": "stdout",
     "output_type": "stream",
     "text": [
      "starting _compute_statistics_of_path()...\n",
      "starting calculate_activation_statistics()...\n",
      "starting get_activations()...\n",
      "Warning: number of images is not a multiple of the batch size. Some samples are going to be ignored.\n"
     ]
    },
    {
     "name": "stderr",
     "output_type": "stream",
     "text": [
      "100%|████████████████████████████████████████████████████████████████████████████████████| 1/1 [00:00<00:00, 16.61it/s]\n"
     ]
    },
    {
     "name": "stdout",
     "output_type": "stream",
     "text": [
      "starting calculate_frechet_distance()...\n",
      "27 cw_div4_attack conv1-11 1 0.005359755295333491\n",
      "['C:/temp_imgs/cifar/real/28/', 'C:/temp_imgs/cifar/fake/28/']\n",
      "starting calculate_fid_given_paths()...\n",
      "starting _compute_statistics_of_path()...\n",
      "starting calculate_activation_statistics()...\n",
      "starting get_activations()...\n",
      "Warning: number of images is not a multiple of the batch size. Some samples are going to be ignored.\n"
     ]
    },
    {
     "name": "stderr",
     "output_type": "stream",
     "text": [
      "100%|████████████████████████████████████████████████████████████████████████████████████| 1/1 [00:00<00:00, 17.09it/s]\n"
     ]
    },
    {
     "name": "stdout",
     "output_type": "stream",
     "text": [
      "starting _compute_statistics_of_path()...\n",
      "starting calculate_activation_statistics()...\n",
      "starting get_activations()...\n",
      "Warning: number of images is not a multiple of the batch size. Some samples are going to be ignored.\n"
     ]
    },
    {
     "name": "stderr",
     "output_type": "stream",
     "text": [
      "100%|████████████████████████████████████████████████████████████████████████████████████| 1/1 [00:00<00:00, 16.57it/s]\n"
     ]
    },
    {
     "name": "stdout",
     "output_type": "stream",
     "text": [
      "starting calculate_frechet_distance()...\n",
      "28 cw_div4_attack conv1-11 1 0.00535991741284923\n",
      "['C:/temp_imgs/cifar/real/29/', 'C:/temp_imgs/cifar/fake/29/']\n",
      "starting calculate_fid_given_paths()...\n",
      "starting _compute_statistics_of_path()...\n",
      "starting calculate_activation_statistics()...\n",
      "starting get_activations()...\n",
      "Warning: number of images is not a multiple of the batch size. Some samples are going to be ignored.\n"
     ]
    },
    {
     "name": "stderr",
     "output_type": "stream",
     "text": [
      "100%|████████████████████████████████████████████████████████████████████████████████████| 1/1 [00:00<00:00, 16.61it/s]\n"
     ]
    },
    {
     "name": "stdout",
     "output_type": "stream",
     "text": [
      "starting _compute_statistics_of_path()...\n",
      "starting calculate_activation_statistics()...\n",
      "starting get_activations()...\n",
      "Warning: number of images is not a multiple of the batch size. Some samples are going to be ignored.\n"
     ]
    },
    {
     "name": "stderr",
     "output_type": "stream",
     "text": [
      "100%|████████████████████████████████████████████████████████████████████████████████████| 1/1 [00:00<00:00, 16.56it/s]\n"
     ]
    },
    {
     "name": "stdout",
     "output_type": "stream",
     "text": [
      "starting calculate_frechet_distance()...\n",
      "29 cw_div4_attack conv1-11 1 0.005360024997957461\n",
      "['C:/temp_imgs/cifar/real/30/', 'C:/temp_imgs/cifar/fake/30/']\n",
      "starting calculate_fid_given_paths()...\n",
      "starting _compute_statistics_of_path()...\n",
      "starting calculate_activation_statistics()...\n",
      "starting get_activations()...\n",
      "Warning: number of images is not a multiple of the batch size. Some samples are going to be ignored.\n"
     ]
    },
    {
     "name": "stderr",
     "output_type": "stream",
     "text": [
      "100%|████████████████████████████████████████████████████████████████████████████████████| 1/1 [00:00<00:00, 16.56it/s]\n"
     ]
    },
    {
     "name": "stdout",
     "output_type": "stream",
     "text": [
      "starting _compute_statistics_of_path()...\n",
      "starting calculate_activation_statistics()...\n",
      "starting get_activations()...\n",
      "Warning: number of images is not a multiple of the batch size. Some samples are going to be ignored.\n"
     ]
    },
    {
     "name": "stderr",
     "output_type": "stream",
     "text": [
      "100%|████████████████████████████████████████████████████████████████████████████████████| 1/1 [00:00<00:00, 16.57it/s]\n"
     ]
    },
    {
     "name": "stdout",
     "output_type": "stream",
     "text": [
      "starting calculate_frechet_distance()...\n",
      "30 cw_div4_attack conv1-11 10 0.005360435483250605\n",
      "['C:/temp_imgs/cifar/real/31/', 'C:/temp_imgs/cifar/fake/31/']\n",
      "starting calculate_fid_given_paths()...\n",
      "starting _compute_statistics_of_path()...\n",
      "starting calculate_activation_statistics()...\n",
      "starting get_activations()...\n",
      "Warning: number of images is not a multiple of the batch size. Some samples are going to be ignored.\n"
     ]
    },
    {
     "name": "stderr",
     "output_type": "stream",
     "text": [
      "100%|████████████████████████████████████████████████████████████████████████████████████| 1/1 [00:00<00:00, 16.53it/s]\n"
     ]
    },
    {
     "name": "stdout",
     "output_type": "stream",
     "text": [
      "starting _compute_statistics_of_path()...\n",
      "starting calculate_activation_statistics()...\n",
      "starting get_activations()...\n",
      "Warning: number of images is not a multiple of the batch size. Some samples are going to be ignored.\n"
     ]
    },
    {
     "name": "stderr",
     "output_type": "stream",
     "text": [
      "100%|████████████████████████████████████████████████████████████████████████████████████| 1/1 [00:00<00:00, 16.58it/s]\n"
     ]
    },
    {
     "name": "stdout",
     "output_type": "stream",
     "text": [
      "starting calculate_frechet_distance()...\n",
      "31 cw_div4_attack conv1-11 10 0.005360188030104803\n",
      "['C:/temp_imgs/cifar/real/32/', 'C:/temp_imgs/cifar/fake/32/']\n",
      "starting calculate_fid_given_paths()...\n",
      "starting _compute_statistics_of_path()...\n",
      "starting calculate_activation_statistics()...\n",
      "starting get_activations()...\n",
      "Warning: number of images is not a multiple of the batch size. Some samples are going to be ignored.\n"
     ]
    },
    {
     "name": "stderr",
     "output_type": "stream",
     "text": [
      "100%|████████████████████████████████████████████████████████████████████████████████████| 1/1 [00:00<00:00, 16.98it/s]\n"
     ]
    },
    {
     "name": "stdout",
     "output_type": "stream",
     "text": [
      "starting _compute_statistics_of_path()...\n",
      "starting calculate_activation_statistics()...\n",
      "starting get_activations()...\n",
      "Warning: number of images is not a multiple of the batch size. Some samples are going to be ignored.\n"
     ]
    },
    {
     "name": "stderr",
     "output_type": "stream",
     "text": [
      "100%|████████████████████████████████████████████████████████████████████████████████████| 1/1 [00:00<00:00, 16.56it/s]\n"
     ]
    },
    {
     "name": "stdout",
     "output_type": "stream",
     "text": [
      "starting calculate_frechet_distance()...\n",
      "32 cw_div4_attack conv1-11 10 0.005360093997295914\n",
      "['C:/temp_imgs/cifar/real/33/', 'C:/temp_imgs/cifar/fake/33/']\n",
      "starting calculate_fid_given_paths()...\n",
      "starting _compute_statistics_of_path()...\n",
      "starting calculate_activation_statistics()...\n",
      "starting get_activations()...\n",
      "Warning: number of images is not a multiple of the batch size. Some samples are going to be ignored.\n"
     ]
    },
    {
     "name": "stderr",
     "output_type": "stream",
     "text": [
      "100%|████████████████████████████████████████████████████████████████████████████████████| 1/1 [00:00<00:00, 16.55it/s]\n"
     ]
    },
    {
     "name": "stdout",
     "output_type": "stream",
     "text": [
      "starting _compute_statistics_of_path()...\n",
      "starting calculate_activation_statistics()...\n",
      "starting get_activations()...\n",
      "Warning: number of images is not a multiple of the batch size. Some samples are going to be ignored.\n"
     ]
    },
    {
     "name": "stderr",
     "output_type": "stream",
     "text": [
      "100%|████████████████████████████████████████████████████████████████████████████████████| 1/1 [00:00<00:00, 16.59it/s]\n"
     ]
    },
    {
     "name": "stdout",
     "output_type": "stream",
     "text": [
      "starting calculate_frechet_distance()...\n",
      "33 cw_div4_attack conv1-11 100 0.005359535413161926\n",
      "['C:/temp_imgs/cifar/real/34/', 'C:/temp_imgs/cifar/fake/34/']\n",
      "starting calculate_fid_given_paths()...\n",
      "starting _compute_statistics_of_path()...\n",
      "starting calculate_activation_statistics()...\n",
      "starting get_activations()...\n",
      "Warning: number of images is not a multiple of the batch size. Some samples are going to be ignored.\n"
     ]
    },
    {
     "name": "stderr",
     "output_type": "stream",
     "text": [
      "100%|████████████████████████████████████████████████████████████████████████████████████| 1/1 [00:00<00:00, 17.19it/s]\n"
     ]
    },
    {
     "name": "stdout",
     "output_type": "stream",
     "text": [
      "starting _compute_statistics_of_path()...\n",
      "starting calculate_activation_statistics()...\n",
      "starting get_activations()...\n",
      "Warning: number of images is not a multiple of the batch size. Some samples are going to be ignored.\n"
     ]
    },
    {
     "name": "stderr",
     "output_type": "stream",
     "text": [
      "100%|████████████████████████████████████████████████████████████████████████████████████| 1/1 [00:00<00:00, 16.61it/s]\n"
     ]
    },
    {
     "name": "stdout",
     "output_type": "stream",
     "text": [
      "starting calculate_frechet_distance()...\n",
      "34 cw_div4_attack conv1-11 100 0.00535850872124924\n",
      "['C:/temp_imgs/cifar/real/35/', 'C:/temp_imgs/cifar/fake/35/']\n",
      "starting calculate_fid_given_paths()...\n",
      "starting _compute_statistics_of_path()...\n",
      "starting calculate_activation_statistics()...\n",
      "starting get_activations()...\n",
      "Warning: number of images is not a multiple of the batch size. Some samples are going to be ignored.\n"
     ]
    },
    {
     "name": "stderr",
     "output_type": "stream",
     "text": [
      "100%|████████████████████████████████████████████████████████████████████████████████████| 1/1 [00:00<00:00, 17.09it/s]\n"
     ]
    },
    {
     "name": "stdout",
     "output_type": "stream",
     "text": [
      "starting _compute_statistics_of_path()...\n",
      "starting calculate_activation_statistics()...\n",
      "starting get_activations()...\n",
      "Warning: number of images is not a multiple of the batch size. Some samples are going to be ignored.\n"
     ]
    },
    {
     "name": "stderr",
     "output_type": "stream",
     "text": [
      "100%|████████████████████████████████████████████████████████████████████████████████████| 1/1 [00:00<00:00, 16.51it/s]\n"
     ]
    },
    {
     "name": "stdout",
     "output_type": "stream",
     "text": [
      "starting calculate_frechet_distance()...\n",
      "35 cw_div4_attack conv1-11 100 0.005359700119320383\n",
      "['C:/temp_imgs/cifar/real/36/', 'C:/temp_imgs/cifar/fake/36/']\n",
      "starting calculate_fid_given_paths()...\n",
      "starting _compute_statistics_of_path()...\n",
      "starting calculate_activation_statistics()...\n",
      "starting get_activations()...\n",
      "Warning: number of images is not a multiple of the batch size. Some samples are going to be ignored.\n"
     ]
    },
    {
     "name": "stderr",
     "output_type": "stream",
     "text": [
      "100%|████████████████████████████████████████████████████████████████████████████████████| 1/1 [00:00<00:00, 16.58it/s]\n"
     ]
    },
    {
     "name": "stdout",
     "output_type": "stream",
     "text": [
      "starting _compute_statistics_of_path()...\n",
      "starting calculate_activation_statistics()...\n",
      "starting get_activations()...\n",
      "Warning: number of images is not a multiple of the batch size. Some samples are going to be ignored.\n"
     ]
    },
    {
     "name": "stderr",
     "output_type": "stream",
     "text": [
      "100%|████████████████████████████████████████████████████████████████████████████████████| 1/1 [00:00<00:00, 19.04it/s]\n"
     ]
    },
    {
     "name": "stdout",
     "output_type": "stream",
     "text": [
      "starting calculate_frechet_distance()...\n",
      "36 cw_div4_attack conv2-22 0 0.005359782125698778\n",
      "['C:/temp_imgs/cifar/real/37/', 'C:/temp_imgs/cifar/fake/37/']\n",
      "starting calculate_fid_given_paths()...\n",
      "starting _compute_statistics_of_path()...\n",
      "starting calculate_activation_statistics()...\n",
      "starting get_activations()...\n",
      "Warning: number of images is not a multiple of the batch size. Some samples are going to be ignored.\n"
     ]
    },
    {
     "name": "stderr",
     "output_type": "stream",
     "text": [
      "100%|████████████████████████████████████████████████████████████████████████████████████| 1/1 [00:00<00:00, 19.13it/s]\n"
     ]
    },
    {
     "name": "stdout",
     "output_type": "stream",
     "text": [
      "starting _compute_statistics_of_path()...\n",
      "starting calculate_activation_statistics()...\n",
      "starting get_activations()...\n",
      "Warning: number of images is not a multiple of the batch size. Some samples are going to be ignored.\n"
     ]
    },
    {
     "name": "stderr",
     "output_type": "stream",
     "text": [
      "100%|████████████████████████████████████████████████████████████████████████████████████| 1/1 [00:00<00:00, 16.54it/s]\n"
     ]
    },
    {
     "name": "stdout",
     "output_type": "stream",
     "text": [
      "starting calculate_frechet_distance()...\n",
      "37 cw_div4_attack conv2-22 0 0.005359916540336564\n",
      "['C:/temp_imgs/cifar/real/38/', 'C:/temp_imgs/cifar/fake/38/']\n",
      "starting calculate_fid_given_paths()...\n",
      "starting _compute_statistics_of_path()...\n",
      "starting calculate_activation_statistics()...\n",
      "starting get_activations()...\n",
      "Warning: number of images is not a multiple of the batch size. Some samples are going to be ignored.\n"
     ]
    },
    {
     "name": "stderr",
     "output_type": "stream",
     "text": [
      "100%|████████████████████████████████████████████████████████████████████████████████████| 1/1 [00:00<00:00, 16.62it/s]\n"
     ]
    },
    {
     "name": "stdout",
     "output_type": "stream",
     "text": [
      "starting _compute_statistics_of_path()...\n",
      "starting calculate_activation_statistics()...\n",
      "starting get_activations()...\n",
      "Warning: number of images is not a multiple of the batch size. Some samples are going to be ignored.\n"
     ]
    },
    {
     "name": "stderr",
     "output_type": "stream",
     "text": [
      "100%|████████████████████████████████████████████████████████████████████████████████████| 1/1 [00:00<00:00, 16.58it/s]\n"
     ]
    },
    {
     "name": "stdout",
     "output_type": "stream",
     "text": [
      "starting calculate_frechet_distance()...\n",
      "38 cw_div4_attack conv2-22 0 0.005359957707176222\n",
      "['C:/temp_imgs/cifar/real/39/', 'C:/temp_imgs/cifar/fake/39/']\n",
      "starting calculate_fid_given_paths()...\n",
      "starting _compute_statistics_of_path()...\n",
      "starting calculate_activation_statistics()...\n",
      "starting get_activations()...\n",
      "Warning: number of images is not a multiple of the batch size. Some samples are going to be ignored.\n"
     ]
    },
    {
     "name": "stderr",
     "output_type": "stream",
     "text": [
      "100%|████████████████████████████████████████████████████████████████████████████████████| 1/1 [00:00<00:00, 16.57it/s]\n"
     ]
    },
    {
     "name": "stdout",
     "output_type": "stream",
     "text": [
      "starting _compute_statistics_of_path()...\n",
      "starting calculate_activation_statistics()...\n",
      "starting get_activations()...\n",
      "Warning: number of images is not a multiple of the batch size. Some samples are going to be ignored.\n"
     ]
    },
    {
     "name": "stderr",
     "output_type": "stream",
     "text": [
      "100%|████████████████████████████████████████████████████████████████████████████████████| 1/1 [00:00<00:00, 16.01it/s]\n"
     ]
    },
    {
     "name": "stdout",
     "output_type": "stream",
     "text": [
      "starting calculate_frechet_distance()...\n",
      "39 cw_div4_attack conv2-22 0.001 0.005359843312345064\n",
      "['C:/temp_imgs/cifar/real/40/', 'C:/temp_imgs/cifar/fake/40/']\n",
      "starting calculate_fid_given_paths()...\n",
      "starting _compute_statistics_of_path()...\n",
      "starting calculate_activation_statistics()...\n",
      "starting get_activations()...\n",
      "Warning: number of images is not a multiple of the batch size. Some samples are going to be ignored.\n"
     ]
    },
    {
     "name": "stderr",
     "output_type": "stream",
     "text": [
      "100%|████████████████████████████████████████████████████████████████████████████████████| 1/1 [00:00<00:00, 17.15it/s]\n"
     ]
    },
    {
     "name": "stdout",
     "output_type": "stream",
     "text": [
      "starting _compute_statistics_of_path()...\n",
      "starting calculate_activation_statistics()...\n",
      "starting get_activations()...\n",
      "Warning: number of images is not a multiple of the batch size. Some samples are going to be ignored.\n"
     ]
    },
    {
     "name": "stderr",
     "output_type": "stream",
     "text": [
      "100%|████████████████████████████████████████████████████████████████████████████████████| 1/1 [00:00<00:00, 16.54it/s]\n"
     ]
    },
    {
     "name": "stdout",
     "output_type": "stream",
     "text": [
      "starting calculate_frechet_distance()...\n",
      "40 cw_div4_attack conv2-22 0.001 0.005359899641500317\n",
      "['C:/temp_imgs/cifar/real/41/', 'C:/temp_imgs/cifar/fake/41/']\n",
      "starting calculate_fid_given_paths()...\n",
      "starting _compute_statistics_of_path()...\n",
      "starting calculate_activation_statistics()...\n",
      "starting get_activations()...\n",
      "Warning: number of images is not a multiple of the batch size. Some samples are going to be ignored.\n"
     ]
    },
    {
     "name": "stderr",
     "output_type": "stream",
     "text": [
      "100%|████████████████████████████████████████████████████████████████████████████████████| 1/1 [00:00<00:00, 16.94it/s]\n"
     ]
    },
    {
     "name": "stdout",
     "output_type": "stream",
     "text": [
      "starting _compute_statistics_of_path()...\n",
      "starting calculate_activation_statistics()...\n",
      "starting get_activations()...\n",
      "Warning: number of images is not a multiple of the batch size. Some samples are going to be ignored.\n"
     ]
    },
    {
     "name": "stderr",
     "output_type": "stream",
     "text": [
      "100%|████████████████████████████████████████████████████████████████████████████████████| 1/1 [00:00<00:00, 16.56it/s]\n"
     ]
    },
    {
     "name": "stdout",
     "output_type": "stream",
     "text": [
      "starting calculate_frechet_distance()...\n",
      "41 cw_div4_attack conv2-22 0.001 0.005359922120679993\n",
      "['C:/temp_imgs/cifar/real/42/', 'C:/temp_imgs/cifar/fake/42/']\n",
      "starting calculate_fid_given_paths()...\n",
      "starting _compute_statistics_of_path()...\n",
      "starting calculate_activation_statistics()...\n",
      "starting get_activations()...\n",
      "Warning: number of images is not a multiple of the batch size. Some samples are going to be ignored.\n"
     ]
    },
    {
     "name": "stderr",
     "output_type": "stream",
     "text": [
      "100%|████████████████████████████████████████████████████████████████████████████████████| 1/1 [00:00<00:00, 16.54it/s]\n"
     ]
    },
    {
     "name": "stdout",
     "output_type": "stream",
     "text": [
      "starting _compute_statistics_of_path()...\n",
      "starting calculate_activation_statistics()...\n",
      "starting get_activations()...\n",
      "Warning: number of images is not a multiple of the batch size. Some samples are going to be ignored.\n"
     ]
    },
    {
     "name": "stderr",
     "output_type": "stream",
     "text": [
      "100%|████████████████████████████████████████████████████████████████████████████████████| 1/1 [00:00<00:00, 16.56it/s]\n"
     ]
    },
    {
     "name": "stdout",
     "output_type": "stream",
     "text": [
      "starting calculate_frechet_distance()...\n",
      "42 cw_div4_attack conv2-22 0.01 0.0053597560548908395\n",
      "['C:/temp_imgs/cifar/real/43/', 'C:/temp_imgs/cifar/fake/43/']\n",
      "starting calculate_fid_given_paths()...\n",
      "starting _compute_statistics_of_path()...\n",
      "starting calculate_activation_statistics()...\n",
      "starting get_activations()...\n",
      "Warning: number of images is not a multiple of the batch size. Some samples are going to be ignored.\n"
     ]
    },
    {
     "name": "stderr",
     "output_type": "stream",
     "text": [
      "100%|████████████████████████████████████████████████████████████████████████████████████| 1/1 [00:00<00:00, 16.46it/s]\n"
     ]
    },
    {
     "name": "stdout",
     "output_type": "stream",
     "text": [
      "starting _compute_statistics_of_path()...\n",
      "starting calculate_activation_statistics()...\n",
      "starting get_activations()...\n",
      "Warning: number of images is not a multiple of the batch size. Some samples are going to be ignored.\n"
     ]
    },
    {
     "name": "stderr",
     "output_type": "stream",
     "text": [
      "100%|████████████████████████████████████████████████████████████████████████████████████| 1/1 [00:00<00:00, 16.03it/s]\n"
     ]
    },
    {
     "name": "stdout",
     "output_type": "stream",
     "text": [
      "starting calculate_frechet_distance()...\n",
      "43 cw_div4_attack conv2-22 0.01 0.005359947733275002\n",
      "['C:/temp_imgs/cifar/real/44/', 'C:/temp_imgs/cifar/fake/44/']\n",
      "starting calculate_fid_given_paths()...\n",
      "starting _compute_statistics_of_path()...\n",
      "starting calculate_activation_statistics()...\n",
      "starting get_activations()...\n",
      "Warning: number of images is not a multiple of the batch size. Some samples are going to be ignored.\n"
     ]
    },
    {
     "name": "stderr",
     "output_type": "stream",
     "text": [
      "100%|████████████████████████████████████████████████████████████████████████████████████| 1/1 [00:00<00:00, 16.57it/s]\n"
     ]
    },
    {
     "name": "stdout",
     "output_type": "stream",
     "text": [
      "starting _compute_statistics_of_path()...\n",
      "starting calculate_activation_statistics()...\n",
      "starting get_activations()...\n",
      "Warning: number of images is not a multiple of the batch size. Some samples are going to be ignored.\n"
     ]
    },
    {
     "name": "stderr",
     "output_type": "stream",
     "text": [
      "100%|████████████████████████████████████████████████████████████████████████████████████| 1/1 [00:00<00:00, 16.55it/s]\n"
     ]
    },
    {
     "name": "stdout",
     "output_type": "stream",
     "text": [
      "starting calculate_frechet_distance()...\n",
      "44 cw_div4_attack conv2-22 0.01 0.005359919411850316\n",
      "['C:/temp_imgs/cifar/real/45/', 'C:/temp_imgs/cifar/fake/45/']\n",
      "starting calculate_fid_given_paths()...\n",
      "starting _compute_statistics_of_path()...\n",
      "starting calculate_activation_statistics()...\n",
      "starting get_activations()...\n",
      "Warning: number of images is not a multiple of the batch size. Some samples are going to be ignored.\n"
     ]
    },
    {
     "name": "stderr",
     "output_type": "stream",
     "text": [
      "100%|████████████████████████████████████████████████████████████████████████████████████| 1/1 [00:00<00:00, 17.12it/s]\n"
     ]
    },
    {
     "name": "stdout",
     "output_type": "stream",
     "text": [
      "starting _compute_statistics_of_path()...\n",
      "starting calculate_activation_statistics()...\n",
      "starting get_activations()...\n",
      "Warning: number of images is not a multiple of the batch size. Some samples are going to be ignored.\n"
     ]
    },
    {
     "name": "stderr",
     "output_type": "stream",
     "text": [
      "100%|████████████████████████████████████████████████████████████████████████████████████| 1/1 [00:00<00:00, 16.59it/s]\n"
     ]
    },
    {
     "name": "stdout",
     "output_type": "stream",
     "text": [
      "starting calculate_frechet_distance()...\n",
      "45 cw_div4_attack conv2-22 1 0.005360345456921599\n",
      "['C:/temp_imgs/cifar/real/46/', 'C:/temp_imgs/cifar/fake/46/']\n",
      "starting calculate_fid_given_paths()...\n",
      "starting _compute_statistics_of_path()...\n",
      "starting calculate_activation_statistics()...\n",
      "starting get_activations()...\n",
      "Warning: number of images is not a multiple of the batch size. Some samples are going to be ignored.\n"
     ]
    },
    {
     "name": "stderr",
     "output_type": "stream",
     "text": [
      "100%|████████████████████████████████████████████████████████████████████████████████████| 1/1 [00:00<00:00, 16.98it/s]\n"
     ]
    },
    {
     "name": "stdout",
     "output_type": "stream",
     "text": [
      "starting _compute_statistics_of_path()...\n",
      "starting calculate_activation_statistics()...\n",
      "starting get_activations()...\n",
      "Warning: number of images is not a multiple of the batch size. Some samples are going to be ignored.\n"
     ]
    },
    {
     "name": "stderr",
     "output_type": "stream",
     "text": [
      "100%|████████████████████████████████████████████████████████████████████████████████████| 1/1 [00:00<00:00, 16.49it/s]\n"
     ]
    },
    {
     "name": "stdout",
     "output_type": "stream",
     "text": [
      "starting calculate_frechet_distance()...\n",
      "46 cw_div4_attack conv2-22 1 0.005360156918660067\n",
      "['C:/temp_imgs/cifar/real/47/', 'C:/temp_imgs/cifar/fake/47/']\n",
      "starting calculate_fid_given_paths()...\n",
      "starting _compute_statistics_of_path()...\n",
      "starting calculate_activation_statistics()...\n",
      "starting get_activations()...\n",
      "Warning: number of images is not a multiple of the batch size. Some samples are going to be ignored.\n"
     ]
    },
    {
     "name": "stderr",
     "output_type": "stream",
     "text": [
      "100%|████████████████████████████████████████████████████████████████████████████████████| 1/1 [00:00<00:00, 19.85it/s]\n"
     ]
    },
    {
     "name": "stdout",
     "output_type": "stream",
     "text": [
      "starting _compute_statistics_of_path()...\n",
      "starting calculate_activation_statistics()...\n",
      "starting get_activations()...\n",
      "Warning: number of images is not a multiple of the batch size. Some samples are going to be ignored.\n"
     ]
    },
    {
     "name": "stderr",
     "output_type": "stream",
     "text": [
      "100%|████████████████████████████████████████████████████████████████████████████████████| 1/1 [00:00<00:00, 16.59it/s]\n"
     ]
    },
    {
     "name": "stdout",
     "output_type": "stream",
     "text": [
      "starting calculate_frechet_distance()...\n",
      "47 cw_div4_attack conv2-22 1 0.00536024805707994\n",
      "['C:/temp_imgs/cifar/real/48/', 'C:/temp_imgs/cifar/fake/48/']\n",
      "starting calculate_fid_given_paths()...\n",
      "starting _compute_statistics_of_path()...\n",
      "starting calculate_activation_statistics()...\n",
      "starting get_activations()...\n",
      "Warning: number of images is not a multiple of the batch size. Some samples are going to be ignored.\n"
     ]
    },
    {
     "name": "stderr",
     "output_type": "stream",
     "text": [
      "100%|████████████████████████████████████████████████████████████████████████████████████| 1/1 [00:00<00:00, 15.96it/s]\n"
     ]
    },
    {
     "name": "stdout",
     "output_type": "stream",
     "text": [
      "starting _compute_statistics_of_path()...\n",
      "starting calculate_activation_statistics()...\n",
      "starting get_activations()...\n",
      "Warning: number of images is not a multiple of the batch size. Some samples are going to be ignored.\n"
     ]
    },
    {
     "name": "stderr",
     "output_type": "stream",
     "text": [
      "100%|████████████████████████████████████████████████████████████████████████████████████| 1/1 [00:00<00:00, 16.61it/s]\n"
     ]
    },
    {
     "name": "stdout",
     "output_type": "stream",
     "text": [
      "starting calculate_frechet_distance()...\n",
      "48 cw_div4_attack conv2-22 10 0.005360995765968295\n",
      "['C:/temp_imgs/cifar/real/49/', 'C:/temp_imgs/cifar/fake/49/']\n",
      "starting calculate_fid_given_paths()...\n",
      "starting _compute_statistics_of_path()...\n",
      "starting calculate_activation_statistics()...\n",
      "starting get_activations()...\n",
      "Warning: number of images is not a multiple of the batch size. Some samples are going to be ignored.\n"
     ]
    },
    {
     "name": "stderr",
     "output_type": "stream",
     "text": [
      "100%|████████████████████████████████████████████████████████████████████████████████████| 1/1 [00:00<00:00, 19.01it/s]\n"
     ]
    },
    {
     "name": "stdout",
     "output_type": "stream",
     "text": [
      "starting _compute_statistics_of_path()...\n",
      "starting calculate_activation_statistics()...\n",
      "starting get_activations()...\n",
      "Warning: number of images is not a multiple of the batch size. Some samples are going to be ignored.\n"
     ]
    },
    {
     "name": "stderr",
     "output_type": "stream",
     "text": [
      "100%|████████████████████████████████████████████████████████████████████████████████████| 1/1 [00:00<00:00, 16.51it/s]\n"
     ]
    },
    {
     "name": "stdout",
     "output_type": "stream",
     "text": [
      "starting calculate_frechet_distance()...\n",
      "49 cw_div4_attack conv2-22 10 0.00536076326996116\n",
      "['C:/temp_imgs/cifar/real/50/', 'C:/temp_imgs/cifar/fake/50/']\n",
      "starting calculate_fid_given_paths()...\n",
      "starting _compute_statistics_of_path()...\n",
      "starting calculate_activation_statistics()...\n",
      "starting get_activations()...\n",
      "Warning: number of images is not a multiple of the batch size. Some samples are going to be ignored.\n"
     ]
    },
    {
     "name": "stderr",
     "output_type": "stream",
     "text": [
      "100%|████████████████████████████████████████████████████████████████████████████████████| 1/1 [00:00<00:00, 16.43it/s]\n"
     ]
    },
    {
     "name": "stdout",
     "output_type": "stream",
     "text": [
      "starting _compute_statistics_of_path()...\n",
      "starting calculate_activation_statistics()...\n",
      "starting get_activations()...\n",
      "Warning: number of images is not a multiple of the batch size. Some samples are going to be ignored.\n"
     ]
    },
    {
     "name": "stderr",
     "output_type": "stream",
     "text": [
      "100%|████████████████████████████████████████████████████████████████████████████████████| 1/1 [00:00<00:00, 16.75it/s]\n"
     ]
    },
    {
     "name": "stdout",
     "output_type": "stream",
     "text": [
      "starting calculate_frechet_distance()...\n",
      "50 cw_div4_attack conv2-22 10 0.0053612566827085486\n",
      "['C:/temp_imgs/cifar/real/51/', 'C:/temp_imgs/cifar/fake/51/']\n",
      "starting calculate_fid_given_paths()...\n",
      "starting _compute_statistics_of_path()...\n",
      "starting calculate_activation_statistics()...\n",
      "starting get_activations()...\n",
      "Warning: number of images is not a multiple of the batch size. Some samples are going to be ignored.\n"
     ]
    },
    {
     "name": "stderr",
     "output_type": "stream",
     "text": [
      "100%|████████████████████████████████████████████████████████████████████████████████████| 1/1 [00:00<00:00, 14.90it/s]\n"
     ]
    },
    {
     "name": "stdout",
     "output_type": "stream",
     "text": [
      "starting _compute_statistics_of_path()...\n",
      "starting calculate_activation_statistics()...\n",
      "starting get_activations()...\n",
      "Warning: number of images is not a multiple of the batch size. Some samples are going to be ignored.\n"
     ]
    },
    {
     "name": "stderr",
     "output_type": "stream",
     "text": [
      "100%|████████████████████████████████████████████████████████████████████████████████████| 1/1 [00:00<00:00, 18.48it/s]\n"
     ]
    },
    {
     "name": "stdout",
     "output_type": "stream",
     "text": [
      "starting calculate_frechet_distance()...\n",
      "51 cw_div4_attack conv2-22 100 0.005369509868719801\n",
      "['C:/temp_imgs/cifar/real/52/', 'C:/temp_imgs/cifar/fake/52/']\n",
      "starting calculate_fid_given_paths()...\n",
      "starting _compute_statistics_of_path()...\n",
      "starting calculate_activation_statistics()...\n",
      "starting get_activations()...\n",
      "Warning: number of images is not a multiple of the batch size. Some samples are going to be ignored.\n"
     ]
    },
    {
     "name": "stderr",
     "output_type": "stream",
     "text": [
      "100%|████████████████████████████████████████████████████████████████████████████████████| 1/1 [00:00<00:00, 16.54it/s]\n"
     ]
    },
    {
     "name": "stdout",
     "output_type": "stream",
     "text": [
      "starting _compute_statistics_of_path()...\n",
      "starting calculate_activation_statistics()...\n",
      "starting get_activations()...\n",
      "Warning: number of images is not a multiple of the batch size. Some samples are going to be ignored.\n"
     ]
    },
    {
     "name": "stderr",
     "output_type": "stream",
     "text": [
      "100%|████████████████████████████████████████████████████████████████████████████████████| 1/1 [00:00<00:00, 16.54it/s]\n"
     ]
    },
    {
     "name": "stdout",
     "output_type": "stream",
     "text": [
      "starting calculate_frechet_distance()...\n",
      "52 cw_div4_attack conv2-22 100 0.0053671622835327875\n",
      "['C:/temp_imgs/cifar/real/53/', 'C:/temp_imgs/cifar/fake/53/']\n",
      "starting calculate_fid_given_paths()...\n",
      "starting _compute_statistics_of_path()...\n",
      "starting calculate_activation_statistics()...\n",
      "starting get_activations()...\n",
      "Warning: number of images is not a multiple of the batch size. Some samples are going to be ignored.\n"
     ]
    },
    {
     "name": "stderr",
     "output_type": "stream",
     "text": [
      "100%|████████████████████████████████████████████████████████████████████████████████████| 1/1 [00:00<00:00, 16.50it/s]\n"
     ]
    },
    {
     "name": "stdout",
     "output_type": "stream",
     "text": [
      "starting _compute_statistics_of_path()...\n",
      "starting calculate_activation_statistics()...\n",
      "starting get_activations()...\n",
      "Warning: number of images is not a multiple of the batch size. Some samples are going to be ignored.\n"
     ]
    },
    {
     "name": "stderr",
     "output_type": "stream",
     "text": [
      "100%|████████████████████████████████████████████████████████████████████████████████████| 1/1 [00:00<00:00, 16.53it/s]\n"
     ]
    },
    {
     "name": "stdout",
     "output_type": "stream",
     "text": [
      "starting calculate_frechet_distance()...\n",
      "53 cw_div4_attack conv2-22 100 0.0053719352531755235\n",
      "['C:/temp_imgs/cifar/real/54/', 'C:/temp_imgs/cifar/fake/54/']\n",
      "starting calculate_fid_given_paths()...\n",
      "starting _compute_statistics_of_path()...\n",
      "starting calculate_activation_statistics()...\n",
      "starting get_activations()...\n",
      "Warning: number of images is not a multiple of the batch size. Some samples are going to be ignored.\n"
     ]
    },
    {
     "name": "stderr",
     "output_type": "stream",
     "text": [
      "100%|████████████████████████████████████████████████████████████████████████████████████| 1/1 [00:00<00:00, 16.54it/s]\n"
     ]
    },
    {
     "name": "stdout",
     "output_type": "stream",
     "text": [
      "starting _compute_statistics_of_path()...\n",
      "starting calculate_activation_statistics()...\n",
      "starting get_activations()...\n",
      "Warning: number of images is not a multiple of the batch size. Some samples are going to be ignored.\n"
     ]
    },
    {
     "name": "stderr",
     "output_type": "stream",
     "text": [
      "100%|████████████████████████████████████████████████████████████████████████████████████| 1/1 [00:00<00:00, 19.03it/s]\n"
     ]
    },
    {
     "name": "stdout",
     "output_type": "stream",
     "text": [
      "starting calculate_frechet_distance()...\n",
      "54 cw_div4_attack conv1-33 0 0.0053598057698322895\n",
      "['C:/temp_imgs/cifar/real/55/', 'C:/temp_imgs/cifar/fake/55/']\n",
      "starting calculate_fid_given_paths()...\n",
      "starting _compute_statistics_of_path()...\n",
      "starting calculate_activation_statistics()...\n",
      "starting get_activations()...\n",
      "Warning: number of images is not a multiple of the batch size. Some samples are going to be ignored.\n"
     ]
    },
    {
     "name": "stderr",
     "output_type": "stream",
     "text": [
      "100%|████████████████████████████████████████████████████████████████████████████████████| 1/1 [00:00<00:00, 19.89it/s]\n"
     ]
    },
    {
     "name": "stdout",
     "output_type": "stream",
     "text": [
      "starting _compute_statistics_of_path()...\n",
      "starting calculate_activation_statistics()...\n",
      "starting get_activations()...\n",
      "Warning: number of images is not a multiple of the batch size. Some samples are going to be ignored.\n"
     ]
    },
    {
     "name": "stderr",
     "output_type": "stream",
     "text": [
      "100%|████████████████████████████████████████████████████████████████████████████████████| 1/1 [00:00<00:00, 16.55it/s]\n"
     ]
    },
    {
     "name": "stdout",
     "output_type": "stream",
     "text": [
      "starting calculate_frechet_distance()...\n",
      "55 cw_div4_attack conv1-33 0 0.005359876444083954\n",
      "['C:/temp_imgs/cifar/real/56/', 'C:/temp_imgs/cifar/fake/56/']\n",
      "starting calculate_fid_given_paths()...\n",
      "starting _compute_statistics_of_path()...\n",
      "starting calculate_activation_statistics()...\n",
      "starting get_activations()...\n",
      "Warning: number of images is not a multiple of the batch size. Some samples are going to be ignored.\n"
     ]
    },
    {
     "name": "stderr",
     "output_type": "stream",
     "text": [
      "100%|████████████████████████████████████████████████████████████████████████████████████| 1/1 [00:00<00:00, 17.03it/s]\n"
     ]
    },
    {
     "name": "stdout",
     "output_type": "stream",
     "text": [
      "starting _compute_statistics_of_path()...\n",
      "starting calculate_activation_statistics()...\n",
      "starting get_activations()...\n",
      "Warning: number of images is not a multiple of the batch size. Some samples are going to be ignored.\n"
     ]
    },
    {
     "name": "stderr",
     "output_type": "stream",
     "text": [
      "100%|████████████████████████████████████████████████████████████████████████████████████| 1/1 [00:00<00:00, 19.11it/s]\n"
     ]
    },
    {
     "name": "stdout",
     "output_type": "stream",
     "text": [
      "starting calculate_frechet_distance()...\n",
      "56 cw_div4_attack conv1-33 0 0.005359905373160835\n",
      "['C:/temp_imgs/cifar/real/57/', 'C:/temp_imgs/cifar/fake/57/']\n",
      "starting calculate_fid_given_paths()...\n",
      "starting _compute_statistics_of_path()...\n",
      "starting calculate_activation_statistics()...\n",
      "starting get_activations()...\n",
      "Warning: number of images is not a multiple of the batch size. Some samples are going to be ignored.\n"
     ]
    },
    {
     "name": "stderr",
     "output_type": "stream",
     "text": [
      "100%|████████████████████████████████████████████████████████████████████████████████████| 1/1 [00:00<00:00, 19.84it/s]\n"
     ]
    },
    {
     "name": "stdout",
     "output_type": "stream",
     "text": [
      "starting _compute_statistics_of_path()...\n",
      "starting calculate_activation_statistics()...\n",
      "starting get_activations()...\n",
      "Warning: number of images is not a multiple of the batch size. Some samples are going to be ignored.\n"
     ]
    },
    {
     "name": "stderr",
     "output_type": "stream",
     "text": [
      "100%|████████████████████████████████████████████████████████████████████████████████████| 1/1 [00:00<00:00, 16.57it/s]\n"
     ]
    },
    {
     "name": "stdout",
     "output_type": "stream",
     "text": [
      "starting calculate_frechet_distance()...\n",
      "57 cw_div4_attack conv1-33 0.001 0.005359755879099324\n",
      "['C:/temp_imgs/cifar/real/58/', 'C:/temp_imgs/cifar/fake/58/']\n",
      "starting calculate_fid_given_paths()...\n",
      "starting _compute_statistics_of_path()...\n",
      "starting calculate_activation_statistics()...\n",
      "starting get_activations()...\n",
      "Warning: number of images is not a multiple of the batch size. Some samples are going to be ignored.\n"
     ]
    },
    {
     "name": "stderr",
     "output_type": "stream",
     "text": [
      "100%|████████████████████████████████████████████████████████████████████████████████████| 1/1 [00:00<00:00, 16.57it/s]\n"
     ]
    },
    {
     "name": "stdout",
     "output_type": "stream",
     "text": [
      "starting _compute_statistics_of_path()...\n",
      "starting calculate_activation_statistics()...\n",
      "starting get_activations()...\n",
      "Warning: number of images is not a multiple of the batch size. Some samples are going to be ignored.\n"
     ]
    },
    {
     "name": "stderr",
     "output_type": "stream",
     "text": [
      "100%|████████████████████████████████████████████████████████████████████████████████████| 1/1 [00:00<00:00, 16.62it/s]\n"
     ]
    },
    {
     "name": "stdout",
     "output_type": "stream",
     "text": [
      "starting calculate_frechet_distance()...\n",
      "58 cw_div4_attack conv1-33 0.001 0.005359865452132611\n",
      "['C:/temp_imgs/cifar/real/59/', 'C:/temp_imgs/cifar/fake/59/']\n",
      "starting calculate_fid_given_paths()...\n",
      "starting _compute_statistics_of_path()...\n",
      "starting calculate_activation_statistics()...\n",
      "starting get_activations()...\n",
      "Warning: number of images is not a multiple of the batch size. Some samples are going to be ignored.\n"
     ]
    },
    {
     "name": "stderr",
     "output_type": "stream",
     "text": [
      "100%|████████████████████████████████████████████████████████████████████████████████████| 1/1 [00:00<00:00, 19.79it/s]\n"
     ]
    },
    {
     "name": "stdout",
     "output_type": "stream",
     "text": [
      "starting _compute_statistics_of_path()...\n",
      "starting calculate_activation_statistics()...\n",
      "starting get_activations()...\n",
      "Warning: number of images is not a multiple of the batch size. Some samples are going to be ignored.\n"
     ]
    },
    {
     "name": "stderr",
     "output_type": "stream",
     "text": [
      "100%|████████████████████████████████████████████████████████████████████████████████████| 1/1 [00:00<00:00, 16.49it/s]\n"
     ]
    },
    {
     "name": "stdout",
     "output_type": "stream",
     "text": [
      "starting calculate_frechet_distance()...\n",
      "59 cw_div4_attack conv1-33 0.001 0.005359982642262211\n",
      "['C:/temp_imgs/cifar/real/60/', 'C:/temp_imgs/cifar/fake/60/']\n",
      "starting calculate_fid_given_paths()...\n",
      "starting _compute_statistics_of_path()...\n",
      "starting calculate_activation_statistics()...\n",
      "starting get_activations()...\n",
      "Warning: number of images is not a multiple of the batch size. Some samples are going to be ignored.\n"
     ]
    },
    {
     "name": "stderr",
     "output_type": "stream",
     "text": [
      "100%|████████████████████████████████████████████████████████████████████████████████████| 1/1 [00:00<00:00, 16.59it/s]\n"
     ]
    },
    {
     "name": "stdout",
     "output_type": "stream",
     "text": [
      "starting _compute_statistics_of_path()...\n",
      "starting calculate_activation_statistics()...\n",
      "starting get_activations()...\n",
      "Warning: number of images is not a multiple of the batch size. Some samples are going to be ignored.\n"
     ]
    },
    {
     "name": "stderr",
     "output_type": "stream",
     "text": [
      "100%|████████████████████████████████████████████████████████████████████████████████████| 1/1 [00:00<00:00, 16.56it/s]\n"
     ]
    },
    {
     "name": "stdout",
     "output_type": "stream",
     "text": [
      "starting calculate_frechet_distance()...\n",
      "60 cw_div4_attack conv1-33 0.01 0.005359795561008332\n",
      "['C:/temp_imgs/cifar/real/61/', 'C:/temp_imgs/cifar/fake/61/']\n",
      "starting calculate_fid_given_paths()...\n",
      "starting _compute_statistics_of_path()...\n",
      "starting calculate_activation_statistics()...\n",
      "starting get_activations()...\n",
      "Warning: number of images is not a multiple of the batch size. Some samples are going to be ignored.\n"
     ]
    },
    {
     "name": "stderr",
     "output_type": "stream",
     "text": [
      "100%|████████████████████████████████████████████████████████████████████████████████████| 1/1 [00:00<00:00, 17.15it/s]\n"
     ]
    },
    {
     "name": "stdout",
     "output_type": "stream",
     "text": [
      "starting _compute_statistics_of_path()...\n",
      "starting calculate_activation_statistics()...\n",
      "starting get_activations()...\n",
      "Warning: number of images is not a multiple of the batch size. Some samples are going to be ignored.\n"
     ]
    },
    {
     "name": "stderr",
     "output_type": "stream",
     "text": [
      "100%|████████████████████████████████████████████████████████████████████████████████████| 1/1 [00:00<00:00, 16.61it/s]\n"
     ]
    },
    {
     "name": "stdout",
     "output_type": "stream",
     "text": [
      "starting calculate_frechet_distance()...\n",
      "61 cw_div4_attack conv1-33 0.01 0.005359903976252868\n",
      "['C:/temp_imgs/cifar/real/62/', 'C:/temp_imgs/cifar/fake/62/']\n",
      "starting calculate_fid_given_paths()...\n",
      "starting _compute_statistics_of_path()...\n",
      "starting calculate_activation_statistics()...\n",
      "starting get_activations()...\n",
      "Warning: number of images is not a multiple of the batch size. Some samples are going to be ignored.\n"
     ]
    },
    {
     "name": "stderr",
     "output_type": "stream",
     "text": [
      "100%|████████████████████████████████████████████████████████████████████████████████████| 1/1 [00:00<00:00, 17.09it/s]\n"
     ]
    },
    {
     "name": "stdout",
     "output_type": "stream",
     "text": [
      "starting _compute_statistics_of_path()...\n",
      "starting calculate_activation_statistics()...\n",
      "starting get_activations()...\n",
      "Warning: number of images is not a multiple of the batch size. Some samples are going to be ignored.\n"
     ]
    },
    {
     "name": "stderr",
     "output_type": "stream",
     "text": [
      "100%|████████████████████████████████████████████████████████████████████████████████████| 1/1 [00:00<00:00, 14.64it/s]\n"
     ]
    },
    {
     "name": "stdout",
     "output_type": "stream",
     "text": [
      "starting calculate_frechet_distance()...\n",
      "62 cw_div4_attack conv1-33 0.01 0.0053599190062015465\n",
      "['C:/temp_imgs/cifar/real/63/', 'C:/temp_imgs/cifar/fake/63/']\n",
      "starting calculate_fid_given_paths()...\n",
      "starting _compute_statistics_of_path()...\n",
      "starting calculate_activation_statistics()...\n",
      "starting get_activations()...\n",
      "Warning: number of images is not a multiple of the batch size. Some samples are going to be ignored.\n"
     ]
    },
    {
     "name": "stderr",
     "output_type": "stream",
     "text": [
      "100%|████████████████████████████████████████████████████████████████████████████████████| 1/1 [00:00<00:00, 16.51it/s]\n"
     ]
    },
    {
     "name": "stdout",
     "output_type": "stream",
     "text": [
      "starting _compute_statistics_of_path()...\n",
      "starting calculate_activation_statistics()...\n",
      "starting get_activations()...\n",
      "Warning: number of images is not a multiple of the batch size. Some samples are going to be ignored.\n"
     ]
    },
    {
     "name": "stderr",
     "output_type": "stream",
     "text": [
      "100%|████████████████████████████████████████████████████████████████████████████████████| 1/1 [00:00<00:00, 17.17it/s]\n"
     ]
    },
    {
     "name": "stdout",
     "output_type": "stream",
     "text": [
      "starting calculate_frechet_distance()...\n",
      "63 cw_div4_attack conv1-33 1 0.005359964519113893\n",
      "['C:/temp_imgs/cifar/real/64/', 'C:/temp_imgs/cifar/fake/64/']\n",
      "starting calculate_fid_given_paths()...\n",
      "starting _compute_statistics_of_path()...\n",
      "starting calculate_activation_statistics()...\n",
      "starting get_activations()...\n",
      "Warning: number of images is not a multiple of the batch size. Some samples are going to be ignored.\n"
     ]
    },
    {
     "name": "stderr",
     "output_type": "stream",
     "text": [
      "100%|████████████████████████████████████████████████████████████████████████████████████| 1/1 [00:00<00:00, 16.50it/s]\n"
     ]
    },
    {
     "name": "stdout",
     "output_type": "stream",
     "text": [
      "starting _compute_statistics_of_path()...\n",
      "starting calculate_activation_statistics()...\n",
      "starting get_activations()...\n",
      "Warning: number of images is not a multiple of the batch size. Some samples are going to be ignored.\n"
     ]
    },
    {
     "name": "stderr",
     "output_type": "stream",
     "text": [
      "100%|████████████████████████████████████████████████████████████████████████████████████| 1/1 [00:00<00:00, 16.61it/s]\n"
     ]
    },
    {
     "name": "stdout",
     "output_type": "stream",
     "text": [
      "starting calculate_frechet_distance()...\n",
      "64 cw_div4_attack conv1-33 1 0.005359893558428023\n",
      "['C:/temp_imgs/cifar/real/65/', 'C:/temp_imgs/cifar/fake/65/']\n",
      "starting calculate_fid_given_paths()...\n",
      "starting _compute_statistics_of_path()...\n",
      "starting calculate_activation_statistics()...\n",
      "starting get_activations()...\n",
      "Warning: number of images is not a multiple of the batch size. Some samples are going to be ignored.\n"
     ]
    },
    {
     "name": "stderr",
     "output_type": "stream",
     "text": [
      "100%|████████████████████████████████████████████████████████████████████████████████████| 1/1 [00:00<00:00, 16.54it/s]\n"
     ]
    },
    {
     "name": "stdout",
     "output_type": "stream",
     "text": [
      "starting _compute_statistics_of_path()...\n",
      "starting calculate_activation_statistics()...\n",
      "starting get_activations()...\n",
      "Warning: number of images is not a multiple of the batch size. Some samples are going to be ignored.\n"
     ]
    },
    {
     "name": "stderr",
     "output_type": "stream",
     "text": [
      "100%|████████████████████████████████████████████████████████████████████████████████████| 1/1 [00:00<00:00, 16.56it/s]\n"
     ]
    },
    {
     "name": "stdout",
     "output_type": "stream",
     "text": [
      "starting calculate_frechet_distance()...\n",
      "65 cw_div4_attack conv1-33 1 0.005360451854336036\n",
      "['C:/temp_imgs/cifar/real/66/', 'C:/temp_imgs/cifar/fake/66/']\n",
      "starting calculate_fid_given_paths()...\n",
      "starting _compute_statistics_of_path()...\n",
      "starting calculate_activation_statistics()...\n",
      "starting get_activations()...\n",
      "Warning: number of images is not a multiple of the batch size. Some samples are going to be ignored.\n"
     ]
    },
    {
     "name": "stderr",
     "output_type": "stream",
     "text": [
      "100%|████████████████████████████████████████████████████████████████████████████████████| 1/1 [00:00<00:00, 16.54it/s]\n"
     ]
    },
    {
     "name": "stdout",
     "output_type": "stream",
     "text": [
      "starting _compute_statistics_of_path()...\n",
      "starting calculate_activation_statistics()...\n",
      "starting get_activations()...\n",
      "Warning: number of images is not a multiple of the batch size. Some samples are going to be ignored.\n"
     ]
    },
    {
     "name": "stderr",
     "output_type": "stream",
     "text": [
      "100%|████████████████████████████████████████████████████████████████████████████████████| 1/1 [00:00<00:00, 16.51it/s]\n"
     ]
    },
    {
     "name": "stdout",
     "output_type": "stream",
     "text": [
      "starting calculate_frechet_distance()...\n",
      "66 cw_div4_attack conv1-33 10 0.005361049525979563\n",
      "['C:/temp_imgs/cifar/real/67/', 'C:/temp_imgs/cifar/fake/67/']\n",
      "starting calculate_fid_given_paths()...\n",
      "starting _compute_statistics_of_path()...\n",
      "starting calculate_activation_statistics()...\n",
      "starting get_activations()...\n",
      "Warning: number of images is not a multiple of the batch size. Some samples are going to be ignored.\n"
     ]
    },
    {
     "name": "stderr",
     "output_type": "stream",
     "text": [
      "100%|████████████████████████████████████████████████████████████████████████████████████| 1/1 [00:00<00:00, 19.89it/s]\n"
     ]
    },
    {
     "name": "stdout",
     "output_type": "stream",
     "text": [
      "starting _compute_statistics_of_path()...\n",
      "starting calculate_activation_statistics()...\n",
      "starting get_activations()...\n",
      "Warning: number of images is not a multiple of the batch size. Some samples are going to be ignored.\n"
     ]
    },
    {
     "name": "stderr",
     "output_type": "stream",
     "text": [
      "100%|████████████████████████████████████████████████████████████████████████████████████| 1/1 [00:00<00:00, 16.05it/s]\n"
     ]
    },
    {
     "name": "stdout",
     "output_type": "stream",
     "text": [
      "starting calculate_frechet_distance()...\n",
      "67 cw_div4_attack conv1-33 10 0.0053616877541386426\n",
      "['C:/temp_imgs/cifar/real/68/', 'C:/temp_imgs/cifar/fake/68/']\n",
      "starting calculate_fid_given_paths()...\n",
      "starting _compute_statistics_of_path()...\n",
      "starting calculate_activation_statistics()...\n",
      "starting get_activations()...\n",
      "Warning: number of images is not a multiple of the batch size. Some samples are going to be ignored.\n"
     ]
    },
    {
     "name": "stderr",
     "output_type": "stream",
     "text": [
      "100%|████████████████████████████████████████████████████████████████████████████████████| 1/1 [00:00<00:00, 17.09it/s]\n"
     ]
    },
    {
     "name": "stdout",
     "output_type": "stream",
     "text": [
      "starting _compute_statistics_of_path()...\n",
      "starting calculate_activation_statistics()...\n",
      "starting get_activations()...\n",
      "Warning: number of images is not a multiple of the batch size. Some samples are going to be ignored.\n"
     ]
    },
    {
     "name": "stderr",
     "output_type": "stream",
     "text": [
      "100%|████████████████████████████████████████████████████████████████████████████████████| 1/1 [00:00<00:00, 16.58it/s]\n"
     ]
    },
    {
     "name": "stdout",
     "output_type": "stream",
     "text": [
      "starting calculate_frechet_distance()...\n",
      "68 cw_div4_attack conv1-33 10 0.005361235476941394\n",
      "['C:/temp_imgs/cifar/real/69/', 'C:/temp_imgs/cifar/fake/69/']\n",
      "starting calculate_fid_given_paths()...\n",
      "starting _compute_statistics_of_path()...\n",
      "starting calculate_activation_statistics()...\n",
      "starting get_activations()...\n",
      "Warning: number of images is not a multiple of the batch size. Some samples are going to be ignored.\n"
     ]
    },
    {
     "name": "stderr",
     "output_type": "stream",
     "text": [
      "100%|████████████████████████████████████████████████████████████████████████████████████| 1/1 [00:00<00:00, 16.56it/s]\n"
     ]
    },
    {
     "name": "stdout",
     "output_type": "stream",
     "text": [
      "starting _compute_statistics_of_path()...\n",
      "starting calculate_activation_statistics()...\n",
      "starting get_activations()...\n",
      "Warning: number of images is not a multiple of the batch size. Some samples are going to be ignored.\n"
     ]
    },
    {
     "name": "stderr",
     "output_type": "stream",
     "text": [
      "100%|████████████████████████████████████████████████████████████████████████████████████| 1/1 [00:00<00:00, 16.51it/s]\n"
     ]
    },
    {
     "name": "stdout",
     "output_type": "stream",
     "text": [
      "starting calculate_frechet_distance()...\n",
      "69 cw_div4_attack conv1-33 100 0.005364475107294466\n",
      "['C:/temp_imgs/cifar/real/70/', 'C:/temp_imgs/cifar/fake/70/']\n",
      "starting calculate_fid_given_paths()...\n",
      "starting _compute_statistics_of_path()...\n",
      "starting calculate_activation_statistics()...\n",
      "starting get_activations()...\n",
      "Warning: number of images is not a multiple of the batch size. Some samples are going to be ignored.\n"
     ]
    },
    {
     "name": "stderr",
     "output_type": "stream",
     "text": [
      "100%|████████████████████████████████████████████████████████████████████████████████████| 1/1 [00:00<00:00, 19.81it/s]\n"
     ]
    },
    {
     "name": "stdout",
     "output_type": "stream",
     "text": [
      "starting _compute_statistics_of_path()...\n",
      "starting calculate_activation_statistics()...\n",
      "starting get_activations()...\n",
      "Warning: number of images is not a multiple of the batch size. Some samples are going to be ignored.\n"
     ]
    },
    {
     "name": "stderr",
     "output_type": "stream",
     "text": [
      "100%|████████████████████████████████████████████████████████████████████████████████████| 1/1 [00:00<00:00, 16.53it/s]\n"
     ]
    },
    {
     "name": "stdout",
     "output_type": "stream",
     "text": [
      "starting calculate_frechet_distance()...\n",
      "70 cw_div4_attack conv1-33 100 0.005367499616627941\n",
      "['C:/temp_imgs/cifar/real/71/', 'C:/temp_imgs/cifar/fake/71/']\n",
      "starting calculate_fid_given_paths()...\n",
      "starting _compute_statistics_of_path()...\n",
      "starting calculate_activation_statistics()...\n",
      "starting get_activations()...\n",
      "Warning: number of images is not a multiple of the batch size. Some samples are going to be ignored.\n"
     ]
    },
    {
     "name": "stderr",
     "output_type": "stream",
     "text": [
      "100%|████████████████████████████████████████████████████████████████████████████████████| 1/1 [00:00<00:00, 17.19it/s]\n"
     ]
    },
    {
     "name": "stdout",
     "output_type": "stream",
     "text": [
      "starting _compute_statistics_of_path()...\n",
      "starting calculate_activation_statistics()...\n",
      "starting get_activations()...\n",
      "Warning: number of images is not a multiple of the batch size. Some samples are going to be ignored.\n"
     ]
    },
    {
     "name": "stderr",
     "output_type": "stream",
     "text": [
      "100%|████████████████████████████████████████████████████████████████████████████████████| 1/1 [00:00<00:00, 16.60it/s]\n"
     ]
    },
    {
     "name": "stdout",
     "output_type": "stream",
     "text": [
      "starting calculate_frechet_distance()...\n",
      "71 cw_div4_attack conv1-33 100 0.005367048572742918\n",
      "['C:/temp_imgs/cifar/real/72/', 'C:/temp_imgs/cifar/fake/72/']\n",
      "starting calculate_fid_given_paths()...\n",
      "starting _compute_statistics_of_path()...\n",
      "starting calculate_activation_statistics()...\n",
      "starting get_activations()...\n",
      "Warning: number of images is not a multiple of the batch size. Some samples are going to be ignored.\n"
     ]
    },
    {
     "name": "stderr",
     "output_type": "stream",
     "text": [
      "100%|████████████████████████████████████████████████████████████████████████████████████| 1/1 [00:00<00:00, 16.55it/s]\n"
     ]
    },
    {
     "name": "stdout",
     "output_type": "stream",
     "text": [
      "starting _compute_statistics_of_path()...\n",
      "starting calculate_activation_statistics()...\n",
      "starting get_activations()...\n",
      "Warning: number of images is not a multiple of the batch size. Some samples are going to be ignored.\n"
     ]
    },
    {
     "name": "stderr",
     "output_type": "stream",
     "text": [
      "100%|████████████████████████████████████████████████████████████████████████████████████| 1/1 [00:00<00:00, 17.11it/s]\n"
     ]
    },
    {
     "name": "stdout",
     "output_type": "stream",
     "text": [
      "starting calculate_frechet_distance()...\n",
      "72 cw_div4_attack conv2-44 0 0.005359818424841427\n",
      "['C:/temp_imgs/cifar/real/73/', 'C:/temp_imgs/cifar/fake/73/']\n",
      "starting calculate_fid_given_paths()...\n",
      "starting _compute_statistics_of_path()...\n",
      "starting calculate_activation_statistics()...\n",
      "starting get_activations()...\n",
      "Warning: number of images is not a multiple of the batch size. Some samples are going to be ignored.\n"
     ]
    },
    {
     "name": "stderr",
     "output_type": "stream",
     "text": [
      "100%|████████████████████████████████████████████████████████████████████████████████████| 1/1 [00:00<00:00, 16.58it/s]\n"
     ]
    },
    {
     "name": "stdout",
     "output_type": "stream",
     "text": [
      "starting _compute_statistics_of_path()...\n",
      "starting calculate_activation_statistics()...\n",
      "starting get_activations()...\n",
      "Warning: number of images is not a multiple of the batch size. Some samples are going to be ignored.\n"
     ]
    },
    {
     "name": "stderr",
     "output_type": "stream",
     "text": [
      "100%|████████████████████████████████████████████████████████████████████████████████████| 1/1 [00:00<00:00, 14.63it/s]\n"
     ]
    },
    {
     "name": "stdout",
     "output_type": "stream",
     "text": [
      "starting calculate_frechet_distance()...\n",
      "73 cw_div4_attack conv2-44 0 0.005359926213135863\n",
      "['C:/temp_imgs/cifar/real/74/', 'C:/temp_imgs/cifar/fake/74/']\n",
      "starting calculate_fid_given_paths()...\n",
      "starting _compute_statistics_of_path()...\n",
      "starting calculate_activation_statistics()...\n",
      "starting get_activations()...\n",
      "Warning: number of images is not a multiple of the batch size. Some samples are going to be ignored.\n"
     ]
    },
    {
     "name": "stderr",
     "output_type": "stream",
     "text": [
      "100%|████████████████████████████████████████████████████████████████████████████████████| 1/1 [00:00<00:00, 16.60it/s]\n"
     ]
    },
    {
     "name": "stdout",
     "output_type": "stream",
     "text": [
      "starting _compute_statistics_of_path()...\n",
      "starting calculate_activation_statistics()...\n",
      "starting get_activations()...\n",
      "Warning: number of images is not a multiple of the batch size. Some samples are going to be ignored.\n"
     ]
    },
    {
     "name": "stderr",
     "output_type": "stream",
     "text": [
      "100%|████████████████████████████████████████████████████████████████████████████████████| 1/1 [00:00<00:00, 16.52it/s]\n"
     ]
    },
    {
     "name": "stdout",
     "output_type": "stream",
     "text": [
      "starting calculate_frechet_distance()...\n",
      "74 cw_div4_attack conv2-44 0 0.005359934900261808\n",
      "['C:/temp_imgs/cifar/real/75/', 'C:/temp_imgs/cifar/fake/75/']\n",
      "starting calculate_fid_given_paths()...\n",
      "starting _compute_statistics_of_path()...\n",
      "starting calculate_activation_statistics()...\n",
      "starting get_activations()...\n",
      "Warning: number of images is not a multiple of the batch size. Some samples are going to be ignored.\n"
     ]
    },
    {
     "name": "stderr",
     "output_type": "stream",
     "text": [
      "100%|████████████████████████████████████████████████████████████████████████████████████| 1/1 [00:00<00:00, 19.07it/s]\n"
     ]
    },
    {
     "name": "stdout",
     "output_type": "stream",
     "text": [
      "starting _compute_statistics_of_path()...\n",
      "starting calculate_activation_statistics()...\n",
      "starting get_activations()...\n",
      "Warning: number of images is not a multiple of the batch size. Some samples are going to be ignored.\n"
     ]
    },
    {
     "name": "stderr",
     "output_type": "stream",
     "text": [
      "100%|████████████████████████████████████████████████████████████████████████████████████| 1/1 [00:00<00:00, 16.54it/s]\n"
     ]
    },
    {
     "name": "stdout",
     "output_type": "stream",
     "text": [
      "starting calculate_frechet_distance()...\n",
      "75 cw_div4_attack conv2-44 0.001 0.0053598297556656654\n",
      "['C:/temp_imgs/cifar/real/76/', 'C:/temp_imgs/cifar/fake/76/']\n",
      "starting calculate_fid_given_paths()...\n",
      "starting _compute_statistics_of_path()...\n",
      "starting calculate_activation_statistics()...\n",
      "starting get_activations()...\n",
      "Warning: number of images is not a multiple of the batch size. Some samples are going to be ignored.\n"
     ]
    },
    {
     "name": "stderr",
     "output_type": "stream",
     "text": [
      "100%|████████████████████████████████████████████████████████████████████████████████████| 1/1 [00:00<00:00, 16.53it/s]\n"
     ]
    },
    {
     "name": "stdout",
     "output_type": "stream",
     "text": [
      "starting _compute_statistics_of_path()...\n",
      "starting calculate_activation_statistics()...\n",
      "starting get_activations()...\n",
      "Warning: number of images is not a multiple of the batch size. Some samples are going to be ignored.\n"
     ]
    },
    {
     "name": "stderr",
     "output_type": "stream",
     "text": [
      "100%|████████████████████████████████████████████████████████████████████████████████████| 1/1 [00:00<00:00, 17.33it/s]\n"
     ]
    },
    {
     "name": "stdout",
     "output_type": "stream",
     "text": [
      "starting calculate_frechet_distance()...\n",
      "76 cw_div4_attack conv2-44 0.001 0.005359944874877614\n",
      "['C:/temp_imgs/cifar/real/77/', 'C:/temp_imgs/cifar/fake/77/']\n",
      "starting calculate_fid_given_paths()...\n",
      "starting _compute_statistics_of_path()...\n",
      "starting calculate_activation_statistics()...\n",
      "starting get_activations()...\n",
      "Warning: number of images is not a multiple of the batch size. Some samples are going to be ignored.\n"
     ]
    },
    {
     "name": "stderr",
     "output_type": "stream",
     "text": [
      "100%|████████████████████████████████████████████████████████████████████████████████████| 1/1 [00:00<00:00, 16.53it/s]\n"
     ]
    },
    {
     "name": "stdout",
     "output_type": "stream",
     "text": [
      "starting _compute_statistics_of_path()...\n",
      "starting calculate_activation_statistics()...\n",
      "starting get_activations()...\n",
      "Warning: number of images is not a multiple of the batch size. Some samples are going to be ignored.\n"
     ]
    },
    {
     "name": "stderr",
     "output_type": "stream",
     "text": [
      "100%|████████████████████████████████████████████████████████████████████████████████████| 1/1 [00:00<00:00, 16.44it/s]\n"
     ]
    },
    {
     "name": "stdout",
     "output_type": "stream",
     "text": [
      "starting calculate_frechet_distance()...\n",
      "77 cw_div4_attack conv2-44 0.001 0.005359965662633295\n",
      "['C:/temp_imgs/cifar/real/78/', 'C:/temp_imgs/cifar/fake/78/']\n",
      "starting calculate_fid_given_paths()...\n",
      "starting _compute_statistics_of_path()...\n",
      "starting calculate_activation_statistics()...\n",
      "starting get_activations()...\n",
      "Warning: number of images is not a multiple of the batch size. Some samples are going to be ignored.\n"
     ]
    },
    {
     "name": "stderr",
     "output_type": "stream",
     "text": [
      "100%|████████████████████████████████████████████████████████████████████████████████████| 1/1 [00:00<00:00, 16.61it/s]\n"
     ]
    },
    {
     "name": "stdout",
     "output_type": "stream",
     "text": [
      "starting _compute_statistics_of_path()...\n",
      "starting calculate_activation_statistics()...\n",
      "starting get_activations()...\n",
      "Warning: number of images is not a multiple of the batch size. Some samples are going to be ignored.\n"
     ]
    },
    {
     "name": "stderr",
     "output_type": "stream",
     "text": [
      "100%|████████████████████████████████████████████████████████████████████████████████████| 1/1 [00:00<00:00, 16.54it/s]\n"
     ]
    },
    {
     "name": "stdout",
     "output_type": "stream",
     "text": [
      "starting calculate_frechet_distance()...\n",
      "78 cw_div4_attack conv2-44 0.01 0.005359757725067993\n",
      "['C:/temp_imgs/cifar/real/79/', 'C:/temp_imgs/cifar/fake/79/']\n",
      "starting calculate_fid_given_paths()...\n",
      "starting _compute_statistics_of_path()...\n",
      "starting calculate_activation_statistics()...\n",
      "starting get_activations()...\n",
      "Warning: number of images is not a multiple of the batch size. Some samples are going to be ignored.\n"
     ]
    },
    {
     "name": "stderr",
     "output_type": "stream",
     "text": [
      "100%|████████████████████████████████████████████████████████████████████████████████████| 1/1 [00:00<00:00, 16.49it/s]\n"
     ]
    },
    {
     "name": "stdout",
     "output_type": "stream",
     "text": [
      "starting _compute_statistics_of_path()...\n",
      "starting calculate_activation_statistics()...\n",
      "starting get_activations()...\n",
      "Warning: number of images is not a multiple of the batch size. Some samples are going to be ignored.\n"
     ]
    },
    {
     "name": "stderr",
     "output_type": "stream",
     "text": [
      "100%|████████████████████████████████████████████████████████████████████████████████████| 1/1 [00:00<00:00, 17.00it/s]\n"
     ]
    },
    {
     "name": "stdout",
     "output_type": "stream",
     "text": [
      "starting calculate_frechet_distance()...\n",
      "79 cw_div4_attack conv2-44 0.01 0.005359892144569073\n",
      "['C:/temp_imgs/cifar/real/80/', 'C:/temp_imgs/cifar/fake/80/']\n",
      "starting calculate_fid_given_paths()...\n",
      "starting _compute_statistics_of_path()...\n",
      "starting calculate_activation_statistics()...\n",
      "starting get_activations()...\n",
      "Warning: number of images is not a multiple of the batch size. Some samples are going to be ignored.\n"
     ]
    },
    {
     "name": "stderr",
     "output_type": "stream",
     "text": [
      "100%|████████████████████████████████████████████████████████████████████████████████████| 1/1 [00:00<00:00, 16.56it/s]\n"
     ]
    },
    {
     "name": "stdout",
     "output_type": "stream",
     "text": [
      "starting _compute_statistics_of_path()...\n",
      "starting calculate_activation_statistics()...\n",
      "starting get_activations()...\n",
      "Warning: number of images is not a multiple of the batch size. Some samples are going to be ignored.\n"
     ]
    },
    {
     "name": "stderr",
     "output_type": "stream",
     "text": [
      "100%|████████████████████████████████████████████████████████████████████████████████████| 1/1 [00:00<00:00, 16.19it/s]\n"
     ]
    },
    {
     "name": "stdout",
     "output_type": "stream",
     "text": [
      "starting calculate_frechet_distance()...\n",
      "80 cw_div4_attack conv2-44 0.01 0.005359981272345575\n",
      "['C:/temp_imgs/cifar/real/81/', 'C:/temp_imgs/cifar/fake/81/']\n",
      "starting calculate_fid_given_paths()...\n",
      "starting _compute_statistics_of_path()...\n",
      "starting calculate_activation_statistics()...\n",
      "starting get_activations()...\n",
      "Warning: number of images is not a multiple of the batch size. Some samples are going to be ignored.\n"
     ]
    },
    {
     "name": "stderr",
     "output_type": "stream",
     "text": [
      "100%|████████████████████████████████████████████████████████████████████████████████████| 1/1 [00:00<00:00, 16.51it/s]\n"
     ]
    },
    {
     "name": "stdout",
     "output_type": "stream",
     "text": [
      "starting _compute_statistics_of_path()...\n",
      "starting calculate_activation_statistics()...\n",
      "starting get_activations()...\n",
      "Warning: number of images is not a multiple of the batch size. Some samples are going to be ignored.\n"
     ]
    },
    {
     "name": "stderr",
     "output_type": "stream",
     "text": [
      "100%|████████████████████████████████████████████████████████████████████████████████████| 1/1 [00:00<00:00, 16.54it/s]\n"
     ]
    },
    {
     "name": "stdout",
     "output_type": "stream",
     "text": [
      "starting calculate_frechet_distance()...\n",
      "81 cw_div4_attack conv2-44 1 0.005361045954267801\n",
      "['C:/temp_imgs/cifar/real/82/', 'C:/temp_imgs/cifar/fake/82/']\n",
      "starting calculate_fid_given_paths()...\n",
      "starting _compute_statistics_of_path()...\n",
      "starting calculate_activation_statistics()...\n",
      "starting get_activations()...\n",
      "Warning: number of images is not a multiple of the batch size. Some samples are going to be ignored.\n"
     ]
    },
    {
     "name": "stderr",
     "output_type": "stream",
     "text": [
      "100%|████████████████████████████████████████████████████████████████████████████████████| 1/1 [00:00<00:00, 16.55it/s]\n"
     ]
    },
    {
     "name": "stdout",
     "output_type": "stream",
     "text": [
      "starting _compute_statistics_of_path()...\n",
      "starting calculate_activation_statistics()...\n",
      "starting get_activations()...\n",
      "Warning: number of images is not a multiple of the batch size. Some samples are going to be ignored.\n"
     ]
    },
    {
     "name": "stderr",
     "output_type": "stream",
     "text": [
      "100%|████████████████████████████████████████████████████████████████████████████████████| 1/1 [00:00<00:00, 16.49it/s]\n"
     ]
    },
    {
     "name": "stdout",
     "output_type": "stream",
     "text": [
      "starting calculate_frechet_distance()...\n",
      "82 cw_div4_attack conv2-44 1 0.00536025368802285\n",
      "['C:/temp_imgs/cifar/real/83/', 'C:/temp_imgs/cifar/fake/83/']\n",
      "starting calculate_fid_given_paths()...\n",
      "starting _compute_statistics_of_path()...\n",
      "starting calculate_activation_statistics()...\n",
      "starting get_activations()...\n",
      "Warning: number of images is not a multiple of the batch size. Some samples are going to be ignored.\n"
     ]
    },
    {
     "name": "stderr",
     "output_type": "stream",
     "text": [
      "100%|████████████████████████████████████████████████████████████████████████████████████| 1/1 [00:00<00:00, 17.12it/s]\n"
     ]
    },
    {
     "name": "stdout",
     "output_type": "stream",
     "text": [
      "starting _compute_statistics_of_path()...\n",
      "starting calculate_activation_statistics()...\n",
      "starting get_activations()...\n",
      "Warning: number of images is not a multiple of the batch size. Some samples are going to be ignored.\n"
     ]
    },
    {
     "name": "stderr",
     "output_type": "stream",
     "text": [
      "100%|████████████████████████████████████████████████████████████████████████████████████| 1/1 [00:00<00:00, 16.55it/s]\n"
     ]
    },
    {
     "name": "stdout",
     "output_type": "stream",
     "text": [
      "starting calculate_frechet_distance()...\n",
      "83 cw_div4_attack conv2-44 1 0.005361137818660397\n",
      "['C:/temp_imgs/cifar/real/84/', 'C:/temp_imgs/cifar/fake/84/']\n",
      "starting calculate_fid_given_paths()...\n",
      "starting _compute_statistics_of_path()...\n",
      "starting calculate_activation_statistics()...\n",
      "starting get_activations()...\n",
      "Warning: number of images is not a multiple of the batch size. Some samples are going to be ignored.\n"
     ]
    },
    {
     "name": "stderr",
     "output_type": "stream",
     "text": [
      "100%|████████████████████████████████████████████████████████████████████████████████████| 1/1 [00:00<00:00, 19.14it/s]\n"
     ]
    },
    {
     "name": "stdout",
     "output_type": "stream",
     "text": [
      "starting _compute_statistics_of_path()...\n",
      "starting calculate_activation_statistics()...\n",
      "starting get_activations()...\n",
      "Warning: number of images is not a multiple of the batch size. Some samples are going to be ignored.\n"
     ]
    },
    {
     "name": "stderr",
     "output_type": "stream",
     "text": [
      "100%|████████████████████████████████████████████████████████████████████████████████████| 1/1 [00:00<00:00, 16.53it/s]\n"
     ]
    },
    {
     "name": "stdout",
     "output_type": "stream",
     "text": [
      "starting calculate_frechet_distance()...\n",
      "84 cw_div4_attack conv2-44 10 0.005364993248473422\n",
      "['C:/temp_imgs/cifar/real/85/', 'C:/temp_imgs/cifar/fake/85/']\n",
      "starting calculate_fid_given_paths()...\n",
      "starting _compute_statistics_of_path()...\n",
      "starting calculate_activation_statistics()...\n",
      "starting get_activations()...\n",
      "Warning: number of images is not a multiple of the batch size. Some samples are going to be ignored.\n"
     ]
    },
    {
     "name": "stderr",
     "output_type": "stream",
     "text": [
      "100%|████████████████████████████████████████████████████████████████████████████████████| 1/1 [00:00<00:00, 16.60it/s]\n"
     ]
    },
    {
     "name": "stdout",
     "output_type": "stream",
     "text": [
      "starting _compute_statistics_of_path()...\n",
      "starting calculate_activation_statistics()...\n",
      "starting get_activations()...\n",
      "Warning: number of images is not a multiple of the batch size. Some samples are going to be ignored.\n"
     ]
    },
    {
     "name": "stderr",
     "output_type": "stream",
     "text": [
      "100%|████████████████████████████████████████████████████████████████████████████████████| 1/1 [00:00<00:00, 16.58it/s]\n"
     ]
    },
    {
     "name": "stdout",
     "output_type": "stream",
     "text": [
      "starting calculate_frechet_distance()...\n",
      "85 cw_div4_attack conv2-44 10 0.005362329909297832\n",
      "['C:/temp_imgs/cifar/real/86/', 'C:/temp_imgs/cifar/fake/86/']\n",
      "starting calculate_fid_given_paths()...\n",
      "starting _compute_statistics_of_path()...\n",
      "starting calculate_activation_statistics()...\n",
      "starting get_activations()...\n",
      "Warning: number of images is not a multiple of the batch size. Some samples are going to be ignored.\n"
     ]
    },
    {
     "name": "stderr",
     "output_type": "stream",
     "text": [
      "100%|████████████████████████████████████████████████████████████████████████████████████| 1/1 [00:00<00:00, 16.53it/s]\n"
     ]
    },
    {
     "name": "stdout",
     "output_type": "stream",
     "text": [
      "starting _compute_statistics_of_path()...\n",
      "starting calculate_activation_statistics()...\n",
      "starting get_activations()...\n",
      "Warning: number of images is not a multiple of the batch size. Some samples are going to be ignored.\n"
     ]
    },
    {
     "name": "stderr",
     "output_type": "stream",
     "text": [
      "100%|████████████████████████████████████████████████████████████████████████████████████| 1/1 [00:00<00:00, 15.96it/s]\n"
     ]
    },
    {
     "name": "stdout",
     "output_type": "stream",
     "text": [
      "starting calculate_frechet_distance()...\n",
      "86 cw_div4_attack conv2-44 10 0.005363513688484541\n",
      "['C:/temp_imgs/cifar/real/87/', 'C:/temp_imgs/cifar/fake/87/']\n",
      "starting calculate_fid_given_paths()...\n",
      "starting _compute_statistics_of_path()...\n",
      "starting calculate_activation_statistics()...\n",
      "starting get_activations()...\n",
      "Warning: number of images is not a multiple of the batch size. Some samples are going to be ignored.\n"
     ]
    },
    {
     "name": "stderr",
     "output_type": "stream",
     "text": [
      "100%|████████████████████████████████████████████████████████████████████████████████████| 1/1 [00:00<00:00, 16.53it/s]\n"
     ]
    },
    {
     "name": "stdout",
     "output_type": "stream",
     "text": [
      "starting _compute_statistics_of_path()...\n",
      "starting calculate_activation_statistics()...\n",
      "starting get_activations()...\n",
      "Warning: number of images is not a multiple of the batch size. Some samples are going to be ignored.\n"
     ]
    },
    {
     "name": "stderr",
     "output_type": "stream",
     "text": [
      "100%|████████████████████████████████████████████████████████████████████████████████████| 1/1 [00:00<00:00, 17.13it/s]\n"
     ]
    },
    {
     "name": "stdout",
     "output_type": "stream",
     "text": [
      "starting calculate_frechet_distance()...\n",
      "87 cw_div4_attack conv2-44 100 0.005381947224757504\n",
      "['C:/temp_imgs/cifar/real/88/', 'C:/temp_imgs/cifar/fake/88/']\n",
      "starting calculate_fid_given_paths()...\n",
      "starting _compute_statistics_of_path()...\n",
      "starting calculate_activation_statistics()...\n",
      "starting get_activations()...\n",
      "Warning: number of images is not a multiple of the batch size. Some samples are going to be ignored.\n"
     ]
    },
    {
     "name": "stderr",
     "output_type": "stream",
     "text": [
      "100%|████████████████████████████████████████████████████████████████████████████████████| 1/1 [00:00<00:00, 19.05it/s]\n"
     ]
    },
    {
     "name": "stdout",
     "output_type": "stream",
     "text": [
      "starting _compute_statistics_of_path()...\n",
      "starting calculate_activation_statistics()...\n",
      "starting get_activations()...\n",
      "Warning: number of images is not a multiple of the batch size. Some samples are going to be ignored.\n"
     ]
    },
    {
     "name": "stderr",
     "output_type": "stream",
     "text": [
      "100%|████████████████████████████████████████████████████████████████████████████████████| 1/1 [00:00<00:00, 16.58it/s]\n"
     ]
    },
    {
     "name": "stdout",
     "output_type": "stream",
     "text": [
      "starting calculate_frechet_distance()...\n",
      "88 cw_div4_attack conv2-44 100 0.005390533391108329\n",
      "['C:/temp_imgs/cifar/real/89/', 'C:/temp_imgs/cifar/fake/89/']\n",
      "starting calculate_fid_given_paths()...\n",
      "starting _compute_statistics_of_path()...\n",
      "starting calculate_activation_statistics()...\n",
      "starting get_activations()...\n",
      "Warning: number of images is not a multiple of the batch size. Some samples are going to be ignored.\n"
     ]
    },
    {
     "name": "stderr",
     "output_type": "stream",
     "text": [
      "100%|████████████████████████████████████████████████████████████████████████████████████| 1/1 [00:00<00:00, 16.58it/s]\n"
     ]
    },
    {
     "name": "stdout",
     "output_type": "stream",
     "text": [
      "starting _compute_statistics_of_path()...\n",
      "starting calculate_activation_statistics()...\n",
      "starting get_activations()...\n",
      "Warning: number of images is not a multiple of the batch size. Some samples are going to be ignored.\n"
     ]
    },
    {
     "name": "stderr",
     "output_type": "stream",
     "text": [
      "100%|████████████████████████████████████████████████████████████████████████████████████| 1/1 [00:00<00:00, 16.54it/s]\n"
     ]
    },
    {
     "name": "stdout",
     "output_type": "stream",
     "text": [
      "starting calculate_frechet_distance()...\n",
      "89 cw_div4_attack conv2-44 100 0.0053998107275829155\n",
      "['C:/temp_imgs/cifar/real/90/', 'C:/temp_imgs/cifar/fake/90/']\n",
      "starting calculate_fid_given_paths()...\n",
      "starting _compute_statistics_of_path()...\n",
      "starting calculate_activation_statistics()...\n",
      "starting get_activations()...\n",
      "Warning: number of images is not a multiple of the batch size. Some samples are going to be ignored.\n"
     ]
    },
    {
     "name": "stderr",
     "output_type": "stream",
     "text": [
      "100%|████████████████████████████████████████████████████████████████████████████████████| 1/1 [00:00<00:00, 17.42it/s]\n"
     ]
    },
    {
     "name": "stdout",
     "output_type": "stream",
     "text": [
      "starting _compute_statistics_of_path()...\n",
      "starting calculate_activation_statistics()...\n",
      "starting get_activations()...\n",
      "Warning: number of images is not a multiple of the batch size. Some samples are going to be ignored.\n"
     ]
    },
    {
     "name": "stderr",
     "output_type": "stream",
     "text": [
      "100%|████████████████████████████████████████████████████████████████████████████████████| 1/1 [00:00<00:00, 16.61it/s]\n"
     ]
    },
    {
     "name": "stdout",
     "output_type": "stream",
     "text": [
      "starting calculate_frechet_distance()...\n",
      "90 cw_div4_attack linear-55 0 0.005359820269726127\n",
      "['C:/temp_imgs/cifar/real/91/', 'C:/temp_imgs/cifar/fake/91/']\n",
      "starting calculate_fid_given_paths()...\n",
      "starting _compute_statistics_of_path()...\n",
      "starting calculate_activation_statistics()...\n",
      "starting get_activations()...\n",
      "Warning: number of images is not a multiple of the batch size. Some samples are going to be ignored.\n"
     ]
    },
    {
     "name": "stderr",
     "output_type": "stream",
     "text": [
      "100%|████████████████████████████████████████████████████████████████████████████████████| 1/1 [00:00<00:00, 19.79it/s]\n"
     ]
    },
    {
     "name": "stdout",
     "output_type": "stream",
     "text": [
      "starting _compute_statistics_of_path()...\n",
      "starting calculate_activation_statistics()...\n",
      "starting get_activations()...\n",
      "Warning: number of images is not a multiple of the batch size. Some samples are going to be ignored.\n"
     ]
    },
    {
     "name": "stderr",
     "output_type": "stream",
     "text": [
      "100%|████████████████████████████████████████████████████████████████████████████████████| 1/1 [00:00<00:00, 16.59it/s]\n"
     ]
    },
    {
     "name": "stdout",
     "output_type": "stream",
     "text": [
      "starting calculate_frechet_distance()...\n",
      "91 cw_div4_attack linear-55 0 0.005359904432225688\n",
      "['C:/temp_imgs/cifar/real/92/', 'C:/temp_imgs/cifar/fake/92/']\n",
      "starting calculate_fid_given_paths()...\n",
      "starting _compute_statistics_of_path()...\n",
      "starting calculate_activation_statistics()...\n",
      "starting get_activations()...\n",
      "Warning: number of images is not a multiple of the batch size. Some samples are going to be ignored.\n"
     ]
    },
    {
     "name": "stderr",
     "output_type": "stream",
     "text": [
      "100%|████████████████████████████████████████████████████████████████████████████████████| 1/1 [00:00<00:00, 16.56it/s]\n"
     ]
    },
    {
     "name": "stdout",
     "output_type": "stream",
     "text": [
      "starting _compute_statistics_of_path()...\n",
      "starting calculate_activation_statistics()...\n",
      "starting get_activations()...\n",
      "Warning: number of images is not a multiple of the batch size. Some samples are going to be ignored.\n"
     ]
    },
    {
     "name": "stderr",
     "output_type": "stream",
     "text": [
      "100%|████████████████████████████████████████████████████████████████████████████████████| 1/1 [00:00<00:00, 16.50it/s]\n"
     ]
    },
    {
     "name": "stdout",
     "output_type": "stream",
     "text": [
      "starting calculate_frechet_distance()...\n",
      "92 cw_div4_attack linear-55 0 0.005359935141683176\n",
      "['C:/temp_imgs/cifar/real/93/', 'C:/temp_imgs/cifar/fake/93/']\n",
      "starting calculate_fid_given_paths()...\n",
      "starting _compute_statistics_of_path()...\n",
      "starting calculate_activation_statistics()...\n",
      "starting get_activations()...\n",
      "Warning: number of images is not a multiple of the batch size. Some samples are going to be ignored.\n"
     ]
    },
    {
     "name": "stderr",
     "output_type": "stream",
     "text": [
      "100%|████████████████████████████████████████████████████████████████████████████████████| 1/1 [00:00<00:00, 19.28it/s]\n"
     ]
    },
    {
     "name": "stdout",
     "output_type": "stream",
     "text": [
      "starting _compute_statistics_of_path()...\n",
      "starting calculate_activation_statistics()...\n",
      "starting get_activations()...\n",
      "Warning: number of images is not a multiple of the batch size. Some samples are going to be ignored.\n"
     ]
    },
    {
     "name": "stderr",
     "output_type": "stream",
     "text": [
      "100%|████████████████████████████████████████████████████████████████████████████████████| 1/1 [00:00<00:00, 16.51it/s]\n"
     ]
    },
    {
     "name": "stdout",
     "output_type": "stream",
     "text": [
      "starting calculate_frechet_distance()...\n",
      "93 cw_div4_attack linear-55 0.001 0.00535982948362082\n",
      "['C:/temp_imgs/cifar/real/94/', 'C:/temp_imgs/cifar/fake/94/']\n",
      "starting calculate_fid_given_paths()...\n",
      "starting _compute_statistics_of_path()...\n",
      "starting calculate_activation_statistics()...\n",
      "starting get_activations()...\n",
      "Warning: number of images is not a multiple of the batch size. Some samples are going to be ignored.\n"
     ]
    },
    {
     "name": "stderr",
     "output_type": "stream",
     "text": [
      "100%|████████████████████████████████████████████████████████████████████████████████████| 1/1 [00:00<00:00, 19.88it/s]\n"
     ]
    },
    {
     "name": "stdout",
     "output_type": "stream",
     "text": [
      "starting _compute_statistics_of_path()...\n",
      "starting calculate_activation_statistics()...\n",
      "starting get_activations()...\n",
      "Warning: number of images is not a multiple of the batch size. Some samples are going to be ignored.\n"
     ]
    },
    {
     "name": "stderr",
     "output_type": "stream",
     "text": [
      "100%|████████████████████████████████████████████████████████████████████████████████████| 1/1 [00:00<00:00, 16.54it/s]\n"
     ]
    },
    {
     "name": "stdout",
     "output_type": "stream",
     "text": [
      "starting calculate_frechet_distance()...\n",
      "94 cw_div4_attack linear-55 0.001 0.005359937794208478\n",
      "['C:/temp_imgs/cifar/real/95/', 'C:/temp_imgs/cifar/fake/95/']\n",
      "starting calculate_fid_given_paths()...\n",
      "starting _compute_statistics_of_path()...\n",
      "starting calculate_activation_statistics()...\n",
      "starting get_activations()...\n",
      "Warning: number of images is not a multiple of the batch size. Some samples are going to be ignored.\n"
     ]
    },
    {
     "name": "stderr",
     "output_type": "stream",
     "text": [
      "100%|████████████████████████████████████████████████████████████████████████████████████| 1/1 [00:00<00:00, 16.54it/s]\n"
     ]
    },
    {
     "name": "stdout",
     "output_type": "stream",
     "text": [
      "starting _compute_statistics_of_path()...\n",
      "starting calculate_activation_statistics()...\n",
      "starting get_activations()...\n",
      "Warning: number of images is not a multiple of the batch size. Some samples are going to be ignored.\n"
     ]
    },
    {
     "name": "stderr",
     "output_type": "stream",
     "text": [
      "100%|████████████████████████████████████████████████████████████████████████████████████| 1/1 [00:00<00:00, 16.05it/s]\n"
     ]
    },
    {
     "name": "stdout",
     "output_type": "stream",
     "text": [
      "starting calculate_frechet_distance()...\n",
      "95 cw_div4_attack linear-55 0.001 0.005359944715767649\n",
      "['C:/temp_imgs/cifar/real/96/', 'C:/temp_imgs/cifar/fake/96/']\n",
      "starting calculate_fid_given_paths()...\n",
      "starting _compute_statistics_of_path()...\n",
      "starting calculate_activation_statistics()...\n",
      "starting get_activations()...\n",
      "Warning: number of images is not a multiple of the batch size. Some samples are going to be ignored.\n"
     ]
    },
    {
     "name": "stderr",
     "output_type": "stream",
     "text": [
      "100%|████████████████████████████████████████████████████████████████████████████████████| 1/1 [00:00<00:00, 19.83it/s]\n"
     ]
    },
    {
     "name": "stdout",
     "output_type": "stream",
     "text": [
      "starting _compute_statistics_of_path()...\n",
      "starting calculate_activation_statistics()...\n",
      "starting get_activations()...\n",
      "Warning: number of images is not a multiple of the batch size. Some samples are going to be ignored.\n"
     ]
    },
    {
     "name": "stderr",
     "output_type": "stream",
     "text": [
      "100%|████████████████████████████████████████████████████████████████████████████████████| 1/1 [00:00<00:00, 14.22it/s]\n"
     ]
    },
    {
     "name": "stdout",
     "output_type": "stream",
     "text": [
      "starting calculate_frechet_distance()...\n",
      "96 cw_div4_attack linear-55 0.01 0.005359745800308302\n",
      "['C:/temp_imgs/cifar/real/97/', 'C:/temp_imgs/cifar/fake/97/']\n",
      "starting calculate_fid_given_paths()...\n",
      "starting _compute_statistics_of_path()...\n",
      "starting calculate_activation_statistics()...\n",
      "starting get_activations()...\n",
      "Warning: number of images is not a multiple of the batch size. Some samples are going to be ignored.\n"
     ]
    },
    {
     "name": "stderr",
     "output_type": "stream",
     "text": [
      "100%|████████████████████████████████████████████████████████████████████████████████████| 1/1 [00:00<00:00, 16.59it/s]\n"
     ]
    },
    {
     "name": "stdout",
     "output_type": "stream",
     "text": [
      "starting _compute_statistics_of_path()...\n",
      "starting calculate_activation_statistics()...\n",
      "starting get_activations()...\n",
      "Warning: number of images is not a multiple of the batch size. Some samples are going to be ignored.\n"
     ]
    },
    {
     "name": "stderr",
     "output_type": "stream",
     "text": [
      "100%|████████████████████████████████████████████████████████████████████████████████████| 1/1 [00:00<00:00, 16.53it/s]\n"
     ]
    },
    {
     "name": "stdout",
     "output_type": "stream",
     "text": [
      "starting calculate_frechet_distance()...\n",
      "97 cw_div4_attack linear-55 0.01 0.005359921353340681\n",
      "['C:/temp_imgs/cifar/real/98/', 'C:/temp_imgs/cifar/fake/98/']\n",
      "starting calculate_fid_given_paths()...\n",
      "starting _compute_statistics_of_path()...\n",
      "starting calculate_activation_statistics()...\n",
      "starting get_activations()...\n",
      "Warning: number of images is not a multiple of the batch size. Some samples are going to be ignored.\n"
     ]
    },
    {
     "name": "stderr",
     "output_type": "stream",
     "text": [
      "100%|████████████████████████████████████████████████████████████████████████████████████| 1/1 [00:00<00:00, 19.14it/s]\n"
     ]
    },
    {
     "name": "stdout",
     "output_type": "stream",
     "text": [
      "starting _compute_statistics_of_path()...\n",
      "starting calculate_activation_statistics()...\n",
      "starting get_activations()...\n",
      "Warning: number of images is not a multiple of the batch size. Some samples are going to be ignored.\n"
     ]
    },
    {
     "name": "stderr",
     "output_type": "stream",
     "text": [
      "100%|████████████████████████████████████████████████████████████████████████████████████| 1/1 [00:00<00:00, 16.57it/s]\n"
     ]
    },
    {
     "name": "stdout",
     "output_type": "stream",
     "text": [
      "starting calculate_frechet_distance()...\n",
      "98 cw_div4_attack linear-55 0.01 0.005359924816056894\n",
      "['C:/temp_imgs/cifar/real/99/', 'C:/temp_imgs/cifar/fake/99/']\n",
      "starting calculate_fid_given_paths()...\n",
      "starting _compute_statistics_of_path()...\n",
      "starting calculate_activation_statistics()...\n",
      "starting get_activations()...\n",
      "Warning: number of images is not a multiple of the batch size. Some samples are going to be ignored.\n"
     ]
    },
    {
     "name": "stderr",
     "output_type": "stream",
     "text": [
      "100%|████████████████████████████████████████████████████████████████████████████████████| 1/1 [00:00<00:00, 17.14it/s]\n"
     ]
    },
    {
     "name": "stdout",
     "output_type": "stream",
     "text": [
      "starting _compute_statistics_of_path()...\n",
      "starting calculate_activation_statistics()...\n",
      "starting get_activations()...\n",
      "Warning: number of images is not a multiple of the batch size. Some samples are going to be ignored.\n"
     ]
    },
    {
     "name": "stderr",
     "output_type": "stream",
     "text": [
      "100%|████████████████████████████████████████████████████████████████████████████████████| 1/1 [00:00<00:00, 16.03it/s]\n"
     ]
    },
    {
     "name": "stdout",
     "output_type": "stream",
     "text": [
      "starting calculate_frechet_distance()...\n",
      "99 cw_div4_attack linear-55 1 0.005359802157005288\n",
      "['C:/temp_imgs/cifar/real/100/', 'C:/temp_imgs/cifar/fake/100/']\n",
      "starting calculate_fid_given_paths()...\n",
      "starting _compute_statistics_of_path()...\n",
      "starting calculate_activation_statistics()...\n",
      "starting get_activations()...\n",
      "Warning: number of images is not a multiple of the batch size. Some samples are going to be ignored.\n"
     ]
    },
    {
     "name": "stderr",
     "output_type": "stream",
     "text": [
      "100%|████████████████████████████████████████████████████████████████████████████████████| 1/1 [00:00<00:00, 16.53it/s]\n"
     ]
    },
    {
     "name": "stdout",
     "output_type": "stream",
     "text": [
      "starting _compute_statistics_of_path()...\n",
      "starting calculate_activation_statistics()...\n",
      "starting get_activations()...\n",
      "Warning: number of images is not a multiple of the batch size. Some samples are going to be ignored.\n"
     ]
    },
    {
     "name": "stderr",
     "output_type": "stream",
     "text": [
      "100%|████████████████████████████████████████████████████████████████████████████████████| 1/1 [00:00<00:00, 16.57it/s]\n"
     ]
    },
    {
     "name": "stdout",
     "output_type": "stream",
     "text": [
      "starting calculate_frechet_distance()...\n",
      "100 cw_div4_attack linear-55 1 0.005359918797606759\n",
      "['C:/temp_imgs/cifar/real/101/', 'C:/temp_imgs/cifar/fake/101/']\n",
      "starting calculate_fid_given_paths()...\n",
      "starting _compute_statistics_of_path()...\n",
      "starting calculate_activation_statistics()...\n",
      "starting get_activations()...\n",
      "Warning: number of images is not a multiple of the batch size. Some samples are going to be ignored.\n"
     ]
    },
    {
     "name": "stderr",
     "output_type": "stream",
     "text": [
      "100%|████████████████████████████████████████████████████████████████████████████████████| 1/1 [00:00<00:00, 19.13it/s]\n"
     ]
    },
    {
     "name": "stdout",
     "output_type": "stream",
     "text": [
      "starting _compute_statistics_of_path()...\n",
      "starting calculate_activation_statistics()...\n",
      "starting get_activations()...\n",
      "Warning: number of images is not a multiple of the batch size. Some samples are going to be ignored.\n"
     ]
    },
    {
     "name": "stderr",
     "output_type": "stream",
     "text": [
      "100%|████████████████████████████████████████████████████████████████████████████████████| 1/1 [00:00<00:00, 16.61it/s]\n"
     ]
    },
    {
     "name": "stdout",
     "output_type": "stream",
     "text": [
      "starting calculate_frechet_distance()...\n",
      "101 cw_div4_attack linear-55 1 0.005359963425869834\n",
      "['C:/temp_imgs/cifar/real/102/', 'C:/temp_imgs/cifar/fake/102/']\n",
      "starting calculate_fid_given_paths()...\n",
      "starting _compute_statistics_of_path()...\n",
      "starting calculate_activation_statistics()...\n",
      "starting get_activations()...\n",
      "Warning: number of images is not a multiple of the batch size. Some samples are going to be ignored.\n"
     ]
    },
    {
     "name": "stderr",
     "output_type": "stream",
     "text": [
      "100%|████████████████████████████████████████████████████████████████████████████████████| 1/1 [00:00<00:00, 17.13it/s]\n"
     ]
    },
    {
     "name": "stdout",
     "output_type": "stream",
     "text": [
      "starting _compute_statistics_of_path()...\n",
      "starting calculate_activation_statistics()...\n",
      "starting get_activations()...\n",
      "Warning: number of images is not a multiple of the batch size. Some samples are going to be ignored.\n"
     ]
    },
    {
     "name": "stderr",
     "output_type": "stream",
     "text": [
      "100%|████████████████████████████████████████████████████████████████████████████████████| 1/1 [00:00<00:00, 14.12it/s]\n"
     ]
    },
    {
     "name": "stdout",
     "output_type": "stream",
     "text": [
      "starting calculate_frechet_distance()...\n",
      "102 cw_div4_attack linear-55 10 0.005359965560372198\n",
      "['C:/temp_imgs/cifar/real/103/', 'C:/temp_imgs/cifar/fake/103/']\n",
      "starting calculate_fid_given_paths()...\n",
      "starting _compute_statistics_of_path()...\n",
      "starting calculate_activation_statistics()...\n",
      "starting get_activations()...\n",
      "Warning: number of images is not a multiple of the batch size. Some samples are going to be ignored.\n"
     ]
    },
    {
     "name": "stderr",
     "output_type": "stream",
     "text": [
      "100%|████████████████████████████████████████████████████████████████████████████████████| 1/1 [00:00<00:00, 16.56it/s]\n"
     ]
    },
    {
     "name": "stdout",
     "output_type": "stream",
     "text": [
      "starting _compute_statistics_of_path()...\n",
      "starting calculate_activation_statistics()...\n",
      "starting get_activations()...\n",
      "Warning: number of images is not a multiple of the batch size. Some samples are going to be ignored.\n"
     ]
    },
    {
     "name": "stderr",
     "output_type": "stream",
     "text": [
      "100%|████████████████████████████████████████████████████████████████████████████████████| 1/1 [00:00<00:00, 16.00it/s]\n"
     ]
    },
    {
     "name": "stdout",
     "output_type": "stream",
     "text": [
      "starting calculate_frechet_distance()...\n",
      "103 cw_div4_attack linear-55 10 0.0053601491634211115\n",
      "['C:/temp_imgs/cifar/real/104/', 'C:/temp_imgs/cifar/fake/104/']\n",
      "starting calculate_fid_given_paths()...\n",
      "starting _compute_statistics_of_path()...\n",
      "starting calculate_activation_statistics()...\n",
      "starting get_activations()...\n",
      "Warning: number of images is not a multiple of the batch size. Some samples are going to be ignored.\n"
     ]
    },
    {
     "name": "stderr",
     "output_type": "stream",
     "text": [
      "100%|████████████████████████████████████████████████████████████████████████████████████| 1/1 [00:00<00:00, 16.54it/s]\n"
     ]
    },
    {
     "name": "stdout",
     "output_type": "stream",
     "text": [
      "starting _compute_statistics_of_path()...\n",
      "starting calculate_activation_statistics()...\n",
      "starting get_activations()...\n",
      "Warning: number of images is not a multiple of the batch size. Some samples are going to be ignored.\n"
     ]
    },
    {
     "name": "stderr",
     "output_type": "stream",
     "text": [
      "100%|████████████████████████████████████████████████████████████████████████████████████| 1/1 [00:00<00:00, 16.03it/s]\n"
     ]
    },
    {
     "name": "stdout",
     "output_type": "stream",
     "text": [
      "starting calculate_frechet_distance()...\n",
      "104 cw_div4_attack linear-55 10 0.005360198097864975\n",
      "['C:/temp_imgs/cifar/real/105/', 'C:/temp_imgs/cifar/fake/105/']\n",
      "starting calculate_fid_given_paths()...\n",
      "starting _compute_statistics_of_path()...\n",
      "starting calculate_activation_statistics()...\n",
      "starting get_activations()...\n",
      "Warning: number of images is not a multiple of the batch size. Some samples are going to be ignored.\n"
     ]
    },
    {
     "name": "stderr",
     "output_type": "stream",
     "text": [
      "100%|████████████████████████████████████████████████████████████████████████████████████| 1/1 [00:00<00:00, 16.56it/s]\n"
     ]
    },
    {
     "name": "stdout",
     "output_type": "stream",
     "text": [
      "starting _compute_statistics_of_path()...\n",
      "starting calculate_activation_statistics()...\n",
      "starting get_activations()...\n",
      "Warning: number of images is not a multiple of the batch size. Some samples are going to be ignored.\n"
     ]
    },
    {
     "name": "stderr",
     "output_type": "stream",
     "text": [
      "100%|████████████████████████████████████████████████████████████████████████████████████| 1/1 [00:00<00:00, 16.61it/s]\n"
     ]
    },
    {
     "name": "stdout",
     "output_type": "stream",
     "text": [
      "starting calculate_frechet_distance()...\n",
      "105 cw_div4_attack linear-55 100 0.005360674245932989\n",
      "['C:/temp_imgs/cifar/real/106/', 'C:/temp_imgs/cifar/fake/106/']\n",
      "starting calculate_fid_given_paths()...\n",
      "starting _compute_statistics_of_path()...\n",
      "starting calculate_activation_statistics()...\n",
      "starting get_activations()...\n",
      "Warning: number of images is not a multiple of the batch size. Some samples are going to be ignored.\n"
     ]
    },
    {
     "name": "stderr",
     "output_type": "stream",
     "text": [
      "100%|████████████████████████████████████████████████████████████████████████████████████| 1/1 [00:00<00:00, 17.22it/s]\n"
     ]
    },
    {
     "name": "stdout",
     "output_type": "stream",
     "text": [
      "starting _compute_statistics_of_path()...\n",
      "starting calculate_activation_statistics()...\n",
      "starting get_activations()...\n",
      "Warning: number of images is not a multiple of the batch size. Some samples are going to be ignored.\n"
     ]
    },
    {
     "name": "stderr",
     "output_type": "stream",
     "text": [
      "100%|████████████████████████████████████████████████████████████████████████████████████| 1/1 [00:00<00:00, 16.06it/s]\n"
     ]
    },
    {
     "name": "stdout",
     "output_type": "stream",
     "text": [
      "starting calculate_frechet_distance()...\n",
      "106 cw_div4_attack linear-55 100 0.005361491246812442\n",
      "['C:/temp_imgs/cifar/real/107/', 'C:/temp_imgs/cifar/fake/107/']\n",
      "starting calculate_fid_given_paths()...\n",
      "starting _compute_statistics_of_path()...\n",
      "starting calculate_activation_statistics()...\n",
      "starting get_activations()...\n",
      "Warning: number of images is not a multiple of the batch size. Some samples are going to be ignored.\n"
     ]
    },
    {
     "name": "stderr",
     "output_type": "stream",
     "text": [
      "100%|████████████████████████████████████████████████████████████████████████████████████| 1/1 [00:00<00:00, 15.40it/s]\n"
     ]
    },
    {
     "name": "stdout",
     "output_type": "stream",
     "text": [
      "starting _compute_statistics_of_path()...\n",
      "starting calculate_activation_statistics()...\n",
      "starting get_activations()...\n",
      "Warning: number of images is not a multiple of the batch size. Some samples are going to be ignored.\n"
     ]
    },
    {
     "name": "stderr",
     "output_type": "stream",
     "text": [
      "100%|████████████████████████████████████████████████████████████████████████████████████| 1/1 [00:00<00:00, 14.49it/s]\n"
     ]
    },
    {
     "name": "stdout",
     "output_type": "stream",
     "text": [
      "starting calculate_frechet_distance()...\n",
      "107 cw_div4_attack linear-55 100 0.005361559181074786\n"
     ]
    }
   ],
   "source": [
    "for i in range(len(results)):\n",
    "    a = results[i]['attack'] \n",
    "    l = results[i]['layer']\n",
    "    rw = results[i]['regularization_weight']\n",
    "    # FID BLOCK\n",
    "    real_dir = img_root + \"real/\" + str(i) + \"/\"\n",
    "    fake_dir = img_root + \"fake/\" + str(i) + \"/\"\n",
    "    paths = [real_dir, fake_dir]\n",
    "    print(paths)\n",
    "    fid_64 = calculate_fid_given_paths(paths, 64, '0', 64)\n",
    "    results[i]['FID_score64'] = fid_64\n",
    "    print(i, a, l, rw, fid_64) "
   ]
  },
  {
   "cell_type": "markdown",
   "metadata": {},
   "source": [
    "### Reviewing and saving FID results"
   ]
  },
  {
   "cell_type": "code",
   "execution_count": 46,
   "metadata": {},
   "outputs": [],
   "source": [
    "df = pd.DataFrame.from_dict(results)\n",
    "pd.set_option('display.max_rows', None)\n",
    "pd.set_option('precision', 10)\n",
    "target_features = ['attack', 'layer', 'regularization_weight', 'confidence', 'orig_acc', 'pert_acc', 'neuron_coverage', 'inception_score', 'FID_score64', 'FID_score2048']\n",
    "df[target_features].to_clipboard(excel=True)"
   ]
  },
  {
   "cell_type": "code",
   "execution_count": 42,
   "metadata": {},
   "outputs": [],
   "source": [
    "# save the results of the evaluation\n",
    "pickle.dump(results, open( \"assets/results_cifar10_div4.pickle\", \"wb\" ))"
   ]
  },
  {
   "cell_type": "code",
   "execution_count": 39,
   "metadata": {},
   "outputs": [],
   "source": [
    "for i in range(len(results)):\n",
    "    results[i]['adversaries'] = results[i]['adversaries'] / 255"
   ]
  },
  {
   "cell_type": "code",
   "execution_count": 41,
   "metadata": {},
   "outputs": [
    {
     "data": {
      "text/plain": [
       "tensor([[[[0.6215, 0.6250, 0.6493,  ..., 0.5391, 0.4959, 0.4570],\n",
       "          [0.5972, 0.5962, 0.6243,  ..., 0.5352, 0.4923, 0.4685],\n",
       "          [0.5949, 0.5929, 0.6224,  ..., 0.5470, 0.5108, 0.4729],\n",
       "          ...,\n",
       "          [0.2683, 0.1660, 0.1234,  ..., 0.1513, 0.0529, 0.1589],\n",
       "          [0.2413, 0.1951, 0.1392,  ..., 0.1041, 0.1155, 0.0803],\n",
       "          [0.2133, 0.2213, 0.1776,  ..., 0.0964, 0.1348, 0.0844]],\n",
       "\n",
       "         [[0.4404, 0.4371, 0.4571,  ..., 0.3746, 0.3583, 0.3353],\n",
       "          [0.4403, 0.4351, 0.4475,  ..., 0.3752, 0.3584, 0.3469],\n",
       "          [0.4341, 0.4278, 0.4373,  ..., 0.3875, 0.3731, 0.3514],\n",
       "          ...,\n",
       "          [0.4879, 0.3934, 0.3464,  ..., 0.3826, 0.2526, 0.3354],\n",
       "          [0.4572, 0.4031, 0.3350,  ..., 0.3238, 0.3233, 0.2529],\n",
       "          [0.4215, 0.4139, 0.3501,  ..., 0.3042, 0.3309, 0.2651]],\n",
       "\n",
       "         [[0.1941, 0.1858, 0.2028,  ..., 0.1428, 0.1429, 0.1314],\n",
       "          [0.2013, 0.1605, 0.1775,  ..., 0.1233, 0.1275, 0.1354],\n",
       "          [0.1870, 0.1300, 0.1434,  ..., 0.1354, 0.1346, 0.1314],\n",
       "          ...,\n",
       "          [0.6960, 0.5818, 0.5387,  ..., 0.5744, 0.4254, 0.5000],\n",
       "          [0.6609, 0.5829, 0.5194,  ..., 0.5119, 0.4961, 0.4215],\n",
       "          [0.6294, 0.5865, 0.5191,  ..., 0.4883, 0.5076, 0.4336]]],\n",
       "\n",
       "\n",
       "        [[[0.9236, 0.9076, 0.9119,  ..., 0.9157, 0.9157, 0.9117],\n",
       "          [0.9352, 0.9240, 0.9238,  ..., 0.9270, 0.9275, 0.9234],\n",
       "          [0.9315, 0.9190, 0.9187,  ..., 0.9235, 0.9232, 0.9195],\n",
       "          ...,\n",
       "          [0.3431, 0.1708, 0.0762,  ..., 0.6645, 0.7154, 0.7392],\n",
       "          [0.3235, 0.1826, 0.1431,  ..., 0.6852, 0.7272, 0.7354],\n",
       "          [0.3354, 0.2451, 0.2293,  ..., 0.6601, 0.7080, 0.7314]],\n",
       "\n",
       "         [[0.9234, 0.9073, 0.9119,  ..., 0.9155, 0.9158, 0.9118],\n",
       "          [0.9353, 0.9240, 0.9239,  ..., 0.9270, 0.9278, 0.9235],\n",
       "          [0.9316, 0.9193, 0.9188,  ..., 0.9232, 0.9237, 0.9196],\n",
       "          ...,\n",
       "          [0.3900, 0.2021, 0.0920,  ..., 0.7236, 0.7742, 0.7941],\n",
       "          [0.3784, 0.2258, 0.1746,  ..., 0.7442, 0.7864, 0.7942],\n",
       "          [0.3981, 0.2960, 0.2645,  ..., 0.7189, 0.7670, 0.7863]],\n",
       "\n",
       "         [[0.9235, 0.9073, 0.9118,  ..., 0.9157, 0.9157, 0.9118],\n",
       "          [0.9352, 0.9237, 0.9240,  ..., 0.9273, 0.9276, 0.9235],\n",
       "          [0.9315, 0.9195, 0.9192,  ..., 0.9241, 0.9233, 0.9197],\n",
       "          ...,\n",
       "          [0.3508, 0.1471, 0.0450,  ..., 0.7035, 0.7587, 0.7903],\n",
       "          [0.3234, 0.1432, 0.0884,  ..., 0.7203, 0.7704, 0.7863],\n",
       "          [0.3274, 0.1902, 0.1510,  ..., 0.6997, 0.7512, 0.7823]]],\n",
       "\n",
       "\n",
       "        [[[0.6216, 0.6216, 0.5471,  ..., 0.8960, 0.9314, 0.9353],\n",
       "          [0.6686, 0.6764, 0.5941,  ..., 0.9119, 0.9665, 0.9667],\n",
       "          [0.6843, 0.6922, 0.6176,  ..., 0.9039, 0.9821, 0.9627],\n",
       "          ...,\n",
       "          [0.1236, 0.1196, 0.1039,  ..., 0.1470, 0.0373, 0.0176],\n",
       "          [0.0922, 0.1080, 0.1001,  ..., 0.0764, 0.0177, 0.0216],\n",
       "          [0.1117, 0.1195, 0.1275,  ..., 0.0216, 0.0175, 0.0294]],\n",
       "\n",
       "         [[0.7470, 0.7353, 0.6530,  ..., 0.9079, 0.9392, 0.9471],\n",
       "          [0.7863, 0.7823, 0.6921,  ..., 0.9119, 0.9665, 0.9705],\n",
       "          [0.7903, 0.7863, 0.7039,  ..., 0.9001, 0.9784, 0.9588],\n",
       "          ...,\n",
       "          [0.1589, 0.1550, 0.1391,  ..., 0.1588, 0.0530, 0.0292],\n",
       "          [0.1353, 0.1511, 0.1432,  ..., 0.0803, 0.0256, 0.0294],\n",
       "          [0.1627, 0.1705, 0.1785,  ..., 0.0257, 0.0215, 0.0333]],\n",
       "\n",
       "         [[0.8725, 0.8569, 0.7628,  ..., 0.9196, 0.9549, 0.9667],\n",
       "          [0.9000, 0.8882, 0.7902,  ..., 0.9275, 0.9820, 0.9857],\n",
       "          [0.8844, 0.8726, 0.7823,  ..., 0.9118, 0.9857, 0.9705],\n",
       "          ...,\n",
       "          [0.1784, 0.1745, 0.1587,  ..., 0.1823, 0.0569, 0.0216],\n",
       "          [0.1549, 0.1707, 0.1628,  ..., 0.0960, 0.0138, 0.0137],\n",
       "          [0.1862, 0.1980, 0.2059,  ..., 0.0334, 0.0138, 0.0293]]],\n",
       "\n",
       "\n",
       "        ...,\n",
       "\n",
       "\n",
       "        [[[0.5195, 0.5234, 0.5312,  ..., 0.5117, 0.5116, 0.5117],\n",
       "          [0.5430, 0.5468, 0.5468,  ..., 0.5233, 0.5196, 0.5155],\n",
       "          [0.5469, 0.5469, 0.5549,  ..., 0.5197, 0.5153, 0.5156],\n",
       "          ...,\n",
       "          [0.0921, 0.0766, 0.0998,  ..., 0.5308, 0.5313, 0.5312],\n",
       "          [0.0687, 0.0571, 0.0686,  ..., 0.5391, 0.5390, 0.5390],\n",
       "          [0.0529, 0.0529, 0.0569,  ..., 0.5272, 0.5273, 0.5273]],\n",
       "\n",
       "         [[0.5312, 0.5390, 0.5469,  ..., 0.5429, 0.5390, 0.5390],\n",
       "          [0.5508, 0.5546, 0.5547,  ..., 0.5507, 0.5470, 0.5429],\n",
       "          [0.5508, 0.5508, 0.5549,  ..., 0.5470, 0.5427, 0.5391],\n",
       "          ...,\n",
       "          [0.1510, 0.1315, 0.1508,  ..., 0.5385, 0.5431, 0.5390],\n",
       "          [0.1195, 0.1040, 0.1195,  ..., 0.5430, 0.5430, 0.5429],\n",
       "          [0.0961, 0.0960, 0.1000,  ..., 0.5350, 0.5351, 0.5351]],\n",
       "\n",
       "         [[0.5861, 0.5899, 0.5939,  ..., 0.5939, 0.5978, 0.5979],\n",
       "          [0.5978, 0.6018, 0.6017,  ..., 0.6017, 0.6020, 0.6017],\n",
       "          [0.5940, 0.5938, 0.6020,  ..., 0.5941, 0.5937, 0.5940],\n",
       "          ...,\n",
       "          [0.0686, 0.0414, 0.0724,  ..., 0.5701, 0.5705, 0.5703],\n",
       "          [0.0530, 0.0452, 0.0491,  ..., 0.5744, 0.5743, 0.5743],\n",
       "          [0.0334, 0.0413, 0.0412,  ..., 0.5664, 0.5625, 0.5625]]],\n",
       "\n",
       "\n",
       "        [[[0.9989, 0.9992, 0.9994,  ..., 0.9990, 0.9992, 0.9992],\n",
       "          [0.9984, 0.9980, 0.9878,  ..., 0.9968, 0.9972, 0.9969],\n",
       "          [0.9991, 0.9965, 0.9989,  ..., 0.9989, 0.9993, 0.9991],\n",
       "          ...,\n",
       "          [0.9992, 0.9972, 0.9986,  ..., 0.9993, 0.9991, 0.9991],\n",
       "          [0.9992, 0.9972, 0.9984,  ..., 0.9992, 0.9991, 0.9992],\n",
       "          [0.9991, 0.9970, 0.9990,  ..., 0.9991, 0.9992, 0.9991]],\n",
       "\n",
       "         [[0.9991, 0.9994, 0.9986,  ..., 0.9989, 0.9992, 0.9991],\n",
       "          [0.9992, 0.9986, 0.9877,  ..., 0.9967, 0.9974, 0.9969],\n",
       "          [0.9994, 0.9976, 0.9995,  ..., 0.9987, 0.9994, 0.9992],\n",
       "          ...,\n",
       "          [0.9992, 0.9971, 0.9988,  ..., 0.9993, 0.9991, 0.9991],\n",
       "          [0.9992, 0.9973, 0.9986,  ..., 0.9992, 0.9991, 0.9991],\n",
       "          [0.9991, 0.9970, 0.9991,  ..., 0.9991, 0.9992, 0.9991]],\n",
       "\n",
       "         [[0.9989, 0.9991, 0.9992,  ..., 0.9990, 0.9992, 0.9992],\n",
       "          [0.9987, 0.9984, 0.9891,  ..., 0.9966, 0.9972, 0.9970],\n",
       "          [0.9993, 0.9975, 0.9990,  ..., 0.9989, 0.9993, 0.9992],\n",
       "          ...,\n",
       "          [0.9991, 0.9973, 0.9989,  ..., 0.9992, 0.9991, 0.9991],\n",
       "          [0.9991, 0.9973, 0.9988,  ..., 0.9992, 0.9991, 0.9991],\n",
       "          [0.9991, 0.9971, 0.9990,  ..., 0.9992, 0.9992, 0.9991]]],\n",
       "\n",
       "\n",
       "        [[[0.9197, 0.9350, 0.9395,  ..., 0.9667, 0.9745, 0.9785],\n",
       "          [0.9001, 0.9136, 0.9151,  ..., 0.9584, 0.9667, 0.9745],\n",
       "          [0.9078, 0.9139, 0.9152,  ..., 0.9834, 0.9860, 0.9902],\n",
       "          ...,\n",
       "          [0.4526, 0.4221, 0.4155,  ..., 0.8876, 0.8333, 0.8528],\n",
       "          [0.4453, 0.4060, 0.3895,  ..., 0.8453, 0.8100, 0.8138],\n",
       "          [0.4170, 0.4150, 0.4045,  ..., 0.7983, 0.8373, 0.7823]],\n",
       "\n",
       "         [[0.9157, 0.9312, 0.9352,  ..., 0.9588, 0.9667, 0.9745],\n",
       "          [0.8963, 0.9097, 0.9112,  ..., 0.9507, 0.9588, 0.9666],\n",
       "          [0.9039, 0.9101, 0.9112,  ..., 0.9754, 0.9784, 0.9862],\n",
       "          ...,\n",
       "          [0.2955, 0.2847, 0.2776,  ..., 0.7780, 0.6920, 0.7116],\n",
       "          [0.2922, 0.2772, 0.2718,  ..., 0.7512, 0.7157, 0.6961],\n",
       "          [0.2796, 0.2858, 0.2829,  ..., 0.7001, 0.7588, 0.7000]],\n",
       "\n",
       "         [[0.9351, 0.9464, 0.9511,  ..., 0.9707, 0.9784, 0.9863],\n",
       "          [0.9155, 0.9287, 0.9311,  ..., 0.9623, 0.9706, 0.9744],\n",
       "          [0.9275, 0.9344, 0.9353,  ..., 0.9831, 0.9861, 0.9901],\n",
       "          ...,\n",
       "          [0.2174, 0.2179, 0.2201,  ..., 0.5937, 0.5039, 0.5155],\n",
       "          [0.2178, 0.2180, 0.2174,  ..., 0.5433, 0.5041, 0.5078],\n",
       "          [0.2132, 0.2265, 0.2206,  ..., 0.4922, 0.5393, 0.5000]]]],\n",
       "       device='cuda:0', grad_fn=<DivBackward0>)"
      ]
     },
     "execution_count": 41,
     "metadata": {},
     "output_type": "execute_result"
    }
   ],
   "source": [
    "results[0]['adversaries']"
   ]
  },
  {
   "cell_type": "code",
   "execution_count": null,
   "metadata": {},
   "outputs": [],
   "source": []
  }
 ],
 "metadata": {
  "accelerator": "GPU",
  "colab": {
   "collapsed_sections": [],
   "name": "CW_div_pytorch.ipynb",
   "provenance": [],
   "toc_visible": true,
   "version": "0.3.2"
  },
  "kernelspec": {
   "display_name": "Python 3",
   "language": "python",
   "name": "python3"
  },
  "language_info": {
   "codemirror_mode": {
    "name": "ipython",
    "version": 3
   },
   "file_extension": ".py",
   "mimetype": "text/x-python",
   "name": "python",
   "nbconvert_exporter": "python",
   "pygments_lexer": "ipython3",
   "version": "3.6.9"
  }
 },
 "nbformat": 4,
 "nbformat_minor": 1
}
